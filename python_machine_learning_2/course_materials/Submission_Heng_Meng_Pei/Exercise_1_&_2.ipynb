{
 "cells": [
  {
   "cell_type": "markdown",
   "id": "c95cd70e",
   "metadata": {},
   "source": [
    "# Exercise 1: \n",
    "  develop a program to ask you as the user to consider an integer number between 0 and 100, \n",
    "    then computer should ask you a series of questions and finding that number by dividing the ranges by 2. \n",
    "    e.g., is it bigger than 50? etc....."
   ]
  },
  {
   "cell_type": "code",
   "execution_count": 4,
   "id": "599021bd",
   "metadata": {},
   "outputs": [
    {
     "name": "stdout",
     "output_type": "stream",
     "text": [
      "Is the number bigger than 50\n",
      "Enter 1 (yes), 0 (no) \n",
      "0\n",
      "Is the number bigger than 25\n",
      "Enter 1 (yes), 0 (no) \n",
      "0\n",
      "Is the number bigger than 12\n",
      "Enter 1 (yes), 0 (no) \n",
      "1\n",
      "Is the number bigger than 18\n",
      "Enter 1 (yes), 0 (no) \n",
      "1\n",
      "Is the number bigger than 21\n",
      "Enter 1 (yes), 0 (no) \n",
      "1\n",
      "Is the number bigger than 23\n",
      "Enter 1 (yes), 0 (no) \n",
      "0\n",
      "Is the number bigger than 22\n",
      "Enter 1 (yes), 0 (no) \n",
      "1\n",
      "Is the number bigger than 22\n",
      "Enter 1 (yes), 0 (no) \n",
      "1\n",
      "Is the number bigger than 22\n",
      "Enter 1 (yes), 0 (no) \n",
      "0\n",
      "The correct number is  22 !\n"
     ]
    }
   ],
   "source": [
    "result = 50\n",
    "upperb = 101\n",
    "lowerb = -1\n",
    "answer = 0\n",
    "correct = 0\n",
    "while(not correct and result != 0):\n",
    "    string_1 = \"\\nEnter 1 (yes), 0 (no) \\n\"\n",
    "\n",
    "    string_2 = \"Is the number equal to \" + str(result) + string_1\n",
    "    correct = int(input(string_2))\n",
    "    if(correct):\n",
    "        break    \n",
    "    \n",
    "    string_3 = \"Is the number bigger than \" + str(result) + string_1\n",
    "    answer = int(input(string_3))\n",
    "    if(not answer):\n",
    "        upperb = min(upperb, result)\n",
    "        result = result - (result - lowerb)//2\n",
    "    else:\n",
    "        lowerb = max(lowerb, result)\n",
    "        result = result + (upperb - result)//2\n",
    "        \n",
    "print(\"The correct number is \", result, \"!\")"
   ]
  },
  {
   "cell_type": "markdown",
   "id": "bef12735",
   "metadata": {},
   "source": [
    "# Exercise 2: \n",
    "  develop a program to read the area of a circle from the input, compute the radius of that circle, and print it nicely, then read the area of the next circle and continue till the entered area is a negative number"
   ]
  },
  {
   "cell_type": "code",
   "execution_count": 11,
   "id": "3a6e36e2",
   "metadata": {},
   "outputs": [
    {
     "name": "stdout",
     "output_type": "stream",
     "text": [
      "Enter area of a circle: 123\n",
      "The radius is  6.256759552823327 \n",
      "\n",
      "Enter area of a circle: 32\n",
      "The radius is  3.1913313520933912 \n",
      "\n",
      "Enter area of a circle: 123\n",
      "The radius is  6.256759552823327 \n",
      "\n",
      "Enter area of a circle: 435\n",
      "The radius is  11.766343915621146 \n",
      "\n",
      "Enter area of a circle: -234\n"
     ]
    }
   ],
   "source": [
    "import math\n",
    "# Ask for area input the first time\n",
    "area = float( input('Enter area of a circle: ') )\n",
    "\n",
    "# while input is not negative\n",
    "while(area>0):\n",
    "\n",
    "    # Calculate the radius | area = pi * r * r | r = sqrt(area/pi)\n",
    "    radius = math.sqrt(area/3.142)\n",
    "    print(\"The radius is \", radius, \"\\n\")\n",
    "    area = float( input('Enter area of a circle: ') )\n",
    "\n"
   ]
  }
 ],
 "metadata": {
  "kernelspec": {
   "display_name": "Python 3 (ipykernel)",
   "language": "python",
   "name": "python3"
  },
  "language_info": {
   "codemirror_mode": {
    "name": "ipython",
    "version": 3
   },
   "file_extension": ".py",
   "mimetype": "text/x-python",
   "name": "python",
   "nbconvert_exporter": "python",
   "pygments_lexer": "ipython3",
   "version": "3.8.10"
  }
 },
 "nbformat": 4,
 "nbformat_minor": 5
}
