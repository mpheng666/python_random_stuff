{
 "cells": [
  {
   "cell_type": "markdown",
   "id": "11082973",
   "metadata": {},
   "source": [
    "## Exercise 3\n",
    "### Data preparation, and visualization\n",
    "### Complete this notebook and upload it before the deadline please"
   ]
  },
  {
   "cell_type": "code",
   "execution_count": 1,
   "id": "0dc11ba7",
   "metadata": {},
   "outputs": [
    {
     "data": {
      "text/plain": [
       "' \\n1- READ THE contents of celeb1-bad.csv   \\n2- Realize which variables have got empty cells\\n3- Remove any data samples with empty cell/cells\\n4- Prove that dataset is OK now\\n5- Save it as celebs1-good1.csv\\n\\n'"
      ]
     },
     "execution_count": 1,
     "metadata": {},
     "output_type": "execute_result"
    }
   ],
   "source": [
    "''' \n",
    "1- READ THE contents of celeb1-bad.csv   \n",
    "2- Realize which variables have got empty cells\n",
    "3- Remove any data samples with empty cell/cells\n",
    "4- Prove that dataset is OK now\n",
    "5- Save it as celebs1-good1.csv\n",
    "\n",
    "'''"
   ]
  },
  {
   "cell_type": "code",
   "execution_count": 2,
   "id": "27ead03f",
   "metadata": {},
   "outputs": [],
   "source": [
    "import numpy as np\n",
    "import pandas as pd\n",
    "import matplotlib.pyplot as plt"
   ]
  },
  {
   "cell_type": "code",
   "execution_count": 3,
   "id": "acbc2f53",
   "metadata": {},
   "outputs": [
    {
     "data": {
      "text/html": [
       "<div>\n",
       "<style scoped>\n",
       "    .dataframe tbody tr th:only-of-type {\n",
       "        vertical-align: middle;\n",
       "    }\n",
       "\n",
       "    .dataframe tbody tr th {\n",
       "        vertical-align: top;\n",
       "    }\n",
       "\n",
       "    .dataframe thead th {\n",
       "        text-align: right;\n",
       "    }\n",
       "</style>\n",
       "<table border=\"1\" class=\"dataframe\">\n",
       "  <thead>\n",
       "    <tr style=\"text-align: right;\">\n",
       "      <th></th>\n",
       "      <th>name</th>\n",
       "      <th>height</th>\n",
       "      <th>weight</th>\n",
       "      <th>gender</th>\n",
       "    </tr>\n",
       "  </thead>\n",
       "  <tbody>\n",
       "    <tr>\n",
       "      <th>0</th>\n",
       "      <td>Adriana Lima</td>\n",
       "      <td>177.80</td>\n",
       "      <td>115.0</td>\n",
       "      <td>f</td>\n",
       "    </tr>\n",
       "    <tr>\n",
       "      <th>1</th>\n",
       "      <td>Alicia Keys</td>\n",
       "      <td>167.64</td>\n",
       "      <td>120.0</td>\n",
       "      <td>f</td>\n",
       "    </tr>\n",
       "    <tr>\n",
       "      <th>2</th>\n",
       "      <td>Angelina Jolie</td>\n",
       "      <td>172.70</td>\n",
       "      <td>122.0</td>\n",
       "      <td>f</td>\n",
       "    </tr>\n",
       "    <tr>\n",
       "      <th>3</th>\n",
       "      <td>Anna Kournikova</td>\n",
       "      <td>172.70</td>\n",
       "      <td>120.0</td>\n",
       "      <td>f</td>\n",
       "    </tr>\n",
       "    <tr>\n",
       "      <th>4</th>\n",
       "      <td>Ashley Judd</td>\n",
       "      <td>170.20</td>\n",
       "      <td>125.0</td>\n",
       "      <td>f</td>\n",
       "    </tr>\n",
       "    <tr>\n",
       "      <th>5</th>\n",
       "      <td>Avril Lavigne</td>\n",
       "      <td>157.50</td>\n",
       "      <td>113.0</td>\n",
       "      <td>f</td>\n",
       "    </tr>\n",
       "    <tr>\n",
       "      <th>6</th>\n",
       "      <td>Bar Rafaeli</td>\n",
       "      <td>174.00</td>\n",
       "      <td>128.0</td>\n",
       "      <td>f</td>\n",
       "    </tr>\n",
       "    <tr>\n",
       "      <th>7</th>\n",
       "      <td>Beyonce Knowles</td>\n",
       "      <td>167.60</td>\n",
       "      <td>129.0</td>\n",
       "      <td>f</td>\n",
       "    </tr>\n",
       "    <tr>\n",
       "      <th>8</th>\n",
       "      <td>Blake Lively</td>\n",
       "      <td>172.70</td>\n",
       "      <td>NaN</td>\n",
       "      <td>f</td>\n",
       "    </tr>\n",
       "    <tr>\n",
       "      <th>9</th>\n",
       "      <td>Carmen Electra</td>\n",
       "      <td>160.00</td>\n",
       "      <td>113.0</td>\n",
       "      <td>f</td>\n",
       "    </tr>\n",
       "  </tbody>\n",
       "</table>\n",
       "</div>"
      ],
      "text/plain": [
       "              name  height  weight gender\n",
       "0     Adriana Lima  177.80   115.0      f\n",
       "1      Alicia Keys  167.64   120.0      f\n",
       "2   Angelina Jolie  172.70   122.0      f\n",
       "3  Anna Kournikova  172.70   120.0      f\n",
       "4      Ashley Judd  170.20   125.0      f\n",
       "5    Avril Lavigne  157.50   113.0      f\n",
       "6      Bar Rafaeli  174.00   128.0      f\n",
       "7  Beyonce Knowles  167.60   129.0      f\n",
       "8     Blake Lively  172.70     NaN      f\n",
       "9   Carmen Electra  160.00   113.0      f"
      ]
     },
     "execution_count": 3,
     "metadata": {},
     "output_type": "execute_result"
    }
   ],
   "source": [
    "df = pd.read_csv(\"celebs1-bad.csv\", encoding_errors='ignore')\n",
    "df.head(10)"
   ]
  },
  {
   "cell_type": "code",
   "execution_count": 4,
   "id": "24b9440c",
   "metadata": {},
   "outputs": [
    {
     "name": "stdout",
     "output_type": "stream",
     "text": [
      "name has NO missing value!\n",
      "height has 2 missing value(s)\n",
      "weight has 3 missing value(s)\n",
      "gender has NO missing value!\n"
     ]
    }
   ],
   "source": [
    "for c in df.columns:\n",
    "    miss = df[c].isnull().sum()\n",
    "    if miss>0:\n",
    "        print(\"{} has {} missing value(s)\".format(c,miss))\n",
    "    else:\n",
    "        print(\"{} has NO missing value!\".format(c))"
   ]
  },
  {
   "cell_type": "code",
   "execution_count": 5,
   "id": "52990964",
   "metadata": {},
   "outputs": [],
   "source": [
    "df.dropna(axis=1, inplace=True)"
   ]
  },
  {
   "cell_type": "code",
   "execution_count": 6,
   "id": "86711b38",
   "metadata": {},
   "outputs": [
    {
     "name": "stdout",
     "output_type": "stream",
     "text": [
      "name has NO missing value!\n",
      "gender has NO missing value!\n"
     ]
    }
   ],
   "source": [
    "for c in df.columns:\n",
    "    miss = df[c].isnull().sum()\n",
    "    if miss>0:\n",
    "        print(\"{} has {} missing value(s)\".format(c,miss))\n",
    "    else:\n",
    "        print(\"{} has NO missing value!\".format(c))"
   ]
  },
  {
   "cell_type": "code",
   "execution_count": 7,
   "id": "4ab09e83",
   "metadata": {},
   "outputs": [],
   "source": [
    "df = pd.read_csv(\"celebs1-good1.csv\")"
   ]
  },
  {
   "cell_type": "code",
   "execution_count": 8,
   "id": "4d585251",
   "metadata": {},
   "outputs": [
    {
     "data": {
      "text/plain": [
       "\" \\n1- READ THE contents of celeb1-bad.csv   \\n2- Realize which variables have got empty cells\\n3- Replace any empty cell with the average of its column\\n4- Prove that dataset is OK now\\n5- Weights are in Pounds now, convert them to kG and replace the same column\\n6- Gender are 'f' and 'm' now, replace them with 0.1 and 0.9 respectively\\n7- Show the histogram of all 3 non-nominal variables, and the pie chart of the 'gender' variable\\n8- Print the mean of all 3 non-nominal variables.\\n9- Save the results on celebs1-good2.csv\\n\\n\""
      ]
     },
     "execution_count": 8,
     "metadata": {},
     "output_type": "execute_result"
    }
   ],
   "source": [
    "''' \n",
    "1- READ THE contents of celeb1-bad.csv   \n",
    "2- Realize which variables have got empty cells\n",
    "3- Replace any empty cell with the average of its column\n",
    "4- Prove that dataset is OK now\n",
    "5- Weights are in Pounds now, convert them to kG and replace the same column\n",
    "6- Gender are 'f' and 'm' now, replace them with 0.1 and 0.9 respectively\n",
    "7- Show the histogram of all 3 non-nominal variables, and the pie chart of the 'gender' variable\n",
    "8- Print the mean of all 3 non-nominal variables.\n",
    "9- Save the results on celebs1-good2.csv\n",
    "\n",
    "'''"
   ]
  },
  {
   "cell_type": "code",
   "execution_count": 9,
   "id": "d147a225",
   "metadata": {},
   "outputs": [
    {
     "data": {
      "text/html": [
       "<div>\n",
       "<style scoped>\n",
       "    .dataframe tbody tr th:only-of-type {\n",
       "        vertical-align: middle;\n",
       "    }\n",
       "\n",
       "    .dataframe tbody tr th {\n",
       "        vertical-align: top;\n",
       "    }\n",
       "\n",
       "    .dataframe thead th {\n",
       "        text-align: right;\n",
       "    }\n",
       "</style>\n",
       "<table border=\"1\" class=\"dataframe\">\n",
       "  <thead>\n",
       "    <tr style=\"text-align: right;\">\n",
       "      <th></th>\n",
       "      <th>name</th>\n",
       "      <th>height</th>\n",
       "      <th>weight</th>\n",
       "      <th>gender</th>\n",
       "    </tr>\n",
       "  </thead>\n",
       "  <tbody>\n",
       "    <tr>\n",
       "      <th>0</th>\n",
       "      <td>Adriana Lima</td>\n",
       "      <td>177.80</td>\n",
       "      <td>115.0</td>\n",
       "      <td>f</td>\n",
       "    </tr>\n",
       "    <tr>\n",
       "      <th>1</th>\n",
       "      <td>Alicia Keys</td>\n",
       "      <td>167.64</td>\n",
       "      <td>120.0</td>\n",
       "      <td>f</td>\n",
       "    </tr>\n",
       "    <tr>\n",
       "      <th>2</th>\n",
       "      <td>Angelina Jolie</td>\n",
       "      <td>172.70</td>\n",
       "      <td>122.0</td>\n",
       "      <td>f</td>\n",
       "    </tr>\n",
       "    <tr>\n",
       "      <th>3</th>\n",
       "      <td>Anna Kournikova</td>\n",
       "      <td>172.70</td>\n",
       "      <td>120.0</td>\n",
       "      <td>f</td>\n",
       "    </tr>\n",
       "    <tr>\n",
       "      <th>4</th>\n",
       "      <td>Ashley Judd</td>\n",
       "      <td>170.20</td>\n",
       "      <td>125.0</td>\n",
       "      <td>f</td>\n",
       "    </tr>\n",
       "    <tr>\n",
       "      <th>5</th>\n",
       "      <td>Avril Lavigne</td>\n",
       "      <td>157.50</td>\n",
       "      <td>113.0</td>\n",
       "      <td>f</td>\n",
       "    </tr>\n",
       "    <tr>\n",
       "      <th>6</th>\n",
       "      <td>Bar Rafaeli</td>\n",
       "      <td>174.00</td>\n",
       "      <td>128.0</td>\n",
       "      <td>f</td>\n",
       "    </tr>\n",
       "    <tr>\n",
       "      <th>7</th>\n",
       "      <td>Beyonce Knowles</td>\n",
       "      <td>167.60</td>\n",
       "      <td>129.0</td>\n",
       "      <td>f</td>\n",
       "    </tr>\n",
       "    <tr>\n",
       "      <th>8</th>\n",
       "      <td>Blake Lively</td>\n",
       "      <td>172.70</td>\n",
       "      <td>NaN</td>\n",
       "      <td>f</td>\n",
       "    </tr>\n",
       "    <tr>\n",
       "      <th>9</th>\n",
       "      <td>Carmen Electra</td>\n",
       "      <td>160.00</td>\n",
       "      <td>113.0</td>\n",
       "      <td>f</td>\n",
       "    </tr>\n",
       "  </tbody>\n",
       "</table>\n",
       "</div>"
      ],
      "text/plain": [
       "              name  height  weight gender\n",
       "0     Adriana Lima  177.80   115.0      f\n",
       "1      Alicia Keys  167.64   120.0      f\n",
       "2   Angelina Jolie  172.70   122.0      f\n",
       "3  Anna Kournikova  172.70   120.0      f\n",
       "4      Ashley Judd  170.20   125.0      f\n",
       "5    Avril Lavigne  157.50   113.0      f\n",
       "6      Bar Rafaeli  174.00   128.0      f\n",
       "7  Beyonce Knowles  167.60   129.0      f\n",
       "8     Blake Lively  172.70     NaN      f\n",
       "9   Carmen Electra  160.00   113.0      f"
      ]
     },
     "execution_count": 9,
     "metadata": {},
     "output_type": "execute_result"
    }
   ],
   "source": [
    "df = pd.read_csv(\"celebs1-bad.csv\", encoding_errors='ignore')\n",
    "df.head(10)"
   ]
  },
  {
   "cell_type": "code",
   "execution_count": 10,
   "id": "6c093aec",
   "metadata": {},
   "outputs": [
    {
     "name": "stdout",
     "output_type": "stream",
     "text": [
      "name has NO missing value!\n",
      "height has 2 missing value(s)\n",
      "weight has 3 missing value(s)\n",
      "gender has NO missing value!\n"
     ]
    }
   ],
   "source": [
    "missing_columns = []\n",
    "for c in df.columns:\n",
    "    miss = df[c].isnull().sum()\n",
    "    if miss>0:\n",
    "        missing_columns.append(c)\n",
    "        print(\"{} has {} missing value(s)\".format(c,miss))\n",
    "    else:\n",
    "        print(\"{} has NO missing value!\".format(c))      "
   ]
  },
  {
   "cell_type": "code",
   "execution_count": 11,
   "id": "46e82f2b",
   "metadata": {},
   "outputs": [
    {
     "name": "stdout",
     "output_type": "stream",
     "text": [
      "['height', 'weight']\n"
     ]
    }
   ],
   "source": [
    "print(missing_columns)"
   ]
  },
  {
   "cell_type": "code",
   "execution_count": 12,
   "id": "4f97f2c7",
   "metadata": {},
   "outputs": [],
   "source": [
    "for i in missing_columns:\n",
    "    df[i].fillna(df[i].mean(), inplace = True)  "
   ]
  },
  {
   "cell_type": "code",
   "execution_count": 13,
   "id": "20e0c937",
   "metadata": {},
   "outputs": [
    {
     "name": "stdout",
     "output_type": "stream",
     "text": [
      "name has NO missing value!\n",
      "height has NO missing value!\n",
      "weight has NO missing value!\n",
      "gender has NO missing value!\n"
     ]
    }
   ],
   "source": [
    "for c in df.columns:\n",
    "    miss = df[c].isnull().sum()\n",
    "    if miss>0:\n",
    "        print(\"{} has {} missing value(s)\".format(c,miss))\n",
    "    else:\n",
    "        print(\"{} has NO missing value!\".format(c))"
   ]
  },
  {
   "cell_type": "code",
   "execution_count": 14,
   "id": "62a2b79f",
   "metadata": {},
   "outputs": [],
   "source": [
    "poundtokg = 0.45359237\n",
    "df['weight'] = df['weight'] * poundtokg"
   ]
  },
  {
   "cell_type": "code",
   "execution_count": 15,
   "id": "bef33887",
   "metadata": {},
   "outputs": [
    {
     "data": {
      "text/plain": [
       "0     52.163123\n",
       "1     54.431084\n",
       "2     55.338269\n",
       "3     54.431084\n",
       "4     56.699046\n",
       "        ...    \n",
       "86    77.110703\n",
       "87    70.306817\n",
       "88    68.946040\n",
       "89    63.049339\n",
       "90    81.646627\n",
       "Name: weight, Length: 91, dtype: float64"
      ]
     },
     "execution_count": 15,
     "metadata": {},
     "output_type": "execute_result"
    }
   ],
   "source": [
    "df['weight']"
   ]
  },
  {
   "cell_type": "code",
   "execution_count": 16,
   "id": "18eea39b",
   "metadata": {},
   "outputs": [
    {
     "data": {
      "text/html": [
       "<div>\n",
       "<style scoped>\n",
       "    .dataframe tbody tr th:only-of-type {\n",
       "        vertical-align: middle;\n",
       "    }\n",
       "\n",
       "    .dataframe tbody tr th {\n",
       "        vertical-align: top;\n",
       "    }\n",
       "\n",
       "    .dataframe thead th {\n",
       "        text-align: right;\n",
       "    }\n",
       "</style>\n",
       "<table border=\"1\" class=\"dataframe\">\n",
       "  <thead>\n",
       "    <tr style=\"text-align: right;\">\n",
       "      <th></th>\n",
       "      <th>name</th>\n",
       "      <th>height</th>\n",
       "      <th>weight</th>\n",
       "      <th>gender</th>\n",
       "    </tr>\n",
       "  </thead>\n",
       "  <tbody>\n",
       "    <tr>\n",
       "      <th>0</th>\n",
       "      <td>Adriana Lima</td>\n",
       "      <td>177.80</td>\n",
       "      <td>52.163123</td>\n",
       "      <td>0.1</td>\n",
       "    </tr>\n",
       "    <tr>\n",
       "      <th>1</th>\n",
       "      <td>Alicia Keys</td>\n",
       "      <td>167.64</td>\n",
       "      <td>54.431084</td>\n",
       "      <td>0.1</td>\n",
       "    </tr>\n",
       "    <tr>\n",
       "      <th>2</th>\n",
       "      <td>Angelina Jolie</td>\n",
       "      <td>172.70</td>\n",
       "      <td>55.338269</td>\n",
       "      <td>0.1</td>\n",
       "    </tr>\n",
       "    <tr>\n",
       "      <th>3</th>\n",
       "      <td>Anna Kournikova</td>\n",
       "      <td>172.70</td>\n",
       "      <td>54.431084</td>\n",
       "      <td>0.1</td>\n",
       "    </tr>\n",
       "    <tr>\n",
       "      <th>4</th>\n",
       "      <td>Ashley Judd</td>\n",
       "      <td>170.20</td>\n",
       "      <td>56.699046</td>\n",
       "      <td>0.1</td>\n",
       "    </tr>\n",
       "    <tr>\n",
       "      <th>...</th>\n",
       "      <td>...</td>\n",
       "      <td>...</td>\n",
       "      <td>...</td>\n",
       "      <td>...</td>\n",
       "    </tr>\n",
       "    <tr>\n",
       "      <th>86</th>\n",
       "      <td>John Wayne</td>\n",
       "      <td>193.00</td>\n",
       "      <td>77.110703</td>\n",
       "      <td>0.9</td>\n",
       "    </tr>\n",
       "    <tr>\n",
       "      <th>87</th>\n",
       "      <td>Henry Fonda</td>\n",
       "      <td>187.00</td>\n",
       "      <td>70.306817</td>\n",
       "      <td>0.9</td>\n",
       "    </tr>\n",
       "    <tr>\n",
       "      <th>88</th>\n",
       "      <td>Kirk Douglas</td>\n",
       "      <td>175.30</td>\n",
       "      <td>68.946040</td>\n",
       "      <td>0.9</td>\n",
       "    </tr>\n",
       "    <tr>\n",
       "      <th>89</th>\n",
       "      <td>Michael Douglas</td>\n",
       "      <td>178.00</td>\n",
       "      <td>63.049339</td>\n",
       "      <td>0.9</td>\n",
       "    </tr>\n",
       "    <tr>\n",
       "      <th>90</th>\n",
       "      <td>Burt Lancaster</td>\n",
       "      <td>188.00</td>\n",
       "      <td>81.646627</td>\n",
       "      <td>0.9</td>\n",
       "    </tr>\n",
       "  </tbody>\n",
       "</table>\n",
       "<p>91 rows × 4 columns</p>\n",
       "</div>"
      ],
      "text/plain": [
       "               name  height     weight  gender\n",
       "0      Adriana Lima  177.80  52.163123     0.1\n",
       "1       Alicia Keys  167.64  54.431084     0.1\n",
       "2    Angelina Jolie  172.70  55.338269     0.1\n",
       "3   Anna Kournikova  172.70  54.431084     0.1\n",
       "4       Ashley Judd  170.20  56.699046     0.1\n",
       "..              ...     ...        ...     ...\n",
       "86       John Wayne  193.00  77.110703     0.9\n",
       "87      Henry Fonda  187.00  70.306817     0.9\n",
       "88     Kirk Douglas  175.30  68.946040     0.9\n",
       "89  Michael Douglas  178.00  63.049339     0.9\n",
       "90   Burt Lancaster  188.00  81.646627     0.9\n",
       "\n",
       "[91 rows x 4 columns]"
      ]
     },
     "execution_count": 16,
     "metadata": {},
     "output_type": "execute_result"
    }
   ],
   "source": [
    "df['gender'] = df['gender'].replace(['f','m'],[0.1,0.9])\n",
    "df"
   ]
  },
  {
   "cell_type": "code",
   "execution_count": 17,
   "id": "0ce149ef",
   "metadata": {},
   "outputs": [
    {
     "data": {
      "image/png": "[encoded data removed]",
      "text/plain": [
       "<Figure size 504x360 with 1 Axes>"
      ]
     },
     "metadata": {
      "needs_background": "light"
     },
     "output_type": "display_data"
    }
   ],
   "source": [
    "import matplotlib.pyplot as plt\n",
    "import numpy as np\n",
    "plt.figure(figsize=(7,5))\n",
    "# Main plot function 'hist'\n",
    "plt.hist(df['height'],color='red',edgecolor='k', alpha=0.75,bins=50)\n",
    "plt.title(\"Histogram of height\",fontsize=18)\n",
    "plt.xlabel(\"height in cm\",fontsize=15)\n",
    "plt.xticks(fontsize=15)\n",
    "plt.yticks(fontsize=15)\n",
    "plt.show()"
   ]
  },
  {
   "cell_type": "code",
   "execution_count": 17,
   "id": "e559c970",
   "metadata": {},
   "outputs": [
    {
     "data": {
      "image/png": "[encoded data removed]",
      "text/plain": [
       "<Figure size 432x288 with 1 Axes>"
      ]
     },
     "metadata": {
      "needs_background": "light"
     },
     "output_type": "display_data"
    }
   ],
   "source": [
    "plt.hist(df['weight'],color='red',edgecolor='k', alpha=0.75,bins=50)\n",
    "plt.title(\"Histogram of weight\",fontsize=18)\n",
    "plt.xlabel(\"Weight in kgs\",fontsize=15)\n",
    "plt.xticks(fontsize=15)\n",
    "plt.yticks(fontsize=15)\n",
    "plt.show()"
   ]
  },
  {
   "cell_type": "code",
   "execution_count": 18,
   "id": "d9f2363a",
   "metadata": {},
   "outputs": [
    {
     "data": {
      "image/png": "[encoded data removed]",
      "text/plain": [
       "<Figure size 432x288 with 1 Axes>"
      ]
     },
     "metadata": {
      "needs_background": "light"
     },
     "output_type": "display_data"
    }
   ],
   "source": [
    "plt.hist(df['gender'],color='red',edgecolor='k', alpha=0.75,bins=2)\n",
    "plt.title(\"Histogram of gender\",fontsize=18)\n",
    "plt.xlabel(\"gender\",fontsize=15)\n",
    "plt.xticks(fontsize=15)\n",
    "plt.yticks(fontsize=15)\n",
    "plt.show()"
   ]
  },
  {
   "cell_type": "code",
   "execution_count": 18,
   "id": "d86a9656",
   "metadata": {},
   "outputs": [
    {
     "data": {
      "image/png": "[encoded data removed]",
      "text/plain": [
       "<Figure size 432x288 with 1 Axes>"
      ]
     },
     "metadata": {},
     "output_type": "display_data"
    }
   ],
   "source": [
    "labels = ['m', 'f']\n",
    "data = df['gender'].value_counts().plot(kind=\"pie\", labels=labels)"
   ]
  },
  {
   "cell_type": "code",
   "execution_count": 19,
   "id": "85c25629",
   "metadata": {},
   "outputs": [
    {
     "name": "stdout",
     "output_type": "stream",
     "text": [
      "Height mean: 172.59752808988765\n",
      "Weight mean: 71.5541963675\n",
      "Gender mean: 0.5043956043956044\n"
     ]
    }
   ],
   "source": [
    "print(\"Height mean:\", df['height'].mean())\n",
    "print(\"Weight mean:\", df['weight'].mean())\n",
    "print(\"Gender mean:\", df['gender'].mean())"
   ]
  },
  {
   "cell_type": "code",
   "execution_count": 20,
   "id": "957c6e25",
   "metadata": {},
   "outputs": [],
   "source": [
    "df.to_csv(\"celebs1-good2.csv\")"
   ]
  },
  {
   "cell_type": "code",
   "execution_count": 21,
   "id": "b2d9fb99",
   "metadata": {},
   "outputs": [
    {
     "data": {
      "text/html": [
       "<div>\n",
       "<style scoped>\n",
       "    .dataframe tbody tr th:only-of-type {\n",
       "        vertical-align: middle;\n",
       "    }\n",
       "\n",
       "    .dataframe tbody tr th {\n",
       "        vertical-align: top;\n",
       "    }\n",
       "\n",
       "    .dataframe thead th {\n",
       "        text-align: right;\n",
       "    }\n",
       "</style>\n",
       "<table border=\"1\" class=\"dataframe\">\n",
       "  <thead>\n",
       "    <tr style=\"text-align: right;\">\n",
       "      <th></th>\n",
       "      <th>Unnamed: 0</th>\n",
       "      <th>name</th>\n",
       "      <th>height</th>\n",
       "      <th>weight</th>\n",
       "      <th>gender</th>\n",
       "    </tr>\n",
       "  </thead>\n",
       "  <tbody>\n",
       "    <tr>\n",
       "      <th>0</th>\n",
       "      <td>0</td>\n",
       "      <td>Adriana Lima</td>\n",
       "      <td>177.80</td>\n",
       "      <td>52.163123</td>\n",
       "      <td>0.1</td>\n",
       "    </tr>\n",
       "    <tr>\n",
       "      <th>1</th>\n",
       "      <td>1</td>\n",
       "      <td>Alicia Keys</td>\n",
       "      <td>167.64</td>\n",
       "      <td>54.431084</td>\n",
       "      <td>0.1</td>\n",
       "    </tr>\n",
       "    <tr>\n",
       "      <th>2</th>\n",
       "      <td>2</td>\n",
       "      <td>Angelina Jolie</td>\n",
       "      <td>172.70</td>\n",
       "      <td>55.338269</td>\n",
       "      <td>0.1</td>\n",
       "    </tr>\n",
       "    <tr>\n",
       "      <th>3</th>\n",
       "      <td>3</td>\n",
       "      <td>Anna Kournikova</td>\n",
       "      <td>172.70</td>\n",
       "      <td>54.431084</td>\n",
       "      <td>0.1</td>\n",
       "    </tr>\n",
       "    <tr>\n",
       "      <th>4</th>\n",
       "      <td>4</td>\n",
       "      <td>Ashley Judd</td>\n",
       "      <td>170.20</td>\n",
       "      <td>56.699046</td>\n",
       "      <td>0.1</td>\n",
       "    </tr>\n",
       "    <tr>\n",
       "      <th>5</th>\n",
       "      <td>5</td>\n",
       "      <td>Avril Lavigne</td>\n",
       "      <td>157.50</td>\n",
       "      <td>51.255938</td>\n",
       "      <td>0.1</td>\n",
       "    </tr>\n",
       "    <tr>\n",
       "      <th>6</th>\n",
       "      <td>6</td>\n",
       "      <td>Bar Rafaeli</td>\n",
       "      <td>174.00</td>\n",
       "      <td>58.059823</td>\n",
       "      <td>0.1</td>\n",
       "    </tr>\n",
       "    <tr>\n",
       "      <th>7</th>\n",
       "      <td>7</td>\n",
       "      <td>Beyonce Knowles</td>\n",
       "      <td>167.60</td>\n",
       "      <td>58.513416</td>\n",
       "      <td>0.1</td>\n",
       "    </tr>\n",
       "    <tr>\n",
       "      <th>8</th>\n",
       "      <td>8</td>\n",
       "      <td>Blake Lively</td>\n",
       "      <td>172.70</td>\n",
       "      <td>71.554196</td>\n",
       "      <td>0.1</td>\n",
       "    </tr>\n",
       "    <tr>\n",
       "      <th>9</th>\n",
       "      <td>9</td>\n",
       "      <td>Carmen Electra</td>\n",
       "      <td>160.00</td>\n",
       "      <td>51.255938</td>\n",
       "      <td>0.1</td>\n",
       "    </tr>\n",
       "  </tbody>\n",
       "</table>\n",
       "</div>"
      ],
      "text/plain": [
       "   Unnamed: 0             name  height     weight  gender\n",
       "0           0     Adriana Lima  177.80  52.163123     0.1\n",
       "1           1      Alicia Keys  167.64  54.431084     0.1\n",
       "2           2   Angelina Jolie  172.70  55.338269     0.1\n",
       "3           3  Anna Kournikova  172.70  54.431084     0.1\n",
       "4           4      Ashley Judd  170.20  56.699046     0.1\n",
       "5           5    Avril Lavigne  157.50  51.255938     0.1\n",
       "6           6      Bar Rafaeli  174.00  58.059823     0.1\n",
       "7           7  Beyonce Knowles  167.60  58.513416     0.1\n",
       "8           8     Blake Lively  172.70  71.554196     0.1\n",
       "9           9   Carmen Electra  160.00  51.255938     0.1"
      ]
     },
     "execution_count": 21,
     "metadata": {},
     "output_type": "execute_result"
    }
   ],
   "source": [
    "df = pd.read_csv(\"celebs1-good2.csv\")\n",
    "df.head(10)"
   ]
  }
 ],
 "metadata": {
  "kernelspec": {
   "display_name": "Python 3 (ipykernel)",
   "language": "python",
   "name": "python3"
  },
  "language_info": {
   "codemirror_mode": {
    "name": "ipython",
    "version": 3
   },
   "file_extension": ".py",
   "mimetype": "text/x-python",
   "name": "python",
   "nbconvert_exporter": "python",
   "pygments_lexer": "ipython3",
   "version": "3.8.10"
  }
 },
 "nbformat": 4,
 "nbformat_minor": 5
}
