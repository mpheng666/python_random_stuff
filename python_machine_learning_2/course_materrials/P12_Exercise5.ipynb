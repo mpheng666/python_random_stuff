{
 "cells": [
  {
   "cell_type": "markdown",
   "id": "e7caec56",
   "metadata": {},
   "source": [
    "## Exercise 5\n",
    "### Classification and Clustering\n",
    "### Amir - 2022\n",
    "# ....................... \n"
   ]
  },
  {
   "cell_type": "code",
   "execution_count": 1,
   "id": "da26b937",
   "metadata": {},
   "outputs": [
    {
     "data": {
      "text/plain": [
       "' \\n1- Open creditcard2_smaller.csv file\\n2- there are roughly 10000 credit card transactions information saved here\\n3- for each transaction, there are 29 features (columns 0 to 28), and a transaction class label (column 29) \\n4- class label== 0 --> a valid transaction, whereas class label== 1 --> a fraudulent transaction\\n5- plot the histogram of class labels, what you can get from that?\\n6- keep 70% of your samples for training, and 30% for testing. \\n7- develop a decision tree classifier, train it, and test it. \\n8- report the confusion matrix and the classification report\\n9- Try to optimize the parameters and run the program once again\\n10- report the best results achived\\n11- What Is The Biggest Weakness of your classifier?\\n12- repeat steps 7 to 11 for a logistic regressor model\\n\\n'"
      ]
     },
     "execution_count": 1,
     "metadata": {},
     "output_type": "execute_result"
    }
   ],
   "source": [
    "''' \n",
    "1- Open creditcard2_smaller.csv file\n",
    "2- there are roughly 10000 credit card transactions information saved here\n",
    "3- for each transaction, there are 29 features (columns 0 to 28), and a transaction class label (column 29) \n",
    "4- class label== 0 --> a valid transaction, whereas class label== 1 --> a fraudulent transaction\n",
    "5- plot the histogram of class labels, what you can get from that?\n",
    "6- keep 70% of your samples for training, and 30% for testing. \n",
    "7- develop a decision tree classifier, train it, and test it. \n",
    "8- report the confusion matrix and the classification report\n",
    "9- Try to optimize the parameters and run the program once again\n",
    "10- report the best results achived\n",
    "11- What Is The Biggest Weakness of your classifier?\n",
    "12- repeat steps 7 to 11 for a logistic regressor model\n",
    "\n",
    "'''"
   ]
  },
  {
   "cell_type": "code",
   "execution_count": 2,
   "id": "0f65b115",
   "metadata": {},
   "outputs": [],
   "source": [
    "import pandas as pd\n",
    "import numpy as np\n",
    "import matplotlib.pyplot as plt\n",
    "import seaborn as sns\n",
    "%matplotlib inline\n",
    "plt.style.use('seaborn')\n",
    "df = pd.read_csv('creditcard2_smaller.csv')"
   ]
  },
  {
   "cell_type": "code",
   "execution_count": 3,
   "id": "0b472213",
   "metadata": {},
   "outputs": [
    {
     "data": {
      "text/plain": [
       "(9969, 30)"
      ]
     },
     "execution_count": 3,
     "metadata": {},
     "output_type": "execute_result"
    }
   ],
   "source": [
    "df.shape"
   ]
  },
  {
   "cell_type": "code",
   "execution_count": 4,
   "id": "8655faf9",
   "metadata": {},
   "outputs": [
    {
     "data": {
      "text/plain": [
       "Index(['1.059387115', '-0.175319187', '1.266129643', '1.186109955',\n",
       "       '-0.786001753', '0.578435276', '-0.767084276', '0.401046149',\n",
       "       '0.699499676', '-0.064737556', '1.048292488', '1.005618365',\n",
       "       '-0.542001579', '-0.039914502', '-0.218683248', '0.004475682',\n",
       "       '-0.193554039', '0.042387962', '-0.277833721', '-0.178023367',\n",
       "       '0.013676294', '0.21373361', '0.014461849', '0.00295086', '0.294638015',\n",
       "       '-0.395069505', '0.081461117', '0.024220349', '12.99', '0'],\n",
       "      dtype='object')"
      ]
     },
     "execution_count": 4,
     "metadata": {},
     "output_type": "execute_result"
    }
   ],
   "source": [
    "df.columns"
   ]
  },
  {
   "cell_type": "code",
   "execution_count": 5,
   "id": "2be6e083",
   "metadata": {},
   "outputs": [
    {
     "name": "stdout",
     "output_type": "stream",
     "text": [
      "<class 'pandas.core.frame.DataFrame'>\n",
      "RangeIndex: 9969 entries, 0 to 9968\n",
      "Data columns (total 30 columns):\n",
      " #   Column        Non-Null Count  Dtype  \n",
      "---  ------        --------------  -----  \n",
      " 0   1.059387115   9969 non-null   float64\n",
      " 1   -0.175319187  9969 non-null   float64\n",
      " 2   1.266129643   9969 non-null   float64\n",
      " 3   1.186109955   9969 non-null   float64\n",
      " 4   -0.786001753  9969 non-null   float64\n",
      " 5   0.578435276   9969 non-null   float64\n",
      " 6   -0.767084276  9969 non-null   float64\n",
      " 7   0.401046149   9969 non-null   float64\n",
      " 8   0.699499676   9969 non-null   float64\n",
      " 9   -0.064737556  9969 non-null   float64\n",
      " 10  1.048292488   9969 non-null   float64\n",
      " 11  1.005618365   9969 non-null   float64\n",
      " 12  -0.542001579  9969 non-null   float64\n",
      " 13  -0.039914502  9969 non-null   float64\n",
      " 14  -0.218683248  9969 non-null   float64\n",
      " 15  0.004475682   9969 non-null   float64\n",
      " 16  -0.193554039  9969 non-null   float64\n",
      " 17  0.042387962   9969 non-null   float64\n",
      " 18  -0.277833721  9969 non-null   float64\n",
      " 19  -0.178023367  9969 non-null   float64\n",
      " 20  0.013676294   9969 non-null   float64\n",
      " 21  0.21373361    9969 non-null   float64\n",
      " 22  0.014461849   9969 non-null   float64\n",
      " 23  0.00295086    9969 non-null   float64\n",
      " 24  0.294638015   9969 non-null   float64\n",
      " 25  -0.395069505  9969 non-null   float64\n",
      " 26  0.081461117   9969 non-null   float64\n",
      " 27  0.024220349   9969 non-null   float64\n",
      " 28  12.99         9969 non-null   float64\n",
      " 29  0             9969 non-null   int64  \n",
      "dtypes: float64(29), int64(1)\n",
      "memory usage: 2.3 MB\n"
     ]
    }
   ],
   "source": [
    "df.info()"
   ]
  },
  {
   "cell_type": "code",
   "execution_count": 6,
   "id": "cfc037be",
   "metadata": {},
   "outputs": [
    {
     "data": {
      "text/html": [
       "<div>\n",
       "<style scoped>\n",
       "    .dataframe tbody tr th:only-of-type {\n",
       "        vertical-align: middle;\n",
       "    }\n",
       "\n",
       "    .dataframe tbody tr th {\n",
       "        vertical-align: top;\n",
       "    }\n",
       "\n",
       "    .dataframe thead th {\n",
       "        text-align: right;\n",
       "    }\n",
       "</style>\n",
       "<table border=\"1\" class=\"dataframe\">\n",
       "  <thead>\n",
       "    <tr style=\"text-align: right;\">\n",
       "      <th></th>\n",
       "      <th>1.059387115</th>\n",
       "      <th>-0.175319187</th>\n",
       "      <th>1.266129643</th>\n",
       "      <th>1.186109955</th>\n",
       "      <th>-0.786001753</th>\n",
       "      <th>0.578435276</th>\n",
       "      <th>-0.767084276</th>\n",
       "      <th>0.401046149</th>\n",
       "      <th>0.699499676</th>\n",
       "      <th>-0.064737556</th>\n",
       "      <th>...</th>\n",
       "      <th>0.013676294</th>\n",
       "      <th>0.21373361</th>\n",
       "      <th>0.014461849</th>\n",
       "      <th>0.00295086</th>\n",
       "      <th>0.294638015</th>\n",
       "      <th>-0.395069505</th>\n",
       "      <th>0.081461117</th>\n",
       "      <th>0.024220349</th>\n",
       "      <th>12.99</th>\n",
       "      <th>0</th>\n",
       "    </tr>\n",
       "  </thead>\n",
       "  <tbody>\n",
       "    <tr>\n",
       "      <th>0</th>\n",
       "      <td>1.154312</td>\n",
       "      <td>0.265462</td>\n",
       "      <td>0.384871</td>\n",
       "      <td>0.575007</td>\n",
       "      <td>-0.217475</td>\n",
       "      <td>-0.391520</td>\n",
       "      <td>-0.081489</td>\n",
       "      <td>0.062789</td>\n",
       "      <td>-0.260583</td>\n",
       "      <td>-0.161677</td>\n",
       "      <td>...</td>\n",
       "      <td>-0.193213</td>\n",
       "      <td>-0.557685</td>\n",
       "      <td>0.169492</td>\n",
       "      <td>0.186863</td>\n",
       "      <td>0.089252</td>\n",
       "      <td>0.093626</td>\n",
       "      <td>-0.009633</td>\n",
       "      <td>0.019668</td>\n",
       "      <td>2.67</td>\n",
       "      <td>0</td>\n",
       "    </tr>\n",
       "    <tr>\n",
       "      <th>1</th>\n",
       "      <td>-0.773293</td>\n",
       "      <td>-4.146007</td>\n",
       "      <td>-0.932038</td>\n",
       "      <td>0.027094</td>\n",
       "      <td>-1.698307</td>\n",
       "      <td>0.460188</td>\n",
       "      <td>0.737344</td>\n",
       "      <td>-0.314216</td>\n",
       "      <td>-0.842673</td>\n",
       "      <td>0.017276</td>\n",
       "      <td>...</td>\n",
       "      <td>0.890978</td>\n",
       "      <td>0.026123</td>\n",
       "      <td>-1.134769</td>\n",
       "      <td>-0.654958</td>\n",
       "      <td>0.098386</td>\n",
       "      <td>-0.209150</td>\n",
       "      <td>-0.171709</td>\n",
       "      <td>0.208057</td>\n",
       "      <td>1142.02</td>\n",
       "      <td>0</td>\n",
       "    </tr>\n",
       "    <tr>\n",
       "      <th>2</th>\n",
       "      <td>-1.165722</td>\n",
       "      <td>1.485337</td>\n",
       "      <td>0.156418</td>\n",
       "      <td>0.924378</td>\n",
       "      <td>0.131746</td>\n",
       "      <td>0.996965</td>\n",
       "      <td>-0.167117</td>\n",
       "      <td>1.262617</td>\n",
       "      <td>-0.584844</td>\n",
       "      <td>-0.553366</td>\n",
       "      <td>...</td>\n",
       "      <td>0.314752</td>\n",
       "      <td>1.046648</td>\n",
       "      <td>0.156404</td>\n",
       "      <td>-0.628123</td>\n",
       "      <td>-0.702367</td>\n",
       "      <td>-0.224025</td>\n",
       "      <td>0.145425</td>\n",
       "      <td>0.116398</td>\n",
       "      <td>11.83</td>\n",
       "      <td>0</td>\n",
       "    </tr>\n",
       "    <tr>\n",
       "      <th>3</th>\n",
       "      <td>-0.853807</td>\n",
       "      <td>0.127392</td>\n",
       "      <td>1.267277</td>\n",
       "      <td>0.678584</td>\n",
       "      <td>-1.029851</td>\n",
       "      <td>-0.487614</td>\n",
       "      <td>1.836071</td>\n",
       "      <td>-0.298566</td>\n",
       "      <td>-0.922127</td>\n",
       "      <td>-0.645656</td>\n",
       "      <td>...</td>\n",
       "      <td>0.252358</td>\n",
       "      <td>0.179725</td>\n",
       "      <td>0.476744</td>\n",
       "      <td>0.724705</td>\n",
       "      <td>0.526798</td>\n",
       "      <td>0.502701</td>\n",
       "      <td>-0.159465</td>\n",
       "      <td>0.002761</td>\n",
       "      <td>322.44</td>\n",
       "      <td>0</td>\n",
       "    </tr>\n",
       "    <tr>\n",
       "      <th>4</th>\n",
       "      <td>-0.182928</td>\n",
       "      <td>-0.920683</td>\n",
       "      <td>1.818758</td>\n",
       "      <td>-2.450936</td>\n",
       "      <td>-1.247560</td>\n",
       "      <td>0.147436</td>\n",
       "      <td>0.218629</td>\n",
       "      <td>-0.407290</td>\n",
       "      <td>-2.023879</td>\n",
       "      <td>1.410940</td>\n",
       "      <td>...</td>\n",
       "      <td>0.030806</td>\n",
       "      <td>0.848899</td>\n",
       "      <td>0.120259</td>\n",
       "      <td>0.219241</td>\n",
       "      <td>-0.441860</td>\n",
       "      <td>-0.386687</td>\n",
       "      <td>-0.291553</td>\n",
       "      <td>-0.448051</td>\n",
       "      <td>137.00</td>\n",
       "      <td>0</td>\n",
       "    </tr>\n",
       "  </tbody>\n",
       "</table>\n",
       "<p>5 rows × 30 columns</p>\n",
       "</div>"
      ],
      "text/plain": [
       "   1.059387115  -0.175319187  1.266129643  1.186109955  -0.786001753  \\\n",
       "0     1.154312      0.265462     0.384871     0.575007     -0.217475   \n",
       "1    -0.773293     -4.146007    -0.932038     0.027094     -1.698307   \n",
       "2    -1.165722      1.485337     0.156418     0.924378      0.131746   \n",
       "3    -0.853807      0.127392     1.267277     0.678584     -1.029851   \n",
       "4    -0.182928     -0.920683     1.818758    -2.450936     -1.247560   \n",
       "\n",
       "   0.578435276  -0.767084276  0.401046149  0.699499676  -0.064737556  ...  \\\n",
       "0    -0.391520     -0.081489     0.062789    -0.260583     -0.161677  ...   \n",
       "1     0.460188      0.737344    -0.314216    -0.842673      0.017276  ...   \n",
       "2     0.996965     -0.167117     1.262617    -0.584844     -0.553366  ...   \n",
       "3    -0.487614      1.836071    -0.298566    -0.922127     -0.645656  ...   \n",
       "4     0.147436      0.218629    -0.407290    -2.023879      1.410940  ...   \n",
       "\n",
       "   0.013676294  0.21373361  0.014461849  0.00295086  0.294638015  \\\n",
       "0    -0.193213   -0.557685     0.169492    0.186863     0.089252   \n",
       "1     0.890978    0.026123    -1.134769   -0.654958     0.098386   \n",
       "2     0.314752    1.046648     0.156404   -0.628123    -0.702367   \n",
       "3     0.252358    0.179725     0.476744    0.724705     0.526798   \n",
       "4     0.030806    0.848899     0.120259    0.219241    -0.441860   \n",
       "\n",
       "   -0.395069505  0.081461117  0.024220349    12.99  0  \n",
       "0      0.093626    -0.009633     0.019668     2.67  0  \n",
       "1     -0.209150    -0.171709     0.208057  1142.02  0  \n",
       "2     -0.224025     0.145425     0.116398    11.83  0  \n",
       "3      0.502701    -0.159465     0.002761   322.44  0  \n",
       "4     -0.386687    -0.291553    -0.448051   137.00  0  \n",
       "\n",
       "[5 rows x 30 columns]"
      ]
     },
     "execution_count": 6,
     "metadata": {},
     "output_type": "execute_result"
    }
   ],
   "source": [
    "df.head()"
   ]
  },
  {
   "cell_type": "code",
   "execution_count": 7,
   "id": "7ad6e780",
   "metadata": {},
   "outputs": [
    {
     "data": {
      "image/png": "[encoded data removed]",
      "text/plain": [
       "<Figure size 360x3600 with 30 Axes>"
      ]
     },
     "metadata": {},
     "output_type": "display_data"
    }
   ],
   "source": [
    "plt.rcParams[\"figure.figsize\"] = (5,50)\n",
    "fig, axs = plt.subplots(len(df.columns))\n",
    "for i in range(0,len(df.columns)):\n",
    "    axs[i].hist(df.iloc[i])"
   ]
  },
  {
   "cell_type": "code",
   "execution_count": 8,
   "id": "3cbc87b0",
   "metadata": {
    "scrolled": true
   },
   "outputs": [],
   "source": [
    "# df[df.iloc[-1]==1]['fico'].plot.hist(bins=30,alpha=0.5,color='blue', label='Valid=1')\n",
    "# df[df.iloc[-1]==0]['fico'].plot.hist(bins=30,alpha=0.5, color='red', label='Valid=0')\n",
    "# plt.legend(fontsize=15)\n",
    "# plt.title (\"Histogram of FICO score by approved or disapproved credit policies\", fontsize=16)\n",
    "# plt.xlabel(\"FICO score\", fontsize=14)"
   ]
  },
  {
   "cell_type": "code",
   "execution_count": 9,
   "id": "0e70f2a4",
   "metadata": {},
   "outputs": [],
   "source": [
    "from sklearn.model_selection import train_test_split\n",
    "df_dropped = df.iloc[: , :-1]\n",
    "X = df_dropped\n",
    "y = df.iloc[:,-1:]\n",
    "# y\n",
    "X_train, X_test, y_train, y_test = train_test_split(X, y, test_size=0.30)"
   ]
  },
  {
   "cell_type": "code",
   "execution_count": 10,
   "id": "d6d55a6d",
   "metadata": {},
   "outputs": [],
   "source": [
    "from sklearn.tree import DecisionTreeClassifier"
   ]
  },
  {
   "cell_type": "code",
   "execution_count": 11,
   "id": "e31372c2",
   "metadata": {},
   "outputs": [],
   "source": [
    "dtree = DecisionTreeClassifier(criterion='gini',max_depth=None)"
   ]
  },
  {
   "cell_type": "code",
   "execution_count": 12,
   "id": "4d291c04",
   "metadata": {},
   "outputs": [
    {
     "data": {
      "text/plain": [
       "DecisionTreeClassifier()"
      ]
     },
     "execution_count": 12,
     "metadata": {},
     "output_type": "execute_result"
    }
   ],
   "source": [
    "dtree.fit(X_train,y_train)"
   ]
  },
  {
   "cell_type": "code",
   "execution_count": 13,
   "id": "328396c0",
   "metadata": {},
   "outputs": [],
   "source": [
    "predictions = dtree.predict(X_test)"
   ]
  },
  {
   "cell_type": "code",
   "execution_count": 14,
   "id": "dc4ec90f",
   "metadata": {},
   "outputs": [],
   "source": [
    "from sklearn.metrics import classification_report,confusion_matrix"
   ]
  },
  {
   "cell_type": "code",
   "execution_count": 15,
   "id": "68b3d47c",
   "metadata": {},
   "outputs": [
    {
     "name": "stdout",
     "output_type": "stream",
     "text": [
      "[[2826   21]\n",
      " [  17  127]]\n",
      "Accuracy of prediction: 0.987\n"
     ]
    }
   ],
   "source": [
    "cm=confusion_matrix(y_test,predictions)\n",
    "print(cm)\n",
    "print (\"Accuracy of prediction:\",round((cm[0,0]+cm[1,1])/cm.sum(),3))"
   ]
  },
  {
   "cell_type": "code",
   "execution_count": 16,
   "id": "cfa4d779",
   "metadata": {},
   "outputs": [
    {
     "data": {
      "image/png": "[encoded data removed]",
      "text/plain": [
       "<Figure size 360x360 with 2 Axes>"
      ]
     },
     "metadata": {},
     "output_type": "display_data"
    }
   ],
   "source": [
    "from matplotlib.colors import LogNorm, Normalize\n",
    "plt.rcParams[\"figure.figsize\"] = (5,5)\n",
    "sns.heatmap(cm,linewidth=1, annot=True, norm=LogNorm())\n",
    "plt.show()"
   ]
  },
  {
   "cell_type": "code",
   "execution_count": 17,
   "id": "35d98bf9",
   "metadata": {},
   "outputs": [
    {
     "name": "stdout",
     "output_type": "stream",
     "text": [
      "              precision    recall  f1-score   support\n",
      "\n",
      "           0       0.99      0.99      0.99      2847\n",
      "           1       0.86      0.88      0.87       144\n",
      "\n",
      "    accuracy                           0.99      2991\n",
      "   macro avg       0.93      0.94      0.93      2991\n",
      "weighted avg       0.99      0.99      0.99      2991\n",
      "\n"
     ]
    }
   ],
   "source": [
    "print(classification_report(y_test,predictions))"
   ]
  },
  {
   "cell_type": "code",
   "execution_count": 18,
   "id": "53f456e0",
   "metadata": {},
   "outputs": [
    {
     "data": {
      "text/plain": [
       "0.9372841294930335"
      ]
     },
     "execution_count": 18,
     "metadata": {},
     "output_type": "execute_result"
    }
   ],
   "source": [
    "# Use AUC(Area under curve) as evaluation metric as it is a binary classification problem\n",
    "from sklearn.metrics import roc_curve, auc\n",
    "false_positive_rate, true_positive_rate, thresholds = roc_curve(y_test, predictions)\n",
    "roc_auc = auc(false_positive_rate, true_positive_rate)\n",
    "roc_auc"
   ]
  },
  {
   "cell_type": "code",
   "execution_count": 19,
   "id": "d4213ee1",
   "metadata": {},
   "outputs": [
    {
     "data": {
      "image/png": "[encoded data removed]",
      "text/plain": [
       "<Figure size 360x360 with 1 Axes>"
      ]
     },
     "metadata": {},
     "output_type": "display_data"
    }
   ],
   "source": [
    "max_depths = np.linspace(1, 32, 32, endpoint=True)\n",
    "train_results = []\n",
    "test_results = []\n",
    "for max_depth in max_depths:\n",
    "    dt = DecisionTreeClassifier(max_depth=max_depth)\n",
    "    dt.fit(X_train, y_train)   \n",
    "    train_pred = dt.predict(X_train)   \n",
    "    false_positive_rate, true_positive_rate, thresholds = roc_curve(y_train, train_pred)\n",
    "    roc_auc = auc(false_positive_rate, true_positive_rate)\n",
    "    # Add auc score to previous train results\n",
    "    train_results.append(roc_auc)   \n",
    "    y_pred = dt.predict(X_test)   \n",
    "    false_positive_rate, true_positive_rate, thresholds = roc_curve(y_test, y_pred)\n",
    "    roc_auc = auc(false_positive_rate, true_positive_rate)\n",
    "    # Add auc score to previous test results\n",
    "    test_results.append(roc_auc)\n",
    "    \n",
    "from matplotlib.legend_handler import HandlerLine2D\n",
    "line1, = plt.plot(max_depths, train_results, 'b', label='Train AUC')\n",
    "line2, = plt.plot(max_depths, test_results, 'r', label='Test AUC')\n",
    "plt.legend(handler_map={line1: HandlerLine2D(numpoints=2)})\n",
    "plt.ylabel('AUC score')\n",
    "plt.xlabel('Tree depth')\n",
    "plt.show()"
   ]
  },
  {
   "cell_type": "code",
   "execution_count": 20,
   "id": "5acee42f",
   "metadata": {},
   "outputs": [],
   "source": [
    "from sklearn.ensemble import RandomForestClassifier\n",
    "from sklearn.metrics import accuracy_score"
   ]
  },
  {
   "cell_type": "code",
   "execution_count": 21,
   "id": "2ed77af0",
   "metadata": {},
   "outputs": [],
   "source": [
    "nsimu = 21\n",
    "accuracy=[0]*nsimu\n",
    "ntree = [0]*nsimu\n",
    "cmatrices = [0]*nsimu\n",
    "for i in range(1,nsimu):\n",
    "    rfc = RandomForestClassifier(n_estimators=i*5,min_samples_split=10,max_depth=None,criterion='gini')\n",
    "    rfc.fit(X_train, y_train.values.ravel())\n",
    "    rfc_pred = rfc.predict(X_test)\n",
    "#     cm = confusion_matrix(y_test,rfc_pred)\n",
    "#     accuracy[i] = (cm[0,0]+cm[1,1])/cm.sum()\n",
    "    accuracy[i] = accuracy_score(y_test, rfc_pred)\n",
    "    cmatrices[i] = confusion_matrix(y_test,rfc_pred)\n",
    "    ntree[i]=i*5"
   ]
  },
  {
   "cell_type": "code",
   "execution_count": 22,
   "id": "5b9a226d",
   "metadata": {},
   "outputs": [
    {
     "data": {
      "text/plain": [
       "Text(0, 0.5, 'Prediction accuracy from confusion matrix')"
      ]
     },
     "execution_count": 22,
     "metadata": {},
     "output_type": "execute_result"
    },
    {
     "data": {
      "image/png": "[encoded data removed]",
      "text/plain": [
       "<Figure size 720x432 with 1 Axes>"
      ]
     },
     "metadata": {},
     "output_type": "display_data"
    }
   ],
   "source": [
    "plt.figure(figsize=(10,6))\n",
    "plt.scatter(x=ntree[1:nsimu],y=accuracy[1:nsimu],s=60,c='red')\n",
    "plt.title(\"Number of trees in the Random Forest vs. prediction accuracy (criterion: 'gini')\", fontsize=18)\n",
    "plt.xlabel(\"Number of trees\", fontsize=15)\n",
    "plt.ylabel(\"Prediction accuracy from confusion matrix\", fontsize=15)"
   ]
  },
  {
   "cell_type": "code",
   "execution_count": 23,
   "id": "578ec506",
   "metadata": {},
   "outputs": [
    {
     "data": {
      "image/png": "[encoded data removed]",
      "text/plain": [
       "<Figure size 360x360 with 2 Axes>"
      ]
     },
     "metadata": {},
     "output_type": "display_data"
    }
   ],
   "source": [
    "sns.heatmap(cm,linewidth=1, annot=True, norm=LogNorm())\n",
    "plt.show()"
   ]
  },
  {
   "cell_type": "code",
   "execution_count": 24,
   "id": "3c5c2085",
   "metadata": {},
   "outputs": [
    {
     "data": {
      "image/png": "[encoded data removed]",
      "text/plain": [
       "<Figure size 360x360 with 1 Axes>"
      ]
     },
     "metadata": {},
     "output_type": "display_data"
    }
   ],
   "source": [
    "from sklearn.linear_model import LogisticRegression\n",
    "from sklearn.metrics import classification_report\n",
    "nsimu=10\n",
    "penalty=[0]*nsimu\n",
    "logmodel=[0]*nsimu\n",
    "predictions =[0]*nsimu\n",
    "class_report = [0]*nsimu\n",
    "f1=[0]*nsimu\n",
    "for i in range(1,nsimu):\n",
    "        logmodel[i] =LogisticRegression(C=i/100,tol=1e-4, max_iter=600,n_jobs=4)\n",
    "        logmodel[i].fit(X_train,y_train.values.ravel())\n",
    "        predictions[i] = logmodel[i].predict(X_test)\n",
    "        class_report[i] = classification_report(y_test,predictions[i])\n",
    "        l=class_report[i].split()\n",
    "        f1[i] = l[len(l)-2]\n",
    "        penalty[i]=1000/i\n",
    "        \n",
    "plt.scatter(penalty[1:len(penalty)-2],f1[1:len(f1)-2])\n",
    "plt.title(\"F1-score vs. regularization parameter\",fontsize=20)\n",
    "plt.xlabel(\"Penalty parameter\",fontsize=17)\n",
    "plt.ylabel(\"F1-score on test data\",fontsize=17)\n",
    "plt.show()\n",
    "\n"
   ]
  },
  {
   "cell_type": "code",
   "execution_count": 25,
   "id": "f6af6b5c",
   "metadata": {},
   "outputs": [
    {
     "name": "stdout",
     "output_type": "stream",
     "text": [
      "[[2845    2]\n",
      " [  24  120]]\n",
      "Accuracy of prediction: 0.991\n"
     ]
    }
   ],
   "source": [
    "cm=confusion_matrix(y_test,predictions[1])\n",
    "print(cm)\n",
    "print (\"Accuracy of prediction:\",round((cm[0,0]+cm[1,1])/cm.sum(),3))"
   ]
  },
  {
   "cell_type": "code",
   "execution_count": 26,
   "id": "78e10556",
   "metadata": {},
   "outputs": [
    {
     "data": {
      "image/png": "[encoded data removed]",
      "text/plain": [
       "<Figure size 360x360 with 2 Axes>"
      ]
     },
     "metadata": {},
     "output_type": "display_data"
    }
   ],
   "source": [
    "sns.heatmap(cm,linewidth=1, annot=True, norm=LogNorm())\n",
    "plt.show()"
   ]
  },
  {
   "cell_type": "code",
   "execution_count": 27,
   "id": "faeefdbb",
   "metadata": {},
   "outputs": [
    {
     "data": {
      "text/plain": [
       "\"  \\n1- Open titanc_train.csv\\n2- Remove any data samples with empty cells\\n3- Try to measure the correlation between 'Pclass' and 'Fare'\\n4- Try to measure the correlation between 'Pclass' and 'Survived'\\n5- Use variables below and C-Means (K-Means) clustering, try to cluster the data into 2 clusters\\nVariables: Survived, Pclass, Sex, Age, Fare, Embarked\\n6- Discuss the results\\n7- Repeat 5 and 6 for 4 clusters\\n\""
      ]
     },
     "execution_count": 27,
     "metadata": {},
     "output_type": "execute_result"
    }
   ],
   "source": [
    "'''  \n",
    "1- Open titanc_train.csv\n",
    "2- Remove any data samples with empty cells\n",
    "3- Try to measure the correlation between 'Pclass' and 'Fare'\n",
    "4- Try to measure the correlation between 'Pclass' and 'Survived'\n",
    "5- Use variables below and C-Means (K-Means) clustering, try to cluster the data into 2 clusters\n",
    "Variables: Survived, Pclass, Sex, Age, Fare, Embarked\n",
    "6- Discuss the results\n",
    "7- Repeat 5 and 6 for 4 clusters\n",
    "'''"
   ]
  },
  {
   "cell_type": "code",
   "execution_count": 28,
   "id": "0b30586c",
   "metadata": {},
   "outputs": [
    {
     "data": {
      "text/html": [
       "<div>\n",
       "<style scoped>\n",
       "    .dataframe tbody tr th:only-of-type {\n",
       "        vertical-align: middle;\n",
       "    }\n",
       "\n",
       "    .dataframe tbody tr th {\n",
       "        vertical-align: top;\n",
       "    }\n",
       "\n",
       "    .dataframe thead th {\n",
       "        text-align: right;\n",
       "    }\n",
       "</style>\n",
       "<table border=\"1\" class=\"dataframe\">\n",
       "  <thead>\n",
       "    <tr style=\"text-align: right;\">\n",
       "      <th></th>\n",
       "      <th>PassengerId</th>\n",
       "      <th>Survived</th>\n",
       "      <th>Pclass</th>\n",
       "      <th>Name</th>\n",
       "      <th>Sex</th>\n",
       "      <th>Age</th>\n",
       "      <th>SibSp</th>\n",
       "      <th>Parch</th>\n",
       "      <th>Ticket</th>\n",
       "      <th>Fare</th>\n",
       "      <th>Cabin</th>\n",
       "      <th>Embarked</th>\n",
       "    </tr>\n",
       "  </thead>\n",
       "  <tbody>\n",
       "    <tr>\n",
       "      <th>0</th>\n",
       "      <td>1</td>\n",
       "      <td>0</td>\n",
       "      <td>3</td>\n",
       "      <td>Braund, Mr. Owen Harris</td>\n",
       "      <td>male</td>\n",
       "      <td>22.0</td>\n",
       "      <td>1</td>\n",
       "      <td>0</td>\n",
       "      <td>A/5 21171</td>\n",
       "      <td>7.2500</td>\n",
       "      <td>NaN</td>\n",
       "      <td>S</td>\n",
       "    </tr>\n",
       "    <tr>\n",
       "      <th>1</th>\n",
       "      <td>2</td>\n",
       "      <td>1</td>\n",
       "      <td>1</td>\n",
       "      <td>Cumings, Mrs. John Bradley (Florence Briggs Th...</td>\n",
       "      <td>female</td>\n",
       "      <td>38.0</td>\n",
       "      <td>1</td>\n",
       "      <td>0</td>\n",
       "      <td>PC 17599</td>\n",
       "      <td>71.2833</td>\n",
       "      <td>C85</td>\n",
       "      <td>C</td>\n",
       "    </tr>\n",
       "    <tr>\n",
       "      <th>2</th>\n",
       "      <td>3</td>\n",
       "      <td>1</td>\n",
       "      <td>3</td>\n",
       "      <td>Heikkinen, Miss. Laina</td>\n",
       "      <td>female</td>\n",
       "      <td>26.0</td>\n",
       "      <td>0</td>\n",
       "      <td>0</td>\n",
       "      <td>STON/O2. 3101282</td>\n",
       "      <td>7.9250</td>\n",
       "      <td>NaN</td>\n",
       "      <td>S</td>\n",
       "    </tr>\n",
       "    <tr>\n",
       "      <th>3</th>\n",
       "      <td>4</td>\n",
       "      <td>1</td>\n",
       "      <td>1</td>\n",
       "      <td>Futrelle, Mrs. Jacques Heath (Lily May Peel)</td>\n",
       "      <td>female</td>\n",
       "      <td>35.0</td>\n",
       "      <td>1</td>\n",
       "      <td>0</td>\n",
       "      <td>113803</td>\n",
       "      <td>53.1000</td>\n",
       "      <td>C123</td>\n",
       "      <td>S</td>\n",
       "    </tr>\n",
       "    <tr>\n",
       "      <th>4</th>\n",
       "      <td>5</td>\n",
       "      <td>0</td>\n",
       "      <td>3</td>\n",
       "      <td>Allen, Mr. William Henry</td>\n",
       "      <td>male</td>\n",
       "      <td>35.0</td>\n",
       "      <td>0</td>\n",
       "      <td>0</td>\n",
       "      <td>373450</td>\n",
       "      <td>8.0500</td>\n",
       "      <td>NaN</td>\n",
       "      <td>S</td>\n",
       "    </tr>\n",
       "  </tbody>\n",
       "</table>\n",
       "</div>"
      ],
      "text/plain": [
       "   PassengerId  Survived  Pclass  \\\n",
       "0            1         0       3   \n",
       "1            2         1       1   \n",
       "2            3         1       3   \n",
       "3            4         1       1   \n",
       "4            5         0       3   \n",
       "\n",
       "                                                Name     Sex   Age  SibSp  \\\n",
       "0                            Braund, Mr. Owen Harris    male  22.0      1   \n",
       "1  Cumings, Mrs. John Bradley (Florence Briggs Th...  female  38.0      1   \n",
       "2                             Heikkinen, Miss. Laina  female  26.0      0   \n",
       "3       Futrelle, Mrs. Jacques Heath (Lily May Peel)  female  35.0      1   \n",
       "4                           Allen, Mr. William Henry    male  35.0      0   \n",
       "\n",
       "   Parch            Ticket     Fare Cabin Embarked  \n",
       "0      0         A/5 21171   7.2500   NaN        S  \n",
       "1      0          PC 17599  71.2833   C85        C  \n",
       "2      0  STON/O2. 3101282   7.9250   NaN        S  \n",
       "3      0            113803  53.1000  C123        S  \n",
       "4      0            373450   8.0500   NaN        S  "
      ]
     },
     "execution_count": 28,
     "metadata": {},
     "output_type": "execute_result"
    }
   ],
   "source": [
    "df_train = pd.read_csv('titanic_train.csv') # Training set is already available\n",
    "df_train.head()"
   ]
  },
  {
   "cell_type": "code",
   "execution_count": 29,
   "id": "34cbdb29",
   "metadata": {},
   "outputs": [
    {
     "name": "stdout",
     "output_type": "stream",
     "text": [
      "<class 'pandas.core.frame.DataFrame'>\n",
      "RangeIndex: 891 entries, 0 to 890\n",
      "Data columns (total 12 columns):\n",
      " #   Column       Non-Null Count  Dtype  \n",
      "---  ------       --------------  -----  \n",
      " 0   PassengerId  891 non-null    int64  \n",
      " 1   Survived     891 non-null    int64  \n",
      " 2   Pclass       891 non-null    int64  \n",
      " 3   Name         891 non-null    object \n",
      " 4   Sex          891 non-null    object \n",
      " 5   Age          714 non-null    float64\n",
      " 6   SibSp        891 non-null    int64  \n",
      " 7   Parch        891 non-null    int64  \n",
      " 8   Ticket       891 non-null    object \n",
      " 9   Fare         891 non-null    float64\n",
      " 10  Cabin        204 non-null    object \n",
      " 11  Embarked     889 non-null    object \n",
      "dtypes: float64(2), int64(5), object(5)\n",
      "memory usage: 83.7+ KB\n"
     ]
    }
   ],
   "source": [
    "df_train.info()"
   ]
  },
  {
   "cell_type": "code",
   "execution_count": 30,
   "id": "0d5b56c6",
   "metadata": {},
   "outputs": [
    {
     "data": {
      "text/html": [
       "<div>\n",
       "<style scoped>\n",
       "    .dataframe tbody tr th:only-of-type {\n",
       "        vertical-align: middle;\n",
       "    }\n",
       "\n",
       "    .dataframe tbody tr th {\n",
       "        vertical-align: top;\n",
       "    }\n",
       "\n",
       "    .dataframe thead th {\n",
       "        text-align: right;\n",
       "    }\n",
       "</style>\n",
       "<table border=\"1\" class=\"dataframe\">\n",
       "  <thead>\n",
       "    <tr style=\"text-align: right;\">\n",
       "      <th></th>\n",
       "      <th>Pclass</th>\n",
       "      <th>Fare</th>\n",
       "    </tr>\n",
       "  </thead>\n",
       "  <tbody>\n",
       "    <tr>\n",
       "      <th>Pclass</th>\n",
       "      <td>1.0000</td>\n",
       "      <td>-0.5495</td>\n",
       "    </tr>\n",
       "    <tr>\n",
       "      <th>Fare</th>\n",
       "      <td>-0.5495</td>\n",
       "      <td>1.0000</td>\n",
       "    </tr>\n",
       "  </tbody>\n",
       "</table>\n",
       "</div>"
      ],
      "text/plain": [
       "        Pclass    Fare\n",
       "Pclass  1.0000 -0.5495\n",
       "Fare   -0.5495  1.0000"
      ]
     },
     "execution_count": 30,
     "metadata": {},
     "output_type": "execute_result"
    }
   ],
   "source": [
    "df_Pclass_Fare = df_train[[\"Pclass\",\"Fare\"]]\n",
    "df_Pclass_Fare.corr()"
   ]
  },
  {
   "cell_type": "code",
   "execution_count": 31,
   "id": "e258fd55",
   "metadata": {},
   "outputs": [
    {
     "data": {
      "text/plain": [
       "<AxesSubplot:>"
      ]
     },
     "execution_count": 31,
     "metadata": {},
     "output_type": "execute_result"
    },
    {
     "data": {
      "image/png": "[encoded data removed]",
      "text/plain": [
       "<Figure size 720x504 with 2 Axes>"
      ]
     },
     "metadata": {},
     "output_type": "display_data"
    }
   ],
   "source": [
    "plt.figure(figsize=(10,7))\n",
    "sns.heatmap(df_Pclass_Fare.corr(),annot=True,linewidths=2, cmap=\"gray\")"
   ]
  },
  {
   "cell_type": "code",
   "execution_count": 32,
   "id": "a18ff14a",
   "metadata": {},
   "outputs": [
    {
     "data": {
      "text/html": [
       "<div>\n",
       "<style scoped>\n",
       "    .dataframe tbody tr th:only-of-type {\n",
       "        vertical-align: middle;\n",
       "    }\n",
       "\n",
       "    .dataframe tbody tr th {\n",
       "        vertical-align: top;\n",
       "    }\n",
       "\n",
       "    .dataframe thead th {\n",
       "        text-align: right;\n",
       "    }\n",
       "</style>\n",
       "<table border=\"1\" class=\"dataframe\">\n",
       "  <thead>\n",
       "    <tr style=\"text-align: right;\">\n",
       "      <th></th>\n",
       "      <th>Pclass</th>\n",
       "      <th>Survived</th>\n",
       "    </tr>\n",
       "  </thead>\n",
       "  <tbody>\n",
       "    <tr>\n",
       "      <th>Pclass</th>\n",
       "      <td>1.000000</td>\n",
       "      <td>-0.338481</td>\n",
       "    </tr>\n",
       "    <tr>\n",
       "      <th>Survived</th>\n",
       "      <td>-0.338481</td>\n",
       "      <td>1.000000</td>\n",
       "    </tr>\n",
       "  </tbody>\n",
       "</table>\n",
       "</div>"
      ],
      "text/plain": [
       "            Pclass  Survived\n",
       "Pclass    1.000000 -0.338481\n",
       "Survived -0.338481  1.000000"
      ]
     },
     "execution_count": 32,
     "metadata": {},
     "output_type": "execute_result"
    }
   ],
   "source": [
    "df_Pclass_Survived = df_train[[\"Pclass\",\"Survived\"]]\n",
    "df_Pclass_Survived.corr()"
   ]
  },
  {
   "cell_type": "code",
   "execution_count": 33,
   "id": "caf8c148",
   "metadata": {},
   "outputs": [
    {
     "data": {
      "text/plain": [
       "<AxesSubplot:>"
      ]
     },
     "execution_count": 33,
     "metadata": {},
     "output_type": "execute_result"
    },
    {
     "data": {
      "image/png": "[encoded data removed]",
      "text/plain": [
       "<Figure size 720x504 with 2 Axes>"
      ]
     },
     "metadata": {},
     "output_type": "display_data"
    }
   ],
   "source": [
    "plt.figure(figsize=(10,7))\n",
    "sns.heatmap(df_Pclass_Survived.corr(),annot=True,linewidths=2)"
   ]
  },
  {
   "cell_type": "code",
   "execution_count": 34,
   "id": "15619ab5",
   "metadata": {},
   "outputs": [],
   "source": [
    "from sklearn.cluster import KMeans"
   ]
  },
  {
   "cell_type": "code",
   "execution_count": 35,
   "id": "c58dd0c0",
   "metadata": {},
   "outputs": [],
   "source": [
    "df_train_km = df_train\n",
    "df_train_km.drop(['PassengerId','Name','Ticket'],axis=1,inplace=True)\n",
    "df_train_km.drop(['SibSp','Parch','Cabin'],axis=1,inplace=True)\n",
    "sex = pd.get_dummies(df_train_km['Sex'],drop_first=True)\n",
    "embark = pd.get_dummies(df_train_km['Embarked'],drop_first=True)\n",
    "df_train_km.drop(['Sex','Embarked'],axis=1,inplace=True)\n",
    "df_train_km = pd.concat([df_train_km,sex,embark],axis=1)"
   ]
  },
  {
   "cell_type": "code",
   "execution_count": 36,
   "id": "fd6cdaad",
   "metadata": {},
   "outputs": [
    {
     "data": {
      "text/plain": [
       "Text(0.5, 0, 'Passenger class')"
      ]
     },
     "execution_count": 36,
     "metadata": {},
     "output_type": "execute_result"
    },
    {
     "data": {
      "image/png": "[encoded data removed]",
      "text/plain": [
       "<Figure size 360x360 with 1 Axes>"
      ]
     },
     "metadata": {},
     "output_type": "display_data"
    }
   ],
   "source": [
    "f_class_Age=df_train_km.groupby('Pclass')['Age'].mean()\n",
    "f_class_Age = pd.DataFrame(f_class_Age)\n",
    "f_class_Age.plot.bar(y='Age')\n",
    "plt.title(\"Average age of passengers by class\",fontsize=17)\n",
    "plt.ylabel(\"Age (years)\", fontsize=17)\n",
    "plt.xlabel(\"Passenger class\", fontsize=17)"
   ]
  },
  {
   "cell_type": "code",
   "execution_count": 37,
   "id": "6a5c4f8e",
   "metadata": {},
   "outputs": [
    {
     "data": {
      "text/plain": [
       "Text(0.5, 1.0, 'Bar plot of the count of numeric features')"
      ]
     },
     "execution_count": 37,
     "metadata": {},
     "output_type": "execute_result"
    },
    {
     "data": {
      "image/png": "[encoded data removed]",
      "text/plain": [
       "<Figure size 360x360 with 1 Axes>"
      ]
     },
     "metadata": {},
     "output_type": "display_data"
    }
   ],
   "source": [
    "a=list(f_class_Age['Age'])\n",
    "def impute_age(cols):\n",
    "    Age = cols[0]\n",
    "    Pclass = cols[1]\n",
    "    \n",
    "    if pd.isnull(Age):\n",
    "\n",
    "        if Pclass == 1:\n",
    "            return a[0]\n",
    "\n",
    "        elif Pclass == 2:\n",
    "            return a[1]\n",
    "\n",
    "        else:\n",
    "            return a[2]\n",
    "\n",
    "    else:\n",
    "        return Age\n",
    "    \n",
    "df_train_km['Age'] = df_train_km[['Age','Pclass']].apply(impute_age,axis=1)\n",
    "d=df_train_km.describe()\n",
    "dT=d.T\n",
    "dT.plot.bar(y='count')\n",
    "plt.title(\"Bar plot of the count of numeric features\",fontsize=17)"
   ]
  },
  {
   "cell_type": "code",
   "execution_count": 38,
   "id": "e2498aa5",
   "metadata": {},
   "outputs": [
    {
     "data": {
      "text/plain": [
       "KMeans(max_iter=50, n_clusters=2, tol=0.001)"
      ]
     },
     "execution_count": 38,
     "metadata": {},
     "output_type": "execute_result"
    }
   ],
   "source": [
    "kmeans = KMeans(n_clusters=2,verbose=0,tol=1e-3,max_iter=50,n_init=10)\n",
    "kmeans.fit(df_train_km)"
   ]
  },
  {
   "cell_type": "code",
   "execution_count": 39,
   "id": "5f08e92c",
   "metadata": {},
   "outputs": [],
   "source": [
    "clus_cent=kmeans.cluster_centers_\n",
    "df_desc=pd.DataFrame(df_train_km.describe())\n",
    "feat = list(df_desc.columns)\n",
    "kmclus = pd.DataFrame(clus_cent,columns=feat)"
   ]
  },
  {
   "cell_type": "code",
   "execution_count": 40,
   "id": "eac42809",
   "metadata": {},
   "outputs": [],
   "source": [
    "def converter(cluster):\n",
    "    return cluster"
   ]
  },
  {
   "cell_type": "code",
   "execution_count": 41,
   "id": "6236ca54",
   "metadata": {},
   "outputs": [],
   "source": [
    "df1=df_train_km # Create a copy of data frame so that original data frame does not get 'corrupted' with the cluster index\n",
    "df1['Cluster'] = df_train_km['Survived'].apply(converter)"
   ]
  },
  {
   "cell_type": "code",
   "execution_count": 42,
   "id": "6a7d0598",
   "metadata": {},
   "outputs": [
    {
     "name": "stdout",
     "output_type": "stream",
     "text": [
      "[[535  14]\n",
      " [303  39]]\n",
      "              precision    recall  f1-score   support\n",
      "\n",
      "           0       0.64      0.97      0.77       549\n",
      "           1       0.74      0.11      0.20       342\n",
      "\n",
      "    accuracy                           0.64       891\n",
      "   macro avg       0.69      0.54      0.48       891\n",
      "weighted avg       0.68      0.64      0.55       891\n",
      "\n"
     ]
    }
   ],
   "source": [
    "from sklearn.metrics import confusion_matrix,classification_report\n",
    "print(confusion_matrix(df1['Cluster'],kmeans.labels_))\n",
    "print(classification_report(df1['Cluster'],kmeans.labels_))"
   ]
  },
  {
   "cell_type": "code",
   "execution_count": 43,
   "id": "c9662669",
   "metadata": {},
   "outputs": [],
   "source": [
    "df_survived=df_train_km[df_train_km['Survived']==1]\n",
    "df_non_survived=df_train_km[df_train_km['Survived']==0]"
   ]
  },
  {
   "cell_type": "code",
   "execution_count": 44,
   "id": "a9a0eea2",
   "metadata": {},
   "outputs": [],
   "source": [
    "df_survived=df_train_km[df_train_km['Survived']==1]\n",
    "df_non_survived=df_train_km[df_train_km['Survived']==0]"
   ]
  },
  {
   "cell_type": "code",
   "execution_count": 45,
   "id": "5093cc81",
   "metadata": {},
   "outputs": [],
   "source": [
    "a=np.array(kmclus.diff().iloc[1])\n",
    "centroid_diff = pd.DataFrame(a,columns=['K-means cluster centroid-distance'],index=df_desc.columns)\n",
    "centroid_diff['Mean of corresponding entity (survived)']=np.array(df_survived.drop('Survived',axis=1).mean())\n",
    "centroid_diff['Mean of corresponding entity (non_survived)']=np.array(df_non_survived.drop('Survived',axis=1).mean())\n"
   ]
  },
  {
   "cell_type": "markdown",
   "id": "1c2ef542",
   "metadata": {},
   "source": [
    "### 4 clusters"
   ]
  },
  {
   "cell_type": "code",
   "execution_count": 46,
   "id": "b858d0f2",
   "metadata": {},
   "outputs": [
    {
     "data": {
      "text/plain": [
       "KMeans(max_iter=50, n_clusters=4, tol=0.001)"
      ]
     },
     "execution_count": 46,
     "metadata": {},
     "output_type": "execute_result"
    }
   ],
   "source": [
    "kmeans = KMeans(n_clusters=4,verbose=0,tol=1e-3,max_iter=50,n_init=10)\n",
    "kmeans.fit(df_train_km.drop('Survived',axis=1))"
   ]
  },
  {
   "cell_type": "code",
   "execution_count": 47,
   "id": "c8362275",
   "metadata": {},
   "outputs": [],
   "source": [
    "clus_cent=kmeans.cluster_centers_\n",
    "df_desc=pd.DataFrame(df_train_km.drop('Survived',axis=1).describe())\n",
    "feat = list(df_desc.columns)\n",
    "kmclus = pd.DataFrame(clus_cent,columns=feat)"
   ]
  },
  {
   "cell_type": "code",
   "execution_count": 48,
   "id": "3960a178",
   "metadata": {},
   "outputs": [],
   "source": [
    "def converter(cluster):\n",
    "    return cluster"
   ]
  },
  {
   "cell_type": "code",
   "execution_count": 54,
   "id": "13d1d68b",
   "metadata": {},
   "outputs": [
    {
     "data": {
      "text/html": [
       "<div>\n",
       "<style scoped>\n",
       "    .dataframe tbody tr th:only-of-type {\n",
       "        vertical-align: middle;\n",
       "    }\n",
       "\n",
       "    .dataframe tbody tr th {\n",
       "        vertical-align: top;\n",
       "    }\n",
       "\n",
       "    .dataframe thead th {\n",
       "        text-align: right;\n",
       "    }\n",
       "</style>\n",
       "<table border=\"1\" class=\"dataframe\">\n",
       "  <thead>\n",
       "    <tr style=\"text-align: right;\">\n",
       "      <th></th>\n",
       "      <th>Survived</th>\n",
       "      <th>Pclass</th>\n",
       "      <th>Age</th>\n",
       "      <th>Fare</th>\n",
       "      <th>male</th>\n",
       "      <th>Q</th>\n",
       "      <th>S</th>\n",
       "      <th>Cluster</th>\n",
       "    </tr>\n",
       "  </thead>\n",
       "  <tbody>\n",
       "    <tr>\n",
       "      <th>0</th>\n",
       "      <td>0</td>\n",
       "      <td>3</td>\n",
       "      <td>22.0</td>\n",
       "      <td>7.2500</td>\n",
       "      <td>1</td>\n",
       "      <td>0</td>\n",
       "      <td>1</td>\n",
       "      <td>0</td>\n",
       "    </tr>\n",
       "    <tr>\n",
       "      <th>1</th>\n",
       "      <td>1</td>\n",
       "      <td>1</td>\n",
       "      <td>38.0</td>\n",
       "      <td>71.2833</td>\n",
       "      <td>0</td>\n",
       "      <td>0</td>\n",
       "      <td>0</td>\n",
       "      <td>1</td>\n",
       "    </tr>\n",
       "    <tr>\n",
       "      <th>2</th>\n",
       "      <td>1</td>\n",
       "      <td>3</td>\n",
       "      <td>26.0</td>\n",
       "      <td>7.9250</td>\n",
       "      <td>0</td>\n",
       "      <td>0</td>\n",
       "      <td>1</td>\n",
       "      <td>1</td>\n",
       "    </tr>\n",
       "    <tr>\n",
       "      <th>3</th>\n",
       "      <td>1</td>\n",
       "      <td>1</td>\n",
       "      <td>35.0</td>\n",
       "      <td>53.1000</td>\n",
       "      <td>0</td>\n",
       "      <td>0</td>\n",
       "      <td>1</td>\n",
       "      <td>1</td>\n",
       "    </tr>\n",
       "    <tr>\n",
       "      <th>4</th>\n",
       "      <td>0</td>\n",
       "      <td>3</td>\n",
       "      <td>35.0</td>\n",
       "      <td>8.0500</td>\n",
       "      <td>1</td>\n",
       "      <td>0</td>\n",
       "      <td>1</td>\n",
       "      <td>0</td>\n",
       "    </tr>\n",
       "  </tbody>\n",
       "</table>\n",
       "</div>"
      ],
      "text/plain": [
       "   Survived  Pclass   Age     Fare  male  Q  S  Cluster\n",
       "0         0       3  22.0   7.2500     1  0  1        0\n",
       "1         1       1  38.0  71.2833     0  0  0        1\n",
       "2         1       3  26.0   7.9250     0  0  1        1\n",
       "3         1       1  35.0  53.1000     0  0  1        1\n",
       "4         0       3  35.0   8.0500     1  0  1        0"
      ]
     },
     "execution_count": 54,
     "metadata": {},
     "output_type": "execute_result"
    }
   ],
   "source": [
    "df1=df_train_km # Create a copy of data frame so that original data frame does not get 'corrupted' with the cluster index\n",
    "df1['Cluster'] = df_train_km['Survived'].apply(converter)\n",
    "df1.head()"
   ]
  },
  {
   "cell_type": "code",
   "execution_count": 53,
   "id": "f05fd511",
   "metadata": {},
   "outputs": [
    {
     "name": "stdout",
     "output_type": "stream",
     "text": [
      "[[494  46   0   9]\n",
      " [231  89   3  19]\n",
      " [  0   0   0   0]\n",
      " [  0   0   0   0]]\n",
      "              precision    recall  f1-score   support\n",
      "\n",
      "           0       0.68      0.90      0.78       549\n",
      "           1       0.66      0.26      0.37       342\n",
      "           2       0.00      0.00      0.00         0\n",
      "           3       0.00      0.00      0.00         0\n",
      "\n",
      "    accuracy                           0.65       891\n",
      "   macro avg       0.34      0.29      0.29       891\n",
      "weighted avg       0.67      0.65      0.62       891\n",
      "\n"
     ]
    },
    {
     "name": "stderr",
     "output_type": "stream",
     "text": [
      "/home/mpheng/anaconda3/lib/python3.9/site-packages/sklearn/metrics/_classification.py:1318: UndefinedMetricWarning: Recall and F-score are ill-defined and being set to 0.0 in labels with no true samples. Use `zero_division` parameter to control this behavior.\n",
      "  _warn_prf(average, modifier, msg_start, len(result))\n",
      "/home/mpheng/anaconda3/lib/python3.9/site-packages/sklearn/metrics/_classification.py:1318: UndefinedMetricWarning: Recall and F-score are ill-defined and being set to 0.0 in labels with no true samples. Use `zero_division` parameter to control this behavior.\n",
      "  _warn_prf(average, modifier, msg_start, len(result))\n",
      "/home/mpheng/anaconda3/lib/python3.9/site-packages/sklearn/metrics/_classification.py:1318: UndefinedMetricWarning: Recall and F-score are ill-defined and being set to 0.0 in labels with no true samples. Use `zero_division` parameter to control this behavior.\n",
      "  _warn_prf(average, modifier, msg_start, len(result))\n"
     ]
    },
    {
     "data": {
      "text/plain": [
       "<AxesSubplot:>"
      ]
     },
     "execution_count": 53,
     "metadata": {},
     "output_type": "execute_result"
    },
    {
     "data": {
      "image/png": "[encoded data removed]",
      "text/plain": [
       "<Figure size 720x504 with 2 Axes>"
      ]
     },
     "metadata": {},
     "output_type": "display_data"
    }
   ],
   "source": [
    "from sklearn.metrics import confusion_matrix,classification_report\n",
    "print(confusion_matrix(df1['Cluster'],kmeans.labels_))\n",
    "print(classification_report(df1['Cluster'],kmeans.labels_))\n",
    "plt.figure(figsize=(10,7))\n",
    "sns.heatmap(confusion_matrix(df1['Cluster'],kmeans.labels_),annot=True,linewidths=2)"
   ]
  },
  {
   "cell_type": "code",
   "execution_count": 51,
   "id": "177e10c4",
   "metadata": {},
   "outputs": [],
   "source": [
    "df_survived=df_train_km[df_train_km['Survived']==1]\n",
    "df_non_survived=df_train_km[df_train_km['Survived']==0]"
   ]
  },
  {
   "cell_type": "code",
   "execution_count": 52,
   "id": "eae98076",
   "metadata": {},
   "outputs": [],
   "source": [
    "a=np.array(kmclus.diff().iloc[1])\n",
    "centroid_diff = pd.DataFrame(a,columns=['K-means cluster centroid-distance'],index=df_desc.columns)\n",
    "centroid_diff['Mean of corresponding entity (survived)']=np.array(df_survived.drop('Survived',axis=1).mean())\n",
    "centroid_diff['Mean of corresponding entity (non_survived)']=np.array(df_non_survived.drop('Survived',axis=1).mean())"
   ]
  }
 ],
 "metadata": {
  "kernelspec": {
   "display_name": "Python 3 (ipykernel)",
   "language": "python",
   "name": "python3"
  },
  "language_info": {
   "codemirror_mode": {
    "name": "ipython",
    "version": 3
   },
   "file_extension": ".py",
   "mimetype": "text/x-python",
   "name": "python",
   "nbconvert_exporter": "python",
   "pygments_lexer": "ipython3",
   "version": "3.9.12"
  }
 },
 "nbformat": 4,
 "nbformat_minor": 5
}
