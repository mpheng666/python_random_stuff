{
 "cells": [
  {
   "cell_type": "markdown",
   "id": "bc2d013e",
   "metadata": {},
   "source": [
    "## Mini Project\n",
    "### Python in ML\n",
    "### Amir- 2022"
   ]
  },
  {
   "cell_type": "code",
   "execution_count": 1,
   "id": "2097fb16",
   "metadata": {},
   "outputs": [
    {
     "data": {
      "text/plain": [
       "\" \\n1- Use Nice_smaller image data set\\n2- There are 2 classes, Male and Female\\n3- There are 518 images per class\\n4- Develop a deep learning classifier\\n5- Use 90% of images for training and 10% for testing and evaluation\\n6- Complete the table below by changing the deep learning config \\n(number of layers, number of neurons, activation function, and so on) 3 times, \\nand report the accuracy, precision, and recall\\n7- Set the training epochs to 25\\n8- If you've got enough time, increase the training epochs to 60 and repeat the tests\\n\\n\""
      ]
     },
     "execution_count": 1,
     "metadata": {},
     "output_type": "execute_result"
    }
   ],
   "source": [
    "''' \n",
    "1- Use Nice_smaller image data set\n",
    "2- There are 2 classes, Male and Female\n",
    "3- There are 518 images per class\n",
    "4- Develop a deep learning classifier\n",
    "5- Use 90% of images for training and 10% for testing and evaluation\n",
    "6- Complete the table below by changing the deep learning config \n",
    "(number of layers, number of neurons, activation function, and so on) 3 times, \n",
    "and report the accuracy, precision, and recall\n",
    "7- Set the training epochs to 25\n",
    "8- If you've got enough time, increase the training epochs to 60 and repeat the tests\n",
    "\n",
    "'''"
   ]
  },
  {
   "attachments": {
    "image.png": {
     "image/png": "[encoded data removed]"
    }
   },
   "cell_type": "markdown",
   "id": "ca2879a8",
   "metadata": {},
   "source": [
    "Test\tDeep learning system Config\tAccuracy \tPrecision \tRecall\n",
    "\n",
    "1\n",
    "\n",
    "2\t\t\t\t\n",
    "\n",
    "3\n",
    "\n",
    "![image.png](attachment:image.png)"
   ]
  },
  {
   "cell_type": "code",
   "execution_count": null,
   "id": "17e1ea68",
   "metadata": {},
   "outputs": [],
   "source": []
  }
 ],
 "metadata": {
  "kernelspec": {
   "display_name": "Python 3",
   "language": "python",
   "name": "python3"
  },
  "language_info": {
   "codemirror_mode": {
    "name": "ipython",
    "version": 3
   },
   "file_extension": ".py",
   "mimetype": "text/x-python",
   "name": "python",
   "nbconvert_exporter": "python",
   "pygments_lexer": "ipython3",
   "version": "3.8.8"
  }
 },
 "nbformat": 4,
 "nbformat_minor": 5
}
