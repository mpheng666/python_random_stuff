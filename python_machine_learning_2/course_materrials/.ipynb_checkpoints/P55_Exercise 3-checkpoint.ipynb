{
 "cells": [
  {
   "cell_type": "markdown",
   "id": "11082973",
   "metadata": {},
   "source": [
    "## Exercise 3\n",
    "### Data preparation, and visualization\n",
    "### Complete this notebook and upload it before the deadline please"
   ]
  },
  {
   "cell_type": "code",
   "execution_count": 1,
   "id": "0dc11ba7",
   "metadata": {},
   "outputs": [
    {
     "data": {
      "text/plain": [
       "' \\n1- READ THE contents of celeb1-bad.csv   \\n2- Realize which variables have got empty cells\\n3- Remove any data samples with empty cell/cells\\n4- Prove that dataset is OK now\\n5- Save it as celebs1-good1.csv\\n\\n'"
      ]
     },
     "execution_count": 1,
     "metadata": {},
     "output_type": "execute_result"
    }
   ],
   "source": [
    "''' \n",
    "1- READ THE contents of celeb1-bad.csv   \n",
    "2- Realize which variables have got empty cells\n",
    "3- Remove any data samples with empty cell/cells\n",
    "4- Prove that dataset is OK now\n",
    "5- Save it as celebs1-good1.csv\n",
    "\n",
    "'''"
   ]
  },
  {
   "cell_type": "code",
   "execution_count": 2,
   "id": "5726b4ce",
   "metadata": {},
   "outputs": [],
   "source": [
    "import numpy as np\n",
    "import pandas as pd\n",
    "import matplotlib.pyplot as plt"
   ]
  },
  {
   "cell_type": "code",
   "execution_count": 29,
   "id": "c924e0aa",
   "metadata": {},
   "outputs": [
    {
     "data": {
      "text/html": [
       "<div>\n",
       "<style scoped>\n",
       "    .dataframe tbody tr th:only-of-type {\n",
       "        vertical-align: middle;\n",
       "    }\n",
       "\n",
       "    .dataframe tbody tr th {\n",
       "        vertical-align: top;\n",
       "    }\n",
       "\n",
       "    .dataframe thead th {\n",
       "        text-align: right;\n",
       "    }\n",
       "</style>\n",
       "<table border=\"1\" class=\"dataframe\">\n",
       "  <thead>\n",
       "    <tr style=\"text-align: right;\">\n",
       "      <th></th>\n",
       "      <th>name</th>\n",
       "      <th>height</th>\n",
       "      <th>weight</th>\n",
       "      <th>gender</th>\n",
       "    </tr>\n",
       "  </thead>\n",
       "  <tbody>\n",
       "    <tr>\n",
       "      <th>0</th>\n",
       "      <td>Adriana Lima</td>\n",
       "      <td>177.80</td>\n",
       "      <td>115.0</td>\n",
       "      <td>f</td>\n",
       "    </tr>\n",
       "    <tr>\n",
       "      <th>1</th>\n",
       "      <td>Alicia Keys</td>\n",
       "      <td>167.64</td>\n",
       "      <td>120.0</td>\n",
       "      <td>f</td>\n",
       "    </tr>\n",
       "    <tr>\n",
       "      <th>2</th>\n",
       "      <td>Angelina Jolie</td>\n",
       "      <td>172.70</td>\n",
       "      <td>122.0</td>\n",
       "      <td>f</td>\n",
       "    </tr>\n",
       "    <tr>\n",
       "      <th>3</th>\n",
       "      <td>Anna Kournikova</td>\n",
       "      <td>172.70</td>\n",
       "      <td>120.0</td>\n",
       "      <td>f</td>\n",
       "    </tr>\n",
       "    <tr>\n",
       "      <th>4</th>\n",
       "      <td>Ashley Judd</td>\n",
       "      <td>170.20</td>\n",
       "      <td>125.0</td>\n",
       "      <td>f</td>\n",
       "    </tr>\n",
       "    <tr>\n",
       "      <th>5</th>\n",
       "      <td>Avril Lavigne</td>\n",
       "      <td>157.50</td>\n",
       "      <td>113.0</td>\n",
       "      <td>f</td>\n",
       "    </tr>\n",
       "    <tr>\n",
       "      <th>6</th>\n",
       "      <td>Bar Rafaeli</td>\n",
       "      <td>174.00</td>\n",
       "      <td>128.0</td>\n",
       "      <td>f</td>\n",
       "    </tr>\n",
       "    <tr>\n",
       "      <th>7</th>\n",
       "      <td>Beyonce Knowles</td>\n",
       "      <td>167.60</td>\n",
       "      <td>129.0</td>\n",
       "      <td>f</td>\n",
       "    </tr>\n",
       "    <tr>\n",
       "      <th>8</th>\n",
       "      <td>Blake Lively</td>\n",
       "      <td>172.70</td>\n",
       "      <td>NaN</td>\n",
       "      <td>f</td>\n",
       "    </tr>\n",
       "    <tr>\n",
       "      <th>9</th>\n",
       "      <td>Carmen Electra</td>\n",
       "      <td>160.00</td>\n",
       "      <td>113.0</td>\n",
       "      <td>f</td>\n",
       "    </tr>\n",
       "  </tbody>\n",
       "</table>\n",
       "</div>"
      ],
      "text/plain": [
       "              name  height  weight gender\n",
       "0     Adriana Lima  177.80   115.0      f\n",
       "1      Alicia Keys  167.64   120.0      f\n",
       "2   Angelina Jolie  172.70   122.0      f\n",
       "3  Anna Kournikova  172.70   120.0      f\n",
       "4      Ashley Judd  170.20   125.0      f\n",
       "5    Avril Lavigne  157.50   113.0      f\n",
       "6      Bar Rafaeli  174.00   128.0      f\n",
       "7  Beyonce Knowles  167.60   129.0      f\n",
       "8     Blake Lively  172.70     NaN      f\n",
       "9   Carmen Electra  160.00   113.0      f"
      ]
     },
     "execution_count": 29,
     "metadata": {},
     "output_type": "execute_result"
    }
   ],
   "source": [
    "df = pd.read_csv(\"celebs1-bad.csv\", encoding_errors='ignore')\n",
    "df.head(10)"
   ]
  },
  {
   "cell_type": "code",
   "execution_count": 30,
   "id": "df84b495",
   "metadata": {},
   "outputs": [
    {
     "name": "stdout",
     "output_type": "stream",
     "text": [
      "name has NO missing value!\n",
      "height has 2 missing value(s)\n",
      "weight has 3 missing value(s)\n",
      "gender has NO missing value!\n"
     ]
    }
   ],
   "source": [
    "for c in df.columns:\n",
    "    miss = df[c].isnull().sum()\n",
    "    if miss>0:\n",
    "        print(\"{} has {} missing value(s)\".format(c,miss))\n",
    "    else:\n",
    "        print(\"{} has NO missing value!\".format(c))"
   ]
  },
  {
   "cell_type": "code",
   "execution_count": 31,
   "id": "696781b9",
   "metadata": {},
   "outputs": [],
   "source": [
    "df.dropna(axis=1, inplace=True)"
   ]
  },
  {
   "cell_type": "code",
   "execution_count": 32,
   "id": "aad7f5ae",
   "metadata": {},
   "outputs": [
    {
     "name": "stdout",
     "output_type": "stream",
     "text": [
      "name has NO missing value!\n",
      "gender has NO missing value!\n"
     ]
    }
   ],
   "source": [
    "for c in df.columns:\n",
    "    miss = df[c].isnull().sum()\n",
    "    if miss>0:\n",
    "        print(\"{} has {} missing value(s)\".format(c,miss))\n",
    "    else:\n",
    "        print(\"{} has NO missing value!\".format(c))"
   ]
  },
  {
   "cell_type": "code",
   "execution_count": 3,
   "id": "4d585251",
   "metadata": {},
   "outputs": [
    {
     "data": {
      "text/plain": [
       "\" \\n1- READ THE contents of celeb1-bad.csv   \\n2- Realize which variables have got empty cells\\n3- Replace any empty cell with the average of its column\\n4- Prove that dataset is OK now\\n5- Weights are in Pounds now, convert them to kG and replace the same column\\n6- Gender are 'f' and 'm' now, replace them with 0.1 and 0.9 respectively\\n7- Show the histogram of all 3 non-nominal variables, and the pie chart of the 'gender' variable\\n8- Print the mean of all 3 non-nominal variables.\\n9- Save the results on celebs1-good2.csv\\n\\n\""
      ]
     },
     "execution_count": 3,
     "metadata": {},
     "output_type": "execute_result"
    }
   ],
   "source": [
    "''' \n",
    "1- READ THE contents of celeb1-bad.csv   \n",
    "2- Realize which variables have got empty cells\n",
    "3- Replace any empty cell with the average of its column\n",
    "4- Prove that dataset is OK now\n",
    "5- Weights are in Pounds now, convert them to kG and replace the same column\n",
    "6- Gender are 'f' and 'm' now, replace them with 0.1 and 0.9 respectively\n",
    "7- Show the histogram of all 3 non-nominal variables, and the pie chart of the 'gender' variable\n",
    "8- Print the mean of all 3 non-nominal variables.\n",
    "9- Save the results on celebs1-good2.csv\n",
    "\n",
    "'''"
   ]
  },
  {
   "cell_type": "code",
   "execution_count": 33,
   "id": "d147a225",
   "metadata": {},
   "outputs": [
    {
     "data": {
      "text/html": [
       "<div>\n",
       "<style scoped>\n",
       "    .dataframe tbody tr th:only-of-type {\n",
       "        vertical-align: middle;\n",
       "    }\n",
       "\n",
       "    .dataframe tbody tr th {\n",
       "        vertical-align: top;\n",
       "    }\n",
       "\n",
       "    .dataframe thead th {\n",
       "        text-align: right;\n",
       "    }\n",
       "</style>\n",
       "<table border=\"1\" class=\"dataframe\">\n",
       "  <thead>\n",
       "    <tr style=\"text-align: right;\">\n",
       "      <th></th>\n",
       "      <th>name</th>\n",
       "      <th>height</th>\n",
       "      <th>weight</th>\n",
       "      <th>gender</th>\n",
       "    </tr>\n",
       "  </thead>\n",
       "  <tbody>\n",
       "    <tr>\n",
       "      <th>0</th>\n",
       "      <td>Adriana Lima</td>\n",
       "      <td>177.80</td>\n",
       "      <td>115.0</td>\n",
       "      <td>f</td>\n",
       "    </tr>\n",
       "    <tr>\n",
       "      <th>1</th>\n",
       "      <td>Alicia Keys</td>\n",
       "      <td>167.64</td>\n",
       "      <td>120.0</td>\n",
       "      <td>f</td>\n",
       "    </tr>\n",
       "    <tr>\n",
       "      <th>2</th>\n",
       "      <td>Angelina Jolie</td>\n",
       "      <td>172.70</td>\n",
       "      <td>122.0</td>\n",
       "      <td>f</td>\n",
       "    </tr>\n",
       "    <tr>\n",
       "      <th>3</th>\n",
       "      <td>Anna Kournikova</td>\n",
       "      <td>172.70</td>\n",
       "      <td>120.0</td>\n",
       "      <td>f</td>\n",
       "    </tr>\n",
       "    <tr>\n",
       "      <th>4</th>\n",
       "      <td>Ashley Judd</td>\n",
       "      <td>170.20</td>\n",
       "      <td>125.0</td>\n",
       "      <td>f</td>\n",
       "    </tr>\n",
       "    <tr>\n",
       "      <th>5</th>\n",
       "      <td>Avril Lavigne</td>\n",
       "      <td>157.50</td>\n",
       "      <td>113.0</td>\n",
       "      <td>f</td>\n",
       "    </tr>\n",
       "    <tr>\n",
       "      <th>6</th>\n",
       "      <td>Bar Rafaeli</td>\n",
       "      <td>174.00</td>\n",
       "      <td>128.0</td>\n",
       "      <td>f</td>\n",
       "    </tr>\n",
       "    <tr>\n",
       "      <th>7</th>\n",
       "      <td>Beyonce Knowles</td>\n",
       "      <td>167.60</td>\n",
       "      <td>129.0</td>\n",
       "      <td>f</td>\n",
       "    </tr>\n",
       "    <tr>\n",
       "      <th>8</th>\n",
       "      <td>Blake Lively</td>\n",
       "      <td>172.70</td>\n",
       "      <td>NaN</td>\n",
       "      <td>f</td>\n",
       "    </tr>\n",
       "    <tr>\n",
       "      <th>9</th>\n",
       "      <td>Carmen Electra</td>\n",
       "      <td>160.00</td>\n",
       "      <td>113.0</td>\n",
       "      <td>f</td>\n",
       "    </tr>\n",
       "  </tbody>\n",
       "</table>\n",
       "</div>"
      ],
      "text/plain": [
       "              name  height  weight gender\n",
       "0     Adriana Lima  177.80   115.0      f\n",
       "1      Alicia Keys  167.64   120.0      f\n",
       "2   Angelina Jolie  172.70   122.0      f\n",
       "3  Anna Kournikova  172.70   120.0      f\n",
       "4      Ashley Judd  170.20   125.0      f\n",
       "5    Avril Lavigne  157.50   113.0      f\n",
       "6      Bar Rafaeli  174.00   128.0      f\n",
       "7  Beyonce Knowles  167.60   129.0      f\n",
       "8     Blake Lively  172.70     NaN      f\n",
       "9   Carmen Electra  160.00   113.0      f"
      ]
     },
     "execution_count": 33,
     "metadata": {},
     "output_type": "execute_result"
    }
   ],
   "source": [
    "df = pd.read_csv(\"celebs1-bad.csv\", encoding_errors='ignore')\n",
    "df.head(10)"
   ]
  },
  {
   "cell_type": "code",
   "execution_count": 49,
   "id": "3a810404",
   "metadata": {},
   "outputs": [
    {
     "name": "stdout",
     "output_type": "stream",
     "text": [
      "name has NO missing value!\n",
      "height has NO missing value!\n",
      "weight has NO missing value!\n",
      "gender has NO missing value!\n"
     ]
    }
   ],
   "source": [
    "missing_columns = []\n",
    "for c in df.columns:\n",
    "    miss = df[c].isnull().sum()\n",
    "    if miss>0:\n",
    "        missing_columns.append(c)\n",
    "        print(\"{} has {} missing value(s)\".format(c,miss))\n",
    "    else:\n",
    "        print(\"{} has NO missing value!\".format(c))\n",
    "        \n",
    "        "
   ]
  },
  {
   "cell_type": "markdown",
   "id": "693a06ff",
   "metadata": {},
   "source": []
  },
  {
   "cell_type": "code",
   "execution_count": 47,
   "id": "5ab6560c",
   "metadata": {},
   "outputs": [],
   "source": [
    "for i in range(1,len(df.columns)-1):\n",
    "    df.iloc[:,i].fillna(df.iloc[:,i].mean(), inplace = True)\n",
    "    "
   ]
  },
  {
   "cell_type": "code",
   "execution_count": 48,
   "id": "cf414b19",
   "metadata": {},
   "outputs": [
    {
     "name": "stdout",
     "output_type": "stream",
     "text": [
      "name has NO missing value!\n",
      "height has NO missing value!\n",
      "weight has NO missing value!\n",
      "gender has NO missing value!\n"
     ]
    }
   ],
   "source": [
    "for c in df.columns:\n",
    "    miss = df[c].isnull().sum()\n",
    "    if miss>0:\n",
    "        print(\"{} has {} missing value(s)\".format(c,miss))\n",
    "    else:\n",
    "        print(\"{} has NO missing value!\".format(c))"
   ]
  },
  {
   "cell_type": "code",
   "execution_count": null,
   "id": "de20fa7d",
   "metadata": {},
   "outputs": [],
   "source": []
  }
 ],
 "metadata": {
  "kernelspec": {
   "display_name": "Python 3 (ipykernel)",
   "language": "python",
   "name": "python3"
  },
  "language_info": {
   "codemirror_mode": {
    "name": "ipython",
    "version": 3
   },
   "file_extension": ".py",
   "mimetype": "text/x-python",
   "name": "python",
   "nbconvert_exporter": "python",
   "pygments_lexer": "ipython3",
   "version": "3.9.12"
  }
 },
 "nbformat": 4,
 "nbformat_minor": 5
}
