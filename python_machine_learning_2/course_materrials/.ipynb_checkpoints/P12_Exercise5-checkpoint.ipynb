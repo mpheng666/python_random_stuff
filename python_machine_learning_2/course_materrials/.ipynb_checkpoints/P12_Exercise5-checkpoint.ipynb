{
 "cells": [
  {
   "cell_type": "markdown",
   "id": "e7caec56",
   "metadata": {},
   "source": [
    "## Exercise 5\n",
    "### Classification and Clustering\n",
    "### Amir - 2022\n",
    "# ....................... \n"
   ]
  },
  {
   "cell_type": "code",
   "execution_count": null,
   "id": "da26b937",
   "metadata": {},
   "outputs": [],
   "source": [
    "''' \n",
    "1- Open creditcard2_smaller.csv file\n",
    "2- there are roughly 10000 credit card transactions information saved here\n",
    "3- for each transaction, there are 29 features (columns 0 to 28), and a transaction class label (column 29) \n",
    "4- class label== 0 --> a valid transaction, whereas class label== 1 --> a fraudulent transaction\n",
    "5- plot the histogram of class labels, what you can get from that?\n",
    "6- keep 70% of your samples for training, and 30% for testing. \n",
    "7- develop a decision tree classifier, train it, and test it. \n",
    "8- report the confusion matrix and the classification report\n",
    "9- Try to optimize the parameters and run the program once again\n",
    "10- report the best results achived\n",
    "11- What Is The Biggest Weakness of your classifier?\n",
    "12- repeat steps 7 to 11 for a logistic regressor model\n",
    "\n",
    "'''"
   ]
  },
  {
   "cell_type": "code",
   "execution_count": null,
   "id": "0f65b115",
   "metadata": {},
   "outputs": [],
   "source": [
    "import pandas as pd\n",
    "import numpy as np\n",
    "import matplotlib.pyplot as plt\n",
    "import seaborn as sns\n",
    "%matplotlib inline\n",
    "plt.style.use('seaborn')\n",
    "df = pd.read_csv('creditcard2_smaller.csv')"
   ]
  },
  {
   "cell_type": "code",
   "execution_count": null,
   "id": "0b472213",
   "metadata": {},
   "outputs": [],
   "source": [
    "df.shape"
   ]
  },
  {
   "cell_type": "code",
   "execution_count": null,
   "id": "8655faf9",
   "metadata": {},
   "outputs": [],
   "source": [
    "df.columns"
   ]
  },
  {
   "cell_type": "code",
   "execution_count": null,
   "id": "2be6e083",
   "metadata": {},
   "outputs": [],
   "source": [
    "df.info()"
   ]
  },
  {
   "cell_type": "code",
   "execution_count": null,
   "id": "cfc037be",
   "metadata": {},
   "outputs": [],
   "source": [
    "df.head()"
   ]
  },
  {
   "cell_type": "code",
   "execution_count": null,
   "id": "7ad6e780",
   "metadata": {},
   "outputs": [],
   "source": [
    "plt.rcParams[\"figure.figsize\"] = (5,50)\n",
    "fig, axs = plt.subplots(len(df.columns))\n",
    "for i in range(0,len(df.columns)):\n",
    "    axs[i].hist(df.iloc[i])"
   ]
  },
  {
   "cell_type": "code",
   "execution_count": null,
   "id": "3cbc87b0",
   "metadata": {
    "scrolled": true
   },
   "outputs": [],
   "source": [
    "# df[df.iloc[-1]==1]['fico'].plot.hist(bins=30,alpha=0.5,color='blue', label='Valid=1')\n",
    "# df[df.iloc[-1]==0]['fico'].plot.hist(bins=30,alpha=0.5, color='red', label='Valid=0')\n",
    "# plt.legend(fontsize=15)\n",
    "# plt.title (\"Histogram of FICO score by approved or disapproved credit policies\", fontsize=16)\n",
    "# plt.xlabel(\"FICO score\", fontsize=14)"
   ]
  },
  {
   "cell_type": "code",
   "execution_count": null,
   "id": "0e70f2a4",
   "metadata": {},
   "outputs": [],
   "source": [
    "from sklearn.model_selection import train_test_split\n",
    "df_dropped = df.iloc[: , :-1]\n",
    "X = df_dropped\n",
    "y = df.iloc[:,-1:]\n",
    "# y\n",
    "X_train, X_test, y_train, y_test = train_test_split(X, y, test_size=0.30)"
   ]
  },
  {
   "cell_type": "code",
   "execution_count": null,
   "id": "d6d55a6d",
   "metadata": {},
   "outputs": [],
   "source": [
    "from sklearn.tree import DecisionTreeClassifier"
   ]
  },
  {
   "cell_type": "code",
   "execution_count": null,
   "id": "e31372c2",
   "metadata": {},
   "outputs": [],
   "source": [
    "dtree = DecisionTreeClassifier(criterion='gini',max_depth=None)"
   ]
  },
  {
   "cell_type": "code",
   "execution_count": null,
   "id": "4d291c04",
   "metadata": {},
   "outputs": [],
   "source": [
    "dtree.fit(X_train,y_train)"
   ]
  },
  {
   "cell_type": "code",
   "execution_count": null,
   "id": "328396c0",
   "metadata": {},
   "outputs": [],
   "source": [
    "predictions = dtree.predict(X_test)"
   ]
  },
  {
   "cell_type": "code",
   "execution_count": null,
   "id": "dc4ec90f",
   "metadata": {},
   "outputs": [],
   "source": [
    "from sklearn.metrics import classification_report,confusion_matrix"
   ]
  },
  {
   "cell_type": "code",
   "execution_count": null,
   "id": "68b3d47c",
   "metadata": {},
   "outputs": [],
   "source": [
    "cm=confusion_matrix(y_test,predictions)\n",
    "print(cm)\n",
    "print (\"Accuracy of prediction:\",round((cm[0,0]+cm[1,1])/cm.sum(),3))"
   ]
  },
  {
   "cell_type": "code",
   "execution_count": null,
   "id": "cfa4d779",
   "metadata": {},
   "outputs": [],
   "source": [
    "from matplotlib.colors import LogNorm, Normalize\n",
    "plt.rcParams[\"figure.figsize\"] = (5,5)\n",
    "sns.heatmap(cm,linewidth=1, annot=True, norm=LogNorm())\n",
    "plt.show()"
   ]
  },
  {
   "cell_type": "code",
   "execution_count": null,
   "id": "35d98bf9",
   "metadata": {},
   "outputs": [],
   "source": [
    "print(classification_report(y_test,predictions))"
   ]
  },
  {
   "cell_type": "code",
   "execution_count": null,
   "id": "53f456e0",
   "metadata": {},
   "outputs": [],
   "source": [
    "# Use AUC(Area under curve) as evaluation metric as it is a binary classification problem\n",
    "from sklearn.metrics import roc_curve, auc\n",
    "false_positive_rate, true_positive_rate, thresholds = roc_curve(y_test, predictions)\n",
    "roc_auc = auc(false_positive_rate, true_positive_rate)\n",
    "roc_auc"
   ]
  },
  {
   "cell_type": "code",
   "execution_count": null,
   "id": "d4213ee1",
   "metadata": {},
   "outputs": [],
   "source": [
    "max_depths = np.linspace(1, 32, 32, endpoint=True)\n",
    "train_results = []\n",
    "test_results = []\n",
    "for max_depth in max_depths:\n",
    "    dt = DecisionTreeClassifier(max_depth=max_depth)\n",
    "    dt.fit(X_train, y_train)   \n",
    "    train_pred = dt.predict(X_train)   \n",
    "    false_positive_rate, true_positive_rate, thresholds = roc_curve(y_train, train_pred)\n",
    "    roc_auc = auc(false_positive_rate, true_positive_rate)\n",
    "    # Add auc score to previous train results\n",
    "    train_results.append(roc_auc)   \n",
    "    y_pred = dt.predict(X_test)   \n",
    "    false_positive_rate, true_positive_rate, thresholds = roc_curve(y_test, y_pred)\n",
    "    roc_auc = auc(false_positive_rate, true_positive_rate)\n",
    "    # Add auc score to previous test results\n",
    "    test_results.append(roc_auc)\n",
    "    \n",
    "from matplotlib.legend_handler import HandlerLine2D\n",
    "line1, = plt.plot(max_depths, train_results, 'b', label='Train AUC')\n",
    "line2, = plt.plot(max_depths, test_results, 'r', label='Test AUC')\n",
    "plt.legend(handler_map={line1: HandlerLine2D(numpoints=2)})\n",
    "plt.ylabel('AUC score')\n",
    "plt.xlabel('Tree depth')\n",
    "plt.show()"
   ]
  },
  {
   "cell_type": "code",
   "execution_count": null,
   "id": "5acee42f",
   "metadata": {},
   "outputs": [],
   "source": [
    "from sklearn.ensemble import RandomForestClassifier\n",
    "from sklearn.metrics import accuracy_score"
   ]
  },
  {
   "cell_type": "code",
   "execution_count": null,
   "id": "2ed77af0",
   "metadata": {},
   "outputs": [],
   "source": [
    "nsimu = 21\n",
    "accuracy=[0]*nsimu\n",
    "ntree = [0]*nsimu\n",
    "cmatrices = [0]*nsimu\n",
    "for i in range(1,nsimu):\n",
    "    rfc = RandomForestClassifier(n_estimators=i*5,min_samples_split=10,max_depth=None,criterion='gini')\n",
    "    rfc.fit(X_train, y_train.values.ravel())\n",
    "    rfc_pred = rfc.predict(X_test)\n",
    "#     cm = confusion_matrix(y_test,rfc_pred)\n",
    "#     accuracy[i] = (cm[0,0]+cm[1,1])/cm.sum()\n",
    "    accuracy[i] = accuracy_score(y_test, rfc_pred)\n",
    "    cmatrices[i] = confusion_matrix(y_test,rfc_pred)\n",
    "    ntree[i]=i*5"
   ]
  },
  {
   "cell_type": "code",
   "execution_count": null,
   "id": "5b9a226d",
   "metadata": {},
   "outputs": [],
   "source": [
    "plt.figure(figsize=(10,6))\n",
    "plt.scatter(x=ntree[1:nsimu],y=accuracy[1:nsimu],s=60,c='red')\n",
    "plt.title(\"Number of trees in the Random Forest vs. prediction accuracy (criterion: 'gini')\", fontsize=18)\n",
    "plt.xlabel(\"Number of trees\", fontsize=15)\n",
    "plt.ylabel(\"Prediction accuracy from confusion matrix\", fontsize=15)"
   ]
  },
  {
   "cell_type": "code",
   "execution_count": null,
   "id": "578ec506",
   "metadata": {},
   "outputs": [],
   "source": [
    "sns.heatmap(cm,linewidth=1, annot=True, norm=LogNorm())\n",
    "plt.show()"
   ]
  },
  {
   "cell_type": "code",
   "execution_count": null,
   "id": "3c5c2085",
   "metadata": {},
   "outputs": [],
   "source": [
    "from sklearn.linear_model import LogisticRegression\n",
    "from sklearn.metrics import classification_report\n",
    "nsimu=10\n",
    "penalty=[0]*nsimu\n",
    "logmodel=[0]*nsimu\n",
    "predictions =[0]*nsimu\n",
    "class_report = [0]*nsimu\n",
    "f1=[0]*nsimu\n",
    "for i in range(1,nsimu):\n",
    "        logmodel[i] =LogisticRegression(C=i/100,tol=1e-4, max_iter=600,n_jobs=4)\n",
    "        logmodel[i].fit(X_train,y_train.values.ravel())\n",
    "        predictions[i] = logmodel[i].predict(X_test)\n",
    "        class_report[i] = classification_report(y_test,predictions[i])\n",
    "        l=class_report[i].split()\n",
    "        f1[i] = l[len(l)-2]\n",
    "        penalty[i]=1000/i\n",
    "        \n",
    "plt.scatter(penalty[1:len(penalty)-2],f1[1:len(f1)-2])\n",
    "plt.title(\"F1-score vs. regularization parameter\",fontsize=20)\n",
    "plt.xlabel(\"Penalty parameter\",fontsize=17)\n",
    "plt.ylabel(\"F1-score on test data\",fontsize=17)\n",
    "plt.show()\n",
    "\n"
   ]
  },
  {
   "cell_type": "code",
   "execution_count": null,
   "id": "f6af6b5c",
   "metadata": {},
   "outputs": [],
   "source": [
    "cm=confusion_matrix(y_test,predictions[1])\n",
    "print(cm)\n",
    "print (\"Accuracy of prediction:\",round((cm[0,0]+cm[1,1])/cm.sum(),3))"
   ]
  },
  {
   "cell_type": "code",
   "execution_count": null,
   "id": "78e10556",
   "metadata": {},
   "outputs": [],
   "source": [
    "sns.heatmap(cm,linewidth=1, annot=True, norm=LogNorm())\n",
    "plt.show()"
   ]
  },
  {
   "cell_type": "code",
   "execution_count": null,
   "id": "faeefdbb",
   "metadata": {},
   "outputs": [],
   "source": [
    "'''  \n",
    "1- Open titanc_train.csv\n",
    "2- Remove any data samples with empty cells\n",
    "3- Try to measure the correlation between 'Pclass' and 'Fare'\n",
    "4- Try to measure the correlation between 'Pclass' and 'Survived'\n",
    "5- Use variables below and C-Means (K-Means) clustering, try to cluster the data into 2 clusters\n",
    "Variables: Survived, Pclass, Sex, Age, Fare, Embarked\n",
    "6- Discuss the results\n",
    "7- Repeat 5 and 6 for 4 clusters\n",
    "'''"
   ]
  },
  {
   "cell_type": "code",
   "execution_count": null,
   "id": "0b30586c",
   "metadata": {},
   "outputs": [],
   "source": [
    "df_train = pd.read_csv('titanic_train.csv') # Training set is already available\n",
    "df_train.head()"
   ]
  },
  {
   "cell_type": "code",
   "execution_count": null,
   "id": "34cbdb29",
   "metadata": {},
   "outputs": [],
   "source": [
    "df_train.info()"
   ]
  },
  {
   "cell_type": "code",
   "execution_count": null,
   "id": "0d5b56c6",
   "metadata": {},
   "outputs": [],
   "source": [
    "df_Pclass_Fare = df_train[[\"Pclass\",\"Fare\"]]\n",
    "df_Pclass_Fare.corr()"
   ]
  },
  {
   "cell_type": "code",
   "execution_count": null,
   "id": "e258fd55",
   "metadata": {},
   "outputs": [],
   "source": [
    "plt.figure(figsize=(10,7))\n",
    "sns.heatmap(df_Pclass_Fare.corr(),annot=True,linewidths=2, cmap=\"gray\")"
   ]
  },
  {
   "cell_type": "code",
   "execution_count": null,
   "id": "a18ff14a",
   "metadata": {},
   "outputs": [],
   "source": [
    "df_Pclass_Survived = df_train[[\"Pclass\",\"Survived\"]]\n",
    "df_Pclass_Survived.corr()"
   ]
  },
  {
   "cell_type": "code",
   "execution_count": null,
   "id": "caf8c148",
   "metadata": {},
   "outputs": [],
   "source": [
    "plt.figure(figsize=(10,7))\n",
    "sns.heatmap(df_Pclass_Survived.corr(),annot=True,linewidths=2)"
   ]
  },
  {
   "cell_type": "code",
   "execution_count": null,
   "id": "15619ab5",
   "metadata": {},
   "outputs": [],
   "source": [
    "from sklearn.cluster import KMeans"
   ]
  },
  {
   "cell_type": "code",
   "execution_count": null,
   "id": "c58dd0c0",
   "metadata": {},
   "outputs": [],
   "source": [
    "df_train_km = df_train\n",
    "df_train_km.drop(['PassengerId','Name','Ticket'],axis=1,inplace=True)\n",
    "df_train_km.drop(['SibSp','Parch','Cabin'],axis=1,inplace=True)\n",
    "sex = pd.get_dummies(df_train_km['Sex'],drop_first=True)\n",
    "embark = pd.get_dummies(df_train_km['Embarked'],drop_first=True)\n",
    "df_train_km.drop(['Sex','Embarked'],axis=1,inplace=True)\n",
    "df_train_km = pd.concat([df_train_km,sex,embark],axis=1)"
   ]
  },
  {
   "cell_type": "code",
   "execution_count": null,
   "id": "fd6cdaad",
   "metadata": {},
   "outputs": [],
   "source": [
    "f_class_Age=df_train_km.groupby('Pclass')['Age'].mean()\n",
    "f_class_Age = pd.DataFrame(f_class_Age)\n",
    "f_class_Age.plot.bar(y='Age')\n",
    "plt.title(\"Average age of passengers by class\",fontsize=17)\n",
    "plt.ylabel(\"Age (years)\", fontsize=17)\n",
    "plt.xlabel(\"Passenger class\", fontsize=17)"
   ]
  },
  {
   "cell_type": "code",
   "execution_count": null,
   "id": "6a5c4f8e",
   "metadata": {},
   "outputs": [],
   "source": [
    "a=list(f_class_Age['Age'])\n",
    "def impute_age(cols):\n",
    "    Age = cols[0]\n",
    "    Pclass = cols[1]\n",
    "    \n",
    "    if pd.isnull(Age):\n",
    "\n",
    "        if Pclass == 1:\n",
    "            return a[0]\n",
    "\n",
    "        elif Pclass == 2:\n",
    "            return a[1]\n",
    "\n",
    "        else:\n",
    "            return a[2]\n",
    "\n",
    "    else:\n",
    "        return Age\n",
    "    \n",
    "df_train_km['Age'] = df_train_km[['Age','Pclass']].apply(impute_age,axis=1)\n",
    "d=df_train_km.describe()\n",
    "dT=d.T\n",
    "dT.plot.bar(y='count')\n",
    "plt.title(\"Bar plot of the count of numeric features\",fontsize=17)"
   ]
  },
  {
   "cell_type": "code",
   "execution_count": null,
   "id": "00559099",
   "metadata": {},
   "outputs": [],
   "source": []
  },
  {
   "cell_type": "code",
   "execution_count": null,
   "id": "02e0e491",
   "metadata": {},
   "outputs": [],
   "source": [
    "df_train_km.info()"
   ]
  },
  {
   "cell_type": "code",
   "execution_count": null,
   "id": "e2498aa5",
   "metadata": {},
   "outputs": [],
   "source": [
    "kmeans.fit(df_train_km)"
   ]
  },
  {
   "cell_type": "code",
   "execution_count": null,
   "id": "99bc27f4",
   "metadata": {},
   "outputs": [],
   "source": [
    "clus_cent=kmeans.cluster_centers_\n",
    "clus_cent.shape"
   ]
  },
  {
   "cell_type": "code",
   "execution_count": null,
   "id": "0c8f0f7c",
   "metadata": {},
   "outputs": [],
   "source": [
    "df_train_km[df_train_km['Survived']==1].describe() # Statistics for private colleges only"
   ]
  },
  {
   "cell_type": "code",
   "execution_count": null,
   "id": "79646bd2",
   "metadata": {},
   "outputs": [],
   "source": [
    "df_train_km[df_train_km['Survived']==0].describe() # Statistics for private colleges only"
   ]
  },
  {
   "cell_type": "code",
   "execution_count": null,
   "id": "8ac14f17",
   "metadata": {},
   "outputs": [],
   "source": [
    "df_desc=pd.DataFrame(df_train_km.describe())\n",
    "feat = list(df_desc.columns)\n",
    "print(feat)\n",
    "kmclus = pd.DataFrame(clus_cent,columns=feat)\n",
    "kmclus.shape"
   ]
  },
  {
   "cell_type": "code",
   "execution_count": null,
   "id": "2f40a6cb",
   "metadata": {},
   "outputs": [],
   "source": [
    "kmeans.labels_"
   ]
  },
  {
   "cell_type": "code",
   "execution_count": null,
   "id": "1b6b400f",
   "metadata": {},
   "outputs": [],
   "source": [
    "def converter(cluster):\n",
    "    if cluster==1:\n",
    "        return 1\n",
    "    else:\n",
    "        return 0"
   ]
  },
  {
   "cell_type": "code",
   "execution_count": null,
   "id": "437e5838",
   "metadata": {},
   "outputs": [],
   "source": [
    "df1=df_train_km # Create a copy of data frame so that original data frame does not get 'corrupted' with the cluster index\n",
    "df1['Cluster'] = df_train_km['Survived'].apply(converter)"
   ]
  },
  {
   "cell_type": "code",
   "execution_count": null,
   "id": "3d703556",
   "metadata": {},
   "outputs": [],
   "source": [
    "from sklearn.metrics import confusion_matrix,classification_report\n",
    "print(confusion_matrix(df1['Cluster'],kmeans.labels_))\n",
    "print(classification_report(df1['Cluster'],kmeans.labels_))"
   ]
  },
  {
   "cell_type": "code",
   "execution_count": null,
   "id": "d5a41906",
   "metadata": {},
   "outputs": [],
   "source": [
    "df_survived=df_train_km[df_train_km['Survived']==1]\n",
    "df_non_survived=df_train_km[df_train_km['Survived']==0]"
   ]
  },
  {
   "cell_type": "code",
   "execution_count": null,
   "id": "f42dec79",
   "metadata": {},
   "outputs": [],
   "source": [
    "kmeans = KMeans(n_clusters=2,verbose=0,tol=1e-3,max_iter=50,n_init=10)\n",
    "kmeans.fit(df_train_km.drop('Survived',axis=1))\n",
    "\n",
    "clus_cent=kmeans.cluster_centers_\n",
    "\n",
    "df_desc=pd.DataFrame(df_train_km.drop('Survived',axis=1).describe())\n",
    "feat = list(df_desc.columns)\n",
    "# print(feat)\n",
    "# print(clus_cent.shape)\n",
    "\n",
    "kmclus = pd.DataFrame(clus_cent,columns=feat)\n",
    "a=np.array(kmclus.diff().iloc[1])\n"
   ]
  },
  {
   "cell_type": "code",
   "execution_count": null,
   "id": "7e0bc304",
   "metadata": {},
   "outputs": [],
   "source": [
    "centroid_diff = pd.DataFrame(a,columns=['K-means cluster centroid-distance'],index=df_desc.columns)\n",
    "# centroid_diff"
   ]
  },
  {
   "cell_type": "code",
   "execution_count": null,
   "id": "e513849f",
   "metadata": {},
   "outputs": [],
   "source": [
    "# df_survived.mean()"
   ]
  },
  {
   "cell_type": "code",
   "execution_count": null,
   "id": "e271a496",
   "metadata": {},
   "outputs": [],
   "source": [
    "centroid_diff['Mean of corresponding entity (survived)']=np.array(df_survived.drop('Survived',axis=1).mean())\n",
    "centroid_diff['Mean of corresponding entity (non_survived)']=np.array(df_non_survived.drop('Survived',axis=1).mean())\n",
    "# centroid_diff"
   ]
  },
  {
   "cell_type": "code",
   "execution_count": null,
   "id": "4f530d5a",
   "metadata": {},
   "outputs": [],
   "source": [
    "# kmeans.labels_"
   ]
  },
  {
   "cell_type": "code",
   "execution_count": null,
   "id": "95f6cc7f",
   "metadata": {},
   "outputs": [],
   "source": [
    "def converter(cluster):\n",
    "    if cluster==1:\n",
    "        return 1\n",
    "    else:\n",
    "        return 0"
   ]
  },
  {
   "cell_type": "code",
   "execution_count": null,
   "id": "35281242",
   "metadata": {},
   "outputs": [],
   "source": [
    "df1=df_train_km # Create a copy of data frame so that original data frame does not get 'corrupted' with the cluster index\n",
    "df1['Cluster'] = df_train_km['Survived'].apply(converter)"
   ]
  },
  {
   "cell_type": "code",
   "execution_count": null,
   "id": "ad6ac60a",
   "metadata": {},
   "outputs": [],
   "source": [
    "from sklearn.metrics import confusion_matrix,classification_report\n",
    "print(confusion_matrix(df1['Cluster'],kmeans.labels_))\n",
    "print(classification_report(df1['Cluster'],kmeans.labels_))"
   ]
  },
  {
   "cell_type": "code",
   "execution_count": null,
   "id": "8a19194b",
   "metadata": {},
   "outputs": [],
   "source": [
    "df_survived=df_train_km[df_train_km['Survived']==1]\n",
    "df_non_survived=df_train_km[df_train_km['Survived']==0]"
   ]
  },
  {
   "cell_type": "code",
   "execution_count": null,
   "id": "d0c1ee9e",
   "metadata": {},
   "outputs": [],
   "source": [
    "kmeans = KMeans(n_clusters=4,verbose=0,tol=1e-3,max_iter=50,n_init=10)\n",
    "kmeans.fit(df_train_km.drop('Survived',axis=1))\n",
    "\n",
    "clus_cent=kmeans.cluster_centers_\n",
    "\n",
    "df_desc=pd.DataFrame(df_train_km.drop('Survived',axis=1).describe())\n",
    "feat = list(df_desc.columns)\n",
    "print(feat)\n",
    "print(clus_cent.shape)\n",
    "\n",
    "kmclus = pd.DataFrame(clus_cent,columns=feat)\n",
    "a=np.array(kmclus.diff().iloc[1])\n"
   ]
  }
 ],
 "metadata": {
  "kernelspec": {
   "display_name": "Python 3 (ipykernel)",
   "language": "python",
   "name": "python3"
  },
  "language_info": {
   "codemirror_mode": {
    "name": "ipython",
    "version": 3
   },
   "file_extension": ".py",
   "mimetype": "text/x-python",
   "name": "python",
   "nbconvert_exporter": "python",
   "pygments_lexer": "ipython3",
   "version": "3.9.12"
  }
 },
 "nbformat": 4,
 "nbformat_minor": 5
}
