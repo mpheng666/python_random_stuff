{
 "cells": [
  {
   "cell_type": "markdown",
   "metadata": {},
   "source": [
    "# Example: ANN - Classification "
   ]
  },
  {
   "cell_type": "code",
   "execution_count": 1,
   "metadata": {},
   "outputs": [
    {
     "name": "stderr",
     "output_type": "stream",
     "text": [
      "2022-10-14 14:33:29.596409: I tensorflow/core/platform/cpu_feature_guard.cc:193] This TensorFlow binary is optimized with oneAPI Deep Neural Network Library (oneDNN) to use the following CPU instructions in performance-critical operations:  AVX2 FMA\n",
      "To enable them in other operations, rebuild TensorFlow with the appropriate compiler flags.\n",
      "2022-10-14 14:33:29.757162: W tensorflow/stream_executor/platform/default/dso_loader.cc:64] Could not load dynamic library 'libcudart.so.11.0'; dlerror: libcudart.so.11.0: cannot open shared object file: No such file or directory; LD_LIBRARY_PATH: /opt/ros/melodic/lib\n",
      "2022-10-14 14:33:29.757181: I tensorflow/stream_executor/cuda/cudart_stub.cc:29] Ignore above cudart dlerror if you do not have a GPU set up on your machine.\n",
      "2022-10-14 14:33:29.786628: E tensorflow/stream_executor/cuda/cuda_blas.cc:2981] Unable to register cuBLAS factory: Attempting to register factory for plugin cuBLAS when one has already been registered\n",
      "2022-10-14 14:33:30.421481: W tensorflow/stream_executor/platform/default/dso_loader.cc:64] Could not load dynamic library 'libnvinfer.so.7'; dlerror: libnvinfer.so.7: cannot open shared object file: No such file or directory; LD_LIBRARY_PATH: /opt/ros/melodic/lib\n",
      "2022-10-14 14:33:30.421552: W tensorflow/stream_executor/platform/default/dso_loader.cc:64] Could not load dynamic library 'libnvinfer_plugin.so.7'; dlerror: libnvinfer_plugin.so.7: cannot open shared object file: No such file or directory; LD_LIBRARY_PATH: /opt/ros/melodic/lib\n",
      "2022-10-14 14:33:30.421559: W tensorflow/compiler/tf2tensorrt/utils/py_utils.cc:38] TF-TRT Warning: Cannot dlopen some TensorRT libraries. If you would like to use Nvidia GPU with TensorRT, please make sure the missing libraries mentioned above are installed properly.\n"
     ]
    }
   ],
   "source": [
    "# first neural network with keras tutorial\n",
    "# !python3 -m pip install tensorflow\n",
    "# !pip install tensorflow\n",
    "from numpy import loadtxt\n",
    "import tensorflow as tf\n",
    "from tensorflow import keras\n",
    "from tensorflow.keras import layers\n",
    "from tensorflow.keras import Sequential\n",
    "from tensorflow.keras.layers import Dense\n",
    "from sklearn.model_selection import train_test_split\n",
    "import numpy as np\n",
    "import matplotlib.pyplot as plt\n",
    "import seaborn as sns\n",
    "%matplotlib inline"
   ]
  },
  {
   "cell_type": "code",
   "execution_count": 2,
   "metadata": {
    "scrolled": true
   },
   "outputs": [
    {
     "name": "stdout",
     "output_type": "stream",
     "text": [
      "(303, 14)\n",
      "[[4.80e+01 1.00e+00 1.00e+00 1.10e+02 2.29e+02 0.00e+00 1.00e+00 1.68e+02\n",
      "  0.00e+00 1.00e+00 0.00e+00 0.00e+00 3.00e+00]\n",
      " [6.20e+01 1.00e+00 1.00e+00 1.20e+02 2.81e+02 0.00e+00 0.00e+00 1.03e+02\n",
      "  0.00e+00 1.40e+00 1.00e+00 1.00e+00 3.00e+00]\n",
      " [4.30e+01 1.00e+00 0.00e+00 1.20e+02 1.77e+02 0.00e+00 0.00e+00 1.20e+02\n",
      "  1.00e+00 2.50e+00 1.00e+00 0.00e+00 3.00e+00]\n",
      " [4.00e+01 1.00e+00 0.00e+00 1.10e+02 1.67e+02 0.00e+00 0.00e+00 1.14e+02\n",
      "  1.00e+00 2.00e+00 1.00e+00 0.00e+00 3.00e+00]\n",
      " [5.90e+01 1.00e+00 0.00e+00 1.70e+02 3.26e+02 0.00e+00 0.00e+00 1.40e+02\n",
      "  1.00e+00 3.40e+00 0.00e+00 0.00e+00 3.00e+00]\n",
      " [5.70e+01 1.00e+00 0.00e+00 1.52e+02 2.74e+02 0.00e+00 1.00e+00 8.80e+01\n",
      "  1.00e+00 1.20e+00 1.00e+00 1.00e+00 3.00e+00]\n",
      " [6.00e+01 1.00e+00 0.00e+00 1.40e+02 2.93e+02 0.00e+00 0.00e+00 1.70e+02\n",
      "  0.00e+00 1.20e+00 1.00e+00 2.00e+00 3.00e+00]\n",
      " [6.00e+01 0.00e+00 3.00e+00 1.50e+02 2.40e+02 0.00e+00 1.00e+00 1.71e+02\n",
      "  0.00e+00 9.00e-01 2.00e+00 0.00e+00 2.00e+00]\n",
      " [6.00e+01 0.00e+00 0.00e+00 1.50e+02 2.58e+02 0.00e+00 0.00e+00 1.57e+02\n",
      "  0.00e+00 2.60e+00 1.00e+00 2.00e+00 3.00e+00]\n",
      " [4.40e+01 1.00e+00 0.00e+00 1.12e+02 2.90e+02 0.00e+00 0.00e+00 1.53e+02\n",
      "  0.00e+00 0.00e+00 2.00e+00 1.00e+00 2.00e+00]\n",
      " [5.30e+01 1.00e+00 0.00e+00 1.40e+02 2.03e+02 1.00e+00 0.00e+00 1.55e+02\n",
      "  1.00e+00 3.10e+00 0.00e+00 0.00e+00 3.00e+00]\n",
      " [5.10e+01 1.00e+00 2.00e+00 1.00e+02 2.22e+02 0.00e+00 1.00e+00 1.43e+02\n",
      "  1.00e+00 1.20e+00 1.00e+00 0.00e+00 2.00e+00]\n",
      " [4.10e+01 0.00e+00 2.00e+00 1.12e+02 2.68e+02 0.00e+00 0.00e+00 1.72e+02\n",
      "  1.00e+00 0.00e+00 2.00e+00 0.00e+00 2.00e+00]\n",
      " [5.40e+01 1.00e+00 0.00e+00 1.20e+02 1.88e+02 0.00e+00 1.00e+00 1.13e+02\n",
      "  0.00e+00 1.40e+00 1.00e+00 1.00e+00 3.00e+00]\n",
      " [5.70e+01 1.00e+00 0.00e+00 1.10e+02 3.35e+02 0.00e+00 1.00e+00 1.43e+02\n",
      "  1.00e+00 3.00e+00 1.00e+00 1.00e+00 3.00e+00]\n",
      " [4.60e+01 0.00e+00 0.00e+00 1.38e+02 2.43e+02 0.00e+00 0.00e+00 1.52e+02\n",
      "  1.00e+00 0.00e+00 1.00e+00 0.00e+00 2.00e+00]\n",
      " [4.30e+01 1.00e+00 2.00e+00 1.30e+02 3.15e+02 0.00e+00 1.00e+00 1.62e+02\n",
      "  0.00e+00 1.90e+00 2.00e+00 1.00e+00 2.00e+00]\n",
      " [5.80e+01 1.00e+00 0.00e+00 1.28e+02 2.59e+02 0.00e+00 0.00e+00 1.30e+02\n",
      "  1.00e+00 3.00e+00 1.00e+00 2.00e+00 3.00e+00]\n",
      " [4.20e+01 0.00e+00 0.00e+00 1.02e+02 2.65e+02 0.00e+00 0.00e+00 1.22e+02\n",
      "  0.00e+00 6.00e-01 1.00e+00 0.00e+00 2.00e+00]\n",
      " [4.10e+01 1.00e+00 1.00e+00 1.35e+02 2.03e+02 0.00e+00 1.00e+00 1.32e+02\n",
      "  0.00e+00 0.00e+00 1.00e+00 0.00e+00 1.00e+00]\n",
      " [4.40e+01 0.00e+00 2.00e+00 1.18e+02 2.42e+02 0.00e+00 1.00e+00 1.49e+02\n",
      "  0.00e+00 3.00e-01 1.00e+00 1.00e+00 2.00e+00]\n",
      " [5.70e+01 1.00e+00 1.00e+00 1.24e+02 2.61e+02 0.00e+00 1.00e+00 1.41e+02\n",
      "  0.00e+00 3.00e-01 2.00e+00 0.00e+00 3.00e+00]\n",
      " [4.20e+01 1.00e+00 0.00e+00 1.40e+02 2.26e+02 0.00e+00 1.00e+00 1.78e+02\n",
      "  0.00e+00 0.00e+00 2.00e+00 0.00e+00 2.00e+00]\n",
      " [7.10e+01 0.00e+00 0.00e+00 1.12e+02 1.49e+02 0.00e+00 1.00e+00 1.25e+02\n",
      "  0.00e+00 1.60e+00 1.00e+00 0.00e+00 2.00e+00]\n",
      " [6.00e+01 1.00e+00 2.00e+00 1.40e+02 1.85e+02 0.00e+00 0.00e+00 1.55e+02\n",
      "  0.00e+00 3.00e+00 1.00e+00 0.00e+00 2.00e+00]\n",
      " [5.10e+01 0.00e+00 2.00e+00 1.40e+02 3.08e+02 0.00e+00 0.00e+00 1.42e+02\n",
      "  0.00e+00 1.50e+00 2.00e+00 1.00e+00 2.00e+00]\n",
      " [5.00e+01 0.00e+00 2.00e+00 1.20e+02 2.19e+02 0.00e+00 1.00e+00 1.58e+02\n",
      "  0.00e+00 1.60e+00 1.00e+00 0.00e+00 2.00e+00]\n",
      " [6.30e+01 1.00e+00 3.00e+00 1.45e+02 2.33e+02 1.00e+00 0.00e+00 1.50e+02\n",
      "  0.00e+00 2.30e+00 0.00e+00 0.00e+00 1.00e+00]\n",
      " [5.50e+01 0.00e+00 0.00e+00 1.28e+02 2.05e+02 0.00e+00 2.00e+00 1.30e+02\n",
      "  1.00e+00 2.00e+00 1.00e+00 1.00e+00 3.00e+00]\n",
      " [4.40e+01 1.00e+00 2.00e+00 1.40e+02 2.35e+02 0.00e+00 0.00e+00 1.80e+02\n",
      "  0.00e+00 0.00e+00 2.00e+00 0.00e+00 2.00e+00]\n",
      " [6.40e+01 1.00e+00 2.00e+00 1.40e+02 3.35e+02 0.00e+00 1.00e+00 1.58e+02\n",
      "  0.00e+00 0.00e+00 2.00e+00 0.00e+00 2.00e+00]]\n",
      "[0. 0. 0. 0. 0. 0. 0. 1. 0. 0. 0. 1. 1. 0. 0. 1. 1. 0. 1. 1. 1. 0. 1. 1.\n",
      " 0. 1. 1. 1. 0. 1. 0.]\n"
     ]
    }
   ],
   "source": [
    "# load the dataset\n",
    "dataset = loadtxt('datasets_heart_noheader.csv', delimiter=',')\n",
    "# split into input (X) and output (y) variables\n",
    "print(dataset.shape)\n",
    "MM,NN = dataset.shape \n",
    "XX = dataset[:,0:NN-1] \n",
    "YY = dataset[:,NN-1]\n",
    "X, X2, y, y2 = train_test_split(XX, YY, test_size=0.1)\n",
    "\n",
    "print(X2)\n",
    "print(y2)"
   ]
  },
  {
   "cell_type": "code",
   "execution_count": 3,
   "metadata": {},
   "outputs": [
    {
     "name": "stderr",
     "output_type": "stream",
     "text": [
      "2022-10-14 14:33:32.069206: E tensorflow/stream_executor/cuda/cuda_driver.cc:265] failed call to cuInit: CUDA_ERROR_NO_DEVICE: no CUDA-capable device is detected\n",
      "2022-10-14 14:33:32.069230: I tensorflow/stream_executor/cuda/cuda_diagnostics.cc:156] kernel driver does not appear to be running on this host (mpheng-Lenovo-ideapad-520-15IKB): /proc/driver/nvidia/version does not exist\n",
      "2022-10-14 14:33:32.069425: I tensorflow/core/platform/cpu_feature_guard.cc:193] This TensorFlow binary is optimized with oneAPI Deep Neural Network Library (oneDNN) to use the following CPU instructions in performance-critical operations:  AVX2 FMA\n",
      "To enable them in other operations, rebuild TensorFlow with the appropriate compiler flags.\n"
     ]
    }
   ],
   "source": [
    "# define the keras model\n",
    "model = Sequential()\n",
    "model.add(Dense(200, input_dim=NN-1, activation='relu'))\n",
    "model.add(Dense(100, activation='relu'))\n",
    "# model.add(Dense(5, activation='relu'))\n",
    "model.add(Dense(1, activation='sigmoid'))"
   ]
  },
  {
   "cell_type": "code",
   "execution_count": 4,
   "metadata": {},
   "outputs": [],
   "source": [
    "# compile the keras model\n",
    "model.compile(loss='binary_crossentropy', optimizer='adam', metrics=['accuracy'])"
   ]
  },
  {
   "cell_type": "code",
   "execution_count": 5,
   "metadata": {},
   "outputs": [],
   "source": [
    "# fit the keras model on the dataset\n",
    "history = model.fit(X, y, epochs=900, batch_size=10,verbose=0)"
   ]
  },
  {
   "cell_type": "code",
   "execution_count": 6,
   "metadata": {},
   "outputs": [
    {
     "data": {
      "image/png": "[encoded data removed]",
      "text/plain": [
       "<Figure size 576x360 with 1 Axes>"
      ]
     },
     "metadata": {
      "needs_background": "light"
     },
     "output_type": "display_data"
    }
   ],
   "source": [
    "import pandas as pd\n",
    "\n",
    "pd.DataFrame(history.history).plot(figsize=(8,5))\n",
    "plt.show()"
   ]
  },
  {
   "cell_type": "code",
   "execution_count": 7,
   "metadata": {},
   "outputs": [
    {
     "name": "stdout",
     "output_type": "stream",
     "text": [
      "9/9 [==============================] - 0s 947us/step - loss: 0.0736 - accuracy: 0.9779\n",
      "Accuracy: 97.79\n"
     ]
    }
   ],
   "source": [
    "# evaluate the keras model\n",
    "_, accuracy = model.evaluate(X, y)\n",
    "print('Accuracy: %.2f' % (accuracy*100))"
   ]
  },
  {
   "cell_type": "code",
   "execution_count": 8,
   "metadata": {},
   "outputs": [
    {
     "name": "stdout",
     "output_type": "stream",
     "text": [
      "9/9 [==============================] - 0s 1ms/step\n"
     ]
    }
   ],
   "source": [
    "# make probability predictions with the model\n",
    "predictions = model.predict(X)\n",
    "# round predictions \n",
    "rounded = [round(x[0]) for x in predictions]"
   ]
  },
  {
   "cell_type": "code",
   "execution_count": 9,
   "metadata": {},
   "outputs": [
    {
     "name": "stdout",
     "output_type": "stream",
     "text": [
      "Test sample 0 , class label= 1.0 \t, predicted= [0.8681845]  rounded= 1\n",
      "Test sample 1 , class label= 1.0 \t, predicted= [0.8055132]  rounded= 1\n",
      "Test sample 2 , class label= 1.0 \t, predicted= [0.1190108]  rounded= 0\n",
      "Test sample 3 , class label= 0.0 \t, predicted= [0.00051338]  rounded= 0\n",
      "Test sample 4 , class label= 0.0 \t, predicted= [0.01358211]  rounded= 0\n",
      "Test sample 5 , class label= 0.0 \t, predicted= [0.00183256]  rounded= 0\n",
      "Test sample 6 , class label= 1.0 \t, predicted= [0.6731206]  rounded= 1\n",
      "Test sample 7 , class label= 0.0 \t, predicted= [3.4351963e-14]  rounded= 0\n",
      "Test sample 8 , class label= 0.0 \t, predicted= [2.278809e-10]  rounded= 0\n",
      "Test sample 9 , class label= 1.0 \t, predicted= [0.9996739]  rounded= 1\n",
      "Test sample 10 , class label= 1.0 \t, predicted= [1.]  rounded= 1\n",
      "Test sample 11 , class label= 0.0 \t, predicted= [4.2155266e-06]  rounded= 0\n",
      "Test sample 12 , class label= 0.0 \t, predicted= [0.01998345]  rounded= 0\n",
      "Test sample 13 , class label= 0.0 \t, predicted= [0.16210584]  rounded= 0\n",
      "Test sample 14 , class label= 0.0 \t, predicted= [0.00647584]  rounded= 0\n",
      "Test sample 15 , class label= 0.0 \t, predicted= [0.05226856]  rounded= 0\n",
      "Test sample 16 , class label= 1.0 \t, predicted= [0.97483695]  rounded= 1\n",
      "Test sample 17 , class label= 0.0 \t, predicted= [0.01937873]  rounded= 0\n",
      "Test sample 18 , class label= 1.0 \t, predicted= [0.9805338]  rounded= 1\n",
      "Test sample 19 , class label= 1.0 \t, predicted= [0.96947956]  rounded= 1\n",
      "Test sample 20 , class label= 1.0 \t, predicted= [0.99009854]  rounded= 1\n",
      "Test sample 21 , class label= 0.0 \t, predicted= [0.01028004]  rounded= 0\n",
      "Test sample 22 , class label= 1.0 \t, predicted= [0.99986225]  rounded= 1\n",
      "Test sample 23 , class label= 0.0 \t, predicted= [0.00066494]  rounded= 0\n",
      "Test sample 24 , class label= 1.0 \t, predicted= [0.9999997]  rounded= 1\n",
      "Test sample 25 , class label= 0.0 \t, predicted= [2.0030363e-11]  rounded= 0\n",
      "Test sample 26 , class label= 1.0 \t, predicted= [0.99912244]  rounded= 1\n",
      "Test sample 27 , class label= 1.0 \t, predicted= [0.9999807]  rounded= 1\n",
      "Test sample 28 , class label= 0.0 \t, predicted= [0.00023205]  rounded= 0\n",
      "Test sample 29 , class label= 1.0 \t, predicted= [0.9464409]  rounded= 1\n",
      "Test sample 30 , class label= 1.0 \t, predicted= [0.60456234]  rounded= 1\n",
      "Test sample 31 , class label= 0.0 \t, predicted= [8.4080443e-07]  rounded= 0\n",
      "Test sample 32 , class label= 0.0 \t, predicted= [0.0006059]  rounded= 0\n",
      "Test sample 33 , class label= 0.0 \t, predicted= [0.00431179]  rounded= 0\n",
      "Test sample 34 , class label= 1.0 \t, predicted= [0.9999838]  rounded= 1\n",
      "Test sample 35 , class label= 1.0 \t, predicted= [0.991787]  rounded= 1\n",
      "Test sample 36 , class label= 0.0 \t, predicted= [0.2605317]  rounded= 0\n",
      "Test sample 37 , class label= 0.0 \t, predicted= [0.000118]  rounded= 0\n",
      "Test sample 38 , class label= 1.0 \t, predicted= [0.992973]  rounded= 1\n",
      "Test sample 39 , class label= 0.0 \t, predicted= [4.756339e-05]  rounded= 0\n",
      "Test sample 40 , class label= 1.0 \t, predicted= [0.96126497]  rounded= 1\n",
      "Test sample 41 , class label= 1.0 \t, predicted= [0.87618893]  rounded= 1\n",
      "Test sample 42 , class label= 0.0 \t, predicted= [0.11440471]  rounded= 0\n",
      "Test sample 43 , class label= 1.0 \t, predicted= [0.9962505]  rounded= 1\n",
      "Test sample 44 , class label= 1.0 \t, predicted= [0.8272876]  rounded= 1\n",
      "Test sample 45 , class label= 1.0 \t, predicted= [0.92709404]  rounded= 1\n",
      "Test sample 46 , class label= 1.0 \t, predicted= [0.89748895]  rounded= 1\n",
      "Test sample 47 , class label= 1.0 \t, predicted= [0.99969643]  rounded= 1\n",
      "Test sample 48 , class label= 0.0 \t, predicted= [6.223532e-17]  rounded= 0\n",
      "Test sample 49 , class label= 0.0 \t, predicted= [0.3128973]  rounded= 0\n",
      "Test sample 50 , class label= 0.0 \t, predicted= [0.00111565]  rounded= 0\n",
      "Test sample 51 , class label= 1.0 \t, predicted= [0.9904471]  rounded= 1\n",
      "Test sample 52 , class label= 1.0 \t, predicted= [0.9996235]  rounded= 1\n",
      "Test sample 53 , class label= 1.0 \t, predicted= [1.]  rounded= 1\n",
      "Test sample 54 , class label= 1.0 \t, predicted= [0.9322278]  rounded= 1\n",
      "Test sample 55 , class label= 1.0 \t, predicted= [1.]  rounded= 1\n",
      "Test sample 56 , class label= 1.0 \t, predicted= [0.9996286]  rounded= 1\n",
      "Test sample 57 , class label= 0.0 \t, predicted= [3.1498175e-07]  rounded= 0\n",
      "Test sample 58 , class label= 0.0 \t, predicted= [1.6269179e-10]  rounded= 0\n",
      "Test sample 59 , class label= 1.0 \t, predicted= [0.9998492]  rounded= 1\n",
      "Test sample 60 , class label= 1.0 \t, predicted= [1.]  rounded= 1\n",
      "Test sample 61 , class label= 1.0 \t, predicted= [0.94521016]  rounded= 1\n",
      "Test sample 62 , class label= 1.0 \t, predicted= [0.99854916]  rounded= 1\n",
      "Test sample 63 , class label= 0.0 \t, predicted= [0.00108218]  rounded= 0\n",
      "Test sample 64 , class label= 1.0 \t, predicted= [0.27208248]  rounded= 0\n",
      "Test sample 65 , class label= 0.0 \t, predicted= [0.08046981]  rounded= 0\n",
      "Test sample 66 , class label= 1.0 \t, predicted= [0.99926925]  rounded= 1\n",
      "Test sample 67 , class label= 0.0 \t, predicted= [0.00125539]  rounded= 0\n",
      "Test sample 68 , class label= 1.0 \t, predicted= [0.9874748]  rounded= 1\n",
      "Test sample 69 , class label= 0.0 \t, predicted= [0.0006832]  rounded= 0\n",
      "Test sample 70 , class label= 1.0 \t, predicted= [0.99283624]  rounded= 1\n",
      "Test sample 71 , class label= 0.0 \t, predicted= [2.8435098e-17]  rounded= 0\n",
      "Test sample 72 , class label= 0.0 \t, predicted= [0.00560696]  rounded= 0\n",
      "Test sample 73 , class label= 1.0 \t, predicted= [0.9999997]  rounded= 1\n",
      "Test sample 74 , class label= 0.0 \t, predicted= [7.508586e-10]  rounded= 0\n",
      "Test sample 75 , class label= 0.0 \t, predicted= [0.0033157]  rounded= 0\n",
      "Test sample 76 , class label= 0.0 \t, predicted= [7.3363874e-13]  rounded= 0\n",
      "Test sample 77 , class label= 0.0 \t, predicted= [0.2288152]  rounded= 0\n",
      "Test sample 78 , class label= 1.0 \t, predicted= [0.45430902]  rounded= 0\n",
      "Test sample 79 , class label= 0.0 \t, predicted= [5.2054217e-14]  rounded= 0\n",
      "Test sample 80 , class label= 0.0 \t, predicted= [3.253269e-06]  rounded= 0\n",
      "Test sample 81 , class label= 1.0 \t, predicted= [0.9510635]  rounded= 1\n",
      "Test sample 82 , class label= 0.0 \t, predicted= [0.01062236]  rounded= 0\n",
      "Test sample 83 , class label= 0.0 \t, predicted= [0.0001238]  rounded= 0\n",
      "Test sample 84 , class label= 1.0 \t, predicted= [0.9923946]  rounded= 1\n",
      "Test sample 85 , class label= 1.0 \t, predicted= [0.9947361]  rounded= 1\n",
      "Test sample 86 , class label= 0.0 \t, predicted= [0.11173384]  rounded= 0\n",
      "Test sample 87 , class label= 0.0 \t, predicted= [0.0089112]  rounded= 0\n",
      "Test sample 88 , class label= 1.0 \t, predicted= [0.9994173]  rounded= 1\n",
      "Test sample 89 , class label= 1.0 \t, predicted= [0.99696416]  rounded= 1\n",
      "Test sample 90 , class label= 0.0 \t, predicted= [2.08561e-08]  rounded= 0\n",
      "Test sample 91 , class label= 1.0 \t, predicted= [0.9168538]  rounded= 1\n",
      "Test sample 92 , class label= 0.0 \t, predicted= [4.0621575e-07]  rounded= 0\n",
      "Test sample 93 , class label= 1.0 \t, predicted= [0.9405523]  rounded= 1\n",
      "Test sample 94 , class label= 0.0 \t, predicted= [1.3633968e-10]  rounded= 0\n",
      "Test sample 95 , class label= 0.0 \t, predicted= [0.00049405]  rounded= 0\n",
      "Test sample 96 , class label= 1.0 \t, predicted= [0.999719]  rounded= 1\n",
      "Test sample 97 , class label= 1.0 \t, predicted= [0.9808343]  rounded= 1\n",
      "Test sample 98 , class label= 0.0 \t, predicted= [0.00185869]  rounded= 0\n",
      "Test sample 99 , class label= 1.0 \t, predicted= [0.99731773]  rounded= 1\n",
      "Test sample 100 , class label= 0.0 \t, predicted= [5.1796867e-08]  rounded= 0\n",
      "Test sample 101 , class label= 0.0 \t, predicted= [0.01367237]  rounded= 0\n",
      "Test sample 102 , class label= 1.0 \t, predicted= [1.]  rounded= 1\n",
      "Test sample 103 , class label= 1.0 \t, predicted= [0.9978268]  rounded= 1\n",
      "Test sample 104 , class label= 0.0 \t, predicted= [0.00435406]  rounded= 0\n",
      "Test sample 105 , class label= 1.0 \t, predicted= [0.9997244]  rounded= 1\n",
      "Test sample 106 , class label= 1.0 \t, predicted= [0.8963911]  rounded= 1\n",
      "Test sample 107 , class label= 1.0 \t, predicted= [0.9219427]  rounded= 1\n",
      "Test sample 108 , class label= 0.0 \t, predicted= [0.00841098]  rounded= 0\n",
      "Test sample 109 , class label= 0.0 \t, predicted= [6.2167853e-12]  rounded= 0\n",
      "Test sample 110 , class label= 1.0 \t, predicted= [0.8845434]  rounded= 1\n",
      "Test sample 111 , class label= 1.0 \t, predicted= [1.]  rounded= 1\n",
      "Test sample 112 , class label= 1.0 \t, predicted= [0.9530903]  rounded= 1\n",
      "Test sample 113 , class label= 1.0 \t, predicted= [0.896412]  rounded= 1\n",
      "Test sample 114 , class label= 1.0 \t, predicted= [1.]  rounded= 1\n",
      "Test sample 115 , class label= 1.0 \t, predicted= [0.9082877]  rounded= 1\n",
      "Test sample 116 , class label= 1.0 \t, predicted= [0.99806523]  rounded= 1\n",
      "Test sample 117 , class label= 0.0 \t, predicted= [0.00545156]  rounded= 0\n",
      "Test sample 118 , class label= 1.0 \t, predicted= [0.9838232]  rounded= 1\n",
      "Test sample 119 , class label= 0.0 \t, predicted= [0.79833007]  rounded= 1\n"
     ]
    },
    {
     "name": "stdout",
     "output_type": "stream",
     "text": [
      "Test sample 120 , class label= 0.0 \t, predicted= [0.01674432]  rounded= 0\n",
      "Test sample 121 , class label= 1.0 \t, predicted= [0.99569774]  rounded= 1\n",
      "Test sample 122 , class label= 1.0 \t, predicted= [0.9974061]  rounded= 1\n",
      "Test sample 123 , class label= 0.0 \t, predicted= [0.0001435]  rounded= 0\n",
      "Test sample 124 , class label= 0.0 \t, predicted= [0.00338788]  rounded= 0\n",
      "Test sample 125 , class label= 0.0 \t, predicted= [0.00309369]  rounded= 0\n",
      "Test sample 126 , class label= 1.0 \t, predicted= [1.]  rounded= 1\n",
      "Test sample 127 , class label= 0.0 \t, predicted= [6.9942407e-12]  rounded= 0\n",
      "Test sample 128 , class label= 1.0 \t, predicted= [0.9879442]  rounded= 1\n",
      "Test sample 129 , class label= 0.0 \t, predicted= [0.2865654]  rounded= 0\n",
      "Test sample 130 , class label= 1.0 \t, predicted= [0.4832366]  rounded= 0\n",
      "Test sample 131 , class label= 0.0 \t, predicted= [1.5600094e-07]  rounded= 0\n",
      "Test sample 132 , class label= 0.0 \t, predicted= [0.6793764]  rounded= 1\n",
      "Test sample 133 , class label= 0.0 \t, predicted= [0.00203904]  rounded= 0\n",
      "Test sample 134 , class label= 1.0 \t, predicted= [0.9825376]  rounded= 1\n",
      "Test sample 135 , class label= 1.0 \t, predicted= [0.7571029]  rounded= 1\n",
      "Test sample 136 , class label= 1.0 \t, predicted= [0.813397]  rounded= 1\n",
      "Test sample 137 , class label= 1.0 \t, predicted= [0.86864287]  rounded= 1\n",
      "Test sample 138 , class label= 1.0 \t, predicted= [0.99744105]  rounded= 1\n",
      "Test sample 139 , class label= 0.0 \t, predicted= [0.00030877]  rounded= 0\n",
      "Test sample 140 , class label= 1.0 \t, predicted= [0.7669521]  rounded= 1\n",
      "Test sample 141 , class label= 1.0 \t, predicted= [1.]  rounded= 1\n",
      "Test sample 142 , class label= 1.0 \t, predicted= [0.99931127]  rounded= 1\n",
      "Test sample 143 , class label= 1.0 \t, predicted= [0.99983877]  rounded= 1\n",
      "Test sample 144 , class label= 1.0 \t, predicted= [0.9895179]  rounded= 1\n",
      "Test sample 145 , class label= 1.0 \t, predicted= [0.6796807]  rounded= 1\n",
      "Test sample 146 , class label= 0.0 \t, predicted= [2.7361438e-08]  rounded= 0\n",
      "Test sample 147 , class label= 0.0 \t, predicted= [2.1779244e-05]  rounded= 0\n",
      "Test sample 148 , class label= 1.0 \t, predicted= [0.8168435]  rounded= 1\n",
      "Test sample 149 , class label= 0.0 \t, predicted= [0.01474982]  rounded= 0\n",
      "Test sample 150 , class label= 1.0 \t, predicted= [0.94573104]  rounded= 1\n",
      "Test sample 151 , class label= 0.0 \t, predicted= [1.5901097e-10]  rounded= 0\n",
      "Test sample 152 , class label= 0.0 \t, predicted= [2.0466732e-14]  rounded= 0\n",
      "Test sample 153 , class label= 1.0 \t, predicted= [1.]  rounded= 1\n",
      "Test sample 154 , class label= 0.0 \t, predicted= [0.01282473]  rounded= 0\n",
      "Test sample 155 , class label= 1.0 \t, predicted= [0.9622668]  rounded= 1\n",
      "Test sample 156 , class label= 0.0 \t, predicted= [0.00433164]  rounded= 0\n",
      "Test sample 157 , class label= 1.0 \t, predicted= [0.93644667]  rounded= 1\n",
      "Test sample 158 , class label= 1.0 \t, predicted= [0.9989477]  rounded= 1\n",
      "Test sample 159 , class label= 0.0 \t, predicted= [0.03755904]  rounded= 0\n",
      "Test sample 160 , class label= 1.0 \t, predicted= [0.9873024]  rounded= 1\n",
      "Test sample 161 , class label= 1.0 \t, predicted= [0.9257576]  rounded= 1\n",
      "Test sample 162 , class label= 1.0 \t, predicted= [0.9985433]  rounded= 1\n",
      "Test sample 163 , class label= 1.0 \t, predicted= [0.9859224]  rounded= 1\n",
      "Test sample 164 , class label= 0.0 \t, predicted= [0.0049086]  rounded= 0\n",
      "Test sample 165 , class label= 1.0 \t, predicted= [0.995762]  rounded= 1\n",
      "Test sample 166 , class label= 0.0 \t, predicted= [4.310046e-12]  rounded= 0\n",
      "Test sample 167 , class label= 0.0 \t, predicted= [7.3534643e-06]  rounded= 0\n",
      "Test sample 168 , class label= 1.0 \t, predicted= [0.9954847]  rounded= 1\n",
      "Test sample 169 , class label= 1.0 \t, predicted= [0.9837631]  rounded= 1\n",
      "Test sample 170 , class label= 0.0 \t, predicted= [1.4248636e-08]  rounded= 0\n",
      "Test sample 171 , class label= 1.0 \t, predicted= [0.9999883]  rounded= 1\n",
      "Test sample 172 , class label= 0.0 \t, predicted= [5.72388e-06]  rounded= 0\n",
      "Test sample 173 , class label= 0.0 \t, predicted= [4.895395e-15]  rounded= 0\n",
      "Test sample 174 , class label= 1.0 \t, predicted= [0.9982769]  rounded= 1\n",
      "Test sample 175 , class label= 1.0 \t, predicted= [0.9999644]  rounded= 1\n",
      "Test sample 176 , class label= 1.0 \t, predicted= [1.]  rounded= 1\n",
      "Test sample 177 , class label= 0.0 \t, predicted= [6.134418e-15]  rounded= 0\n",
      "Test sample 178 , class label= 0.0 \t, predicted= [2.2689567e-16]  rounded= 0\n",
      "Test sample 179 , class label= 0.0 \t, predicted= [0.0083831]  rounded= 0\n",
      "Test sample 180 , class label= 1.0 \t, predicted= [0.602953]  rounded= 1\n",
      "Test sample 181 , class label= 1.0 \t, predicted= [0.81746167]  rounded= 1\n",
      "Test sample 182 , class label= 0.0 \t, predicted= [0.02738854]  rounded= 0\n",
      "Test sample 183 , class label= 1.0 \t, predicted= [0.8760968]  rounded= 1\n",
      "Test sample 184 , class label= 1.0 \t, predicted= [0.5616734]  rounded= 1\n",
      "Test sample 185 , class label= 1.0 \t, predicted= [1.]  rounded= 1\n",
      "Test sample 186 , class label= 1.0 \t, predicted= [0.9156762]  rounded= 1\n",
      "Test sample 187 , class label= 0.0 \t, predicted= [0.0613152]  rounded= 0\n",
      "Test sample 188 , class label= 1.0 \t, predicted= [0.6592745]  rounded= 1\n",
      "Test sample 189 , class label= 1.0 \t, predicted= [0.9145497]  rounded= 1\n",
      "Test sample 190 , class label= 0.0 \t, predicted= [0.01226145]  rounded= 0\n",
      "Test sample 191 , class label= 1.0 \t, predicted= [0.9785366]  rounded= 1\n",
      "Test sample 192 , class label= 1.0 \t, predicted= [0.5798523]  rounded= 1\n",
      "Test sample 193 , class label= 1.0 \t, predicted= [0.94762295]  rounded= 1\n",
      "Test sample 194 , class label= 0.0 \t, predicted= [4.654772e-05]  rounded= 0\n",
      "Test sample 195 , class label= 1.0 \t, predicted= [0.9992553]  rounded= 1\n",
      "Test sample 196 , class label= 1.0 \t, predicted= [0.83332676]  rounded= 1\n",
      "Test sample 197 , class label= 0.0 \t, predicted= [7.927229e-06]  rounded= 0\n",
      "Test sample 198 , class label= 0.0 \t, predicted= [0.00548975]  rounded= 0\n",
      "Test sample 199 , class label= 1.0 \t, predicted= [0.9975403]  rounded= 1\n",
      "Test sample 200 , class label= 0.0 \t, predicted= [4.1761846e-06]  rounded= 0\n",
      "Test sample 201 , class label= 1.0 \t, predicted= [0.9194976]  rounded= 1\n",
      "Test sample 202 , class label= 1.0 \t, predicted= [0.95740134]  rounded= 1\n",
      "Test sample 203 , class label= 0.0 \t, predicted= [7.4786374e-05]  rounded= 0\n",
      "Test sample 204 , class label= 1.0 \t, predicted= [0.9996369]  rounded= 1\n",
      "Test sample 205 , class label= 0.0 \t, predicted= [0.00231375]  rounded= 0\n",
      "Test sample 206 , class label= 0.0 \t, predicted= [0.02959252]  rounded= 0\n",
      "Test sample 207 , class label= 1.0 \t, predicted= [0.9909699]  rounded= 1\n",
      "Test sample 208 , class label= 0.0 \t, predicted= [7.388625e-05]  rounded= 0\n",
      "Test sample 209 , class label= 1.0 \t, predicted= [0.9858311]  rounded= 1\n",
      "Test sample 210 , class label= 1.0 \t, predicted= [0.97224456]  rounded= 1\n",
      "Test sample 211 , class label= 0.0 \t, predicted= [0.00828807]  rounded= 0\n",
      "Test sample 212 , class label= 1.0 \t, predicted= [0.8862132]  rounded= 1\n",
      "Test sample 213 , class label= 0.0 \t, predicted= [0.05404006]  rounded= 0\n",
      "Test sample 214 , class label= 1.0 \t, predicted= [0.8903629]  rounded= 1\n",
      "Test sample 215 , class label= 1.0 \t, predicted= [0.75612974]  rounded= 1\n",
      "Test sample 216 , class label= 1.0 \t, predicted= [0.93258727]  rounded= 1\n",
      "Test sample 217 , class label= 1.0 \t, predicted= [0.99341226]  rounded= 1\n",
      "Test sample 218 , class label= 0.0 \t, predicted= [2.0511152e-05]  rounded= 0\n",
      "Test sample 219 , class label= 1.0 \t, predicted= [0.99949944]  rounded= 1\n",
      "Test sample 220 , class label= 1.0 \t, predicted= [0.7562037]  rounded= 1\n",
      "Test sample 221 , class label= 1.0 \t, predicted= [0.9303841]  rounded= 1\n",
      "Test sample 222 , class label= 0.0 \t, predicted= [1.7729999e-13]  rounded= 0\n",
      "Test sample 223 , class label= 0.0 \t, predicted= [1.1296976e-19]  rounded= 0\n",
      "Test sample 224 , class label= 0.0 \t, predicted= [1.2300254e-08]  rounded= 0\n",
      "Test sample 225 , class label= 0.0 \t, predicted= [0.00086]  rounded= 0\n",
      "Test sample 226 , class label= 0.0 \t, predicted= [0.03342447]  rounded= 0\n",
      "Test sample 227 , class label= 1.0 \t, predicted= [0.9837678]  rounded= 1\n",
      "Test sample 228 , class label= 0.0 \t, predicted= [0.031996]  rounded= 0\n",
      "Test sample 229 , class label= 1.0 \t, predicted= [0.9940547]  rounded= 1\n",
      "Test sample 230 , class label= 1.0 \t, predicted= [0.99228823]  rounded= 1\n",
      "Test sample 231 , class label= 0.0 \t, predicted= [2.8069214e-13]  rounded= 0\n",
      "Test sample 232 , class label= 1.0 \t, predicted= [0.99999964]  rounded= 1\n",
      "Test sample 233 , class label= 1.0 \t, predicted= [0.9999998]  rounded= 1\n",
      "Test sample 234 , class label= 0.0 \t, predicted= [8.699873e-09]  rounded= 0\n",
      "Test sample 235 , class label= 0.0 \t, predicted= [0.00277454]  rounded= 0\n",
      "Test sample 236 , class label= 1.0 \t, predicted= [0.9999999]  rounded= 1\n",
      "Test sample 237 , class label= 1.0 \t, predicted= [0.93537074]  rounded= 1\n",
      "Test sample 238 , class label= 0.0 \t, predicted= [0.00115306]  rounded= 0\n",
      "Test sample 239 , class label= 1.0 \t, predicted= [0.754494]  rounded= 1\n",
      "Test sample 240 , class label= 1.0 \t, predicted= [0.855712]  rounded= 1\n",
      "Test sample 241 , class label= 1.0 \t, predicted= [0.99856937]  rounded= 1\n",
      "Test sample 242 , class label= 1.0 \t, predicted= [0.9998477]  rounded= 1\n",
      "Test sample 243 , class label= 0.0 \t, predicted= [0.00462163]  rounded= 0\n",
      "Test sample 244 , class label= 1.0 \t, predicted= [0.9878098]  rounded= 1\n",
      "Test sample 245 , class label= 0.0 \t, predicted= [1.1392981e-09]  rounded= 0\n",
      "Test sample 246 , class label= 1.0 \t, predicted= [0.95595586]  rounded= 1\n",
      "Test sample 247 , class label= 1.0 \t, predicted= [0.99507135]  rounded= 1\n",
      "Test sample 248 , class label= 0.0 \t, predicted= [4.40071e-11]  rounded= 0\n",
      "Test sample 249 , class label= 1.0 \t, predicted= [0.99775624]  rounded= 1\n",
      "Test sample 250 , class label= 1.0 \t, predicted= [0.9990325]  rounded= 1\n",
      "Test sample 251 , class label= 0.0 \t, predicted= [1.6054585e-08]  rounded= 0\n",
      "Test sample 252 , class label= 0.0 \t, predicted= [2.1351982e-09]  rounded= 0\n",
      "Test sample 253 , class label= 0.0 \t, predicted= [5.078113e-21]  rounded= 0\n",
      "Test sample 254 , class label= 1.0 \t, predicted= [0.8388454]  rounded= 1\n",
      "Test sample 255 , class label= 0.0 \t, predicted= [8.060744e-06]  rounded= 0\n",
      "Test sample 256 , class label= 1.0 \t, predicted= [0.9958557]  rounded= 1\n",
      "Test sample 257 , class label= 0.0 \t, predicted= [0.08061261]  rounded= 0\n",
      "Test sample 258 , class label= 1.0 \t, predicted= [0.8022418]  rounded= 1\n",
      "Test sample 259 , class label= 0.0 \t, predicted= [0.00222739]  rounded= 0\n",
      "Test sample 260 , class label= 0.0 \t, predicted= [4.1550553e-05]  rounded= 0\n",
      "Test sample 261 , class label= 1.0 \t, predicted= [0.9996903]  rounded= 1\n",
      "Test sample 262 , class label= 0.0 \t, predicted= [1.5734868e-06]  rounded= 0\n",
      "Test sample 263 , class label= 1.0 \t, predicted= [0.99350697]  rounded= 1\n",
      "Test sample 264 , class label= 1.0 \t, predicted= [0.9904856]  rounded= 1\n",
      "Test sample 265 , class label= 0.0 \t, predicted= [5.696617e-14]  rounded= 0\n",
      "Test sample 266 , class label= 0.0 \t, predicted= [4.002008e-09]  rounded= 0\n",
      "Test sample 267 , class label= 1.0 \t, predicted= [0.99122155]  rounded= 1\n",
      "Test sample 268 , class label= 0.0 \t, predicted= [0.00132773]  rounded= 0\n",
      "Test sample 269 , class label= 1.0 \t, predicted= [0.9369609]  rounded= 1\n",
      "Test sample 270 , class label= 1.0 \t, predicted= [0.9212023]  rounded= 1\n",
      "Test sample 271 , class label= 0.0 \t, predicted= [5.3224507e-08]  rounded= 0\n",
      "==========================\n",
      "Number of wrong predictions= 2.0 \t out of 272 samples\n"
     ]
    }
   ],
   "source": [
    "for i in range(len(y)):\n",
    "    print('Test sample', i , ', class label=', y[i],'\\t, predicted=', predictions[i], ' rounded=',rounded[i])\n",
    "print('==========================\\nNumber of wrong predictions=', abs(np.sum(y-rounded)) ,'\\t out of', len(y), 'samples')"
   ]
  },
  {
   "cell_type": "code",
   "execution_count": 10,
   "metadata": {},
   "outputs": [
    {
     "name": "stdout",
     "output_type": "stream",
     "text": [
      "1/1 [==============================] - 0s 18ms/step - loss: 0.9589 - accuracy: 0.7742\n",
      "Accuracy: 77.42\n"
     ]
    }
   ],
   "source": [
    "# evaluate the keras model, testing\n",
    "_, accuracy = model.evaluate(X2, y2)\n",
    "print('Accuracy: %.2f' % (accuracy*100))"
   ]
  },
  {
   "cell_type": "code",
   "execution_count": 11,
   "metadata": {},
   "outputs": [
    {
     "data": {
      "text/plain": [
       "272"
      ]
     },
     "execution_count": 11,
     "metadata": {},
     "output_type": "execute_result"
    }
   ],
   "source": [
    "len(X)"
   ]
  },
  {
   "cell_type": "code",
   "execution_count": 12,
   "metadata": {},
   "outputs": [
    {
     "name": "stdout",
     "output_type": "stream",
     "text": [
      "1/1 [==============================] - 0s 17ms/step\n"
     ]
    }
   ],
   "source": [
    "# make probability predictions with the model, testing\n",
    "predictions = model.predict(X2)\n",
    "# round predictions \n",
    "rounded = [round(x[0]) for x in predictions]"
   ]
  },
  {
   "cell_type": "code",
   "execution_count": 13,
   "metadata": {},
   "outputs": [
    {
     "name": "stdout",
     "output_type": "stream",
     "text": [
      "Test sample 0 , class label= 0.0 \t, predicted= [0.18595718]  rounded= 0\n",
      "Test sample 1 , class label= 0.0 \t, predicted= [0.76337844]  rounded= 1\n",
      "Test sample 2 , class label= 0.0 \t, predicted= [3.4881532e-07]  rounded= 0\n",
      "Test sample 3 , class label= 0.0 \t, predicted= [3.0932447e-06]  rounded= 0\n",
      "Test sample 4 , class label= 0.0 \t, predicted= [2.0464384e-11]  rounded= 0\n",
      "Test sample 5 , class label= 0.0 \t, predicted= [2.7694224e-11]  rounded= 0\n",
      "Test sample 6 , class label= 0.0 \t, predicted= [4.140823e-05]  rounded= 0\n",
      "Test sample 7 , class label= 1.0 \t, predicted= [0.9998418]  rounded= 1\n",
      "Test sample 8 , class label= 0.0 \t, predicted= [4.0176445e-05]  rounded= 0\n",
      "Test sample 9 , class label= 0.0 \t, predicted= [0.01275438]  rounded= 0\n",
      "Test sample 10 , class label= 0.0 \t, predicted= [1.1392285e-09]  rounded= 0\n",
      "Test sample 11 , class label= 1.0 \t, predicted= [0.6871928]  rounded= 1\n",
      "Test sample 12 , class label= 1.0 \t, predicted= [0.9997313]  rounded= 1\n",
      "Test sample 13 , class label= 0.0 \t, predicted= [0.00358847]  rounded= 0\n",
      "Test sample 14 , class label= 0.0 \t, predicted= [1.7194777e-08]  rounded= 0\n",
      "Test sample 15 , class label= 1.0 \t, predicted= [0.830396]  rounded= 1\n",
      "Test sample 16 , class label= 1.0 \t, predicted= [3.8559963e-05]  rounded= 0\n",
      "Test sample 17 , class label= 0.0 \t, predicted= [1.17213e-12]  rounded= 0\n",
      "Test sample 18 , class label= 1.0 \t, predicted= [0.7090006]  rounded= 1\n",
      "Test sample 19 , class label= 1.0 \t, predicted= [0.04789821]  rounded= 0\n",
      "Test sample 20 , class label= 1.0 \t, predicted= [0.98419863]  rounded= 1\n",
      "Test sample 21 , class label= 0.0 \t, predicted= [0.9928663]  rounded= 1\n",
      "Test sample 22 , class label= 1.0 \t, predicted= [0.85438955]  rounded= 1\n",
      "Test sample 23 , class label= 1.0 \t, predicted= [0.01467319]  rounded= 0\n",
      "Test sample 24 , class label= 0.0 \t, predicted= [0.2509547]  rounded= 0\n",
      "Test sample 25 , class label= 1.0 \t, predicted= [0.3170884]  rounded= 0\n",
      "Test sample 26 , class label= 1.0 \t, predicted= [0.99219424]  rounded= 1\n",
      "Test sample 27 , class label= 1.0 \t, predicted= [0.92056376]  rounded= 1\n",
      "Test sample 28 , class label= 0.0 \t, predicted= [0.00085985]  rounded= 0\n",
      "Test sample 29 , class label= 1.0 \t, predicted= [0.989714]  rounded= 1\n",
      "Test sample 30 , class label= 0.0 \t, predicted= [0.9539894]  rounded= 1\n",
      "==========================\n",
      "Number of wrong predictions= 1.0 \t out of 31 samples\n"
     ]
    }
   ],
   "source": [
    "for i in range(len(y2)):\n",
    "    print('Test sample', i , ', class label=', y2[i],'\\t, predicted=', predictions[i], ' rounded=',rounded[i])\n",
    "    \n",
    "print('==========================\\nNumber of wrong predictions=', abs(np.sum(y2-rounded)),'\\t out of', len(y2), 'samples')"
   ]
  },
  {
   "cell_type": "code",
   "execution_count": null,
   "metadata": {},
   "outputs": [],
   "source": []
  }
 ],
 "metadata": {
  "kernelspec": {
   "display_name": "Python 3 (ipykernel)",
   "language": "python",
   "name": "python3"
  },
  "language_info": {
   "codemirror_mode": {
    "name": "ipython",
    "version": 3
   },
   "file_extension": ".py",
   "mimetype": "text/x-python",
   "name": "python",
   "nbconvert_exporter": "python",
   "pygments_lexer": "ipython3",
   "version": "3.9.12"
  }
 },
 "nbformat": 4,
 "nbformat_minor": 2
}
