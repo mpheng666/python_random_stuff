{
 "cells": [
  {
   "cell_type": "markdown",
   "metadata": {},
   "source": [
    "# Coding Companion for Intuitive Deep Learning Part 1 (Annotated)"
   ]
  },
  {
   "cell_type": "markdown",
   "metadata": {},
   "source": [
    "In this notebook, we'll go through the code for the coding companion for Intuitive Deep Learning Part 1 ([Part 1a](https://medium.com/intuitive-deep-learning/intuitive-deep-learning-part-1a-introduction-to-neural-networks-d7b16ebf6b99), [Part 1b](https://medium.com/intuitive-deep-learning/intuitive-deep-learning-part-1b-introduction-to-neural-networks-8565d97ddd2d)) to create your very first neural network to predict whether the house price is below or above median value. We will go through the following in this notebook:\n",
    "\n",
    "- Exploring and Processing the Data\n",
    "- Building and Training our Neural Network\n",
    "- Visualizing Loss and Accuracy\n",
    "- Adding Regularization to our Neural Network\n",
    "\n",
    "The code is annotated throughout the notebook and you simply need to download the dataset [here](https://drive.google.com/file/d/1GfvKA0qznNVknghV4botnNxyH-KvODOC/view), put the dataset in the same folder as this notebook and run the code cells below. Note that the results you get might differ slightly from the blogpost as there is a degree of randomness in the way we split our dataset as well as the initialization of our neural network."
   ]
  },
  {
   "cell_type": "markdown",
   "metadata": {},
   "source": [
    "# Exploring and Processing the Data"
   ]
  },
  {
   "cell_type": "markdown",
   "metadata": {},
   "source": [
    "We first have to read in the CSV file that we've been given. We'll use a package called pandas for that:"
   ]
  },
  {
   "cell_type": "code",
   "execution_count": 1,
   "metadata": {},
   "outputs": [],
   "source": [
    "import pandas as pd"
   ]
  },
  {
   "cell_type": "code",
   "execution_count": 2,
   "metadata": {},
   "outputs": [],
   "source": [
    "df = pd.read_csv('housepricedata.csv')"
   ]
  },
  {
   "cell_type": "code",
   "execution_count": 3,
   "metadata": {},
   "outputs": [
    {
     "data": {
      "text/html": [
       "<div>\n",
       "<style scoped>\n",
       "    .dataframe tbody tr th:only-of-type {\n",
       "        vertical-align: middle;\n",
       "    }\n",
       "\n",
       "    .dataframe tbody tr th {\n",
       "        vertical-align: top;\n",
       "    }\n",
       "\n",
       "    .dataframe thead th {\n",
       "        text-align: right;\n",
       "    }\n",
       "</style>\n",
       "<table border=\"1\" class=\"dataframe\">\n",
       "  <thead>\n",
       "    <tr style=\"text-align: right;\">\n",
       "      <th></th>\n",
       "      <th>LotArea</th>\n",
       "      <th>OverallQual</th>\n",
       "      <th>OverallCond</th>\n",
       "      <th>TotalBsmtSF</th>\n",
       "      <th>FullBath</th>\n",
       "      <th>HalfBath</th>\n",
       "      <th>BedroomAbvGr</th>\n",
       "      <th>TotRmsAbvGrd</th>\n",
       "      <th>Fireplaces</th>\n",
       "      <th>GarageArea</th>\n",
       "      <th>AboveMedianPrice</th>\n",
       "    </tr>\n",
       "  </thead>\n",
       "  <tbody>\n",
       "    <tr>\n",
       "      <th>0</th>\n",
       "      <td>8450</td>\n",
       "      <td>7</td>\n",
       "      <td>5</td>\n",
       "      <td>856</td>\n",
       "      <td>2</td>\n",
       "      <td>1</td>\n",
       "      <td>3</td>\n",
       "      <td>8</td>\n",
       "      <td>0</td>\n",
       "      <td>548</td>\n",
       "      <td>1</td>\n",
       "    </tr>\n",
       "    <tr>\n",
       "      <th>1</th>\n",
       "      <td>9600</td>\n",
       "      <td>6</td>\n",
       "      <td>8</td>\n",
       "      <td>1262</td>\n",
       "      <td>2</td>\n",
       "      <td>0</td>\n",
       "      <td>3</td>\n",
       "      <td>6</td>\n",
       "      <td>1</td>\n",
       "      <td>460</td>\n",
       "      <td>1</td>\n",
       "    </tr>\n",
       "    <tr>\n",
       "      <th>2</th>\n",
       "      <td>11250</td>\n",
       "      <td>7</td>\n",
       "      <td>5</td>\n",
       "      <td>920</td>\n",
       "      <td>2</td>\n",
       "      <td>1</td>\n",
       "      <td>3</td>\n",
       "      <td>6</td>\n",
       "      <td>1</td>\n",
       "      <td>608</td>\n",
       "      <td>1</td>\n",
       "    </tr>\n",
       "    <tr>\n",
       "      <th>3</th>\n",
       "      <td>9550</td>\n",
       "      <td>7</td>\n",
       "      <td>5</td>\n",
       "      <td>756</td>\n",
       "      <td>1</td>\n",
       "      <td>0</td>\n",
       "      <td>3</td>\n",
       "      <td>7</td>\n",
       "      <td>1</td>\n",
       "      <td>642</td>\n",
       "      <td>0</td>\n",
       "    </tr>\n",
       "    <tr>\n",
       "      <th>4</th>\n",
       "      <td>14260</td>\n",
       "      <td>8</td>\n",
       "      <td>5</td>\n",
       "      <td>1145</td>\n",
       "      <td>2</td>\n",
       "      <td>1</td>\n",
       "      <td>4</td>\n",
       "      <td>9</td>\n",
       "      <td>1</td>\n",
       "      <td>836</td>\n",
       "      <td>1</td>\n",
       "    </tr>\n",
       "    <tr>\n",
       "      <th>...</th>\n",
       "      <td>...</td>\n",
       "      <td>...</td>\n",
       "      <td>...</td>\n",
       "      <td>...</td>\n",
       "      <td>...</td>\n",
       "      <td>...</td>\n",
       "      <td>...</td>\n",
       "      <td>...</td>\n",
       "      <td>...</td>\n",
       "      <td>...</td>\n",
       "      <td>...</td>\n",
       "    </tr>\n",
       "    <tr>\n",
       "      <th>1455</th>\n",
       "      <td>7917</td>\n",
       "      <td>6</td>\n",
       "      <td>5</td>\n",
       "      <td>953</td>\n",
       "      <td>2</td>\n",
       "      <td>1</td>\n",
       "      <td>3</td>\n",
       "      <td>7</td>\n",
       "      <td>1</td>\n",
       "      <td>460</td>\n",
       "      <td>1</td>\n",
       "    </tr>\n",
       "    <tr>\n",
       "      <th>1456</th>\n",
       "      <td>13175</td>\n",
       "      <td>6</td>\n",
       "      <td>6</td>\n",
       "      <td>1542</td>\n",
       "      <td>2</td>\n",
       "      <td>0</td>\n",
       "      <td>3</td>\n",
       "      <td>7</td>\n",
       "      <td>2</td>\n",
       "      <td>500</td>\n",
       "      <td>1</td>\n",
       "    </tr>\n",
       "    <tr>\n",
       "      <th>1457</th>\n",
       "      <td>9042</td>\n",
       "      <td>7</td>\n",
       "      <td>9</td>\n",
       "      <td>1152</td>\n",
       "      <td>2</td>\n",
       "      <td>0</td>\n",
       "      <td>4</td>\n",
       "      <td>9</td>\n",
       "      <td>2</td>\n",
       "      <td>252</td>\n",
       "      <td>1</td>\n",
       "    </tr>\n",
       "    <tr>\n",
       "      <th>1458</th>\n",
       "      <td>9717</td>\n",
       "      <td>5</td>\n",
       "      <td>6</td>\n",
       "      <td>1078</td>\n",
       "      <td>1</td>\n",
       "      <td>0</td>\n",
       "      <td>2</td>\n",
       "      <td>5</td>\n",
       "      <td>0</td>\n",
       "      <td>240</td>\n",
       "      <td>0</td>\n",
       "    </tr>\n",
       "    <tr>\n",
       "      <th>1459</th>\n",
       "      <td>9937</td>\n",
       "      <td>5</td>\n",
       "      <td>6</td>\n",
       "      <td>1256</td>\n",
       "      <td>1</td>\n",
       "      <td>1</td>\n",
       "      <td>3</td>\n",
       "      <td>6</td>\n",
       "      <td>0</td>\n",
       "      <td>276</td>\n",
       "      <td>0</td>\n",
       "    </tr>\n",
       "  </tbody>\n",
       "</table>\n",
       "<p>1460 rows × 11 columns</p>\n",
       "</div>"
      ],
      "text/plain": [
       "      LotArea  OverallQual  OverallCond  TotalBsmtSF  FullBath  HalfBath  \\\n",
       "0        8450            7            5          856         2         1   \n",
       "1        9600            6            8         1262         2         0   \n",
       "2       11250            7            5          920         2         1   \n",
       "3        9550            7            5          756         1         0   \n",
       "4       14260            8            5         1145         2         1   \n",
       "...       ...          ...          ...          ...       ...       ...   \n",
       "1455     7917            6            5          953         2         1   \n",
       "1456    13175            6            6         1542         2         0   \n",
       "1457     9042            7            9         1152         2         0   \n",
       "1458     9717            5            6         1078         1         0   \n",
       "1459     9937            5            6         1256         1         1   \n",
       "\n",
       "      BedroomAbvGr  TotRmsAbvGrd  Fireplaces  GarageArea  AboveMedianPrice  \n",
       "0                3             8           0         548                 1  \n",
       "1                3             6           1         460                 1  \n",
       "2                3             6           1         608                 1  \n",
       "3                3             7           1         642                 0  \n",
       "4                4             9           1         836                 1  \n",
       "...            ...           ...         ...         ...               ...  \n",
       "1455             3             7           1         460                 1  \n",
       "1456             3             7           2         500                 1  \n",
       "1457             4             9           2         252                 1  \n",
       "1458             2             5           0         240                 0  \n",
       "1459             3             6           0         276                 0  \n",
       "\n",
       "[1460 rows x 11 columns]"
      ]
     },
     "execution_count": 3,
     "metadata": {},
     "output_type": "execute_result"
    }
   ],
   "source": [
    "df"
   ]
  },
  {
   "cell_type": "markdown",
   "metadata": {},
   "source": [
    "The dataset that we have now is in what we call a pandas dataframe. To convert it to an array, simply access its values:"
   ]
  },
  {
   "cell_type": "code",
   "execution_count": 4,
   "metadata": {},
   "outputs": [],
   "source": [
    "dataset = df.values"
   ]
  },
  {
   "cell_type": "code",
   "execution_count": 5,
   "metadata": {},
   "outputs": [
    {
     "data": {
      "text/plain": [
       "array([[ 8450,     7,     5, ...,     0,   548,     1],\n",
       "       [ 9600,     6,     8, ...,     1,   460,     1],\n",
       "       [11250,     7,     5, ...,     1,   608,     1],\n",
       "       ...,\n",
       "       [ 9042,     7,     9, ...,     2,   252,     1],\n",
       "       [ 9717,     5,     6, ...,     0,   240,     0],\n",
       "       [ 9937,     5,     6, ...,     0,   276,     0]], dtype=int64)"
      ]
     },
     "execution_count": 5,
     "metadata": {},
     "output_type": "execute_result"
    }
   ],
   "source": [
    "dataset"
   ]
  },
  {
   "cell_type": "markdown",
   "metadata": {},
   "source": [
    "Now, we split the dataset into our input features and the label we wish to predict."
   ]
  },
  {
   "cell_type": "code",
   "execution_count": 6,
   "metadata": {},
   "outputs": [],
   "source": [
    "X = dataset[:,0:10]\n",
    "Y = dataset[:,10]"
   ]
  },
  {
   "cell_type": "markdown",
   "metadata": {},
   "source": [
    "Normalizing our data is very important, as we want the input features to be on the same order of magnitude to make our training easier. We'll use a min-max scaler from scikit-learn which scales our data to be between 0 and 1."
   ]
  },
  {
   "cell_type": "code",
   "execution_count": 7,
   "metadata": {},
   "outputs": [],
   "source": [
    "from sklearn import preprocessing"
   ]
  },
  {
   "cell_type": "code",
   "execution_count": 8,
   "metadata": {},
   "outputs": [],
   "source": [
    "min_max_scaler = preprocessing.MinMaxScaler()\n",
    "X_scale = min_max_scaler.fit_transform(X)"
   ]
  },
  {
   "cell_type": "code",
   "execution_count": 9,
   "metadata": {},
   "outputs": [
    {
     "data": {
      "text/plain": [
       "array([[0.0334198 , 0.66666667, 0.5       , ..., 0.5       , 0.        ,\n",
       "        0.3864598 ],\n",
       "       [0.03879502, 0.55555556, 0.875     , ..., 0.33333333, 0.33333333,\n",
       "        0.32440056],\n",
       "       [0.04650728, 0.66666667, 0.5       , ..., 0.33333333, 0.33333333,\n",
       "        0.42877292],\n",
       "       ...,\n",
       "       [0.03618687, 0.66666667, 1.        , ..., 0.58333333, 0.66666667,\n",
       "        0.17771509],\n",
       "       [0.03934189, 0.44444444, 0.625     , ..., 0.25      , 0.        ,\n",
       "        0.16925247],\n",
       "       [0.04037019, 0.44444444, 0.625     , ..., 0.33333333, 0.        ,\n",
       "        0.19464034]])"
      ]
     },
     "execution_count": 9,
     "metadata": {},
     "output_type": "execute_result"
    }
   ],
   "source": [
    "X_scale"
   ]
  },
  {
   "cell_type": "markdown",
   "metadata": {},
   "source": [
    "Lastly, we wish to set aside some parts of our dataset for a validation set and a test set. We use the function train_test_split from scikit-learn to do that."
   ]
  },
  {
   "cell_type": "code",
   "execution_count": 10,
   "metadata": {},
   "outputs": [],
   "source": [
    "from sklearn.model_selection import train_test_split"
   ]
  },
  {
   "cell_type": "code",
   "execution_count": 11,
   "metadata": {},
   "outputs": [],
   "source": [
    "X_train, X_val_and_test, Y_train, Y_val_and_test = train_test_split(X_scale, Y, test_size=0.3)"
   ]
  },
  {
   "cell_type": "code",
   "execution_count": 12,
   "metadata": {},
   "outputs": [],
   "source": [
    "X_val, X_test, Y_val, Y_test = train_test_split(X_val_and_test, Y_val_and_test, test_size=0.5)"
   ]
  },
  {
   "cell_type": "code",
   "execution_count": 13,
   "metadata": {},
   "outputs": [
    {
     "name": "stdout",
     "output_type": "stream",
     "text": [
      "(1022, 10) (219, 10) (219, 10) (1022,) (219,) (219,)\n"
     ]
    }
   ],
   "source": [
    "print(X_train.shape, X_val.shape, X_test.shape, Y_train.shape, Y_val.shape, Y_test.shape)"
   ]
  },
  {
   "cell_type": "markdown",
   "metadata": {},
   "source": [
    "# Building and Training Our First Neural Network"
   ]
  },
  {
   "cell_type": "markdown",
   "metadata": {},
   "source": [
    "We will be using Keras to build our architecture. Let's import the code from Keras that we will need to use:"
   ]
  },
  {
   "cell_type": "code",
   "execution_count": 14,
   "metadata": {},
   "outputs": [],
   "source": [
    "from keras.models import Sequential\n",
    "from keras.layers import Dense"
   ]
  },
  {
   "cell_type": "markdown",
   "metadata": {},
   "source": [
    "We will be using the Sequential model, which means that we merely need to describe the layers above in sequence. Our neural network has three layers:\n",
    "\n",
    "- Hidden layer 1: 30 neurons, ReLU activation\n",
    "- Hidden layer 2: 30 neurons, ReLU activation\n",
    "- Output Layer: 1 neuron, Sigmoid activation"
   ]
  },
  {
   "cell_type": "code",
   "execution_count": 15,
   "metadata": {},
   "outputs": [],
   "source": [
    "model = Sequential([\n",
    "    Dense(32, activation='relu', input_shape=(10,)),\n",
    "    Dense(32, activation='relu'),\n",
    "    Dense(1, activation='sigmoid'),\n",
    "])"
   ]
  },
  {
   "cell_type": "markdown",
   "metadata": {},
   "source": [
    "Now that we've got our architecture specified, we need to find the best numbers for it. Before we start our training, we have to configure the model by\n",
    "- Telling it what algorithm you want to use to do the optimization (we'll use stochastic gradient descent)\n",
    "- Telling it what loss function to use (for binary classification, we will use binary cross entropy)\n",
    "- Telling it what other metrics you want to track apart from the loss function (we want to track accuracy as well)\n",
    "\n",
    "We do so below:"
   ]
  },
  {
   "cell_type": "code",
   "execution_count": 16,
   "metadata": {},
   "outputs": [],
   "source": [
    "model.compile(optimizer='sgd',\n",
    "              loss='binary_crossentropy',\n",
    "              metrics=['accuracy'])"
   ]
  },
  {
   "cell_type": "markdown",
   "metadata": {},
   "source": [
    "Training on the data is pretty straightforward and requires us to write one line of code. The function is called 'fit' as we are fitting the parameters to the data. We specify:\n",
    "- what data we are training on, which is X_train and Y_train\n",
    "- the size of our mini-batch \n",
    "- how long we want to train it for (epochs)\n",
    "- what our validation data is so that the model will tell us how we are doing on the validation data at each point.\n",
    "\n",
    "This function will output a history, which we save under the variable hist. We'll use this variable a little later."
   ]
  },
  {
   "cell_type": "code",
   "execution_count": 17,
   "metadata": {},
   "outputs": [
    {
     "name": "stdout",
     "output_type": "stream",
     "text": [
      "Epoch 1/100\n",
      "32/32 [==============================] - 0s 5ms/step - loss: 0.6782 - accuracy: 0.6830 - val_loss: 0.6757 - val_accuracy: 0.6895\n",
      "Epoch 2/100\n",
      "32/32 [==============================] - 0s 1ms/step - loss: 0.6700 - accuracy: 0.6957 - val_loss: 0.6710 - val_accuracy: 0.6438\n",
      "Epoch 3/100\n",
      "32/32 [==============================] - 0s 1ms/step - loss: 0.6629 - accuracy: 0.6683 - val_loss: 0.6658 - val_accuracy: 0.6484\n",
      "Epoch 4/100\n",
      "32/32 [==============================] - 0s 1ms/step - loss: 0.6560 - accuracy: 0.6761 - val_loss: 0.6599 - val_accuracy: 0.6804\n",
      "Epoch 5/100\n",
      "32/32 [==============================] - 0s 1ms/step - loss: 0.6488 - accuracy: 0.6928 - val_loss: 0.6535 - val_accuracy: 0.7078\n",
      "Epoch 6/100\n",
      "32/32 [==============================] - 0s 1ms/step - loss: 0.6418 - accuracy: 0.7260 - val_loss: 0.6470 - val_accuracy: 0.7215\n",
      "Epoch 7/100\n",
      "32/32 [==============================] - 0s 1ms/step - loss: 0.6341 - accuracy: 0.7378 - val_loss: 0.6396 - val_accuracy: 0.7443\n",
      "Epoch 8/100\n",
      "32/32 [==============================] - 0s 1ms/step - loss: 0.6263 - accuracy: 0.7593 - val_loss: 0.6319 - val_accuracy: 0.7534\n",
      "Epoch 9/100\n",
      "32/32 [==============================] - 0s 1ms/step - loss: 0.6181 - accuracy: 0.7759 - val_loss: 0.6237 - val_accuracy: 0.7626\n",
      "Epoch 10/100\n",
      "32/32 [==============================] - 0s 1ms/step - loss: 0.6095 - accuracy: 0.7789 - val_loss: 0.6146 - val_accuracy: 0.7808\n",
      "Epoch 11/100\n",
      "32/32 [==============================] - 0s 1ms/step - loss: 0.6011 - accuracy: 0.7906 - val_loss: 0.6052 - val_accuracy: 0.7945\n",
      "Epoch 12/100\n",
      "32/32 [==============================] - 0s 1ms/step - loss: 0.5924 - accuracy: 0.8082 - val_loss: 0.5965 - val_accuracy: 0.8037\n",
      "Epoch 13/100\n",
      "32/32 [==============================] - 0s 1ms/step - loss: 0.5834 - accuracy: 0.8229 - val_loss: 0.5882 - val_accuracy: 0.8037\n",
      "Epoch 14/100\n",
      "32/32 [==============================] - 0s 1ms/step - loss: 0.5741 - accuracy: 0.8219 - val_loss: 0.5787 - val_accuracy: 0.8082\n",
      "Epoch 15/100\n",
      "32/32 [==============================] - 0s 1ms/step - loss: 0.5645 - accuracy: 0.8297 - val_loss: 0.5692 - val_accuracy: 0.8128\n",
      "Epoch 16/100\n",
      "32/32 [==============================] - 0s 1ms/step - loss: 0.5546 - accuracy: 0.8317 - val_loss: 0.5587 - val_accuracy: 0.8219\n",
      "Epoch 17/100\n",
      "32/32 [==============================] - 0s 1ms/step - loss: 0.5444 - accuracy: 0.8288 - val_loss: 0.5476 - val_accuracy: 0.8402\n",
      "Epoch 18/100\n",
      "32/32 [==============================] - 0s 1ms/step - loss: 0.5338 - accuracy: 0.8386 - val_loss: 0.5377 - val_accuracy: 0.8402\n",
      "Epoch 19/100\n",
      "32/32 [==============================] - 0s 1ms/step - loss: 0.5233 - accuracy: 0.8327 - val_loss: 0.5263 - val_accuracy: 0.8447\n",
      "Epoch 20/100\n",
      "32/32 [==============================] - 0s 1ms/step - loss: 0.5126 - accuracy: 0.8464 - val_loss: 0.5153 - val_accuracy: 0.8356\n",
      "Epoch 21/100\n",
      "32/32 [==============================] - 0s 1ms/step - loss: 0.5015 - accuracy: 0.8542 - val_loss: 0.5056 - val_accuracy: 0.8447\n",
      "Epoch 22/100\n",
      "32/32 [==============================] - 0s 1ms/step - loss: 0.4905 - accuracy: 0.8571 - val_loss: 0.4974 - val_accuracy: 0.8493\n",
      "Epoch 23/100\n",
      "32/32 [==============================] - 0s 1ms/step - loss: 0.4797 - accuracy: 0.8474 - val_loss: 0.4825 - val_accuracy: 0.8493\n",
      "Epoch 24/100\n",
      "32/32 [==============================] - 0s 1ms/step - loss: 0.4694 - accuracy: 0.8601 - val_loss: 0.4732 - val_accuracy: 0.8493\n",
      "Epoch 25/100\n",
      "32/32 [==============================] - 0s 1ms/step - loss: 0.4590 - accuracy: 0.8601 - val_loss: 0.4639 - val_accuracy: 0.8493\n",
      "Epoch 26/100\n",
      "32/32 [==============================] - 0s 1ms/step - loss: 0.4495 - accuracy: 0.8630 - val_loss: 0.4543 - val_accuracy: 0.8539\n",
      "Epoch 27/100\n",
      "32/32 [==============================] - 0s 1ms/step - loss: 0.4395 - accuracy: 0.8659 - val_loss: 0.4466 - val_accuracy: 0.8493\n",
      "Epoch 28/100\n",
      "32/32 [==============================] - 0s 1ms/step - loss: 0.4302 - accuracy: 0.8669 - val_loss: 0.4395 - val_accuracy: 0.8539\n",
      "Epoch 29/100\n",
      "32/32 [==============================] - 0s 1ms/step - loss: 0.4211 - accuracy: 0.8669 - val_loss: 0.4326 - val_accuracy: 0.8539\n",
      "Epoch 30/100\n",
      "32/32 [==============================] - 0s 1ms/step - loss: 0.4125 - accuracy: 0.8659 - val_loss: 0.4221 - val_accuracy: 0.8539\n",
      "Epoch 31/100\n",
      "32/32 [==============================] - 0s 1ms/step - loss: 0.4042 - accuracy: 0.8728 - val_loss: 0.4162 - val_accuracy: 0.8539\n",
      "Epoch 32/100\n",
      "32/32 [==============================] - 0s 1ms/step - loss: 0.3967 - accuracy: 0.8757 - val_loss: 0.4094 - val_accuracy: 0.8539\n",
      "Epoch 33/100\n",
      "32/32 [==============================] - 0s 1ms/step - loss: 0.3896 - accuracy: 0.8728 - val_loss: 0.4021 - val_accuracy: 0.8493\n",
      "Epoch 34/100\n",
      "32/32 [==============================] - 0s 1ms/step - loss: 0.3823 - accuracy: 0.8757 - val_loss: 0.3961 - val_accuracy: 0.8493\n",
      "Epoch 35/100\n",
      "32/32 [==============================] - 0s 1ms/step - loss: 0.3764 - accuracy: 0.8708 - val_loss: 0.3905 - val_accuracy: 0.8493\n",
      "Epoch 36/100\n",
      "32/32 [==============================] - 0s 1ms/step - loss: 0.3698 - accuracy: 0.8777 - val_loss: 0.3852 - val_accuracy: 0.8493\n",
      "Epoch 37/100\n",
      "32/32 [==============================] - 0s 1ms/step - loss: 0.3645 - accuracy: 0.8748 - val_loss: 0.3816 - val_accuracy: 0.8493\n",
      "Epoch 38/100\n",
      "32/32 [==============================] - 0s 1ms/step - loss: 0.3591 - accuracy: 0.8757 - val_loss: 0.3753 - val_accuracy: 0.8493\n",
      "Epoch 39/100\n",
      "32/32 [==============================] - 0s 1ms/step - loss: 0.3541 - accuracy: 0.8767 - val_loss: 0.3718 - val_accuracy: 0.8493\n",
      "Epoch 40/100\n",
      "32/32 [==============================] - 0s 1ms/step - loss: 0.3496 - accuracy: 0.8728 - val_loss: 0.3698 - val_accuracy: 0.8493\n",
      "Epoch 41/100\n",
      "32/32 [==============================] - 0s 1ms/step - loss: 0.3448 - accuracy: 0.8777 - val_loss: 0.3677 - val_accuracy: 0.8493\n",
      "Epoch 42/100\n",
      "32/32 [==============================] - 0s 1ms/step - loss: 0.3412 - accuracy: 0.8738 - val_loss: 0.3635 - val_accuracy: 0.8493\n",
      "Epoch 43/100\n",
      "32/32 [==============================] - 0s 1ms/step - loss: 0.3375 - accuracy: 0.8787 - val_loss: 0.3601 - val_accuracy: 0.8539\n",
      "Epoch 44/100\n",
      "32/32 [==============================] - 0s 1ms/step - loss: 0.3341 - accuracy: 0.8748 - val_loss: 0.3568 - val_accuracy: 0.8493\n",
      "Epoch 45/100\n",
      "32/32 [==============================] - 0s 1ms/step - loss: 0.3305 - accuracy: 0.8787 - val_loss: 0.3551 - val_accuracy: 0.8539\n",
      "Epoch 46/100\n",
      "32/32 [==============================] - 0s 1ms/step - loss: 0.3272 - accuracy: 0.8767 - val_loss: 0.3515 - val_accuracy: 0.8493\n",
      "Epoch 47/100\n",
      "32/32 [==============================] - 0s 1ms/step - loss: 0.3248 - accuracy: 0.8757 - val_loss: 0.3501 - val_accuracy: 0.8493\n",
      "Epoch 48/100\n",
      "32/32 [==============================] - 0s 1ms/step - loss: 0.3220 - accuracy: 0.8767 - val_loss: 0.3481 - val_accuracy: 0.8493\n",
      "Epoch 49/100\n",
      "32/32 [==============================] - 0s 1ms/step - loss: 0.3186 - accuracy: 0.8806 - val_loss: 0.3487 - val_accuracy: 0.8539\n",
      "Epoch 50/100\n",
      "32/32 [==============================] - 0s 1ms/step - loss: 0.3175 - accuracy: 0.8767 - val_loss: 0.3449 - val_accuracy: 0.8493\n",
      "Epoch 51/100\n",
      "32/32 [==============================] - 0s 1ms/step - loss: 0.3147 - accuracy: 0.8796 - val_loss: 0.3428 - val_accuracy: 0.8493\n",
      "Epoch 52/100\n",
      "32/32 [==============================] - 0s 1ms/step - loss: 0.3128 - accuracy: 0.8845 - val_loss: 0.3427 - val_accuracy: 0.8539\n",
      "Epoch 53/100\n",
      "32/32 [==============================] - 0s 1ms/step - loss: 0.3110 - accuracy: 0.8777 - val_loss: 0.3400 - val_accuracy: 0.8493\n",
      "Epoch 54/100\n",
      "32/32 [==============================] - 0s 1ms/step - loss: 0.3091 - accuracy: 0.8816 - val_loss: 0.3379 - val_accuracy: 0.8447\n",
      "Epoch 55/100\n",
      "32/32 [==============================] - 0s 1ms/step - loss: 0.3070 - accuracy: 0.8836 - val_loss: 0.3371 - val_accuracy: 0.8493\n",
      "Epoch 56/100\n",
      "32/32 [==============================] - 0s 1ms/step - loss: 0.3054 - accuracy: 0.8796 - val_loss: 0.3365 - val_accuracy: 0.8493\n",
      "Epoch 57/100\n",
      "32/32 [==============================] - 0s 1ms/step - loss: 0.3044 - accuracy: 0.8826 - val_loss: 0.3365 - val_accuracy: 0.8539\n",
      "Epoch 58/100\n",
      "32/32 [==============================] - 0s 1ms/step - loss: 0.3024 - accuracy: 0.8806 - val_loss: 0.3332 - val_accuracy: 0.8493\n"
     ]
    },
    {
     "name": "stdout",
     "output_type": "stream",
     "text": [
      "Epoch 59/100\n",
      "32/32 [==============================] - 0s 1ms/step - loss: 0.3009 - accuracy: 0.8845 - val_loss: 0.3354 - val_accuracy: 0.8584\n",
      "Epoch 60/100\n",
      "32/32 [==============================] - 0s 1ms/step - loss: 0.2998 - accuracy: 0.8836 - val_loss: 0.3321 - val_accuracy: 0.8539\n",
      "Epoch 61/100\n",
      "32/32 [==============================] - 0s 1ms/step - loss: 0.2985 - accuracy: 0.8826 - val_loss: 0.3321 - val_accuracy: 0.8539\n",
      "Epoch 62/100\n",
      "32/32 [==============================] - 0s 1ms/step - loss: 0.2974 - accuracy: 0.8796 - val_loss: 0.3305 - val_accuracy: 0.8539\n",
      "Epoch 63/100\n",
      "32/32 [==============================] - 0s 1ms/step - loss: 0.2967 - accuracy: 0.8806 - val_loss: 0.3279 - val_accuracy: 0.8447\n",
      "Epoch 64/100\n",
      "32/32 [==============================] - 0s 1ms/step - loss: 0.2954 - accuracy: 0.8885 - val_loss: 0.3270 - val_accuracy: 0.8447\n",
      "Epoch 65/100\n",
      "32/32 [==============================] - 0s 1ms/step - loss: 0.2941 - accuracy: 0.8894 - val_loss: 0.3267 - val_accuracy: 0.8493\n",
      "Epoch 66/100\n",
      "32/32 [==============================] - 0s 1ms/step - loss: 0.2926 - accuracy: 0.8855 - val_loss: 0.3251 - val_accuracy: 0.8447\n",
      "Epoch 67/100\n",
      "32/32 [==============================] - 0s 1ms/step - loss: 0.2919 - accuracy: 0.8894 - val_loss: 0.3244 - val_accuracy: 0.8447\n",
      "Epoch 68/100\n",
      "32/32 [==============================] - 0s 1ms/step - loss: 0.2915 - accuracy: 0.8885 - val_loss: 0.3243 - val_accuracy: 0.8539\n",
      "Epoch 69/100\n",
      "32/32 [==============================] - 0s 1ms/step - loss: 0.2898 - accuracy: 0.8855 - val_loss: 0.3250 - val_accuracy: 0.8493\n",
      "Epoch 70/100\n",
      "32/32 [==============================] - 0s 1ms/step - loss: 0.2894 - accuracy: 0.8836 - val_loss: 0.3217 - val_accuracy: 0.8447\n",
      "Epoch 71/100\n",
      "32/32 [==============================] - 0s 1ms/step - loss: 0.2890 - accuracy: 0.8875 - val_loss: 0.3209 - val_accuracy: 0.8447\n",
      "Epoch 72/100\n",
      "32/32 [==============================] - 0s 1ms/step - loss: 0.2877 - accuracy: 0.8885 - val_loss: 0.3205 - val_accuracy: 0.8447\n",
      "Epoch 73/100\n",
      "32/32 [==============================] - 0s 1ms/step - loss: 0.2871 - accuracy: 0.8865 - val_loss: 0.3197 - val_accuracy: 0.8447\n",
      "Epoch 74/100\n",
      "32/32 [==============================] - 0s 1ms/step - loss: 0.2864 - accuracy: 0.8904 - val_loss: 0.3186 - val_accuracy: 0.8447\n",
      "Epoch 75/100\n",
      "32/32 [==============================] - 0s 1ms/step - loss: 0.2861 - accuracy: 0.8875 - val_loss: 0.3176 - val_accuracy: 0.8447\n",
      "Epoch 76/100\n",
      "32/32 [==============================] - 0s 1ms/step - loss: 0.2856 - accuracy: 0.8885 - val_loss: 0.3170 - val_accuracy: 0.8447\n",
      "Epoch 77/100\n",
      "32/32 [==============================] - 0s 1ms/step - loss: 0.2839 - accuracy: 0.8894 - val_loss: 0.3175 - val_accuracy: 0.8539\n",
      "Epoch 78/100\n",
      "32/32 [==============================] - 0s 1ms/step - loss: 0.2828 - accuracy: 0.8894 - val_loss: 0.3195 - val_accuracy: 0.8630\n",
      "Epoch 79/100\n",
      "32/32 [==============================] - 0s 2ms/step - loss: 0.2829 - accuracy: 0.8885 - val_loss: 0.3149 - val_accuracy: 0.8447\n",
      "Epoch 80/100\n",
      "32/32 [==============================] - 0s 1ms/step - loss: 0.2819 - accuracy: 0.8836 - val_loss: 0.3138 - val_accuracy: 0.8493\n",
      "Epoch 81/100\n",
      "32/32 [==============================] - 0s 1ms/step - loss: 0.2823 - accuracy: 0.8894 - val_loss: 0.3131 - val_accuracy: 0.8493\n",
      "Epoch 82/100\n",
      "32/32 [==============================] - 0s 1ms/step - loss: 0.2803 - accuracy: 0.8875 - val_loss: 0.3137 - val_accuracy: 0.8584\n",
      "Epoch 83/100\n",
      "32/32 [==============================] - 0s 1ms/step - loss: 0.2803 - accuracy: 0.8914 - val_loss: 0.3123 - val_accuracy: 0.8493\n",
      "Epoch 84/100\n",
      "32/32 [==============================] - 0s 1ms/step - loss: 0.2801 - accuracy: 0.8914 - val_loss: 0.3124 - val_accuracy: 0.8630\n",
      "Epoch 85/100\n",
      "32/32 [==============================] - 0s 1ms/step - loss: 0.2802 - accuracy: 0.8914 - val_loss: 0.3102 - val_accuracy: 0.8493\n",
      "Epoch 86/100\n",
      "32/32 [==============================] - 0s 1ms/step - loss: 0.2788 - accuracy: 0.8914 - val_loss: 0.3106 - val_accuracy: 0.8630\n",
      "Epoch 87/100\n",
      "32/32 [==============================] - 0s 1ms/step - loss: 0.2777 - accuracy: 0.8894 - val_loss: 0.3105 - val_accuracy: 0.8630\n",
      "Epoch 88/100\n",
      "32/32 [==============================] - 0s 1ms/step - loss: 0.2778 - accuracy: 0.8894 - val_loss: 0.3081 - val_accuracy: 0.8493\n",
      "Epoch 89/100\n",
      "32/32 [==============================] - 0s 1ms/step - loss: 0.2771 - accuracy: 0.8914 - val_loss: 0.3078 - val_accuracy: 0.8584\n",
      "Epoch 90/100\n",
      "32/32 [==============================] - 0s 1ms/step - loss: 0.2762 - accuracy: 0.8894 - val_loss: 0.3065 - val_accuracy: 0.8493\n",
      "Epoch 91/100\n",
      "32/32 [==============================] - 0s 1ms/step - loss: 0.2762 - accuracy: 0.8885 - val_loss: 0.3073 - val_accuracy: 0.8630\n",
      "Epoch 92/100\n",
      "32/32 [==============================] - 0s 1ms/step - loss: 0.2751 - accuracy: 0.8914 - val_loss: 0.3061 - val_accuracy: 0.8584\n",
      "Epoch 93/100\n",
      "32/32 [==============================] - 0s 1ms/step - loss: 0.2752 - accuracy: 0.8904 - val_loss: 0.3070 - val_accuracy: 0.8676\n",
      "Epoch 94/100\n",
      "32/32 [==============================] - 0s 1ms/step - loss: 0.2752 - accuracy: 0.8904 - val_loss: 0.3048 - val_accuracy: 0.8630\n",
      "Epoch 95/100\n",
      "32/32 [==============================] - 0s 1ms/step - loss: 0.2747 - accuracy: 0.8875 - val_loss: 0.3035 - val_accuracy: 0.8630\n",
      "Epoch 96/100\n",
      "32/32 [==============================] - 0s 1ms/step - loss: 0.2742 - accuracy: 0.8904 - val_loss: 0.3036 - val_accuracy: 0.8630\n",
      "Epoch 97/100\n",
      "32/32 [==============================] - 0s 1ms/step - loss: 0.2735 - accuracy: 0.8904 - val_loss: 0.3018 - val_accuracy: 0.8539\n",
      "Epoch 98/100\n",
      "32/32 [==============================] - 0s 1ms/step - loss: 0.2731 - accuracy: 0.8924 - val_loss: 0.3012 - val_accuracy: 0.8630\n",
      "Epoch 99/100\n",
      "32/32 [==============================] - 0s 1ms/step - loss: 0.2726 - accuracy: 0.8894 - val_loss: 0.3025 - val_accuracy: 0.8630\n",
      "Epoch 100/100\n",
      "32/32 [==============================] - 0s 1ms/step - loss: 0.2723 - accuracy: 0.8924 - val_loss: 0.2998 - val_accuracy: 0.8676\n"
     ]
    }
   ],
   "source": [
    "hist = model.fit(X_train, Y_train,\n",
    "          batch_size=32, epochs=100,\n",
    "          validation_data=(X_val, Y_val))"
   ]
  },
  {
   "cell_type": "markdown",
   "metadata": {},
   "source": [
    "Evaluating our data on the test set:"
   ]
  },
  {
   "cell_type": "code",
   "execution_count": 18,
   "metadata": {},
   "outputs": [
    {
     "name": "stdout",
     "output_type": "stream",
     "text": [
      "7/7 [==============================] - 0s 665us/step - loss: 0.3008 - accuracy: 0.8858\n"
     ]
    },
    {
     "data": {
      "text/plain": [
       "0.8858447670936584"
      ]
     },
     "execution_count": 18,
     "metadata": {},
     "output_type": "execute_result"
    }
   ],
   "source": [
    "model.evaluate(X_test, Y_test)[1]"
   ]
  },
  {
   "cell_type": "markdown",
   "metadata": {},
   "source": [
    "# Visualizing Loss and Accuracy"
   ]
  },
  {
   "cell_type": "markdown",
   "metadata": {},
   "source": [
    "Import the relevant package we need to do the visualization"
   ]
  },
  {
   "cell_type": "code",
   "execution_count": 19,
   "metadata": {},
   "outputs": [],
   "source": [
    "import matplotlib.pyplot as plt"
   ]
  },
  {
   "cell_type": "markdown",
   "metadata": {},
   "source": [
    "We want to visualize the training loss and the validation loss like this:"
   ]
  },
  {
   "cell_type": "code",
   "execution_count": 20,
   "metadata": {},
   "outputs": [
    {
     "data": {
      "image/png": "[encoded data removed]",
      "text/plain": [
       "<Figure size 432x288 with 1 Axes>"
      ]
     },
     "metadata": {
      "needs_background": "light"
     },
     "output_type": "display_data"
    }
   ],
   "source": [
    "plt.plot(hist.history['loss'])\n",
    "plt.plot(hist.history['val_loss'])\n",
    "plt.title('Model loss')\n",
    "plt.ylabel('Loss')\n",
    "plt.xlabel('Epoch')\n",
    "plt.legend(['Train', 'Val'], loc='upper right')\n",
    "plt.show()"
   ]
  },
  {
   "cell_type": "markdown",
   "metadata": {},
   "source": [
    "We can also visualize the training accuracy and the validation accuracy like this:"
   ]
  },
  {
   "cell_type": "code",
   "execution_count": 21,
   "metadata": {},
   "outputs": [
    {
     "ename": "KeyError",
     "evalue": "'acc'",
     "output_type": "error",
     "traceback": [
      "\u001b[1;31m---------------------------------------------------------------------------\u001b[0m",
      "\u001b[1;31mKeyError\u001b[0m                                  Traceback (most recent call last)",
      "\u001b[1;32m<ipython-input-21-84d24d69b6e4>\u001b[0m in \u001b[0;36m<module>\u001b[1;34m\u001b[0m\n\u001b[1;32m----> 1\u001b[1;33m \u001b[0mplt\u001b[0m\u001b[1;33m.\u001b[0m\u001b[0mplot\u001b[0m\u001b[1;33m(\u001b[0m\u001b[0mhist\u001b[0m\u001b[1;33m.\u001b[0m\u001b[0mhistory\u001b[0m\u001b[1;33m[\u001b[0m\u001b[1;34m'acc'\u001b[0m\u001b[1;33m]\u001b[0m\u001b[1;33m)\u001b[0m\u001b[1;33m\u001b[0m\u001b[1;33m\u001b[0m\u001b[0m\n\u001b[0m\u001b[0;32m      2\u001b[0m \u001b[0mplt\u001b[0m\u001b[1;33m.\u001b[0m\u001b[0mplot\u001b[0m\u001b[1;33m(\u001b[0m\u001b[0mhist\u001b[0m\u001b[1;33m.\u001b[0m\u001b[0mhistory\u001b[0m\u001b[1;33m[\u001b[0m\u001b[1;34m'val_acc'\u001b[0m\u001b[1;33m]\u001b[0m\u001b[1;33m)\u001b[0m\u001b[1;33m\u001b[0m\u001b[1;33m\u001b[0m\u001b[0m\n\u001b[0;32m      3\u001b[0m \u001b[0mplt\u001b[0m\u001b[1;33m.\u001b[0m\u001b[0mtitle\u001b[0m\u001b[1;33m(\u001b[0m\u001b[1;34m'Model accuracy'\u001b[0m\u001b[1;33m)\u001b[0m\u001b[1;33m\u001b[0m\u001b[1;33m\u001b[0m\u001b[0m\n\u001b[0;32m      4\u001b[0m \u001b[0mplt\u001b[0m\u001b[1;33m.\u001b[0m\u001b[0mylabel\u001b[0m\u001b[1;33m(\u001b[0m\u001b[1;34m'Accuracy'\u001b[0m\u001b[1;33m)\u001b[0m\u001b[1;33m\u001b[0m\u001b[1;33m\u001b[0m\u001b[0m\n\u001b[0;32m      5\u001b[0m \u001b[0mplt\u001b[0m\u001b[1;33m.\u001b[0m\u001b[0mxlabel\u001b[0m\u001b[1;33m(\u001b[0m\u001b[1;34m'Epoch'\u001b[0m\u001b[1;33m)\u001b[0m\u001b[1;33m\u001b[0m\u001b[1;33m\u001b[0m\u001b[0m\n",
      "\u001b[1;31mKeyError\u001b[0m: 'acc'"
     ]
    }
   ],
   "source": [
    "'''plt.plot(hist.history['acc'])\n",
    "plt.plot(hist.history['val_acc'])\n",
    "plt.title('Model accuracy')\n",
    "plt.ylabel('Accuracy')\n",
    "plt.xlabel('Epoch')\n",
    "plt.legend(['Train', 'Val'], loc='lower right')\n",
    "plt.show()'''"
   ]
  },
  {
   "cell_type": "markdown",
   "metadata": {},
   "source": [
    "# Adding Regularization to our Neural Network"
   ]
  },
  {
   "cell_type": "markdown",
   "metadata": {},
   "source": [
    "We'll train a model which will overfit, which we call Model 2. This might take a few minutes."
   ]
  },
  {
   "cell_type": "code",
   "execution_count": 22,
   "metadata": {},
   "outputs": [
    {
     "name": "stdout",
     "output_type": "stream",
     "text": [
      "Epoch 1/100\n",
      "32/32 [==============================] - 1s 23ms/step - loss: 0.4904 - accuracy: 0.7632 - val_loss: 0.4103 - val_accuracy: 0.8447\n",
      "Epoch 2/100\n",
      "32/32 [==============================] - 1s 20ms/step - loss: 0.3237 - accuracy: 0.8591 - val_loss: 0.3662 - val_accuracy: 0.8721\n",
      "Epoch 3/100\n",
      "32/32 [==============================] - 1s 19ms/step - loss: 0.3145 - accuracy: 0.8718 - val_loss: 0.3273 - val_accuracy: 0.8813\n",
      "Epoch 4/100\n",
      "32/32 [==============================] - 1s 20ms/step - loss: 0.3036 - accuracy: 0.8748 - val_loss: 0.3128 - val_accuracy: 0.8858\n",
      "Epoch 5/100\n",
      "32/32 [==============================] - 1s 19ms/step - loss: 0.3019 - accuracy: 0.8806 - val_loss: 0.2967 - val_accuracy: 0.8858\n",
      "Epoch 6/100\n",
      "32/32 [==============================] - 1s 19ms/step - loss: 0.2865 - accuracy: 0.8855 - val_loss: 0.2771 - val_accuracy: 0.8813\n",
      "Epoch 7/100\n",
      "32/32 [==============================] - 1s 21ms/step - loss: 0.2689 - accuracy: 0.8924 - val_loss: 0.2667 - val_accuracy: 0.8767\n",
      "Epoch 8/100\n",
      "32/32 [==============================] - 1s 19ms/step - loss: 0.2399 - accuracy: 0.8992 - val_loss: 0.2508 - val_accuracy: 0.8813\n",
      "Epoch 9/100\n",
      "32/32 [==============================] - 1s 20ms/step - loss: 0.2624 - accuracy: 0.8914 - val_loss: 0.2928 - val_accuracy: 0.9041\n",
      "Epoch 10/100\n",
      "32/32 [==============================] - 1s 20ms/step - loss: 0.2479 - accuracy: 0.8982 - val_loss: 0.2704 - val_accuracy: 0.8950\n",
      "Epoch 11/100\n",
      "32/32 [==============================] - 1s 20ms/step - loss: 0.2349 - accuracy: 0.9041 - val_loss: 0.2419 - val_accuracy: 0.9132\n",
      "Epoch 12/100\n",
      "32/32 [==============================] - 1s 19ms/step - loss: 0.2269 - accuracy: 0.9100 - val_loss: 0.2537 - val_accuracy: 0.8950\n",
      "Epoch 13/100\n",
      "32/32 [==============================] - 1s 19ms/step - loss: 0.2294 - accuracy: 0.9110 - val_loss: 0.2495 - val_accuracy: 0.8950\n",
      "Epoch 14/100\n",
      "32/32 [==============================] - 1s 19ms/step - loss: 0.2291 - accuracy: 0.9070 - val_loss: 0.2924 - val_accuracy: 0.8995\n",
      "Epoch 15/100\n",
      "32/32 [==============================] - 1s 20ms/step - loss: 0.2071 - accuracy: 0.9129 - val_loss: 0.2530 - val_accuracy: 0.8904\n",
      "Epoch 16/100\n",
      "32/32 [==============================] - 1s 19ms/step - loss: 0.2065 - accuracy: 0.9237 - val_loss: 0.2515 - val_accuracy: 0.9087\n",
      "Epoch 17/100\n",
      "32/32 [==============================] - 1s 20ms/step - loss: 0.2178 - accuracy: 0.8992 - val_loss: 0.2714 - val_accuracy: 0.9041\n",
      "Epoch 18/100\n",
      "32/32 [==============================] - 1s 21ms/step - loss: 0.2174 - accuracy: 0.9061 - val_loss: 0.2683 - val_accuracy: 0.8995\n",
      "Epoch 19/100\n",
      "32/32 [==============================] - 1s 22ms/step - loss: 0.2134 - accuracy: 0.9188 - val_loss: 0.2856 - val_accuracy: 0.8904\n",
      "Epoch 20/100\n",
      "32/32 [==============================] - 1s 24ms/step - loss: 0.2125 - accuracy: 0.9149 - val_loss: 0.2564 - val_accuracy: 0.8995\n",
      "Epoch 21/100\n",
      "32/32 [==============================] - 1s 23ms/step - loss: 0.1961 - accuracy: 0.9070 - val_loss: 0.2738 - val_accuracy: 0.8950\n",
      "Epoch 22/100\n",
      "32/32 [==============================] - 1s 21ms/step - loss: 0.2105 - accuracy: 0.9149 - val_loss: 0.2412 - val_accuracy: 0.8950\n",
      "Epoch 23/100\n",
      "32/32 [==============================] - 1s 21ms/step - loss: 0.1890 - accuracy: 0.9198 - val_loss: 0.2712 - val_accuracy: 0.8904\n",
      "Epoch 24/100\n",
      "32/32 [==============================] - 1s 20ms/step - loss: 0.1881 - accuracy: 0.9188 - val_loss: 0.2814 - val_accuracy: 0.9041\n",
      "Epoch 25/100\n",
      "32/32 [==============================] - 1s 19ms/step - loss: 0.1897 - accuracy: 0.9227 - val_loss: 0.3979 - val_accuracy: 0.8995\n",
      "Epoch 26/100\n",
      "32/32 [==============================] - 1s 20ms/step - loss: 0.2113 - accuracy: 0.9070 - val_loss: 0.3097 - val_accuracy: 0.8995\n",
      "Epoch 27/100\n",
      "32/32 [==============================] - 1s 21ms/step - loss: 0.2019 - accuracy: 0.9090 - val_loss: 0.3044 - val_accuracy: 0.8950\n",
      "Epoch 28/100\n",
      "32/32 [==============================] - 1s 21ms/step - loss: 0.1819 - accuracy: 0.9227 - val_loss: 0.3244 - val_accuracy: 0.9087\n",
      "Epoch 29/100\n",
      "32/32 [==============================] - 1s 20ms/step - loss: 0.1994 - accuracy: 0.9178 - val_loss: 0.2938 - val_accuracy: 0.8676\n",
      "Epoch 30/100\n",
      "32/32 [==============================] - 1s 20ms/step - loss: 0.2043 - accuracy: 0.9178 - val_loss: 0.3304 - val_accuracy: 0.8539\n",
      "Epoch 31/100\n",
      "32/32 [==============================] - 1s 19ms/step - loss: 0.1800 - accuracy: 0.9286 - val_loss: 0.2956 - val_accuracy: 0.8813\n",
      "Epoch 32/100\n",
      "32/32 [==============================] - 1s 18ms/step - loss: 0.1841 - accuracy: 0.9325 - val_loss: 0.3288 - val_accuracy: 0.8858\n",
      "Epoch 33/100\n",
      "32/32 [==============================] - 1s 18ms/step - loss: 0.2065 - accuracy: 0.9188 - val_loss: 0.3032 - val_accuracy: 0.8858\n",
      "Epoch 34/100\n",
      "32/32 [==============================] - 1s 19ms/step - loss: 0.1653 - accuracy: 0.9335 - val_loss: 0.3042 - val_accuracy: 0.8858\n",
      "Epoch 35/100\n",
      "32/32 [==============================] - 1s 21ms/step - loss: 0.1968 - accuracy: 0.9159 - val_loss: 0.2628 - val_accuracy: 0.8904\n",
      "Epoch 36/100\n",
      "32/32 [==============================] - 1s 19ms/step - loss: 0.1829 - accuracy: 0.9188 - val_loss: 0.2665 - val_accuracy: 0.8950\n",
      "Epoch 37/100\n",
      "32/32 [==============================] - 1s 19ms/step - loss: 0.1754 - accuracy: 0.9198 - val_loss: 0.2956 - val_accuracy: 0.8950\n",
      "Epoch 38/100\n",
      "32/32 [==============================] - 1s 19ms/step - loss: 0.1567 - accuracy: 0.9335 - val_loss: 0.3398 - val_accuracy: 0.8995\n",
      "Epoch 39/100\n",
      "32/32 [==============================] - 1s 23ms/step - loss: 0.1567 - accuracy: 0.9403 - val_loss: 0.3346 - val_accuracy: 0.8904\n",
      "Epoch 40/100\n",
      "32/32 [==============================] - 1s 23ms/step - loss: 0.1681 - accuracy: 0.9354 - val_loss: 0.4216 - val_accuracy: 0.8904\n",
      "Epoch 41/100\n",
      "32/32 [==============================] - 1s 20ms/step - loss: 0.1801 - accuracy: 0.9256 - val_loss: 0.2864 - val_accuracy: 0.8721\n",
      "Epoch 42/100\n",
      "32/32 [==============================] - 1s 19ms/step - loss: 0.1772 - accuracy: 0.9237 - val_loss: 0.3331 - val_accuracy: 0.8813\n",
      "Epoch 43/100\n",
      "32/32 [==============================] - 1s 19ms/step - loss: 0.1724 - accuracy: 0.9237 - val_loss: 0.3459 - val_accuracy: 0.9087\n",
      "Epoch 44/100\n",
      "32/32 [==============================] - 1s 18ms/step - loss: 0.1644 - accuracy: 0.9305 - val_loss: 0.2954 - val_accuracy: 0.8995\n",
      "Epoch 45/100\n",
      "32/32 [==============================] - 1s 19ms/step - loss: 0.1588 - accuracy: 0.9247 - val_loss: 0.3573 - val_accuracy: 0.8767\n",
      "Epoch 46/100\n",
      "32/32 [==============================] - 1s 19ms/step - loss: 0.1554 - accuracy: 0.9364 - val_loss: 0.3025 - val_accuracy: 0.8950\n",
      "Epoch 47/100\n",
      "32/32 [==============================] - 1s 21ms/step - loss: 0.1473 - accuracy: 0.9354 - val_loss: 0.3611 - val_accuracy: 0.8858\n",
      "Epoch 48/100\n",
      "32/32 [==============================] - 1s 20ms/step - loss: 0.1621 - accuracy: 0.9305 - val_loss: 0.2699 - val_accuracy: 0.8995\n",
      "Epoch 49/100\n",
      "32/32 [==============================] - 1s 20ms/step - loss: 0.1543 - accuracy: 0.9354 - val_loss: 0.3676 - val_accuracy: 0.8995\n",
      "Epoch 50/100\n",
      "32/32 [==============================] - 1s 22ms/step - loss: 0.1365 - accuracy: 0.9452 - val_loss: 0.3496 - val_accuracy: 0.8904\n",
      "Epoch 51/100\n",
      "32/32 [==============================] - 1s 23ms/step - loss: 0.1437 - accuracy: 0.9413 - val_loss: 0.3807 - val_accuracy: 0.8630\n",
      "Epoch 52/100\n",
      "32/32 [==============================] - 1s 22ms/step - loss: 0.1739 - accuracy: 0.9256 - val_loss: 0.3501 - val_accuracy: 0.8858\n",
      "Epoch 53/100\n",
      "32/32 [==============================] - 1s 25ms/step - loss: 0.1696 - accuracy: 0.9325 - val_loss: 0.4655 - val_accuracy: 0.8767\n",
      "Epoch 54/100\n",
      "32/32 [==============================] - 1s 27ms/step - loss: 0.1587 - accuracy: 0.9315 - val_loss: 0.4189 - val_accuracy: 0.8767\n",
      "Epoch 55/100\n",
      "32/32 [==============================] - 1s 28ms/step - loss: 0.1395 - accuracy: 0.9384 - val_loss: 0.4027 - val_accuracy: 0.8721\n",
      "Epoch 56/100\n",
      "32/32 [==============================] - 1s 26ms/step - loss: 0.1314 - accuracy: 0.9491 - val_loss: 0.4449 - val_accuracy: 0.8630\n",
      "Epoch 57/100\n",
      "32/32 [==============================] - 1s 23ms/step - loss: 0.1324 - accuracy: 0.9452 - val_loss: 0.3693 - val_accuracy: 0.8995\n",
      "Epoch 58/100\n",
      "32/32 [==============================] - 1s 22ms/step - loss: 0.1445 - accuracy: 0.9364 - val_loss: 0.3486 - val_accuracy: 0.8813\n",
      "Epoch 59/100\n",
      "32/32 [==============================] - 1s 21ms/step - loss: 0.1497 - accuracy: 0.9413 - val_loss: 0.3796 - val_accuracy: 0.8813\n",
      "Epoch 60/100\n",
      "32/32 [==============================] - 1s 21ms/step - loss: 0.1475 - accuracy: 0.9384 - val_loss: 0.4513 - val_accuracy: 0.8813\n",
      "Epoch 61/100\n",
      "32/32 [==============================] - 1s 21ms/step - loss: 0.1935 - accuracy: 0.9227 - val_loss: 0.4074 - val_accuracy: 0.8584\n",
      "Epoch 62/100\n",
      "32/32 [==============================] - 1s 23ms/step - loss: 0.1615 - accuracy: 0.9295 - val_loss: 0.4459 - val_accuracy: 0.8858\n",
      "Epoch 63/100\n",
      "32/32 [==============================] - 1s 21ms/step - loss: 0.1317 - accuracy: 0.9462 - val_loss: 0.2651 - val_accuracy: 0.8904\n",
      "Epoch 64/100\n",
      "32/32 [==============================] - 1s 22ms/step - loss: 0.1431 - accuracy: 0.9442 - val_loss: 0.3289 - val_accuracy: 0.9087\n",
      "Epoch 65/100\n",
      "32/32 [==============================] - 1s 21ms/step - loss: 0.1365 - accuracy: 0.9403 - val_loss: 0.3726 - val_accuracy: 0.8584\n",
      "Epoch 66/100\n",
      "32/32 [==============================] - 1s 21ms/step - loss: 0.1370 - accuracy: 0.9452 - val_loss: 0.3998 - val_accuracy: 0.8858\n",
      "Epoch 67/100\n",
      "32/32 [==============================] - 1s 22ms/step - loss: 0.1370 - accuracy: 0.9432 - val_loss: 0.3766 - val_accuracy: 0.8950\n",
      "Epoch 68/100\n",
      "32/32 [==============================] - 1s 22ms/step - loss: 0.1188 - accuracy: 0.9560 - val_loss: 0.3646 - val_accuracy: 0.8721\n",
      "Epoch 69/100\n",
      "32/32 [==============================] - 1s 22ms/step - loss: 0.1202 - accuracy: 0.9442 - val_loss: 0.4732 - val_accuracy: 0.8630\n",
      "Epoch 70/100\n",
      "32/32 [==============================] - 1s 23ms/step - loss: 0.1374 - accuracy: 0.9374 - val_loss: 0.4364 - val_accuracy: 0.8493\n",
      "Epoch 71/100\n",
      "32/32 [==============================] - 1s 22ms/step - loss: 0.1443 - accuracy: 0.9403 - val_loss: 0.4709 - val_accuracy: 0.9087\n",
      "Epoch 72/100\n",
      "32/32 [==============================] - 1s 21ms/step - loss: 0.1386 - accuracy: 0.9364 - val_loss: 0.5012 - val_accuracy: 0.9041\n",
      "Epoch 73/100\n",
      "32/32 [==============================] - 1s 21ms/step - loss: 0.1397 - accuracy: 0.9491 - val_loss: 0.3534 - val_accuracy: 0.8630\n",
      "Epoch 74/100\n",
      "32/32 [==============================] - 1s 21ms/step - loss: 0.1185 - accuracy: 0.9491 - val_loss: 0.4996 - val_accuracy: 0.8950\n",
      "Epoch 75/100\n",
      "32/32 [==============================] - 1s 21ms/step - loss: 0.1104 - accuracy: 0.9540 - val_loss: 0.5595 - val_accuracy: 0.9041\n",
      "Epoch 76/100\n",
      "32/32 [==============================] - 1s 21ms/step - loss: 0.1398 - accuracy: 0.9413 - val_loss: 0.5535 - val_accuracy: 0.8721\n",
      "Epoch 77/100\n",
      "32/32 [==============================] - 1s 21ms/step - loss: 0.1120 - accuracy: 0.9511 - val_loss: 0.6125 - val_accuracy: 0.8904\n",
      "Epoch 78/100\n",
      "32/32 [==============================] - 1s 21ms/step - loss: 0.1303 - accuracy: 0.9511 - val_loss: 0.5030 - val_accuracy: 0.8721\n",
      "Epoch 79/100\n",
      "32/32 [==============================] - 1s 21ms/step - loss: 0.1172 - accuracy: 0.9521 - val_loss: 0.4451 - val_accuracy: 0.8950\n",
      "Epoch 80/100\n",
      "32/32 [==============================] - 1s 21ms/step - loss: 0.0954 - accuracy: 0.9589 - val_loss: 0.5848 - val_accuracy: 0.8447\n",
      "Epoch 81/100\n",
      "32/32 [==============================] - 1s 21ms/step - loss: 0.0943 - accuracy: 0.9628 - val_loss: 0.6670 - val_accuracy: 0.8904\n",
      "Epoch 82/100\n",
      "32/32 [==============================] - 1s 21ms/step - loss: 0.0908 - accuracy: 0.9618 - val_loss: 0.7260 - val_accuracy: 0.8904\n",
      "Epoch 83/100\n",
      "32/32 [==============================] - 1s 22ms/step - loss: 0.1372 - accuracy: 0.9442 - val_loss: 0.4517 - val_accuracy: 0.8630\n",
      "Epoch 84/100\n",
      "32/32 [==============================] - 1s 23ms/step - loss: 0.1141 - accuracy: 0.9501 - val_loss: 0.7710 - val_accuracy: 0.8037\n",
      "Epoch 85/100\n",
      "32/32 [==============================] - 1s 22ms/step - loss: 0.1208 - accuracy: 0.9472 - val_loss: 0.5132 - val_accuracy: 0.8858\n",
      "Epoch 86/100\n",
      "32/32 [==============================] - 1s 25ms/step - loss: 0.1017 - accuracy: 0.9609 - val_loss: 0.5519 - val_accuracy: 0.8813\n",
      "Epoch 87/100\n",
      "32/32 [==============================] - 1s 21ms/step - loss: 0.1122 - accuracy: 0.9511 - val_loss: 0.6545 - val_accuracy: 0.8721\n",
      "Epoch 88/100\n",
      "32/32 [==============================] - 1s 20ms/step - loss: 0.1515 - accuracy: 0.9374 - val_loss: 0.5470 - val_accuracy: 0.8904\n",
      "Epoch 89/100\n",
      "32/32 [==============================] - 1s 20ms/step - loss: 0.1099 - accuracy: 0.9560 - val_loss: 0.6765 - val_accuracy: 0.9041\n",
      "Epoch 90/100\n",
      "32/32 [==============================] - 1s 22ms/step - loss: 0.1183 - accuracy: 0.9560 - val_loss: 0.6563 - val_accuracy: 0.8904\n",
      "Epoch 91/100\n",
      "32/32 [==============================] - 1s 22ms/step - loss: 0.1016 - accuracy: 0.9599 - val_loss: 0.7275 - val_accuracy: 0.8630\n",
      "Epoch 92/100\n",
      "32/32 [==============================] - 1s 19ms/step - loss: 0.1050 - accuracy: 0.9579 - val_loss: 0.7161 - val_accuracy: 0.8950\n",
      "Epoch 93/100\n",
      "32/32 [==============================] - 1s 21ms/step - loss: 0.1254 - accuracy: 0.9511 - val_loss: 0.6061 - val_accuracy: 0.8858\n",
      "Epoch 94/100\n",
      "32/32 [==============================] - 1s 23ms/step - loss: 0.1010 - accuracy: 0.9628 - val_loss: 0.5377 - val_accuracy: 0.8676\n",
      "Epoch 95/100\n",
      "32/32 [==============================] - 1s 21ms/step - loss: 0.1230 - accuracy: 0.9569 - val_loss: 0.5295 - val_accuracy: 0.8950\n",
      "Epoch 96/100\n",
      "32/32 [==============================] - 1s 21ms/step - loss: 0.0894 - accuracy: 0.9648 - val_loss: 0.6808 - val_accuracy: 0.8995\n",
      "Epoch 97/100\n",
      "32/32 [==============================] - 1s 21ms/step - loss: 0.0861 - accuracy: 0.9687 - val_loss: 0.6234 - val_accuracy: 0.8767\n",
      "Epoch 98/100\n",
      "32/32 [==============================] - 1s 21ms/step - loss: 0.0791 - accuracy: 0.9746 - val_loss: 0.6478 - val_accuracy: 0.8950\n",
      "Epoch 99/100\n",
      "32/32 [==============================] - 1s 22ms/step - loss: 0.0739 - accuracy: 0.9687 - val_loss: 0.7520 - val_accuracy: 0.8904\n",
      "Epoch 100/100\n",
      "32/32 [==============================] - 1s 24ms/step - loss: 0.0885 - accuracy: 0.9658 - val_loss: 0.7699 - val_accuracy: 0.8858\n"
     ]
    }
   ],
   "source": [
    "model_2 = Sequential([\n",
    "    Dense(1000, activation='relu', input_shape=(10,)),\n",
    "    Dense(1000, activation='relu'),\n",
    "    Dense(1000, activation='relu'),\n",
    "    Dense(1000, activation='relu'),\n",
    "    Dense(1, activation='sigmoid'),\n",
    "])\n",
    "model_2.compile(optimizer='adam',\n",
    "              loss='binary_crossentropy',\n",
    "              metrics=['accuracy'])\n",
    "hist_2 = model_2.fit(X_train, Y_train,\n",
    "          batch_size=32, epochs=100,\n",
    "          validation_data=(X_val, Y_val))"
   ]
  },
  {
   "cell_type": "markdown",
   "metadata": {},
   "source": [
    "Let's do the same visualization to see what overfitting looks like in terms of the loss and accuracy."
   ]
  },
  {
   "cell_type": "code",
   "execution_count": 23,
   "metadata": {},
   "outputs": [
    {
     "data": {
      "image/png": "[encoded data removed]",
      "text/plain": [
       "<Figure size 432x288 with 1 Axes>"
      ]
     },
     "metadata": {
      "needs_background": "light"
     },
     "output_type": "display_data"
    }
   ],
   "source": [
    "plt.plot(hist_2.history['loss'])\n",
    "plt.plot(hist_2.history['val_loss'])\n",
    "plt.title('Model loss')\n",
    "plt.ylabel('Loss')\n",
    "plt.xlabel('Epoch')\n",
    "plt.legend(['Train', 'Val'], loc='upper right')\n",
    "plt.show()"
   ]
  },
  {
   "cell_type": "code",
   "execution_count": 25,
   "metadata": {},
   "outputs": [
    {
     "data": {
      "text/plain": [
       "\"plt.plot(hist_2.history['acc'])\\nplt.plot(hist_2.history['val_acc'])\\nplt.title('Model accuracy')\\nplt.ylabel('Accuracy')\\nplt.xlabel('Epoch')\\nplt.legend(['Train', 'Val'], loc='lower right')\\nplt.show() \""
      ]
     },
     "execution_count": 25,
     "metadata": {},
     "output_type": "execute_result"
    }
   ],
   "source": [
    "'''plt.plot(hist_2.history['acc'])\n",
    "plt.plot(hist_2.history['val_acc'])\n",
    "plt.title('Model accuracy')\n",
    "plt.ylabel('Accuracy')\n",
    "plt.xlabel('Epoch')\n",
    "plt.legend(['Train', 'Val'], loc='lower right')\n",
    "plt.show() '''"
   ]
  },
  {
   "cell_type": "markdown",
   "metadata": {},
   "source": [
    "To address the overfitting we see in Model 2, we'll incorporate L2 regularization and dropout in our third model here (Model 3)."
   ]
  },
  {
   "cell_type": "code",
   "execution_count": 26,
   "metadata": {},
   "outputs": [],
   "source": [
    "from keras.layers import Dropout\n",
    "from keras import regularizers"
   ]
  },
  {
   "cell_type": "code",
   "execution_count": 27,
   "metadata": {},
   "outputs": [],
   "source": [
    "model_3 = Sequential([\n",
    "    Dense(1000, activation='relu', kernel_regularizer=regularizers.l2(0.01), input_shape=(10,)),\n",
    "    Dropout(0.3),\n",
    "    Dense(1000, activation='relu', kernel_regularizer=regularizers.l2(0.01)),\n",
    "    Dropout(0.3),\n",
    "    Dense(1000, activation='relu', kernel_regularizer=regularizers.l2(0.01)),\n",
    "    Dropout(0.3),\n",
    "    Dense(1000, activation='relu', kernel_regularizer=regularizers.l2(0.01)),\n",
    "    Dropout(0.3),\n",
    "    Dense(1, activation='sigmoid', kernel_regularizer=regularizers.l2(0.01)),\n",
    "])"
   ]
  },
  {
   "cell_type": "code",
   "execution_count": 28,
   "metadata": {},
   "outputs": [
    {
     "name": "stdout",
     "output_type": "stream",
     "text": [
      "Epoch 1/100\n",
      "32/32 [==============================] - 2s 39ms/step - loss: 14.2398 - accuracy: 0.6370 - val_loss: 3.9143 - val_accuracy: 0.8311\n",
      "Epoch 2/100\n",
      "32/32 [==============================] - 1s 35ms/step - loss: 1.6631 - accuracy: 0.8395 - val_loss: 0.6812 - val_accuracy: 0.8402\n",
      "Epoch 3/100\n",
      "32/32 [==============================] - 1s 37ms/step - loss: 0.5709 - accuracy: 0.8708 - val_loss: 0.5343 - val_accuracy: 0.8584\n",
      "Epoch 4/100\n",
      "32/32 [==============================] - 1s 34ms/step - loss: 0.5140 - accuracy: 0.8640 - val_loss: 0.5054 - val_accuracy: 0.8676\n",
      "Epoch 5/100\n",
      "32/32 [==============================] - 1s 35ms/step - loss: 0.4944 - accuracy: 0.8620 - val_loss: 0.5104 - val_accuracy: 0.8676\n",
      "Epoch 6/100\n",
      "32/32 [==============================] - 1s 35ms/step - loss: 0.4931 - accuracy: 0.8738 - val_loss: 0.4777 - val_accuracy: 0.8539\n",
      "Epoch 7/100\n",
      "32/32 [==============================] - 1s 33ms/step - loss: 0.4848 - accuracy: 0.8796 - val_loss: 0.4755 - val_accuracy: 0.8584\n",
      "Epoch 8/100\n",
      "32/32 [==============================] - 1s 34ms/step - loss: 0.4747 - accuracy: 0.8777 - val_loss: 0.4660 - val_accuracy: 0.8721\n",
      "Epoch 9/100\n",
      "32/32 [==============================] - 1s 33ms/step - loss: 0.4990 - accuracy: 0.8659 - val_loss: 0.4664 - val_accuracy: 0.8721\n",
      "Epoch 10/100\n",
      "32/32 [==============================] - 1s 33ms/step - loss: 0.4645 - accuracy: 0.8845 - val_loss: 0.5110 - val_accuracy: 0.8584\n",
      "Epoch 11/100\n",
      "32/32 [==============================] - 1s 33ms/step - loss: 0.4555 - accuracy: 0.8826 - val_loss: 0.4688 - val_accuracy: 0.8858\n",
      "Epoch 12/100\n",
      "32/32 [==============================] - 1s 34ms/step - loss: 0.4599 - accuracy: 0.8806 - val_loss: 0.4467 - val_accuracy: 0.8721\n",
      "Epoch 13/100\n",
      "32/32 [==============================] - 1s 33ms/step - loss: 0.4503 - accuracy: 0.8855 - val_loss: 0.4431 - val_accuracy: 0.8767\n",
      "Epoch 14/100\n",
      "32/32 [==============================] - 1s 35ms/step - loss: 0.4584 - accuracy: 0.8806 - val_loss: 0.4489 - val_accuracy: 0.8767\n",
      "Epoch 15/100\n",
      "32/32 [==============================] - 1s 33ms/step - loss: 0.4636 - accuracy: 0.8826 - val_loss: 0.4452 - val_accuracy: 0.8721\n",
      "Epoch 16/100\n",
      "32/32 [==============================] - 1s 33ms/step - loss: 0.4406 - accuracy: 0.8885 - val_loss: 0.4343 - val_accuracy: 0.8767\n",
      "Epoch 17/100\n",
      "32/32 [==============================] - 1s 33ms/step - loss: 0.4461 - accuracy: 0.8855 - val_loss: 0.4366 - val_accuracy: 0.8767\n",
      "Epoch 18/100\n",
      "32/32 [==============================] - 1s 34ms/step - loss: 0.4495 - accuracy: 0.8865 - val_loss: 0.4785 - val_accuracy: 0.8630\n",
      "Epoch 19/100\n",
      "32/32 [==============================] - 1s 34ms/step - loss: 0.4618 - accuracy: 0.8836 - val_loss: 0.4410 - val_accuracy: 0.8767\n",
      "Epoch 20/100\n",
      "32/32 [==============================] - 1s 35ms/step - loss: 0.4424 - accuracy: 0.8875 - val_loss: 0.4583 - val_accuracy: 0.8584\n",
      "Epoch 21/100\n",
      "32/32 [==============================] - 1s 34ms/step - loss: 0.4377 - accuracy: 0.8806 - val_loss: 0.4403 - val_accuracy: 0.8767\n",
      "Epoch 22/100\n",
      "32/32 [==============================] - 1s 33ms/step - loss: 0.4500 - accuracy: 0.8806 - val_loss: 0.4437 - val_accuracy: 0.8813\n",
      "Epoch 23/100\n",
      "32/32 [==============================] - 1s 33ms/step - loss: 0.4353 - accuracy: 0.8875 - val_loss: 0.4545 - val_accuracy: 0.8813\n",
      "Epoch 24/100\n",
      "32/32 [==============================] - 1s 33ms/step - loss: 0.4611 - accuracy: 0.8806 - val_loss: 0.4374 - val_accuracy: 0.8813\n",
      "Epoch 25/100\n",
      "32/32 [==============================] - 1s 33ms/step - loss: 0.4716 - accuracy: 0.8728 - val_loss: 0.5219 - val_accuracy: 0.8402\n",
      "Epoch 26/100\n",
      "32/32 [==============================] - 1s 33ms/step - loss: 0.4530 - accuracy: 0.8787 - val_loss: 0.4293 - val_accuracy: 0.8767\n",
      "Epoch 27/100\n",
      "32/32 [==============================] - 1s 33ms/step - loss: 0.4392 - accuracy: 0.8845 - val_loss: 0.4343 - val_accuracy: 0.8858\n",
      "Epoch 28/100\n",
      "32/32 [==============================] - 1s 33ms/step - loss: 0.4299 - accuracy: 0.8953 - val_loss: 0.4306 - val_accuracy: 0.8904\n",
      "Epoch 29/100\n",
      "32/32 [==============================] - 1s 33ms/step - loss: 0.4375 - accuracy: 0.8787 - val_loss: 0.4299 - val_accuracy: 0.8813\n",
      "Epoch 30/100\n",
      "32/32 [==============================] - 1s 33ms/step - loss: 0.4586 - accuracy: 0.8757 - val_loss: 0.4443 - val_accuracy: 0.8904\n",
      "Epoch 31/100\n",
      "32/32 [==============================] - 1s 33ms/step - loss: 0.4342 - accuracy: 0.8875 - val_loss: 0.4389 - val_accuracy: 0.8858\n",
      "Epoch 32/100\n",
      "32/32 [==============================] - 1s 33ms/step - loss: 0.4400 - accuracy: 0.8787 - val_loss: 0.4593 - val_accuracy: 0.8721\n",
      "Epoch 33/100\n",
      "32/32 [==============================] - 1s 33ms/step - loss: 0.4522 - accuracy: 0.8699 - val_loss: 0.4578 - val_accuracy: 0.8721\n",
      "Epoch 34/100\n",
      "32/32 [==============================] - 1s 33ms/step - loss: 0.4722 - accuracy: 0.8708 - val_loss: 0.4572 - val_accuracy: 0.8813\n",
      "Epoch 35/100\n",
      "32/32 [==============================] - 1s 34ms/step - loss: 0.4462 - accuracy: 0.8845 - val_loss: 0.4371 - val_accuracy: 0.8858\n",
      "Epoch 36/100\n",
      "32/32 [==============================] - 1s 33ms/step - loss: 0.4294 - accuracy: 0.8875 - val_loss: 0.4347 - val_accuracy: 0.8813\n",
      "Epoch 37/100\n",
      "32/32 [==============================] - 1s 33ms/step - loss: 0.4293 - accuracy: 0.8855 - val_loss: 0.4231 - val_accuracy: 0.8813\n",
      "Epoch 38/100\n",
      "32/32 [==============================] - 1s 32ms/step - loss: 0.4397 - accuracy: 0.8816 - val_loss: 0.4587 - val_accuracy: 0.8767\n",
      "Epoch 39/100\n",
      "32/32 [==============================] - 1s 33ms/step - loss: 0.4373 - accuracy: 0.8875 - val_loss: 0.4223 - val_accuracy: 0.8858\n",
      "Epoch 40/100\n",
      "32/32 [==============================] - 1s 33ms/step - loss: 0.4525 - accuracy: 0.8748 - val_loss: 0.4775 - val_accuracy: 0.8630\n",
      "Epoch 41/100\n",
      "32/32 [==============================] - 1s 35ms/step - loss: 0.4326 - accuracy: 0.8904 - val_loss: 0.4243 - val_accuracy: 0.8813\n",
      "Epoch 42/100\n",
      "32/32 [==============================] - 1s 33ms/step - loss: 0.4323 - accuracy: 0.8826 - val_loss: 0.4197 - val_accuracy: 0.8767\n",
      "Epoch 43/100\n",
      "32/32 [==============================] - 1s 33ms/step - loss: 0.4530 - accuracy: 0.8679 - val_loss: 0.4316 - val_accuracy: 0.8767\n",
      "Epoch 44/100\n",
      "32/32 [==============================] - 1s 33ms/step - loss: 0.4325 - accuracy: 0.8894 - val_loss: 0.4490 - val_accuracy: 0.8767\n",
      "Epoch 45/100\n",
      "32/32 [==============================] - 1s 33ms/step - loss: 0.4356 - accuracy: 0.8777 - val_loss: 0.4488 - val_accuracy: 0.8813\n",
      "Epoch 46/100\n",
      "32/32 [==============================] - 1s 33ms/step - loss: 0.4374 - accuracy: 0.8885 - val_loss: 0.4344 - val_accuracy: 0.8858\n",
      "Epoch 47/100\n",
      "32/32 [==============================] - 1s 33ms/step - loss: 0.4394 - accuracy: 0.8865 - val_loss: 0.4208 - val_accuracy: 0.8767\n",
      "Epoch 48/100\n",
      "32/32 [==============================] - 1s 32ms/step - loss: 0.4404 - accuracy: 0.8738 - val_loss: 0.4584 - val_accuracy: 0.8447\n",
      "Epoch 49/100\n",
      "32/32 [==============================] - 1s 33ms/step - loss: 0.4449 - accuracy: 0.8777 - val_loss: 0.4348 - val_accuracy: 0.8813\n",
      "Epoch 50/100\n",
      "32/32 [==============================] - 1s 33ms/step - loss: 0.4358 - accuracy: 0.8796 - val_loss: 0.4265 - val_accuracy: 0.8813\n",
      "Epoch 51/100\n",
      "32/32 [==============================] - 1s 33ms/step - loss: 0.4303 - accuracy: 0.8894 - val_loss: 0.4225 - val_accuracy: 0.8813\n",
      "Epoch 52/100\n",
      "32/32 [==============================] - 1s 33ms/step - loss: 0.4323 - accuracy: 0.8904 - val_loss: 0.4278 - val_accuracy: 0.8813\n",
      "Epoch 53/100\n",
      "32/32 [==============================] - 1s 32ms/step - loss: 0.4421 - accuracy: 0.8885 - val_loss: 0.4374 - val_accuracy: 0.8630\n",
      "Epoch 54/100\n",
      "32/32 [==============================] - 1s 33ms/step - loss: 0.4297 - accuracy: 0.8914 - val_loss: 0.4263 - val_accuracy: 0.8904\n",
      "Epoch 55/100\n",
      "32/32 [==============================] - 1s 33ms/step - loss: 0.4269 - accuracy: 0.8924 - val_loss: 0.4304 - val_accuracy: 0.8904\n",
      "Epoch 56/100\n",
      "32/32 [==============================] - 1s 32ms/step - loss: 0.4307 - accuracy: 0.8914 - val_loss: 0.4542 - val_accuracy: 0.8813\n",
      "Epoch 57/100\n",
      "32/32 [==============================] - 1s 32ms/step - loss: 0.4384 - accuracy: 0.8738 - val_loss: 0.4479 - val_accuracy: 0.8813\n",
      "Epoch 58/100\n",
      "32/32 [==============================] - 1s 32ms/step - loss: 0.4285 - accuracy: 0.8845 - val_loss: 0.4202 - val_accuracy: 0.8813\n",
      "Epoch 59/100\n",
      "32/32 [==============================] - 1s 32ms/step - loss: 0.4475 - accuracy: 0.8767 - val_loss: 0.4626 - val_accuracy: 0.8767\n",
      "Epoch 60/100\n",
      "32/32 [==============================] - 1s 33ms/step - loss: 0.4325 - accuracy: 0.8836 - val_loss: 0.4451 - val_accuracy: 0.8767\n",
      "Epoch 61/100\n",
      "32/32 [==============================] - 1s 33ms/step - loss: 0.4355 - accuracy: 0.8826 - val_loss: 0.4434 - val_accuracy: 0.8767\n",
      "Epoch 62/100\n",
      "32/32 [==============================] - 1s 32ms/step - loss: 0.4336 - accuracy: 0.8885 - val_loss: 0.4169 - val_accuracy: 0.8813\n",
      "Epoch 63/100\n",
      "32/32 [==============================] - 1s 32ms/step - loss: 0.4341 - accuracy: 0.8875 - val_loss: 0.4173 - val_accuracy: 0.8858\n",
      "Epoch 64/100\n",
      "32/32 [==============================] - 1s 32ms/step - loss: 0.4258 - accuracy: 0.8894 - val_loss: 0.4155 - val_accuracy: 0.8858\n",
      "Epoch 65/100\n",
      "32/32 [==============================] - 1s 32ms/step - loss: 0.4313 - accuracy: 0.8875 - val_loss: 0.4189 - val_accuracy: 0.8858\n",
      "Epoch 66/100\n",
      "32/32 [==============================] - 1s 32ms/step - loss: 0.4314 - accuracy: 0.8904 - val_loss: 0.4439 - val_accuracy: 0.8767\n",
      "Epoch 67/100\n",
      "32/32 [==============================] - 1s 32ms/step - loss: 0.4340 - accuracy: 0.8894 - val_loss: 0.4380 - val_accuracy: 0.8676\n",
      "Epoch 68/100\n",
      "32/32 [==============================] - 1s 33ms/step - loss: 0.4313 - accuracy: 0.8885 - val_loss: 0.4169 - val_accuracy: 0.8858\n",
      "Epoch 69/100\n",
      "32/32 [==============================] - 1s 32ms/step - loss: 0.4291 - accuracy: 0.8806 - val_loss: 0.4247 - val_accuracy: 0.8858\n",
      "Epoch 70/100\n",
      "32/32 [==============================] - 1s 34ms/step - loss: 0.4412 - accuracy: 0.8748 - val_loss: 0.4190 - val_accuracy: 0.8767\n",
      "Epoch 71/100\n",
      "32/32 [==============================] - 1s 33ms/step - loss: 0.4406 - accuracy: 0.8806 - val_loss: 0.4361 - val_accuracy: 0.8721\n",
      "Epoch 72/100\n",
      "32/32 [==============================] - 1s 34ms/step - loss: 0.4314 - accuracy: 0.8894 - val_loss: 0.4177 - val_accuracy: 0.8904\n",
      "Epoch 73/100\n",
      "32/32 [==============================] - 1s 33ms/step - loss: 0.4630 - accuracy: 0.8708 - val_loss: 0.4351 - val_accuracy: 0.8767\n",
      "Epoch 74/100\n",
      "32/32 [==============================] - 1s 33ms/step - loss: 0.4363 - accuracy: 0.8894 - val_loss: 0.4237 - val_accuracy: 0.8858\n",
      "Epoch 75/100\n",
      "32/32 [==============================] - 1s 35ms/step - loss: 0.4342 - accuracy: 0.8767 - val_loss: 0.4669 - val_accuracy: 0.8767\n",
      "Epoch 76/100\n",
      "32/32 [==============================] - 1s 33ms/step - loss: 0.4352 - accuracy: 0.8845 - val_loss: 0.4250 - val_accuracy: 0.8813\n",
      "Epoch 77/100\n",
      "32/32 [==============================] - 1s 32ms/step - loss: 0.4365 - accuracy: 0.8855 - val_loss: 0.4345 - val_accuracy: 0.8813\n",
      "Epoch 78/100\n",
      "32/32 [==============================] - 1s 34ms/step - loss: 0.4247 - accuracy: 0.8894 - val_loss: 0.4214 - val_accuracy: 0.8813\n",
      "Epoch 79/100\n",
      "32/32 [==============================] - 1s 34ms/step - loss: 0.4271 - accuracy: 0.8875 - val_loss: 0.4177 - val_accuracy: 0.8858\n",
      "Epoch 80/100\n",
      "32/32 [==============================] - 1s 41ms/step - loss: 0.4440 - accuracy: 0.8796 - val_loss: 0.4192 - val_accuracy: 0.8858\n",
      "Epoch 81/100\n",
      "32/32 [==============================] - 1s 37ms/step - loss: 0.4254 - accuracy: 0.8865 - val_loss: 0.4401 - val_accuracy: 0.8630\n",
      "Epoch 82/100\n",
      "32/32 [==============================] - 1s 39ms/step - loss: 0.4251 - accuracy: 0.8875 - val_loss: 0.4213 - val_accuracy: 0.8858\n",
      "Epoch 83/100\n",
      "32/32 [==============================] - 1s 37ms/step - loss: 0.4538 - accuracy: 0.8875 - val_loss: 0.4332 - val_accuracy: 0.8767\n",
      "Epoch 84/100\n",
      "32/32 [==============================] - 1s 39ms/step - loss: 0.4322 - accuracy: 0.8914 - val_loss: 0.4332 - val_accuracy: 0.8767\n",
      "Epoch 85/100\n",
      "32/32 [==============================] - 1s 40ms/step - loss: 0.4223 - accuracy: 0.8933 - val_loss: 0.4354 - val_accuracy: 0.8721\n",
      "Epoch 86/100\n",
      "32/32 [==============================] - 1s 39ms/step - loss: 0.4432 - accuracy: 0.8728 - val_loss: 0.4173 - val_accuracy: 0.8767\n",
      "Epoch 87/100\n",
      "32/32 [==============================] - 1s 41ms/step - loss: 0.4416 - accuracy: 0.8865 - val_loss: 0.4249 - val_accuracy: 0.8858\n",
      "Epoch 88/100\n",
      "32/32 [==============================] - 1s 38ms/step - loss: 0.4299 - accuracy: 0.8875 - val_loss: 0.4397 - val_accuracy: 0.8584\n",
      "Epoch 89/100\n",
      "32/32 [==============================] - 1s 36ms/step - loss: 0.4307 - accuracy: 0.8894 - val_loss: 0.4261 - val_accuracy: 0.8813\n",
      "Epoch 90/100\n",
      "32/32 [==============================] - 1s 39ms/step - loss: 0.4395 - accuracy: 0.8826 - val_loss: 0.4303 - val_accuracy: 0.8721\n",
      "Epoch 91/100\n",
      "32/32 [==============================] - 1s 39ms/step - loss: 0.4254 - accuracy: 0.8885 - val_loss: 0.4245 - val_accuracy: 0.8858\n",
      "Epoch 92/100\n",
      "32/32 [==============================] - 1s 37ms/step - loss: 0.4260 - accuracy: 0.8845 - val_loss: 0.4188 - val_accuracy: 0.8858\n",
      "Epoch 93/100\n",
      "32/32 [==============================] - 1s 36ms/step - loss: 0.4266 - accuracy: 0.8924 - val_loss: 0.4366 - val_accuracy: 0.8767\n",
      "Epoch 94/100\n",
      "32/32 [==============================] - 1s 36ms/step - loss: 0.4438 - accuracy: 0.8787 - val_loss: 0.4639 - val_accuracy: 0.8676\n",
      "Epoch 95/100\n",
      "32/32 [==============================] - 1s 36ms/step - loss: 0.4408 - accuracy: 0.8738 - val_loss: 0.4312 - val_accuracy: 0.8904\n",
      "Epoch 96/100\n",
      "32/32 [==============================] - 1s 35ms/step - loss: 0.4275 - accuracy: 0.8826 - val_loss: 0.4252 - val_accuracy: 0.8904\n",
      "Epoch 97/100\n",
      "32/32 [==============================] - 1s 34ms/step - loss: 0.4418 - accuracy: 0.8757 - val_loss: 0.4226 - val_accuracy: 0.8813\n",
      "Epoch 98/100\n",
      "32/32 [==============================] - 1s 35ms/step - loss: 0.4257 - accuracy: 0.8943 - val_loss: 0.4275 - val_accuracy: 0.8813\n",
      "Epoch 99/100\n",
      "32/32 [==============================] - 1s 37ms/step - loss: 0.4359 - accuracy: 0.8845 - val_loss: 0.4181 - val_accuracy: 0.8813\n",
      "Epoch 100/100\n",
      "32/32 [==============================] - 1s 38ms/step - loss: 0.4281 - accuracy: 0.8816 - val_loss: 0.4182 - val_accuracy: 0.8813\n"
     ]
    }
   ],
   "source": [
    "model_3.compile(optimizer='adam',\n",
    "              loss='binary_crossentropy',\n",
    "              metrics=['accuracy'])\n",
    "hist_3 = model_3.fit(X_train, Y_train,\n",
    "          batch_size=32, epochs=100,\n",
    "          validation_data=(X_val, Y_val))"
   ]
  },
  {
   "cell_type": "markdown",
   "metadata": {},
   "source": [
    "We'll now plot the loss and accuracy graphs for Model 3. You'll notice that the loss is a lot higher at the start, and that's because we've changed our loss function. To plot such that the window is zoomed in between 0 and 1.2 for the loss, we add an additional line of code (plt.ylim) when plotting"
   ]
  },
  {
   "cell_type": "code",
   "execution_count": 29,
   "metadata": {},
   "outputs": [
    {
     "data": {
      "image/png": "[encoded data removed]",
      "text/plain": [
       "<Figure size 432x288 with 1 Axes>"
      ]
     },
     "metadata": {
      "needs_background": "light"
     },
     "output_type": "display_data"
    }
   ],
   "source": [
    "plt.plot(hist_3.history['loss'])\n",
    "plt.plot(hist_3.history['val_loss'])\n",
    "plt.title('Model loss')\n",
    "plt.ylabel('Loss')\n",
    "plt.xlabel('Epoch')\n",
    "plt.legend(['Train', 'Val'], loc='upper right')\n",
    "plt.ylim(top=1.2, bottom=0)\n",
    "plt.show()"
   ]
  },
  {
   "cell_type": "code",
   "execution_count": 31,
   "metadata": {},
   "outputs": [
    {
     "data": {
      "text/plain": [
       "\"plt.plot(hist_3.history['acc'])\\nplt.plot(hist_3.history['val_acc'])\\nplt.title('Model accuracy')\\nplt.ylabel('Accuracy')\\nplt.xlabel('Epoch')\\nplt.legend(['Train', 'Val'], loc='lower right')\\nplt.show()\""
      ]
     },
     "execution_count": 31,
     "metadata": {},
     "output_type": "execute_result"
    }
   ],
   "source": [
    "'''plt.plot(hist_3.history['acc'])\n",
    "plt.plot(hist_3.history['val_acc'])\n",
    "plt.title('Model accuracy')\n",
    "plt.ylabel('Accuracy')\n",
    "plt.xlabel('Epoch')\n",
    "plt.legend(['Train', 'Val'], loc='lower right')\n",
    "plt.show()'''"
   ]
  },
  {
   "cell_type": "markdown",
   "metadata": {},
   "source": [
    "As compared to Model 2, you should see that there's less overfitting!"
   ]
  }
 ],
 "metadata": {
  "kernelspec": {
   "display_name": "Python 3 (ipykernel)",
   "language": "python",
   "name": "python3"
  },
  "language_info": {
   "codemirror_mode": {
    "name": "ipython",
    "version": 3
   },
   "file_extension": ".py",
   "mimetype": "text/x-python",
   "name": "python",
   "nbconvert_exporter": "python",
   "pygments_lexer": "ipython3",
   "version": "3.9.12"
  }
 },
 "nbformat": 4,
 "nbformat_minor": 2
}
