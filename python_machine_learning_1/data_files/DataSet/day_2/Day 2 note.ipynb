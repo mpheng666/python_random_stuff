{
 "cells": [
  {
   "cell_type": "code",
   "execution_count": 55,
   "id": "5b419f44",
   "metadata": {},
   "outputs": [],
   "source": [
    "def fibo(n):\n",
    "    L = [1,1]\n",
    "    for i in range(2, n):\n",
    "        L.append(L[i-1]+L[i-2])\n",
    "    return L"
   ]
  },
  {
   "cell_type": "code",
   "execution_count": 56,
   "id": "c6c15c2b",
   "metadata": {},
   "outputs": [
    {
     "name": "stdout",
     "output_type": "stream",
     "text": [
      "[1, 1, 2, 3, 5]\n"
     ]
    }
   ],
   "source": [
    "print(fibo(5))"
   ]
  },
  {
   "cell_type": "code",
   "execution_count": 57,
   "id": "b5cce3c1",
   "metadata": {},
   "outputs": [
    {
     "name": "stdout",
     "output_type": "stream",
     "text": [
      "[1, 1, 2, 3, 5, 8, 13, 21, 34, 55]\n"
     ]
    }
   ],
   "source": [
    "print(fibo(10))"
   ]
  },
  {
   "cell_type": "code",
   "execution_count": 64,
   "id": "4648412f",
   "metadata": {},
   "outputs": [],
   "source": [
    "def fibo2(n):\n",
    "    if(n == 0 or n == 1):\n",
    "        return 1\n",
    "    else:\n",
    "        return fibo2(n-1) + fibo2(n-2)"
   ]
  },
  {
   "cell_type": "code",
   "execution_count": 65,
   "id": "37829d7c",
   "metadata": {},
   "outputs": [
    {
     "data": {
      "text/plain": [
       "8"
      ]
     },
     "execution_count": 65,
     "metadata": {},
     "output_type": "execute_result"
    }
   ],
   "source": [
    "fibo2(5)"
   ]
  },
  {
   "cell_type": "code",
   "execution_count": null,
   "id": "862c1781",
   "metadata": {},
   "outputs": [],
   "source": []
  }
 ],
 "metadata": {
  "kernelspec": {
   "display_name": "Python 3 (ipykernel)",
   "language": "python",
   "name": "python3"
  },
  "language_info": {
   "codemirror_mode": {
    "name": "ipython",
    "version": 3
   },
   "file_extension": ".py",
   "mimetype": "text/x-python",
   "name": "python",
   "nbconvert_exporter": "python",
   "pygments_lexer": "ipython3",
   "version": "3.9.12"
  }
 },
 "nbformat": 4,
 "nbformat_minor": 5
}
