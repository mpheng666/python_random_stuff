{
 "cells": [
  {
   "cell_type": "markdown",
   "metadata": {},
   "source": [
    "<center>\n",
    "  <a href=\"2.4.Summary%20Statistics%20in%20Dataframe.ipynb\">Previous Page</a> | <a href=\"./\">Content Page</a> | <a href=\"2.6._viz-examples_Matplotlib__Pandas_Seaborn.ipynb\">Next Page</a></center>\n",
    "</center>"
   ]
  },
  {
   "cell_type": "markdown",
   "metadata": {},
   "source": [
    "# 2.5 Data Munging/Cleaning"
   ]
  },
  {
   "cell_type": "markdown",
   "metadata": {},
   "source": [
    "## Munging Defined \n",
    "\n",
    "1. Shape dataset so it `feeds` easily into `visualisation tools` and `machine learning models` and involve in `similar set operations` for most datasets \n",
    "* Cleaning: Strings changed to numbers, numbers/strings changed to dates, `missing values` dealt with, pruning columns \n",
    "* Transformation: `Data grouped` into meaningful subsets, `summary statistics` calculated, `further filtering` \n",
    "\n",
    "Here, we will take you through all the usual munging step using resale prices for HDBs from 2012 onwards \n",
    "\n",
    "Variables include: \n",
    "```\n",
    "month                   object\n",
    "town                    object\n",
    "flat_type               object\n",
    "floor_area_sqm         float64\n",
    "lease_commence_date      int64\n",
    "resale_price           float64\n",
    "dtype: object\n",
    "```"
   ]
  },
  {
   "cell_type": "code",
   "execution_count": 26,
   "metadata": {
    "collapsed": true
   },
   "outputs": [],
   "source": [
    "import pandas as pd \n",
    "import numpy as np"
   ]
  },
  {
   "cell_type": "markdown",
   "metadata": {},
   "source": [
    "## 2.5.1. First look at the data "
   ]
  },
  {
   "cell_type": "code",
   "execution_count": 27,
   "metadata": {
    "collapsed": true
   },
   "outputs": [],
   "source": [
    "# load data \n",
    "resale = pd.read_csv(\"hdb_munging.csv\", index_col=0)"
   ]
  },
  {
   "cell_type": "code",
   "execution_count": 28,
   "metadata": {
    "scrolled": false
   },
   "outputs": [
    {
     "data": {
      "text/html": [
       "<div>\n",
       "<style scoped>\n",
       "    .dataframe tbody tr th:only-of-type {\n",
       "        vertical-align: middle;\n",
       "    }\n",
       "\n",
       "    .dataframe tbody tr th {\n",
       "        vertical-align: top;\n",
       "    }\n",
       "\n",
       "    .dataframe thead th {\n",
       "        text-align: right;\n",
       "    }\n",
       "</style>\n",
       "<table border=\"1\" class=\"dataframe\">\n",
       "  <thead>\n",
       "    <tr style=\"text-align: right;\">\n",
       "      <th></th>\n",
       "      <th>month</th>\n",
       "      <th>town</th>\n",
       "      <th>flat_type</th>\n",
       "      <th>floor_area_sqm</th>\n",
       "      <th>lease_commence_date</th>\n",
       "      <th>resale_price</th>\n",
       "    </tr>\n",
       "  </thead>\n",
       "  <tbody>\n",
       "    <tr>\n",
       "      <th>13547</th>\n",
       "      <td>2012-09</td>\n",
       "      <td>CHOA CHU KANG</td>\n",
       "      <td>4 ROOM</td>\n",
       "      <td>104.0</td>\n",
       "      <td>1989</td>\n",
       "      <td>400000.0</td>\n",
       "    </tr>\n",
       "    <tr>\n",
       "      <th>88692</th>\n",
       "      <td>2016-11</td>\n",
       "      <td>SEMBAWANG</td>\n",
       "      <td>4 ROOM</td>\n",
       "      <td>96.0</td>\n",
       "      <td>2010</td>\n",
       "      <td>380000.0</td>\n",
       "    </tr>\n",
       "  </tbody>\n",
       "</table>\n",
       "</div>"
      ],
      "text/plain": [
       "         month           town flat_type  floor_area_sqm  lease_commence_date  \\\n",
       "13547  2012-09  CHOA CHU KANG    4 ROOM           104.0                 1989   \n",
       "88692  2016-11      SEMBAWANG    4 ROOM            96.0                 2010   \n",
       "\n",
       "       resale_price  \n",
       "13547      400000.0  \n",
       "88692      380000.0  "
      ]
     },
     "execution_count": 28,
     "metadata": {},
     "output_type": "execute_result"
    }
   ],
   "source": [
    "# take a first look of the 2 rows\n",
    "resale.sample(2)\n"
   ]
  },
  {
   "cell_type": "code",
   "execution_count": 29,
   "metadata": {
    "collapsed": true
   },
   "outputs": [],
   "source": [
    "#copy to df as a backup\n",
    "df=resale.copy()\n"
   ]
  },
  {
   "cell_type": "code",
   "execution_count": 30,
   "metadata": {},
   "outputs": [
    {
     "data": {
      "text/plain": [
       "(2000, 6)"
      ]
     },
     "execution_count": 30,
     "metadata": {},
     "output_type": "execute_result"
    }
   ],
   "source": [
    "# how many rows and columns?  \n",
    "resale.shape"
   ]
  },
  {
   "cell_type": "code",
   "execution_count": 31,
   "metadata": {
    "scrolled": true
   },
   "outputs": [
    {
     "data": {
      "text/plain": [
       "array(['ANG MO KIO', 'BEDOK', 'BISHAN', 'BUKIT BATOK', 'BUKIT MERAH',\n",
       "       'BUKIT PANJANG', 'BUKIT TIMAH', 'CENTRAL AREA', 'CHOA CHU KANG',\n",
       "       'CLEMENTI', 'GEYLANG', 'HOUGANG', 'JURONG EAST', 'JURONG WEST',\n",
       "       'KALLANG/WHAMPOA', 'MARINE PARADE', 'PASIR RIS', 'PUNGGOL',\n",
       "       'QUEENSTOWN', 'SEMBAWANG', 'SENGKANG', 'SERANGOON', 'TAMPINES',\n",
       "       'TOA PAYOH', 'WOODLANDS', 'YISHUN'], dtype=object)"
      ]
     },
     "execution_count": 31,
     "metadata": {},
     "output_type": "execute_result"
    }
   ],
   "source": [
    "# look for unique values \n",
    "resale[\"town\"].unique()"
   ]
  },
  {
   "cell_type": "markdown",
   "metadata": {},
   "source": [
    "##### How many towns? (use nunique function)"
   ]
  },
  {
   "cell_type": "code",
   "execution_count": 32,
   "metadata": {
    "scrolled": true
   },
   "outputs": [
    {
     "data": {
      "text/plain": [
       "64"
      ]
     },
     "execution_count": 32,
     "metadata": {},
     "output_type": "execute_result"
    }
   ],
   "source": [
    "resale[\"month\"].nunique()"
   ]
  },
  {
   "cell_type": "code",
   "execution_count": 33,
   "metadata": {
    "scrolled": true
   },
   "outputs": [
    {
     "data": {
      "text/plain": [
       "87705    590000.0\n",
       "86039    490000.0\n",
       "52213    290000.0\n",
       "Name: resale_price, dtype: float64"
      ]
     },
     "execution_count": 33,
     "metadata": {},
     "output_type": "execute_result"
    }
   ],
   "source": [
    "resale['resale_price'].head(3)"
   ]
  },
  {
   "cell_type": "code",
   "execution_count": 34,
   "metadata": {},
   "outputs": [
    {
     "data": {
      "text/plain": [
       "month                   object\n",
       "town                    object\n",
       "flat_type               object\n",
       "floor_area_sqm         float64\n",
       "lease_commence_date      int64\n",
       "resale_price           float64\n",
       "dtype: object"
      ]
     },
     "execution_count": 34,
     "metadata": {},
     "output_type": "execute_result"
    }
   ],
   "source": [
    "resale.dtypes\n",
    "#observe the resale_price columns"
   ]
  },
  {
   "cell_type": "code",
   "execution_count": 35,
   "metadata": {},
   "outputs": [
    {
     "data": {
      "text/plain": [
       "87705    590000.0\n",
       "86039    490000.0\n",
       "52213    290000.0\n",
       "Name: resale_price, dtype: float64"
      ]
     },
     "execution_count": 35,
     "metadata": {},
     "output_type": "execute_result"
    }
   ],
   "source": [
    "resale.resale_price.head(3)\n",
    "#observe the dtype"
   ]
  },
  {
   "cell_type": "markdown",
   "metadata": {},
   "source": [
    "The first record start with the index '87705', the second record is '86039' and the third one is '290000'"
   ]
  },
  {
   "cell_type": "markdown",
   "metadata": {},
   "source": [
    "##### Assign the first 3 rows to x, y, z"
   ]
  },
  {
   "cell_type": "code",
   "execution_count": 36,
   "metadata": {
    "collapsed": true
   },
   "outputs": [],
   "source": [
    "x, y, z=resale.resale_price.iloc[[0,1,2]]"
   ]
  },
  {
   "cell_type": "markdown",
   "metadata": {},
   "source": [
    "##### Assign index 87705,86039,52213 to the original number, but in a `string` format"
   ]
  },
  {
   "cell_type": "code",
   "execution_count": 37,
   "metadata": {
    "collapsed": true
   },
   "outputs": [],
   "source": [
    "resale.loc[[87705,86039,52213],['resale_price']]=str(x), str(y), str(z)\n",
    "#resale.iloc[0:3,5]=str(x), str(y), str(z)"
   ]
  },
  {
   "cell_type": "code",
   "execution_count": 38,
   "metadata": {},
   "outputs": [
    {
     "data": {
      "text/plain": [
       "month                   object\n",
       "town                    object\n",
       "flat_type               object\n",
       "floor_area_sqm         float64\n",
       "lease_commence_date      int64\n",
       "resale_price            object\n",
       "dtype: object"
      ]
     },
     "execution_count": 38,
     "metadata": {},
     "output_type": "execute_result"
    }
   ],
   "source": [
    "resale.dtypes\n",
    "#observe the resale_price columns"
   ]
  },
  {
   "cell_type": "markdown",
   "metadata": {},
   "source": [
    "##### The first 3 rows are string and  others are number"
   ]
  },
  {
   "cell_type": "code",
   "execution_count": 39,
   "metadata": {},
   "outputs": [
    {
     "data": {
      "text/plain": [
       "87705    590000.0\n",
       "86039    490000.0\n",
       "52213    290000.0\n",
       "46561      425000\n",
       "69890      760000\n",
       "Name: resale_price, dtype: object"
      ]
     },
     "execution_count": 39,
     "metadata": {},
     "output_type": "execute_result"
    }
   ],
   "source": [
    "resale['resale_price'].head()"
   ]
  },
  {
   "cell_type": "markdown",
   "metadata": {},
   "source": [
    "##### Convert anything to number.  If not number, assign NaN"
   ]
  },
  {
   "cell_type": "code",
   "execution_count": 40,
   "metadata": {
    "collapsed": true
   },
   "outputs": [],
   "source": [
    "pd.to_numeric?"
   ]
  },
  {
   "cell_type": "code",
   "execution_count": 16,
   "metadata": {},
   "outputs": [
    {
     "data": {
      "text/plain": [
       "87705    590000.0\n",
       "86039    490000.0\n",
       "52213    290000.0\n",
       "46561    425000.0\n",
       "69890    760000.0\n",
       "Name: resale_price, dtype: float64"
      ]
     },
     "execution_count": 16,
     "metadata": {},
     "output_type": "execute_result"
    }
   ],
   "source": [
    "resale[\"resale_price\"] = resale[\"resale_price\"].apply(pd.to_numeric, errors = \"coerce\")\n",
    "resale['resale_price'].head()"
   ]
  },
  {
   "cell_type": "code",
   "execution_count": 41,
   "metadata": {
    "scrolled": false
   },
   "outputs": [
    {
     "data": {
      "text/plain": [
       "87705    590000.0\n",
       "86039    490000.0\n",
       "52213    290000.0\n",
       "46561    425000.0\n",
       "69890    760000.0\n",
       "Name: resale_price, dtype: float64"
      ]
     },
     "execution_count": 41,
     "metadata": {},
     "output_type": "execute_result"
    }
   ],
   "source": [
    "# look at data type\n",
    "\n",
    "resale[[\"resale_price\"]] = resale[[\"resale_price\"]].apply(pd.to_numeric, errors = \"coerce\")\n",
    "resale[\"resale_price\"].head()"
   ]
  },
  {
   "cell_type": "code",
   "execution_count": 42,
   "metadata": {},
   "outputs": [
    {
     "data": {
      "text/plain": [
       "month                   object\n",
       "town                    object\n",
       "flat_type               object\n",
       "floor_area_sqm         float64\n",
       "lease_commence_date      int64\n",
       "resale_price           float64\n",
       "dtype: object"
      ]
     },
     "execution_count": 42,
     "metadata": {},
     "output_type": "execute_result"
    }
   ],
   "source": [
    "resale.dtypes #back to float (resale_price)"
   ]
  },
  {
   "cell_type": "markdown",
   "metadata": {},
   "source": [
    "## Exercise 2.5.1"
   ]
  },
  {
   "cell_type": "markdown",
   "metadata": {},
   "source": [
    "###### a) Load cars.csv data into dataframe named cars:"
   ]
  },
  {
   "cell_type": "code",
   "execution_count": 18,
   "metadata": {
    "collapsed": true
   },
   "outputs": [],
   "source": [
    "# load cars.csv data into dataframe named cars\n",
    "cars = pd.____(\"______\",index_col=None)"
   ]
  },
  {
   "cell_type": "code",
   "execution_count": 19,
   "metadata": {
    "collapsed": true
   },
   "outputs": [],
   "source": [
    "x, y, z=cars.MPG.iloc[[0,1,2]]\n",
    "cars.loc[[0,1,2],['MPG']]=str(x), str(y), str(z)"
   ]
  },
  {
   "cell_type": "markdown",
   "metadata": {},
   "source": [
    "###### b) Observe the three rows from the dataframe using head:"
   ]
  },
  {
   "cell_type": "code",
   "execution_count": 20,
   "metadata": {},
   "outputs": [
    {
     "data": {
      "text/html": [
       "<div>\n",
       "<style scoped>\n",
       "    .dataframe tbody tr th:only-of-type {\n",
       "        vertical-align: middle;\n",
       "    }\n",
       "\n",
       "    .dataframe tbody tr th {\n",
       "        vertical-align: top;\n",
       "    }\n",
       "\n",
       "    .dataframe thead th {\n",
       "        text-align: right;\n",
       "    }\n",
       "</style>\n",
       "<table border=\"1\" class=\"dataframe\">\n",
       "  <thead>\n",
       "    <tr style=\"text-align: right;\">\n",
       "      <th></th>\n",
       "      <th>Car</th>\n",
       "      <th>MPG</th>\n",
       "      <th>Cylinders</th>\n",
       "      <th>Displacement</th>\n",
       "      <th>Horsepower</th>\n",
       "      <th>Weight</th>\n",
       "      <th>Acceleration</th>\n",
       "      <th>Model</th>\n",
       "      <th>Origin</th>\n",
       "      <th>Color</th>\n",
       "    </tr>\n",
       "  </thead>\n",
       "  <tbody>\n",
       "    <tr>\n",
       "      <th>0</th>\n",
       "      <td>Chevrolet Chevelle Malibu</td>\n",
       "      <td>18.0</td>\n",
       "      <td>8</td>\n",
       "      <td>307.0</td>\n",
       "      <td>130</td>\n",
       "      <td>3504</td>\n",
       "      <td>12.0</td>\n",
       "      <td>70</td>\n",
       "      <td>US</td>\n",
       "      <td>blue</td>\n",
       "    </tr>\n",
       "    <tr>\n",
       "      <th>1</th>\n",
       "      <td>Buick Skylark 320</td>\n",
       "      <td>15.0</td>\n",
       "      <td>8</td>\n",
       "      <td>350.0</td>\n",
       "      <td>165</td>\n",
       "      <td>3693</td>\n",
       "      <td>11.5</td>\n",
       "      <td>70</td>\n",
       "      <td>US</td>\n",
       "      <td>red</td>\n",
       "    </tr>\n",
       "    <tr>\n",
       "      <th>2</th>\n",
       "      <td>Plymouth Satellite</td>\n",
       "      <td>18.0</td>\n",
       "      <td>8</td>\n",
       "      <td>318.0</td>\n",
       "      <td>150</td>\n",
       "      <td>3436</td>\n",
       "      <td>11.0</td>\n",
       "      <td>70</td>\n",
       "      <td>US</td>\n",
       "      <td>blue</td>\n",
       "    </tr>\n",
       "  </tbody>\n",
       "</table>\n",
       "</div>"
      ],
      "text/plain": [
       "                         Car   MPG  Cylinders  Displacement  Horsepower  \\\n",
       "0  Chevrolet Chevelle Malibu  18.0          8         307.0         130   \n",
       "1          Buick Skylark 320  15.0          8         350.0         165   \n",
       "2         Plymouth Satellite  18.0          8         318.0         150   \n",
       "\n",
       "   Weight  Acceleration  Model Origin Color  \n",
       "0    3504          12.0     70     US  blue  \n",
       "1    3693          11.5     70     US   red  \n",
       "2    3436          11.0     70     US  blue  "
      ]
     },
     "execution_count": 20,
     "metadata": {},
     "output_type": "execute_result"
    }
   ],
   "source": [
    "cars.____(_)"
   ]
  },
  {
   "cell_type": "markdown",
   "metadata": {},
   "source": [
    "###### c) Check how many rows and columns using shape"
   ]
  },
  {
   "cell_type": "code",
   "execution_count": 21,
   "metadata": {
    "scrolled": true
   },
   "outputs": [
    {
     "data": {
      "text/plain": [
       "(406, 10)"
      ]
     },
     "execution_count": 21,
     "metadata": {},
     "output_type": "execute_result"
    }
   ],
   "source": [
    "cars.______"
   ]
  },
  {
   "cell_type": "markdown",
   "metadata": {},
   "source": [
    "###### d) Get 10 samples from the dataframe"
   ]
  },
  {
   "cell_type": "code",
   "execution_count": 22,
   "metadata": {
    "scrolled": true
   },
   "outputs": [
    {
     "data": {
      "text/html": [
       "<div>\n",
       "<style scoped>\n",
       "    .dataframe tbody tr th:only-of-type {\n",
       "        vertical-align: middle;\n",
       "    }\n",
       "\n",
       "    .dataframe tbody tr th {\n",
       "        vertical-align: top;\n",
       "    }\n",
       "\n",
       "    .dataframe thead th {\n",
       "        text-align: right;\n",
       "    }\n",
       "</style>\n",
       "<table border=\"1\" class=\"dataframe\">\n",
       "  <thead>\n",
       "    <tr style=\"text-align: right;\">\n",
       "      <th></th>\n",
       "      <th>Car</th>\n",
       "      <th>MPG</th>\n",
       "      <th>Cylinders</th>\n",
       "      <th>Displacement</th>\n",
       "      <th>Horsepower</th>\n",
       "      <th>Weight</th>\n",
       "      <th>Acceleration</th>\n",
       "      <th>Model</th>\n",
       "      <th>Origin</th>\n",
       "      <th>Color</th>\n",
       "    </tr>\n",
       "  </thead>\n",
       "  <tbody>\n",
       "    <tr>\n",
       "      <th>217</th>\n",
       "      <td>Toyota Mark II</td>\n",
       "      <td>19</td>\n",
       "      <td>6</td>\n",
       "      <td>156.0</td>\n",
       "      <td>108</td>\n",
       "      <td>2930</td>\n",
       "      <td>15.5</td>\n",
       "      <td>76</td>\n",
       "      <td>Japan</td>\n",
       "      <td>green</td>\n",
       "    </tr>\n",
       "    <tr>\n",
       "      <th>2</th>\n",
       "      <td>Plymouth Satellite</td>\n",
       "      <td>18.0</td>\n",
       "      <td>8</td>\n",
       "      <td>318.0</td>\n",
       "      <td>150</td>\n",
       "      <td>3436</td>\n",
       "      <td>11.0</td>\n",
       "      <td>70</td>\n",
       "      <td>US</td>\n",
       "      <td>blue</td>\n",
       "    </tr>\n",
       "    <tr>\n",
       "      <th>256</th>\n",
       "      <td>Oldsmobile Cutlass Salon Brougham</td>\n",
       "      <td>19.9</td>\n",
       "      <td>8</td>\n",
       "      <td>260.0</td>\n",
       "      <td>110</td>\n",
       "      <td>3365</td>\n",
       "      <td>15.5</td>\n",
       "      <td>78</td>\n",
       "      <td>US</td>\n",
       "      <td>green</td>\n",
       "    </tr>\n",
       "    <tr>\n",
       "      <th>168</th>\n",
       "      <td>Chevrolete Chevelle Malibu</td>\n",
       "      <td>16</td>\n",
       "      <td>6</td>\n",
       "      <td>250.0</td>\n",
       "      <td>105</td>\n",
       "      <td>3897</td>\n",
       "      <td>18.5</td>\n",
       "      <td>75</td>\n",
       "      <td>US</td>\n",
       "      <td>green</td>\n",
       "    </tr>\n",
       "    <tr>\n",
       "      <th>363</th>\n",
       "      <td>Toyota Corolla</td>\n",
       "      <td>32.4</td>\n",
       "      <td>4</td>\n",
       "      <td>108.0</td>\n",
       "      <td>75</td>\n",
       "      <td>2350</td>\n",
       "      <td>16.8</td>\n",
       "      <td>81</td>\n",
       "      <td>Japan</td>\n",
       "      <td>green</td>\n",
       "    </tr>\n",
       "    <tr>\n",
       "      <th>92</th>\n",
       "      <td>Buick Century 350</td>\n",
       "      <td>13</td>\n",
       "      <td>8</td>\n",
       "      <td>350.0</td>\n",
       "      <td>175</td>\n",
       "      <td>4100</td>\n",
       "      <td>13.0</td>\n",
       "      <td>73</td>\n",
       "      <td>US</td>\n",
       "      <td>blue</td>\n",
       "    </tr>\n",
       "    <tr>\n",
       "      <th>68</th>\n",
       "      <td>Ford Pinto Runabout</td>\n",
       "      <td>21</td>\n",
       "      <td>4</td>\n",
       "      <td>122.0</td>\n",
       "      <td>86</td>\n",
       "      <td>2226</td>\n",
       "      <td>16.5</td>\n",
       "      <td>72</td>\n",
       "      <td>US</td>\n",
       "      <td>red</td>\n",
       "    </tr>\n",
       "    <tr>\n",
       "      <th>159</th>\n",
       "      <td>Plymouth Valiant Custom</td>\n",
       "      <td>19</td>\n",
       "      <td>6</td>\n",
       "      <td>225.0</td>\n",
       "      <td>95</td>\n",
       "      <td>3264</td>\n",
       "      <td>16.0</td>\n",
       "      <td>75</td>\n",
       "      <td>US</td>\n",
       "      <td>blue</td>\n",
       "    </tr>\n",
       "    <tr>\n",
       "      <th>1</th>\n",
       "      <td>Buick Skylark 320</td>\n",
       "      <td>15.0</td>\n",
       "      <td>8</td>\n",
       "      <td>350.0</td>\n",
       "      <td>165</td>\n",
       "      <td>3693</td>\n",
       "      <td>11.5</td>\n",
       "      <td>70</td>\n",
       "      <td>US</td>\n",
       "      <td>red</td>\n",
       "    </tr>\n",
       "    <tr>\n",
       "      <th>344</th>\n",
       "      <td>Honda Accord</td>\n",
       "      <td>32.4</td>\n",
       "      <td>4</td>\n",
       "      <td>107.0</td>\n",
       "      <td>72</td>\n",
       "      <td>2290</td>\n",
       "      <td>17.0</td>\n",
       "      <td>80</td>\n",
       "      <td>Japan</td>\n",
       "      <td>red</td>\n",
       "    </tr>\n",
       "  </tbody>\n",
       "</table>\n",
       "</div>"
      ],
      "text/plain": [
       "                                   Car   MPG  Cylinders  Displacement  \\\n",
       "217                     Toyota Mark II    19          6         156.0   \n",
       "2                   Plymouth Satellite  18.0          8         318.0   \n",
       "256  Oldsmobile Cutlass Salon Brougham  19.9          8         260.0   \n",
       "168         Chevrolete Chevelle Malibu    16          6         250.0   \n",
       "363                     Toyota Corolla  32.4          4         108.0   \n",
       "92                   Buick Century 350    13          8         350.0   \n",
       "68                 Ford Pinto Runabout    21          4         122.0   \n",
       "159            Plymouth Valiant Custom    19          6         225.0   \n",
       "1                    Buick Skylark 320  15.0          8         350.0   \n",
       "344                       Honda Accord  32.4          4         107.0   \n",
       "\n",
       "     Horsepower  Weight  Acceleration  Model Origin  Color  \n",
       "217         108    2930          15.5     76  Japan  green  \n",
       "2           150    3436          11.0     70     US   blue  \n",
       "256         110    3365          15.5     78     US  green  \n",
       "168         105    3897          18.5     75     US  green  \n",
       "363          75    2350          16.8     81  Japan  green  \n",
       "92          175    4100          13.0     73     US   blue  \n",
       "68           86    2226          16.5     72     US    red  \n",
       "159          95    3264          16.0     75     US   blue  \n",
       "1           165    3693          11.5     70     US    red  \n",
       "344          72    2290          17.0     80  Japan    red  "
      ]
     },
     "execution_count": 22,
     "metadata": {},
     "output_type": "execute_result"
    }
   ],
   "source": [
    "cars.____(___)"
   ]
  },
  {
   "cell_type": "markdown",
   "metadata": {},
   "source": [
    "###### e) Check how many Unique Car in Cars DataFrame:"
   ]
  },
  {
   "cell_type": "code",
   "execution_count": 23,
   "metadata": {},
   "outputs": [
    {
     "data": {
      "text/plain": [
       "308"
      ]
     },
     "execution_count": 23,
     "metadata": {},
     "output_type": "execute_result"
    }
   ],
   "source": [
    "# How many Unique Car in Cars DataFrame?\n",
    "cars.__._______"
   ]
  },
  {
   "cell_type": "markdown",
   "metadata": {},
   "source": [
    "###### f)Check how many Cylinders Car in Cars DataFrame:"
   ]
  },
  {
   "cell_type": "code",
   "execution_count": 24,
   "metadata": {
    "scrolled": true
   },
   "outputs": [
    {
     "data": {
      "text/plain": [
       "5"
      ]
     },
     "execution_count": 24,
     "metadata": {},
     "output_type": "execute_result"
    }
   ],
   "source": [
    "# How many Unique Cylinders in Cars DataFrame?\n",
    "cars._____.______"
   ]
  },
  {
   "cell_type": "markdown",
   "metadata": {},
   "source": [
    "###### g)Check how many Unique countries in Cars DataFrame:"
   ]
  },
  {
   "cell_type": "code",
   "execution_count": 25,
   "metadata": {},
   "outputs": [
    {
     "data": {
      "text/plain": [
       "array(['US', 'Europe', 'Japan'], dtype=object)"
      ]
     },
     "execution_count": 25,
     "metadata": {},
     "output_type": "execute_result"
    }
   ],
   "source": [
    "# From which countries these car are?\n",
    "cars.____._____"
   ]
  },
  {
   "cell_type": "markdown",
   "metadata": {},
   "source": [
    "###### h) Check the datatypes in the Cars DataFrame:"
   ]
  },
  {
   "cell_type": "code",
   "execution_count": 26,
   "metadata": {
    "scrolled": true
   },
   "outputs": [
    {
     "data": {
      "text/plain": [
       "Car              object\n",
       "MPG              object\n",
       "Cylinders         int64\n",
       "Displacement    float64\n",
       "Horsepower        int64\n",
       "Weight            int64\n",
       "Acceleration    float64\n",
       "Model             int64\n",
       "Origin           object\n",
       "Color            object\n",
       "dtype: object"
      ]
     },
     "execution_count": 26,
     "metadata": {},
     "output_type": "execute_result"
    }
   ],
   "source": [
    "cars._____"
   ]
  },
  {
   "cell_type": "markdown",
   "metadata": {},
   "source": [
    "###### i)MPG is not recognised as a number.  Convert object in MPG to float65:"
   ]
  },
  {
   "cell_type": "code",
   "execution_count": 27,
   "metadata": {
    "collapsed": true
   },
   "outputs": [],
   "source": [
    "# Convert MPG to float64 to_numeric"
   ]
  },
  {
   "cell_type": "code",
   "execution_count": 28,
   "metadata": {},
   "outputs": [
    {
     "data": {
      "text/plain": [
       "0    18.0\n",
       "1    15.0\n",
       "2    18.0\n",
       "3    16.0\n",
       "4    17.0\n",
       "Name: MPG, dtype: float64"
      ]
     },
     "execution_count": 28,
     "metadata": {},
     "output_type": "execute_result"
    }
   ],
   "source": [
    "cars[[\"MPG\"]] = cars[[\"MPG\"]].apply(pd.______, errors = \"coerce\")\n",
    "cars[\"MPG\"].head()"
   ]
  },
  {
   "cell_type": "markdown",
   "metadata": {},
   "source": [
    "###### j) check the datatype in cars dataframe again:"
   ]
  },
  {
   "cell_type": "code",
   "execution_count": 29,
   "metadata": {
    "scrolled": true
   },
   "outputs": [
    {
     "data": {
      "text/plain": [
       "Car              object\n",
       "MPG             float64\n",
       "Cylinders         int64\n",
       "Displacement    float64\n",
       "Horsepower        int64\n",
       "Weight            int64\n",
       "Acceleration    float64\n",
       "Model             int64\n",
       "Origin           object\n",
       "Color            object\n",
       "dtype: object"
      ]
     },
     "execution_count": 29,
     "metadata": {},
     "output_type": "execute_result"
    }
   ],
   "source": [
    "cars._____"
   ]
  },
  {
   "cell_type": "code",
   "execution_count": null,
   "metadata": {
    "collapsed": true
   },
   "outputs": [],
   "source": []
  },
  {
   "cell_type": "markdown",
   "metadata": {},
   "source": [
    "## 2.5.2. Playing, Slicing, Dicing with 10 records (call it head dataframe)"
   ]
  },
  {
   "cell_type": "code",
   "execution_count": 43,
   "metadata": {
    "collapsed": true,
    "scrolled": false
   },
   "outputs": [],
   "source": [
    "# quick intro into indexing - slicing\n",
    "# create a small dataset with 10 rows \n",
    "head = resale.head(10)\n"
   ]
  },
  {
   "cell_type": "code",
   "execution_count": 44,
   "metadata": {},
   "outputs": [
    {
     "data": {
      "text/html": [
       "<div>\n",
       "<style scoped>\n",
       "    .dataframe tbody tr th:only-of-type {\n",
       "        vertical-align: middle;\n",
       "    }\n",
       "\n",
       "    .dataframe tbody tr th {\n",
       "        vertical-align: top;\n",
       "    }\n",
       "\n",
       "    .dataframe thead th {\n",
       "        text-align: right;\n",
       "    }\n",
       "</style>\n",
       "<table border=\"1\" class=\"dataframe\">\n",
       "  <thead>\n",
       "    <tr style=\"text-align: right;\">\n",
       "      <th></th>\n",
       "      <th>month</th>\n",
       "      <th>town</th>\n",
       "      <th>flat_type</th>\n",
       "      <th>floor_area_sqm</th>\n",
       "      <th>lease_commence_date</th>\n",
       "      <th>resale_price</th>\n",
       "    </tr>\n",
       "  </thead>\n",
       "  <tbody>\n",
       "    <tr>\n",
       "      <th>87705</th>\n",
       "      <td>2016-11</td>\n",
       "      <td>ANG MO KIO</td>\n",
       "      <td>4 ROOM</td>\n",
       "      <td>92.0</td>\n",
       "      <td>1977</td>\n",
       "      <td>590000.0</td>\n",
       "    </tr>\n",
       "    <tr>\n",
       "      <th>86039</th>\n",
       "      <td>2016-10</td>\n",
       "      <td>ANG MO KIO</td>\n",
       "      <td>4 ROOM</td>\n",
       "      <td>92.0</td>\n",
       "      <td>1978</td>\n",
       "      <td>490000.0</td>\n",
       "    </tr>\n",
       "    <tr>\n",
       "      <th>52213</th>\n",
       "      <td>2015-01</td>\n",
       "      <td>ANG MO KIO</td>\n",
       "      <td>3 ROOM</td>\n",
       "      <td>68.0</td>\n",
       "      <td>1979</td>\n",
       "      <td>290000.0</td>\n",
       "    </tr>\n",
       "    <tr>\n",
       "      <th>46561</th>\n",
       "      <td>2014-09</td>\n",
       "      <td>ANG MO KIO</td>\n",
       "      <td>4 ROOM</td>\n",
       "      <td>92.0</td>\n",
       "      <td>1981</td>\n",
       "      <td>425000.0</td>\n",
       "    </tr>\n",
       "    <tr>\n",
       "      <th>69890</th>\n",
       "      <td>2015-12</td>\n",
       "      <td>ANG MO KIO</td>\n",
       "      <td>EXECUTIVE</td>\n",
       "      <td>153.0</td>\n",
       "      <td>1996</td>\n",
       "      <td>760000.0</td>\n",
       "    </tr>\n",
       "    <tr>\n",
       "      <th>11026</th>\n",
       "      <td>2012-08</td>\n",
       "      <td>ANG MO KIO</td>\n",
       "      <td>3 ROOM</td>\n",
       "      <td>67.0</td>\n",
       "      <td>1978</td>\n",
       "      <td>335000.0</td>\n",
       "    </tr>\n",
       "    <tr>\n",
       "      <th>79036</th>\n",
       "      <td>2016-06</td>\n",
       "      <td>ANG MO KIO</td>\n",
       "      <td>3 ROOM</td>\n",
       "      <td>68.0</td>\n",
       "      <td>1981</td>\n",
       "      <td>277000.0</td>\n",
       "    </tr>\n",
       "    <tr>\n",
       "      <th>75</th>\n",
       "      <td>2012-03</td>\n",
       "      <td>ANG MO KIO</td>\n",
       "      <td>3 ROOM</td>\n",
       "      <td>89.0</td>\n",
       "      <td>1979</td>\n",
       "      <td>435000.0</td>\n",
       "    </tr>\n",
       "    <tr>\n",
       "      <th>29949</th>\n",
       "      <td>2013-08</td>\n",
       "      <td>ANG MO KIO</td>\n",
       "      <td>3 ROOM</td>\n",
       "      <td>68.0</td>\n",
       "      <td>1980</td>\n",
       "      <td>348000.0</td>\n",
       "    </tr>\n",
       "    <tr>\n",
       "      <th>11021</th>\n",
       "      <td>2012-08</td>\n",
       "      <td>ANG MO KIO</td>\n",
       "      <td>3 ROOM</td>\n",
       "      <td>68.0</td>\n",
       "      <td>1980</td>\n",
       "      <td>327000.0</td>\n",
       "    </tr>\n",
       "  </tbody>\n",
       "</table>\n",
       "</div>"
      ],
      "text/plain": [
       "         month        town  flat_type  floor_area_sqm  lease_commence_date  \\\n",
       "87705  2016-11  ANG MO KIO     4 ROOM            92.0                 1977   \n",
       "86039  2016-10  ANG MO KIO     4 ROOM            92.0                 1978   \n",
       "52213  2015-01  ANG MO KIO     3 ROOM            68.0                 1979   \n",
       "46561  2014-09  ANG MO KIO     4 ROOM            92.0                 1981   \n",
       "69890  2015-12  ANG MO KIO  EXECUTIVE           153.0                 1996   \n",
       "11026  2012-08  ANG MO KIO     3 ROOM            67.0                 1978   \n",
       "79036  2016-06  ANG MO KIO     3 ROOM            68.0                 1981   \n",
       "75     2012-03  ANG MO KIO     3 ROOM            89.0                 1979   \n",
       "29949  2013-08  ANG MO KIO     3 ROOM            68.0                 1980   \n",
       "11021  2012-08  ANG MO KIO     3 ROOM            68.0                 1980   \n",
       "\n",
       "       resale_price  \n",
       "87705      590000.0  \n",
       "86039      490000.0  \n",
       "52213      290000.0  \n",
       "46561      425000.0  \n",
       "69890      760000.0  \n",
       "11026      335000.0  \n",
       "79036      277000.0  \n",
       "75         435000.0  \n",
       "29949      348000.0  \n",
       "11021      327000.0  "
      ]
     },
     "execution_count": 44,
     "metadata": {},
     "output_type": "execute_result"
    }
   ],
   "source": [
    "head"
   ]
  },
  {
   "cell_type": "code",
   "execution_count": 45,
   "metadata": {},
   "outputs": [
    {
     "data": {
      "text/plain": [
       "87705    590000.0\n",
       "86039    490000.0\n",
       "52213    290000.0\n",
       "46561    425000.0\n",
       "69890    760000.0\n",
       "11026    335000.0\n",
       "79036    277000.0\n",
       "75       435000.0\n",
       "29949    348000.0\n",
       "11021    327000.0\n",
       "Name: resale_price, dtype: float64"
      ]
     },
     "execution_count": 45,
     "metadata": {},
     "output_type": "execute_result"
    }
   ],
   "source": [
    "# access a column\n",
    "head['resale_price']"
   ]
  },
  {
   "cell_type": "code",
   "execution_count": 46,
   "metadata": {},
   "outputs": [
    {
     "data": {
      "text/plain": [
       "month                     2016-10\n",
       "town                   ANG MO KIO\n",
       "flat_type                  4 ROOM\n",
       "floor_area_sqm                 92\n",
       "lease_commence_date          1978\n",
       "resale_price               490000\n",
       "Name: 86039, dtype: object"
      ]
     },
     "execution_count": 46,
     "metadata": {},
     "output_type": "execute_result"
    }
   ],
   "source": [
    "# access second row, keep all columns\n",
    "head.iloc[1,:]"
   ]
  },
  {
   "cell_type": "code",
   "execution_count": 47,
   "metadata": {},
   "outputs": [
    {
     "data": {
      "text/plain": [
       "87705       4 ROOM\n",
       "86039       4 ROOM\n",
       "52213       3 ROOM\n",
       "46561       4 ROOM\n",
       "69890    EXECUTIVE\n",
       "11026       3 ROOM\n",
       "79036       3 ROOM\n",
       "75          3 ROOM\n",
       "29949       3 ROOM\n",
       "11021       3 ROOM\n",
       "Name: flat_type, dtype: object"
      ]
     },
     "execution_count": 47,
     "metadata": {},
     "output_type": "execute_result"
    }
   ],
   "source": [
    "# all rows, only second column\n",
    "head.iloc[:,2]"
   ]
  },
  {
   "cell_type": "code",
   "execution_count": 48,
   "metadata": {},
   "outputs": [
    {
     "data": {
      "text/html": [
       "<div>\n",
       "<style scoped>\n",
       "    .dataframe tbody tr th:only-of-type {\n",
       "        vertical-align: middle;\n",
       "    }\n",
       "\n",
       "    .dataframe tbody tr th {\n",
       "        vertical-align: top;\n",
       "    }\n",
       "\n",
       "    .dataframe thead th {\n",
       "        text-align: right;\n",
       "    }\n",
       "</style>\n",
       "<table border=\"1\" class=\"dataframe\">\n",
       "  <thead>\n",
       "    <tr style=\"text-align: right;\">\n",
       "      <th></th>\n",
       "      <th>month</th>\n",
       "      <th>town</th>\n",
       "      <th>flat_type</th>\n",
       "      <th>floor_area_sqm</th>\n",
       "      <th>lease_commence_date</th>\n",
       "      <th>resale_price</th>\n",
       "    </tr>\n",
       "  </thead>\n",
       "  <tbody>\n",
       "    <tr>\n",
       "      <th>87705</th>\n",
       "      <td>2016-11</td>\n",
       "      <td>ANG MO KIO</td>\n",
       "      <td>4 ROOM</td>\n",
       "      <td>92.0</td>\n",
       "      <td>1977</td>\n",
       "      <td>590000.0</td>\n",
       "    </tr>\n",
       "    <tr>\n",
       "      <th>86039</th>\n",
       "      <td>2016-10</td>\n",
       "      <td>ANG MO KIO</td>\n",
       "      <td>4 ROOM</td>\n",
       "      <td>92.0</td>\n",
       "      <td>1978</td>\n",
       "      <td>490000.0</td>\n",
       "    </tr>\n",
       "    <tr>\n",
       "      <th>52213</th>\n",
       "      <td>2015-01</td>\n",
       "      <td>ANG MO KIO</td>\n",
       "      <td>3 ROOM</td>\n",
       "      <td>68.0</td>\n",
       "      <td>1979</td>\n",
       "      <td>290000.0</td>\n",
       "    </tr>\n",
       "    <tr>\n",
       "      <th>46561</th>\n",
       "      <td>2014-09</td>\n",
       "      <td>ANG MO KIO</td>\n",
       "      <td>4 ROOM</td>\n",
       "      <td>92.0</td>\n",
       "      <td>1981</td>\n",
       "      <td>425000.0</td>\n",
       "    </tr>\n",
       "    <tr>\n",
       "      <th>69890</th>\n",
       "      <td>2015-12</td>\n",
       "      <td>ANG MO KIO</td>\n",
       "      <td>EXECUTIVE</td>\n",
       "      <td>153.0</td>\n",
       "      <td>1996</td>\n",
       "      <td>760000.0</td>\n",
       "    </tr>\n",
       "    <tr>\n",
       "      <th>11026</th>\n",
       "      <td>2012-08</td>\n",
       "      <td>ANG MO KIO</td>\n",
       "      <td>3 ROOM</td>\n",
       "      <td>67.0</td>\n",
       "      <td>1978</td>\n",
       "      <td>335000.0</td>\n",
       "    </tr>\n",
       "    <tr>\n",
       "      <th>79036</th>\n",
       "      <td>2016-06</td>\n",
       "      <td>ANG MO KIO</td>\n",
       "      <td>3 ROOM</td>\n",
       "      <td>68.0</td>\n",
       "      <td>1981</td>\n",
       "      <td>277000.0</td>\n",
       "    </tr>\n",
       "    <tr>\n",
       "      <th>75</th>\n",
       "      <td>2012-03</td>\n",
       "      <td>ANG MO KIO</td>\n",
       "      <td>3 ROOM</td>\n",
       "      <td>89.0</td>\n",
       "      <td>1979</td>\n",
       "      <td>435000.0</td>\n",
       "    </tr>\n",
       "    <tr>\n",
       "      <th>29949</th>\n",
       "      <td>2013-08</td>\n",
       "      <td>ANG MO KIO</td>\n",
       "      <td>3 ROOM</td>\n",
       "      <td>68.0</td>\n",
       "      <td>1980</td>\n",
       "      <td>348000.0</td>\n",
       "    </tr>\n",
       "    <tr>\n",
       "      <th>11021</th>\n",
       "      <td>2012-08</td>\n",
       "      <td>ANG MO KIO</td>\n",
       "      <td>3 ROOM</td>\n",
       "      <td>68.0</td>\n",
       "      <td>1980</td>\n",
       "      <td>327000.0</td>\n",
       "    </tr>\n",
       "  </tbody>\n",
       "</table>\n",
       "</div>"
      ],
      "text/plain": [
       "         month        town  flat_type  floor_area_sqm  lease_commence_date  \\\n",
       "87705  2016-11  ANG MO KIO     4 ROOM            92.0                 1977   \n",
       "86039  2016-10  ANG MO KIO     4 ROOM            92.0                 1978   \n",
       "52213  2015-01  ANG MO KIO     3 ROOM            68.0                 1979   \n",
       "46561  2014-09  ANG MO KIO     4 ROOM            92.0                 1981   \n",
       "69890  2015-12  ANG MO KIO  EXECUTIVE           153.0                 1996   \n",
       "11026  2012-08  ANG MO KIO     3 ROOM            67.0                 1978   \n",
       "79036  2016-06  ANG MO KIO     3 ROOM            68.0                 1981   \n",
       "75     2012-03  ANG MO KIO     3 ROOM            89.0                 1979   \n",
       "29949  2013-08  ANG MO KIO     3 ROOM            68.0                 1980   \n",
       "11021  2012-08  ANG MO KIO     3 ROOM            68.0                 1980   \n",
       "\n",
       "       resale_price  \n",
       "87705      590000.0  \n",
       "86039      490000.0  \n",
       "52213      290000.0  \n",
       "46561      425000.0  \n",
       "69890      760000.0  \n",
       "11026      335000.0  \n",
       "79036      277000.0  \n",
       "75         435000.0  \n",
       "29949      348000.0  \n",
       "11021      327000.0  "
      ]
     },
     "execution_count": 48,
     "metadata": {},
     "output_type": "execute_result"
    }
   ],
   "source": [
    "head.loc[head['resale_price'] > 100000.0, :]"
   ]
  },
  {
   "cell_type": "code",
   "execution_count": 49,
   "metadata": {},
   "outputs": [
    {
     "data": {
      "text/html": [
       "<div>\n",
       "<style scoped>\n",
       "    .dataframe tbody tr th:only-of-type {\n",
       "        vertical-align: middle;\n",
       "    }\n",
       "\n",
       "    .dataframe tbody tr th {\n",
       "        vertical-align: top;\n",
       "    }\n",
       "\n",
       "    .dataframe thead th {\n",
       "        text-align: right;\n",
       "    }\n",
       "</style>\n",
       "<table border=\"1\" class=\"dataframe\">\n",
       "  <thead>\n",
       "    <tr style=\"text-align: right;\">\n",
       "      <th></th>\n",
       "      <th>month</th>\n",
       "      <th>town</th>\n",
       "      <th>flat_type</th>\n",
       "      <th>floor_area_sqm</th>\n",
       "      <th>lease_commence_date</th>\n",
       "      <th>resale_price</th>\n",
       "    </tr>\n",
       "  </thead>\n",
       "  <tbody>\n",
       "    <tr>\n",
       "      <th>87705</th>\n",
       "      <td>2016-11</td>\n",
       "      <td>ANG MO KIO</td>\n",
       "      <td>4 ROOM</td>\n",
       "      <td>92.0</td>\n",
       "      <td>1977</td>\n",
       "      <td>590000.0</td>\n",
       "    </tr>\n",
       "    <tr>\n",
       "      <th>86039</th>\n",
       "      <td>2016-10</td>\n",
       "      <td>ANG MO KIO</td>\n",
       "      <td>4 ROOM</td>\n",
       "      <td>92.0</td>\n",
       "      <td>1978</td>\n",
       "      <td>490000.0</td>\n",
       "    </tr>\n",
       "    <tr>\n",
       "      <th>52213</th>\n",
       "      <td>2015-01</td>\n",
       "      <td>ANG MO KIO</td>\n",
       "      <td>3 ROOM</td>\n",
       "      <td>68.0</td>\n",
       "      <td>1979</td>\n",
       "      <td>290000.0</td>\n",
       "    </tr>\n",
       "    <tr>\n",
       "      <th>46561</th>\n",
       "      <td>2014-09</td>\n",
       "      <td>ANG MO KIO</td>\n",
       "      <td>4 ROOM</td>\n",
       "      <td>92.0</td>\n",
       "      <td>1981</td>\n",
       "      <td>425000.0</td>\n",
       "    </tr>\n",
       "    <tr>\n",
       "      <th>69890</th>\n",
       "      <td>2015-12</td>\n",
       "      <td>ANG MO KIO</td>\n",
       "      <td>EXECUTIVE</td>\n",
       "      <td>153.0</td>\n",
       "      <td>1996</td>\n",
       "      <td>760000.0</td>\n",
       "    </tr>\n",
       "    <tr>\n",
       "      <th>11026</th>\n",
       "      <td>2012-08</td>\n",
       "      <td>ANG MO KIO</td>\n",
       "      <td>3 ROOM</td>\n",
       "      <td>67.0</td>\n",
       "      <td>1978</td>\n",
       "      <td>335000.0</td>\n",
       "    </tr>\n",
       "    <tr>\n",
       "      <th>79036</th>\n",
       "      <td>2016-06</td>\n",
       "      <td>ANG MO KIO</td>\n",
       "      <td>3 ROOM</td>\n",
       "      <td>68.0</td>\n",
       "      <td>1981</td>\n",
       "      <td>277000.0</td>\n",
       "    </tr>\n",
       "    <tr>\n",
       "      <th>75</th>\n",
       "      <td>2012-03</td>\n",
       "      <td>ANG MO KIO</td>\n",
       "      <td>3 ROOM</td>\n",
       "      <td>89.0</td>\n",
       "      <td>1979</td>\n",
       "      <td>435000.0</td>\n",
       "    </tr>\n",
       "    <tr>\n",
       "      <th>29949</th>\n",
       "      <td>2013-08</td>\n",
       "      <td>ANG MO KIO</td>\n",
       "      <td>3 ROOM</td>\n",
       "      <td>68.0</td>\n",
       "      <td>1980</td>\n",
       "      <td>348000.0</td>\n",
       "    </tr>\n",
       "    <tr>\n",
       "      <th>11021</th>\n",
       "      <td>2012-08</td>\n",
       "      <td>ANG MO KIO</td>\n",
       "      <td>3 ROOM</td>\n",
       "      <td>68.0</td>\n",
       "      <td>1980</td>\n",
       "      <td>327000.0</td>\n",
       "    </tr>\n",
       "  </tbody>\n",
       "</table>\n",
       "</div>"
      ],
      "text/plain": [
       "         month        town  flat_type  floor_area_sqm  lease_commence_date  \\\n",
       "87705  2016-11  ANG MO KIO     4 ROOM            92.0                 1977   \n",
       "86039  2016-10  ANG MO KIO     4 ROOM            92.0                 1978   \n",
       "52213  2015-01  ANG MO KIO     3 ROOM            68.0                 1979   \n",
       "46561  2014-09  ANG MO KIO     4 ROOM            92.0                 1981   \n",
       "69890  2015-12  ANG MO KIO  EXECUTIVE           153.0                 1996   \n",
       "11026  2012-08  ANG MO KIO     3 ROOM            67.0                 1978   \n",
       "79036  2016-06  ANG MO KIO     3 ROOM            68.0                 1981   \n",
       "75     2012-03  ANG MO KIO     3 ROOM            89.0                 1979   \n",
       "29949  2013-08  ANG MO KIO     3 ROOM            68.0                 1980   \n",
       "11021  2012-08  ANG MO KIO     3 ROOM            68.0                 1980   \n",
       "\n",
       "       resale_price  \n",
       "87705      590000.0  \n",
       "86039      490000.0  \n",
       "52213      290000.0  \n",
       "46561      425000.0  \n",
       "69890      760000.0  \n",
       "11026      335000.0  \n",
       "79036      277000.0  \n",
       "75         435000.0  \n",
       "29949      348000.0  \n",
       "11021      327000.0  "
      ]
     },
     "execution_count": 49,
     "metadata": {},
     "output_type": "execute_result"
    }
   ],
   "source": [
    "head.loc[head['resale_price'] > 100000.0]"
   ]
  },
  {
   "cell_type": "markdown",
   "metadata": {},
   "source": [
    "## Exercise 5.3.2"
   ]
  },
  {
   "cell_type": "markdown",
   "metadata": {},
   "source": [
    "###### a) Find a car that is efficient (that can run 40 miles per gallon). List ALL OF THEM"
   ]
  },
  {
   "cell_type": "code",
   "execution_count": 37,
   "metadata": {},
   "outputs": [
    {
     "data": {
      "text/html": [
       "<div>\n",
       "<style scoped>\n",
       "    .dataframe tbody tr th:only-of-type {\n",
       "        vertical-align: middle;\n",
       "    }\n",
       "\n",
       "    .dataframe tbody tr th {\n",
       "        vertical-align: top;\n",
       "    }\n",
       "\n",
       "    .dataframe thead th {\n",
       "        text-align: right;\n",
       "    }\n",
       "</style>\n",
       "<table border=\"1\" class=\"dataframe\">\n",
       "  <thead>\n",
       "    <tr style=\"text-align: right;\">\n",
       "      <th></th>\n",
       "      <th>Car</th>\n",
       "      <th>MPG</th>\n",
       "      <th>Cylinders</th>\n",
       "      <th>Displacement</th>\n",
       "      <th>Horsepower</th>\n",
       "      <th>Weight</th>\n",
       "      <th>Acceleration</th>\n",
       "      <th>Model</th>\n",
       "      <th>Origin</th>\n",
       "      <th>Color</th>\n",
       "    </tr>\n",
       "  </thead>\n",
       "  <tbody>\n",
       "    <tr>\n",
       "      <th>251</th>\n",
       "      <td>Volkswagen Rabbit Custom Diesel</td>\n",
       "      <td>43.1</td>\n",
       "      <td>4</td>\n",
       "      <td>90.0</td>\n",
       "      <td>48</td>\n",
       "      <td>1985</td>\n",
       "      <td>21.5</td>\n",
       "      <td>78</td>\n",
       "      <td>Europe</td>\n",
       "      <td>blue</td>\n",
       "    </tr>\n",
       "    <tr>\n",
       "      <th>316</th>\n",
       "      <td>Volkswagen Rabbit</td>\n",
       "      <td>41.5</td>\n",
       "      <td>4</td>\n",
       "      <td>98.0</td>\n",
       "      <td>76</td>\n",
       "      <td>2144</td>\n",
       "      <td>14.7</td>\n",
       "      <td>80</td>\n",
       "      <td>Europe</td>\n",
       "      <td>green</td>\n",
       "    </tr>\n",
       "    <tr>\n",
       "      <th>329</th>\n",
       "      <td>Mazda GLC</td>\n",
       "      <td>46.6</td>\n",
       "      <td>4</td>\n",
       "      <td>86.0</td>\n",
       "      <td>65</td>\n",
       "      <td>2110</td>\n",
       "      <td>17.9</td>\n",
       "      <td>80</td>\n",
       "      <td>Japan</td>\n",
       "      <td>green</td>\n",
       "    </tr>\n",
       "    <tr>\n",
       "      <th>331</th>\n",
       "      <td>Datsun 210</td>\n",
       "      <td>40.8</td>\n",
       "      <td>4</td>\n",
       "      <td>85.0</td>\n",
       "      <td>65</td>\n",
       "      <td>2110</td>\n",
       "      <td>19.2</td>\n",
       "      <td>80</td>\n",
       "      <td>Japan</td>\n",
       "      <td>blue</td>\n",
       "    </tr>\n",
       "    <tr>\n",
       "      <th>332</th>\n",
       "      <td>Volkswagen Rabbit C (Diesel)</td>\n",
       "      <td>44.3</td>\n",
       "      <td>4</td>\n",
       "      <td>90.0</td>\n",
       "      <td>48</td>\n",
       "      <td>2085</td>\n",
       "      <td>21.7</td>\n",
       "      <td>80</td>\n",
       "      <td>Europe</td>\n",
       "      <td>blue</td>\n",
       "    </tr>\n",
       "    <tr>\n",
       "      <th>333</th>\n",
       "      <td>Volkswagen Dasher (diesel)</td>\n",
       "      <td>43.4</td>\n",
       "      <td>4</td>\n",
       "      <td>90.0</td>\n",
       "      <td>48</td>\n",
       "      <td>2335</td>\n",
       "      <td>23.7</td>\n",
       "      <td>80</td>\n",
       "      <td>Europe</td>\n",
       "      <td>green</td>\n",
       "    </tr>\n",
       "    <tr>\n",
       "      <th>336</th>\n",
       "      <td>Honda Civic 1500 gl</td>\n",
       "      <td>44.6</td>\n",
       "      <td>4</td>\n",
       "      <td>91.0</td>\n",
       "      <td>67</td>\n",
       "      <td>1850</td>\n",
       "      <td>13.8</td>\n",
       "      <td>80</td>\n",
       "      <td>Japan</td>\n",
       "      <td>red</td>\n",
       "    </tr>\n",
       "    <tr>\n",
       "      <th>337</th>\n",
       "      <td>Renault Lecar Deluxe</td>\n",
       "      <td>40.9</td>\n",
       "      <td>4</td>\n",
       "      <td>85.0</td>\n",
       "      <td>0</td>\n",
       "      <td>1835</td>\n",
       "      <td>17.3</td>\n",
       "      <td>80</td>\n",
       "      <td>Europe</td>\n",
       "      <td>red</td>\n",
       "    </tr>\n",
       "    <tr>\n",
       "      <th>402</th>\n",
       "      <td>Volkswagen Pickup</td>\n",
       "      <td>44.0</td>\n",
       "      <td>4</td>\n",
       "      <td>97.0</td>\n",
       "      <td>52</td>\n",
       "      <td>2130</td>\n",
       "      <td>24.6</td>\n",
       "      <td>82</td>\n",
       "      <td>Europe</td>\n",
       "      <td>green</td>\n",
       "    </tr>\n",
       "  </tbody>\n",
       "</table>\n",
       "</div>"
      ],
      "text/plain": [
       "                                 Car   MPG  Cylinders  Displacement  \\\n",
       "251  Volkswagen Rabbit Custom Diesel  43.1          4          90.0   \n",
       "316                Volkswagen Rabbit  41.5          4          98.0   \n",
       "329                        Mazda GLC  46.6          4          86.0   \n",
       "331                       Datsun 210  40.8          4          85.0   \n",
       "332     Volkswagen Rabbit C (Diesel)  44.3          4          90.0   \n",
       "333       Volkswagen Dasher (diesel)  43.4          4          90.0   \n",
       "336              Honda Civic 1500 gl  44.6          4          91.0   \n",
       "337             Renault Lecar Deluxe  40.9          4          85.0   \n",
       "402                Volkswagen Pickup  44.0          4          97.0   \n",
       "\n",
       "     Horsepower  Weight  Acceleration  Model  Origin  Color  \n",
       "251          48    1985          21.5     78  Europe   blue  \n",
       "316          76    2144          14.7     80  Europe  green  \n",
       "329          65    2110          17.9     80   Japan  green  \n",
       "331          65    2110          19.2     80   Japan   blue  \n",
       "332          48    2085          21.7     80  Europe   blue  \n",
       "333          48    2335          23.7     80  Europe  green  \n",
       "336          67    1850          13.8     80   Japan    red  \n",
       "337           0    1835          17.3     80  Europe    red  \n",
       "402          52    2130          24.6     82  Europe  green  "
      ]
     },
     "execution_count": 37,
     "metadata": {},
     "output_type": "execute_result"
    }
   ],
   "source": [
    "cars.loc[______ > ____]"
   ]
  },
  {
   "cell_type": "markdown",
   "metadata": {},
   "source": [
    "###### b) Find a car that is efficient (that can run 40 miles per gallon). List ONLY from Japan"
   ]
  },
  {
   "cell_type": "code",
   "execution_count": 38,
   "metadata": {},
   "outputs": [
    {
     "data": {
      "text/html": [
       "<div>\n",
       "<style scoped>\n",
       "    .dataframe tbody tr th:only-of-type {\n",
       "        vertical-align: middle;\n",
       "    }\n",
       "\n",
       "    .dataframe tbody tr th {\n",
       "        vertical-align: top;\n",
       "    }\n",
       "\n",
       "    .dataframe thead th {\n",
       "        text-align: right;\n",
       "    }\n",
       "</style>\n",
       "<table border=\"1\" class=\"dataframe\">\n",
       "  <thead>\n",
       "    <tr style=\"text-align: right;\">\n",
       "      <th></th>\n",
       "      <th>Car</th>\n",
       "      <th>MPG</th>\n",
       "      <th>Cylinders</th>\n",
       "      <th>Displacement</th>\n",
       "      <th>Horsepower</th>\n",
       "      <th>Weight</th>\n",
       "      <th>Acceleration</th>\n",
       "      <th>Model</th>\n",
       "      <th>Origin</th>\n",
       "      <th>Color</th>\n",
       "    </tr>\n",
       "  </thead>\n",
       "  <tbody>\n",
       "    <tr>\n",
       "      <th>329</th>\n",
       "      <td>Mazda GLC</td>\n",
       "      <td>46.6</td>\n",
       "      <td>4</td>\n",
       "      <td>86.0</td>\n",
       "      <td>65</td>\n",
       "      <td>2110</td>\n",
       "      <td>17.9</td>\n",
       "      <td>80</td>\n",
       "      <td>Japan</td>\n",
       "      <td>green</td>\n",
       "    </tr>\n",
       "    <tr>\n",
       "      <th>331</th>\n",
       "      <td>Datsun 210</td>\n",
       "      <td>40.8</td>\n",
       "      <td>4</td>\n",
       "      <td>85.0</td>\n",
       "      <td>65</td>\n",
       "      <td>2110</td>\n",
       "      <td>19.2</td>\n",
       "      <td>80</td>\n",
       "      <td>Japan</td>\n",
       "      <td>blue</td>\n",
       "    </tr>\n",
       "    <tr>\n",
       "      <th>336</th>\n",
       "      <td>Honda Civic 1500 gl</td>\n",
       "      <td>44.6</td>\n",
       "      <td>4</td>\n",
       "      <td>91.0</td>\n",
       "      <td>67</td>\n",
       "      <td>1850</td>\n",
       "      <td>13.8</td>\n",
       "      <td>80</td>\n",
       "      <td>Japan</td>\n",
       "      <td>red</td>\n",
       "    </tr>\n",
       "  </tbody>\n",
       "</table>\n",
       "</div>"
      ],
      "text/plain": [
       "                     Car   MPG  Cylinders  Displacement  Horsepower  Weight  \\\n",
       "329            Mazda GLC  46.6          4          86.0          65    2110   \n",
       "331           Datsun 210  40.8          4          85.0          65    2110   \n",
       "336  Honda Civic 1500 gl  44.6          4          91.0          67    1850   \n",
       "\n",
       "     Acceleration  Model Origin  Color  \n",
       "329          17.9     80  Japan  green  \n",
       "331          19.2     80  Japan   blue  \n",
       "336          13.8     80  Japan    red  "
      ]
     },
     "execution_count": 38,
     "metadata": {},
     "output_type": "execute_result"
    }
   ],
   "source": [
    "cars.loc[(cars.MPG > 40) ___ (cars.Origin ___ Japan')]"
   ]
  },
  {
   "cell_type": "markdown",
   "metadata": {},
   "source": [
    "###### c) Find a car that is efficient (that can run 40 miles per gallon). List ONLY from those NOT from Japan"
   ]
  },
  {
   "cell_type": "code",
   "execution_count": 39,
   "metadata": {},
   "outputs": [
    {
     "data": {
      "text/html": [
       "<div>\n",
       "<style scoped>\n",
       "    .dataframe tbody tr th:only-of-type {\n",
       "        vertical-align: middle;\n",
       "    }\n",
       "\n",
       "    .dataframe tbody tr th {\n",
       "        vertical-align: top;\n",
       "    }\n",
       "\n",
       "    .dataframe thead th {\n",
       "        text-align: right;\n",
       "    }\n",
       "</style>\n",
       "<table border=\"1\" class=\"dataframe\">\n",
       "  <thead>\n",
       "    <tr style=\"text-align: right;\">\n",
       "      <th></th>\n",
       "      <th>Car</th>\n",
       "      <th>MPG</th>\n",
       "      <th>Cylinders</th>\n",
       "      <th>Displacement</th>\n",
       "      <th>Horsepower</th>\n",
       "      <th>Weight</th>\n",
       "      <th>Acceleration</th>\n",
       "      <th>Model</th>\n",
       "      <th>Origin</th>\n",
       "      <th>Color</th>\n",
       "    </tr>\n",
       "  </thead>\n",
       "  <tbody>\n",
       "    <tr>\n",
       "      <th>251</th>\n",
       "      <td>Volkswagen Rabbit Custom Diesel</td>\n",
       "      <td>43.1</td>\n",
       "      <td>4</td>\n",
       "      <td>90.0</td>\n",
       "      <td>48</td>\n",
       "      <td>1985</td>\n",
       "      <td>21.5</td>\n",
       "      <td>78</td>\n",
       "      <td>Europe</td>\n",
       "      <td>blue</td>\n",
       "    </tr>\n",
       "    <tr>\n",
       "      <th>316</th>\n",
       "      <td>Volkswagen Rabbit</td>\n",
       "      <td>41.5</td>\n",
       "      <td>4</td>\n",
       "      <td>98.0</td>\n",
       "      <td>76</td>\n",
       "      <td>2144</td>\n",
       "      <td>14.7</td>\n",
       "      <td>80</td>\n",
       "      <td>Europe</td>\n",
       "      <td>green</td>\n",
       "    </tr>\n",
       "    <tr>\n",
       "      <th>332</th>\n",
       "      <td>Volkswagen Rabbit C (Diesel)</td>\n",
       "      <td>44.3</td>\n",
       "      <td>4</td>\n",
       "      <td>90.0</td>\n",
       "      <td>48</td>\n",
       "      <td>2085</td>\n",
       "      <td>21.7</td>\n",
       "      <td>80</td>\n",
       "      <td>Europe</td>\n",
       "      <td>blue</td>\n",
       "    </tr>\n",
       "    <tr>\n",
       "      <th>333</th>\n",
       "      <td>Volkswagen Dasher (diesel)</td>\n",
       "      <td>43.4</td>\n",
       "      <td>4</td>\n",
       "      <td>90.0</td>\n",
       "      <td>48</td>\n",
       "      <td>2335</td>\n",
       "      <td>23.7</td>\n",
       "      <td>80</td>\n",
       "      <td>Europe</td>\n",
       "      <td>green</td>\n",
       "    </tr>\n",
       "    <tr>\n",
       "      <th>337</th>\n",
       "      <td>Renault Lecar Deluxe</td>\n",
       "      <td>40.9</td>\n",
       "      <td>4</td>\n",
       "      <td>85.0</td>\n",
       "      <td>0</td>\n",
       "      <td>1835</td>\n",
       "      <td>17.3</td>\n",
       "      <td>80</td>\n",
       "      <td>Europe</td>\n",
       "      <td>red</td>\n",
       "    </tr>\n",
       "    <tr>\n",
       "      <th>402</th>\n",
       "      <td>Volkswagen Pickup</td>\n",
       "      <td>44.0</td>\n",
       "      <td>4</td>\n",
       "      <td>97.0</td>\n",
       "      <td>52</td>\n",
       "      <td>2130</td>\n",
       "      <td>24.6</td>\n",
       "      <td>82</td>\n",
       "      <td>Europe</td>\n",
       "      <td>green</td>\n",
       "    </tr>\n",
       "  </tbody>\n",
       "</table>\n",
       "</div>"
      ],
      "text/plain": [
       "                                 Car   MPG  Cylinders  Displacement  \\\n",
       "251  Volkswagen Rabbit Custom Diesel  43.1          4          90.0   \n",
       "316                Volkswagen Rabbit  41.5          4          98.0   \n",
       "332     Volkswagen Rabbit C (Diesel)  44.3          4          90.0   \n",
       "333       Volkswagen Dasher (diesel)  43.4          4          90.0   \n",
       "337             Renault Lecar Deluxe  40.9          4          85.0   \n",
       "402                Volkswagen Pickup  44.0          4          97.0   \n",
       "\n",
       "     Horsepower  Weight  Acceleration  Model  Origin  Color  \n",
       "251          48    1985          21.5     78  Europe   blue  \n",
       "316          76    2144          14.7     80  Europe  green  \n",
       "332          48    2085          21.7     80  Europe   blue  \n",
       "333          48    2335          23.7     80  Europe  green  \n",
       "337           0    1835          17.3     80  Europe    red  \n",
       "402          52    2130          24.6     82  Europe  green  "
      ]
     },
     "execution_count": 39,
     "metadata": {},
     "output_type": "execute_result"
    }
   ],
   "source": [
    "cars.loc[(cars.MPG > 40) ___ (cars.Origin___='Japan')]"
   ]
  },
  {
   "cell_type": "markdown",
   "metadata": {},
   "source": [
    "##### *d) Self-Study (Google).  Find all cars with the keyword \"Renault\"*"
   ]
  },
  {
   "cell_type": "code",
   "execution_count": 40,
   "metadata": {
    "scrolled": true
   },
   "outputs": [
    {
     "data": {
      "text/html": [
       "<div>\n",
       "<style scoped>\n",
       "    .dataframe tbody tr th:only-of-type {\n",
       "        vertical-align: middle;\n",
       "    }\n",
       "\n",
       "    .dataframe tbody tr th {\n",
       "        vertical-align: top;\n",
       "    }\n",
       "\n",
       "    .dataframe thead th {\n",
       "        text-align: right;\n",
       "    }\n",
       "</style>\n",
       "<table border=\"1\" class=\"dataframe\">\n",
       "  <thead>\n",
       "    <tr style=\"text-align: right;\">\n",
       "      <th></th>\n",
       "      <th>Car</th>\n",
       "      <th>MPG</th>\n",
       "      <th>Cylinders</th>\n",
       "      <th>Displacement</th>\n",
       "      <th>Horsepower</th>\n",
       "      <th>Weight</th>\n",
       "      <th>Acceleration</th>\n",
       "      <th>Model</th>\n",
       "      <th>Origin</th>\n",
       "      <th>Color</th>\n",
       "    </tr>\n",
       "  </thead>\n",
       "  <tbody>\n",
       "    <tr>\n",
       "      <th>86</th>\n",
       "      <td>Renault 12 (sw)</td>\n",
       "      <td>26.0</td>\n",
       "      <td>4</td>\n",
       "      <td>96.0</td>\n",
       "      <td>69</td>\n",
       "      <td>2189</td>\n",
       "      <td>18.0</td>\n",
       "      <td>72</td>\n",
       "      <td>Europe</td>\n",
       "      <td>red</td>\n",
       "    </tr>\n",
       "    <tr>\n",
       "      <th>193</th>\n",
       "      <td>Renault 12tl</td>\n",
       "      <td>27.0</td>\n",
       "      <td>4</td>\n",
       "      <td>101.0</td>\n",
       "      <td>83</td>\n",
       "      <td>2202</td>\n",
       "      <td>15.3</td>\n",
       "      <td>76</td>\n",
       "      <td>Europe</td>\n",
       "      <td>blue</td>\n",
       "    </tr>\n",
       "    <tr>\n",
       "      <th>225</th>\n",
       "      <td>Renault 5 GTL</td>\n",
       "      <td>36.0</td>\n",
       "      <td>4</td>\n",
       "      <td>79.0</td>\n",
       "      <td>58</td>\n",
       "      <td>1825</td>\n",
       "      <td>18.6</td>\n",
       "      <td>77</td>\n",
       "      <td>Europe</td>\n",
       "      <td>blue</td>\n",
       "    </tr>\n",
       "    <tr>\n",
       "      <th>337</th>\n",
       "      <td>Renault Lecar Deluxe</td>\n",
       "      <td>40.9</td>\n",
       "      <td>4</td>\n",
       "      <td>85.0</td>\n",
       "      <td>0</td>\n",
       "      <td>1835</td>\n",
       "      <td>17.3</td>\n",
       "      <td>80</td>\n",
       "      <td>Europe</td>\n",
       "      <td>red</td>\n",
       "    </tr>\n",
       "    <tr>\n",
       "      <th>361</th>\n",
       "      <td>Renault 18i</td>\n",
       "      <td>34.5</td>\n",
       "      <td>4</td>\n",
       "      <td>100.0</td>\n",
       "      <td>0</td>\n",
       "      <td>2320</td>\n",
       "      <td>15.8</td>\n",
       "      <td>81</td>\n",
       "      <td>Europe</td>\n",
       "      <td>blue</td>\n",
       "    </tr>\n",
       "  </tbody>\n",
       "</table>\n",
       "</div>"
      ],
      "text/plain": [
       "                      Car   MPG  Cylinders  Displacement  Horsepower  Weight  \\\n",
       "86        Renault 12 (sw)  26.0          4          96.0          69    2189   \n",
       "193          Renault 12tl  27.0          4         101.0          83    2202   \n",
       "225         Renault 5 GTL  36.0          4          79.0          58    1825   \n",
       "337  Renault Lecar Deluxe  40.9          4          85.0           0    1835   \n",
       "361           Renault 18i  34.5          4         100.0           0    2320   \n",
       "\n",
       "     Acceleration  Model  Origin Color  \n",
       "86           18.0     72  Europe   red  \n",
       "193          15.3     76  Europe  blue  \n",
       "225          18.6     77  Europe  blue  \n",
       "337          17.3     80  Europe   red  \n",
       "361          15.8     81  Europe  blue  "
      ]
     },
     "execution_count": 40,
     "metadata": {},
     "output_type": "execute_result"
    }
   ],
   "source": [
    "cars[cars['____'].str.contains(\"____\")]"
   ]
  },
  {
   "cell_type": "code",
   "execution_count": null,
   "metadata": {
    "collapsed": true
   },
   "outputs": [],
   "source": []
  },
  {
   "cell_type": "code",
   "execution_count": null,
   "metadata": {
    "collapsed": true
   },
   "outputs": [],
   "source": []
  },
  {
   "cell_type": "markdown",
   "metadata": {},
   "source": [
    "## 2.5.3. Cleaning: Dealing with missing values, outliers and time formats "
   ]
  },
  {
   "cell_type": "markdown",
   "metadata": {},
   "source": [
    "### Missing Values \n",
    "Real world data, or data \"in the wild\", is rarely standardised. Often, especially with surveys, fields are not filled in and hence we have to deal with missing values. Pandas provides several tools to handle missing data. "
   ]
  },
  {
   "cell_type": "code",
   "execution_count": 50,
   "metadata": {},
   "outputs": [
    {
     "data": {
      "text/html": [
       "<div>\n",
       "<style scoped>\n",
       "    .dataframe tbody tr th:only-of-type {\n",
       "        vertical-align: middle;\n",
       "    }\n",
       "\n",
       "    .dataframe tbody tr th {\n",
       "        vertical-align: top;\n",
       "    }\n",
       "\n",
       "    .dataframe thead th {\n",
       "        text-align: right;\n",
       "    }\n",
       "</style>\n",
       "<table border=\"1\" class=\"dataframe\">\n",
       "  <thead>\n",
       "    <tr style=\"text-align: right;\">\n",
       "      <th></th>\n",
       "      <th>resale_price</th>\n",
       "      <th>lease_commence_date</th>\n",
       "      <th>floor_area_sqm</th>\n",
       "    </tr>\n",
       "  </thead>\n",
       "  <tbody>\n",
       "    <tr>\n",
       "      <th>87705</th>\n",
       "      <td>590000.0</td>\n",
       "      <td>1977</td>\n",
       "      <td>92.0</td>\n",
       "    </tr>\n",
       "    <tr>\n",
       "      <th>86039</th>\n",
       "      <td>490000.0</td>\n",
       "      <td>1978</td>\n",
       "      <td>92.0</td>\n",
       "    </tr>\n",
       "    <tr>\n",
       "      <th>52213</th>\n",
       "      <td>290000.0</td>\n",
       "      <td>1979</td>\n",
       "      <td>68.0</td>\n",
       "    </tr>\n",
       "    <tr>\n",
       "      <th>46561</th>\n",
       "      <td>425000.0</td>\n",
       "      <td>1981</td>\n",
       "      <td>92.0</td>\n",
       "    </tr>\n",
       "    <tr>\n",
       "      <th>69890</th>\n",
       "      <td>760000.0</td>\n",
       "      <td>1996</td>\n",
       "      <td>153.0</td>\n",
       "    </tr>\n",
       "    <tr>\n",
       "      <th>11026</th>\n",
       "      <td>335000.0</td>\n",
       "      <td>1978</td>\n",
       "      <td>67.0</td>\n",
       "    </tr>\n",
       "    <tr>\n",
       "      <th>79036</th>\n",
       "      <td>277000.0</td>\n",
       "      <td>1981</td>\n",
       "      <td>68.0</td>\n",
       "    </tr>\n",
       "    <tr>\n",
       "      <th>75</th>\n",
       "      <td>435000.0</td>\n",
       "      <td>1979</td>\n",
       "      <td>89.0</td>\n",
       "    </tr>\n",
       "  </tbody>\n",
       "</table>\n",
       "</div>"
      ],
      "text/plain": [
       "       resale_price  lease_commence_date  floor_area_sqm\n",
       "87705      590000.0                 1977            92.0\n",
       "86039      490000.0                 1978            92.0\n",
       "52213      290000.0                 1979            68.0\n",
       "46561      425000.0                 1981            92.0\n",
       "69890      760000.0                 1996           153.0\n",
       "11026      335000.0                 1978            67.0\n",
       "79036      277000.0                 1981            68.0\n",
       "75         435000.0                 1979            89.0"
      ]
     },
     "execution_count": 50,
     "metadata": {},
     "output_type": "execute_result"
    }
   ],
   "source": [
    "# Generate a smalldata set with 8 rows and 3 columns to play and rename it as resale_small\n",
    "resale_small = resale.loc[:, ['resale_price','lease_commence_date','floor_area_sqm']].head(8)\n",
    "resale_small"
   ]
  },
  {
   "cell_type": "markdown",
   "metadata": {},
   "source": [
    "#### Always good practice to see whether any missing values"
   ]
  },
  {
   "cell_type": "code",
   "execution_count": 51,
   "metadata": {
    "scrolled": false
   },
   "outputs": [
    {
     "data": {
      "text/html": [
       "<div>\n",
       "<style scoped>\n",
       "    .dataframe tbody tr th:only-of-type {\n",
       "        vertical-align: middle;\n",
       "    }\n",
       "\n",
       "    .dataframe tbody tr th {\n",
       "        vertical-align: top;\n",
       "    }\n",
       "\n",
       "    .dataframe thead th {\n",
       "        text-align: right;\n",
       "    }\n",
       "</style>\n",
       "<table border=\"1\" class=\"dataframe\">\n",
       "  <thead>\n",
       "    <tr style=\"text-align: right;\">\n",
       "      <th></th>\n",
       "      <th>resale_price</th>\n",
       "      <th>lease_commence_date</th>\n",
       "      <th>floor_area_sqm</th>\n",
       "    </tr>\n",
       "  </thead>\n",
       "  <tbody>\n",
       "    <tr>\n",
       "      <th>87705</th>\n",
       "      <td>False</td>\n",
       "      <td>False</td>\n",
       "      <td>False</td>\n",
       "    </tr>\n",
       "    <tr>\n",
       "      <th>86039</th>\n",
       "      <td>False</td>\n",
       "      <td>False</td>\n",
       "      <td>False</td>\n",
       "    </tr>\n",
       "    <tr>\n",
       "      <th>52213</th>\n",
       "      <td>False</td>\n",
       "      <td>False</td>\n",
       "      <td>False</td>\n",
       "    </tr>\n",
       "    <tr>\n",
       "      <th>46561</th>\n",
       "      <td>False</td>\n",
       "      <td>False</td>\n",
       "      <td>False</td>\n",
       "    </tr>\n",
       "    <tr>\n",
       "      <th>69890</th>\n",
       "      <td>False</td>\n",
       "      <td>False</td>\n",
       "      <td>False</td>\n",
       "    </tr>\n",
       "    <tr>\n",
       "      <th>11026</th>\n",
       "      <td>False</td>\n",
       "      <td>False</td>\n",
       "      <td>False</td>\n",
       "    </tr>\n",
       "    <tr>\n",
       "      <th>79036</th>\n",
       "      <td>False</td>\n",
       "      <td>False</td>\n",
       "      <td>False</td>\n",
       "    </tr>\n",
       "    <tr>\n",
       "      <th>75</th>\n",
       "      <td>False</td>\n",
       "      <td>False</td>\n",
       "      <td>False</td>\n",
       "    </tr>\n",
       "  </tbody>\n",
       "</table>\n",
       "</div>"
      ],
      "text/plain": [
       "       resale_price  lease_commence_date  floor_area_sqm\n",
       "87705         False                False           False\n",
       "86039         False                False           False\n",
       "52213         False                False           False\n",
       "46561         False                False           False\n",
       "69890         False                False           False\n",
       "11026         False                False           False\n",
       "79036         False                False           False\n",
       "75            False                False           False"
      ]
     },
     "execution_count": 51,
     "metadata": {},
     "output_type": "execute_result"
    }
   ],
   "source": [
    "##Generate a boolean mask showing missing values \n",
    "resale_small.isnull()"
   ]
  },
  {
   "cell_type": "markdown",
   "metadata": {},
   "source": [
    "Resale_small.isnull() can be overwhelming when we have so many columns and rows\n",
    "***Here is the alternative***"
   ]
  },
  {
   "cell_type": "code",
   "execution_count": 52,
   "metadata": {},
   "outputs": [
    {
     "data": {
      "text/plain": [
       "resale_price           False\n",
       "lease_commence_date    False\n",
       "floor_area_sqm         False\n",
       "dtype: bool"
      ]
     },
     "execution_count": 52,
     "metadata": {},
     "output_type": "execute_result"
    }
   ],
   "source": [
    "# resale_small.isnull() can be overwhelming when we have so many columns and rows\n",
    "# Here is the solution.\n",
    "resale_small.isnull().any()"
   ]
  },
  {
   "cell_type": "markdown",
   "metadata": {},
   "source": [
    "#### The above data has no missing values.   Let us impute some NaN values"
   ]
  },
  {
   "cell_type": "code",
   "execution_count": 53,
   "metadata": {
    "collapsed": true
   },
   "outputs": [],
   "source": [
    "from numpy import nan"
   ]
  },
  {
   "cell_type": "code",
   "execution_count": 54,
   "metadata": {
    "collapsed": true,
    "scrolled": true
   },
   "outputs": [],
   "source": [
    "resale_small.iloc[1:5, 1]=nan"
   ]
  },
  {
   "cell_type": "code",
   "execution_count": 55,
   "metadata": {
    "collapsed": true
   },
   "outputs": [],
   "source": [
    "resale_small.iloc[:2, 2]=nan"
   ]
  },
  {
   "cell_type": "code",
   "execution_count": 56,
   "metadata": {},
   "outputs": [
    {
     "data": {
      "text/html": [
       "<div>\n",
       "<style scoped>\n",
       "    .dataframe tbody tr th:only-of-type {\n",
       "        vertical-align: middle;\n",
       "    }\n",
       "\n",
       "    .dataframe tbody tr th {\n",
       "        vertical-align: top;\n",
       "    }\n",
       "\n",
       "    .dataframe thead th {\n",
       "        text-align: right;\n",
       "    }\n",
       "</style>\n",
       "<table border=\"1\" class=\"dataframe\">\n",
       "  <thead>\n",
       "    <tr style=\"text-align: right;\">\n",
       "      <th></th>\n",
       "      <th>resale_price</th>\n",
       "      <th>lease_commence_date</th>\n",
       "      <th>floor_area_sqm</th>\n",
       "    </tr>\n",
       "  </thead>\n",
       "  <tbody>\n",
       "    <tr>\n",
       "      <th>87705</th>\n",
       "      <td>590000.0</td>\n",
       "      <td>1977.0</td>\n",
       "      <td>NaN</td>\n",
       "    </tr>\n",
       "    <tr>\n",
       "      <th>86039</th>\n",
       "      <td>490000.0</td>\n",
       "      <td>NaN</td>\n",
       "      <td>NaN</td>\n",
       "    </tr>\n",
       "    <tr>\n",
       "      <th>52213</th>\n",
       "      <td>290000.0</td>\n",
       "      <td>NaN</td>\n",
       "      <td>68.0</td>\n",
       "    </tr>\n",
       "    <tr>\n",
       "      <th>46561</th>\n",
       "      <td>425000.0</td>\n",
       "      <td>NaN</td>\n",
       "      <td>92.0</td>\n",
       "    </tr>\n",
       "    <tr>\n",
       "      <th>69890</th>\n",
       "      <td>760000.0</td>\n",
       "      <td>NaN</td>\n",
       "      <td>153.0</td>\n",
       "    </tr>\n",
       "    <tr>\n",
       "      <th>11026</th>\n",
       "      <td>335000.0</td>\n",
       "      <td>1978.0</td>\n",
       "      <td>67.0</td>\n",
       "    </tr>\n",
       "    <tr>\n",
       "      <th>79036</th>\n",
       "      <td>277000.0</td>\n",
       "      <td>1981.0</td>\n",
       "      <td>68.0</td>\n",
       "    </tr>\n",
       "    <tr>\n",
       "      <th>75</th>\n",
       "      <td>435000.0</td>\n",
       "      <td>1979.0</td>\n",
       "      <td>89.0</td>\n",
       "    </tr>\n",
       "  </tbody>\n",
       "</table>\n",
       "</div>"
      ],
      "text/plain": [
       "       resale_price  lease_commence_date  floor_area_sqm\n",
       "87705      590000.0               1977.0             NaN\n",
       "86039      490000.0                  NaN             NaN\n",
       "52213      290000.0                  NaN            68.0\n",
       "46561      425000.0                  NaN            92.0\n",
       "69890      760000.0                  NaN           153.0\n",
       "11026      335000.0               1978.0            67.0\n",
       "79036      277000.0               1981.0            68.0\n",
       "75         435000.0               1979.0            89.0"
      ]
     },
     "execution_count": 56,
     "metadata": {},
     "output_type": "execute_result"
    }
   ],
   "source": [
    "resale_small"
   ]
  },
  {
   "cell_type": "code",
   "execution_count": 57,
   "metadata": {
    "scrolled": true
   },
   "outputs": [
    {
     "data": {
      "text/plain": [
       "resale_price           0\n",
       "lease_commence_date    4\n",
       "floor_area_sqm         2\n",
       "dtype: int64"
      ]
     },
     "execution_count": 57,
     "metadata": {},
     "output_type": "execute_result"
    }
   ],
   "source": [
    "resale_small.isnull().sum()"
   ]
  },
  {
   "cell_type": "markdown",
   "metadata": {},
   "source": [
    "**Now we have 4 null values in lease_commence_date, and 2 missing values in  floor_area_sqm **"
   ]
  },
  {
   "cell_type": "code",
   "execution_count": 58,
   "metadata": {},
   "outputs": [
    {
     "data": {
      "text/html": [
       "<div>\n",
       "<style scoped>\n",
       "    .dataframe tbody tr th:only-of-type {\n",
       "        vertical-align: middle;\n",
       "    }\n",
       "\n",
       "    .dataframe tbody tr th {\n",
       "        vertical-align: top;\n",
       "    }\n",
       "\n",
       "    .dataframe thead th {\n",
       "        text-align: right;\n",
       "    }\n",
       "</style>\n",
       "<table border=\"1\" class=\"dataframe\">\n",
       "  <thead>\n",
       "    <tr style=\"text-align: right;\">\n",
       "      <th></th>\n",
       "      <th>resale_price</th>\n",
       "      <th>lease_commence_date</th>\n",
       "      <th>floor_area_sqm</th>\n",
       "    </tr>\n",
       "  </thead>\n",
       "  <tbody>\n",
       "    <tr>\n",
       "      <th>87705</th>\n",
       "      <td>True</td>\n",
       "      <td>True</td>\n",
       "      <td>False</td>\n",
       "    </tr>\n",
       "    <tr>\n",
       "      <th>86039</th>\n",
       "      <td>True</td>\n",
       "      <td>False</td>\n",
       "      <td>False</td>\n",
       "    </tr>\n",
       "    <tr>\n",
       "      <th>52213</th>\n",
       "      <td>True</td>\n",
       "      <td>False</td>\n",
       "      <td>True</td>\n",
       "    </tr>\n",
       "    <tr>\n",
       "      <th>46561</th>\n",
       "      <td>True</td>\n",
       "      <td>False</td>\n",
       "      <td>True</td>\n",
       "    </tr>\n",
       "    <tr>\n",
       "      <th>69890</th>\n",
       "      <td>True</td>\n",
       "      <td>False</td>\n",
       "      <td>True</td>\n",
       "    </tr>\n",
       "    <tr>\n",
       "      <th>11026</th>\n",
       "      <td>True</td>\n",
       "      <td>True</td>\n",
       "      <td>True</td>\n",
       "    </tr>\n",
       "    <tr>\n",
       "      <th>79036</th>\n",
       "      <td>True</td>\n",
       "      <td>True</td>\n",
       "      <td>True</td>\n",
       "    </tr>\n",
       "    <tr>\n",
       "      <th>75</th>\n",
       "      <td>True</td>\n",
       "      <td>True</td>\n",
       "      <td>True</td>\n",
       "    </tr>\n",
       "  </tbody>\n",
       "</table>\n",
       "</div>"
      ],
      "text/plain": [
       "       resale_price  lease_commence_date  floor_area_sqm\n",
       "87705          True                 True           False\n",
       "86039          True                False           False\n",
       "52213          True                False            True\n",
       "46561          True                False            True\n",
       "69890          True                False            True\n",
       "11026          True                 True            True\n",
       "79036          True                 True            True\n",
       "75             True                 True            True"
      ]
     },
     "execution_count": 58,
     "metadata": {},
     "output_type": "execute_result"
    }
   ],
   "source": [
    "# similarly, create a boolean mask, but this time showing non-missing values \n",
    "resale_small.notnull()"
   ]
  },
  {
   "cell_type": "code",
   "execution_count": 59,
   "metadata": {
    "scrolled": true
   },
   "outputs": [
    {
     "data": {
      "text/html": [
       "<div>\n",
       "<style scoped>\n",
       "    .dataframe tbody tr th:only-of-type {\n",
       "        vertical-align: middle;\n",
       "    }\n",
       "\n",
       "    .dataframe tbody tr th {\n",
       "        vertical-align: top;\n",
       "    }\n",
       "\n",
       "    .dataframe thead th {\n",
       "        text-align: right;\n",
       "    }\n",
       "</style>\n",
       "<table border=\"1\" class=\"dataframe\">\n",
       "  <thead>\n",
       "    <tr style=\"text-align: right;\">\n",
       "      <th></th>\n",
       "      <th>resale_price</th>\n",
       "      <th>lease_commence_date</th>\n",
       "      <th>floor_area_sqm</th>\n",
       "    </tr>\n",
       "  </thead>\n",
       "  <tbody>\n",
       "    <tr>\n",
       "      <th>87705</th>\n",
       "      <td>590000.0</td>\n",
       "      <td>1977.0</td>\n",
       "      <td>NaN</td>\n",
       "    </tr>\n",
       "    <tr>\n",
       "      <th>11026</th>\n",
       "      <td>335000.0</td>\n",
       "      <td>1978.0</td>\n",
       "      <td>67.0</td>\n",
       "    </tr>\n",
       "    <tr>\n",
       "      <th>79036</th>\n",
       "      <td>277000.0</td>\n",
       "      <td>1981.0</td>\n",
       "      <td>68.0</td>\n",
       "    </tr>\n",
       "    <tr>\n",
       "      <th>75</th>\n",
       "      <td>435000.0</td>\n",
       "      <td>1979.0</td>\n",
       "      <td>89.0</td>\n",
       "    </tr>\n",
       "  </tbody>\n",
       "</table>\n",
       "</div>"
      ],
      "text/plain": [
       "       resale_price  lease_commence_date  floor_area_sqm\n",
       "87705      590000.0               1977.0             NaN\n",
       "11026      335000.0               1978.0            67.0\n",
       "79036      277000.0               1981.0            68.0\n",
       "75         435000.0               1979.0            89.0"
      ]
     },
     "execution_count": 59,
     "metadata": {},
     "output_type": "execute_result"
    }
   ],
   "source": [
    "# notnull becomes usef when we use the boolean array as an index \n",
    "# here, all NaN values for lease_commence_date are filtered out \n",
    "\n",
    "resale_small[resale_small.lease_commence_date.notnull()]"
   ]
  },
  {
   "cell_type": "code",
   "execution_count": 60,
   "metadata": {
    "scrolled": true
   },
   "outputs": [
    {
     "data": {
      "text/html": [
       "<div>\n",
       "<style scoped>\n",
       "    .dataframe tbody tr th:only-of-type {\n",
       "        vertical-align: middle;\n",
       "    }\n",
       "\n",
       "    .dataframe tbody tr th {\n",
       "        vertical-align: top;\n",
       "    }\n",
       "\n",
       "    .dataframe thead th {\n",
       "        text-align: right;\n",
       "    }\n",
       "</style>\n",
       "<table border=\"1\" class=\"dataframe\">\n",
       "  <thead>\n",
       "    <tr style=\"text-align: right;\">\n",
       "      <th></th>\n",
       "      <th>resale_price</th>\n",
       "      <th>lease_commence_date</th>\n",
       "      <th>floor_area_sqm</th>\n",
       "    </tr>\n",
       "  </thead>\n",
       "  <tbody>\n",
       "    <tr>\n",
       "      <th>52213</th>\n",
       "      <td>290000.0</td>\n",
       "      <td>NaN</td>\n",
       "      <td>68.0</td>\n",
       "    </tr>\n",
       "    <tr>\n",
       "      <th>46561</th>\n",
       "      <td>425000.0</td>\n",
       "      <td>NaN</td>\n",
       "      <td>92.0</td>\n",
       "    </tr>\n",
       "    <tr>\n",
       "      <th>69890</th>\n",
       "      <td>760000.0</td>\n",
       "      <td>NaN</td>\n",
       "      <td>153.0</td>\n",
       "    </tr>\n",
       "    <tr>\n",
       "      <th>11026</th>\n",
       "      <td>335000.0</td>\n",
       "      <td>1978.0</td>\n",
       "      <td>67.0</td>\n",
       "    </tr>\n",
       "    <tr>\n",
       "      <th>79036</th>\n",
       "      <td>277000.0</td>\n",
       "      <td>1981.0</td>\n",
       "      <td>68.0</td>\n",
       "    </tr>\n",
       "    <tr>\n",
       "      <th>75</th>\n",
       "      <td>435000.0</td>\n",
       "      <td>1979.0</td>\n",
       "      <td>89.0</td>\n",
       "    </tr>\n",
       "  </tbody>\n",
       "</table>\n",
       "</div>"
      ],
      "text/plain": [
       "       resale_price  lease_commence_date  floor_area_sqm\n",
       "52213      290000.0                  NaN            68.0\n",
       "46561      425000.0                  NaN            92.0\n",
       "69890      760000.0                  NaN           153.0\n",
       "11026      335000.0               1978.0            67.0\n",
       "79036      277000.0               1981.0            68.0\n",
       "75         435000.0               1979.0            89.0"
      ]
     },
     "execution_count": 60,
     "metadata": {},
     "output_type": "execute_result"
    }
   ],
   "source": [
    "# notnull becomes usef when we use the boolean array as an index \n",
    "# here, all NaN values for floor_area_sqm are filtered out \n",
    "\n",
    "resale_small[resale_small.floor_area_sqm.notnull()]"
   ]
  },
  {
   "cell_type": "markdown",
   "metadata": {},
   "source": [
    "#### Filtering all nan in  floor_area_sqm and lease_commence_date"
   ]
  },
  {
   "cell_type": "code",
   "execution_count": 61,
   "metadata": {
    "scrolled": true
   },
   "outputs": [
    {
     "data": {
      "text/html": [
       "<div>\n",
       "<style scoped>\n",
       "    .dataframe tbody tr th:only-of-type {\n",
       "        vertical-align: middle;\n",
       "    }\n",
       "\n",
       "    .dataframe tbody tr th {\n",
       "        vertical-align: top;\n",
       "    }\n",
       "\n",
       "    .dataframe thead th {\n",
       "        text-align: right;\n",
       "    }\n",
       "</style>\n",
       "<table border=\"1\" class=\"dataframe\">\n",
       "  <thead>\n",
       "    <tr style=\"text-align: right;\">\n",
       "      <th></th>\n",
       "      <th>resale_price</th>\n",
       "      <th>lease_commence_date</th>\n",
       "      <th>floor_area_sqm</th>\n",
       "    </tr>\n",
       "  </thead>\n",
       "  <tbody>\n",
       "    <tr>\n",
       "      <th>11026</th>\n",
       "      <td>335000.0</td>\n",
       "      <td>1978.0</td>\n",
       "      <td>67.0</td>\n",
       "    </tr>\n",
       "    <tr>\n",
       "      <th>79036</th>\n",
       "      <td>277000.0</td>\n",
       "      <td>1981.0</td>\n",
       "      <td>68.0</td>\n",
       "    </tr>\n",
       "    <tr>\n",
       "      <th>75</th>\n",
       "      <td>435000.0</td>\n",
       "      <td>1979.0</td>\n",
       "      <td>89.0</td>\n",
       "    </tr>\n",
       "  </tbody>\n",
       "</table>\n",
       "</div>"
      ],
      "text/plain": [
       "       resale_price  lease_commence_date  floor_area_sqm\n",
       "11026      335000.0               1978.0            67.0\n",
       "79036      277000.0               1981.0            68.0\n",
       "75         435000.0               1979.0            89.0"
      ]
     },
     "execution_count": 61,
     "metadata": {},
     "output_type": "execute_result"
    }
   ],
   "source": [
    "resale_small[(resale_small.floor_area_sqm.notnull()) & (resale_small.lease_commence_date.notnull())]"
   ]
  },
  {
   "cell_type": "code",
   "execution_count": 62,
   "metadata": {},
   "outputs": [
    {
     "data": {
      "text/html": [
       "<div>\n",
       "<style scoped>\n",
       "    .dataframe tbody tr th:only-of-type {\n",
       "        vertical-align: middle;\n",
       "    }\n",
       "\n",
       "    .dataframe tbody tr th {\n",
       "        vertical-align: top;\n",
       "    }\n",
       "\n",
       "    .dataframe thead th {\n",
       "        text-align: right;\n",
       "    }\n",
       "</style>\n",
       "<table border=\"1\" class=\"dataframe\">\n",
       "  <thead>\n",
       "    <tr style=\"text-align: right;\">\n",
       "      <th></th>\n",
       "      <th>resale_price</th>\n",
       "      <th>lease_commence_date</th>\n",
       "      <th>floor_area_sqm</th>\n",
       "    </tr>\n",
       "  </thead>\n",
       "  <tbody>\n",
       "    <tr>\n",
       "      <th>11026</th>\n",
       "      <td>335000.0</td>\n",
       "      <td>1978.0</td>\n",
       "      <td>67.0</td>\n",
       "    </tr>\n",
       "    <tr>\n",
       "      <th>79036</th>\n",
       "      <td>277000.0</td>\n",
       "      <td>1981.0</td>\n",
       "      <td>68.0</td>\n",
       "    </tr>\n",
       "    <tr>\n",
       "      <th>75</th>\n",
       "      <td>435000.0</td>\n",
       "      <td>1979.0</td>\n",
       "      <td>89.0</td>\n",
       "    </tr>\n",
       "  </tbody>\n",
       "</table>\n",
       "</div>"
      ],
      "text/plain": [
       "       resale_price  lease_commence_date  floor_area_sqm\n",
       "11026      335000.0               1978.0            67.0\n",
       "79036      277000.0               1981.0            68.0\n",
       "75         435000.0               1979.0            89.0"
      ]
     },
     "execution_count": 62,
     "metadata": {},
     "output_type": "execute_result"
    }
   ],
   "source": [
    "resale_small.dropna()"
   ]
  },
  {
   "cell_type": "markdown",
   "metadata": {},
   "source": [
    "Note:\n",
    "* Although both results the first combined syntax and dropna() are the same\n",
    "* dropna() drops ALL records\n",
    "* while the first syntax gives us flexibility only to drop certain conditions (e.g., which columns that we want to drop and it can be one columns, two or more). "
   ]
  },
  {
   "cell_type": "markdown",
   "metadata": {},
   "source": [
    "##### Filling out values\n",
    "Especially when our dataset is small, and we want to preserve information as much as we can, we don't have to drop NaN values. Instead, we can replace them with zero, and retain the information in the other columns. Even better, we can fill NaN values with an average or some other value. "
   ]
  },
  {
   "cell_type": "code",
   "execution_count": 63,
   "metadata": {},
   "outputs": [
    {
     "data": {
      "text/html": [
       "<div>\n",
       "<style scoped>\n",
       "    .dataframe tbody tr th:only-of-type {\n",
       "        vertical-align: middle;\n",
       "    }\n",
       "\n",
       "    .dataframe tbody tr th {\n",
       "        vertical-align: top;\n",
       "    }\n",
       "\n",
       "    .dataframe thead th {\n",
       "        text-align: right;\n",
       "    }\n",
       "</style>\n",
       "<table border=\"1\" class=\"dataframe\">\n",
       "  <thead>\n",
       "    <tr style=\"text-align: right;\">\n",
       "      <th></th>\n",
       "      <th>resale_price</th>\n",
       "      <th>lease_commence_date</th>\n",
       "      <th>floor_area_sqm</th>\n",
       "    </tr>\n",
       "  </thead>\n",
       "  <tbody>\n",
       "    <tr>\n",
       "      <th>87705</th>\n",
       "      <td>590000.0</td>\n",
       "      <td>1977.0</td>\n",
       "      <td>0.0</td>\n",
       "    </tr>\n",
       "    <tr>\n",
       "      <th>86039</th>\n",
       "      <td>490000.0</td>\n",
       "      <td>0.0</td>\n",
       "      <td>0.0</td>\n",
       "    </tr>\n",
       "    <tr>\n",
       "      <th>52213</th>\n",
       "      <td>290000.0</td>\n",
       "      <td>0.0</td>\n",
       "      <td>68.0</td>\n",
       "    </tr>\n",
       "    <tr>\n",
       "      <th>46561</th>\n",
       "      <td>425000.0</td>\n",
       "      <td>0.0</td>\n",
       "      <td>92.0</td>\n",
       "    </tr>\n",
       "    <tr>\n",
       "      <th>69890</th>\n",
       "      <td>760000.0</td>\n",
       "      <td>0.0</td>\n",
       "      <td>153.0</td>\n",
       "    </tr>\n",
       "    <tr>\n",
       "      <th>11026</th>\n",
       "      <td>335000.0</td>\n",
       "      <td>1978.0</td>\n",
       "      <td>67.0</td>\n",
       "    </tr>\n",
       "    <tr>\n",
       "      <th>79036</th>\n",
       "      <td>277000.0</td>\n",
       "      <td>1981.0</td>\n",
       "      <td>68.0</td>\n",
       "    </tr>\n",
       "    <tr>\n",
       "      <th>75</th>\n",
       "      <td>435000.0</td>\n",
       "      <td>1979.0</td>\n",
       "      <td>89.0</td>\n",
       "    </tr>\n",
       "  </tbody>\n",
       "</table>\n",
       "</div>"
      ],
      "text/plain": [
       "       resale_price  lease_commence_date  floor_area_sqm\n",
       "87705      590000.0               1977.0             0.0\n",
       "86039      490000.0                  0.0             0.0\n",
       "52213      290000.0                  0.0            68.0\n",
       "46561      425000.0                  0.0            92.0\n",
       "69890      760000.0                  0.0           153.0\n",
       "11026      335000.0               1978.0            67.0\n",
       "79036      277000.0               1981.0            68.0\n",
       "75         435000.0               1979.0            89.0"
      ]
     },
     "execution_count": 63,
     "metadata": {},
     "output_type": "execute_result"
    }
   ],
   "source": [
    "# filling with zero\n",
    "resale_small.fillna(0)"
   ]
  },
  {
   "cell_type": "code",
   "execution_count": 64,
   "metadata": {},
   "outputs": [
    {
     "data": {
      "text/html": [
       "<div>\n",
       "<style scoped>\n",
       "    .dataframe tbody tr th:only-of-type {\n",
       "        vertical-align: middle;\n",
       "    }\n",
       "\n",
       "    .dataframe tbody tr th {\n",
       "        vertical-align: top;\n",
       "    }\n",
       "\n",
       "    .dataframe thead th {\n",
       "        text-align: right;\n",
       "    }\n",
       "</style>\n",
       "<table border=\"1\" class=\"dataframe\">\n",
       "  <thead>\n",
       "    <tr style=\"text-align: right;\">\n",
       "      <th></th>\n",
       "      <th>resale_price</th>\n",
       "      <th>lease_commence_date</th>\n",
       "      <th>floor_area_sqm</th>\n",
       "    </tr>\n",
       "  </thead>\n",
       "  <tbody>\n",
       "    <tr>\n",
       "      <th>87705</th>\n",
       "      <td>590000.0</td>\n",
       "      <td>1977.0</td>\n",
       "      <td>68.0</td>\n",
       "    </tr>\n",
       "    <tr>\n",
       "      <th>86039</th>\n",
       "      <td>490000.0</td>\n",
       "      <td>1978.0</td>\n",
       "      <td>68.0</td>\n",
       "    </tr>\n",
       "    <tr>\n",
       "      <th>52213</th>\n",
       "      <td>290000.0</td>\n",
       "      <td>1978.0</td>\n",
       "      <td>68.0</td>\n",
       "    </tr>\n",
       "    <tr>\n",
       "      <th>46561</th>\n",
       "      <td>425000.0</td>\n",
       "      <td>1978.0</td>\n",
       "      <td>92.0</td>\n",
       "    </tr>\n",
       "    <tr>\n",
       "      <th>69890</th>\n",
       "      <td>760000.0</td>\n",
       "      <td>1978.0</td>\n",
       "      <td>153.0</td>\n",
       "    </tr>\n",
       "    <tr>\n",
       "      <th>11026</th>\n",
       "      <td>335000.0</td>\n",
       "      <td>1978.0</td>\n",
       "      <td>67.0</td>\n",
       "    </tr>\n",
       "    <tr>\n",
       "      <th>79036</th>\n",
       "      <td>277000.0</td>\n",
       "      <td>1981.0</td>\n",
       "      <td>68.0</td>\n",
       "    </tr>\n",
       "    <tr>\n",
       "      <th>75</th>\n",
       "      <td>435000.0</td>\n",
       "      <td>1979.0</td>\n",
       "      <td>89.0</td>\n",
       "    </tr>\n",
       "  </tbody>\n",
       "</table>\n",
       "</div>"
      ],
      "text/plain": [
       "       resale_price  lease_commence_date  floor_area_sqm\n",
       "87705      590000.0               1977.0            68.0\n",
       "86039      490000.0               1978.0            68.0\n",
       "52213      290000.0               1978.0            68.0\n",
       "46561      425000.0               1978.0            92.0\n",
       "69890      760000.0               1978.0           153.0\n",
       "11026      335000.0               1978.0            67.0\n",
       "79036      277000.0               1981.0            68.0\n",
       "75         435000.0               1979.0            89.0"
      ]
     },
     "execution_count": 64,
     "metadata": {},
     "output_type": "execute_result"
    }
   ],
   "source": [
    "# propagate previous value backward \n",
    "resale_small.fillna(method='bfill')"
   ]
  },
  {
   "cell_type": "code",
   "execution_count": 65,
   "metadata": {},
   "outputs": [
    {
     "data": {
      "text/html": [
       "<div>\n",
       "<style scoped>\n",
       "    .dataframe tbody tr th:only-of-type {\n",
       "        vertical-align: middle;\n",
       "    }\n",
       "\n",
       "    .dataframe tbody tr th {\n",
       "        vertical-align: top;\n",
       "    }\n",
       "\n",
       "    .dataframe thead th {\n",
       "        text-align: right;\n",
       "    }\n",
       "</style>\n",
       "<table border=\"1\" class=\"dataframe\">\n",
       "  <thead>\n",
       "    <tr style=\"text-align: right;\">\n",
       "      <th></th>\n",
       "      <th>resale_price</th>\n",
       "      <th>lease_commence_date</th>\n",
       "      <th>floor_area_sqm</th>\n",
       "    </tr>\n",
       "  </thead>\n",
       "  <tbody>\n",
       "    <tr>\n",
       "      <th>87705</th>\n",
       "      <td>590000.0</td>\n",
       "      <td>1977.0</td>\n",
       "      <td>NaN</td>\n",
       "    </tr>\n",
       "    <tr>\n",
       "      <th>86039</th>\n",
       "      <td>490000.0</td>\n",
       "      <td>1977.0</td>\n",
       "      <td>NaN</td>\n",
       "    </tr>\n",
       "    <tr>\n",
       "      <th>52213</th>\n",
       "      <td>290000.0</td>\n",
       "      <td>1977.0</td>\n",
       "      <td>68.0</td>\n",
       "    </tr>\n",
       "    <tr>\n",
       "      <th>46561</th>\n",
       "      <td>425000.0</td>\n",
       "      <td>1977.0</td>\n",
       "      <td>92.0</td>\n",
       "    </tr>\n",
       "    <tr>\n",
       "      <th>69890</th>\n",
       "      <td>760000.0</td>\n",
       "      <td>1977.0</td>\n",
       "      <td>153.0</td>\n",
       "    </tr>\n",
       "    <tr>\n",
       "      <th>11026</th>\n",
       "      <td>335000.0</td>\n",
       "      <td>1978.0</td>\n",
       "      <td>67.0</td>\n",
       "    </tr>\n",
       "    <tr>\n",
       "      <th>79036</th>\n",
       "      <td>277000.0</td>\n",
       "      <td>1981.0</td>\n",
       "      <td>68.0</td>\n",
       "    </tr>\n",
       "    <tr>\n",
       "      <th>75</th>\n",
       "      <td>435000.0</td>\n",
       "      <td>1979.0</td>\n",
       "      <td>89.0</td>\n",
       "    </tr>\n",
       "  </tbody>\n",
       "</table>\n",
       "</div>"
      ],
      "text/plain": [
       "       resale_price  lease_commence_date  floor_area_sqm\n",
       "87705      590000.0               1977.0             NaN\n",
       "86039      490000.0               1977.0             NaN\n",
       "52213      290000.0               1977.0            68.0\n",
       "46561      425000.0               1977.0            92.0\n",
       "69890      760000.0               1977.0           153.0\n",
       "11026      335000.0               1978.0            67.0\n",
       "79036      277000.0               1981.0            68.0\n",
       "75         435000.0               1979.0            89.0"
      ]
     },
     "execution_count": 65,
     "metadata": {},
     "output_type": "execute_result"
    }
   ],
   "source": [
    "# propagate previous value forward \n",
    "resale_small.fillna(method='ffill')"
   ]
  },
  {
   "cell_type": "code",
   "execution_count": null,
   "metadata": {
    "collapsed": true
   },
   "outputs": [],
   "source": []
  },
  {
   "cell_type": "markdown",
   "metadata": {},
   "source": [
    "## Exercise 2.5.3"
   ]
  },
  {
   "cell_type": "code",
   "execution_count": null,
   "metadata": {
    "collapsed": true
   },
   "outputs": [],
   "source": [
    "cars.iloc[:2, 1]=nan\n",
    "cars.iloc[1:10, 2]=nan"
   ]
  },
  {
   "cell_type": "markdown",
   "metadata": {},
   "source": [
    "###### a) Check the first 10 records and find the NaN"
   ]
  },
  {
   "cell_type": "code",
   "execution_count": 58,
   "metadata": {},
   "outputs": [
    {
     "data": {
      "text/html": [
       "<div>\n",
       "<style scoped>\n",
       "    .dataframe tbody tr th:only-of-type {\n",
       "        vertical-align: middle;\n",
       "    }\n",
       "\n",
       "    .dataframe tbody tr th {\n",
       "        vertical-align: top;\n",
       "    }\n",
       "\n",
       "    .dataframe thead th {\n",
       "        text-align: right;\n",
       "    }\n",
       "</style>\n",
       "<table border=\"1\" class=\"dataframe\">\n",
       "  <thead>\n",
       "    <tr style=\"text-align: right;\">\n",
       "      <th></th>\n",
       "      <th>Car</th>\n",
       "      <th>MPG</th>\n",
       "      <th>Cylinders</th>\n",
       "      <th>Displacement</th>\n",
       "      <th>Horsepower</th>\n",
       "      <th>Weight</th>\n",
       "      <th>Acceleration</th>\n",
       "      <th>Model</th>\n",
       "      <th>Origin</th>\n",
       "      <th>Color</th>\n",
       "    </tr>\n",
       "  </thead>\n",
       "  <tbody>\n",
       "    <tr>\n",
       "      <th>0</th>\n",
       "      <td>Chevrolet Chevelle Malibu</td>\n",
       "      <td>NaN</td>\n",
       "      <td>8.0</td>\n",
       "      <td>307.0</td>\n",
       "      <td>130</td>\n",
       "      <td>3504</td>\n",
       "      <td>12.0</td>\n",
       "      <td>70</td>\n",
       "      <td>US</td>\n",
       "      <td>blue</td>\n",
       "    </tr>\n",
       "    <tr>\n",
       "      <th>1</th>\n",
       "      <td>Buick Skylark 320</td>\n",
       "      <td>NaN</td>\n",
       "      <td>NaN</td>\n",
       "      <td>350.0</td>\n",
       "      <td>165</td>\n",
       "      <td>3693</td>\n",
       "      <td>11.5</td>\n",
       "      <td>70</td>\n",
       "      <td>US</td>\n",
       "      <td>red</td>\n",
       "    </tr>\n",
       "    <tr>\n",
       "      <th>2</th>\n",
       "      <td>Plymouth Satellite</td>\n",
       "      <td>18.0</td>\n",
       "      <td>NaN</td>\n",
       "      <td>318.0</td>\n",
       "      <td>150</td>\n",
       "      <td>3436</td>\n",
       "      <td>11.0</td>\n",
       "      <td>70</td>\n",
       "      <td>US</td>\n",
       "      <td>blue</td>\n",
       "    </tr>\n",
       "    <tr>\n",
       "      <th>3</th>\n",
       "      <td>AMC Rebel SST</td>\n",
       "      <td>16.0</td>\n",
       "      <td>NaN</td>\n",
       "      <td>304.0</td>\n",
       "      <td>150</td>\n",
       "      <td>3433</td>\n",
       "      <td>12.0</td>\n",
       "      <td>70</td>\n",
       "      <td>US</td>\n",
       "      <td>green</td>\n",
       "    </tr>\n",
       "    <tr>\n",
       "      <th>4</th>\n",
       "      <td>Ford Torino</td>\n",
       "      <td>17.0</td>\n",
       "      <td>NaN</td>\n",
       "      <td>302.0</td>\n",
       "      <td>140</td>\n",
       "      <td>3449</td>\n",
       "      <td>10.5</td>\n",
       "      <td>70</td>\n",
       "      <td>US</td>\n",
       "      <td>red</td>\n",
       "    </tr>\n",
       "    <tr>\n",
       "      <th>5</th>\n",
       "      <td>Ford Galaxie 500</td>\n",
       "      <td>15.0</td>\n",
       "      <td>NaN</td>\n",
       "      <td>429.0</td>\n",
       "      <td>198</td>\n",
       "      <td>4341</td>\n",
       "      <td>10.0</td>\n",
       "      <td>70</td>\n",
       "      <td>US</td>\n",
       "      <td>red</td>\n",
       "    </tr>\n",
       "    <tr>\n",
       "      <th>6</th>\n",
       "      <td>Chevrolet Impala</td>\n",
       "      <td>14.0</td>\n",
       "      <td>NaN</td>\n",
       "      <td>454.0</td>\n",
       "      <td>220</td>\n",
       "      <td>4354</td>\n",
       "      <td>9.0</td>\n",
       "      <td>70</td>\n",
       "      <td>US</td>\n",
       "      <td>green</td>\n",
       "    </tr>\n",
       "    <tr>\n",
       "      <th>7</th>\n",
       "      <td>Plymouth Fury iii</td>\n",
       "      <td>14.0</td>\n",
       "      <td>NaN</td>\n",
       "      <td>440.0</td>\n",
       "      <td>215</td>\n",
       "      <td>4312</td>\n",
       "      <td>8.5</td>\n",
       "      <td>70</td>\n",
       "      <td>US</td>\n",
       "      <td>blue</td>\n",
       "    </tr>\n",
       "    <tr>\n",
       "      <th>8</th>\n",
       "      <td>Pontiac Catalina</td>\n",
       "      <td>14.0</td>\n",
       "      <td>NaN</td>\n",
       "      <td>455.0</td>\n",
       "      <td>225</td>\n",
       "      <td>4425</td>\n",
       "      <td>10.0</td>\n",
       "      <td>70</td>\n",
       "      <td>US</td>\n",
       "      <td>blue</td>\n",
       "    </tr>\n",
       "    <tr>\n",
       "      <th>9</th>\n",
       "      <td>AMC Ambassador DPL</td>\n",
       "      <td>15.0</td>\n",
       "      <td>NaN</td>\n",
       "      <td>390.0</td>\n",
       "      <td>190</td>\n",
       "      <td>3850</td>\n",
       "      <td>8.5</td>\n",
       "      <td>70</td>\n",
       "      <td>US</td>\n",
       "      <td>green</td>\n",
       "    </tr>\n",
       "    <tr>\n",
       "      <th>10</th>\n",
       "      <td>Citroen DS-21 Pallas</td>\n",
       "      <td>0.0</td>\n",
       "      <td>4.0</td>\n",
       "      <td>133.0</td>\n",
       "      <td>115</td>\n",
       "      <td>3090</td>\n",
       "      <td>17.5</td>\n",
       "      <td>70</td>\n",
       "      <td>Europe</td>\n",
       "      <td>blue</td>\n",
       "    </tr>\n",
       "    <tr>\n",
       "      <th>11</th>\n",
       "      <td>Chevrolet Chevelle Concours (sw)</td>\n",
       "      <td>0.0</td>\n",
       "      <td>8.0</td>\n",
       "      <td>350.0</td>\n",
       "      <td>165</td>\n",
       "      <td>4142</td>\n",
       "      <td>11.5</td>\n",
       "      <td>70</td>\n",
       "      <td>US</td>\n",
       "      <td>blue</td>\n",
       "    </tr>\n",
       "  </tbody>\n",
       "</table>\n",
       "</div>"
      ],
      "text/plain": [
       "                                 Car   MPG  Cylinders  Displacement  \\\n",
       "0          Chevrolet Chevelle Malibu   NaN        8.0         307.0   \n",
       "1                  Buick Skylark 320   NaN        NaN         350.0   \n",
       "2                 Plymouth Satellite  18.0        NaN         318.0   \n",
       "3                      AMC Rebel SST  16.0        NaN         304.0   \n",
       "4                        Ford Torino  17.0        NaN         302.0   \n",
       "5                   Ford Galaxie 500  15.0        NaN         429.0   \n",
       "6                   Chevrolet Impala  14.0        NaN         454.0   \n",
       "7                  Plymouth Fury iii  14.0        NaN         440.0   \n",
       "8                   Pontiac Catalina  14.0        NaN         455.0   \n",
       "9                 AMC Ambassador DPL  15.0        NaN         390.0   \n",
       "10              Citroen DS-21 Pallas   0.0        4.0         133.0   \n",
       "11  Chevrolet Chevelle Concours (sw)   0.0        8.0         350.0   \n",
       "\n",
       "    Horsepower  Weight  Acceleration  Model  Origin  Color  \n",
       "0          130    3504          12.0     70      US   blue  \n",
       "1          165    3693          11.5     70      US    red  \n",
       "2          150    3436          11.0     70      US   blue  \n",
       "3          150    3433          12.0     70      US  green  \n",
       "4          140    3449          10.5     70      US    red  \n",
       "5          198    4341          10.0     70      US    red  \n",
       "6          220    4354           9.0     70      US  green  \n",
       "7          215    4312           8.5     70      US   blue  \n",
       "8          225    4425          10.0     70      US   blue  \n",
       "9          190    3850           8.5     70      US  green  \n",
       "10         115    3090          17.5     70  Europe   blue  \n",
       "11         165    4142          11.5     70      US   blue  "
      ]
     },
     "execution_count": 58,
     "metadata": {},
     "output_type": "execute_result"
    }
   ],
   "source": [
    "cars.head(___)"
   ]
  },
  {
   "cell_type": "markdown",
   "metadata": {},
   "source": [
    "##### b) Propagate previous value backward (fillna)"
   ]
  },
  {
   "cell_type": "code",
   "execution_count": 59,
   "metadata": {},
   "outputs": [
    {
     "data": {
      "text/html": [
       "<div>\n",
       "<style scoped>\n",
       "    .dataframe tbody tr th:only-of-type {\n",
       "        vertical-align: middle;\n",
       "    }\n",
       "\n",
       "    .dataframe tbody tr th {\n",
       "        vertical-align: top;\n",
       "    }\n",
       "\n",
       "    .dataframe thead th {\n",
       "        text-align: right;\n",
       "    }\n",
       "</style>\n",
       "<table border=\"1\" class=\"dataframe\">\n",
       "  <thead>\n",
       "    <tr style=\"text-align: right;\">\n",
       "      <th></th>\n",
       "      <th>Car</th>\n",
       "      <th>MPG</th>\n",
       "      <th>Cylinders</th>\n",
       "      <th>Displacement</th>\n",
       "      <th>Horsepower</th>\n",
       "      <th>Weight</th>\n",
       "      <th>Acceleration</th>\n",
       "      <th>Model</th>\n",
       "      <th>Origin</th>\n",
       "      <th>Color</th>\n",
       "    </tr>\n",
       "  </thead>\n",
       "  <tbody>\n",
       "    <tr>\n",
       "      <th>0</th>\n",
       "      <td>Chevrolet Chevelle Malibu</td>\n",
       "      <td>18.0</td>\n",
       "      <td>8.0</td>\n",
       "      <td>307.0</td>\n",
       "      <td>130</td>\n",
       "      <td>3504</td>\n",
       "      <td>12.0</td>\n",
       "      <td>70</td>\n",
       "      <td>US</td>\n",
       "      <td>blue</td>\n",
       "    </tr>\n",
       "    <tr>\n",
       "      <th>1</th>\n",
       "      <td>Buick Skylark 320</td>\n",
       "      <td>18.0</td>\n",
       "      <td>4.0</td>\n",
       "      <td>350.0</td>\n",
       "      <td>165</td>\n",
       "      <td>3693</td>\n",
       "      <td>11.5</td>\n",
       "      <td>70</td>\n",
       "      <td>US</td>\n",
       "      <td>red</td>\n",
       "    </tr>\n",
       "    <tr>\n",
       "      <th>2</th>\n",
       "      <td>Plymouth Satellite</td>\n",
       "      <td>18.0</td>\n",
       "      <td>4.0</td>\n",
       "      <td>318.0</td>\n",
       "      <td>150</td>\n",
       "      <td>3436</td>\n",
       "      <td>11.0</td>\n",
       "      <td>70</td>\n",
       "      <td>US</td>\n",
       "      <td>blue</td>\n",
       "    </tr>\n",
       "    <tr>\n",
       "      <th>3</th>\n",
       "      <td>AMC Rebel SST</td>\n",
       "      <td>16.0</td>\n",
       "      <td>4.0</td>\n",
       "      <td>304.0</td>\n",
       "      <td>150</td>\n",
       "      <td>3433</td>\n",
       "      <td>12.0</td>\n",
       "      <td>70</td>\n",
       "      <td>US</td>\n",
       "      <td>green</td>\n",
       "    </tr>\n",
       "    <tr>\n",
       "      <th>4</th>\n",
       "      <td>Ford Torino</td>\n",
       "      <td>17.0</td>\n",
       "      <td>4.0</td>\n",
       "      <td>302.0</td>\n",
       "      <td>140</td>\n",
       "      <td>3449</td>\n",
       "      <td>10.5</td>\n",
       "      <td>70</td>\n",
       "      <td>US</td>\n",
       "      <td>red</td>\n",
       "    </tr>\n",
       "    <tr>\n",
       "      <th>5</th>\n",
       "      <td>Ford Galaxie 500</td>\n",
       "      <td>15.0</td>\n",
       "      <td>4.0</td>\n",
       "      <td>429.0</td>\n",
       "      <td>198</td>\n",
       "      <td>4341</td>\n",
       "      <td>10.0</td>\n",
       "      <td>70</td>\n",
       "      <td>US</td>\n",
       "      <td>red</td>\n",
       "    </tr>\n",
       "    <tr>\n",
       "      <th>6</th>\n",
       "      <td>Chevrolet Impala</td>\n",
       "      <td>14.0</td>\n",
       "      <td>4.0</td>\n",
       "      <td>454.0</td>\n",
       "      <td>220</td>\n",
       "      <td>4354</td>\n",
       "      <td>9.0</td>\n",
       "      <td>70</td>\n",
       "      <td>US</td>\n",
       "      <td>green</td>\n",
       "    </tr>\n",
       "    <tr>\n",
       "      <th>7</th>\n",
       "      <td>Plymouth Fury iii</td>\n",
       "      <td>14.0</td>\n",
       "      <td>4.0</td>\n",
       "      <td>440.0</td>\n",
       "      <td>215</td>\n",
       "      <td>4312</td>\n",
       "      <td>8.5</td>\n",
       "      <td>70</td>\n",
       "      <td>US</td>\n",
       "      <td>blue</td>\n",
       "    </tr>\n",
       "    <tr>\n",
       "      <th>8</th>\n",
       "      <td>Pontiac Catalina</td>\n",
       "      <td>14.0</td>\n",
       "      <td>4.0</td>\n",
       "      <td>455.0</td>\n",
       "      <td>225</td>\n",
       "      <td>4425</td>\n",
       "      <td>10.0</td>\n",
       "      <td>70</td>\n",
       "      <td>US</td>\n",
       "      <td>blue</td>\n",
       "    </tr>\n",
       "    <tr>\n",
       "      <th>9</th>\n",
       "      <td>AMC Ambassador DPL</td>\n",
       "      <td>15.0</td>\n",
       "      <td>4.0</td>\n",
       "      <td>390.0</td>\n",
       "      <td>190</td>\n",
       "      <td>3850</td>\n",
       "      <td>8.5</td>\n",
       "      <td>70</td>\n",
       "      <td>US</td>\n",
       "      <td>green</td>\n",
       "    </tr>\n",
       "    <tr>\n",
       "      <th>10</th>\n",
       "      <td>Citroen DS-21 Pallas</td>\n",
       "      <td>0.0</td>\n",
       "      <td>4.0</td>\n",
       "      <td>133.0</td>\n",
       "      <td>115</td>\n",
       "      <td>3090</td>\n",
       "      <td>17.5</td>\n",
       "      <td>70</td>\n",
       "      <td>Europe</td>\n",
       "      <td>blue</td>\n",
       "    </tr>\n",
       "  </tbody>\n",
       "</table>\n",
       "</div>"
      ],
      "text/plain": [
       "                          Car   MPG  Cylinders  Displacement  Horsepower  \\\n",
       "0   Chevrolet Chevelle Malibu  18.0        8.0         307.0         130   \n",
       "1           Buick Skylark 320  18.0        4.0         350.0         165   \n",
       "2          Plymouth Satellite  18.0        4.0         318.0         150   \n",
       "3               AMC Rebel SST  16.0        4.0         304.0         150   \n",
       "4                 Ford Torino  17.0        4.0         302.0         140   \n",
       "5            Ford Galaxie 500  15.0        4.0         429.0         198   \n",
       "6            Chevrolet Impala  14.0        4.0         454.0         220   \n",
       "7           Plymouth Fury iii  14.0        4.0         440.0         215   \n",
       "8            Pontiac Catalina  14.0        4.0         455.0         225   \n",
       "9          AMC Ambassador DPL  15.0        4.0         390.0         190   \n",
       "10       Citroen DS-21 Pallas   0.0        4.0         133.0         115   \n",
       "\n",
       "    Weight  Acceleration  Model  Origin  Color  \n",
       "0     3504          12.0     70      US   blue  \n",
       "1     3693          11.5     70      US    red  \n",
       "2     3436          11.0     70      US   blue  \n",
       "3     3433          12.0     70      US  green  \n",
       "4     3449          10.5     70      US    red  \n",
       "5     4341          10.0     70      US    red  \n",
       "6     4354           9.0     70      US  green  \n",
       "7     4312           8.5     70      US   blue  \n",
       "8     4425          10.0     70      US   blue  \n",
       "9     3850           8.5     70      US  green  \n",
       "10    3090          17.5     70  Europe   blue  "
      ]
     },
     "execution_count": 59,
     "metadata": {},
     "output_type": "execute_result"
    }
   ],
   "source": [
    "cars._____(method='bfill').head(11)"
   ]
  },
  {
   "cell_type": "code",
   "execution_count": null,
   "metadata": {
    "collapsed": true
   },
   "outputs": [],
   "source": []
  },
  {
   "cell_type": "markdown",
   "metadata": {},
   "source": [
    "## 2.5.4.Transforming Data with a Mapping"
   ]
  },
  {
   "cell_type": "code",
   "execution_count": 67,
   "metadata": {
    "scrolled": false
   },
   "outputs": [
    {
     "data": {
      "text/plain": [
       "array(['ANG MO KIO', 'BEDOK', 'BISHAN', 'BUKIT BATOK', 'BUKIT MERAH',\n",
       "       'BUKIT PANJANG', 'BUKIT TIMAH', 'CENTRAL AREA', 'CHOA CHU KANG',\n",
       "       'CLEMENTI', 'GEYLANG', 'HOUGANG', 'JURONG EAST', 'JURONG WEST',\n",
       "       'KALLANG/WHAMPOA', 'MARINE PARADE', 'PASIR RIS', 'PUNGGOL',\n",
       "       'QUEENSTOWN', 'SEMBAWANG', 'SENGKANG', 'SERANGOON', 'TAMPINES',\n",
       "       'TOA PAYOH', 'WOODLANDS', 'YISHUN'], dtype=object)"
      ]
     },
     "execution_count": 67,
     "metadata": {},
     "output_type": "execute_result"
    }
   ],
   "source": [
    "resale.town.unique()"
   ]
  },
  {
   "cell_type": "code",
   "execution_count": 68,
   "metadata": {},
   "outputs": [
    {
     "data": {
      "text/html": [
       "<div>\n",
       "<style scoped>\n",
       "    .dataframe tbody tr th:only-of-type {\n",
       "        vertical-align: middle;\n",
       "    }\n",
       "\n",
       "    .dataframe tbody tr th {\n",
       "        vertical-align: top;\n",
       "    }\n",
       "\n",
       "    .dataframe thead th {\n",
       "        text-align: right;\n",
       "    }\n",
       "</style>\n",
       "<table border=\"1\" class=\"dataframe\">\n",
       "  <thead>\n",
       "    <tr style=\"text-align: right;\">\n",
       "      <th></th>\n",
       "      <th>month</th>\n",
       "      <th>town</th>\n",
       "      <th>flat_type</th>\n",
       "      <th>floor_area_sqm</th>\n",
       "      <th>lease_commence_date</th>\n",
       "      <th>resale_price</th>\n",
       "    </tr>\n",
       "  </thead>\n",
       "  <tbody>\n",
       "    <tr>\n",
       "      <th>86710</th>\n",
       "      <td>2016-10</td>\n",
       "      <td>JURONG EAST</td>\n",
       "      <td>4 ROOM</td>\n",
       "      <td>102.0</td>\n",
       "      <td>1998</td>\n",
       "      <td>465000.0</td>\n",
       "    </tr>\n",
       "    <tr>\n",
       "      <th>48935</th>\n",
       "      <td>2014-10</td>\n",
       "      <td>QUEENSTOWN</td>\n",
       "      <td>3 ROOM</td>\n",
       "      <td>65.0</td>\n",
       "      <td>1975</td>\n",
       "      <td>430000.0</td>\n",
       "    </tr>\n",
       "    <tr>\n",
       "      <th>70204</th>\n",
       "      <td>2015-12</td>\n",
       "      <td>CHOA CHU KANG</td>\n",
       "      <td>4 ROOM</td>\n",
       "      <td>104.0</td>\n",
       "      <td>1990</td>\n",
       "      <td>365000.0</td>\n",
       "    </tr>\n",
       "    <tr>\n",
       "      <th>9350</th>\n",
       "      <td>2012-07</td>\n",
       "      <td>BUKIT PANJANG</td>\n",
       "      <td>5 ROOM</td>\n",
       "      <td>122.0</td>\n",
       "      <td>1988</td>\n",
       "      <td>470000.0</td>\n",
       "    </tr>\n",
       "    <tr>\n",
       "      <th>76354</th>\n",
       "      <td>2016-04</td>\n",
       "      <td>PASIR RIS</td>\n",
       "      <td>4 ROOM</td>\n",
       "      <td>106.0</td>\n",
       "      <td>1990</td>\n",
       "      <td>390000.0</td>\n",
       "    </tr>\n",
       "    <tr>\n",
       "      <th>18594</th>\n",
       "      <td>2012-12</td>\n",
       "      <td>BEDOK</td>\n",
       "      <td>3 ROOM</td>\n",
       "      <td>67.0</td>\n",
       "      <td>1977</td>\n",
       "      <td>335000.0</td>\n",
       "    </tr>\n",
       "    <tr>\n",
       "      <th>94393</th>\n",
       "      <td>2017-03</td>\n",
       "      <td>TAMPINES</td>\n",
       "      <td>4 ROOM</td>\n",
       "      <td>108.0</td>\n",
       "      <td>1987</td>\n",
       "      <td>443000.0</td>\n",
       "    </tr>\n",
       "    <tr>\n",
       "      <th>40805</th>\n",
       "      <td>2014-04</td>\n",
       "      <td>TAMPINES</td>\n",
       "      <td>3 ROOM</td>\n",
       "      <td>78.0</td>\n",
       "      <td>1985</td>\n",
       "      <td>370000.0</td>\n",
       "    </tr>\n",
       "    <tr>\n",
       "      <th>99908</th>\n",
       "      <td>2017-06</td>\n",
       "      <td>SERANGOON</td>\n",
       "      <td>5 ROOM</td>\n",
       "      <td>140.0</td>\n",
       "      <td>1985</td>\n",
       "      <td>518000.0</td>\n",
       "    </tr>\n",
       "    <tr>\n",
       "      <th>23904</th>\n",
       "      <td>2013-04</td>\n",
       "      <td>ANG MO KIO</td>\n",
       "      <td>5 ROOM</td>\n",
       "      <td>110.0</td>\n",
       "      <td>2006</td>\n",
       "      <td>780000.0</td>\n",
       "    </tr>\n",
       "    <tr>\n",
       "      <th>52093</th>\n",
       "      <td>2014-12</td>\n",
       "      <td>WOODLANDS</td>\n",
       "      <td>5 ROOM</td>\n",
       "      <td>119.0</td>\n",
       "      <td>1996</td>\n",
       "      <td>475000.0</td>\n",
       "    </tr>\n",
       "    <tr>\n",
       "      <th>97508</th>\n",
       "      <td>2017-05</td>\n",
       "      <td>JURONG WEST</td>\n",
       "      <td>5 ROOM</td>\n",
       "      <td>120.0</td>\n",
       "      <td>1998</td>\n",
       "      <td>488000.0</td>\n",
       "    </tr>\n",
       "    <tr>\n",
       "      <th>33845</th>\n",
       "      <td>2013-10</td>\n",
       "      <td>YISHUN</td>\n",
       "      <td>4 ROOM</td>\n",
       "      <td>89.0</td>\n",
       "      <td>1987</td>\n",
       "      <td>392000.0</td>\n",
       "    </tr>\n",
       "    <tr>\n",
       "      <th>27673</th>\n",
       "      <td>2013-06</td>\n",
       "      <td>JURONG EAST</td>\n",
       "      <td>3 ROOM</td>\n",
       "      <td>67.0</td>\n",
       "      <td>1981</td>\n",
       "      <td>360000.0</td>\n",
       "    </tr>\n",
       "    <tr>\n",
       "      <th>52094</th>\n",
       "      <td>2014-12</td>\n",
       "      <td>WOODLANDS</td>\n",
       "      <td>5 ROOM</td>\n",
       "      <td>119.0</td>\n",
       "      <td>1997</td>\n",
       "      <td>435000.0</td>\n",
       "    </tr>\n",
       "    <tr>\n",
       "      <th>93889</th>\n",
       "      <td>2017-03</td>\n",
       "      <td>PASIR RIS</td>\n",
       "      <td>5 ROOM</td>\n",
       "      <td>128.0</td>\n",
       "      <td>1996</td>\n",
       "      <td>455000.0</td>\n",
       "    </tr>\n",
       "    <tr>\n",
       "      <th>89067</th>\n",
       "      <td>2016-11</td>\n",
       "      <td>WOODLANDS</td>\n",
       "      <td>4 ROOM</td>\n",
       "      <td>103.0</td>\n",
       "      <td>1993</td>\n",
       "      <td>360000.0</td>\n",
       "    </tr>\n",
       "    <tr>\n",
       "      <th>9775</th>\n",
       "      <td>2012-07</td>\n",
       "      <td>JURONG WEST</td>\n",
       "      <td>3 ROOM</td>\n",
       "      <td>59.0</td>\n",
       "      <td>1978</td>\n",
       "      <td>287000.0</td>\n",
       "    </tr>\n",
       "    <tr>\n",
       "      <th>21135</th>\n",
       "      <td>2013-01</td>\n",
       "      <td>SENGKANG</td>\n",
       "      <td>4 ROOM</td>\n",
       "      <td>90.0</td>\n",
       "      <td>2009</td>\n",
       "      <td>610000.0</td>\n",
       "    </tr>\n",
       "    <tr>\n",
       "      <th>7331</th>\n",
       "      <td>2012-06</td>\n",
       "      <td>CENTRAL AREA</td>\n",
       "      <td>3 ROOM</td>\n",
       "      <td>67.0</td>\n",
       "      <td>1984</td>\n",
       "      <td>485000.0</td>\n",
       "    </tr>\n",
       "    <tr>\n",
       "      <th>79885</th>\n",
       "      <td>2016-06</td>\n",
       "      <td>JURONG WEST</td>\n",
       "      <td>5 ROOM</td>\n",
       "      <td>109.0</td>\n",
       "      <td>1979</td>\n",
       "      <td>410000.0</td>\n",
       "    </tr>\n",
       "    <tr>\n",
       "      <th>56644</th>\n",
       "      <td>2015-03</td>\n",
       "      <td>PASIR RIS</td>\n",
       "      <td>EXECUTIVE</td>\n",
       "      <td>146.0</td>\n",
       "      <td>1989</td>\n",
       "      <td>585000.0</td>\n",
       "    </tr>\n",
       "    <tr>\n",
       "      <th>81304</th>\n",
       "      <td>2016-07</td>\n",
       "      <td>CHOA CHU KANG</td>\n",
       "      <td>5 ROOM</td>\n",
       "      <td>110.0</td>\n",
       "      <td>2002</td>\n",
       "      <td>410000.0</td>\n",
       "    </tr>\n",
       "  </tbody>\n",
       "</table>\n",
       "</div>"
      ],
      "text/plain": [
       "         month           town  flat_type  floor_area_sqm  lease_commence_date  \\\n",
       "86710  2016-10    JURONG EAST     4 ROOM           102.0                 1998   \n",
       "48935  2014-10     QUEENSTOWN     3 ROOM            65.0                 1975   \n",
       "70204  2015-12  CHOA CHU KANG     4 ROOM           104.0                 1990   \n",
       "9350   2012-07  BUKIT PANJANG     5 ROOM           122.0                 1988   \n",
       "76354  2016-04      PASIR RIS     4 ROOM           106.0                 1990   \n",
       "18594  2012-12          BEDOK     3 ROOM            67.0                 1977   \n",
       "94393  2017-03       TAMPINES     4 ROOM           108.0                 1987   \n",
       "40805  2014-04       TAMPINES     3 ROOM            78.0                 1985   \n",
       "99908  2017-06      SERANGOON     5 ROOM           140.0                 1985   \n",
       "23904  2013-04     ANG MO KIO     5 ROOM           110.0                 2006   \n",
       "52093  2014-12      WOODLANDS     5 ROOM           119.0                 1996   \n",
       "97508  2017-05    JURONG WEST     5 ROOM           120.0                 1998   \n",
       "33845  2013-10         YISHUN     4 ROOM            89.0                 1987   \n",
       "27673  2013-06    JURONG EAST     3 ROOM            67.0                 1981   \n",
       "52094  2014-12      WOODLANDS     5 ROOM           119.0                 1997   \n",
       "93889  2017-03      PASIR RIS     5 ROOM           128.0                 1996   \n",
       "89067  2016-11      WOODLANDS     4 ROOM           103.0                 1993   \n",
       "9775   2012-07    JURONG WEST     3 ROOM            59.0                 1978   \n",
       "21135  2013-01       SENGKANG     4 ROOM            90.0                 2009   \n",
       "7331   2012-06   CENTRAL AREA     3 ROOM            67.0                 1984   \n",
       "79885  2016-06    JURONG WEST     5 ROOM           109.0                 1979   \n",
       "56644  2015-03      PASIR RIS  EXECUTIVE           146.0                 1989   \n",
       "81304  2016-07  CHOA CHU KANG     5 ROOM           110.0                 2002   \n",
       "\n",
       "       resale_price  \n",
       "86710      465000.0  \n",
       "48935      430000.0  \n",
       "70204      365000.0  \n",
       "9350       470000.0  \n",
       "76354      390000.0  \n",
       "18594      335000.0  \n",
       "94393      443000.0  \n",
       "40805      370000.0  \n",
       "99908      518000.0  \n",
       "23904      780000.0  \n",
       "52093      475000.0  \n",
       "97508      488000.0  \n",
       "33845      392000.0  \n",
       "27673      360000.0  \n",
       "52094      435000.0  \n",
       "93889      455000.0  \n",
       "89067      360000.0  \n",
       "9775       287000.0  \n",
       "21135      610000.0  \n",
       "7331       485000.0  \n",
       "79885      410000.0  \n",
       "56644      585000.0  \n",
       "81304      410000.0  "
      ]
     },
     "execution_count": 68,
     "metadata": {},
     "output_type": "execute_result"
    }
   ],
   "source": [
    "district = resale.sample(n=23).copy()\n",
    "district"
   ]
  },
  {
   "cell_type": "code",
   "execution_count": 69,
   "metadata": {
    "collapsed": true
   },
   "outputs": [],
   "source": [
    "# load data \n",
    "resale = pd.read_csv(\"hdb_munging.csv\", index_col=0)\n"
   ]
  },
  {
   "cell_type": "code",
   "execution_count": 70,
   "metadata": {
    "collapsed": true
   },
   "outputs": [],
   "source": [
    "mapTownRegion = {\n",
    "'ANG MO KIO':'North East',\n",
    "'BEDOK':'East',\n",
    "'BISHAN':'Central',\n",
    "'BUKIT BATOK':'West',\n",
    "'BUKIT MERAH':'Central',\n",
    "'BUKIT PANJANG':'West',\n",
    "'BUKIT TIMAH':'Central',\n",
    "'CENTRAL AREA':'Central',\n",
    "'CHOA CHU KANG':'West',\n",
    "'CLEMENTI':'West',\n",
    "'GEYLANG':'Central',\n",
    "'HOUGANG':'North East',\n",
    "'JURONG EAST':'West',\n",
    "'JURONG WEST':'West',\n",
    "'KALLANG/WHAMPOA':'Central',\n",
    "'MARINE PARADE':'East',\n",
    "'PASIR RIS':'East',\n",
    "'PUNGGOL':'North East',\n",
    "'QUEENSTOWN':'Central',\n",
    "'SEMBAWANG':'North',\n",
    "'SENGKANG':'North East',\n",
    "'SERANGOON':'North East',\n",
    "'TAMPINES':'East',\n",
    "'TOA PAYOH':'Central',\n",
    "'WOODLANDS':'North',\n",
    "'YISHUN':'North',\n",
    "\n",
    "}\n",
    "\n",
    "\n"
   ]
  },
  {
   "cell_type": "markdown",
   "metadata": {},
   "source": [
    "When we have many values (e.g., millions of rows), it is worth the effort to use mapping."
   ]
  },
  {
   "cell_type": "code",
   "execution_count": 71,
   "metadata": {},
   "outputs": [
    {
     "data": {
      "text/html": [
       "<div>\n",
       "<style scoped>\n",
       "    .dataframe tbody tr th:only-of-type {\n",
       "        vertical-align: middle;\n",
       "    }\n",
       "\n",
       "    .dataframe tbody tr th {\n",
       "        vertical-align: top;\n",
       "    }\n",
       "\n",
       "    .dataframe thead th {\n",
       "        text-align: right;\n",
       "    }\n",
       "</style>\n",
       "<table border=\"1\" class=\"dataframe\">\n",
       "  <thead>\n",
       "    <tr style=\"text-align: right;\">\n",
       "      <th></th>\n",
       "      <th>month</th>\n",
       "      <th>town</th>\n",
       "      <th>flat_type</th>\n",
       "      <th>floor_area_sqm</th>\n",
       "      <th>lease_commence_date</th>\n",
       "      <th>resale_price</th>\n",
       "      <th>area</th>\n",
       "    </tr>\n",
       "  </thead>\n",
       "  <tbody>\n",
       "    <tr>\n",
       "      <th>86710</th>\n",
       "      <td>2016-10</td>\n",
       "      <td>JURONG EAST</td>\n",
       "      <td>4 ROOM</td>\n",
       "      <td>102.0</td>\n",
       "      <td>1998</td>\n",
       "      <td>465000.0</td>\n",
       "      <td>West</td>\n",
       "    </tr>\n",
       "    <tr>\n",
       "      <th>48935</th>\n",
       "      <td>2014-10</td>\n",
       "      <td>QUEENSTOWN</td>\n",
       "      <td>3 ROOM</td>\n",
       "      <td>65.0</td>\n",
       "      <td>1975</td>\n",
       "      <td>430000.0</td>\n",
       "      <td>Central</td>\n",
       "    </tr>\n",
       "    <tr>\n",
       "      <th>70204</th>\n",
       "      <td>2015-12</td>\n",
       "      <td>CHOA CHU KANG</td>\n",
       "      <td>4 ROOM</td>\n",
       "      <td>104.0</td>\n",
       "      <td>1990</td>\n",
       "      <td>365000.0</td>\n",
       "      <td>West</td>\n",
       "    </tr>\n",
       "    <tr>\n",
       "      <th>9350</th>\n",
       "      <td>2012-07</td>\n",
       "      <td>BUKIT PANJANG</td>\n",
       "      <td>5 ROOM</td>\n",
       "      <td>122.0</td>\n",
       "      <td>1988</td>\n",
       "      <td>470000.0</td>\n",
       "      <td>West</td>\n",
       "    </tr>\n",
       "    <tr>\n",
       "      <th>76354</th>\n",
       "      <td>2016-04</td>\n",
       "      <td>PASIR RIS</td>\n",
       "      <td>4 ROOM</td>\n",
       "      <td>106.0</td>\n",
       "      <td>1990</td>\n",
       "      <td>390000.0</td>\n",
       "      <td>East</td>\n",
       "    </tr>\n",
       "    <tr>\n",
       "      <th>18594</th>\n",
       "      <td>2012-12</td>\n",
       "      <td>BEDOK</td>\n",
       "      <td>3 ROOM</td>\n",
       "      <td>67.0</td>\n",
       "      <td>1977</td>\n",
       "      <td>335000.0</td>\n",
       "      <td>East</td>\n",
       "    </tr>\n",
       "    <tr>\n",
       "      <th>94393</th>\n",
       "      <td>2017-03</td>\n",
       "      <td>TAMPINES</td>\n",
       "      <td>4 ROOM</td>\n",
       "      <td>108.0</td>\n",
       "      <td>1987</td>\n",
       "      <td>443000.0</td>\n",
       "      <td>East</td>\n",
       "    </tr>\n",
       "    <tr>\n",
       "      <th>40805</th>\n",
       "      <td>2014-04</td>\n",
       "      <td>TAMPINES</td>\n",
       "      <td>3 ROOM</td>\n",
       "      <td>78.0</td>\n",
       "      <td>1985</td>\n",
       "      <td>370000.0</td>\n",
       "      <td>East</td>\n",
       "    </tr>\n",
       "    <tr>\n",
       "      <th>99908</th>\n",
       "      <td>2017-06</td>\n",
       "      <td>SERANGOON</td>\n",
       "      <td>5 ROOM</td>\n",
       "      <td>140.0</td>\n",
       "      <td>1985</td>\n",
       "      <td>518000.0</td>\n",
       "      <td>North East</td>\n",
       "    </tr>\n",
       "    <tr>\n",
       "      <th>23904</th>\n",
       "      <td>2013-04</td>\n",
       "      <td>ANG MO KIO</td>\n",
       "      <td>5 ROOM</td>\n",
       "      <td>110.0</td>\n",
       "      <td>2006</td>\n",
       "      <td>780000.0</td>\n",
       "      <td>North East</td>\n",
       "    </tr>\n",
       "    <tr>\n",
       "      <th>52093</th>\n",
       "      <td>2014-12</td>\n",
       "      <td>WOODLANDS</td>\n",
       "      <td>5 ROOM</td>\n",
       "      <td>119.0</td>\n",
       "      <td>1996</td>\n",
       "      <td>475000.0</td>\n",
       "      <td>North</td>\n",
       "    </tr>\n",
       "    <tr>\n",
       "      <th>97508</th>\n",
       "      <td>2017-05</td>\n",
       "      <td>JURONG WEST</td>\n",
       "      <td>5 ROOM</td>\n",
       "      <td>120.0</td>\n",
       "      <td>1998</td>\n",
       "      <td>488000.0</td>\n",
       "      <td>West</td>\n",
       "    </tr>\n",
       "    <tr>\n",
       "      <th>33845</th>\n",
       "      <td>2013-10</td>\n",
       "      <td>YISHUN</td>\n",
       "      <td>4 ROOM</td>\n",
       "      <td>89.0</td>\n",
       "      <td>1987</td>\n",
       "      <td>392000.0</td>\n",
       "      <td>North</td>\n",
       "    </tr>\n",
       "    <tr>\n",
       "      <th>27673</th>\n",
       "      <td>2013-06</td>\n",
       "      <td>JURONG EAST</td>\n",
       "      <td>3 ROOM</td>\n",
       "      <td>67.0</td>\n",
       "      <td>1981</td>\n",
       "      <td>360000.0</td>\n",
       "      <td>West</td>\n",
       "    </tr>\n",
       "    <tr>\n",
       "      <th>52094</th>\n",
       "      <td>2014-12</td>\n",
       "      <td>WOODLANDS</td>\n",
       "      <td>5 ROOM</td>\n",
       "      <td>119.0</td>\n",
       "      <td>1997</td>\n",
       "      <td>435000.0</td>\n",
       "      <td>North</td>\n",
       "    </tr>\n",
       "    <tr>\n",
       "      <th>93889</th>\n",
       "      <td>2017-03</td>\n",
       "      <td>PASIR RIS</td>\n",
       "      <td>5 ROOM</td>\n",
       "      <td>128.0</td>\n",
       "      <td>1996</td>\n",
       "      <td>455000.0</td>\n",
       "      <td>East</td>\n",
       "    </tr>\n",
       "    <tr>\n",
       "      <th>89067</th>\n",
       "      <td>2016-11</td>\n",
       "      <td>WOODLANDS</td>\n",
       "      <td>4 ROOM</td>\n",
       "      <td>103.0</td>\n",
       "      <td>1993</td>\n",
       "      <td>360000.0</td>\n",
       "      <td>North</td>\n",
       "    </tr>\n",
       "    <tr>\n",
       "      <th>9775</th>\n",
       "      <td>2012-07</td>\n",
       "      <td>JURONG WEST</td>\n",
       "      <td>3 ROOM</td>\n",
       "      <td>59.0</td>\n",
       "      <td>1978</td>\n",
       "      <td>287000.0</td>\n",
       "      <td>West</td>\n",
       "    </tr>\n",
       "    <tr>\n",
       "      <th>21135</th>\n",
       "      <td>2013-01</td>\n",
       "      <td>SENGKANG</td>\n",
       "      <td>4 ROOM</td>\n",
       "      <td>90.0</td>\n",
       "      <td>2009</td>\n",
       "      <td>610000.0</td>\n",
       "      <td>North East</td>\n",
       "    </tr>\n",
       "    <tr>\n",
       "      <th>7331</th>\n",
       "      <td>2012-06</td>\n",
       "      <td>CENTRAL AREA</td>\n",
       "      <td>3 ROOM</td>\n",
       "      <td>67.0</td>\n",
       "      <td>1984</td>\n",
       "      <td>485000.0</td>\n",
       "      <td>Central</td>\n",
       "    </tr>\n",
       "    <tr>\n",
       "      <th>79885</th>\n",
       "      <td>2016-06</td>\n",
       "      <td>JURONG WEST</td>\n",
       "      <td>5 ROOM</td>\n",
       "      <td>109.0</td>\n",
       "      <td>1979</td>\n",
       "      <td>410000.0</td>\n",
       "      <td>West</td>\n",
       "    </tr>\n",
       "    <tr>\n",
       "      <th>56644</th>\n",
       "      <td>2015-03</td>\n",
       "      <td>PASIR RIS</td>\n",
       "      <td>EXECUTIVE</td>\n",
       "      <td>146.0</td>\n",
       "      <td>1989</td>\n",
       "      <td>585000.0</td>\n",
       "      <td>East</td>\n",
       "    </tr>\n",
       "    <tr>\n",
       "      <th>81304</th>\n",
       "      <td>2016-07</td>\n",
       "      <td>CHOA CHU KANG</td>\n",
       "      <td>5 ROOM</td>\n",
       "      <td>110.0</td>\n",
       "      <td>2002</td>\n",
       "      <td>410000.0</td>\n",
       "      <td>West</td>\n",
       "    </tr>\n",
       "  </tbody>\n",
       "</table>\n",
       "</div>"
      ],
      "text/plain": [
       "         month           town  flat_type  floor_area_sqm  lease_commence_date  \\\n",
       "86710  2016-10    JURONG EAST     4 ROOM           102.0                 1998   \n",
       "48935  2014-10     QUEENSTOWN     3 ROOM            65.0                 1975   \n",
       "70204  2015-12  CHOA CHU KANG     4 ROOM           104.0                 1990   \n",
       "9350   2012-07  BUKIT PANJANG     5 ROOM           122.0                 1988   \n",
       "76354  2016-04      PASIR RIS     4 ROOM           106.0                 1990   \n",
       "18594  2012-12          BEDOK     3 ROOM            67.0                 1977   \n",
       "94393  2017-03       TAMPINES     4 ROOM           108.0                 1987   \n",
       "40805  2014-04       TAMPINES     3 ROOM            78.0                 1985   \n",
       "99908  2017-06      SERANGOON     5 ROOM           140.0                 1985   \n",
       "23904  2013-04     ANG MO KIO     5 ROOM           110.0                 2006   \n",
       "52093  2014-12      WOODLANDS     5 ROOM           119.0                 1996   \n",
       "97508  2017-05    JURONG WEST     5 ROOM           120.0                 1998   \n",
       "33845  2013-10         YISHUN     4 ROOM            89.0                 1987   \n",
       "27673  2013-06    JURONG EAST     3 ROOM            67.0                 1981   \n",
       "52094  2014-12      WOODLANDS     5 ROOM           119.0                 1997   \n",
       "93889  2017-03      PASIR RIS     5 ROOM           128.0                 1996   \n",
       "89067  2016-11      WOODLANDS     4 ROOM           103.0                 1993   \n",
       "9775   2012-07    JURONG WEST     3 ROOM            59.0                 1978   \n",
       "21135  2013-01       SENGKANG     4 ROOM            90.0                 2009   \n",
       "7331   2012-06   CENTRAL AREA     3 ROOM            67.0                 1984   \n",
       "79885  2016-06    JURONG WEST     5 ROOM           109.0                 1979   \n",
       "56644  2015-03      PASIR RIS  EXECUTIVE           146.0                 1989   \n",
       "81304  2016-07  CHOA CHU KANG     5 ROOM           110.0                 2002   \n",
       "\n",
       "       resale_price        area  \n",
       "86710      465000.0        West  \n",
       "48935      430000.0     Central  \n",
       "70204      365000.0        West  \n",
       "9350       470000.0        West  \n",
       "76354      390000.0        East  \n",
       "18594      335000.0        East  \n",
       "94393      443000.0        East  \n",
       "40805      370000.0        East  \n",
       "99908      518000.0  North East  \n",
       "23904      780000.0  North East  \n",
       "52093      475000.0       North  \n",
       "97508      488000.0        West  \n",
       "33845      392000.0       North  \n",
       "27673      360000.0        West  \n",
       "52094      435000.0       North  \n",
       "93889      455000.0        East  \n",
       "89067      360000.0       North  \n",
       "9775       287000.0        West  \n",
       "21135      610000.0  North East  \n",
       "7331       485000.0     Central  \n",
       "79885      410000.0        West  \n",
       "56644      585000.0        East  \n",
       "81304      410000.0        West  "
      ]
     },
     "execution_count": 71,
     "metadata": {},
     "output_type": "execute_result"
    }
   ],
   "source": [
    "district['area'] = district.loc[:,'town'].map(mapTownRegion) \n",
    "district"
   ]
  },
  {
   "cell_type": "markdown",
   "metadata": {},
   "source": [
    "## String Operations "
   ]
  },
  {
   "cell_type": "code",
   "execution_count": 23,
   "metadata": {
    "collapsed": true,
    "scrolled": true
   },
   "outputs": [],
   "source": [
    "# we do the mapping for ALL complete data\n",
    "resale['Region']=resale.loc[:,'town'].map(mapTownRegion) "
   ]
  },
  {
   "cell_type": "code",
   "execution_count": null,
   "metadata": {
    "collapsed": true
   },
   "outputs": [],
   "source": []
  },
  {
   "cell_type": "code",
   "execution_count": 24,
   "metadata": {
    "scrolled": true
   },
   "outputs": [
    {
     "data": {
      "text/html": [
       "<div>\n",
       "<style scoped>\n",
       "    .dataframe tbody tr th:only-of-type {\n",
       "        vertical-align: middle;\n",
       "    }\n",
       "\n",
       "    .dataframe tbody tr th {\n",
       "        vertical-align: top;\n",
       "    }\n",
       "\n",
       "    .dataframe thead th {\n",
       "        text-align: right;\n",
       "    }\n",
       "</style>\n",
       "<table border=\"1\" class=\"dataframe\">\n",
       "  <thead>\n",
       "    <tr style=\"text-align: right;\">\n",
       "      <th></th>\n",
       "      <th>month</th>\n",
       "      <th>town</th>\n",
       "      <th>flat_type</th>\n",
       "      <th>floor_area_sqm</th>\n",
       "      <th>lease_commence_date</th>\n",
       "      <th>resale_price</th>\n",
       "      <th>Region</th>\n",
       "      <th>Year</th>\n",
       "      <th>Quarter</th>\n",
       "    </tr>\n",
       "  </thead>\n",
       "  <tbody>\n",
       "    <tr>\n",
       "      <th>87705</th>\n",
       "      <td>2016-11</td>\n",
       "      <td>ANG MO KIO</td>\n",
       "      <td>4 ROOM</td>\n",
       "      <td>92.0</td>\n",
       "      <td>1977</td>\n",
       "      <td>590000.0</td>\n",
       "      <td>North East</td>\n",
       "      <td>2016</td>\n",
       "      <td>11</td>\n",
       "    </tr>\n",
       "    <tr>\n",
       "      <th>86039</th>\n",
       "      <td>2016-10</td>\n",
       "      <td>ANG MO KIO</td>\n",
       "      <td>4 ROOM</td>\n",
       "      <td>92.0</td>\n",
       "      <td>1978</td>\n",
       "      <td>490000.0</td>\n",
       "      <td>North East</td>\n",
       "      <td>2016</td>\n",
       "      <td>10</td>\n",
       "    </tr>\n",
       "    <tr>\n",
       "      <th>52213</th>\n",
       "      <td>2015-01</td>\n",
       "      <td>ANG MO KIO</td>\n",
       "      <td>3 ROOM</td>\n",
       "      <td>68.0</td>\n",
       "      <td>1979</td>\n",
       "      <td>290000.0</td>\n",
       "      <td>North East</td>\n",
       "      <td>2015</td>\n",
       "      <td>01</td>\n",
       "    </tr>\n",
       "    <tr>\n",
       "      <th>46561</th>\n",
       "      <td>2014-09</td>\n",
       "      <td>ANG MO KIO</td>\n",
       "      <td>4 ROOM</td>\n",
       "      <td>92.0</td>\n",
       "      <td>1981</td>\n",
       "      <td>425000.0</td>\n",
       "      <td>North East</td>\n",
       "      <td>2014</td>\n",
       "      <td>09</td>\n",
       "    </tr>\n",
       "    <tr>\n",
       "      <th>69890</th>\n",
       "      <td>2015-12</td>\n",
       "      <td>ANG MO KIO</td>\n",
       "      <td>EXECUTIVE</td>\n",
       "      <td>153.0</td>\n",
       "      <td>1996</td>\n",
       "      <td>760000.0</td>\n",
       "      <td>North East</td>\n",
       "      <td>2015</td>\n",
       "      <td>12</td>\n",
       "    </tr>\n",
       "  </tbody>\n",
       "</table>\n",
       "</div>"
      ],
      "text/plain": [
       "         month        town  flat_type  floor_area_sqm  lease_commence_date  \\\n",
       "87705  2016-11  ANG MO KIO     4 ROOM            92.0                 1977   \n",
       "86039  2016-10  ANG MO KIO     4 ROOM            92.0                 1978   \n",
       "52213  2015-01  ANG MO KIO     3 ROOM            68.0                 1979   \n",
       "46561  2014-09  ANG MO KIO     4 ROOM            92.0                 1981   \n",
       "69890  2015-12  ANG MO KIO  EXECUTIVE           153.0                 1996   \n",
       "\n",
       "       resale_price      Region  Year Quarter  \n",
       "87705      590000.0  North East  2016      11  \n",
       "86039      490000.0  North East  2016      10  \n",
       "52213      290000.0  North East  2015      01  \n",
       "46561      425000.0  North East  2014      09  \n",
       "69890      760000.0  North East  2015      12  "
      ]
     },
     "execution_count": 24,
     "metadata": {},
     "output_type": "execute_result"
    }
   ],
   "source": [
    "resale['Year'], resale['Quarter'] = resale['month'].str.split('-',1).str\n",
    "resale.head()\n",
    "#a, b, c  =resale['month'].str.split('1',2).str\n",
    "#a, b, c, d =resale['month'].str.split('1',3).str"
   ]
  },
  {
   "cell_type": "code",
   "execution_count": 25,
   "metadata": {
    "collapsed": true
   },
   "outputs": [],
   "source": [
    "# save our clean data \n",
    "resale.to_csv('clean_resale.csv')"
   ]
  },
  {
   "cell_type": "markdown",
   "metadata": {},
   "source": [
    "## Exercise 2.5.4"
   ]
  },
  {
   "cell_type": "markdown",
   "metadata": {},
   "source": [
    "The current data is not consistent.  Europe is not a country, Japan is a country.   We want to make it consistent by filling out \"Continent\".  Here is the dictonary"
   ]
  },
  {
   "cell_type": "code",
   "execution_count": 67,
   "metadata": {
    "collapsed": true
   },
   "outputs": [],
   "source": [
    "cars=pd.read_csv('cars.csv')"
   ]
  },
  {
   "cell_type": "code",
   "execution_count": 68,
   "metadata": {
    "collapsed": true
   },
   "outputs": [],
   "source": [
    "continent = {\n",
    "'Europe':'Europe',\n",
    "'US':'America',\n",
    "'Japan':'Asia'}"
   ]
  },
  {
   "cell_type": "markdown",
   "metadata": {},
   "source": [
    "###### a) Map the dictonary above, find the keyword in Origin, and assign values in continent dictionary to a new column named as cars.Continent "
   ]
  },
  {
   "cell_type": "code",
   "execution_count": 69,
   "metadata": {},
   "outputs": [
    {
     "data": {
      "text/html": [
       "<div>\n",
       "<style scoped>\n",
       "    .dataframe tbody tr th:only-of-type {\n",
       "        vertical-align: middle;\n",
       "    }\n",
       "\n",
       "    .dataframe tbody tr th {\n",
       "        vertical-align: top;\n",
       "    }\n",
       "\n",
       "    .dataframe thead th {\n",
       "        text-align: right;\n",
       "    }\n",
       "</style>\n",
       "<table border=\"1\" class=\"dataframe\">\n",
       "  <thead>\n",
       "    <tr style=\"text-align: right;\">\n",
       "      <th></th>\n",
       "      <th>Car</th>\n",
       "      <th>MPG</th>\n",
       "      <th>Cylinders</th>\n",
       "      <th>Displacement</th>\n",
       "      <th>Horsepower</th>\n",
       "      <th>Weight</th>\n",
       "      <th>Acceleration</th>\n",
       "      <th>Model</th>\n",
       "      <th>Origin</th>\n",
       "      <th>Color</th>\n",
       "      <th>Continent</th>\n",
       "    </tr>\n",
       "  </thead>\n",
       "  <tbody>\n",
       "    <tr>\n",
       "      <th>0</th>\n",
       "      <td>Chevrolet Chevelle Malibu</td>\n",
       "      <td>18.0</td>\n",
       "      <td>8</td>\n",
       "      <td>307.0</td>\n",
       "      <td>130</td>\n",
       "      <td>3504</td>\n",
       "      <td>12.0</td>\n",
       "      <td>70</td>\n",
       "      <td>US</td>\n",
       "      <td>blue</td>\n",
       "      <td>America</td>\n",
       "    </tr>\n",
       "    <tr>\n",
       "      <th>1</th>\n",
       "      <td>Buick Skylark 320</td>\n",
       "      <td>15.0</td>\n",
       "      <td>8</td>\n",
       "      <td>350.0</td>\n",
       "      <td>165</td>\n",
       "      <td>3693</td>\n",
       "      <td>11.5</td>\n",
       "      <td>70</td>\n",
       "      <td>US</td>\n",
       "      <td>red</td>\n",
       "      <td>America</td>\n",
       "    </tr>\n",
       "    <tr>\n",
       "      <th>2</th>\n",
       "      <td>Plymouth Satellite</td>\n",
       "      <td>18.0</td>\n",
       "      <td>8</td>\n",
       "      <td>318.0</td>\n",
       "      <td>150</td>\n",
       "      <td>3436</td>\n",
       "      <td>11.0</td>\n",
       "      <td>70</td>\n",
       "      <td>US</td>\n",
       "      <td>blue</td>\n",
       "      <td>America</td>\n",
       "    </tr>\n",
       "    <tr>\n",
       "      <th>3</th>\n",
       "      <td>AMC Rebel SST</td>\n",
       "      <td>16.0</td>\n",
       "      <td>8</td>\n",
       "      <td>304.0</td>\n",
       "      <td>150</td>\n",
       "      <td>3433</td>\n",
       "      <td>12.0</td>\n",
       "      <td>70</td>\n",
       "      <td>US</td>\n",
       "      <td>green</td>\n",
       "      <td>America</td>\n",
       "    </tr>\n",
       "    <tr>\n",
       "      <th>4</th>\n",
       "      <td>Ford Torino</td>\n",
       "      <td>17.0</td>\n",
       "      <td>8</td>\n",
       "      <td>302.0</td>\n",
       "      <td>140</td>\n",
       "      <td>3449</td>\n",
       "      <td>10.5</td>\n",
       "      <td>70</td>\n",
       "      <td>US</td>\n",
       "      <td>red</td>\n",
       "      <td>America</td>\n",
       "    </tr>\n",
       "    <tr>\n",
       "      <th>5</th>\n",
       "      <td>Ford Galaxie 500</td>\n",
       "      <td>15.0</td>\n",
       "      <td>8</td>\n",
       "      <td>429.0</td>\n",
       "      <td>198</td>\n",
       "      <td>4341</td>\n",
       "      <td>10.0</td>\n",
       "      <td>70</td>\n",
       "      <td>US</td>\n",
       "      <td>red</td>\n",
       "      <td>America</td>\n",
       "    </tr>\n",
       "    <tr>\n",
       "      <th>6</th>\n",
       "      <td>Chevrolet Impala</td>\n",
       "      <td>14.0</td>\n",
       "      <td>8</td>\n",
       "      <td>454.0</td>\n",
       "      <td>220</td>\n",
       "      <td>4354</td>\n",
       "      <td>9.0</td>\n",
       "      <td>70</td>\n",
       "      <td>US</td>\n",
       "      <td>green</td>\n",
       "      <td>America</td>\n",
       "    </tr>\n",
       "    <tr>\n",
       "      <th>7</th>\n",
       "      <td>Plymouth Fury iii</td>\n",
       "      <td>14.0</td>\n",
       "      <td>8</td>\n",
       "      <td>440.0</td>\n",
       "      <td>215</td>\n",
       "      <td>4312</td>\n",
       "      <td>8.5</td>\n",
       "      <td>70</td>\n",
       "      <td>US</td>\n",
       "      <td>blue</td>\n",
       "      <td>America</td>\n",
       "    </tr>\n",
       "    <tr>\n",
       "      <th>8</th>\n",
       "      <td>Pontiac Catalina</td>\n",
       "      <td>14.0</td>\n",
       "      <td>8</td>\n",
       "      <td>455.0</td>\n",
       "      <td>225</td>\n",
       "      <td>4425</td>\n",
       "      <td>10.0</td>\n",
       "      <td>70</td>\n",
       "      <td>US</td>\n",
       "      <td>blue</td>\n",
       "      <td>America</td>\n",
       "    </tr>\n",
       "    <tr>\n",
       "      <th>9</th>\n",
       "      <td>AMC Ambassador DPL</td>\n",
       "      <td>15.0</td>\n",
       "      <td>8</td>\n",
       "      <td>390.0</td>\n",
       "      <td>190</td>\n",
       "      <td>3850</td>\n",
       "      <td>8.5</td>\n",
       "      <td>70</td>\n",
       "      <td>US</td>\n",
       "      <td>green</td>\n",
       "      <td>America</td>\n",
       "    </tr>\n",
       "    <tr>\n",
       "      <th>10</th>\n",
       "      <td>Citroen DS-21 Pallas</td>\n",
       "      <td>0.0</td>\n",
       "      <td>4</td>\n",
       "      <td>133.0</td>\n",
       "      <td>115</td>\n",
       "      <td>3090</td>\n",
       "      <td>17.5</td>\n",
       "      <td>70</td>\n",
       "      <td>Europe</td>\n",
       "      <td>blue</td>\n",
       "      <td>Europe</td>\n",
       "    </tr>\n",
       "    <tr>\n",
       "      <th>11</th>\n",
       "      <td>Chevrolet Chevelle Concours (sw)</td>\n",
       "      <td>0.0</td>\n",
       "      <td>8</td>\n",
       "      <td>350.0</td>\n",
       "      <td>165</td>\n",
       "      <td>4142</td>\n",
       "      <td>11.5</td>\n",
       "      <td>70</td>\n",
       "      <td>US</td>\n",
       "      <td>blue</td>\n",
       "      <td>America</td>\n",
       "    </tr>\n",
       "    <tr>\n",
       "      <th>12</th>\n",
       "      <td>Ford Torino (sw)</td>\n",
       "      <td>0.0</td>\n",
       "      <td>8</td>\n",
       "      <td>351.0</td>\n",
       "      <td>153</td>\n",
       "      <td>4034</td>\n",
       "      <td>11.0</td>\n",
       "      <td>70</td>\n",
       "      <td>US</td>\n",
       "      <td>blue</td>\n",
       "      <td>America</td>\n",
       "    </tr>\n",
       "    <tr>\n",
       "      <th>13</th>\n",
       "      <td>Plymouth Satellite (sw)</td>\n",
       "      <td>0.0</td>\n",
       "      <td>8</td>\n",
       "      <td>383.0</td>\n",
       "      <td>175</td>\n",
       "      <td>4166</td>\n",
       "      <td>10.5</td>\n",
       "      <td>70</td>\n",
       "      <td>US</td>\n",
       "      <td>blue</td>\n",
       "      <td>America</td>\n",
       "    </tr>\n",
       "    <tr>\n",
       "      <th>14</th>\n",
       "      <td>AMC Rebel SST (sw)</td>\n",
       "      <td>0.0</td>\n",
       "      <td>8</td>\n",
       "      <td>360.0</td>\n",
       "      <td>175</td>\n",
       "      <td>3850</td>\n",
       "      <td>11.0</td>\n",
       "      <td>70</td>\n",
       "      <td>US</td>\n",
       "      <td>blue</td>\n",
       "      <td>America</td>\n",
       "    </tr>\n",
       "    <tr>\n",
       "      <th>15</th>\n",
       "      <td>Dodge Challenger SE</td>\n",
       "      <td>15.0</td>\n",
       "      <td>8</td>\n",
       "      <td>383.0</td>\n",
       "      <td>170</td>\n",
       "      <td>3563</td>\n",
       "      <td>10.0</td>\n",
       "      <td>70</td>\n",
       "      <td>US</td>\n",
       "      <td>green</td>\n",
       "      <td>America</td>\n",
       "    </tr>\n",
       "    <tr>\n",
       "      <th>16</th>\n",
       "      <td>Plymouth 'Cuda 340</td>\n",
       "      <td>14.0</td>\n",
       "      <td>8</td>\n",
       "      <td>340.0</td>\n",
       "      <td>160</td>\n",
       "      <td>3609</td>\n",
       "      <td>8.0</td>\n",
       "      <td>70</td>\n",
       "      <td>US</td>\n",
       "      <td>blue</td>\n",
       "      <td>America</td>\n",
       "    </tr>\n",
       "    <tr>\n",
       "      <th>17</th>\n",
       "      <td>Ford Mustang Boss 302</td>\n",
       "      <td>0.0</td>\n",
       "      <td>8</td>\n",
       "      <td>302.0</td>\n",
       "      <td>140</td>\n",
       "      <td>3353</td>\n",
       "      <td>8.0</td>\n",
       "      <td>70</td>\n",
       "      <td>US</td>\n",
       "      <td>red</td>\n",
       "      <td>America</td>\n",
       "    </tr>\n",
       "    <tr>\n",
       "      <th>18</th>\n",
       "      <td>Chevrolet Monte Carlo</td>\n",
       "      <td>15.0</td>\n",
       "      <td>8</td>\n",
       "      <td>400.0</td>\n",
       "      <td>150</td>\n",
       "      <td>3761</td>\n",
       "      <td>9.5</td>\n",
       "      <td>70</td>\n",
       "      <td>US</td>\n",
       "      <td>red</td>\n",
       "      <td>America</td>\n",
       "    </tr>\n",
       "    <tr>\n",
       "      <th>19</th>\n",
       "      <td>Buick Estate Wagon (sw)</td>\n",
       "      <td>14.0</td>\n",
       "      <td>8</td>\n",
       "      <td>455.0</td>\n",
       "      <td>225</td>\n",
       "      <td>3086</td>\n",
       "      <td>10.0</td>\n",
       "      <td>70</td>\n",
       "      <td>US</td>\n",
       "      <td>blue</td>\n",
       "      <td>America</td>\n",
       "    </tr>\n",
       "    <tr>\n",
       "      <th>20</th>\n",
       "      <td>Toyota Corolla Mark ii</td>\n",
       "      <td>24.0</td>\n",
       "      <td>4</td>\n",
       "      <td>113.0</td>\n",
       "      <td>95</td>\n",
       "      <td>2372</td>\n",
       "      <td>15.0</td>\n",
       "      <td>70</td>\n",
       "      <td>Japan</td>\n",
       "      <td>blue</td>\n",
       "      <td>Asia</td>\n",
       "    </tr>\n",
       "    <tr>\n",
       "      <th>21</th>\n",
       "      <td>Plymouth Duster</td>\n",
       "      <td>22.0</td>\n",
       "      <td>6</td>\n",
       "      <td>198.0</td>\n",
       "      <td>95</td>\n",
       "      <td>2833</td>\n",
       "      <td>15.5</td>\n",
       "      <td>70</td>\n",
       "      <td>US</td>\n",
       "      <td>blue</td>\n",
       "      <td>America</td>\n",
       "    </tr>\n",
       "    <tr>\n",
       "      <th>22</th>\n",
       "      <td>AMC Hornet</td>\n",
       "      <td>18.0</td>\n",
       "      <td>6</td>\n",
       "      <td>199.0</td>\n",
       "      <td>97</td>\n",
       "      <td>2774</td>\n",
       "      <td>15.5</td>\n",
       "      <td>70</td>\n",
       "      <td>US</td>\n",
       "      <td>blue</td>\n",
       "      <td>America</td>\n",
       "    </tr>\n",
       "    <tr>\n",
       "      <th>23</th>\n",
       "      <td>Ford Maverick</td>\n",
       "      <td>21.0</td>\n",
       "      <td>6</td>\n",
       "      <td>200.0</td>\n",
       "      <td>85</td>\n",
       "      <td>2587</td>\n",
       "      <td>16.0</td>\n",
       "      <td>70</td>\n",
       "      <td>US</td>\n",
       "      <td>blue</td>\n",
       "      <td>America</td>\n",
       "    </tr>\n",
       "    <tr>\n",
       "      <th>24</th>\n",
       "      <td>Datsun PL510</td>\n",
       "      <td>27.0</td>\n",
       "      <td>4</td>\n",
       "      <td>97.0</td>\n",
       "      <td>88</td>\n",
       "      <td>2130</td>\n",
       "      <td>14.5</td>\n",
       "      <td>70</td>\n",
       "      <td>Japan</td>\n",
       "      <td>green</td>\n",
       "      <td>Asia</td>\n",
       "    </tr>\n",
       "    <tr>\n",
       "      <th>25</th>\n",
       "      <td>Volkswagen 1131 Deluxe Sedan</td>\n",
       "      <td>26.0</td>\n",
       "      <td>4</td>\n",
       "      <td>97.0</td>\n",
       "      <td>46</td>\n",
       "      <td>1835</td>\n",
       "      <td>20.5</td>\n",
       "      <td>70</td>\n",
       "      <td>Europe</td>\n",
       "      <td>red</td>\n",
       "      <td>Europe</td>\n",
       "    </tr>\n",
       "    <tr>\n",
       "      <th>26</th>\n",
       "      <td>Peugeot 504</td>\n",
       "      <td>25.0</td>\n",
       "      <td>4</td>\n",
       "      <td>110.0</td>\n",
       "      <td>87</td>\n",
       "      <td>2672</td>\n",
       "      <td>17.5</td>\n",
       "      <td>70</td>\n",
       "      <td>Europe</td>\n",
       "      <td>red</td>\n",
       "      <td>Europe</td>\n",
       "    </tr>\n",
       "    <tr>\n",
       "      <th>27</th>\n",
       "      <td>Audi 100 LS</td>\n",
       "      <td>24.0</td>\n",
       "      <td>4</td>\n",
       "      <td>107.0</td>\n",
       "      <td>90</td>\n",
       "      <td>2430</td>\n",
       "      <td>14.5</td>\n",
       "      <td>70</td>\n",
       "      <td>Europe</td>\n",
       "      <td>blue</td>\n",
       "      <td>Europe</td>\n",
       "    </tr>\n",
       "    <tr>\n",
       "      <th>28</th>\n",
       "      <td>Saab 99e</td>\n",
       "      <td>25.0</td>\n",
       "      <td>4</td>\n",
       "      <td>104.0</td>\n",
       "      <td>95</td>\n",
       "      <td>2375</td>\n",
       "      <td>17.5</td>\n",
       "      <td>70</td>\n",
       "      <td>Europe</td>\n",
       "      <td>red</td>\n",
       "      <td>Europe</td>\n",
       "    </tr>\n",
       "    <tr>\n",
       "      <th>29</th>\n",
       "      <td>BMW 2002</td>\n",
       "      <td>26.0</td>\n",
       "      <td>4</td>\n",
       "      <td>121.0</td>\n",
       "      <td>113</td>\n",
       "      <td>2234</td>\n",
       "      <td>12.5</td>\n",
       "      <td>70</td>\n",
       "      <td>Europe</td>\n",
       "      <td>green</td>\n",
       "      <td>Europe</td>\n",
       "    </tr>\n",
       "    <tr>\n",
       "      <th>...</th>\n",
       "      <td>...</td>\n",
       "      <td>...</td>\n",
       "      <td>...</td>\n",
       "      <td>...</td>\n",
       "      <td>...</td>\n",
       "      <td>...</td>\n",
       "      <td>...</td>\n",
       "      <td>...</td>\n",
       "      <td>...</td>\n",
       "      <td>...</td>\n",
       "      <td>...</td>\n",
       "    </tr>\n",
       "    <tr>\n",
       "      <th>376</th>\n",
       "      <td>Chevrolet Cavalier Wagon</td>\n",
       "      <td>27.0</td>\n",
       "      <td>4</td>\n",
       "      <td>112.0</td>\n",
       "      <td>88</td>\n",
       "      <td>2640</td>\n",
       "      <td>18.6</td>\n",
       "      <td>82</td>\n",
       "      <td>US</td>\n",
       "      <td>red</td>\n",
       "      <td>America</td>\n",
       "    </tr>\n",
       "    <tr>\n",
       "      <th>377</th>\n",
       "      <td>Chevrolet Cavalier 2-door</td>\n",
       "      <td>34.0</td>\n",
       "      <td>4</td>\n",
       "      <td>112.0</td>\n",
       "      <td>88</td>\n",
       "      <td>2395</td>\n",
       "      <td>18.0</td>\n",
       "      <td>82</td>\n",
       "      <td>US</td>\n",
       "      <td>blue</td>\n",
       "      <td>America</td>\n",
       "    </tr>\n",
       "    <tr>\n",
       "      <th>378</th>\n",
       "      <td>Pontiac J2000 SE Hatchback</td>\n",
       "      <td>31.0</td>\n",
       "      <td>4</td>\n",
       "      <td>112.0</td>\n",
       "      <td>85</td>\n",
       "      <td>2575</td>\n",
       "      <td>16.2</td>\n",
       "      <td>82</td>\n",
       "      <td>US</td>\n",
       "      <td>blue</td>\n",
       "      <td>America</td>\n",
       "    </tr>\n",
       "    <tr>\n",
       "      <th>379</th>\n",
       "      <td>Dodge Aries SE</td>\n",
       "      <td>29.0</td>\n",
       "      <td>4</td>\n",
       "      <td>135.0</td>\n",
       "      <td>84</td>\n",
       "      <td>2525</td>\n",
       "      <td>16.0</td>\n",
       "      <td>82</td>\n",
       "      <td>US</td>\n",
       "      <td>red</td>\n",
       "      <td>America</td>\n",
       "    </tr>\n",
       "    <tr>\n",
       "      <th>380</th>\n",
       "      <td>Pontiac Phoenix</td>\n",
       "      <td>27.0</td>\n",
       "      <td>4</td>\n",
       "      <td>151.0</td>\n",
       "      <td>90</td>\n",
       "      <td>2735</td>\n",
       "      <td>18.0</td>\n",
       "      <td>82</td>\n",
       "      <td>US</td>\n",
       "      <td>blue</td>\n",
       "      <td>America</td>\n",
       "    </tr>\n",
       "    <tr>\n",
       "      <th>381</th>\n",
       "      <td>Ford Fairmont Futura</td>\n",
       "      <td>24.0</td>\n",
       "      <td>4</td>\n",
       "      <td>140.0</td>\n",
       "      <td>92</td>\n",
       "      <td>2865</td>\n",
       "      <td>16.4</td>\n",
       "      <td>82</td>\n",
       "      <td>US</td>\n",
       "      <td>blue</td>\n",
       "      <td>America</td>\n",
       "    </tr>\n",
       "    <tr>\n",
       "      <th>382</th>\n",
       "      <td>AMC Concord DL</td>\n",
       "      <td>23.0</td>\n",
       "      <td>4</td>\n",
       "      <td>151.0</td>\n",
       "      <td>0</td>\n",
       "      <td>3035</td>\n",
       "      <td>20.5</td>\n",
       "      <td>82</td>\n",
       "      <td>US</td>\n",
       "      <td>green</td>\n",
       "      <td>America</td>\n",
       "    </tr>\n",
       "    <tr>\n",
       "      <th>383</th>\n",
       "      <td>Volkswagen Rabbit l</td>\n",
       "      <td>36.0</td>\n",
       "      <td>4</td>\n",
       "      <td>105.0</td>\n",
       "      <td>74</td>\n",
       "      <td>1980</td>\n",
       "      <td>15.3</td>\n",
       "      <td>82</td>\n",
       "      <td>Europe</td>\n",
       "      <td>blue</td>\n",
       "      <td>Europe</td>\n",
       "    </tr>\n",
       "    <tr>\n",
       "      <th>384</th>\n",
       "      <td>Mazda GLC Custom l</td>\n",
       "      <td>37.0</td>\n",
       "      <td>4</td>\n",
       "      <td>91.0</td>\n",
       "      <td>68</td>\n",
       "      <td>2025</td>\n",
       "      <td>18.2</td>\n",
       "      <td>82</td>\n",
       "      <td>Japan</td>\n",
       "      <td>blue</td>\n",
       "      <td>Asia</td>\n",
       "    </tr>\n",
       "    <tr>\n",
       "      <th>385</th>\n",
       "      <td>Mazda GLC Custom</td>\n",
       "      <td>31.0</td>\n",
       "      <td>4</td>\n",
       "      <td>91.0</td>\n",
       "      <td>68</td>\n",
       "      <td>1970</td>\n",
       "      <td>17.6</td>\n",
       "      <td>82</td>\n",
       "      <td>Japan</td>\n",
       "      <td>blue</td>\n",
       "      <td>Asia</td>\n",
       "    </tr>\n",
       "    <tr>\n",
       "      <th>386</th>\n",
       "      <td>Plymouth Horizon Miser</td>\n",
       "      <td>38.0</td>\n",
       "      <td>4</td>\n",
       "      <td>105.0</td>\n",
       "      <td>63</td>\n",
       "      <td>2125</td>\n",
       "      <td>14.7</td>\n",
       "      <td>82</td>\n",
       "      <td>US</td>\n",
       "      <td>red</td>\n",
       "      <td>America</td>\n",
       "    </tr>\n",
       "    <tr>\n",
       "      <th>387</th>\n",
       "      <td>Mercury Lynx l</td>\n",
       "      <td>36.0</td>\n",
       "      <td>4</td>\n",
       "      <td>98.0</td>\n",
       "      <td>70</td>\n",
       "      <td>2125</td>\n",
       "      <td>17.3</td>\n",
       "      <td>82</td>\n",
       "      <td>US</td>\n",
       "      <td>green</td>\n",
       "      <td>America</td>\n",
       "    </tr>\n",
       "    <tr>\n",
       "      <th>388</th>\n",
       "      <td>Nissan Stanza XE</td>\n",
       "      <td>36.0</td>\n",
       "      <td>4</td>\n",
       "      <td>120.0</td>\n",
       "      <td>88</td>\n",
       "      <td>2160</td>\n",
       "      <td>14.5</td>\n",
       "      <td>82</td>\n",
       "      <td>Japan</td>\n",
       "      <td>blue</td>\n",
       "      <td>Asia</td>\n",
       "    </tr>\n",
       "    <tr>\n",
       "      <th>389</th>\n",
       "      <td>Honda Accord</td>\n",
       "      <td>36.0</td>\n",
       "      <td>4</td>\n",
       "      <td>107.0</td>\n",
       "      <td>75</td>\n",
       "      <td>2205</td>\n",
       "      <td>14.5</td>\n",
       "      <td>82</td>\n",
       "      <td>Japan</td>\n",
       "      <td>green</td>\n",
       "      <td>Asia</td>\n",
       "    </tr>\n",
       "    <tr>\n",
       "      <th>390</th>\n",
       "      <td>Toyota Corolla</td>\n",
       "      <td>34.0</td>\n",
       "      <td>4</td>\n",
       "      <td>108.0</td>\n",
       "      <td>70</td>\n",
       "      <td>2245</td>\n",
       "      <td>16.9</td>\n",
       "      <td>82</td>\n",
       "      <td>Japan</td>\n",
       "      <td>blue</td>\n",
       "      <td>Asia</td>\n",
       "    </tr>\n",
       "    <tr>\n",
       "      <th>391</th>\n",
       "      <td>Honda Civic</td>\n",
       "      <td>38.0</td>\n",
       "      <td>4</td>\n",
       "      <td>91.0</td>\n",
       "      <td>67</td>\n",
       "      <td>1965</td>\n",
       "      <td>15.0</td>\n",
       "      <td>82</td>\n",
       "      <td>Japan</td>\n",
       "      <td>red</td>\n",
       "      <td>Asia</td>\n",
       "    </tr>\n",
       "    <tr>\n",
       "      <th>392</th>\n",
       "      <td>Honda Civic (auto)</td>\n",
       "      <td>32.0</td>\n",
       "      <td>4</td>\n",
       "      <td>91.0</td>\n",
       "      <td>67</td>\n",
       "      <td>1965</td>\n",
       "      <td>15.7</td>\n",
       "      <td>82</td>\n",
       "      <td>Japan</td>\n",
       "      <td>blue</td>\n",
       "      <td>Asia</td>\n",
       "    </tr>\n",
       "    <tr>\n",
       "      <th>393</th>\n",
       "      <td>Datsun 310 GX</td>\n",
       "      <td>38.0</td>\n",
       "      <td>4</td>\n",
       "      <td>91.0</td>\n",
       "      <td>67</td>\n",
       "      <td>1995</td>\n",
       "      <td>16.2</td>\n",
       "      <td>82</td>\n",
       "      <td>Japan</td>\n",
       "      <td>blue</td>\n",
       "      <td>Asia</td>\n",
       "    </tr>\n",
       "    <tr>\n",
       "      <th>394</th>\n",
       "      <td>Buick Century Limited</td>\n",
       "      <td>25.0</td>\n",
       "      <td>6</td>\n",
       "      <td>181.0</td>\n",
       "      <td>110</td>\n",
       "      <td>2945</td>\n",
       "      <td>16.4</td>\n",
       "      <td>82</td>\n",
       "      <td>US</td>\n",
       "      <td>red</td>\n",
       "      <td>America</td>\n",
       "    </tr>\n",
       "    <tr>\n",
       "      <th>395</th>\n",
       "      <td>Oldsmobile Cutlass Ciera (diesel)</td>\n",
       "      <td>38.0</td>\n",
       "      <td>6</td>\n",
       "      <td>262.0</td>\n",
       "      <td>85</td>\n",
       "      <td>3015</td>\n",
       "      <td>17.0</td>\n",
       "      <td>82</td>\n",
       "      <td>US</td>\n",
       "      <td>red</td>\n",
       "      <td>America</td>\n",
       "    </tr>\n",
       "    <tr>\n",
       "      <th>396</th>\n",
       "      <td>Chrysler Lebaron Medallion</td>\n",
       "      <td>26.0</td>\n",
       "      <td>4</td>\n",
       "      <td>156.0</td>\n",
       "      <td>92</td>\n",
       "      <td>2585</td>\n",
       "      <td>14.5</td>\n",
       "      <td>82</td>\n",
       "      <td>US</td>\n",
       "      <td>blue</td>\n",
       "      <td>America</td>\n",
       "    </tr>\n",
       "    <tr>\n",
       "      <th>397</th>\n",
       "      <td>Ford Grenada l</td>\n",
       "      <td>22.0</td>\n",
       "      <td>6</td>\n",
       "      <td>232.0</td>\n",
       "      <td>112</td>\n",
       "      <td>2835</td>\n",
       "      <td>14.7</td>\n",
       "      <td>82</td>\n",
       "      <td>US</td>\n",
       "      <td>blue</td>\n",
       "      <td>America</td>\n",
       "    </tr>\n",
       "    <tr>\n",
       "      <th>398</th>\n",
       "      <td>Toyota Celica GT</td>\n",
       "      <td>32.0</td>\n",
       "      <td>4</td>\n",
       "      <td>144.0</td>\n",
       "      <td>96</td>\n",
       "      <td>2665</td>\n",
       "      <td>13.9</td>\n",
       "      <td>82</td>\n",
       "      <td>Japan</td>\n",
       "      <td>blue</td>\n",
       "      <td>Asia</td>\n",
       "    </tr>\n",
       "    <tr>\n",
       "      <th>399</th>\n",
       "      <td>Dodge Charger 2.2</td>\n",
       "      <td>36.0</td>\n",
       "      <td>4</td>\n",
       "      <td>135.0</td>\n",
       "      <td>84</td>\n",
       "      <td>2370</td>\n",
       "      <td>13.0</td>\n",
       "      <td>82</td>\n",
       "      <td>US</td>\n",
       "      <td>blue</td>\n",
       "      <td>America</td>\n",
       "    </tr>\n",
       "    <tr>\n",
       "      <th>400</th>\n",
       "      <td>Chevrolet Camaro</td>\n",
       "      <td>27.0</td>\n",
       "      <td>4</td>\n",
       "      <td>151.0</td>\n",
       "      <td>90</td>\n",
       "      <td>2950</td>\n",
       "      <td>17.3</td>\n",
       "      <td>82</td>\n",
       "      <td>US</td>\n",
       "      <td>blue</td>\n",
       "      <td>America</td>\n",
       "    </tr>\n",
       "    <tr>\n",
       "      <th>401</th>\n",
       "      <td>Ford Mustang GL</td>\n",
       "      <td>27.0</td>\n",
       "      <td>4</td>\n",
       "      <td>140.0</td>\n",
       "      <td>86</td>\n",
       "      <td>2790</td>\n",
       "      <td>15.6</td>\n",
       "      <td>82</td>\n",
       "      <td>US</td>\n",
       "      <td>green</td>\n",
       "      <td>America</td>\n",
       "    </tr>\n",
       "    <tr>\n",
       "      <th>402</th>\n",
       "      <td>Volkswagen Pickup</td>\n",
       "      <td>44.0</td>\n",
       "      <td>4</td>\n",
       "      <td>97.0</td>\n",
       "      <td>52</td>\n",
       "      <td>2130</td>\n",
       "      <td>24.6</td>\n",
       "      <td>82</td>\n",
       "      <td>Europe</td>\n",
       "      <td>green</td>\n",
       "      <td>Europe</td>\n",
       "    </tr>\n",
       "    <tr>\n",
       "      <th>403</th>\n",
       "      <td>Dodge Rampage</td>\n",
       "      <td>32.0</td>\n",
       "      <td>4</td>\n",
       "      <td>135.0</td>\n",
       "      <td>84</td>\n",
       "      <td>2295</td>\n",
       "      <td>11.6</td>\n",
       "      <td>82</td>\n",
       "      <td>US</td>\n",
       "      <td>blue</td>\n",
       "      <td>America</td>\n",
       "    </tr>\n",
       "    <tr>\n",
       "      <th>404</th>\n",
       "      <td>Ford Ranger</td>\n",
       "      <td>28.0</td>\n",
       "      <td>4</td>\n",
       "      <td>120.0</td>\n",
       "      <td>79</td>\n",
       "      <td>2625</td>\n",
       "      <td>18.6</td>\n",
       "      <td>82</td>\n",
       "      <td>US</td>\n",
       "      <td>blue</td>\n",
       "      <td>America</td>\n",
       "    </tr>\n",
       "    <tr>\n",
       "      <th>405</th>\n",
       "      <td>Chevy S-10</td>\n",
       "      <td>31.0</td>\n",
       "      <td>4</td>\n",
       "      <td>119.0</td>\n",
       "      <td>82</td>\n",
       "      <td>2720</td>\n",
       "      <td>19.4</td>\n",
       "      <td>82</td>\n",
       "      <td>US</td>\n",
       "      <td>green</td>\n",
       "      <td>America</td>\n",
       "    </tr>\n",
       "  </tbody>\n",
       "</table>\n",
       "<p>406 rows × 11 columns</p>\n",
       "</div>"
      ],
      "text/plain": [
       "                                   Car   MPG  Cylinders  Displacement  \\\n",
       "0            Chevrolet Chevelle Malibu  18.0          8         307.0   \n",
       "1                    Buick Skylark 320  15.0          8         350.0   \n",
       "2                   Plymouth Satellite  18.0          8         318.0   \n",
       "3                        AMC Rebel SST  16.0          8         304.0   \n",
       "4                          Ford Torino  17.0          8         302.0   \n",
       "5                     Ford Galaxie 500  15.0          8         429.0   \n",
       "6                     Chevrolet Impala  14.0          8         454.0   \n",
       "7                    Plymouth Fury iii  14.0          8         440.0   \n",
       "8                     Pontiac Catalina  14.0          8         455.0   \n",
       "9                   AMC Ambassador DPL  15.0          8         390.0   \n",
       "10                Citroen DS-21 Pallas   0.0          4         133.0   \n",
       "11    Chevrolet Chevelle Concours (sw)   0.0          8         350.0   \n",
       "12                    Ford Torino (sw)   0.0          8         351.0   \n",
       "13             Plymouth Satellite (sw)   0.0          8         383.0   \n",
       "14                  AMC Rebel SST (sw)   0.0          8         360.0   \n",
       "15                 Dodge Challenger SE  15.0          8         383.0   \n",
       "16                  Plymouth 'Cuda 340  14.0          8         340.0   \n",
       "17               Ford Mustang Boss 302   0.0          8         302.0   \n",
       "18               Chevrolet Monte Carlo  15.0          8         400.0   \n",
       "19             Buick Estate Wagon (sw)  14.0          8         455.0   \n",
       "20              Toyota Corolla Mark ii  24.0          4         113.0   \n",
       "21                     Plymouth Duster  22.0          6         198.0   \n",
       "22                          AMC Hornet  18.0          6         199.0   \n",
       "23                       Ford Maverick  21.0          6         200.0   \n",
       "24                        Datsun PL510  27.0          4          97.0   \n",
       "25        Volkswagen 1131 Deluxe Sedan  26.0          4          97.0   \n",
       "26                         Peugeot 504  25.0          4         110.0   \n",
       "27                         Audi 100 LS  24.0          4         107.0   \n",
       "28                            Saab 99e  25.0          4         104.0   \n",
       "29                            BMW 2002  26.0          4         121.0   \n",
       "..                                 ...   ...        ...           ...   \n",
       "376           Chevrolet Cavalier Wagon  27.0          4         112.0   \n",
       "377          Chevrolet Cavalier 2-door  34.0          4         112.0   \n",
       "378         Pontiac J2000 SE Hatchback  31.0          4         112.0   \n",
       "379                     Dodge Aries SE  29.0          4         135.0   \n",
       "380                    Pontiac Phoenix  27.0          4         151.0   \n",
       "381               Ford Fairmont Futura  24.0          4         140.0   \n",
       "382                     AMC Concord DL  23.0          4         151.0   \n",
       "383                Volkswagen Rabbit l  36.0          4         105.0   \n",
       "384                 Mazda GLC Custom l  37.0          4          91.0   \n",
       "385                   Mazda GLC Custom  31.0          4          91.0   \n",
       "386             Plymouth Horizon Miser  38.0          4         105.0   \n",
       "387                     Mercury Lynx l  36.0          4          98.0   \n",
       "388                   Nissan Stanza XE  36.0          4         120.0   \n",
       "389                       Honda Accord  36.0          4         107.0   \n",
       "390                     Toyota Corolla  34.0          4         108.0   \n",
       "391                        Honda Civic  38.0          4          91.0   \n",
       "392                 Honda Civic (auto)  32.0          4          91.0   \n",
       "393                      Datsun 310 GX  38.0          4          91.0   \n",
       "394              Buick Century Limited  25.0          6         181.0   \n",
       "395  Oldsmobile Cutlass Ciera (diesel)  38.0          6         262.0   \n",
       "396         Chrysler Lebaron Medallion  26.0          4         156.0   \n",
       "397                     Ford Grenada l  22.0          6         232.0   \n",
       "398                   Toyota Celica GT  32.0          4         144.0   \n",
       "399                  Dodge Charger 2.2  36.0          4         135.0   \n",
       "400                   Chevrolet Camaro  27.0          4         151.0   \n",
       "401                    Ford Mustang GL  27.0          4         140.0   \n",
       "402                  Volkswagen Pickup  44.0          4          97.0   \n",
       "403                      Dodge Rampage  32.0          4         135.0   \n",
       "404                        Ford Ranger  28.0          4         120.0   \n",
       "405                         Chevy S-10  31.0          4         119.0   \n",
       "\n",
       "     Horsepower  Weight  Acceleration  Model  Origin  Color Continent  \n",
       "0           130    3504          12.0     70      US   blue   America  \n",
       "1           165    3693          11.5     70      US    red   America  \n",
       "2           150    3436          11.0     70      US   blue   America  \n",
       "3           150    3433          12.0     70      US  green   America  \n",
       "4           140    3449          10.5     70      US    red   America  \n",
       "5           198    4341          10.0     70      US    red   America  \n",
       "6           220    4354           9.0     70      US  green   America  \n",
       "7           215    4312           8.5     70      US   blue   America  \n",
       "8           225    4425          10.0     70      US   blue   America  \n",
       "9           190    3850           8.5     70      US  green   America  \n",
       "10          115    3090          17.5     70  Europe   blue    Europe  \n",
       "11          165    4142          11.5     70      US   blue   America  \n",
       "12          153    4034          11.0     70      US   blue   America  \n",
       "13          175    4166          10.5     70      US   blue   America  \n",
       "14          175    3850          11.0     70      US   blue   America  \n",
       "15          170    3563          10.0     70      US  green   America  \n",
       "16          160    3609           8.0     70      US   blue   America  \n",
       "17          140    3353           8.0     70      US    red   America  \n",
       "18          150    3761           9.5     70      US    red   America  \n",
       "19          225    3086          10.0     70      US   blue   America  \n",
       "20           95    2372          15.0     70   Japan   blue      Asia  \n",
       "21           95    2833          15.5     70      US   blue   America  \n",
       "22           97    2774          15.5     70      US   blue   America  \n",
       "23           85    2587          16.0     70      US   blue   America  \n",
       "24           88    2130          14.5     70   Japan  green      Asia  \n",
       "25           46    1835          20.5     70  Europe    red    Europe  \n",
       "26           87    2672          17.5     70  Europe    red    Europe  \n",
       "27           90    2430          14.5     70  Europe   blue    Europe  \n",
       "28           95    2375          17.5     70  Europe    red    Europe  \n",
       "29          113    2234          12.5     70  Europe  green    Europe  \n",
       "..          ...     ...           ...    ...     ...    ...       ...  \n",
       "376          88    2640          18.6     82      US    red   America  \n",
       "377          88    2395          18.0     82      US   blue   America  \n",
       "378          85    2575          16.2     82      US   blue   America  \n",
       "379          84    2525          16.0     82      US    red   America  \n",
       "380          90    2735          18.0     82      US   blue   America  \n",
       "381          92    2865          16.4     82      US   blue   America  \n",
       "382           0    3035          20.5     82      US  green   America  \n",
       "383          74    1980          15.3     82  Europe   blue    Europe  \n",
       "384          68    2025          18.2     82   Japan   blue      Asia  \n",
       "385          68    1970          17.6     82   Japan   blue      Asia  \n",
       "386          63    2125          14.7     82      US    red   America  \n",
       "387          70    2125          17.3     82      US  green   America  \n",
       "388          88    2160          14.5     82   Japan   blue      Asia  \n",
       "389          75    2205          14.5     82   Japan  green      Asia  \n",
       "390          70    2245          16.9     82   Japan   blue      Asia  \n",
       "391          67    1965          15.0     82   Japan    red      Asia  \n",
       "392          67    1965          15.7     82   Japan   blue      Asia  \n",
       "393          67    1995          16.2     82   Japan   blue      Asia  \n",
       "394         110    2945          16.4     82      US    red   America  \n",
       "395          85    3015          17.0     82      US    red   America  \n",
       "396          92    2585          14.5     82      US   blue   America  \n",
       "397         112    2835          14.7     82      US   blue   America  \n",
       "398          96    2665          13.9     82   Japan   blue      Asia  \n",
       "399          84    2370          13.0     82      US   blue   America  \n",
       "400          90    2950          17.3     82      US   blue   America  \n",
       "401          86    2790          15.6     82      US  green   America  \n",
       "402          52    2130          24.6     82  Europe  green    Europe  \n",
       "403          84    2295          11.6     82      US   blue   America  \n",
       "404          79    2625          18.6     82      US   blue   America  \n",
       "405          82    2720          19.4     82      US  green   America  \n",
       "\n",
       "[406 rows x 11 columns]"
      ]
     },
     "execution_count": 69,
     "metadata": {},
     "output_type": "execute_result"
    }
   ],
   "source": [
    "cars['____'] = cars.loc[:,'Origin'].____(continent)\n",
    "cars"
   ]
  },
  {
   "cell_type": "markdown",
   "metadata": {},
   "source": [
    "###### b) Save the Data Frame as newcar.csv"
   ]
  },
  {
   "cell_type": "code",
   "execution_count": 70,
   "metadata": {
    "collapsed": true
   },
   "outputs": [],
   "source": [
    "cars._____('newcar.csv')"
   ]
  },
  {
   "cell_type": "code",
   "execution_count": null,
   "metadata": {
    "collapsed": true
   },
   "outputs": [],
   "source": []
  },
  {
   "cell_type": "markdown",
   "metadata": {},
   "source": [
    "## Drop Columns"
   ]
  },
  {
   "cell_type": "code",
   "execution_count": 50,
   "metadata": {},
   "outputs": [
    {
     "data": {
      "text/html": [
       "<div>\n",
       "<style scoped>\n",
       "    .dataframe tbody tr th:only-of-type {\n",
       "        vertical-align: middle;\n",
       "    }\n",
       "\n",
       "    .dataframe tbody tr th {\n",
       "        vertical-align: top;\n",
       "    }\n",
       "\n",
       "    .dataframe thead th {\n",
       "        text-align: right;\n",
       "    }\n",
       "</style>\n",
       "<table border=\"1\" class=\"dataframe\">\n",
       "  <thead>\n",
       "    <tr style=\"text-align: right;\">\n",
       "      <th></th>\n",
       "      <th>town</th>\n",
       "      <th>flat_type</th>\n",
       "      <th>floor_area_sqm</th>\n",
       "      <th>lease_commence_date</th>\n",
       "      <th>resale_price</th>\n",
       "      <th>Year</th>\n",
       "      <th>Quarter</th>\n",
       "    </tr>\n",
       "  </thead>\n",
       "  <tbody>\n",
       "    <tr>\n",
       "      <th>87705</th>\n",
       "      <td>ANG MO KIO</td>\n",
       "      <td>4 ROOM</td>\n",
       "      <td>92.0</td>\n",
       "      <td>1977</td>\n",
       "      <td>590000.0</td>\n",
       "      <td>2016</td>\n",
       "      <td>11</td>\n",
       "    </tr>\n",
       "    <tr>\n",
       "      <th>86039</th>\n",
       "      <td>ANG MO KIO</td>\n",
       "      <td>4 ROOM</td>\n",
       "      <td>92.0</td>\n",
       "      <td>1978</td>\n",
       "      <td>490000.0</td>\n",
       "      <td>2016</td>\n",
       "      <td>10</td>\n",
       "    </tr>\n",
       "    <tr>\n",
       "      <th>52213</th>\n",
       "      <td>ANG MO KIO</td>\n",
       "      <td>3 ROOM</td>\n",
       "      <td>68.0</td>\n",
       "      <td>1979</td>\n",
       "      <td>290000.0</td>\n",
       "      <td>2015</td>\n",
       "      <td>01</td>\n",
       "    </tr>\n",
       "    <tr>\n",
       "      <th>46561</th>\n",
       "      <td>ANG MO KIO</td>\n",
       "      <td>4 ROOM</td>\n",
       "      <td>92.0</td>\n",
       "      <td>1981</td>\n",
       "      <td>425000.0</td>\n",
       "      <td>2014</td>\n",
       "      <td>09</td>\n",
       "    </tr>\n",
       "    <tr>\n",
       "      <th>69890</th>\n",
       "      <td>ANG MO KIO</td>\n",
       "      <td>EXECUTIVE</td>\n",
       "      <td>153.0</td>\n",
       "      <td>1996</td>\n",
       "      <td>760000.0</td>\n",
       "      <td>2015</td>\n",
       "      <td>12</td>\n",
       "    </tr>\n",
       "  </tbody>\n",
       "</table>\n",
       "</div>"
      ],
      "text/plain": [
       "             town  flat_type  floor_area_sqm  lease_commence_date  \\\n",
       "87705  ANG MO KIO     4 ROOM            92.0                 1977   \n",
       "86039  ANG MO KIO     4 ROOM            92.0                 1978   \n",
       "52213  ANG MO KIO     3 ROOM            68.0                 1979   \n",
       "46561  ANG MO KIO     4 ROOM            92.0                 1981   \n",
       "69890  ANG MO KIO  EXECUTIVE           153.0                 1996   \n",
       "\n",
       "       resale_price  Year Quarter  \n",
       "87705      590000.0  2016      11  \n",
       "86039      490000.0  2016      10  \n",
       "52213      290000.0  2015      01  \n",
       "46561      425000.0  2014      09  \n",
       "69890      760000.0  2015      12  "
      ]
     },
     "execution_count": 50,
     "metadata": {},
     "output_type": "execute_result"
    }
   ],
   "source": [
    "# drop columns\n",
    "# inplace so that original data can be modified without creating a copy.\n",
    "resale.drop('month', axis = 1, inplace=True)\n",
    "resale.head()"
   ]
  },
  {
   "cell_type": "markdown",
   "metadata": {},
   "source": [
    "Other string operations include contains **count, endswith, startswith, findall, lower, upper, math, strip, etc.** "
   ]
  },
  {
   "cell_type": "markdown",
   "metadata": {},
   "source": [
    "## Exercise 2.5.4"
   ]
  },
  {
   "cell_type": "markdown",
   "metadata": {},
   "source": [
    "###### c) Drop 'Origin' Field in cars dataframe"
   ]
  },
  {
   "cell_type": "code",
   "execution_count": 72,
   "metadata": {
    "scrolled": true
   },
   "outputs": [
    {
     "data": {
      "text/html": [
       "<div>\n",
       "<style scoped>\n",
       "    .dataframe tbody tr th:only-of-type {\n",
       "        vertical-align: middle;\n",
       "    }\n",
       "\n",
       "    .dataframe tbody tr th {\n",
       "        vertical-align: top;\n",
       "    }\n",
       "\n",
       "    .dataframe thead th {\n",
       "        text-align: right;\n",
       "    }\n",
       "</style>\n",
       "<table border=\"1\" class=\"dataframe\">\n",
       "  <thead>\n",
       "    <tr style=\"text-align: right;\">\n",
       "      <th></th>\n",
       "      <th>Car</th>\n",
       "      <th>MPG</th>\n",
       "      <th>Cylinders</th>\n",
       "      <th>Displacement</th>\n",
       "      <th>Horsepower</th>\n",
       "      <th>Weight</th>\n",
       "      <th>Acceleration</th>\n",
       "      <th>Model</th>\n",
       "      <th>Origin</th>\n",
       "      <th>Color</th>\n",
       "      <th>Continent</th>\n",
       "    </tr>\n",
       "  </thead>\n",
       "  <tbody>\n",
       "    <tr>\n",
       "      <th>0</th>\n",
       "      <td>Chevrolet Chevelle Malibu</td>\n",
       "      <td>18.0</td>\n",
       "      <td>8</td>\n",
       "      <td>307.0</td>\n",
       "      <td>130</td>\n",
       "      <td>3504</td>\n",
       "      <td>12.0</td>\n",
       "      <td>70</td>\n",
       "      <td>US</td>\n",
       "      <td>blue</td>\n",
       "      <td>America</td>\n",
       "    </tr>\n",
       "    <tr>\n",
       "      <th>1</th>\n",
       "      <td>Buick Skylark 320</td>\n",
       "      <td>15.0</td>\n",
       "      <td>8</td>\n",
       "      <td>350.0</td>\n",
       "      <td>165</td>\n",
       "      <td>3693</td>\n",
       "      <td>11.5</td>\n",
       "      <td>70</td>\n",
       "      <td>US</td>\n",
       "      <td>red</td>\n",
       "      <td>America</td>\n",
       "    </tr>\n",
       "  </tbody>\n",
       "</table>\n",
       "</div>"
      ],
      "text/plain": [
       "                         Car   MPG  Cylinders  Displacement  Horsepower  \\\n",
       "0  Chevrolet Chevelle Malibu  18.0          8         307.0         130   \n",
       "1          Buick Skylark 320  15.0          8         350.0         165   \n",
       "\n",
       "   Weight  Acceleration  Model Origin Color Continent  \n",
       "0    3504          12.0     70     US  blue   America  \n",
       "1    3693          11.5     70     US   red   America  "
      ]
     },
     "execution_count": 72,
     "metadata": {},
     "output_type": "execute_result"
    }
   ],
   "source": [
    "cars=pd.read_csv('newcar.csv', index_col=0)\n",
    "cars.head(2)"
   ]
  },
  {
   "cell_type": "code",
   "execution_count": 73,
   "metadata": {
    "scrolled": true
   },
   "outputs": [
    {
     "data": {
      "text/html": [
       "<div>\n",
       "<style scoped>\n",
       "    .dataframe tbody tr th:only-of-type {\n",
       "        vertical-align: middle;\n",
       "    }\n",
       "\n",
       "    .dataframe tbody tr th {\n",
       "        vertical-align: top;\n",
       "    }\n",
       "\n",
       "    .dataframe thead th {\n",
       "        text-align: right;\n",
       "    }\n",
       "</style>\n",
       "<table border=\"1\" class=\"dataframe\">\n",
       "  <thead>\n",
       "    <tr style=\"text-align: right;\">\n",
       "      <th></th>\n",
       "      <th>Car</th>\n",
       "      <th>MPG</th>\n",
       "      <th>Cylinders</th>\n",
       "      <th>Displacement</th>\n",
       "      <th>Horsepower</th>\n",
       "      <th>Weight</th>\n",
       "      <th>Acceleration</th>\n",
       "      <th>Model</th>\n",
       "      <th>Color</th>\n",
       "      <th>Continent</th>\n",
       "    </tr>\n",
       "  </thead>\n",
       "  <tbody>\n",
       "    <tr>\n",
       "      <th>0</th>\n",
       "      <td>Chevrolet Chevelle Malibu</td>\n",
       "      <td>18.0</td>\n",
       "      <td>8</td>\n",
       "      <td>307.0</td>\n",
       "      <td>130</td>\n",
       "      <td>3504</td>\n",
       "      <td>12.0</td>\n",
       "      <td>70</td>\n",
       "      <td>blue</td>\n",
       "      <td>America</td>\n",
       "    </tr>\n",
       "    <tr>\n",
       "      <th>1</th>\n",
       "      <td>Buick Skylark 320</td>\n",
       "      <td>15.0</td>\n",
       "      <td>8</td>\n",
       "      <td>350.0</td>\n",
       "      <td>165</td>\n",
       "      <td>3693</td>\n",
       "      <td>11.5</td>\n",
       "      <td>70</td>\n",
       "      <td>red</td>\n",
       "      <td>America</td>\n",
       "    </tr>\n",
       "  </tbody>\n",
       "</table>\n",
       "</div>"
      ],
      "text/plain": [
       "                         Car   MPG  Cylinders  Displacement  Horsepower  \\\n",
       "0  Chevrolet Chevelle Malibu  18.0          8         307.0         130   \n",
       "1          Buick Skylark 320  15.0          8         350.0         165   \n",
       "\n",
       "   Weight  Acceleration  Model Color Continent  \n",
       "0    3504          12.0     70  blue   America  \n",
       "1    3693          11.5     70   red   America  "
      ]
     },
     "execution_count": 73,
     "metadata": {},
     "output_type": "execute_result"
    }
   ],
   "source": [
    "cars._____('Origin', axis = 1, inplace=True)\n",
    "cars.head(2)"
   ]
  },
  {
   "cell_type": "code",
   "execution_count": null,
   "metadata": {
    "collapsed": true
   },
   "outputs": [],
   "source": []
  },
  {
   "cell_type": "code",
   "execution_count": null,
   "metadata": {
    "collapsed": true
   },
   "outputs": [],
   "source": []
  },
  {
   "cell_type": "code",
   "execution_count": null,
   "metadata": {
    "collapsed": true
   },
   "outputs": [],
   "source": []
  },
  {
   "cell_type": "markdown",
   "metadata": {},
   "source": [
    "## Dealing with time format  "
   ]
  },
  {
   "cell_type": "code",
   "execution_count": 51,
   "metadata": {},
   "outputs": [
    {
     "data": {
      "text/plain": [
       "dtype('O')"
      ]
     },
     "execution_count": 51,
     "metadata": {},
     "output_type": "execute_result"
    }
   ],
   "source": [
    "resale['Year'].dtypes"
   ]
  },
  {
   "cell_type": "code",
   "execution_count": null,
   "metadata": {
    "collapsed": true
   },
   "outputs": [],
   "source": []
  },
  {
   "cell_type": "code",
   "execution_count": 52,
   "metadata": {},
   "outputs": [
    {
     "data": {
      "text/plain": [
       "dtype('<M8[ns]')"
      ]
     },
     "execution_count": 52,
     "metadata": {},
     "output_type": "execute_result"
    }
   ],
   "source": [
    "from datetime import datetime \n",
    "resale['Year'] = pd.to_datetime(resale['Year'])\n",
    "resale['Year'].dtypes"
   ]
  },
  {
   "cell_type": "code",
   "execution_count": 39,
   "metadata": {},
   "outputs": [
    {
     "data": {
      "text/plain": [
       "87705   2016-01-01\n",
       "86039   2016-01-01\n",
       "52213   2015-01-01\n",
       "Name: Year, dtype: datetime64[ns]"
      ]
     },
     "execution_count": 39,
     "metadata": {},
     "output_type": "execute_result"
    }
   ],
   "source": [
    "resale['Year'].head(3)"
   ]
  },
  {
   "cell_type": "code",
   "execution_count": 53,
   "metadata": {},
   "outputs": [
    {
     "data": {
      "text/plain": [
       "dtype('O')"
      ]
     },
     "execution_count": 53,
     "metadata": {},
     "output_type": "execute_result"
    }
   ],
   "source": [
    "resale['Year'] = [x.strftime('%Y') for x in resale['Year']]\n",
    "resale['Year'].dtypes"
   ]
  },
  {
   "cell_type": "markdown",
   "metadata": {},
   "source": [
    "## 2.5.5. Supplementing our dataset with more data: Merging and Joining Datasets "
   ]
  },
  {
   "cell_type": "markdown",
   "metadata": {},
   "source": [
    "Before we purchase a property, it's useful to take note of any amneties nearby, particularly schools. Our original dataset doesn't come with information about schools, but with Pandas, adding information to our dataset is easy with the merge( ) function. "
   ]
  },
  {
   "cell_type": "code",
   "execution_count": 54,
   "metadata": {
    "collapsed": true
   },
   "outputs": [],
   "source": [
    "# create two data frames \n",
    "# price of 4-room for 2016 \n",
    "price = pd.DataFrame({'town': ['Yishun','Woodlands','Toa Payoh','Tampines','Serangoon'],\n",
    "                        'price' : [369000,350000,565000,430000,465000]})\n",
    "# number of secondary schools in area in 2016\n",
    "schools = pd.DataFrame({'town' : ['Woodlands','Yishun','Toa Payoh','Tampines','Serangoon'],\n",
    "                        'school_num' : [10,9,6,10,4]})"
   ]
  },
  {
   "cell_type": "code",
   "execution_count": 55,
   "metadata": {},
   "outputs": [
    {
     "data": {
      "text/html": [
       "<div>\n",
       "<style scoped>\n",
       "    .dataframe tbody tr th:only-of-type {\n",
       "        vertical-align: middle;\n",
       "    }\n",
       "\n",
       "    .dataframe tbody tr th {\n",
       "        vertical-align: top;\n",
       "    }\n",
       "\n",
       "    .dataframe thead th {\n",
       "        text-align: right;\n",
       "    }\n",
       "</style>\n",
       "<table border=\"1\" class=\"dataframe\">\n",
       "  <thead>\n",
       "    <tr style=\"text-align: right;\">\n",
       "      <th></th>\n",
       "      <th>town</th>\n",
       "      <th>price</th>\n",
       "    </tr>\n",
       "  </thead>\n",
       "  <tbody>\n",
       "    <tr>\n",
       "      <th>0</th>\n",
       "      <td>Yishun</td>\n",
       "      <td>369000</td>\n",
       "    </tr>\n",
       "    <tr>\n",
       "      <th>1</th>\n",
       "      <td>Woodlands</td>\n",
       "      <td>350000</td>\n",
       "    </tr>\n",
       "    <tr>\n",
       "      <th>2</th>\n",
       "      <td>Toa Payoh</td>\n",
       "      <td>565000</td>\n",
       "    </tr>\n",
       "    <tr>\n",
       "      <th>3</th>\n",
       "      <td>Tampines</td>\n",
       "      <td>430000</td>\n",
       "    </tr>\n",
       "    <tr>\n",
       "      <th>4</th>\n",
       "      <td>Serangoon</td>\n",
       "      <td>465000</td>\n",
       "    </tr>\n",
       "  </tbody>\n",
       "</table>\n",
       "</div>"
      ],
      "text/plain": [
       "        town   price\n",
       "0     Yishun  369000\n",
       "1  Woodlands  350000\n",
       "2  Toa Payoh  565000\n",
       "3   Tampines  430000\n",
       "4  Serangoon  465000"
      ]
     },
     "execution_count": 55,
     "metadata": {},
     "output_type": "execute_result"
    }
   ],
   "source": [
    "price"
   ]
  },
  {
   "cell_type": "code",
   "execution_count": 56,
   "metadata": {},
   "outputs": [
    {
     "data": {
      "text/html": [
       "<div>\n",
       "<style scoped>\n",
       "    .dataframe tbody tr th:only-of-type {\n",
       "        vertical-align: middle;\n",
       "    }\n",
       "\n",
       "    .dataframe tbody tr th {\n",
       "        vertical-align: top;\n",
       "    }\n",
       "\n",
       "    .dataframe thead th {\n",
       "        text-align: right;\n",
       "    }\n",
       "</style>\n",
       "<table border=\"1\" class=\"dataframe\">\n",
       "  <thead>\n",
       "    <tr style=\"text-align: right;\">\n",
       "      <th></th>\n",
       "      <th>town</th>\n",
       "      <th>school_num</th>\n",
       "    </tr>\n",
       "  </thead>\n",
       "  <tbody>\n",
       "    <tr>\n",
       "      <th>0</th>\n",
       "      <td>Woodlands</td>\n",
       "      <td>10</td>\n",
       "    </tr>\n",
       "    <tr>\n",
       "      <th>1</th>\n",
       "      <td>Yishun</td>\n",
       "      <td>9</td>\n",
       "    </tr>\n",
       "    <tr>\n",
       "      <th>2</th>\n",
       "      <td>Toa Payoh</td>\n",
       "      <td>6</td>\n",
       "    </tr>\n",
       "    <tr>\n",
       "      <th>3</th>\n",
       "      <td>Tampines</td>\n",
       "      <td>10</td>\n",
       "    </tr>\n",
       "    <tr>\n",
       "      <th>4</th>\n",
       "      <td>Serangoon</td>\n",
       "      <td>4</td>\n",
       "    </tr>\n",
       "  </tbody>\n",
       "</table>\n",
       "</div>"
      ],
      "text/plain": [
       "        town  school_num\n",
       "0  Woodlands          10\n",
       "1     Yishun           9\n",
       "2  Toa Payoh           6\n",
       "3   Tampines          10\n",
       "4  Serangoon           4"
      ]
     },
     "execution_count": 56,
     "metadata": {},
     "output_type": "execute_result"
    }
   ],
   "source": [
    "schools"
   ]
  },
  {
   "cell_type": "code",
   "execution_count": 57,
   "metadata": {},
   "outputs": [
    {
     "data": {
      "text/html": [
       "<div>\n",
       "<style scoped>\n",
       "    .dataframe tbody tr th:only-of-type {\n",
       "        vertical-align: middle;\n",
       "    }\n",
       "\n",
       "    .dataframe tbody tr th {\n",
       "        vertical-align: top;\n",
       "    }\n",
       "\n",
       "    .dataframe thead th {\n",
       "        text-align: right;\n",
       "    }\n",
       "</style>\n",
       "<table border=\"1\" class=\"dataframe\">\n",
       "  <thead>\n",
       "    <tr style=\"text-align: right;\">\n",
       "      <th></th>\n",
       "      <th>town</th>\n",
       "      <th>price</th>\n",
       "      <th>school_num</th>\n",
       "    </tr>\n",
       "  </thead>\n",
       "  <tbody>\n",
       "    <tr>\n",
       "      <th>0</th>\n",
       "      <td>Yishun</td>\n",
       "      <td>369000</td>\n",
       "      <td>9</td>\n",
       "    </tr>\n",
       "    <tr>\n",
       "      <th>1</th>\n",
       "      <td>Woodlands</td>\n",
       "      <td>350000</td>\n",
       "      <td>10</td>\n",
       "    </tr>\n",
       "    <tr>\n",
       "      <th>2</th>\n",
       "      <td>Toa Payoh</td>\n",
       "      <td>565000</td>\n",
       "      <td>6</td>\n",
       "    </tr>\n",
       "    <tr>\n",
       "      <th>3</th>\n",
       "      <td>Tampines</td>\n",
       "      <td>430000</td>\n",
       "      <td>10</td>\n",
       "    </tr>\n",
       "    <tr>\n",
       "      <th>4</th>\n",
       "      <td>Serangoon</td>\n",
       "      <td>465000</td>\n",
       "      <td>4</td>\n",
       "    </tr>\n",
       "  </tbody>\n",
       "</table>\n",
       "</div>"
      ],
      "text/plain": [
       "        town   price  school_num\n",
       "0     Yishun  369000           9\n",
       "1  Woodlands  350000          10\n",
       "2  Toa Payoh  565000           6\n",
       "3   Tampines  430000          10\n",
       "4  Serangoon  465000           4"
      ]
     },
     "execution_count": 57,
     "metadata": {},
     "output_type": "execute_result"
    }
   ],
   "source": [
    "# combine both data frames into one \n",
    "merged = pd.merge(price, schools)\n",
    "merged "
   ]
  },
  {
   "cell_type": "markdown",
   "metadata": {},
   "source": [
    "Note that the pd.merge( ) function sees that each DataFrame has an 'employee' column and hence joins using this column as a key. Hence we have painlessly combines the information from the two inputs. \n",
    "\n",
    "For the SQL folks, pd.merge( ) allows more complex joins such as many-to-many joins, left joins, inner joins etc. See the documentation for more details, or Wes McKinney's Python for Data Analysis is a great resource. "
   ]
  },
  {
   "cell_type": "markdown",
   "metadata": {},
   "source": [
    "A quick alternative to the pd.merge( ) function is the pd.concat( ) function. This function allows us to specify whether to join the DataFrame by column or rows. "
   ]
  },
  {
   "cell_type": "code",
   "execution_count": 45,
   "metadata": {
    "scrolled": true
   },
   "outputs": [
    {
     "data": {
      "text/html": [
       "<div>\n",
       "<style scoped>\n",
       "    .dataframe tbody tr th:only-of-type {\n",
       "        vertical-align: middle;\n",
       "    }\n",
       "\n",
       "    .dataframe tbody tr th {\n",
       "        vertical-align: top;\n",
       "    }\n",
       "\n",
       "    .dataframe thead th {\n",
       "        text-align: right;\n",
       "    }\n",
       "</style>\n",
       "<table border=\"1\" class=\"dataframe\">\n",
       "  <thead>\n",
       "    <tr style=\"text-align: right;\">\n",
       "      <th></th>\n",
       "      <th>price</th>\n",
       "      <th>town</th>\n",
       "      <th>school_num</th>\n",
       "      <th>town</th>\n",
       "    </tr>\n",
       "  </thead>\n",
       "  <tbody>\n",
       "    <tr>\n",
       "      <th>0</th>\n",
       "      <td>369000</td>\n",
       "      <td>Yishun</td>\n",
       "      <td>10</td>\n",
       "      <td>Woodlands</td>\n",
       "    </tr>\n",
       "    <tr>\n",
       "      <th>1</th>\n",
       "      <td>350000</td>\n",
       "      <td>Woodlands</td>\n",
       "      <td>9</td>\n",
       "      <td>Yishun</td>\n",
       "    </tr>\n",
       "    <tr>\n",
       "      <th>2</th>\n",
       "      <td>565000</td>\n",
       "      <td>Toa Payoh</td>\n",
       "      <td>6</td>\n",
       "      <td>Toa Payoh</td>\n",
       "    </tr>\n",
       "    <tr>\n",
       "      <th>3</th>\n",
       "      <td>430000</td>\n",
       "      <td>Tampines</td>\n",
       "      <td>10</td>\n",
       "      <td>Tampines</td>\n",
       "    </tr>\n",
       "    <tr>\n",
       "      <th>4</th>\n",
       "      <td>465000</td>\n",
       "      <td>Serangoon</td>\n",
       "      <td>4</td>\n",
       "      <td>Serangoon</td>\n",
       "    </tr>\n",
       "  </tbody>\n",
       "</table>\n",
       "</div>"
      ],
      "text/plain": [
       "    price       town  school_num       town\n",
       "0  369000     Yishun          10  Woodlands\n",
       "1  350000  Woodlands           9     Yishun\n",
       "2  565000  Toa Payoh           6  Toa Payoh\n",
       "3  430000   Tampines          10   Tampines\n",
       "4  465000  Serangoon           4  Serangoon"
      ]
     },
     "execution_count": 45,
     "metadata": {},
     "output_type": "execute_result"
    }
   ],
   "source": [
    "pd.concat([price, schools], axis=1)"
   ]
  },
  {
   "cell_type": "markdown",
   "metadata": {},
   "source": [
    "### The importance of reset_index()"
   ]
  },
  {
   "cell_type": "code",
   "execution_count": 58,
   "metadata": {
    "scrolled": true
   },
   "outputs": [
    {
     "data": {
      "text/html": [
       "<div>\n",
       "<style scoped>\n",
       "    .dataframe tbody tr th:only-of-type {\n",
       "        vertical-align: middle;\n",
       "    }\n",
       "\n",
       "    .dataframe tbody tr th {\n",
       "        vertical-align: top;\n",
       "    }\n",
       "\n",
       "    .dataframe thead th {\n",
       "        text-align: right;\n",
       "    }\n",
       "</style>\n",
       "<table border=\"1\" class=\"dataframe\">\n",
       "  <thead>\n",
       "    <tr style=\"text-align: right;\">\n",
       "      <th></th>\n",
       "      <th>town</th>\n",
       "      <th>price</th>\n",
       "    </tr>\n",
       "  </thead>\n",
       "  <tbody>\n",
       "    <tr>\n",
       "      <th>4</th>\n",
       "      <td>Serangoon</td>\n",
       "      <td>465000</td>\n",
       "    </tr>\n",
       "    <tr>\n",
       "      <th>3</th>\n",
       "      <td>Tampines</td>\n",
       "      <td>430000</td>\n",
       "    </tr>\n",
       "    <tr>\n",
       "      <th>2</th>\n",
       "      <td>Toa Payoh</td>\n",
       "      <td>565000</td>\n",
       "    </tr>\n",
       "    <tr>\n",
       "      <th>1</th>\n",
       "      <td>Woodlands</td>\n",
       "      <td>350000</td>\n",
       "    </tr>\n",
       "    <tr>\n",
       "      <th>0</th>\n",
       "      <td>Yishun</td>\n",
       "      <td>369000</td>\n",
       "    </tr>\n",
       "  </tbody>\n",
       "</table>\n",
       "</div>"
      ],
      "text/plain": [
       "        town   price\n",
       "4  Serangoon  465000\n",
       "3   Tampines  430000\n",
       "2  Toa Payoh  565000\n",
       "1  Woodlands  350000\n",
       "0     Yishun  369000"
      ]
     },
     "execution_count": 58,
     "metadata": {},
     "output_type": "execute_result"
    }
   ],
   "source": [
    "price.sort_values(by='town')"
   ]
  },
  {
   "cell_type": "code",
   "execution_count": 59,
   "metadata": {},
   "outputs": [
    {
     "data": {
      "text/html": [
       "<div>\n",
       "<style scoped>\n",
       "    .dataframe tbody tr th:only-of-type {\n",
       "        vertical-align: middle;\n",
       "    }\n",
       "\n",
       "    .dataframe tbody tr th {\n",
       "        vertical-align: top;\n",
       "    }\n",
       "\n",
       "    .dataframe thead th {\n",
       "        text-align: right;\n",
       "    }\n",
       "</style>\n",
       "<table border=\"1\" class=\"dataframe\">\n",
       "  <thead>\n",
       "    <tr style=\"text-align: right;\">\n",
       "      <th></th>\n",
       "      <th>index</th>\n",
       "      <th>town</th>\n",
       "      <th>price</th>\n",
       "    </tr>\n",
       "  </thead>\n",
       "  <tbody>\n",
       "    <tr>\n",
       "      <th>0</th>\n",
       "      <td>4</td>\n",
       "      <td>Serangoon</td>\n",
       "      <td>465000</td>\n",
       "    </tr>\n",
       "    <tr>\n",
       "      <th>1</th>\n",
       "      <td>3</td>\n",
       "      <td>Tampines</td>\n",
       "      <td>430000</td>\n",
       "    </tr>\n",
       "    <tr>\n",
       "      <th>2</th>\n",
       "      <td>2</td>\n",
       "      <td>Toa Payoh</td>\n",
       "      <td>565000</td>\n",
       "    </tr>\n",
       "    <tr>\n",
       "      <th>3</th>\n",
       "      <td>1</td>\n",
       "      <td>Woodlands</td>\n",
       "      <td>350000</td>\n",
       "    </tr>\n",
       "    <tr>\n",
       "      <th>4</th>\n",
       "      <td>0</td>\n",
       "      <td>Yishun</td>\n",
       "      <td>369000</td>\n",
       "    </tr>\n",
       "  </tbody>\n",
       "</table>\n",
       "</div>"
      ],
      "text/plain": [
       "   index       town   price\n",
       "0      4  Serangoon  465000\n",
       "1      3   Tampines  430000\n",
       "2      2  Toa Payoh  565000\n",
       "3      1  Woodlands  350000\n",
       "4      0     Yishun  369000"
      ]
     },
     "execution_count": 59,
     "metadata": {},
     "output_type": "execute_result"
    }
   ],
   "source": [
    "price.sort_values(by='town').reset_index()"
   ]
  },
  {
   "cell_type": "code",
   "execution_count": 60,
   "metadata": {
    "collapsed": true
   },
   "outputs": [],
   "source": [
    "p=price.sort_values(by='town').reset_index()"
   ]
  },
  {
   "cell_type": "code",
   "execution_count": 61,
   "metadata": {
    "collapsed": true
   },
   "outputs": [],
   "source": [
    "s=schools.sort_values(by='town').reset_index()"
   ]
  },
  {
   "cell_type": "code",
   "execution_count": 62,
   "metadata": {},
   "outputs": [
    {
     "data": {
      "text/html": [
       "<div>\n",
       "<style scoped>\n",
       "    .dataframe tbody tr th:only-of-type {\n",
       "        vertical-align: middle;\n",
       "    }\n",
       "\n",
       "    .dataframe tbody tr th {\n",
       "        vertical-align: top;\n",
       "    }\n",
       "\n",
       "    .dataframe thead th {\n",
       "        text-align: right;\n",
       "    }\n",
       "</style>\n",
       "<table border=\"1\" class=\"dataframe\">\n",
       "  <thead>\n",
       "    <tr style=\"text-align: right;\">\n",
       "      <th></th>\n",
       "      <th>index</th>\n",
       "      <th>town</th>\n",
       "      <th>price</th>\n",
       "      <th>index</th>\n",
       "      <th>town</th>\n",
       "      <th>school_num</th>\n",
       "    </tr>\n",
       "  </thead>\n",
       "  <tbody>\n",
       "    <tr>\n",
       "      <th>0</th>\n",
       "      <td>4</td>\n",
       "      <td>Serangoon</td>\n",
       "      <td>465000</td>\n",
       "      <td>4</td>\n",
       "      <td>Serangoon</td>\n",
       "      <td>4</td>\n",
       "    </tr>\n",
       "    <tr>\n",
       "      <th>1</th>\n",
       "      <td>3</td>\n",
       "      <td>Tampines</td>\n",
       "      <td>430000</td>\n",
       "      <td>3</td>\n",
       "      <td>Tampines</td>\n",
       "      <td>10</td>\n",
       "    </tr>\n",
       "    <tr>\n",
       "      <th>2</th>\n",
       "      <td>2</td>\n",
       "      <td>Toa Payoh</td>\n",
       "      <td>565000</td>\n",
       "      <td>2</td>\n",
       "      <td>Toa Payoh</td>\n",
       "      <td>6</td>\n",
       "    </tr>\n",
       "    <tr>\n",
       "      <th>3</th>\n",
       "      <td>1</td>\n",
       "      <td>Woodlands</td>\n",
       "      <td>350000</td>\n",
       "      <td>0</td>\n",
       "      <td>Woodlands</td>\n",
       "      <td>10</td>\n",
       "    </tr>\n",
       "    <tr>\n",
       "      <th>4</th>\n",
       "      <td>0</td>\n",
       "      <td>Yishun</td>\n",
       "      <td>369000</td>\n",
       "      <td>1</td>\n",
       "      <td>Yishun</td>\n",
       "      <td>9</td>\n",
       "    </tr>\n",
       "  </tbody>\n",
       "</table>\n",
       "</div>"
      ],
      "text/plain": [
       "   index       town   price  index       town  school_num\n",
       "0      4  Serangoon  465000      4  Serangoon           4\n",
       "1      3   Tampines  430000      3   Tampines          10\n",
       "2      2  Toa Payoh  565000      2  Toa Payoh           6\n",
       "3      1  Woodlands  350000      0  Woodlands          10\n",
       "4      0     Yishun  369000      1     Yishun           9"
      ]
     },
     "execution_count": 62,
     "metadata": {},
     "output_type": "execute_result"
    }
   ],
   "source": [
    "pd.concat([p, s], axis=1)"
   ]
  },
  {
   "cell_type": "code",
   "execution_count": 63,
   "metadata": {},
   "outputs": [
    {
     "data": {
      "text/html": [
       "<div>\n",
       "<style scoped>\n",
       "    .dataframe tbody tr th:only-of-type {\n",
       "        vertical-align: middle;\n",
       "    }\n",
       "\n",
       "    .dataframe tbody tr th {\n",
       "        vertical-align: top;\n",
       "    }\n",
       "\n",
       "    .dataframe thead th {\n",
       "        text-align: right;\n",
       "    }\n",
       "</style>\n",
       "<table border=\"1\" class=\"dataframe\">\n",
       "  <thead>\n",
       "    <tr style=\"text-align: right;\">\n",
       "      <th></th>\n",
       "      <th>town</th>\n",
       "      <th>price</th>\n",
       "    </tr>\n",
       "  </thead>\n",
       "  <tbody>\n",
       "    <tr>\n",
       "      <th>0</th>\n",
       "      <td>Yishun</td>\n",
       "      <td>369000</td>\n",
       "    </tr>\n",
       "    <tr>\n",
       "      <th>1</th>\n",
       "      <td>Woodlands</td>\n",
       "      <td>350000</td>\n",
       "    </tr>\n",
       "    <tr>\n",
       "      <th>2</th>\n",
       "      <td>Toa Payoh</td>\n",
       "      <td>565000</td>\n",
       "    </tr>\n",
       "    <tr>\n",
       "      <th>3</th>\n",
       "      <td>Tampines</td>\n",
       "      <td>430000</td>\n",
       "    </tr>\n",
       "    <tr>\n",
       "      <th>4</th>\n",
       "      <td>Serangoon</td>\n",
       "      <td>465000</td>\n",
       "    </tr>\n",
       "    <tr>\n",
       "      <th>0</th>\n",
       "      <td>Sengkang</td>\n",
       "      <td>408000</td>\n",
       "    </tr>\n",
       "    <tr>\n",
       "      <th>1</th>\n",
       "      <td>Sembawang</td>\n",
       "      <td>361500</td>\n",
       "    </tr>\n",
       "  </tbody>\n",
       "</table>\n",
       "</div>"
      ],
      "text/plain": [
       "        town   price\n",
       "0     Yishun  369000\n",
       "1  Woodlands  350000\n",
       "2  Toa Payoh  565000\n",
       "3   Tampines  430000\n",
       "4  Serangoon  465000\n",
       "0   Sengkang  408000\n",
       "1  Sembawang  361500"
      ]
     },
     "execution_count": 63,
     "metadata": {},
     "output_type": "execute_result"
    }
   ],
   "source": [
    "# row-wise by default \n",
    "\n",
    "price_2 = pd.DataFrame({'town': ['Sengkang','Sembawang'],\n",
    "                        'price' : [408000,361500]})\n",
    "pd.concat([price, price_2])"
   ]
  },
  {
   "cell_type": "code",
   "execution_count": null,
   "metadata": {
    "collapsed": true
   },
   "outputs": [],
   "source": []
  },
  {
   "cell_type": "markdown",
   "metadata": {},
   "source": [
    "## 2.5.6. Aggregation\n",
    "\n",
    "After loading our dataset, cleaning up our NaN values, merging our datasets and wrangling with data types, a common next step is to look at `group statistics` such as the `mean` or `median` to get a better feel for our data. In general terms, we can say we want to `spli`t our dataset into `interesting groups`, and apply a function to each group. For this, pandas `groupby` facility is particularly useful, and allows us to summarise our datasets flexibly and naturally. \n",
    "\n",
    "Indeed, one of the reasons why SQL and relational databases are so popular is that they `easily join, filter and transform datasets`. However, the group operations they can perform are limited. Pandas is `more expressive than SQ`L, and thus allows more complex grouped operations. As long as a function can accept a pandas object or NumPy array, we'll be fine. \n",
    "\n",
    "Here, we'll look at: \n",
    "\n",
    "- Performing aggregation using the `Split-Apply-Combine` paradigm \n",
    "- `Pivot Tables`\n",
    "\n",
    "References: `Python4DataAnalysis by Wes McKinney` and `PythonDataScienceHandbook by Jake Van der Plas`"
   ]
  },
  {
   "cell_type": "markdown",
   "metadata": {},
   "source": [
    "## Split-Apply-Combine \n",
    "![alt text](resources/img/splitapplycombine.png)"
   ]
  },
  {
   "cell_type": "markdown",
   "metadata": {},
   "source": [
    "When dealing with groups (aggregations), we follow a process. Namely, we *split* the data, be it a column or a row, accodring to a certain *key*. Then, we *apply* a function such as a sum calculation to each group. Finally, we *combine* the results of the function into a new object. \n",
    "\n",
    "To make things concrete, let's look at an example, using the HDB resale dataset from before "
   ]
  },
  {
   "cell_type": "code",
   "execution_count": 72,
   "metadata": {
    "collapsed": true
   },
   "outputs": [],
   "source": [
    "import pandas as pd\n",
    "import numpy as np\n",
    "resale=pd.read_csv('clean_resale.csv', index_col=0)"
   ]
  },
  {
   "cell_type": "code",
   "execution_count": 73,
   "metadata": {},
   "outputs": [
    {
     "data": {
      "text/html": [
       "<div>\n",
       "<style scoped>\n",
       "    .dataframe tbody tr th:only-of-type {\n",
       "        vertical-align: middle;\n",
       "    }\n",
       "\n",
       "    .dataframe tbody tr th {\n",
       "        vertical-align: top;\n",
       "    }\n",
       "\n",
       "    .dataframe thead th {\n",
       "        text-align: right;\n",
       "    }\n",
       "</style>\n",
       "<table border=\"1\" class=\"dataframe\">\n",
       "  <thead>\n",
       "    <tr style=\"text-align: right;\">\n",
       "      <th></th>\n",
       "      <th>month</th>\n",
       "      <th>town</th>\n",
       "      <th>flat_type</th>\n",
       "      <th>floor_area_sqm</th>\n",
       "      <th>lease_commence_date</th>\n",
       "      <th>resale_price</th>\n",
       "      <th>Region</th>\n",
       "      <th>Year</th>\n",
       "      <th>Quarter</th>\n",
       "    </tr>\n",
       "  </thead>\n",
       "  <tbody>\n",
       "    <tr>\n",
       "      <th>87705</th>\n",
       "      <td>2016-11</td>\n",
       "      <td>ANG MO KIO</td>\n",
       "      <td>4 ROOM</td>\n",
       "      <td>92.0</td>\n",
       "      <td>1977</td>\n",
       "      <td>590000.0</td>\n",
       "      <td>North East</td>\n",
       "      <td>2016</td>\n",
       "      <td>11</td>\n",
       "    </tr>\n",
       "    <tr>\n",
       "      <th>86039</th>\n",
       "      <td>2016-10</td>\n",
       "      <td>ANG MO KIO</td>\n",
       "      <td>4 ROOM</td>\n",
       "      <td>92.0</td>\n",
       "      <td>1978</td>\n",
       "      <td>490000.0</td>\n",
       "      <td>North East</td>\n",
       "      <td>2016</td>\n",
       "      <td>10</td>\n",
       "    </tr>\n",
       "    <tr>\n",
       "      <th>52213</th>\n",
       "      <td>2015-01</td>\n",
       "      <td>ANG MO KIO</td>\n",
       "      <td>3 ROOM</td>\n",
       "      <td>68.0</td>\n",
       "      <td>1979</td>\n",
       "      <td>290000.0</td>\n",
       "      <td>North East</td>\n",
       "      <td>2015</td>\n",
       "      <td>1</td>\n",
       "    </tr>\n",
       "    <tr>\n",
       "      <th>46561</th>\n",
       "      <td>2014-09</td>\n",
       "      <td>ANG MO KIO</td>\n",
       "      <td>4 ROOM</td>\n",
       "      <td>92.0</td>\n",
       "      <td>1981</td>\n",
       "      <td>425000.0</td>\n",
       "      <td>North East</td>\n",
       "      <td>2014</td>\n",
       "      <td>9</td>\n",
       "    </tr>\n",
       "    <tr>\n",
       "      <th>69890</th>\n",
       "      <td>2015-12</td>\n",
       "      <td>ANG MO KIO</td>\n",
       "      <td>EXECUTIVE</td>\n",
       "      <td>153.0</td>\n",
       "      <td>1996</td>\n",
       "      <td>760000.0</td>\n",
       "      <td>North East</td>\n",
       "      <td>2015</td>\n",
       "      <td>12</td>\n",
       "    </tr>\n",
       "  </tbody>\n",
       "</table>\n",
       "</div>"
      ],
      "text/plain": [
       "         month        town  flat_type  floor_area_sqm  lease_commence_date  \\\n",
       "87705  2016-11  ANG MO KIO     4 ROOM            92.0                 1977   \n",
       "86039  2016-10  ANG MO KIO     4 ROOM            92.0                 1978   \n",
       "52213  2015-01  ANG MO KIO     3 ROOM            68.0                 1979   \n",
       "46561  2014-09  ANG MO KIO     4 ROOM            92.0                 1981   \n",
       "69890  2015-12  ANG MO KIO  EXECUTIVE           153.0                 1996   \n",
       "\n",
       "       resale_price      Region  Year  Quarter  \n",
       "87705      590000.0  North East  2016       11  \n",
       "86039      490000.0  North East  2016       10  \n",
       "52213      290000.0  North East  2015        1  \n",
       "46561      425000.0  North East  2014        9  \n",
       "69890      760000.0  North East  2015       12  "
      ]
     },
     "execution_count": 73,
     "metadata": {},
     "output_type": "execute_result"
    }
   ],
   "source": [
    "resale.head()"
   ]
  },
  {
   "cell_type": "code",
   "execution_count": 74,
   "metadata": {},
   "outputs": [
    {
     "data": {
      "text/plain": [
       "<pandas.core.groupby.groupby.SeriesGroupBy object at 0x000001B83F74C5F8>"
      ]
     },
     "execution_count": 74,
     "metadata": {},
     "output_type": "execute_result"
    }
   ],
   "source": [
    "# create groupby object that is ready for apply operation that follows.\n",
    "grouped = resale['resale_price'].groupby(resale['Year'])\n",
    "grouped"
   ]
  },
  {
   "cell_type": "code",
   "execution_count": 75,
   "metadata": {},
   "outputs": [
    {
     "data": {
      "text/plain": [
       "Year\n",
       "2012    461212.766234\n",
       "2013    481367.291545\n",
       "2014    462673.532308\n",
       "2015    437969.096859\n",
       "2016    434037.286486\n",
       "2017    445642.466051\n",
       "Name: resale_price, dtype: float64"
      ]
     },
     "execution_count": 75,
     "metadata": {},
     "output_type": "execute_result"
    }
   ],
   "source": [
    "# apply mean operation \n",
    "grouped.mean()"
   ]
  },
  {
   "cell_type": "code",
   "execution_count": 76,
   "metadata": {},
   "outputs": [
    {
     "data": {
      "text/plain": [
       "town\n",
       "ANG MO KIO         439061.955556\n",
       "BEDOK              426231.366667\n",
       "BISHAN             584746.531250\n",
       "BUKIT BATOK        415772.394366\n",
       "BUKIT MERAH        556656.810127\n",
       "BUKIT PANJANG      448087.831169\n",
       "BUKIT TIMAH        640500.000000\n",
       "CENTRAL AREA       612127.066667\n",
       "CHOA CHU KANG      414550.305882\n",
       "CLEMENTI           477348.590164\n",
       "GEYLANG            423222.666667\n",
       "HOUGANG            446038.921348\n",
       "JURONG EAST        423955.555556\n",
       "JURONG WEST        426874.733333\n",
       "KALLANG/WHAMPOA    496186.920635\n",
       "MARINE PARADE      510032.761905\n",
       "PASIR RIS          491206.356164\n",
       "PUNGGOL            494690.918919\n",
       "QUEENSTOWN         507820.943273\n",
       "SEMBAWANG          430690.909091\n",
       "SENGKANG           480549.843750\n",
       "SERANGOON          445737.837838\n",
       "TAMPINES           465085.083333\n",
       "TOA PAYOH          444101.189189\n",
       "WOODLANDS          424822.878981\n",
       "YISHUN             384895.669421\n",
       "Name: resale_price, dtype: float64"
      ]
     },
     "execution_count": 76,
     "metadata": {},
     "output_type": "execute_result"
    }
   ],
   "source": [
    "# another example \n",
    "grouped = resale['resale_price'].groupby(resale['town'])\n",
    "grouped.mean()"
   ]
  },
  {
   "cell_type": "code",
   "execution_count": null,
   "metadata": {
    "collapsed": true
   },
   "outputs": [],
   "source": []
  },
  {
   "cell_type": "markdown",
   "metadata": {},
   "source": [
    "## Exercise 2.5.6"
   ]
  },
  {
   "cell_type": "markdown",
   "metadata": {},
   "source": [
    "###### a) Sample 3 records from the dataframe"
   ]
  },
  {
   "cell_type": "code",
   "execution_count": 91,
   "metadata": {
    "scrolled": true
   },
   "outputs": [
    {
     "data": {
      "text/html": [
       "<div>\n",
       "<style scoped>\n",
       "    .dataframe tbody tr th:only-of-type {\n",
       "        vertical-align: middle;\n",
       "    }\n",
       "\n",
       "    .dataframe tbody tr th {\n",
       "        vertical-align: top;\n",
       "    }\n",
       "\n",
       "    .dataframe thead th {\n",
       "        text-align: right;\n",
       "    }\n",
       "</style>\n",
       "<table border=\"1\" class=\"dataframe\">\n",
       "  <thead>\n",
       "    <tr style=\"text-align: right;\">\n",
       "      <th></th>\n",
       "      <th>Car</th>\n",
       "      <th>MPG</th>\n",
       "      <th>Cylinders</th>\n",
       "      <th>Displacement</th>\n",
       "      <th>Horsepower</th>\n",
       "      <th>Weight</th>\n",
       "      <th>Acceleration</th>\n",
       "      <th>Model</th>\n",
       "      <th>Color</th>\n",
       "      <th>Continent</th>\n",
       "    </tr>\n",
       "  </thead>\n",
       "  <tbody>\n",
       "    <tr>\n",
       "      <th>277</th>\n",
       "      <td>Toyota Celica GT Liftback</td>\n",
       "      <td>21.1</td>\n",
       "      <td>4</td>\n",
       "      <td>134.0</td>\n",
       "      <td>95</td>\n",
       "      <td>2515</td>\n",
       "      <td>14.8</td>\n",
       "      <td>78</td>\n",
       "      <td>green</td>\n",
       "      <td>Asia</td>\n",
       "    </tr>\n",
       "    <tr>\n",
       "      <th>151</th>\n",
       "      <td>Toyota Corolla</td>\n",
       "      <td>31.0</td>\n",
       "      <td>4</td>\n",
       "      <td>76.0</td>\n",
       "      <td>52</td>\n",
       "      <td>1649</td>\n",
       "      <td>16.5</td>\n",
       "      <td>74</td>\n",
       "      <td>green</td>\n",
       "      <td>Asia</td>\n",
       "    </tr>\n",
       "    <tr>\n",
       "      <th>144</th>\n",
       "      <td>Buick Century Luxus (sw)</td>\n",
       "      <td>13.0</td>\n",
       "      <td>8</td>\n",
       "      <td>350.0</td>\n",
       "      <td>150</td>\n",
       "      <td>4699</td>\n",
       "      <td>14.5</td>\n",
       "      <td>74</td>\n",
       "      <td>green</td>\n",
       "      <td>America</td>\n",
       "    </tr>\n",
       "  </tbody>\n",
       "</table>\n",
       "</div>"
      ],
      "text/plain": [
       "                           Car   MPG  Cylinders  Displacement  Horsepower  \\\n",
       "277  Toyota Celica GT Liftback  21.1          4         134.0          95   \n",
       "151             Toyota Corolla  31.0          4          76.0          52   \n",
       "144   Buick Century Luxus (sw)  13.0          8         350.0         150   \n",
       "\n",
       "     Weight  Acceleration  Model  Color Continent  \n",
       "277    2515          14.8     78  green      Asia  \n",
       "151    1649          16.5     74  green      Asia  \n",
       "144    4699          14.5     74  green   America  "
      ]
     },
     "execution_count": 91,
     "metadata": {},
     "output_type": "execute_result"
    }
   ],
   "source": [
    "cars.sample(3)"
   ]
  },
  {
   "cell_type": "markdown",
   "metadata": {},
   "source": [
    "###### b) Find the MPG mean grouped by Continent.  Which Continent has the lowest average MPG? (do not buy cars manufactured by this continent??) "
   ]
  },
  {
   "cell_type": "code",
   "execution_count": 92,
   "metadata": {},
   "outputs": [
    {
     "data": {
      "text/plain": [
       "Continent\n",
       "America    19.688189\n",
       "Asia       30.450633\n",
       "Europe     26.745205\n",
       "Name: MPG, dtype: float64"
      ]
     },
     "execution_count": 92,
     "metadata": {},
     "output_type": "execute_result"
    }
   ],
   "source": [
    "group_car = cars['MPG'].______(cars['Continent'])\n",
    "group_car.mean()"
   ]
  },
  {
   "cell_type": "markdown",
   "metadata": {},
   "source": [
    "###### c) Find the MPG mean grouped by Year (Model).  Which Year has the highest average MPG? (Buy cars manufactured in this Year??) "
   ]
  },
  {
   "cell_type": "code",
   "execution_count": 93,
   "metadata": {
    "scrolled": true
   },
   "outputs": [
    {
     "data": {
      "text/plain": [
       "Model\n",
       "70    14.657143\n",
       "71    20.517241\n",
       "72    18.714286\n",
       "73    17.100000\n",
       "74    22.703704\n",
       "75    20.266667\n",
       "76    21.573529\n",
       "77    23.375000\n",
       "78    24.061111\n",
       "79    25.093103\n",
       "80    33.696552\n",
       "81    29.323333\n",
       "82    31.709677\n",
       "Name: MPG, dtype: float64"
      ]
     },
     "execution_count": 93,
     "metadata": {},
     "output_type": "execute_result"
    }
   ],
   "source": [
    "group_car = cars['MPG'].____(cars['_____'])\n",
    "group_car.mean()"
   ]
  },
  {
   "cell_type": "code",
   "execution_count": null,
   "metadata": {
    "collapsed": true
   },
   "outputs": [],
   "source": []
  },
  {
   "cell_type": "code",
   "execution_count": null,
   "metadata": {
    "collapsed": true
   },
   "outputs": [],
   "source": []
  },
  {
   "cell_type": "markdown",
   "metadata": {
    "collapsed": true
   },
   "source": [
    "## Combine Keys"
   ]
  },
  {
   "cell_type": "code",
   "execution_count": 69,
   "metadata": {},
   "outputs": [
    {
     "data": {
      "text/plain": [
       "Year  town           \n",
       "2012  ANG MO KIO         411400.000000\n",
       "      BEDOK              465013.043478\n",
       "      BISHAN             513250.000000\n",
       "      BUKIT BATOK        420533.333333\n",
       "      BUKIT MERAH        504000.000000\n",
       "      BUKIT PANJANG      480549.142857\n",
       "      BUKIT TIMAH        715000.000000\n",
       "      CENTRAL AREA       485000.000000\n",
       "      CHOA CHU KANG      456064.000000\n",
       "      CLEMENTI           430752.941176\n",
       "      GEYLANG            389727.272727\n",
       "      HOUGANG            463644.400000\n",
       "      JURONG EAST        442600.000000\n",
       "      JURONG WEST        446944.444444\n",
       "      KALLANG/WHAMPOA    377250.000000\n",
       "      MARINE PARADE      545750.000000\n",
       "      PASIR RIS          493291.666667\n",
       "      PUNGGOL            526555.500000\n",
       "      QUEENSTOWN         456624.916667\n",
       "      SEMBAWANG          456166.666667\n",
       "      SENGKANG           536718.074074\n",
       "      SERANGOON          414714.285714\n",
       "      TAMPINES           445495.130435\n",
       "      TOA PAYOH          488127.777778\n",
       "      WOODLANDS          455305.529412\n",
       "      YISHUN             405027.777778\n",
       "2013  ANG MO KIO         458125.000000\n",
       "      BEDOK              455357.692308\n",
       "      BISHAN             490798.625000\n",
       "      BUKIT BATOK        509353.454545\n",
       "                             ...      \n",
       "2016  SENGKANG           424881.103448\n",
       "      SERANGOON          344800.000000\n",
       "      TAMPINES           452493.777778\n",
       "      TOA PAYOH          501500.000000\n",
       "      WOODLANDS          402129.600000\n",
       "      YISHUN             352951.652174\n",
       "2017  ANG MO KIO         456898.909091\n",
       "      BEDOK              358262.545455\n",
       "      BISHAN             600200.000000\n",
       "      BUKIT BATOK        402126.857143\n",
       "      BUKIT MERAH        635666.666667\n",
       "      BUKIT PANJANG      386828.571429\n",
       "      CENTRAL AREA       375000.000000\n",
       "      CHOA CHU KANG      368633.333333\n",
       "      CLEMENTI           450000.000000\n",
       "      GEYLANG            334333.333333\n",
       "      HOUGANG            385833.333333\n",
       "      JURONG EAST        373857.142857\n",
       "      JURONG WEST        398711.750000\n",
       "      KALLANG/WHAMPOA    639488.800000\n",
       "      PASIR RIS          473055.428571\n",
       "      PUNGGOL            431500.000000\n",
       "      QUEENSTOWN         509648.146667\n",
       "      SEMBAWANG          333500.000000\n",
       "      SENGKANG           413898.000000\n",
       "      SERANGOON          443000.000000\n",
       "      TAMPINES           488785.714286\n",
       "      TOA PAYOH          423345.454545\n",
       "      WOODLANDS          416984.000000\n",
       "      YISHUN             436705.882353\n",
       "Name: resale_price, Length: 152, dtype: float64"
      ]
     },
     "execution_count": 69,
     "metadata": {},
     "output_type": "execute_result"
    }
   ],
   "source": [
    "# combine keys \n",
    "grouped = resale['resale_price'].groupby([resale['Year'], resale['town']])\n",
    "grouped.mean()"
   ]
  },
  {
   "cell_type": "code",
   "execution_count": 70,
   "metadata": {},
   "outputs": [
    {
     "data": {
      "text/html": [
       "<div>\n",
       "<style scoped>\n",
       "    .dataframe tbody tr th:only-of-type {\n",
       "        vertical-align: middle;\n",
       "    }\n",
       "\n",
       "    .dataframe tbody tr th {\n",
       "        vertical-align: top;\n",
       "    }\n",
       "\n",
       "    .dataframe thead th {\n",
       "        text-align: right;\n",
       "    }\n",
       "</style>\n",
       "<table border=\"1\" class=\"dataframe\">\n",
       "  <thead>\n",
       "    <tr style=\"text-align: right;\">\n",
       "      <th></th>\n",
       "      <th>floor_area_sqm</th>\n",
       "      <th>lease_commence_date</th>\n",
       "      <th>resale_price</th>\n",
       "      <th>Year</th>\n",
       "      <th>Quarter</th>\n",
       "    </tr>\n",
       "    <tr>\n",
       "      <th>town</th>\n",
       "      <th></th>\n",
       "      <th></th>\n",
       "      <th></th>\n",
       "      <th></th>\n",
       "      <th></th>\n",
       "    </tr>\n",
       "  </thead>\n",
       "  <tbody>\n",
       "    <tr>\n",
       "      <th>ANG MO KIO</th>\n",
       "      <td>85.533333</td>\n",
       "      <td>1982.944444</td>\n",
       "      <td>439061.955556</td>\n",
       "      <td>2014.655556</td>\n",
       "      <td>6.588889</td>\n",
       "    </tr>\n",
       "    <tr>\n",
       "      <th>BEDOK</th>\n",
       "      <td>88.891667</td>\n",
       "      <td>1983.233333</td>\n",
       "      <td>426231.366667</td>\n",
       "      <td>2014.158333</td>\n",
       "      <td>6.550000</td>\n",
       "    </tr>\n",
       "    <tr>\n",
       "      <th>BISHAN</th>\n",
       "      <td>102.968750</td>\n",
       "      <td>1987.156250</td>\n",
       "      <td>584746.531250</td>\n",
       "      <td>2014.625000</td>\n",
       "      <td>6.593750</td>\n",
       "    </tr>\n",
       "    <tr>\n",
       "      <th>BUKIT BATOK</th>\n",
       "      <td>93.380282</td>\n",
       "      <td>1989.549296</td>\n",
       "      <td>415772.394366</td>\n",
       "      <td>2014.352113</td>\n",
       "      <td>5.605634</td>\n",
       "    </tr>\n",
       "    <tr>\n",
       "      <th>BUKIT MERAH</th>\n",
       "      <td>87.620253</td>\n",
       "      <td>1986.405063</td>\n",
       "      <td>556656.810127</td>\n",
       "      <td>2014.303797</td>\n",
       "      <td>6.607595</td>\n",
       "    </tr>\n",
       "  </tbody>\n",
       "</table>\n",
       "</div>"
      ],
      "text/plain": [
       "             floor_area_sqm  lease_commence_date   resale_price         Year  \\\n",
       "town                                                                           \n",
       "ANG MO KIO        85.533333          1982.944444  439061.955556  2014.655556   \n",
       "BEDOK             88.891667          1983.233333  426231.366667  2014.158333   \n",
       "BISHAN           102.968750          1987.156250  584746.531250  2014.625000   \n",
       "BUKIT BATOK       93.380282          1989.549296  415772.394366  2014.352113   \n",
       "BUKIT MERAH       87.620253          1986.405063  556656.810127  2014.303797   \n",
       "\n",
       "              Quarter  \n",
       "town                   \n",
       "ANG MO KIO   6.588889  \n",
       "BEDOK        6.550000  \n",
       "BISHAN       6.593750  \n",
       "BUKIT BATOK  5.605634  \n",
       "BUKIT MERAH  6.607595  "
      ]
     },
     "execution_count": 70,
     "metadata": {},
     "output_type": "execute_result"
    }
   ],
   "source": [
    "# code above allows grouping with a series not in the data frame\n",
    "# if grouping information is in the same data frame, we have a shorter way:\n",
    "# non-numerical column automatically dropped. \n",
    "grouped = resale.groupby('town').mean()\n",
    "grouped.head()"
   ]
  },
  {
   "cell_type": "code",
   "execution_count": null,
   "metadata": {
    "collapsed": true
   },
   "outputs": [],
   "source": []
  },
  {
   "cell_type": "markdown",
   "metadata": {},
   "source": [
    "## Exercise 2.5.6"
   ]
  },
  {
   "cell_type": "markdown",
   "metadata": {},
   "source": [
    "###### d) Find the average MPG groupby Continent, and Year (Model)"
   ]
  },
  {
   "cell_type": "code",
   "execution_count": 96,
   "metadata": {
    "collapsed": true
   },
   "outputs": [],
   "source": [
    "group_car = cars['MPG'].____([cars['_____'], cars['____']])"
   ]
  },
  {
   "cell_type": "code",
   "execution_count": 97,
   "metadata": {},
   "outputs": [
    {
     "data": {
      "text/plain": [
       "Continent  Model\n",
       "America    70       12.444444\n",
       "           71       18.100000\n",
       "           72       16.277778\n",
       "           73       15.034483\n",
       "           74       18.333333\n",
       "           75       17.550000\n",
       "           76       19.431818\n",
       "           77       20.722222\n",
       "           78       21.772727\n",
       "           79       23.478261\n",
       "           80       25.914286\n",
       "           81       27.530769\n",
       "           82       29.450000\n",
       "Asia       70       25.500000\n",
       "           71       29.500000\n",
       "           72       24.200000\n",
       "           73       20.000000\n",
       "           74       29.333333\n",
       "           75       27.500000\n",
       "           76       28.000000\n",
       "           77       27.416667\n",
       "           78       29.687500\n",
       "           79       32.950000\n",
       "           80       35.400000\n",
       "           81       32.958333\n",
       "           82       34.888889\n",
       "Europe     70       21.000000\n",
       "           71       23.000000\n",
       "           72       22.000000\n",
       "           73       24.000000\n",
       "           74       27.000000\n",
       "           75       24.500000\n",
       "           76       24.250000\n",
       "           77       29.250000\n",
       "           78       24.950000\n",
       "           79       30.450000\n",
       "           80       37.288889\n",
       "           81       25.260000\n",
       "           82       40.000000\n",
       "Name: MPG, dtype: float64"
      ]
     },
     "execution_count": 97,
     "metadata": {},
     "output_type": "execute_result"
    }
   ],
   "source": [
    "group_car.mean()"
   ]
  },
  {
   "cell_type": "code",
   "execution_count": null,
   "metadata": {
    "collapsed": true
   },
   "outputs": [],
   "source": []
  },
  {
   "cell_type": "code",
   "execution_count": 98,
   "metadata": {
    "collapsed": true
   },
   "outputs": [],
   "source": [
    "# code above allows grouping with a series not in the data frame\n",
    "# if grouping information is in the same data frame, we have a shorter way:\n",
    "# non-numerical column automatically dropped. "
   ]
  },
  {
   "cell_type": "markdown",
   "metadata": {},
   "source": [
    "######  e) Find the average of ALL numbers available in Dataframe, groupby Continent, and Year"
   ]
  },
  {
   "cell_type": "code",
   "execution_count": 99,
   "metadata": {
    "scrolled": true
   },
   "outputs": [
    {
     "data": {
      "text/html": [
       "<div>\n",
       "<style scoped>\n",
       "    .dataframe tbody tr th:only-of-type {\n",
       "        vertical-align: middle;\n",
       "    }\n",
       "\n",
       "    .dataframe tbody tr th {\n",
       "        vertical-align: top;\n",
       "    }\n",
       "\n",
       "    .dataframe thead th {\n",
       "        text-align: right;\n",
       "    }\n",
       "</style>\n",
       "<table border=\"1\" class=\"dataframe\">\n",
       "  <thead>\n",
       "    <tr style=\"text-align: right;\">\n",
       "      <th></th>\n",
       "      <th></th>\n",
       "      <th>MPG</th>\n",
       "      <th>Cylinders</th>\n",
       "      <th>Displacement</th>\n",
       "      <th>Horsepower</th>\n",
       "      <th>Weight</th>\n",
       "      <th>Acceleration</th>\n",
       "    </tr>\n",
       "    <tr>\n",
       "      <th>Continent</th>\n",
       "      <th>Model</th>\n",
       "      <th></th>\n",
       "      <th></th>\n",
       "      <th></th>\n",
       "      <th></th>\n",
       "      <th></th>\n",
       "      <th></th>\n",
       "    </tr>\n",
       "  </thead>\n",
       "  <tbody>\n",
       "    <tr>\n",
       "      <th rowspan=\"13\" valign=\"top\">America</th>\n",
       "      <th>70</th>\n",
       "      <td>12.444444</td>\n",
       "      <td>7.703704</td>\n",
       "      <td>339.185185</td>\n",
       "      <td>165.962963</td>\n",
       "      <td>3752.148148</td>\n",
       "      <td>11.685185</td>\n",
       "    </tr>\n",
       "    <tr>\n",
       "      <th>71</th>\n",
       "      <td>18.100000</td>\n",
       "      <td>6.200000</td>\n",
       "      <td>257.000000</td>\n",
       "      <td>113.850000</td>\n",
       "      <td>3401.600000</td>\n",
       "      <td>14.575000</td>\n",
       "    </tr>\n",
       "    <tr>\n",
       "      <th>72</th>\n",
       "      <td>16.277778</td>\n",
       "      <td>6.888889</td>\n",
       "      <td>281.250000</td>\n",
       "      <td>138.777778</td>\n",
       "      <td>3682.666667</td>\n",
       "      <td>14.055556</td>\n",
       "    </tr>\n",
       "    <tr>\n",
       "      <th>73</th>\n",
       "      <td>15.034483</td>\n",
       "      <td>7.241379</td>\n",
       "      <td>314.103448</td>\n",
       "      <td>146.620690</td>\n",
       "      <td>3821.448276</td>\n",
       "      <td>13.620690</td>\n",
       "    </tr>\n",
       "    <tr>\n",
       "      <th>74</th>\n",
       "      <td>18.333333</td>\n",
       "      <td>6.266667</td>\n",
       "      <td>236.066667</td>\n",
       "      <td>104.666667</td>\n",
       "      <td>3503.333333</td>\n",
       "      <td>15.966667</td>\n",
       "    </tr>\n",
       "    <tr>\n",
       "      <th>75</th>\n",
       "      <td>17.550000</td>\n",
       "      <td>6.400000</td>\n",
       "      <td>253.400000</td>\n",
       "      <td>108.700000</td>\n",
       "      <td>3533.200000</td>\n",
       "      <td>16.350000</td>\n",
       "    </tr>\n",
       "    <tr>\n",
       "      <th>76</th>\n",
       "      <td>19.431818</td>\n",
       "      <td>6.363636</td>\n",
       "      <td>243.954545</td>\n",
       "      <td>110.500000</td>\n",
       "      <td>3405.409091</td>\n",
       "      <td>15.786364</td>\n",
       "    </tr>\n",
       "    <tr>\n",
       "      <th>77</th>\n",
       "      <td>20.722222</td>\n",
       "      <td>6.222222</td>\n",
       "      <td>242.333333</td>\n",
       "      <td>118.388889</td>\n",
       "      <td>3422.000000</td>\n",
       "      <td>15.238889</td>\n",
       "    </tr>\n",
       "    <tr>\n",
       "      <th>78</th>\n",
       "      <td>21.772727</td>\n",
       "      <td>6.000000</td>\n",
       "      <td>217.545455</td>\n",
       "      <td>107.272727</td>\n",
       "      <td>3141.136364</td>\n",
       "      <td>15.545455</td>\n",
       "    </tr>\n",
       "    <tr>\n",
       "      <th>79</th>\n",
       "      <td>23.478261</td>\n",
       "      <td>6.260870</td>\n",
       "      <td>231.260870</td>\n",
       "      <td>109.434783</td>\n",
       "      <td>3210.217391</td>\n",
       "      <td>15.243478</td>\n",
       "    </tr>\n",
       "    <tr>\n",
       "      <th>80</th>\n",
       "      <td>25.914286</td>\n",
       "      <td>4.285714</td>\n",
       "      <td>151.571429</td>\n",
       "      <td>76.142857</td>\n",
       "      <td>2822.428571</td>\n",
       "      <td>16.800000</td>\n",
       "    </tr>\n",
       "    <tr>\n",
       "      <th>81</th>\n",
       "      <td>27.530769</td>\n",
       "      <td>4.923077</td>\n",
       "      <td>164.846154</td>\n",
       "      <td>84.538462</td>\n",
       "      <td>2695.000000</td>\n",
       "      <td>16.053846</td>\n",
       "    </tr>\n",
       "    <tr>\n",
       "      <th>82</th>\n",
       "      <td>29.450000</td>\n",
       "      <td>4.300000</td>\n",
       "      <td>142.950000</td>\n",
       "      <td>82.600000</td>\n",
       "      <td>2637.750000</td>\n",
       "      <td>16.670000</td>\n",
       "    </tr>\n",
       "    <tr>\n",
       "      <th rowspan=\"13\" valign=\"top\">Asia</th>\n",
       "      <th>70</th>\n",
       "      <td>25.500000</td>\n",
       "      <td>4.000000</td>\n",
       "      <td>105.000000</td>\n",
       "      <td>91.500000</td>\n",
       "      <td>2251.000000</td>\n",
       "      <td>14.750000</td>\n",
       "    </tr>\n",
       "    <tr>\n",
       "      <th>71</th>\n",
       "      <td>29.500000</td>\n",
       "      <td>4.000000</td>\n",
       "      <td>88.250000</td>\n",
       "      <td>79.250000</td>\n",
       "      <td>1936.000000</td>\n",
       "      <td>16.375000</td>\n",
       "    </tr>\n",
       "    <tr>\n",
       "      <th>72</th>\n",
       "      <td>24.200000</td>\n",
       "      <td>3.800000</td>\n",
       "      <td>99.400000</td>\n",
       "      <td>93.800000</td>\n",
       "      <td>2300.400000</td>\n",
       "      <td>15.400000</td>\n",
       "    </tr>\n",
       "    <tr>\n",
       "      <th>73</th>\n",
       "      <td>20.000000</td>\n",
       "      <td>4.250000</td>\n",
       "      <td>107.750000</td>\n",
       "      <td>98.500000</td>\n",
       "      <td>2397.250000</td>\n",
       "      <td>15.625000</td>\n",
       "    </tr>\n",
       "    <tr>\n",
       "      <th>74</th>\n",
       "      <td>29.333333</td>\n",
       "      <td>4.000000</td>\n",
       "      <td>89.500000</td>\n",
       "      <td>72.500000</td>\n",
       "      <td>2053.000000</td>\n",
       "      <td>17.666667</td>\n",
       "    </tr>\n",
       "    <tr>\n",
       "      <th>75</th>\n",
       "      <td>27.500000</td>\n",
       "      <td>4.000000</td>\n",
       "      <td>110.250000</td>\n",
       "      <td>80.250000</td>\n",
       "      <td>2303.250000</td>\n",
       "      <td>16.000000</td>\n",
       "    </tr>\n",
       "    <tr>\n",
       "      <th>76</th>\n",
       "      <td>28.000000</td>\n",
       "      <td>4.500000</td>\n",
       "      <td>107.250000</td>\n",
       "      <td>76.500000</td>\n",
       "      <td>2217.500000</td>\n",
       "      <td>16.575000</td>\n",
       "    </tr>\n",
       "    <tr>\n",
       "      <th>77</th>\n",
       "      <td>27.416667</td>\n",
       "      <td>4.166667</td>\n",
       "      <td>100.500000</td>\n",
       "      <td>81.166667</td>\n",
       "      <td>2295.833333</td>\n",
       "      <td>16.316667</td>\n",
       "    </tr>\n",
       "    <tr>\n",
       "      <th>78</th>\n",
       "      <td>29.687500</td>\n",
       "      <td>4.000000</td>\n",
       "      <td>107.250000</td>\n",
       "      <td>79.250000</td>\n",
       "      <td>2221.250000</td>\n",
       "      <td>16.200000</td>\n",
       "    </tr>\n",
       "    <tr>\n",
       "      <th>79</th>\n",
       "      <td>32.950000</td>\n",
       "      <td>4.000000</td>\n",
       "      <td>85.500000</td>\n",
       "      <td>65.000000</td>\n",
       "      <td>1997.500000</td>\n",
       "      <td>17.200000</td>\n",
       "    </tr>\n",
       "    <tr>\n",
       "      <th>80</th>\n",
       "      <td>35.400000</td>\n",
       "      <td>4.076923</td>\n",
       "      <td>104.615385</td>\n",
       "      <td>78.846154</td>\n",
       "      <td>2290.307692</td>\n",
       "      <td>16.015385</td>\n",
       "    </tr>\n",
       "    <tr>\n",
       "      <th>81</th>\n",
       "      <td>32.958333</td>\n",
       "      <td>4.333333</td>\n",
       "      <td>107.500000</td>\n",
       "      <td>78.333333</td>\n",
       "      <td>2269.166667</td>\n",
       "      <td>16.183333</td>\n",
       "    </tr>\n",
       "    <tr>\n",
       "      <th>82</th>\n",
       "      <td>34.888889</td>\n",
       "      <td>4.000000</td>\n",
       "      <td>103.777778</td>\n",
       "      <td>74.000000</td>\n",
       "      <td>2132.777778</td>\n",
       "      <td>15.833333</td>\n",
       "    </tr>\n",
       "    <tr>\n",
       "      <th rowspan=\"13\" valign=\"top\">Europe</th>\n",
       "      <th>70</th>\n",
       "      <td>21.000000</td>\n",
       "      <td>4.000000</td>\n",
       "      <td>112.000000</td>\n",
       "      <td>91.000000</td>\n",
       "      <td>2439.333333</td>\n",
       "      <td>16.666667</td>\n",
       "    </tr>\n",
       "    <tr>\n",
       "      <th>71</th>\n",
       "      <td>23.000000</td>\n",
       "      <td>4.000000</td>\n",
       "      <td>95.400000</td>\n",
       "      <td>68.800000</td>\n",
       "      <td>2014.800000</td>\n",
       "      <td>17.400000</td>\n",
       "    </tr>\n",
       "    <tr>\n",
       "      <th>72</th>\n",
       "      <td>22.000000</td>\n",
       "      <td>4.000000</td>\n",
       "      <td>111.000000</td>\n",
       "      <td>79.600000</td>\n",
       "      <td>2573.200000</td>\n",
       "      <td>18.700000</td>\n",
       "    </tr>\n",
       "    <tr>\n",
       "      <th>73</th>\n",
       "      <td>24.000000</td>\n",
       "      <td>4.000000</td>\n",
       "      <td>105.000000</td>\n",
       "      <td>81.857143</td>\n",
       "      <td>2335.714286</td>\n",
       "      <td>16.428571</td>\n",
       "    </tr>\n",
       "    <tr>\n",
       "      <th>74</th>\n",
       "      <td>27.000000</td>\n",
       "      <td>4.000000</td>\n",
       "      <td>93.166667</td>\n",
       "      <td>74.166667</td>\n",
       "      <td>2139.333333</td>\n",
       "      <td>15.333333</td>\n",
       "    </tr>\n",
       "    <tr>\n",
       "      <th>75</th>\n",
       "      <td>24.500000</td>\n",
       "      <td>4.000000</td>\n",
       "      <td>109.500000</td>\n",
       "      <td>89.500000</td>\n",
       "      <td>2571.166667</td>\n",
       "      <td>15.083333</td>\n",
       "    </tr>\n",
       "    <tr>\n",
       "      <th>76</th>\n",
       "      <td>24.250000</td>\n",
       "      <td>4.250000</td>\n",
       "      <td>116.125000</td>\n",
       "      <td>87.625000</td>\n",
       "      <td>2611.000000</td>\n",
       "      <td>16.050000</td>\n",
       "    </tr>\n",
       "    <tr>\n",
       "      <th>77</th>\n",
       "      <td>29.250000</td>\n",
       "      <td>4.000000</td>\n",
       "      <td>98.500000</td>\n",
       "      <td>81.000000</td>\n",
       "      <td>2138.750000</td>\n",
       "      <td>15.000000</td>\n",
       "    </tr>\n",
       "    <tr>\n",
       "      <th>78</th>\n",
       "      <td>24.950000</td>\n",
       "      <td>4.833333</td>\n",
       "      <td>126.166667</td>\n",
       "      <td>99.166667</td>\n",
       "      <td>2691.666667</td>\n",
       "      <td>16.233333</td>\n",
       "    </tr>\n",
       "    <tr>\n",
       "      <th>79</th>\n",
       "      <td>30.450000</td>\n",
       "      <td>4.250000</td>\n",
       "      <td>126.000000</td>\n",
       "      <td>72.000000</td>\n",
       "      <td>2693.750000</td>\n",
       "      <td>18.400000</td>\n",
       "    </tr>\n",
       "    <tr>\n",
       "      <th>80</th>\n",
       "      <td>37.288889</td>\n",
       "      <td>4.111111</td>\n",
       "      <td>104.222222</td>\n",
       "      <td>59.333333</td>\n",
       "      <td>2348.000000</td>\n",
       "      <td>18.366667</td>\n",
       "    </tr>\n",
       "    <tr>\n",
       "      <th>81</th>\n",
       "      <td>25.260000</td>\n",
       "      <td>4.400000</td>\n",
       "      <td>122.400000</td>\n",
       "      <td>68.000000</td>\n",
       "      <td>2740.000000</td>\n",
       "      <td>17.080000</td>\n",
       "    </tr>\n",
       "    <tr>\n",
       "      <th>82</th>\n",
       "      <td>40.000000</td>\n",
       "      <td>4.000000</td>\n",
       "      <td>101.000000</td>\n",
       "      <td>63.000000</td>\n",
       "      <td>2055.000000</td>\n",
       "      <td>19.950000</td>\n",
       "    </tr>\n",
       "  </tbody>\n",
       "</table>\n",
       "</div>"
      ],
      "text/plain": [
       "                       MPG  Cylinders  Displacement  Horsepower       Weight  \\\n",
       "Continent Model                                                                \n",
       "America   70     12.444444   7.703704    339.185185  165.962963  3752.148148   \n",
       "          71     18.100000   6.200000    257.000000  113.850000  3401.600000   \n",
       "          72     16.277778   6.888889    281.250000  138.777778  3682.666667   \n",
       "          73     15.034483   7.241379    314.103448  146.620690  3821.448276   \n",
       "          74     18.333333   6.266667    236.066667  104.666667  3503.333333   \n",
       "          75     17.550000   6.400000    253.400000  108.700000  3533.200000   \n",
       "          76     19.431818   6.363636    243.954545  110.500000  3405.409091   \n",
       "          77     20.722222   6.222222    242.333333  118.388889  3422.000000   \n",
       "          78     21.772727   6.000000    217.545455  107.272727  3141.136364   \n",
       "          79     23.478261   6.260870    231.260870  109.434783  3210.217391   \n",
       "          80     25.914286   4.285714    151.571429   76.142857  2822.428571   \n",
       "          81     27.530769   4.923077    164.846154   84.538462  2695.000000   \n",
       "          82     29.450000   4.300000    142.950000   82.600000  2637.750000   \n",
       "Asia      70     25.500000   4.000000    105.000000   91.500000  2251.000000   \n",
       "          71     29.500000   4.000000     88.250000   79.250000  1936.000000   \n",
       "          72     24.200000   3.800000     99.400000   93.800000  2300.400000   \n",
       "          73     20.000000   4.250000    107.750000   98.500000  2397.250000   \n",
       "          74     29.333333   4.000000     89.500000   72.500000  2053.000000   \n",
       "          75     27.500000   4.000000    110.250000   80.250000  2303.250000   \n",
       "          76     28.000000   4.500000    107.250000   76.500000  2217.500000   \n",
       "          77     27.416667   4.166667    100.500000   81.166667  2295.833333   \n",
       "          78     29.687500   4.000000    107.250000   79.250000  2221.250000   \n",
       "          79     32.950000   4.000000     85.500000   65.000000  1997.500000   \n",
       "          80     35.400000   4.076923    104.615385   78.846154  2290.307692   \n",
       "          81     32.958333   4.333333    107.500000   78.333333  2269.166667   \n",
       "          82     34.888889   4.000000    103.777778   74.000000  2132.777778   \n",
       "Europe    70     21.000000   4.000000    112.000000   91.000000  2439.333333   \n",
       "          71     23.000000   4.000000     95.400000   68.800000  2014.800000   \n",
       "          72     22.000000   4.000000    111.000000   79.600000  2573.200000   \n",
       "          73     24.000000   4.000000    105.000000   81.857143  2335.714286   \n",
       "          74     27.000000   4.000000     93.166667   74.166667  2139.333333   \n",
       "          75     24.500000   4.000000    109.500000   89.500000  2571.166667   \n",
       "          76     24.250000   4.250000    116.125000   87.625000  2611.000000   \n",
       "          77     29.250000   4.000000     98.500000   81.000000  2138.750000   \n",
       "          78     24.950000   4.833333    126.166667   99.166667  2691.666667   \n",
       "          79     30.450000   4.250000    126.000000   72.000000  2693.750000   \n",
       "          80     37.288889   4.111111    104.222222   59.333333  2348.000000   \n",
       "          81     25.260000   4.400000    122.400000   68.000000  2740.000000   \n",
       "          82     40.000000   4.000000    101.000000   63.000000  2055.000000   \n",
       "\n",
       "                 Acceleration  \n",
       "Continent Model                \n",
       "America   70        11.685185  \n",
       "          71        14.575000  \n",
       "          72        14.055556  \n",
       "          73        13.620690  \n",
       "          74        15.966667  \n",
       "          75        16.350000  \n",
       "          76        15.786364  \n",
       "          77        15.238889  \n",
       "          78        15.545455  \n",
       "          79        15.243478  \n",
       "          80        16.800000  \n",
       "          81        16.053846  \n",
       "          82        16.670000  \n",
       "Asia      70        14.750000  \n",
       "          71        16.375000  \n",
       "          72        15.400000  \n",
       "          73        15.625000  \n",
       "          74        17.666667  \n",
       "          75        16.000000  \n",
       "          76        16.575000  \n",
       "          77        16.316667  \n",
       "          78        16.200000  \n",
       "          79        17.200000  \n",
       "          80        16.015385  \n",
       "          81        16.183333  \n",
       "          82        15.833333  \n",
       "Europe    70        16.666667  \n",
       "          71        17.400000  \n",
       "          72        18.700000  \n",
       "          73        16.428571  \n",
       "          74        15.333333  \n",
       "          75        15.083333  \n",
       "          76        16.050000  \n",
       "          77        15.000000  \n",
       "          78        16.233333  \n",
       "          79        18.400000  \n",
       "          80        18.366667  \n",
       "          81        17.080000  \n",
       "          82        19.950000  "
      ]
     },
     "execution_count": 99,
     "metadata": {},
     "output_type": "execute_result"
    }
   ],
   "source": [
    "cars.groupby([cars['_____'],cars['_____']]).mean()"
   ]
  },
  {
   "cell_type": "markdown",
   "metadata": {},
   "source": [
    "##### Pivot Table"
   ]
  },
  {
   "cell_type": "code",
   "execution_count": 100,
   "metadata": {
    "collapsed": true
   },
   "outputs": [],
   "source": [
    "import pandas as pd\n",
    "resale=pd.read_csv('clean_resale.csv', index_col=0)\n",
    "resale_groupby_year_region=resale['resale_price'].groupby([resale['Year'],resale['Region']])\n",
    "\n",
    "##CONVERTING THE RESULTS TO DATAFRAME\n",
    "m_resale_groupby_year_region=pd.DataFrame(resale_groupby_year_region.mean())"
   ]
  },
  {
   "cell_type": "code",
   "execution_count": 101,
   "metadata": {},
   "outputs": [
    {
     "data": {
      "text/html": [
       "<div>\n",
       "<style scoped>\n",
       "    .dataframe tbody tr th:only-of-type {\n",
       "        vertical-align: middle;\n",
       "    }\n",
       "\n",
       "    .dataframe tbody tr th {\n",
       "        vertical-align: top;\n",
       "    }\n",
       "\n",
       "    .dataframe thead th {\n",
       "        text-align: right;\n",
       "    }\n",
       "</style>\n",
       "<table border=\"1\" class=\"dataframe\">\n",
       "  <thead>\n",
       "    <tr style=\"text-align: right;\">\n",
       "      <th></th>\n",
       "      <th></th>\n",
       "      <th>resale_price</th>\n",
       "    </tr>\n",
       "    <tr>\n",
       "      <th>Year</th>\n",
       "      <th>Region</th>\n",
       "      <th></th>\n",
       "    </tr>\n",
       "  </thead>\n",
       "  <tbody>\n",
       "    <tr>\n",
       "      <th rowspan=\"5\" valign=\"top\">2012</th>\n",
       "      <th>Central</th>\n",
       "      <td>463483.547945</td>\n",
       "    </tr>\n",
       "    <tr>\n",
       "      <th>East</th>\n",
       "      <td>468454.645161</td>\n",
       "    </tr>\n",
       "    <tr>\n",
       "      <th>North</th>\n",
       "      <td>441326.375000</td>\n",
       "    </tr>\n",
       "    <tr>\n",
       "      <th>North East</th>\n",
       "      <td>488158.097561</td>\n",
       "    </tr>\n",
       "    <tr>\n",
       "      <th>West</th>\n",
       "      <td>446294.000000</td>\n",
       "    </tr>\n",
       "    <tr>\n",
       "      <th rowspan=\"5\" valign=\"top\">2013</th>\n",
       "      <th>Central</th>\n",
       "      <td>505523.281690</td>\n",
       "    </tr>\n",
       "    <tr>\n",
       "      <th>East</th>\n",
       "      <td>478893.863014</td>\n",
       "    </tr>\n",
       "    <tr>\n",
       "      <th>North</th>\n",
       "      <td>425864.406780</td>\n",
       "    </tr>\n",
       "    <tr>\n",
       "      <th>North East</th>\n",
       "      <td>515623.000000</td>\n",
       "    </tr>\n",
       "    <tr>\n",
       "      <th>West</th>\n",
       "      <td>479246.285714</td>\n",
       "    </tr>\n",
       "    <tr>\n",
       "      <th rowspan=\"5\" valign=\"top\">2014</th>\n",
       "      <th>Central</th>\n",
       "      <td>520663.052632</td>\n",
       "    </tr>\n",
       "    <tr>\n",
       "      <th>East</th>\n",
       "      <td>478185.245902</td>\n",
       "    </tr>\n",
       "    <tr>\n",
       "      <th>North</th>\n",
       "      <td>414934.349206</td>\n",
       "    </tr>\n",
       "    <tr>\n",
       "      <th>North East</th>\n",
       "      <td>475451.085714</td>\n",
       "    </tr>\n",
       "    <tr>\n",
       "      <th>West</th>\n",
       "      <td>433775.189189</td>\n",
       "    </tr>\n",
       "    <tr>\n",
       "      <th rowspan=\"5\" valign=\"top\">2015</th>\n",
       "      <th>Central</th>\n",
       "      <td>498375.188406</td>\n",
       "    </tr>\n",
       "    <tr>\n",
       "      <th>East</th>\n",
       "      <td>449274.205128</td>\n",
       "    </tr>\n",
       "    <tr>\n",
       "      <th>North</th>\n",
       "      <td>389318.456140</td>\n",
       "    </tr>\n",
       "    <tr>\n",
       "      <th>North East</th>\n",
       "      <td>439308.421053</td>\n",
       "    </tr>\n",
       "    <tr>\n",
       "      <th>West</th>\n",
       "      <td>414650.264706</td>\n",
       "    </tr>\n",
       "    <tr>\n",
       "      <th rowspan=\"5\" valign=\"top\">2016</th>\n",
       "      <th>Central</th>\n",
       "      <td>527703.087719</td>\n",
       "    </tr>\n",
       "    <tr>\n",
       "      <th>East</th>\n",
       "      <td>430333.923077</td>\n",
       "    </tr>\n",
       "    <tr>\n",
       "      <th>North</th>\n",
       "      <td>380286.709677</td>\n",
       "    </tr>\n",
       "    <tr>\n",
       "      <th>North East</th>\n",
       "      <td>437914.622222</td>\n",
       "    </tr>\n",
       "    <tr>\n",
       "      <th>West</th>\n",
       "      <td>414195.082569</td>\n",
       "    </tr>\n",
       "    <tr>\n",
       "      <th rowspan=\"5\" valign=\"top\">2017</th>\n",
       "      <th>Central</th>\n",
       "      <td>537990.597333</td>\n",
       "    </tr>\n",
       "    <tr>\n",
       "      <th>East</th>\n",
       "      <td>440477.375000</td>\n",
       "    </tr>\n",
       "    <tr>\n",
       "      <th>North</th>\n",
       "      <td>417031.714286</td>\n",
       "    </tr>\n",
       "    <tr>\n",
       "      <th>North East</th>\n",
       "      <td>428128.727273</td>\n",
       "    </tr>\n",
       "    <tr>\n",
       "      <th>West</th>\n",
       "      <td>393062.521739</td>\n",
       "    </tr>\n",
       "  </tbody>\n",
       "</table>\n",
       "</div>"
      ],
      "text/plain": [
       "                  resale_price\n",
       "Year Region                   \n",
       "2012 Central     463483.547945\n",
       "     East        468454.645161\n",
       "     North       441326.375000\n",
       "     North East  488158.097561\n",
       "     West        446294.000000\n",
       "2013 Central     505523.281690\n",
       "     East        478893.863014\n",
       "     North       425864.406780\n",
       "     North East  515623.000000\n",
       "     West        479246.285714\n",
       "2014 Central     520663.052632\n",
       "     East        478185.245902\n",
       "     North       414934.349206\n",
       "     North East  475451.085714\n",
       "     West        433775.189189\n",
       "2015 Central     498375.188406\n",
       "     East        449274.205128\n",
       "     North       389318.456140\n",
       "     North East  439308.421053\n",
       "     West        414650.264706\n",
       "2016 Central     527703.087719\n",
       "     East        430333.923077\n",
       "     North       380286.709677\n",
       "     North East  437914.622222\n",
       "     West        414195.082569\n",
       "2017 Central     537990.597333\n",
       "     East        440477.375000\n",
       "     North       417031.714286\n",
       "     North East  428128.727273\n",
       "     West        393062.521739"
      ]
     },
     "execution_count": 101,
     "metadata": {},
     "output_type": "execute_result"
    }
   ],
   "source": [
    "m_resale_groupby_year_region"
   ]
  },
  {
   "cell_type": "code",
   "execution_count": null,
   "metadata": {
    "collapsed": true
   },
   "outputs": [],
   "source": []
  },
  {
   "cell_type": "code",
   "execution_count": null,
   "metadata": {
    "collapsed": true
   },
   "outputs": [],
   "source": []
  },
  {
   "cell_type": "markdown",
   "metadata": {},
   "source": [
    "### 2.5.7.Retrieving from DataFrame MultiIndex (Reference: Self-Study)"
   ]
  },
  {
   "cell_type": "code",
   "execution_count": 102,
   "metadata": {
    "collapsed": true
   },
   "outputs": [],
   "source": [
    "grouped=resale['resale_price'].groupby([resale['Year'],resale['Quarter']])"
   ]
  },
  {
   "cell_type": "code",
   "execution_count": 103,
   "metadata": {
    "collapsed": true
   },
   "outputs": [],
   "source": [
    "Year_Quarter=pd.DataFrame(grouped.mean())"
   ]
  },
  {
   "cell_type": "code",
   "execution_count": 104,
   "metadata": {},
   "outputs": [
    {
     "data": {
      "text/plain": [
       "MultiIndex(levels=[[2012, 2013, 2014, 2015, 2016, 2017], [1, 2, 3, 4, 5, 6, 7, 8, 9, 10, 11, 12]],\n",
       "           labels=[[0, 0, 0, 0, 0, 0, 0, 0, 0, 0, 1, 1, 1, 1, 1, 1, 1, 1, 1, 1, 1, 1, 2, 2, 2, 2, 2, 2, 2, 2, 2, 2, 2, 2, 3, 3, 3, 3, 3, 3, 3, 3, 3, 3, 3, 3, 4, 4, 4, 4, 4, 4, 4, 4, 4, 4, 4, 4, 5, 5, 5, 5, 5, 5], [2, 3, 4, 5, 6, 7, 8, 9, 10, 11, 0, 1, 2, 3, 4, 5, 6, 7, 8, 9, 10, 11, 0, 1, 2, 3, 4, 5, 6, 7, 8, 9, 10, 11, 0, 1, 2, 3, 4, 5, 6, 7, 8, 9, 10, 11, 0, 1, 2, 3, 4, 5, 6, 7, 8, 9, 10, 11, 0, 1, 2, 3, 4, 5]],\n",
       "           names=['Year', 'Quarter'])"
      ]
     },
     "execution_count": 104,
     "metadata": {},
     "output_type": "execute_result"
    }
   ],
   "source": [
    "Year_Quarter.index"
   ]
  },
  {
   "cell_type": "code",
   "execution_count": 105,
   "metadata": {},
   "outputs": [
    {
     "data": {
      "text/plain": [
       "pandas.core.frame.DataFrame"
      ]
     },
     "execution_count": 105,
     "metadata": {},
     "output_type": "execute_result"
    }
   ],
   "source": [
    "type(Year_Quarter)"
   ]
  },
  {
   "cell_type": "code",
   "execution_count": 106,
   "metadata": {},
   "outputs": [
    {
     "data": {
      "text/html": [
       "<div>\n",
       "<style scoped>\n",
       "    .dataframe tbody tr th:only-of-type {\n",
       "        vertical-align: middle;\n",
       "    }\n",
       "\n",
       "    .dataframe tbody tr th {\n",
       "        vertical-align: top;\n",
       "    }\n",
       "\n",
       "    .dataframe thead th {\n",
       "        text-align: right;\n",
       "    }\n",
       "</style>\n",
       "<table border=\"1\" class=\"dataframe\">\n",
       "  <thead>\n",
       "    <tr style=\"text-align: right;\">\n",
       "      <th></th>\n",
       "      <th></th>\n",
       "      <th>resale_price</th>\n",
       "    </tr>\n",
       "    <tr>\n",
       "      <th>Year</th>\n",
       "      <th>Quarter</th>\n",
       "      <th></th>\n",
       "    </tr>\n",
       "  </thead>\n",
       "  <tbody>\n",
       "    <tr>\n",
       "      <th rowspan=\"10\" valign=\"top\">2012</th>\n",
       "      <th>3</th>\n",
       "      <td>477562.222222</td>\n",
       "    </tr>\n",
       "    <tr>\n",
       "      <th>4</th>\n",
       "      <td>434671.428571</td>\n",
       "    </tr>\n",
       "    <tr>\n",
       "      <th>5</th>\n",
       "      <td>480906.545455</td>\n",
       "    </tr>\n",
       "    <tr>\n",
       "      <th>6</th>\n",
       "      <td>418536.000000</td>\n",
       "    </tr>\n",
       "    <tr>\n",
       "      <th>7</th>\n",
       "      <td>439475.288889</td>\n",
       "    </tr>\n",
       "    <tr>\n",
       "      <th>8</th>\n",
       "      <td>466418.604651</td>\n",
       "    </tr>\n",
       "    <tr>\n",
       "      <th>9</th>\n",
       "      <td>468322.615385</td>\n",
       "    </tr>\n",
       "    <tr>\n",
       "      <th>10</th>\n",
       "      <td>454875.288889</td>\n",
       "    </tr>\n",
       "    <tr>\n",
       "      <th>11</th>\n",
       "      <td>512059.314286</td>\n",
       "    </tr>\n",
       "    <tr>\n",
       "      <th>12</th>\n",
       "      <td>455626.441176</td>\n",
       "    </tr>\n",
       "    <tr>\n",
       "      <th rowspan=\"12\" valign=\"top\">2013</th>\n",
       "      <th>1</th>\n",
       "      <td>512696.828571</td>\n",
       "    </tr>\n",
       "    <tr>\n",
       "      <th>2</th>\n",
       "      <td>475263.040000</td>\n",
       "    </tr>\n",
       "    <tr>\n",
       "      <th>3</th>\n",
       "      <td>488491.333333</td>\n",
       "    </tr>\n",
       "    <tr>\n",
       "      <th>4</th>\n",
       "      <td>478707.783784</td>\n",
       "    </tr>\n",
       "    <tr>\n",
       "      <th>5</th>\n",
       "      <td>502289.655172</td>\n",
       "    </tr>\n",
       "    <tr>\n",
       "      <th>6</th>\n",
       "      <td>470144.000000</td>\n",
       "    </tr>\n",
       "    <tr>\n",
       "      <th>7</th>\n",
       "      <td>461000.000000</td>\n",
       "    </tr>\n",
       "    <tr>\n",
       "      <th>8</th>\n",
       "      <td>485678.571429</td>\n",
       "    </tr>\n",
       "    <tr>\n",
       "      <th>9</th>\n",
       "      <td>519595.520000</td>\n",
       "    </tr>\n",
       "    <tr>\n",
       "      <th>10</th>\n",
       "      <td>427750.000000</td>\n",
       "    </tr>\n",
       "    <tr>\n",
       "      <th>11</th>\n",
       "      <td>462866.222222</td>\n",
       "    </tr>\n",
       "    <tr>\n",
       "      <th>12</th>\n",
       "      <td>471669.833333</td>\n",
       "    </tr>\n",
       "    <tr>\n",
       "      <th rowspan=\"8\" valign=\"top\">2014</th>\n",
       "      <th>1</th>\n",
       "      <td>452680.000000</td>\n",
       "    </tr>\n",
       "    <tr>\n",
       "      <th>2</th>\n",
       "      <td>490473.684211</td>\n",
       "    </tr>\n",
       "    <tr>\n",
       "      <th>3</th>\n",
       "      <td>454303.481481</td>\n",
       "    </tr>\n",
       "    <tr>\n",
       "      <th>4</th>\n",
       "      <td>448995.520000</td>\n",
       "    </tr>\n",
       "    <tr>\n",
       "      <th>5</th>\n",
       "      <td>452354.166667</td>\n",
       "    </tr>\n",
       "    <tr>\n",
       "      <th>6</th>\n",
       "      <td>441892.689655</td>\n",
       "    </tr>\n",
       "    <tr>\n",
       "      <th>7</th>\n",
       "      <td>451181.037037</td>\n",
       "    </tr>\n",
       "    <tr>\n",
       "      <th>8</th>\n",
       "      <td>496365.517241</td>\n",
       "    </tr>\n",
       "    <tr>\n",
       "      <th>...</th>\n",
       "      <th>...</th>\n",
       "      <td>...</td>\n",
       "    </tr>\n",
       "    <tr>\n",
       "      <th rowspan=\"12\" valign=\"top\">2015</th>\n",
       "      <th>1</th>\n",
       "      <td>439718.617021</td>\n",
       "    </tr>\n",
       "    <tr>\n",
       "      <th>2</th>\n",
       "      <td>440673.076923</td>\n",
       "    </tr>\n",
       "    <tr>\n",
       "      <th>3</th>\n",
       "      <td>423637.935484</td>\n",
       "    </tr>\n",
       "    <tr>\n",
       "      <th>4</th>\n",
       "      <td>440000.000000</td>\n",
       "    </tr>\n",
       "    <tr>\n",
       "      <th>5</th>\n",
       "      <td>466582.341463</td>\n",
       "    </tr>\n",
       "    <tr>\n",
       "      <th>6</th>\n",
       "      <td>439168.228571</td>\n",
       "    </tr>\n",
       "    <tr>\n",
       "      <th>7</th>\n",
       "      <td>445262.933333</td>\n",
       "    </tr>\n",
       "    <tr>\n",
       "      <th>8</th>\n",
       "      <td>453166.666667</td>\n",
       "    </tr>\n",
       "    <tr>\n",
       "      <th>9</th>\n",
       "      <td>358961.750000</td>\n",
       "    </tr>\n",
       "    <tr>\n",
       "      <th>10</th>\n",
       "      <td>439247.794872</td>\n",
       "    </tr>\n",
       "    <tr>\n",
       "      <th>11</th>\n",
       "      <td>427736.457143</td>\n",
       "    </tr>\n",
       "    <tr>\n",
       "      <th>12</th>\n",
       "      <td>438255.466667</td>\n",
       "    </tr>\n",
       "    <tr>\n",
       "      <th rowspan=\"12\" valign=\"top\">2016</th>\n",
       "      <th>1</th>\n",
       "      <td>422750.000000</td>\n",
       "    </tr>\n",
       "    <tr>\n",
       "      <th>2</th>\n",
       "      <td>437122.666667</td>\n",
       "    </tr>\n",
       "    <tr>\n",
       "      <th>3</th>\n",
       "      <td>412396.551724</td>\n",
       "    </tr>\n",
       "    <tr>\n",
       "      <th>4</th>\n",
       "      <td>415127.172414</td>\n",
       "    </tr>\n",
       "    <tr>\n",
       "      <th>5</th>\n",
       "      <td>393416.827586</td>\n",
       "    </tr>\n",
       "    <tr>\n",
       "      <th>6</th>\n",
       "      <td>396588.000000</td>\n",
       "    </tr>\n",
       "    <tr>\n",
       "      <th>7</th>\n",
       "      <td>471231.096774</td>\n",
       "    </tr>\n",
       "    <tr>\n",
       "      <th>8</th>\n",
       "      <td>422670.700000</td>\n",
       "    </tr>\n",
       "    <tr>\n",
       "      <th>9</th>\n",
       "      <td>477770.000000</td>\n",
       "    </tr>\n",
       "    <tr>\n",
       "      <th>10</th>\n",
       "      <td>469464.129032</td>\n",
       "    </tr>\n",
       "    <tr>\n",
       "      <th>11</th>\n",
       "      <td>452325.581395</td>\n",
       "    </tr>\n",
       "    <tr>\n",
       "      <th>12</th>\n",
       "      <td>407162.933333</td>\n",
       "    </tr>\n",
       "    <tr>\n",
       "      <th rowspan=\"6\" valign=\"top\">2017</th>\n",
       "      <th>1</th>\n",
       "      <td>421520.000000</td>\n",
       "    </tr>\n",
       "    <tr>\n",
       "      <th>2</th>\n",
       "      <td>459218.769231</td>\n",
       "    </tr>\n",
       "    <tr>\n",
       "      <th>3</th>\n",
       "      <td>465891.714872</td>\n",
       "    </tr>\n",
       "    <tr>\n",
       "      <th>4</th>\n",
       "      <td>434393.945946</td>\n",
       "    </tr>\n",
       "    <tr>\n",
       "      <th>5</th>\n",
       "      <td>426336.210526</td>\n",
       "    </tr>\n",
       "    <tr>\n",
       "      <th>6</th>\n",
       "      <td>465982.133333</td>\n",
       "    </tr>\n",
       "  </tbody>\n",
       "</table>\n",
       "<p>64 rows × 1 columns</p>\n",
       "</div>"
      ],
      "text/plain": [
       "               resale_price\n",
       "Year Quarter               \n",
       "2012 3        477562.222222\n",
       "     4        434671.428571\n",
       "     5        480906.545455\n",
       "     6        418536.000000\n",
       "     7        439475.288889\n",
       "     8        466418.604651\n",
       "     9        468322.615385\n",
       "     10       454875.288889\n",
       "     11       512059.314286\n",
       "     12       455626.441176\n",
       "2013 1        512696.828571\n",
       "     2        475263.040000\n",
       "     3        488491.333333\n",
       "     4        478707.783784\n",
       "     5        502289.655172\n",
       "     6        470144.000000\n",
       "     7        461000.000000\n",
       "     8        485678.571429\n",
       "     9        519595.520000\n",
       "     10       427750.000000\n",
       "     11       462866.222222\n",
       "     12       471669.833333\n",
       "2014 1        452680.000000\n",
       "     2        490473.684211\n",
       "     3        454303.481481\n",
       "     4        448995.520000\n",
       "     5        452354.166667\n",
       "     6        441892.689655\n",
       "     7        451181.037037\n",
       "     8        496365.517241\n",
       "...                     ...\n",
       "2015 1        439718.617021\n",
       "     2        440673.076923\n",
       "     3        423637.935484\n",
       "     4        440000.000000\n",
       "     5        466582.341463\n",
       "     6        439168.228571\n",
       "     7        445262.933333\n",
       "     8        453166.666667\n",
       "     9        358961.750000\n",
       "     10       439247.794872\n",
       "     11       427736.457143\n",
       "     12       438255.466667\n",
       "2016 1        422750.000000\n",
       "     2        437122.666667\n",
       "     3        412396.551724\n",
       "     4        415127.172414\n",
       "     5        393416.827586\n",
       "     6        396588.000000\n",
       "     7        471231.096774\n",
       "     8        422670.700000\n",
       "     9        477770.000000\n",
       "     10       469464.129032\n",
       "     11       452325.581395\n",
       "     12       407162.933333\n",
       "2017 1        421520.000000\n",
       "     2        459218.769231\n",
       "     3        465891.714872\n",
       "     4        434393.945946\n",
       "     5        426336.210526\n",
       "     6        465982.133333\n",
       "\n",
       "[64 rows x 1 columns]"
      ]
     },
     "execution_count": 106,
     "metadata": {},
     "output_type": "execute_result"
    }
   ],
   "source": [
    "Year_Quarter"
   ]
  },
  {
   "cell_type": "code",
   "execution_count": 107,
   "metadata": {},
   "outputs": [
    {
     "data": {
      "text/html": [
       "<div>\n",
       "<style scoped>\n",
       "    .dataframe tbody tr th:only-of-type {\n",
       "        vertical-align: middle;\n",
       "    }\n",
       "\n",
       "    .dataframe tbody tr th {\n",
       "        vertical-align: top;\n",
       "    }\n",
       "\n",
       "    .dataframe thead th {\n",
       "        text-align: right;\n",
       "    }\n",
       "</style>\n",
       "<table border=\"1\" class=\"dataframe\">\n",
       "  <thead>\n",
       "    <tr style=\"text-align: right;\">\n",
       "      <th></th>\n",
       "      <th>resale_price</th>\n",
       "    </tr>\n",
       "    <tr>\n",
       "      <th>Quarter</th>\n",
       "      <th></th>\n",
       "    </tr>\n",
       "  </thead>\n",
       "  <tbody>\n",
       "    <tr>\n",
       "      <th>3</th>\n",
       "      <td>477562.222222</td>\n",
       "    </tr>\n",
       "    <tr>\n",
       "      <th>4</th>\n",
       "      <td>434671.428571</td>\n",
       "    </tr>\n",
       "    <tr>\n",
       "      <th>5</th>\n",
       "      <td>480906.545455</td>\n",
       "    </tr>\n",
       "    <tr>\n",
       "      <th>6</th>\n",
       "      <td>418536.000000</td>\n",
       "    </tr>\n",
       "    <tr>\n",
       "      <th>7</th>\n",
       "      <td>439475.288889</td>\n",
       "    </tr>\n",
       "    <tr>\n",
       "      <th>8</th>\n",
       "      <td>466418.604651</td>\n",
       "    </tr>\n",
       "    <tr>\n",
       "      <th>9</th>\n",
       "      <td>468322.615385</td>\n",
       "    </tr>\n",
       "    <tr>\n",
       "      <th>10</th>\n",
       "      <td>454875.288889</td>\n",
       "    </tr>\n",
       "    <tr>\n",
       "      <th>11</th>\n",
       "      <td>512059.314286</td>\n",
       "    </tr>\n",
       "    <tr>\n",
       "      <th>12</th>\n",
       "      <td>455626.441176</td>\n",
       "    </tr>\n",
       "  </tbody>\n",
       "</table>\n",
       "</div>"
      ],
      "text/plain": [
       "          resale_price\n",
       "Quarter               \n",
       "3        477562.222222\n",
       "4        434671.428571\n",
       "5        480906.545455\n",
       "6        418536.000000\n",
       "7        439475.288889\n",
       "8        466418.604651\n",
       "9        468322.615385\n",
       "10       454875.288889\n",
       "11       512059.314286\n",
       "12       455626.441176"
      ]
     },
     "execution_count": 107,
     "metadata": {},
     "output_type": "execute_result"
    }
   ],
   "source": [
    "Year_Quarter.xs(2012)"
   ]
  },
  {
   "cell_type": "code",
   "execution_count": 108,
   "metadata": {},
   "outputs": [
    {
     "data": {
      "text/html": [
       "<div>\n",
       "<style scoped>\n",
       "    .dataframe tbody tr th:only-of-type {\n",
       "        vertical-align: middle;\n",
       "    }\n",
       "\n",
       "    .dataframe tbody tr th {\n",
       "        vertical-align: top;\n",
       "    }\n",
       "\n",
       "    .dataframe thead th {\n",
       "        text-align: right;\n",
       "    }\n",
       "</style>\n",
       "<table border=\"1\" class=\"dataframe\">\n",
       "  <thead>\n",
       "    <tr style=\"text-align: right;\">\n",
       "      <th></th>\n",
       "      <th>resale_price</th>\n",
       "    </tr>\n",
       "    <tr>\n",
       "      <th>Year</th>\n",
       "      <th></th>\n",
       "    </tr>\n",
       "  </thead>\n",
       "  <tbody>\n",
       "    <tr>\n",
       "      <th>2012</th>\n",
       "      <td>455626.441176</td>\n",
       "    </tr>\n",
       "    <tr>\n",
       "      <th>2013</th>\n",
       "      <td>471669.833333</td>\n",
       "    </tr>\n",
       "    <tr>\n",
       "      <th>2014</th>\n",
       "      <td>485293.103448</td>\n",
       "    </tr>\n",
       "    <tr>\n",
       "      <th>2015</th>\n",
       "      <td>438255.466667</td>\n",
       "    </tr>\n",
       "    <tr>\n",
       "      <th>2016</th>\n",
       "      <td>407162.933333</td>\n",
       "    </tr>\n",
       "  </tbody>\n",
       "</table>\n",
       "</div>"
      ],
      "text/plain": [
       "       resale_price\n",
       "Year               \n",
       "2012  455626.441176\n",
       "2013  471669.833333\n",
       "2014  485293.103448\n",
       "2015  438255.466667\n",
       "2016  407162.933333"
      ]
     },
     "execution_count": 108,
     "metadata": {},
     "output_type": "execute_result"
    }
   ],
   "source": [
    "Year_Quarter.xs(12, level='Quarter')\n",
    "# All the resale_price in December"
   ]
  },
  {
   "cell_type": "code",
   "execution_count": 109,
   "metadata": {},
   "outputs": [
    {
     "data": {
      "text/html": [
       "<div>\n",
       "<style scoped>\n",
       "    .dataframe tbody tr th:only-of-type {\n",
       "        vertical-align: middle;\n",
       "    }\n",
       "\n",
       "    .dataframe tbody tr th {\n",
       "        vertical-align: top;\n",
       "    }\n",
       "\n",
       "    .dataframe thead th {\n",
       "        text-align: right;\n",
       "    }\n",
       "</style>\n",
       "<table border=\"1\" class=\"dataframe\">\n",
       "  <thead>\n",
       "    <tr style=\"text-align: right;\">\n",
       "      <th></th>\n",
       "      <th>resale_price</th>\n",
       "    </tr>\n",
       "    <tr>\n",
       "      <th>Quarter</th>\n",
       "      <th></th>\n",
       "    </tr>\n",
       "  </thead>\n",
       "  <tbody>\n",
       "    <tr>\n",
       "      <th>3</th>\n",
       "      <td>477562.222222</td>\n",
       "    </tr>\n",
       "    <tr>\n",
       "      <th>4</th>\n",
       "      <td>434671.428571</td>\n",
       "    </tr>\n",
       "    <tr>\n",
       "      <th>5</th>\n",
       "      <td>480906.545455</td>\n",
       "    </tr>\n",
       "    <tr>\n",
       "      <th>6</th>\n",
       "      <td>418536.000000</td>\n",
       "    </tr>\n",
       "    <tr>\n",
       "      <th>7</th>\n",
       "      <td>439475.288889</td>\n",
       "    </tr>\n",
       "    <tr>\n",
       "      <th>8</th>\n",
       "      <td>466418.604651</td>\n",
       "    </tr>\n",
       "    <tr>\n",
       "      <th>9</th>\n",
       "      <td>468322.615385</td>\n",
       "    </tr>\n",
       "    <tr>\n",
       "      <th>10</th>\n",
       "      <td>454875.288889</td>\n",
       "    </tr>\n",
       "    <tr>\n",
       "      <th>11</th>\n",
       "      <td>512059.314286</td>\n",
       "    </tr>\n",
       "    <tr>\n",
       "      <th>12</th>\n",
       "      <td>455626.441176</td>\n",
       "    </tr>\n",
       "  </tbody>\n",
       "</table>\n",
       "</div>"
      ],
      "text/plain": [
       "          resale_price\n",
       "Quarter               \n",
       "3        477562.222222\n",
       "4        434671.428571\n",
       "5        480906.545455\n",
       "6        418536.000000\n",
       "7        439475.288889\n",
       "8        466418.604651\n",
       "9        468322.615385\n",
       "10       454875.288889\n",
       "11       512059.314286\n",
       "12       455626.441176"
      ]
     },
     "execution_count": 109,
     "metadata": {},
     "output_type": "execute_result"
    }
   ],
   "source": [
    "# all months in 2012\n",
    "Year_Quarter.loc[2012, :]  "
   ]
  },
  {
   "cell_type": "code",
   "execution_count": 110,
   "metadata": {
    "scrolled": true
   },
   "outputs": [
    {
     "data": {
      "text/html": [
       "<div>\n",
       "<style scoped>\n",
       "    .dataframe tbody tr th:only-of-type {\n",
       "        vertical-align: middle;\n",
       "    }\n",
       "\n",
       "    .dataframe tbody tr th {\n",
       "        vertical-align: top;\n",
       "    }\n",
       "\n",
       "    .dataframe thead th {\n",
       "        text-align: right;\n",
       "    }\n",
       "</style>\n",
       "<table border=\"1\" class=\"dataframe\">\n",
       "  <thead>\n",
       "    <tr style=\"text-align: right;\">\n",
       "      <th></th>\n",
       "      <th></th>\n",
       "      <th>resale_price</th>\n",
       "    </tr>\n",
       "    <tr>\n",
       "      <th>Year</th>\n",
       "      <th>Quarter</th>\n",
       "      <th></th>\n",
       "    </tr>\n",
       "  </thead>\n",
       "  <tbody>\n",
       "    <tr>\n",
       "      <th>2012</th>\n",
       "      <th>12</th>\n",
       "      <td>455626.441176</td>\n",
       "    </tr>\n",
       "  </tbody>\n",
       "</table>\n",
       "</div>"
      ],
      "text/plain": [
       "               resale_price\n",
       "Year Quarter               \n",
       "2012 12       455626.441176"
      ]
     },
     "execution_count": 110,
     "metadata": {},
     "output_type": "execute_result"
    }
   ],
   "source": [
    "# the resale price in Dec 2012 \n",
    "Year_Quarter.loc[2012, 12, :] "
   ]
  },
  {
   "cell_type": "code",
   "execution_count": 111,
   "metadata": {},
   "outputs": [
    {
     "data": {
      "text/html": [
       "<div>\n",
       "<style scoped>\n",
       "    .dataframe tbody tr th:only-of-type {\n",
       "        vertical-align: middle;\n",
       "    }\n",
       "\n",
       "    .dataframe tbody tr th {\n",
       "        vertical-align: top;\n",
       "    }\n",
       "\n",
       "    .dataframe thead th {\n",
       "        text-align: right;\n",
       "    }\n",
       "</style>\n",
       "<table border=\"1\" class=\"dataframe\">\n",
       "  <thead>\n",
       "    <tr style=\"text-align: right;\">\n",
       "      <th></th>\n",
       "      <th></th>\n",
       "      <th>resale_price</th>\n",
       "    </tr>\n",
       "    <tr>\n",
       "      <th>Year</th>\n",
       "      <th>Quarter</th>\n",
       "      <th></th>\n",
       "    </tr>\n",
       "  </thead>\n",
       "  <tbody>\n",
       "    <tr>\n",
       "      <th>2012</th>\n",
       "      <th>12</th>\n",
       "      <td>455626.441176</td>\n",
       "    </tr>\n",
       "    <tr>\n",
       "      <th>2013</th>\n",
       "      <th>12</th>\n",
       "      <td>471669.833333</td>\n",
       "    </tr>\n",
       "    <tr>\n",
       "      <th>2014</th>\n",
       "      <th>12</th>\n",
       "      <td>485293.103448</td>\n",
       "    </tr>\n",
       "    <tr>\n",
       "      <th>2015</th>\n",
       "      <th>12</th>\n",
       "      <td>438255.466667</td>\n",
       "    </tr>\n",
       "    <tr>\n",
       "      <th>2016</th>\n",
       "      <th>12</th>\n",
       "      <td>407162.933333</td>\n",
       "    </tr>\n",
       "  </tbody>\n",
       "</table>\n",
       "</div>"
      ],
      "text/plain": [
       "               resale_price\n",
       "Year Quarter               \n",
       "2012 12       455626.441176\n",
       "2013 12       471669.833333\n",
       "2014 12       485293.103448\n",
       "2015 12       438255.466667\n",
       "2016 12       407162.933333"
      ]
     },
     "execution_count": 111,
     "metadata": {},
     "output_type": "execute_result"
    }
   ],
   "source": [
    "## all Year in December\n",
    "Year_Quarter.loc[(slice(None), slice(12, 12)), :]"
   ]
  },
  {
   "cell_type": "code",
   "execution_count": 112,
   "metadata": {
    "collapsed": true
   },
   "outputs": [],
   "source": [
    "from pandas import IndexSlice as idx"
   ]
  },
  {
   "cell_type": "code",
   "execution_count": 113,
   "metadata": {},
   "outputs": [
    {
     "data": {
      "text/html": [
       "<div>\n",
       "<style scoped>\n",
       "    .dataframe tbody tr th:only-of-type {\n",
       "        vertical-align: middle;\n",
       "    }\n",
       "\n",
       "    .dataframe tbody tr th {\n",
       "        vertical-align: top;\n",
       "    }\n",
       "\n",
       "    .dataframe thead th {\n",
       "        text-align: right;\n",
       "    }\n",
       "</style>\n",
       "<table border=\"1\" class=\"dataframe\">\n",
       "  <thead>\n",
       "    <tr style=\"text-align: right;\">\n",
       "      <th></th>\n",
       "      <th></th>\n",
       "      <th>resale_price</th>\n",
       "    </tr>\n",
       "    <tr>\n",
       "      <th>Year</th>\n",
       "      <th>Quarter</th>\n",
       "      <th></th>\n",
       "    </tr>\n",
       "  </thead>\n",
       "  <tbody>\n",
       "    <tr>\n",
       "      <th>2012</th>\n",
       "      <th>12</th>\n",
       "      <td>455626.441176</td>\n",
       "    </tr>\n",
       "    <tr>\n",
       "      <th>2013</th>\n",
       "      <th>12</th>\n",
       "      <td>471669.833333</td>\n",
       "    </tr>\n",
       "    <tr>\n",
       "      <th>2014</th>\n",
       "      <th>12</th>\n",
       "      <td>485293.103448</td>\n",
       "    </tr>\n",
       "  </tbody>\n",
       "</table>\n",
       "</div>"
      ],
      "text/plain": [
       "               resale_price\n",
       "Year Quarter               \n",
       "2012 12       455626.441176\n",
       "2013 12       471669.833333\n",
       "2014 12       485293.103448"
      ]
     },
     "execution_count": 113,
     "metadata": {},
     "output_type": "execute_result"
    }
   ],
   "source": [
    "Year_Quarter.loc[idx[2012:2014,12],:]"
   ]
  },
  {
   "cell_type": "code",
   "execution_count": null,
   "metadata": {
    "collapsed": true
   },
   "outputs": [],
   "source": []
  },
  {
   "cell_type": "code",
   "execution_count": null,
   "metadata": {
    "collapsed": true
   },
   "outputs": [],
   "source": []
  },
  {
   "cell_type": "markdown",
   "metadata": {},
   "source": [
    "### More Mapping and Groupby"
   ]
  },
  {
   "cell_type": "code",
   "execution_count": 73,
   "metadata": {},
   "outputs": [
    {
     "data": {
      "text/html": [
       "<div>\n",
       "<style scoped>\n",
       "    .dataframe tbody tr th:only-of-type {\n",
       "        vertical-align: middle;\n",
       "    }\n",
       "\n",
       "    .dataframe tbody tr th {\n",
       "        vertical-align: top;\n",
       "    }\n",
       "\n",
       "    .dataframe thead th {\n",
       "        text-align: right;\n",
       "    }\n",
       "</style>\n",
       "<table border=\"1\" class=\"dataframe\">\n",
       "  <thead>\n",
       "    <tr style=\"text-align: right;\">\n",
       "      <th></th>\n",
       "      <th>Bedok</th>\n",
       "      <th>Changi</th>\n",
       "      <th>Queenstown</th>\n",
       "      <th>Toa Payoh</th>\n",
       "    </tr>\n",
       "  </thead>\n",
       "  <tbody>\n",
       "    <tr>\n",
       "      <th>Tan</th>\n",
       "      <td>1</td>\n",
       "      <td>1</td>\n",
       "      <td>2</td>\n",
       "      <td>1</td>\n",
       "    </tr>\n",
       "    <tr>\n",
       "      <th>Dennis</th>\n",
       "      <td>2</td>\n",
       "      <td>2</td>\n",
       "      <td>3</td>\n",
       "      <td>1</td>\n",
       "    </tr>\n",
       "    <tr>\n",
       "      <th>Jane</th>\n",
       "      <td>1</td>\n",
       "      <td>3</td>\n",
       "      <td>3</td>\n",
       "      <td>3</td>\n",
       "    </tr>\n",
       "    <tr>\n",
       "      <th>Wong</th>\n",
       "      <td>1</td>\n",
       "      <td>3</td>\n",
       "      <td>1</td>\n",
       "      <td>4</td>\n",
       "    </tr>\n",
       "  </tbody>\n",
       "</table>\n",
       "</div>"
      ],
      "text/plain": [
       "        Bedok  Changi  Queenstown  Toa Payoh\n",
       "Tan         1       1           2          1\n",
       "Dennis      2       2           3          1\n",
       "Jane        1       3           3          3\n",
       "Wong        1       3           1          4"
      ]
     },
     "execution_count": 73,
     "metadata": {},
     "output_type": "execute_result"
    }
   ],
   "source": [
    "# group with a mapping \n",
    "# DataFrame of property guru ratings \n",
    "import numpy as np\n",
    "import pandas as pd\n",
    "rating = pd.DataFrame(np.random.randint(0,5, size=(4,4)),\n",
    "                  columns=['Bedok','Changi','Queenstown','Toa Payoh'],\n",
    "                  index=['Tan','Dennis','Jane','Wong'])\n",
    "rating"
   ]
  },
  {
   "cell_type": "code",
   "execution_count": 74,
   "metadata": {},
   "outputs": [
    {
     "data": {
      "text/html": [
       "<div>\n",
       "<style scoped>\n",
       "    .dataframe tbody tr th:only-of-type {\n",
       "        vertical-align: middle;\n",
       "    }\n",
       "\n",
       "    .dataframe tbody tr th {\n",
       "        vertical-align: top;\n",
       "    }\n",
       "\n",
       "    .dataframe thead th {\n",
       "        text-align: right;\n",
       "    }\n",
       "</style>\n",
       "<table border=\"1\" class=\"dataframe\">\n",
       "  <thead>\n",
       "    <tr style=\"text-align: right;\">\n",
       "      <th></th>\n",
       "      <th>Central</th>\n",
       "      <th>South East</th>\n",
       "    </tr>\n",
       "  </thead>\n",
       "  <tbody>\n",
       "    <tr>\n",
       "      <th>Tan</th>\n",
       "      <td>1.5</td>\n",
       "      <td>1.0</td>\n",
       "    </tr>\n",
       "    <tr>\n",
       "      <th>Dennis</th>\n",
       "      <td>2.0</td>\n",
       "      <td>2.0</td>\n",
       "    </tr>\n",
       "    <tr>\n",
       "      <th>Jane</th>\n",
       "      <td>3.0</td>\n",
       "      <td>2.0</td>\n",
       "    </tr>\n",
       "    <tr>\n",
       "      <th>Wong</th>\n",
       "      <td>2.5</td>\n",
       "      <td>2.0</td>\n",
       "    </tr>\n",
       "  </tbody>\n",
       "</table>\n",
       "</div>"
      ],
      "text/plain": [
       "        Central  South East\n",
       "Tan         1.5         1.0\n",
       "Dennis      2.0         2.0\n",
       "Jane        3.0         2.0\n",
       "Wong        2.5         2.0"
      ]
     },
     "execution_count": 74,
     "metadata": {},
     "output_type": "execute_result"
    }
   ],
   "source": [
    "map = {\n",
    "    'Bedok' : 'South East',\n",
    "    'Changi' : 'South East',\n",
    "    'Queenstown' : 'Central',\n",
    "    'Toa Payoh' : 'Central'\n",
    "}\n",
    "\n",
    "by_column = rating.groupby(map, axis=1)\n",
    "by_column.mean()"
   ]
  },
  {
   "cell_type": "code",
   "execution_count": 75,
   "metadata": {
    "scrolled": false
   },
   "outputs": [
    {
     "data": {
      "text/html": [
       "<div>\n",
       "<style scoped>\n",
       "    .dataframe tbody tr th:only-of-type {\n",
       "        vertical-align: middle;\n",
       "    }\n",
       "\n",
       "    .dataframe tbody tr th {\n",
       "        vertical-align: top;\n",
       "    }\n",
       "\n",
       "    .dataframe thead th {\n",
       "        text-align: right;\n",
       "    }\n",
       "</style>\n",
       "<table border=\"1\" class=\"dataframe\">\n",
       "  <thead>\n",
       "    <tr style=\"text-align: right;\">\n",
       "      <th></th>\n",
       "      <th>Bedok</th>\n",
       "      <th>Changi</th>\n",
       "      <th>Queenstown</th>\n",
       "      <th>Toa Payoh</th>\n",
       "    </tr>\n",
       "  </thead>\n",
       "  <tbody>\n",
       "    <tr>\n",
       "      <th>3</th>\n",
       "      <td>1</td>\n",
       "      <td>1</td>\n",
       "      <td>2</td>\n",
       "      <td>1</td>\n",
       "    </tr>\n",
       "    <tr>\n",
       "      <th>4</th>\n",
       "      <td>1</td>\n",
       "      <td>3</td>\n",
       "      <td>1</td>\n",
       "      <td>3</td>\n",
       "    </tr>\n",
       "    <tr>\n",
       "      <th>6</th>\n",
       "      <td>2</td>\n",
       "      <td>2</td>\n",
       "      <td>3</td>\n",
       "      <td>1</td>\n",
       "    </tr>\n",
       "  </tbody>\n",
       "</table>\n",
       "</div>"
      ],
      "text/plain": [
       "   Bedok  Changi  Queenstown  Toa Payoh\n",
       "3      1       1           2          1\n",
       "4      1       3           1          3\n",
       "6      2       2           3          1"
      ]
     },
     "execution_count": 75,
     "metadata": {},
     "output_type": "execute_result"
    }
   ],
   "source": [
    "# group with a function \n",
    "rating.groupby(len).min()\n",
    "#between Jane and Wong choose the minumim in each column and display it.\n",
    "#index 4 does not belong to either Jane or Wong, but as the results of min and show them"
   ]
  },
  {
   "cell_type": "markdown",
   "metadata": {},
   "source": [
    "#### Slicing DataFrames can be a complex topic. For more examples, see the Pandas docs (http://pandas.pydata.org/pandas-docs/stable/advanced.html?highlight=indexslice#using-slicers)"
   ]
  },
  {
   "cell_type": "markdown",
   "metadata": {
    "collapsed": true
   },
   "source": [
    "<center>\n",
    "  <a href=\"2.4.Summary%20Statistics%20in%20Dataframe.ipynb\">Previous Page</a> | <a href=\"./\">Content Page</a> | <a href=\"2.6._viz-examples_Matplotlib__Pandas_Seaborn.ipynb\">Next Page</a></center>\n",
    "</center>"
   ]
  },
  {
   "cell_type": "code",
   "execution_count": null,
   "metadata": {
    "collapsed": true
   },
   "outputs": [],
   "source": []
  },
  {
   "cell_type": "code",
   "execution_count": null,
   "metadata": {
    "collapsed": true
   },
   "outputs": [],
   "source": []
  },
  {
   "cell_type": "code",
   "execution_count": null,
   "metadata": {
    "collapsed": true
   },
   "outputs": [],
   "source": []
  },
  {
   "cell_type": "code",
   "execution_count": null,
   "metadata": {
    "collapsed": true
   },
   "outputs": [],
   "source": []
  },
  {
   "cell_type": "code",
   "execution_count": null,
   "metadata": {
    "collapsed": true
   },
   "outputs": [],
   "source": []
  },
  {
   "cell_type": "markdown",
   "metadata": {},
   "source": [
    "# Possible Answer:"
   ]
  },
  {
   "cell_type": "markdown",
   "metadata": {},
   "source": [
    "## Exercise 2.5.1"
   ]
  },
  {
   "cell_type": "markdown",
   "metadata": {},
   "source": [
    "###### a) Load cars.csv data into dataframe named cars:"
   ]
  },
  {
   "cell_type": "code",
   "execution_count": null,
   "metadata": {
    "collapsed": true
   },
   "outputs": [],
   "source": [
    "# load cars.csv data into dataframe named cars\n",
    "cars = pd.read_csv(\"cars.csv\",index_col=None)"
   ]
  },
  {
   "cell_type": "code",
   "execution_count": null,
   "metadata": {
    "collapsed": true
   },
   "outputs": [],
   "source": [
    "x, y, z=cars.MPG.iloc[[0,1,2]]\n",
    "cars.loc[[0,1,2],['MPG']]=str(x), str(y), str(z)"
   ]
  },
  {
   "cell_type": "markdown",
   "metadata": {},
   "source": [
    "###### b) Observe the three rows from the dataframe using head:"
   ]
  },
  {
   "cell_type": "code",
   "execution_count": null,
   "metadata": {
    "collapsed": true
   },
   "outputs": [],
   "source": [
    "cars.head(3)"
   ]
  },
  {
   "cell_type": "markdown",
   "metadata": {},
   "source": [
    "###### c) Check how many rows and columns using shape"
   ]
  },
  {
   "cell_type": "code",
   "execution_count": null,
   "metadata": {
    "collapsed": true,
    "scrolled": true
   },
   "outputs": [],
   "source": [
    "cars.shape"
   ]
  },
  {
   "cell_type": "markdown",
   "metadata": {},
   "source": [
    "###### d) Get 10 samples from the dataframe"
   ]
  },
  {
   "cell_type": "code",
   "execution_count": null,
   "metadata": {
    "collapsed": true,
    "scrolled": true
   },
   "outputs": [],
   "source": [
    "cars.sample(10)"
   ]
  },
  {
   "cell_type": "markdown",
   "metadata": {},
   "source": [
    "###### e) Check how many Unique Car in Cars DataFrame:"
   ]
  },
  {
   "cell_type": "code",
   "execution_count": null,
   "metadata": {
    "collapsed": true
   },
   "outputs": [],
   "source": [
    "# How many Unique Car in Cars DataFrame?\n",
    "cars.Car.nunique()"
   ]
  },
  {
   "cell_type": "markdown",
   "metadata": {},
   "source": [
    "###### f)Check how many Cylinders Car in Cars DataFrame:"
   ]
  },
  {
   "cell_type": "code",
   "execution_count": null,
   "metadata": {
    "collapsed": true,
    "scrolled": true
   },
   "outputs": [],
   "source": [
    "# How many Unique Cylinders in Cars DataFrame?\n",
    "cars.Cylinders.nunique()"
   ]
  },
  {
   "cell_type": "markdown",
   "metadata": {},
   "source": [
    "###### g)Check how many Unique countries in Cars DataFrame:"
   ]
  },
  {
   "cell_type": "code",
   "execution_count": null,
   "metadata": {
    "collapsed": true
   },
   "outputs": [],
   "source": [
    "# From which countries these car are?\n",
    "cars.Origin.unique()"
   ]
  },
  {
   "cell_type": "markdown",
   "metadata": {},
   "source": [
    "###### h) Check the datatypes in the Cars DataFrame:"
   ]
  },
  {
   "cell_type": "code",
   "execution_count": null,
   "metadata": {
    "collapsed": true,
    "scrolled": true
   },
   "outputs": [],
   "source": [
    "cars.dtypes"
   ]
  },
  {
   "cell_type": "markdown",
   "metadata": {},
   "source": [
    "###### i)MPG is not recognised as a number.  Convert object in MPG to float64:"
   ]
  },
  {
   "cell_type": "code",
   "execution_count": null,
   "metadata": {
    "collapsed": true
   },
   "outputs": [],
   "source": [
    "# Convert MPG to float64"
   ]
  },
  {
   "cell_type": "code",
   "execution_count": null,
   "metadata": {
    "collapsed": true
   },
   "outputs": [],
   "source": [
    "cars[[\"MPG\"]] = cars[[\"MPG\"]].apply(pd.to_numeric, errors = \"coerce\")\n",
    "cars[\"MPG\"].head()"
   ]
  },
  {
   "cell_type": "markdown",
   "metadata": {},
   "source": [
    "###### j) check the datatype in cars dataframe again:"
   ]
  },
  {
   "cell_type": "code",
   "execution_count": null,
   "metadata": {
    "collapsed": true,
    "scrolled": false
   },
   "outputs": [],
   "source": [
    "cars.dtypes"
   ]
  },
  {
   "cell_type": "code",
   "execution_count": null,
   "metadata": {
    "collapsed": true
   },
   "outputs": [],
   "source": []
  },
  {
   "cell_type": "code",
   "execution_count": null,
   "metadata": {
    "collapsed": true
   },
   "outputs": [],
   "source": []
  },
  {
   "cell_type": "markdown",
   "metadata": {},
   "source": [
    "## Exercise 2.5.2"
   ]
  },
  {
   "cell_type": "markdown",
   "metadata": {},
   "source": [
    "###### a) Find a car that is efficient (that can run 40 miles per gallon). List ALL OF THEM"
   ]
  },
  {
   "cell_type": "code",
   "execution_count": null,
   "metadata": {
    "collapsed": true
   },
   "outputs": [],
   "source": [
    "cars.loc[cars.MPG > 40]"
   ]
  },
  {
   "cell_type": "markdown",
   "metadata": {},
   "source": [
    "###### b) Find a car that is efficient (that can run 40 miles per gallon). List ONLY from Japan"
   ]
  },
  {
   "cell_type": "code",
   "execution_count": null,
   "metadata": {
    "collapsed": true
   },
   "outputs": [],
   "source": [
    "cars.loc[(cars.MPG > 40) & (cars.Origin=='Japan')]"
   ]
  },
  {
   "cell_type": "markdown",
   "metadata": {},
   "source": [
    "###### c) Find a car that is efficient (that can run 40 miles per gallon). List ONLY from those NOT from Japan"
   ]
  },
  {
   "cell_type": "code",
   "execution_count": null,
   "metadata": {
    "collapsed": true
   },
   "outputs": [],
   "source": [
    "cars.loc[(cars.MPG > 40) & (cars.Origin!='Japan')]"
   ]
  },
  {
   "cell_type": "markdown",
   "metadata": {},
   "source": [
    "##### *d) Self-Study (Google).  Find all cars with the keyword \"Renault\"*"
   ]
  },
  {
   "cell_type": "code",
   "execution_count": null,
   "metadata": {
    "collapsed": true,
    "scrolled": false
   },
   "outputs": [],
   "source": [
    "cars[cars['Car'].str.contains(\"Renault\")]"
   ]
  },
  {
   "cell_type": "code",
   "execution_count": null,
   "metadata": {
    "collapsed": true
   },
   "outputs": [],
   "source": []
  },
  {
   "cell_type": "markdown",
   "metadata": {},
   "source": [
    "## Exercise 2.5.3"
   ]
  },
  {
   "cell_type": "code",
   "execution_count": null,
   "metadata": {
    "collapsed": true
   },
   "outputs": [],
   "source": [
    "cars.iloc[:2, 1]=nan\n",
    "cars.iloc[1:10, 2]=nan"
   ]
  },
  {
   "cell_type": "markdown",
   "metadata": {},
   "source": [
    "###### a) Check the first 10 records and find the NaN"
   ]
  },
  {
   "cell_type": "code",
   "execution_count": null,
   "metadata": {
    "collapsed": true
   },
   "outputs": [],
   "source": [
    "cars.head(12)"
   ]
  },
  {
   "cell_type": "markdown",
   "metadata": {},
   "source": [
    "##### b) Propagate previous value backward \n"
   ]
  },
  {
   "cell_type": "code",
   "execution_count": null,
   "metadata": {
    "collapsed": true,
    "scrolled": true
   },
   "outputs": [],
   "source": [
    "cars.fillna(method='bfill').head(11)"
   ]
  },
  {
   "cell_type": "code",
   "execution_count": null,
   "metadata": {
    "collapsed": true
   },
   "outputs": [],
   "source": []
  },
  {
   "cell_type": "markdown",
   "metadata": {},
   "source": [
    "## Exercise 2.5.4"
   ]
  },
  {
   "cell_type": "markdown",
   "metadata": {},
   "source": [
    "The current data is not consistent.  Europe is not a country, Japan is a country.   We want to make it consistent by filling out \"Continent\".  Here is the dictonary"
   ]
  },
  {
   "cell_type": "code",
   "execution_count": null,
   "metadata": {
    "collapsed": true
   },
   "outputs": [],
   "source": [
    "cars=pd.read_csv('cars.csv')"
   ]
  },
  {
   "cell_type": "code",
   "execution_count": null,
   "metadata": {
    "collapsed": true
   },
   "outputs": [],
   "source": [
    "continent = {\n",
    "'Europe':'Europe',\n",
    "'US':'America',\n",
    "'Japan':'Asia'}"
   ]
  },
  {
   "cell_type": "markdown",
   "metadata": {},
   "source": [
    "###### a) Map the dictonary above, find the keyword in Origin, and assign values in continent dictionary to a new column named as cars.Continent "
   ]
  },
  {
   "cell_type": "code",
   "execution_count": null,
   "metadata": {
    "collapsed": true
   },
   "outputs": [],
   "source": [
    "cars['Continent'] = cars.loc[:,'Origin'].map(continent)\n",
    "cars"
   ]
  },
  {
   "cell_type": "markdown",
   "metadata": {},
   "source": [
    "###### b) Save the Data Frame as newcar.csv"
   ]
  },
  {
   "cell_type": "code",
   "execution_count": null,
   "metadata": {
    "collapsed": true
   },
   "outputs": [],
   "source": [
    "cars.to_csv('newcar.csv')"
   ]
  },
  {
   "cell_type": "code",
   "execution_count": null,
   "metadata": {
    "collapsed": true
   },
   "outputs": [],
   "source": []
  },
  {
   "cell_type": "markdown",
   "metadata": {},
   "source": [
    "## Exercise 2.5.4"
   ]
  },
  {
   "cell_type": "markdown",
   "metadata": {},
   "source": [
    "###### c) Drop 'Origin' Field in cars dataframe"
   ]
  },
  {
   "cell_type": "code",
   "execution_count": null,
   "metadata": {
    "collapsed": true,
    "scrolled": true
   },
   "outputs": [],
   "source": [
    "cars=pd.read_csv('newcar.csv', index_col=0)\n",
    "cars.head(2)"
   ]
  },
  {
   "cell_type": "code",
   "execution_count": null,
   "metadata": {
    "collapsed": true,
    "scrolled": true
   },
   "outputs": [],
   "source": [
    "cars.drop('Origin', axis = 1, inplace=True)\n",
    "cars.head(2)"
   ]
  },
  {
   "cell_type": "code",
   "execution_count": null,
   "metadata": {
    "collapsed": true
   },
   "outputs": [],
   "source": []
  },
  {
   "cell_type": "markdown",
   "metadata": {},
   "source": [
    "## Exercise 2.5.5"
   ]
  },
  {
   "cell_type": "markdown",
   "metadata": {},
   "source": [
    "###### a) Sample 3 records from the dataframe"
   ]
  },
  {
   "cell_type": "code",
   "execution_count": null,
   "metadata": {
    "collapsed": true,
    "scrolled": true
   },
   "outputs": [],
   "source": [
    "cars.sample(3)"
   ]
  },
  {
   "cell_type": "markdown",
   "metadata": {},
   "source": [
    "###### b) Find the MPG mean grouped by Continent.  Which Continent has the lowest average MPG? (do not buy cars manufactured by this continent??) "
   ]
  },
  {
   "cell_type": "code",
   "execution_count": null,
   "metadata": {
    "collapsed": true
   },
   "outputs": [],
   "source": [
    "group_car = cars['MPG'].groupby(cars['Continent'])\n",
    "group_car.mean()"
   ]
  },
  {
   "cell_type": "markdown",
   "metadata": {},
   "source": [
    "###### c) Find the MPG mean grouped by Year (Model).  Which Year has the highest average MPG? (Buy cars manufactured in this Year??) "
   ]
  },
  {
   "cell_type": "code",
   "execution_count": null,
   "metadata": {
    "collapsed": true,
    "scrolled": true
   },
   "outputs": [],
   "source": [
    "group_car = cars['MPG'].groupby(cars['Model'])\n",
    "group_car.mean()"
   ]
  },
  {
   "cell_type": "code",
   "execution_count": null,
   "metadata": {
    "collapsed": true
   },
   "outputs": [],
   "source": []
  },
  {
   "cell_type": "markdown",
   "metadata": {},
   "source": [
    "## Exercise 2.5.6"
   ]
  },
  {
   "cell_type": "markdown",
   "metadata": {},
   "source": [
    "###### d) Find the average MPG groupby Continent, and Year (Model)"
   ]
  },
  {
   "cell_type": "code",
   "execution_count": null,
   "metadata": {
    "collapsed": true
   },
   "outputs": [],
   "source": [
    "group_car = cars['MPG'].groupby([cars['Continent'], cars['Model']])"
   ]
  },
  {
   "cell_type": "code",
   "execution_count": null,
   "metadata": {
    "collapsed": true
   },
   "outputs": [],
   "source": [
    "group_car.mean()"
   ]
  },
  {
   "cell_type": "code",
   "execution_count": null,
   "metadata": {
    "collapsed": true
   },
   "outputs": [],
   "source": []
  },
  {
   "cell_type": "code",
   "execution_count": null,
   "metadata": {
    "collapsed": true
   },
   "outputs": [],
   "source": [
    "# code above allows grouping with a series not in the data frame\n",
    "# if grouping information is in the same data frame, we have a shorter way:\n",
    "# non-numerical column automatically dropped. "
   ]
  },
  {
   "cell_type": "markdown",
   "metadata": {},
   "source": [
    "######  e) Find the average of ALL numbers available in Dataframe, groupby Continent, and Year"
   ]
  },
  {
   "cell_type": "code",
   "execution_count": null,
   "metadata": {
    "collapsed": true,
    "scrolled": true
   },
   "outputs": [],
   "source": [
    "cars.groupby([cars['Continent'],cars['Model']]).mean()"
   ]
  },
  {
   "cell_type": "code",
   "execution_count": null,
   "metadata": {
    "collapsed": true
   },
   "outputs": [],
   "source": []
  },
  {
   "cell_type": "code",
   "execution_count": null,
   "metadata": {
    "collapsed": true
   },
   "outputs": [],
   "source": []
  }
 ],
 "metadata": {
  "kernelspec": {
   "display_name": "Python 3 (ipykernel)",
   "language": "python",
   "name": "python3"
  },
  "language_info": {
   "codemirror_mode": {
    "name": "ipython",
    "version": 3
   },
   "file_extension": ".py",
   "mimetype": "text/x-python",
   "name": "python",
   "nbconvert_exporter": "python",
   "pygments_lexer": "ipython3",
   "version": "3.9.12"
  }
 },
 "nbformat": 4,
 "nbformat_minor": 2
}
