{
 "cells": [
  {
   "cell_type": "markdown",
   "metadata": {},
   "source": [
    "# Resources for Further Learning"
   ]
  },
  {
   "cell_type": "markdown",
   "metadata": {},
   "source": [
    "\n",
    "\n",
    "Here are some books that you may find it useful:\n",
    "\n",
    "- [*The Python Data Science Handbook*](http://shop.oreilly.com/product/0636920034919.do) by Jake VanderPlas. This book offers a comprehensive and easy-to-understand guide to the essential tools in Python's data science.\n",
    "- [*Python for Data Analysis*](http://shop.oreilly.com/product/0636920023784.do) written by the createor of Pandas package, Wes McKinney. Therefore, the author explains the Pandas library and how to use it in-depth\n",
    "\n",
    "Join conferences:<br>\n",
    "- *PyCon*, *SciPy*, and *PyData*. The PyCon, SciPy, and PyData conferences<br>\n",
    " - you may search online videos for both talks and tutorials\n",
    " - free tutorial\n",
    " \n",
    "#### You may also consider to get online certification which *may* help you to get jobs in Data Science\n",
    "After this class, you can get this certification for the following course easily because we have covered all, if not most, of the materials.<br></br>\n",
    "Coursera’s<br> - Python Data Analysis <a href='http://online.rice.edu/courses/python-data-analysis/'>(Rice University - 4 weeks)</a></br>\n",
    "<br>- Python for Data Science <a href='https://www.coursera.org/learn/python-for-applied-data-science'>(IBM – 5 weeks)</a></br>\n",
    "</br>\n",
    "\n",
    "\n",
    "This concludes our Python for Data Science.\n",
    "Our hope is that participants have an exposure to the basic syntax, semantics, operations, functionality, and data science algorithm like regression and classification so that you have some ideas with regard to the codes and tools. We hope you can explore further.\n"
   ]
  }
 ],
 "metadata": {
  "anaconda-cloud": {},
  "kernelspec": {
   "display_name": "Python 3 (ipykernel)",
   "language": "python",
   "name": "python3"
  },
  "language_info": {
   "codemirror_mode": {
    "name": "ipython",
    "version": 3
   },
   "file_extension": ".py",
   "mimetype": "text/x-python",
   "name": "python",
   "nbconvert_exporter": "python",
   "pygments_lexer": "ipython3",
   "version": "3.9.12"
  }
 },
 "nbformat": 4,
 "nbformat_minor": 1
}
