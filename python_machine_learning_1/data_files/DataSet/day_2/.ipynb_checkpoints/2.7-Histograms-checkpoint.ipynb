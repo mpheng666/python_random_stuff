{
 "cells": [
  {
   "cell_type": "markdown",
   "metadata": {},
   "source": [
    "# 2.7. Histograms"
   ]
  },
  {
   "cell_type": "markdown",
   "metadata": {},
   "source": [
    "Histograms show the distribution of the data.  The shape of the histogram changes depending on the size of the bin width.\n",
    "When creating a histogram with too many bar charts (too many bins) or too little, meaningful relationship is hard to be understood."
   ]
  },
  {
   "cell_type": "markdown",
   "metadata": {},
   "source": [
    "Choosing the correct bin width is therefore important.  While no right or wrong answer about how wide a bin should be, generarlly the rules of thumb are  bins are not too small or too large. "
   ]
  },
  {
   "cell_type": "markdown",
   "metadata": {},
   "source": [
    "\n",
    "\n",
    "<table cellspacing=\"0\" cellpadding=\"0\" width=\"450\" style=\"text-align:center;line-height:20px;\">\n",
    "\t<tbody><tr>\n",
    "\n",
    "\t\t<td style=\"border-top:1px solid #ccc;border-bottom:1px solid #ccc;\"><strong>Bin</strong></td><td style=\"border-top:1px solid #ccc;border-bottom:1px solid #ccc;\"><strong>Frequency</strong></td><td style=\"border-top:1px solid #ccc;border-bottom:1px solid #ccc;\"><strong>Scores Included in Bin</strong></td>\n",
    "\t</tr>\n",
    "\t<tr>\n",
    "\t\t<td>20-30</td><td>2</td><td>25,22</td>\n",
    "\t</tr>\n",
    "\t<tr>\n",
    "\n",
    "\t\t<td>30-40</td><td>4</td><td>36,38,36,38</td>\n",
    "\t</tr>\n",
    "\t<tr>\n",
    "\t\t<td>40-50</td><td>4</td><td>46,45,48,46</td>\n",
    "\t</tr>\n",
    "\t<tr>\n",
    "\n",
    "\t\t<td>50-60</td><td>5</td><td>55,55,52,58,55</td>\n",
    "\t</tr>\n",
    "\t<tr>\n",
    "\t\t<td>60-70</td><td>3</td><td>68,67,61</td>\n",
    "\t</tr>\n",
    "\t<tr>\n",
    "\n",
    "\t\t<td>70-80</td><td>1</td><td>72</td>\n",
    "\t</tr>\n",
    "\t<tr>\n",
    "\t\t<td>80-90</td><td>0</td><td>-</td>\n",
    "\t</tr>\n",
    "\t<tr>\n",
    "\n",
    "\t\t<td style=\"border-bottom:1px solid #ccc;\">90-100</td><td style=\"border-bottom:1px solid #ccc;\">1</td><td style=\"border-bottom:1px solid #ccc;\">91</td>\n",
    "\t</tr>\n",
    "</tbody></table>"
   ]
  },
  {
   "cell_type": "markdown",
   "metadata": {
    "collapsed": true
   },
   "source": [
    "For the data above, here are the examples of bad histograms\n",
    "![Good Histogram](resources\\img\\histogram-4.png)"
   ]
  },
  {
   "cell_type": "markdown",
   "metadata": {
    "collapsed": true
   },
   "source": [
    "Below is a better historgram\n",
    "![Good Histogram](resources/img/histogram-1.png)\n",
    "\n",
    "source https://statistics.laerd.com/statistical-guides/understanding-histograms.php"
   ]
  },
  {
   "cell_type": "markdown",
   "metadata": {},
   "source": [
    "# 2.6.1 Bar Chart is not a Histogram\n",
    "\n",
    "## Difference between a bar chart and a histogram"
   ]
  },
  {
   "cell_type": "markdown",
   "metadata": {
    "collapsed": true
   },
   "source": [
    "- A histogram plots the frequency of score occurrences in a continuous data set that has been divided into classes (bins).\n",
    "- That is to say, a histogram is used to plot quantitative data with ranges of the data grouped into bins\n",
    "- A bar chart is used to plot categorical data. \n",
    "<br><br>\n",
    "\n",
    "- A histogram is used to show distributions of variables\n",
    "- A bar chart is used to compare variables (often using ordinal and nominal data sets in a horizontal axis e.g., religion)\n",
    "\n",
    "Histograms are based on area, not height of bars\n",
    "- A bar that indicates the frequency of occurrences for each bin.\n",
    "\n",
    "for more detailed information: https://www.forbes.com/sites/naomirobbins/2012/01/04/a-histogram-is-not-a-bar-chart/#31536ad96d77\n"
   ]
  },
  {
   "cell_type": "markdown",
   "metadata": {},
   "source": [
    "# 2.7.2. Bar Chart using Matplotlib"
   ]
  },
  {
   "cell_type": "code",
   "execution_count": 36,
   "metadata": {
    "scrolled": true
   },
   "outputs": [
    {
     "data": {
      "image/png": "[encoded data removed]",
      "text/plain": [
       "<Figure size 432x288 with 1 Axes>"
      ]
     },
     "metadata": {},
     "output_type": "display_data"
    }
   ],
   "source": [
    "%matplotlib inline\n",
    "import numpy as np\n",
    "import matplotlib.mlab as mlab\n",
    "import matplotlib.pyplot as plt\n",
    "\n",
    "mu, sigma = 0, 15\n",
    "\n",
    "#Creating an array with 1000 values and multiply them with sigma(15) and add the mean(mu)\n",
    "x = mu + sigma*np.random.randn(1000)\n",
    "\n",
    "# the histogram of the data\n",
    "n, bins, patches = plt.hist(x, bins=5, density=0, facecolor='yellow', alpha=0.75)"
   ]
  },
  {
   "cell_type": "markdown",
   "metadata": {
    "collapsed": true
   },
   "source": [
    "# 2.7.3. Bar Chart using Pandas.Plot"
   ]
  },
  {
   "cell_type": "code",
   "execution_count": 37,
   "metadata": {
    "collapsed": true
   },
   "outputs": [],
   "source": [
    "import pandas as pd"
   ]
  },
  {
   "cell_type": "code",
   "execution_count": 38,
   "metadata": {
    "collapsed": true
   },
   "outputs": [],
   "source": [
    "X=pd.DataFrame(x)"
   ]
  },
  {
   "cell_type": "code",
   "execution_count": 39,
   "metadata": {},
   "outputs": [
    {
     "data": {
      "text/plain": [
       "array([[<matplotlib.axes._subplots.AxesSubplot object at 0x000001F44705EC88>]],\n",
       "      dtype=object)"
      ]
     },
     "execution_count": 39,
     "metadata": {},
     "output_type": "execute_result"
    },
    {
     "data": {
      "image/png": "[encoded data removed]",
      "text/plain": [
       "<Figure size 432x288 with 1 Axes>"
      ]
     },
     "metadata": {},
     "output_type": "display_data"
    }
   ],
   "source": [
    "X.hist(alpha=0.5)"
   ]
  },
  {
   "cell_type": "markdown",
   "metadata": {},
   "source": [
    "# 2.7.4. Bar Chart using Seaborn"
   ]
  },
  {
   "cell_type": "code",
   "execution_count": 41,
   "metadata": {
    "collapsed": true,
    "scrolled": true
   },
   "outputs": [],
   "source": [
    "import seaborn as sns"
   ]
  },
  {
   "cell_type": "code",
   "execution_count": 42,
   "metadata": {},
   "outputs": [
    {
     "data": {
      "image/png": "[encoded data removed]",
      "text/plain": [
       "<Figure size 432x288 with 1 Axes>"
      ]
     },
     "metadata": {},
     "output_type": "display_data"
    }
   ],
   "source": [
    "sns.distplot(X, bins=10, kde=False);"
   ]
  },
  {
   "cell_type": "code",
   "execution_count": null,
   "metadata": {
    "collapsed": true
   },
   "outputs": [],
   "source": []
  },
  {
   "cell_type": "markdown",
   "metadata": {
    "collapsed": true
   },
   "source": [
    "# Example using Cars dataset"
   ]
  },
  {
   "cell_type": "markdown",
   "metadata": {},
   "source": [
    "## Using Matplotlib with Cars Data"
   ]
  },
  {
   "cell_type": "code",
   "execution_count": 1,
   "metadata": {
    "collapsed": true
   },
   "outputs": [],
   "source": [
    "import pandas as pd\n",
    "# load cars.csv data into dataframe named cars\n",
    "cars = pd.read_csv(\"cars.csv\",index_col=None)"
   ]
  },
  {
   "cell_type": "code",
   "execution_count": 2,
   "metadata": {},
   "outputs": [
    {
     "data": {
      "text/plain": [
       "Index(['Car', 'MPG', 'Cylinders', 'Displacement', 'Horsepower', 'Weight',\n",
       "       'Acceleration', 'Model', 'Origin', 'Color'],\n",
       "      dtype='object')"
      ]
     },
     "execution_count": 2,
     "metadata": {},
     "output_type": "execute_result"
    }
   ],
   "source": [
    "cars.columns"
   ]
  },
  {
   "cell_type": "code",
   "execution_count": 3,
   "metadata": {},
   "outputs": [
    {
     "data": {
      "text/plain": [
       "(406, 10)"
      ]
     },
     "execution_count": 3,
     "metadata": {},
     "output_type": "execute_result"
    }
   ],
   "source": [
    "cars.shape"
   ]
  },
  {
   "cell_type": "code",
   "execution_count": 4,
   "metadata": {
    "collapsed": true
   },
   "outputs": [],
   "source": [
    "%matplotlib inline\n",
    "import numpy as np\n",
    "import matplotlib.mlab as mlab\n",
    "import matplotlib.pyplot as plt"
   ]
  },
  {
   "cell_type": "code",
   "execution_count": 5,
   "metadata": {},
   "outputs": [
    {
     "data": {
      "image/png": "[encoded data removed]",
      "text/plain": [
       "<Figure size 432x288 with 1 Axes>"
      ]
     },
     "metadata": {},
     "output_type": "display_data"
    }
   ],
   "source": [
    "n, bins, patches = plt.hist(cars.MPG, 5, density=0, facecolor='yellow', alpha=0.75)"
   ]
  },
  {
   "cell_type": "markdown",
   "metadata": {},
   "source": [
    "##### How many instances in each bin (i.e., Bar i.e., y-value)"
   ]
  },
  {
   "cell_type": "code",
   "execution_count": 7,
   "metadata": {},
   "outputs": [
    {
     "data": {
      "text/plain": [
       "array([  9., 130., 149.,  99.,  19.])"
      ]
     },
     "execution_count": 7,
     "metadata": {},
     "output_type": "execute_result"
    }
   ],
   "source": [
    "n"
   ]
  },
  {
   "cell_type": "markdown",
   "metadata": {},
   "source": [
    "##### Each bin starting value (x-value) and add 9.32 for each value"
   ]
  },
  {
   "cell_type": "code",
   "execution_count": 8,
   "metadata": {},
   "outputs": [
    {
     "data": {
      "text/plain": [
       "array([ 0.  ,  9.32, 18.64, 27.96, 37.28, 46.6 ])"
      ]
     },
     "execution_count": 8,
     "metadata": {},
     "output_type": "execute_result"
    }
   ],
   "source": [
    "bins"
   ]
  },
  {
   "cell_type": "markdown",
   "metadata": {},
   "source": [
    "##### (highest value - lowest value) / the number of bins"
   ]
  },
  {
   "cell_type": "code",
   "execution_count": 10,
   "metadata": {},
   "outputs": [
    {
     "data": {
      "text/plain": [
       "9.32"
      ]
     },
     "execution_count": 10,
     "metadata": {},
     "output_type": "execute_result"
    }
   ],
   "source": [
    "(46.6-0)/5"
   ]
  },
  {
   "cell_type": "code",
   "execution_count": 12,
   "metadata": {},
   "outputs": [
    {
     "data": {
      "text/plain": [
       "18.64"
      ]
     },
     "execution_count": 12,
     "metadata": {},
     "output_type": "execute_result"
    }
   ],
   "source": [
    "# second bin\n",
    "((46.6-0)/5)*2"
   ]
  },
  {
   "cell_type": "code",
   "execution_count": 13,
   "metadata": {},
   "outputs": [
    {
     "data": {
      "text/plain": [
       "[None]"
      ]
     },
     "execution_count": 13,
     "metadata": {},
     "output_type": "execute_result"
    },
    {
     "data": {
      "image/png": "[encoded data removed]",
      "text/plain": [
       "<Figure size 432x288 with 1 Axes>"
      ]
     },
     "metadata": {},
     "output_type": "display_data"
    }
   ],
   "source": [
    "n, bins, patches = plt.hist(cars.MPG, 5, density=0, facecolor='yellow', alpha=0.75)\n",
    "plt.setp(patches[2], facecolor='g')"
   ]
  },
  {
   "cell_type": "code",
   "execution_count": null,
   "metadata": {
    "collapsed": true
   },
   "outputs": [],
   "source": []
  },
  {
   "cell_type": "markdown",
   "metadata": {},
   "source": [
    "## Using Pandas.plot with Cars Data"
   ]
  },
  {
   "cell_type": "code",
   "execution_count": 14,
   "metadata": {},
   "outputs": [
    {
     "data": {
      "text/plain": [
       "pandas.core.series.Series"
      ]
     },
     "execution_count": 14,
     "metadata": {},
     "output_type": "execute_result"
    }
   ],
   "source": [
    "type(cars.MPG)"
   ]
  },
  {
   "cell_type": "code",
   "execution_count": 15,
   "metadata": {
    "collapsed": true
   },
   "outputs": [],
   "source": [
    "#Convert from Series to DataFrame\n",
    "df=cars[['MPG']]"
   ]
  },
  {
   "cell_type": "code",
   "execution_count": 16,
   "metadata": {},
   "outputs": [
    {
     "data": {
      "text/plain": [
       "pandas.core.frame.DataFrame"
      ]
     },
     "execution_count": 16,
     "metadata": {},
     "output_type": "execute_result"
    }
   ],
   "source": [
    "type(df)"
   ]
  },
  {
   "cell_type": "code",
   "execution_count": 17,
   "metadata": {},
   "outputs": [
    {
     "data": {
      "text/plain": [
       "array([[<matplotlib.axes._subplots.AxesSubplot object at 0x000001F596FAA550>]],\n",
       "      dtype=object)"
      ]
     },
     "execution_count": 17,
     "metadata": {},
     "output_type": "execute_result"
    },
    {
     "data": {
      "image/png": "[encoded data removed]",
      "text/plain": [
       "<Figure size 432x288 with 1 Axes>"
      ]
     },
     "metadata": {},
     "output_type": "display_data"
    }
   ],
   "source": [
    "df.hist(bins=5)"
   ]
  },
  {
   "cell_type": "markdown",
   "metadata": {},
   "source": [
    "For more detailed example: https://pandas.pydata.org/pandas-docs/version/0.23/generated/pandas.DataFrame.hist.html "
   ]
  },
  {
   "cell_type": "code",
   "execution_count": null,
   "metadata": {
    "collapsed": true
   },
   "outputs": [],
   "source": []
  },
  {
   "cell_type": "markdown",
   "metadata": {},
   "source": [
    "## Using Seaborn with Cars Data"
   ]
  },
  {
   "cell_type": "code",
   "execution_count": 24,
   "metadata": {
    "collapsed": true
   },
   "outputs": [],
   "source": [
    "import numpy as np\n",
    "import pandas as pd\n",
    "import seaborn as sns\n",
    "import matplotlib.pyplot as plt\n",
    "from scipy import stats"
   ]
  },
  {
   "cell_type": "code",
   "execution_count": 25,
   "metadata": {},
   "outputs": [
    {
     "data": {
      "text/plain": [
       "<matplotlib.axes._subplots.AxesSubplot at 0x1f59ed3ae10>"
      ]
     },
     "execution_count": 25,
     "metadata": {},
     "output_type": "execute_result"
    },
    {
     "data": {
      "image/png": "[encoded data removed]",
      "text/plain": [
       "<Figure size 432x288 with 1 Axes>"
      ]
     },
     "metadata": {},
     "output_type": "display_data"
    }
   ],
   "source": [
    "sns.distplot(cars.MPG, bins=5, kde=False, rug=False)"
   ]
  },
  {
   "cell_type": "code",
   "execution_count": null,
   "metadata": {
    "collapsed": true
   },
   "outputs": [],
   "source": []
  },
  {
   "cell_type": "markdown",
   "metadata": {},
   "source": [
    "# Note: when you import seaborn, you may have this domain error\n",
    "## Solve: Connect to your domain (Company network)\n",
    "\n",
    "```python\n",
    "\n",
    "---------------------------------------------------------------------------\n",
    "ImportError                               Traceback (most recent call last)\n",
    "<ipython-input-18-d2b6b3b1ec58> in <module>()\n",
    "      1 import numpy as np\n",
    "      2 import pandas as pd\n",
    "----> 3 import seaborn as sns\n",
    "      4 import matplotlib.pyplot as plt\n",
    "      5 from scipy import stats\n",
    "\n",
    "C:\\ProgramData\\Anaconda2\\envs\\ipykernel_py3\\lib\\site-packages\\seaborn\\__init__.py in <module>()\n",
    "      4 \n",
    "      5 # Import seaborn objects\n",
    "----> 6 from .rcmod import *\n",
    "      7 from .utils import *\n",
    "      8 from .palettes import *\n",
    "\n",
    "C:\\ProgramData\\Anaconda2\\envs\\ipykernel_py3\\lib\\site-packages\\seaborn\\rcmod.py in <module>()\n",
    "      3 import functools\n",
    "      4 import matplotlib as mpl\n",
    "----> 5 from . import palettes, _orig_rc_params\n",
    "      6 \n",
    "      7 \n",
    "\n",
    "C:\\ProgramData\\Anaconda2\\envs\\ipykernel_py3\\lib\\site-packages\\seaborn\\palettes.py in <module>()\n",
    "     10 from .external.six.moves import range\n",
    "     11 \n",
    "---> 12 from .utils import desaturate, set_hls_values, get_color_cycle\n",
    "     13 from .colors import xkcd_rgb, crayons\n",
    "     14 \n",
    "\n",
    "C:\\ProgramData\\Anaconda2\\envs\\ipykernel_py3\\lib\\site-packages\\seaborn\\utils.py in <module>()\n",
    "      5 \n",
    "      6 import numpy as np\n",
    "----> 7 from scipy import stats\n",
    "      8 import pandas as pd\n",
    "      9 import matplotlib as mpl\n",
    "\n",
    "C:\\ProgramData\\Anaconda2\\envs\\ipykernel_py3\\lib\\site-packages\\scipy\\stats\\__init__.py in <module>()\n",
    "    343 from __future__ import division, print_function, absolute_import\n",
    "    344 \n",
    "--> 345 from .stats import *\n",
    "    346 from .distributions import *\n",
    "    347 from .morestats import *\n",
    "\n",
    "C:\\ProgramData\\Anaconda2\\envs\\ipykernel_py3\\lib\\site-packages\\scipy\\stats\\stats.py in <module>()\n",
    "    167 from scipy._lib.six import callable, string_types\n",
    "    168 from scipy._lib._version import NumpyVersion\n",
    "--> 169 import scipy.special as special\n",
    "    170 import scipy.linalg as linalg\n",
    "    171 from . import distributions\n",
    "\n",
    "C:\\ProgramData\\Anaconda2\\envs\\ipykernel_py3\\lib\\site-packages\\scipy\\special\\__init__.py in <module>()\n",
    "    638 from .sf_error import SpecialFunctionWarning, SpecialFunctionError\n",
    "    639 \n",
    "--> 640 from ._ufuncs import *\n",
    "    641 \n",
    "    642 from .basic import *\n",
    "\n",
    "ImportError: DLL load failed: The system cannot contact a domain controller to service the authentication request. Please try again later.\n",
    "\n",
    "```"
   ]
  },
  {
   "cell_type": "code",
   "execution_count": null,
   "metadata": {
    "collapsed": true
   },
   "outputs": [],
   "source": []
  },
  {
   "cell_type": "code",
   "execution_count": null,
   "metadata": {
    "collapsed": true
   },
   "outputs": [],
   "source": []
  }
 ],
 "metadata": {
  "kernelspec": {
   "display_name": "Python 3 (ipykernel)",
   "language": "python",
   "name": "python3"
  },
  "language_info": {
   "codemirror_mode": {
    "name": "ipython",
    "version": 3
   },
   "file_extension": ".py",
   "mimetype": "text/x-python",
   "name": "python",
   "nbconvert_exporter": "python",
   "pygments_lexer": "ipython3",
   "version": "3.9.12"
  }
 },
 "nbformat": 4,
 "nbformat_minor": 2
}
