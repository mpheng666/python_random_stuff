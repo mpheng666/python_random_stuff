{
 "cells": [
  {
   "cell_type": "markdown",
   "metadata": {},
   "source": [
    "<center>\n",
    "  <a href=\"2.15-Example%20Regression.ipynb\">Previous Page</a> | <a href=\"./\">Content Page</a> | <a href=\"./\" onclick=\"close_window();return false;\">End of the Day</a>\n",
    "  \n",
    "</center>"
   ]
  },
  {
   "cell_type": "markdown",
   "metadata": {},
   "source": [
    "# 2.17-Mini-Project Regression"
   ]
  },
  {
   "cell_type": "markdown",
   "metadata": {},
   "source": [
    "1. Fill out Blanks   \n",
    "   - Observe the mtcar Example\n",
    "   - Fill out the blank (underline) with appropriate statements\n",
    "   - Run to see whether the statement is correct\n",
    "<br>   \n",
    "2. Identify the 5 step of using scikit-learn API\n",
    "<br>\n",
    "3. Sort the statements according to the 5 steps of using the API\n",
    "<br>\n",
    "4. Add Comments/Markup\n",
    "     - to add a line below, press 'b'\n",
    "     - to add a line above, press 'a'\n",
    "     - to change to markup, press 'm'\n",
    "     <br>\n",
    "\n",
    "\n",
    "Note: the target variable is 'resale_price\" and the feature is 'floor_area_sqm'"
   ]
  },
  {
   "cell_type": "code",
   "execution_count": 2,
   "metadata": {
    "collapsed": true
   },
   "outputs": [],
   "source": [
    "import pandas as pd \n",
    "import numpy as np"
   ]
  },
  {
   "cell_type": "code",
   "execution_count": null,
   "metadata": {
    "collapsed": true
   },
   "outputs": [],
   "source": [
    "# import LinearRegression from linear_model in sklearn\n",
    "from sklearn.linear_model import _______________\n"
   ]
  },
  {
   "cell_type": "code",
   "execution_count": null,
   "metadata": {
    "collapsed": true
   },
   "outputs": [],
   "source": [
    "# import train_test_split from model_selection\n",
    "from sklearn.model_selection import ___________"
   ]
  },
  {
   "cell_type": "markdown",
   "metadata": {},
   "source": [
    "# 2.3.1 First look at the data "
   ]
  },
  {
   "cell_type": "code",
   "execution_count": 3,
   "metadata": {
    "collapsed": true
   },
   "outputs": [],
   "source": [
    "# load data \n",
    "df = pd.read_csv(\"resale-sample-regression.csv\", index_col=0)\n",
    "#df = pd.read_csv(\"ideal.csv\", index_col=0)\n",
    "#df = pd.read_csv(\"resale-sample-regression.csv\", index_col=0)\n"
   ]
  },
  {
   "cell_type": "code",
   "execution_count": 3,
   "metadata": {},
   "outputs": [
    {
     "data": {
      "text/html": [
       "<div>\n",
       "<style scoped>\n",
       "    .dataframe tbody tr th:only-of-type {\n",
       "        vertical-align: middle;\n",
       "    }\n",
       "\n",
       "    .dataframe tbody tr th {\n",
       "        vertical-align: top;\n",
       "    }\n",
       "\n",
       "    .dataframe thead th {\n",
       "        text-align: right;\n",
       "    }\n",
       "</style>\n",
       "<table border=\"1\" class=\"dataframe\">\n",
       "  <thead>\n",
       "    <tr style=\"text-align: right;\">\n",
       "      <th></th>\n",
       "      <th>month</th>\n",
       "      <th>town</th>\n",
       "      <th>flat_type</th>\n",
       "      <th>block</th>\n",
       "      <th>street_name</th>\n",
       "      <th>storey_range</th>\n",
       "      <th>floor_area_sqm</th>\n",
       "      <th>flat_model</th>\n",
       "      <th>lease_commence_date</th>\n",
       "      <th>resale_price</th>\n",
       "      <th>Region</th>\n",
       "    </tr>\n",
       "  </thead>\n",
       "  <tbody>\n",
       "    <tr>\n",
       "      <th>44031</th>\n",
       "      <td>2014-07</td>\n",
       "      <td>BUKIT BATOK</td>\n",
       "      <td>3 ROOM</td>\n",
       "      <td>305</td>\n",
       "      <td>BT BATOK ST 31</td>\n",
       "      <td>10 TO 12</td>\n",
       "      <td>68.0</td>\n",
       "      <td>New Generation</td>\n",
       "      <td>1985</td>\n",
       "      <td>325000.0</td>\n",
       "      <td>West</td>\n",
       "    </tr>\n",
       "    <tr>\n",
       "      <th>42637</th>\n",
       "      <td>2014-06</td>\n",
       "      <td>ANG MO KIO</td>\n",
       "      <td>3 ROOM</td>\n",
       "      <td>564</td>\n",
       "      <td>ANG MO KIO AVE 3</td>\n",
       "      <td>04 TO 06</td>\n",
       "      <td>82.0</td>\n",
       "      <td>New Generation</td>\n",
       "      <td>1985</td>\n",
       "      <td>355000.0</td>\n",
       "      <td>North East</td>\n",
       "    </tr>\n",
       "    <tr>\n",
       "      <th>58889</th>\n",
       "      <td>2015-05</td>\n",
       "      <td>ANG MO KIO</td>\n",
       "      <td>4 ROOM</td>\n",
       "      <td>438</td>\n",
       "      <td>ANG MO KIO AVE 10</td>\n",
       "      <td>07 TO 09</td>\n",
       "      <td>92.0</td>\n",
       "      <td>New Generation</td>\n",
       "      <td>1979</td>\n",
       "      <td>465000.0</td>\n",
       "      <td>North East</td>\n",
       "    </tr>\n",
       "    <tr>\n",
       "      <th>45238</th>\n",
       "      <td>2014-08</td>\n",
       "      <td>ANG MO KIO</td>\n",
       "      <td>4 ROOM</td>\n",
       "      <td>131</td>\n",
       "      <td>ANG MO KIO AVE 3</td>\n",
       "      <td>04 TO 06</td>\n",
       "      <td>98.0</td>\n",
       "      <td>New Generation</td>\n",
       "      <td>1979</td>\n",
       "      <td>457000.0</td>\n",
       "      <td>North East</td>\n",
       "    </tr>\n",
       "    <tr>\n",
       "      <th>86675</th>\n",
       "      <td>2016-10</td>\n",
       "      <td>HOUGANG</td>\n",
       "      <td>5 ROOM</td>\n",
       "      <td>952</td>\n",
       "      <td>HOUGANG AVE 9</td>\n",
       "      <td>07 TO 09</td>\n",
       "      <td>120.0</td>\n",
       "      <td>Improved</td>\n",
       "      <td>1999</td>\n",
       "      <td>470000.0</td>\n",
       "      <td>North East</td>\n",
       "    </tr>\n",
       "    <tr>\n",
       "      <th>58121</th>\n",
       "      <td>2015-04</td>\n",
       "      <td>MARINE PARADE</td>\n",
       "      <td>4 ROOM</td>\n",
       "      <td>34</td>\n",
       "      <td>MARINE CRES</td>\n",
       "      <td>01 TO 03</td>\n",
       "      <td>82.0</td>\n",
       "      <td>Improved</td>\n",
       "      <td>1975</td>\n",
       "      <td>460000.0</td>\n",
       "      <td>East</td>\n",
       "    </tr>\n",
       "    <tr>\n",
       "      <th>12958</th>\n",
       "      <td>2012-08</td>\n",
       "      <td>YISHUN</td>\n",
       "      <td>3 ROOM</td>\n",
       "      <td>157</td>\n",
       "      <td>YISHUN ST 11</td>\n",
       "      <td>01 TO 03</td>\n",
       "      <td>67.0</td>\n",
       "      <td>New Generation</td>\n",
       "      <td>1985</td>\n",
       "      <td>315000.0</td>\n",
       "      <td>North</td>\n",
       "    </tr>\n",
       "    <tr>\n",
       "      <th>47901</th>\n",
       "      <td>2014-09</td>\n",
       "      <td>YISHUN</td>\n",
       "      <td>3 ROOM</td>\n",
       "      <td>108</td>\n",
       "      <td>YISHUN RING RD</td>\n",
       "      <td>07 TO 09</td>\n",
       "      <td>68.0</td>\n",
       "      <td>Improved</td>\n",
       "      <td>1985</td>\n",
       "      <td>308000.0</td>\n",
       "      <td>North</td>\n",
       "    </tr>\n",
       "    <tr>\n",
       "      <th>27799</th>\n",
       "      <td>2013-06</td>\n",
       "      <td>KALLANG/WHAMPOA</td>\n",
       "      <td>3 ROOM</td>\n",
       "      <td>28</td>\n",
       "      <td>JLN BAHAGIA</td>\n",
       "      <td>07 TO 09</td>\n",
       "      <td>56.0</td>\n",
       "      <td>Standard</td>\n",
       "      <td>1971</td>\n",
       "      <td>305000.0</td>\n",
       "      <td>Central</td>\n",
       "    </tr>\n",
       "    <tr>\n",
       "      <th>2044</th>\n",
       "      <td>2012-03</td>\n",
       "      <td>WOODLANDS</td>\n",
       "      <td>4 ROOM</td>\n",
       "      <td>155</td>\n",
       "      <td>WOODLANDS ST 13</td>\n",
       "      <td>11 TO 15</td>\n",
       "      <td>103.0</td>\n",
       "      <td>Model A</td>\n",
       "      <td>1985</td>\n",
       "      <td>390000.0</td>\n",
       "      <td>North</td>\n",
       "    </tr>\n",
       "  </tbody>\n",
       "</table>\n",
       "</div>"
      ],
      "text/plain": [
       "         month             town flat_type block        street_name  \\\n",
       "44031  2014-07      BUKIT BATOK    3 ROOM   305     BT BATOK ST 31   \n",
       "42637  2014-06       ANG MO KIO    3 ROOM   564   ANG MO KIO AVE 3   \n",
       "58889  2015-05       ANG MO KIO    4 ROOM   438  ANG MO KIO AVE 10   \n",
       "45238  2014-08       ANG MO KIO    4 ROOM   131   ANG MO KIO AVE 3   \n",
       "86675  2016-10          HOUGANG    5 ROOM   952      HOUGANG AVE 9   \n",
       "58121  2015-04    MARINE PARADE    4 ROOM    34        MARINE CRES   \n",
       "12958  2012-08           YISHUN    3 ROOM   157       YISHUN ST 11   \n",
       "47901  2014-09           YISHUN    3 ROOM   108     YISHUN RING RD   \n",
       "27799  2013-06  KALLANG/WHAMPOA    3 ROOM    28        JLN BAHAGIA   \n",
       "2044   2012-03        WOODLANDS    4 ROOM   155    WOODLANDS ST 13   \n",
       "\n",
       "      storey_range  floor_area_sqm      flat_model  lease_commence_date  \\\n",
       "44031     10 TO 12            68.0  New Generation                 1985   \n",
       "42637     04 TO 06            82.0  New Generation                 1985   \n",
       "58889     07 TO 09            92.0  New Generation                 1979   \n",
       "45238     04 TO 06            98.0  New Generation                 1979   \n",
       "86675     07 TO 09           120.0        Improved                 1999   \n",
       "58121     01 TO 03            82.0        Improved                 1975   \n",
       "12958     01 TO 03            67.0  New Generation                 1985   \n",
       "47901     07 TO 09            68.0        Improved                 1985   \n",
       "27799     07 TO 09            56.0        Standard                 1971   \n",
       "2044      11 TO 15           103.0         Model A                 1985   \n",
       "\n",
       "       resale_price      Region  \n",
       "44031      325000.0        West  \n",
       "42637      355000.0  North East  \n",
       "58889      465000.0  North East  \n",
       "45238      457000.0  North East  \n",
       "86675      470000.0  North East  \n",
       "58121      460000.0        East  \n",
       "12958      315000.0       North  \n",
       "47901      308000.0       North  \n",
       "27799      305000.0     Central  \n",
       "2044       390000.0       North  "
      ]
     },
     "execution_count": 3,
     "metadata": {},
     "output_type": "execute_result"
    }
   ],
   "source": [
    "# sampling 10 records (sample)\n",
    "df.______(10)"
   ]
  },
  {
   "cell_type": "code",
   "execution_count": 4,
   "metadata": {},
   "outputs": [
    {
     "data": {
      "text/plain": [
       "(2000, 11)"
      ]
     },
     "execution_count": 4,
     "metadata": {},
     "output_type": "execute_result"
    }
   ],
   "source": [
    "# how many rows and columns?  \n",
    "df.shape"
   ]
  },
  {
   "cell_type": "code",
   "execution_count": 5,
   "metadata": {
    "scrolled": true
   },
   "outputs": [
    {
     "data": {
      "text/plain": [
       "array(['ANG MO KIO', 'BEDOK', 'BISHAN', 'BUKIT BATOK', 'BUKIT MERAH',\n",
       "       'BUKIT PANJANG', 'BUKIT TIMAH', 'CENTRAL AREA', 'CHOA CHU KANG',\n",
       "       'CLEMENTI', 'GEYLANG', 'HOUGANG', 'JURONG EAST', 'JURONG WEST',\n",
       "       'KALLANG/WHAMPOA', 'MARINE PARADE', 'PASIR RIS', 'PUNGGOL',\n",
       "       'QUEENSTOWN', 'SEMBAWANG', 'SENGKANG', 'SERANGOON', 'TAMPINES',\n",
       "       'TOA PAYOH', 'WOODLANDS', 'YISHUN'], dtype=object)"
      ]
     },
     "execution_count": 5,
     "metadata": {},
     "output_type": "execute_result"
    }
   ],
   "source": [
    "# look for unique values \n",
    "df[\"town\"].unique()"
   ]
  },
  {
   "cell_type": "code",
   "execution_count": 6,
   "metadata": {
    "scrolled": true
   },
   "outputs": [
    {
     "data": {
      "text/plain": [
       "array(['2016-11', '2016-10', '2015-01', '2014-09', '2015-12', '2012-08',\n",
       "       '2016-06', '2012-03', '2013-08', '2013-07', '2012-12', '2013-01',\n",
       "       '2014-06', '2012-09', '2015-07', '2016-04', '2017-06', '2016-09',\n",
       "       '2014-08', '2016-07', '2015-06', '2016-02', '2014-03', '2014-12',\n",
       "       '2017-04', '2016-12', '2015-05', '2017-05', '2012-04', '2017-01',\n",
       "       '2017-02', '2013-05', '2015-11', '2015-08', '2017-03', '2014-02',\n",
       "       '2013-12', '2012-07', '2016-08', '2013-04', '2015-10', '2014-05',\n",
       "       '2014-01', '2014-11', '2013-02', '2014-10', '2015-03', '2015-02',\n",
       "       '2015-04', '2016-01', '2014-04', '2015-09', '2012-06', '2013-10',\n",
       "       '2013-11', '2013-03', '2012-11', '2012-10', '2013-06', '2012-05',\n",
       "       '2016-03', '2014-07', '2013-09', '2016-05'], dtype=object)"
      ]
     },
     "execution_count": 6,
     "metadata": {},
     "output_type": "execute_result"
    }
   ],
   "source": [
    "df[\"month\"].unique()"
   ]
  },
  {
   "cell_type": "code",
   "execution_count": 7,
   "metadata": {},
   "outputs": [
    {
     "data": {
      "text/plain": [
       "26"
      ]
     },
     "execution_count": 7,
     "metadata": {},
     "output_type": "execute_result"
    }
   ],
   "source": [
    "df[\"town\"].nunique()"
   ]
  },
  {
   "cell_type": "code",
   "execution_count": 8,
   "metadata": {},
   "outputs": [
    {
     "data": {
      "text/plain": [
       "87705    590000.0\n",
       "86039    490000.0\n",
       "52213    290000.0\n",
       "46561    425000.0\n",
       "69890    760000.0\n",
       "Name: resale_price, dtype: float64"
      ]
     },
     "execution_count": 8,
     "metadata": {},
     "output_type": "execute_result"
    }
   ],
   "source": [
    "# look at data type and change resale_price to number, if it is not\n",
    "\n",
    "df[[\"resale_price\"]] = df[[\"resale_price\"]].apply(pd.to_numeric, errors = \"coerce\")\n",
    "df[\"resale_price\"].head()"
   ]
  },
  {
   "cell_type": "markdown",
   "metadata": {},
   "source": [
    "#### Checking any missing values"
   ]
  },
  {
   "cell_type": "code",
   "execution_count": 9,
   "metadata": {
    "scrolled": false
   },
   "outputs": [
    {
     "data": {
      "text/plain": [
       "month                  False\n",
       "town                   False\n",
       "flat_type              False\n",
       "block                  False\n",
       "street_name            False\n",
       "storey_range           False\n",
       "floor_area_sqm         False\n",
       "flat_model             False\n",
       "lease_commence_date    False\n",
       "resale_price           False\n",
       "Region                 False\n",
       "dtype: bool"
      ]
     },
     "execution_count": 9,
     "metadata": {},
     "output_type": "execute_result"
    }
   ],
   "source": [
    "df.isnull().any()"
   ]
  },
  {
   "cell_type": "markdown",
   "metadata": {},
   "source": [
    "#### Separate Target Variable/ Outcome / Dependent Variable"
   ]
  },
  {
   "cell_type": "code",
   "execution_count": null,
   "metadata": {
    "collapsed": true
   },
   "outputs": [],
   "source": [
    "# assign resale_price as target varible y (df.resale_price or df['resale_price'])\n",
    "\n",
    "\n",
    "y=df._______\n",
    "#df.resale_price=3612* df['floor_area_sqm']\n",
    "#df.to_csv(\"ideal.csv\", index = True)"
   ]
  },
  {
   "cell_type": "code",
   "execution_count": null,
   "metadata": {
    "collapsed": true
   },
   "outputs": [],
   "source": [
    "# drop the columns name resale_price from the dataframe (if we need to use all other variables)\n",
    "df.drop(labels=['resale_price'], axis=1, inplace=True)"
   ]
  },
  {
   "cell_type": "code",
   "execution_count": 32,
   "metadata": {
    "collapsed": true
   },
   "outputs": [],
   "source": [
    "#y take only one column [Series] i.e., Vector, X should take dataframe so df[['floor_area_sqm]]\n",
    "X=df[['floor_area_sqm']]"
   ]
  },
  {
   "cell_type": "markdown",
   "metadata": {},
   "source": [
    "#### Split data into train and test"
   ]
  },
  {
   "cell_type": "code",
   "execution_count": 15,
   "metadata": {
    "collapsed": true
   },
   "outputs": [],
   "source": [
    "# train_test_split function will return four values... assigned them \n",
    "# to X_train, X_test, y_train, y_test\n",
    "__________ = train_test_split(X, y, test_size=.3, random_state=7)"
   ]
  },
  {
   "cell_type": "markdown",
   "metadata": {},
   "source": [
    "#### Create an instance named it as model"
   ]
  },
  {
   "cell_type": "code",
   "execution_count": 16,
   "metadata": {
    "collapsed": true
   },
   "outputs": [],
   "source": [
    "#initialise LinearRegression()\n",
    "model=___________________\n",
    "#normalize = false"
   ]
  },
  {
   "cell_type": "code",
   "execution_count": null,
   "metadata": {
    "collapsed": true
   },
   "outputs": [],
   "source": []
  },
  {
   "cell_type": "code",
   "execution_count": 17,
   "metadata": {},
   "outputs": [
    {
     "data": {
      "text/plain": [
       "(1400,)"
      ]
     },
     "execution_count": 17,
     "metadata": {},
     "output_type": "execute_result"
    }
   ],
   "source": [
    "#check the records in train dataset (2000*0.7=1400)\n",
    "y_train.shape"
   ]
  },
  {
   "cell_type": "markdown",
   "metadata": {},
   "source": [
    "#### Train the model"
   ]
  },
  {
   "cell_type": "code",
   "execution_count": 18,
   "metadata": {},
   "outputs": [
    {
     "data": {
      "text/plain": [
       "LinearRegression(copy_X=True, fit_intercept=True, n_jobs=1, normalize=False)"
      ]
     },
     "execution_count": 18,
     "metadata": {},
     "output_type": "execute_result"
    }
   ],
   "source": [
    "# we train the data using fit model.fit(X_train, y_train\n",
    "model.____(X_train, y_train)"
   ]
  },
  {
   "cell_type": "markdown",
   "metadata": {},
   "source": [
    "#### Performance Metric (Explained Variance)"
   ]
  },
  {
   "cell_type": "code",
   "execution_count": 19,
   "metadata": {},
   "outputs": [
    {
     "data": {
      "text/plain": [
       "0.4699869146725788"
      ]
     },
     "execution_count": 19,
     "metadata": {},
     "output_type": "execute_result"
    }
   ],
   "source": [
    "#for the train dataset\n",
    "model.score(X_train,y_train)"
   ]
  },
  {
   "cell_type": "code",
   "execution_count": 20,
   "metadata": {},
   "outputs": [
    {
     "data": {
      "text/plain": [
       "0.44102858941216783"
      ]
     },
     "execution_count": 20,
     "metadata": {},
     "output_type": "execute_result"
    }
   ],
   "source": [
    "#for the test dataset\n",
    "model.______(X_test,y_test)"
   ]
  },
  {
   "cell_type": "code",
   "execution_count": 21,
   "metadata": {
    "collapsed": true
   },
   "outputs": [],
   "source": [
    "predict_train=model.predict(X_train)"
   ]
  },
  {
   "cell_type": "code",
   "execution_count": 22,
   "metadata": {
    "collapsed": true
   },
   "outputs": [],
   "source": [
    "predict_test=model.predict(X_test)"
   ]
  },
  {
   "cell_type": "markdown",
   "metadata": {},
   "source": [
    "#### Performance Metric (RMSE)"
   ]
  },
  {
   "cell_type": "markdown",
   "metadata": {},
   "source": [
    "###### Get the mean_squared_error from y_train, predict_train.. \n",
    "Use np to sqrt it (Root Mean Squared Error)"
   ]
  },
  {
   "cell_type": "code",
   "execution_count": 23,
   "metadata": {},
   "outputs": [
    {
     "data": {
      "text/plain": [
       "93479.151163216782"
      ]
     },
     "execution_count": 23,
     "metadata": {},
     "output_type": "execute_result"
    }
   ],
   "source": [
    "import numpy as np\n",
    "from sklearn.metrics import mean_squared_error\n",
    "np.sqrt(_______(y_train, predict_train))"
   ]
  },
  {
   "cell_type": "markdown",
   "metadata": {},
   "source": [
    "###### Checking the RMSE i.e., the difference between y test and predict_test"
   ]
  },
  {
   "cell_type": "code",
   "execution_count": null,
   "metadata": {
    "collapsed": true
   },
   "outputs": [],
   "source": [
    "np.sqrt(mean_squared_error(______, predict_test))"
   ]
  },
  {
   "cell_type": "code",
   "execution_count": 25,
   "metadata": {},
   "outputs": [
    {
     "data": {
      "text/plain": [
       "<matplotlib.axes._subplots.AxesSubplot at 0x234acc1d3c8>"
      ]
     },
     "execution_count": 25,
     "metadata": {},
     "output_type": "execute_result"
    },
    {
     "data": {
      "image/png": "[encoded data removed]",
      "text/plain": [
       "<matplotlib.figure.Figure at 0x234acc1d780>"
      ]
     },
     "metadata": {
      "image/png": {
       "height": 372,
       "width": 418
      }
     },
     "output_type": "display_data"
    }
   ],
   "source": [
    "import pandas as pd\n",
    "import numpy as np\n",
    "import seaborn as sns\n",
    "import matplotlib\n",
    "\n",
    "import matplotlib.pyplot as plt\n",
    "from scipy.stats import skew\n",
    "from scipy.stats.stats import pearsonr\n",
    "\n",
    "\n",
    "%config InlineBackend.figure_format = 'retina' #set 'png' here when working on notebook\n",
    "%matplotlib inline\n",
    "\n",
    "\n",
    "matplotlib.rcParams['figure.figsize'] = (6.0, 6.0)\n",
    "\n",
    "preds = pd.DataFrame({\"preds\":predict_train, \"true\":y_train})\n",
    "preds[\"residuals\"] = preds[\"true\"] - preds[\"preds\"]\n",
    "preds.plot(x = \"preds\", y = \"residuals\",kind = \"scatter\")"
   ]
  },
  {
   "cell_type": "markdown",
   "metadata": {},
   "source": [
    "###### Create Another Graph that show the  residuals  between test data"
   ]
  },
  {
   "cell_type": "code",
   "execution_count": null,
   "metadata": {
    "collapsed": true
   },
   "outputs": [],
   "source": [
    "import pandas as pd\n",
    "import numpy as np\n",
    "import seaborn as sns\n",
    "import matplotlib\n",
    "\n",
    "import matplotlib.pyplot as plt\n",
    "from scipy.stats import skew\n",
    "from scipy.stats.stats import pearsonr\n",
    "\n",
    "\n",
    "%config InlineBackend.figure_format = 'retina' #set 'png' here when working on notebook\n",
    "%matplotlib inline\n",
    "\n",
    "\n",
    "matplotlib.rcParams['figure.figsize'] = (6.0, 6.0)\n",
    "\n",
    "preds = pd.DataFrame({\"preds\":_________, \"true\":______})\n",
    "preds[\"residuals\"] = preds[\"true\"] - preds[\"preds\"]\n",
    "preds.plot(x = \"preds\", y = \"residuals\",kind = \"scatter\")"
   ]
  },
  {
   "cell_type": "code",
   "execution_count": null,
   "metadata": {
    "collapsed": true
   },
   "outputs": [],
   "source": []
  },
  {
   "cell_type": "code",
   "execution_count": 26,
   "metadata": {},
   "outputs": [
    {
     "data": {
      "text/plain": [
       "array([ 3579.20154414])"
      ]
     },
     "execution_count": 26,
     "metadata": {},
     "output_type": "execute_result"
    }
   ],
   "source": [
    "model.coef_\n"
   ]
  },
  {
   "cell_type": "code",
   "execution_count": 27,
   "metadata": {},
   "outputs": [
    {
     "data": {
      "text/plain": [
       "105800.6339640455"
      ]
     },
     "execution_count": 27,
     "metadata": {},
     "output_type": "execute_result"
    }
   ],
   "source": [
    "model.intercept_"
   ]
  },
  {
   "cell_type": "markdown",
   "metadata": {},
   "source": [
    "#### We have the model y= 105800.63 + 3579.20(sqm)"
   ]
  },
  {
   "cell_type": "code",
   "execution_count": 28,
   "metadata": {},
   "outputs": [
    {
     "name": "stderr",
     "output_type": "stream",
     "text": [
      "C:\\ProgramData\\Anaconda2\\envs\\ipykernel_py3\\lib\\site-packages\\statsmodels\\compat\\pandas.py:56: FutureWarning: The pandas.core.datetools module is deprecated and will be removed in a future version. Please use the pandas.tseries module instead.\n",
      "  from pandas.core import datetools\n"
     ]
    }
   ],
   "source": [
    "import statsmodels.api as sm\n",
    "from scipy import stats"
   ]
  },
  {
   "cell_type": "code",
   "execution_count": 29,
   "metadata": {
    "collapsed": true
   },
   "outputs": [],
   "source": [
    "df_new = sm.add_constant(X_train)"
   ]
  },
  {
   "cell_type": "code",
   "execution_count": 30,
   "metadata": {
    "scrolled": true
   },
   "outputs": [
    {
     "name": "stdout",
     "output_type": "stream",
     "text": [
      "                            OLS Regression Results                            \n",
      "==============================================================================\n",
      "Dep. Variable:           resale_price   R-squared:                       0.470\n",
      "Model:                            OLS   Adj. R-squared:                  0.470\n",
      "Method:                 Least Squares   F-statistic:                     1240.\n",
      "Date:                Tue, 10 Jul 2018   Prob (F-statistic):          5.88e-195\n",
      "Time:                        09:32:36   Log-Likelihood:                -18010.\n",
      "No. Observations:                1400   AIC:                         3.602e+04\n",
      "Df Residuals:                    1398   BIC:                         3.603e+04\n",
      "Df Model:                           1                                         \n",
      "Covariance Type:            nonrobust                                         \n",
      "==================================================================================\n",
      "                     coef    std err          t      P>|t|      [0.025      0.975]\n",
      "----------------------------------------------------------------------------------\n",
      "const           1.058e+05   1.02e+04     10.338      0.000    8.57e+04    1.26e+05\n",
      "floor_area_sqm  3579.2015    101.656     35.209      0.000    3379.787    3778.616\n",
      "==============================================================================\n",
      "Omnibus:                      476.199   Durbin-Watson:                   1.980\n",
      "Prob(Omnibus):                  0.000   Jarque-Bera (JB):             1676.049\n",
      "Skew:                           1.657   Prob(JB):                         0.00\n",
      "Kurtosis:                       7.213   Cond. No.                         412.\n",
      "==============================================================================\n",
      "\n",
      "Warnings:\n",
      "[1] Standard Errors assume that the covariance matrix of the errors is correctly specified.\n"
     ]
    }
   ],
   "source": [
    "est = sm.OLS(y_train, df_new)\n",
    "est2 = est.fit()\n",
    "print(est2.summary())"
   ]
  },
  {
   "cell_type": "markdown",
   "metadata": {
    "collapsed": true
   },
   "source": []
  },
  {
   "cell_type": "markdown",
   "metadata": {
    "collapsed": true
   },
   "source": [
    "<center>\n",
    "  <a href=\"2.18-Further-Resources.ipynb\">Further Resources</a>"
   ]
  },
  {
   "cell_type": "code",
   "execution_count": null,
   "metadata": {
    "collapsed": true
   },
   "outputs": [],
   "source": []
  }
 ],
 "metadata": {
  "kernelspec": {
   "display_name": "Python 3 (ipykernel)",
   "language": "python",
   "name": "python3"
  },
  "language_info": {
   "codemirror_mode": {
    "name": "ipython",
    "version": 3
   },
   "file_extension": ".py",
   "mimetype": "text/x-python",
   "name": "python",
   "nbconvert_exporter": "python",
   "pygments_lexer": "ipython3",
   "version": "3.9.12"
  }
 },
 "nbformat": 4,
 "nbformat_minor": 2
}
