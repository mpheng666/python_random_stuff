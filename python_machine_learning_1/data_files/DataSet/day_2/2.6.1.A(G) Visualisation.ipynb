{
 "cells": [
  {
   "cell_type": "markdown",
   "metadata": {},
   "source": [
    "# 2.6.1.A(G) Visualisation"
   ]
  },
  {
   "cell_type": "markdown",
   "metadata": {},
   "source": [
    "<a href=\"./2.7-Histograms.ipynb\">2.7 Histogram</a><br>\n",
    "<a href=\"./2.8-Bar-Chart.ipynb\">2.8 Bar Chart</a><br>\n",
    "<a href=\"./2.9-Line-Chart.ipynb\">2.9 Line Chart</a><br>\n",
    "<a href=\"./2.10-Boxplot.ipynb\">2.10 Boxplot</a><br>\n",
    "<a href=\"./2.11-Pie-Chart.ipynb\">2.11 Pie Chart</a><br>\n",
    "<a href=\"./2.12-Scatterplot.ipynb\">2.12 Scatterplot</a><br>\n",
    "\n",
    "\n",
    "\n",
    "\n",
    "\n"
   ]
  },
  {
   "cell_type": "markdown",
   "metadata": {
    "collapsed": true
   },
   "source": [
    "<center>\n",
    "  <a href=\"2.5-viz-examples.ipynb\">Previous Page</a> | <a href=\"./\">Content Page</a> | <a href=\"2.6.2.A(G)%20Mini%20Project%20%26%20Collaboration.ipynb\">Next Page</a></center>\n"
   ]
  },
  {
   "cell_type": "code",
   "execution_count": null,
   "metadata": {
    "collapsed": true
   },
   "outputs": [],
   "source": []
  }
 ],
 "metadata": {
  "kernelspec": {
   "display_name": "Python 3 (ipykernel)",
   "language": "python",
   "name": "python3"
  },
  "language_info": {
   "codemirror_mode": {
    "name": "ipython",
    "version": 3
   },
   "file_extension": ".py",
   "mimetype": "text/x-python",
   "name": "python",
   "nbconvert_exporter": "python",
   "pygments_lexer": "ipython3",
   "version": "3.9.12"
  }
 },
 "nbformat": 4,
 "nbformat_minor": 2
}
