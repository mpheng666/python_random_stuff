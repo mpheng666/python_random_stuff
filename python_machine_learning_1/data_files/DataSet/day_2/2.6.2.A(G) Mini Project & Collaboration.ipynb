{
 "cells": [
  {
   "cell_type": "markdown",
   "metadata": {},
   "source": [
    "# 2.6.2.A(G) Visualisation Mini Project"
   ]
  },
  {
   "cell_type": "markdown",
   "metadata": {},
   "source": [
    "\n",
    "## Seaborn\n",
    "\n",
    "<a href=\"Visualisation/2.6.S-Histograms-Workshop-Seaborn.ipynb\"><b>2.6.S Histogram-Seaborn</a><b><br>\n",
    "<a href=\"Visualisation/2.7.S-Bar-Chart-Workshop-Seaborn.ipynb\">2.7.S Bar Chart-Seaborn</a><b> <br>\n",
    "<a href=\"Visualisation/2.8.S-Line-Chart-Workshop-Seaborn.ipynb\">2.8.S Line Chart-Seaborn</a><b> <br>\n",
    "<a href=\"Visualisation/2.9.S-Boxplot-Workshop-Seaborn.ipynb\">2.9.S Boxplot-Seaborn</a><b> <br>\n",
    "<a href=\"Visualisation/2-11.S-Scatterplot-Seaborn.ipynb\">2.11.S Scatterplot-Seaborn</a><b><br> \n",
    "\n",
    "## Others\n",
    "<a href=\"Visualisation/2.6-Histograms-Workshop.ipynb\">2.6 Histogram</a><b><br>\n",
    "<a href=\"Visualisation/2.7-Bar-Chart-Workshop.ipynb\">2.7 Bar Chart</a><b> <br>\n",
    "<a href=\"Visualisation/2.8-Line-Chart-Workshop.ipynb\">2.8 Line Chart</a><b> <br>\n",
    "<a href=\"Visualisation/2.10-Pie-Workshop.ipynb\">2.10 Pie Chart</a><b> <br>\n",
    "<a href=\"Visualisation/2.11-Scatterplot-Workshop.ipynb\">2.11 Scatterplot</a><b><br> \n"
   ]
  },
  {
   "cell_type": "markdown",
   "metadata": {},
   "source": [
    "<center>\n",
    "  <a href=\"./\">Previous Page</a> | <a href=\"./\">Content Page</a> |  <a href=\"2.13-Intro-DS.ipynb\">Introduction to Key Data Science</a></center>\n"
   ]
  },
  {
   "cell_type": "code",
   "execution_count": null,
   "metadata": {
    "collapsed": true
   },
   "outputs": [],
   "source": []
  }
 ],
 "metadata": {
  "kernelspec": {
   "display_name": "Python 3",
   "language": "python",
   "name": "python3"
  },
  "language_info": {
   "codemirror_mode": {
    "name": "ipython",
    "version": 3
   },
   "file_extension": ".py",
   "mimetype": "text/x-python",
   "name": "python",
   "nbconvert_exporter": "python",
   "pygments_lexer": "ipython3",
   "version": "3.6.6"
  }
 },
 "nbformat": 4,
 "nbformat_minor": 2
}
