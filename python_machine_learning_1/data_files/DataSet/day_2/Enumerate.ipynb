{
 "cells": [
  {
   "cell_type": "markdown",
   "metadata": {},
   "source": [
    "# Enumerate"
   ]
  },
  {
   "cell_type": "code",
   "execution_count": 9,
   "metadata": {},
   "outputs": [
    {
     "name": "stdout",
     "output_type": "stream",
     "text": [
      "0 x\n",
      "1 y\n",
      "2 z\n"
     ]
    }
   ],
   "source": [
    "\n",
    "\n",
    "for i, a in enumerate(xyz_list):\n",
    "    print (i, a)"
   ]
  },
  {
   "cell_type": "code",
   "execution_count": 10,
   "metadata": {},
   "outputs": [
    {
     "name": "stdout",
     "output_type": "stream",
     "text": [
      "x a\n",
      "y b\n",
      "z c\n"
     ]
    }
   ],
   "source": [
    "xyz_list = ['x', 'y', 'z']\n",
    "abc_list = ['a', 'b', 'c']\n",
    "\n",
    "for a, b in zip(xyz_list, abc_list):\n",
    "    print (a, b)"
   ]
  },
  {
   "cell_type": "code",
   "execution_count": 11,
   "metadata": {},
   "outputs": [
    {
     "name": "stdout",
     "output_type": "stream",
     "text": [
      "0 x a\n",
      "1 y b\n",
      "2 z c\n"
     ]
    }
   ],
   "source": [
    "xyz_list = ['x', 'y', 'z']\n",
    "abc_list = ['a', 'b', 'c']\n",
    "\n",
    "for i, (a, b) in enumerate(zip(xyz_list, abc_list)):\n",
    "    print (i, a, b)"
   ]
  },
  {
   "cell_type": "markdown",
   "metadata": {},
   "source": [
    "<a href=\".\\\">Continue</a>"
   ]
  },
  {
   "cell_type": "code",
   "execution_count": null,
   "metadata": {
    "collapsed": true
   },
   "outputs": [],
   "source": []
  }
 ],
 "metadata": {
  "kernelspec": {
   "display_name": "Python 3 (ipykernel)",
   "language": "python",
   "name": "python3"
  },
  "language_info": {
   "codemirror_mode": {
    "name": "ipython",
    "version": 3
   },
   "file_extension": ".py",
   "mimetype": "text/x-python",
   "name": "python",
   "nbconvert_exporter": "python",
   "pygments_lexer": "ipython3",
   "version": "3.9.12"
  }
 },
 "nbformat": 4,
 "nbformat_minor": 2
}
