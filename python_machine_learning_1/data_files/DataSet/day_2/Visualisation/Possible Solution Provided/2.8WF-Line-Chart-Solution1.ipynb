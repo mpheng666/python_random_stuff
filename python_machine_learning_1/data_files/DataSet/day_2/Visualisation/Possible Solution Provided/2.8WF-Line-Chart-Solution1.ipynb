{
 "cells": [
  {
   "cell_type": "markdown",
   "metadata": {},
   "source": [
    "# Mini-Workshop Line Graph"
   ]
  },
  {
   "cell_type": "markdown",
   "metadata": {},
   "source": [
    "![Final Result](Line_A.png)"
   ]
  },
  {
   "cell_type": "markdown",
   "metadata": {},
   "source": [
    "The Graph requires Data with average monthly resale price for year of 14, 15, and 16\n",
    "We need to get the data by year, month, and montly average resale"
   ]
  },
  {
   "cell_type": "code",
   "execution_count": 17,
   "metadata": {
    "collapsed": true
   },
   "outputs": [],
   "source": [
    "#Getting the data\n",
    "\n",
    "import matplotlib.pyplot as plt\n",
    "%matplotlib inline\n",
    "import pandas as pd\n",
    "\n",
    "df = pd.read_csv(\"resale-sample-regression.csv\", index_col=0)\n",
    "\n"
   ]
  },
  {
   "cell_type": "code",
   "execution_count": 18,
   "metadata": {
    "scrolled": true
   },
   "outputs": [
    {
     "data": {
      "text/html": [
       "<div>\n",
       "<style scoped>\n",
       "    .dataframe tbody tr th:only-of-type {\n",
       "        vertical-align: middle;\n",
       "    }\n",
       "\n",
       "    .dataframe tbody tr th {\n",
       "        vertical-align: top;\n",
       "    }\n",
       "\n",
       "    .dataframe thead th {\n",
       "        text-align: right;\n",
       "    }\n",
       "</style>\n",
       "<table border=\"1\" class=\"dataframe\">\n",
       "  <thead>\n",
       "    <tr style=\"text-align: right;\">\n",
       "      <th></th>\n",
       "      <th>month</th>\n",
       "      <th>town</th>\n",
       "      <th>flat_type</th>\n",
       "      <th>block</th>\n",
       "      <th>street_name</th>\n",
       "      <th>storey_range</th>\n",
       "      <th>floor_area_sqm</th>\n",
       "      <th>flat_model</th>\n",
       "      <th>lease_commence_date</th>\n",
       "      <th>resale_price</th>\n",
       "      <th>Region</th>\n",
       "      <th>Year</th>\n",
       "      <th>Quarter</th>\n",
       "    </tr>\n",
       "  </thead>\n",
       "  <tbody>\n",
       "    <tr>\n",
       "      <th>87705</th>\n",
       "      <td>2016-11</td>\n",
       "      <td>ANG MO KIO</td>\n",
       "      <td>4 ROOM</td>\n",
       "      <td>326</td>\n",
       "      <td>ANG MO KIO AVE 3</td>\n",
       "      <td>10 TO 12</td>\n",
       "      <td>92.0</td>\n",
       "      <td>New Generation</td>\n",
       "      <td>1977</td>\n",
       "      <td>590000.0</td>\n",
       "      <td>North East</td>\n",
       "      <td>2016</td>\n",
       "      <td>11</td>\n",
       "    </tr>\n",
       "    <tr>\n",
       "      <th>86039</th>\n",
       "      <td>2016-10</td>\n",
       "      <td>ANG MO KIO</td>\n",
       "      <td>4 ROOM</td>\n",
       "      <td>428</td>\n",
       "      <td>ANG MO KIO AVE 3</td>\n",
       "      <td>10 TO 12</td>\n",
       "      <td>92.0</td>\n",
       "      <td>New Generation</td>\n",
       "      <td>1978</td>\n",
       "      <td>490000.0</td>\n",
       "      <td>North East</td>\n",
       "      <td>2016</td>\n",
       "      <td>10</td>\n",
       "    </tr>\n",
       "  </tbody>\n",
       "</table>\n",
       "</div>"
      ],
      "text/plain": [
       "         month        town flat_type block       street_name storey_range  \\\n",
       "87705  2016-11  ANG MO KIO    4 ROOM   326  ANG MO KIO AVE 3     10 TO 12   \n",
       "86039  2016-10  ANG MO KIO    4 ROOM   428  ANG MO KIO AVE 3     10 TO 12   \n",
       "\n",
       "       floor_area_sqm      flat_model  lease_commence_date  resale_price  \\\n",
       "87705            92.0  New Generation                 1977      590000.0   \n",
       "86039            92.0  New Generation                 1978      490000.0   \n",
       "\n",
       "           Region  Year Quarter  \n",
       "87705  North East  2016      11  \n",
       "86039  North East  2016      10  "
      ]
     },
     "execution_count": 18,
     "metadata": {},
     "output_type": "execute_result"
    }
   ],
   "source": [
    "#creating two new columns in the DF : Year and Quarterly\n",
    "df['Year'], df['Quarter'] = df['month'].str.split('-',1).str\n",
    "df.head(2)\n"
   ]
  },
  {
   "cell_type": "code",
   "execution_count": 19,
   "metadata": {
    "collapsed": true
   },
   "outputs": [],
   "source": [
    "#peek the unique entries of the quarterly and sort it.\n",
    "q_no=df['Quarter'].unique()\n",
    "q_no.sort()"
   ]
  },
  {
   "cell_type": "code",
   "execution_count": 20,
   "metadata": {},
   "outputs": [
    {
     "data": {
      "text/plain": [
       "array(['01', '02', '03', '04', '05', '06', '07', '08', '09', '10', '11',\n",
       "       '12'], dtype=object)"
      ]
     },
     "execution_count": 20,
     "metadata": {},
     "output_type": "execute_result"
    }
   ],
   "source": [
    "q_no\n"
   ]
  },
  {
   "cell_type": "code",
   "execution_count": 21,
   "metadata": {
    "collapsed": true,
    "scrolled": false
   },
   "outputs": [],
   "source": [
    "#Create a data frame for 2014, 15, and 16\n",
    "df_2016=df[(df['Year']== '2016')]\n",
    "df_2015=df[(df['Year']== '2015')]\n",
    "df_2014=df[(df['Year']== '2014')]\n",
    "#df_2013=df[(df['Year']== '2013')]\n",
    "#df_2012=df[(df['Year']== '2012')]\n",
    "#df_2011=df[(df['Year']== '2011')]\n"
   ]
  },
  {
   "cell_type": "code",
   "execution_count": null,
   "metadata": {
    "collapsed": true
   },
   "outputs": [],
   "source": []
  },
  {
   "cell_type": "code",
   "execution_count": 22,
   "metadata": {},
   "outputs": [
    {
     "data": {
      "text/plain": [
       "422750.0"
      ]
     },
     "execution_count": 22,
     "metadata": {},
     "output_type": "execute_result"
    }
   ],
   "source": [
    "#to get the first month of the average resale price \n",
    "df_2016[(df_2016['Quarter']== q_no[0])].resale_price.mean()"
   ]
  },
  {
   "cell_type": "code",
   "execution_count": null,
   "metadata": {
    "collapsed": true
   },
   "outputs": [],
   "source": []
  },
  {
   "cell_type": "markdown",
   "metadata": {},
   "source": [
    "To Get Monthly resale price for 2016, 2015, 2014"
   ]
  },
  {
   "cell_type": "code",
   "execution_count": 23,
   "metadata": {},
   "outputs": [
    {
     "data": {
      "text/plain": [
       "[422750,\n",
       " 437122,\n",
       " 412396,\n",
       " 415127,\n",
       " 393416,\n",
       " 396588,\n",
       " 471231,\n",
       " 422670,\n",
       " 477770,\n",
       " 469464,\n",
       " 452325,\n",
       " 407162]"
      ]
     },
     "execution_count": 23,
     "metadata": {},
     "output_type": "execute_result"
    }
   ],
   "source": [
    "allaverage_16=[]\n",
    "for i in range (len(q_no)):\n",
    "    anaverage=df_2016[(df_2016['Quarter']== q_no[i])].resale_price.mean()\n",
    "    allaverage_16.append(int(anaverage))\n",
    "allaverage_16\n"
   ]
  },
  {
   "cell_type": "code",
   "execution_count": 24,
   "metadata": {},
   "outputs": [
    {
     "data": {
      "text/plain": [
       "[439718,\n",
       " 440673,\n",
       " 423637,\n",
       " 440000,\n",
       " 466582,\n",
       " 439168,\n",
       " 445262,\n",
       " 453166,\n",
       " 358961,\n",
       " 439247,\n",
       " 427736,\n",
       " 438255]"
      ]
     },
     "execution_count": 24,
     "metadata": {},
     "output_type": "execute_result"
    }
   ],
   "source": [
    "allaverage_15=[]\n",
    "for i in range (0,12):\n",
    "    anaverage=df_2015[(df_2015['Quarter']== q_no[i])].resale_price.mean()\n",
    "    allaverage_15.append(int(anaverage))\n",
    "allaverage_15"
   ]
  },
  {
   "cell_type": "code",
   "execution_count": 25,
   "metadata": {},
   "outputs": [
    {
     "data": {
      "text/plain": [
       "[452680,\n",
       " 490473,\n",
       " 454303,\n",
       " 448995,\n",
       " 452354,\n",
       " 441892,\n",
       " 451181,\n",
       " 496365,\n",
       " 447559,\n",
       " 450961,\n",
       " 487443,\n",
       " 485293]"
      ]
     },
     "execution_count": 25,
     "metadata": {},
     "output_type": "execute_result"
    }
   ],
   "source": [
    "allaverage_14=[]\n",
    "for i in range (0,12):\n",
    "    anaverage=df_2014[(df_2014['Quarter']== q_no[i])].resale_price.mean()\n",
    "    allaverage_14.append(int(anaverage))\n",
    "allaverage_14"
   ]
  },
  {
   "cell_type": "code",
   "execution_count": 26,
   "metadata": {},
   "outputs": [
    {
     "data": {
      "text/plain": [
       "Text(0.5,1,'Monthly Average Resale Price from 2014, 2015, 2016')"
      ]
     },
     "execution_count": 26,
     "metadata": {},
     "output_type": "execute_result"
    },
    {
     "data": {
      "image/png": "[encoded data removed]",
      "text/plain": [
       "<matplotlib.figure.Figure at 0x29f5d48a198>"
      ]
     },
     "metadata": {},
     "output_type": "display_data"
    }
   ],
   "source": [
    "\n",
    "import matplotlib.pyplot as plt\n",
    "plt.style.use('classic')\n",
    "%matplotlib inline\n",
    "import numpy as np\n",
    "import pandas as pd\n",
    "\n",
    "\n",
    "########################################## Your program Start HERE ##################################\n",
    "\n",
    "\n",
    "\n",
    "\n",
    "\n",
    "\n",
    "\n",
    "########################################## Your program End HERE ##################################\n",
    "\n",
    "\n",
    "\n",
    "\n",
    "plt.xticks([0,1,2,3,4,5,6,7,8,9,10,11],\n",
    "          [\"Jan\", \"Feb\",\"Mar\",\"Apr\",\"May\",\"Jun\", \"Jul\",\"Aug\",\"Sep\",\"Oct\", \"Nov\",\"Dec\"])\n",
    "\n",
    "\n",
    "plt.legend( ncol=2, loc='upper left');\n",
    "plt.title('Monthly Average Resale Price from 2014, 2015, 2016')\n"
   ]
  },
  {
   "cell_type": "code",
   "execution_count": null,
   "metadata": {
    "collapsed": true
   },
   "outputs": [],
   "source": []
  },
  {
   "cell_type": "code",
   "execution_count": null,
   "metadata": {
    "collapsed": true
   },
   "outputs": [],
   "source": []
  },
  {
   "cell_type": "code",
   "execution_count": null,
   "metadata": {
    "collapsed": true
   },
   "outputs": [],
   "source": []
  }
 ],
 "metadata": {
  "kernelspec": {
   "display_name": "Python 3",
   "language": "python",
   "name": "python3"
  },
  "language_info": {
   "codemirror_mode": {
    "name": "ipython",
    "version": 3
   },
   "file_extension": ".py",
   "mimetype": "text/x-python",
   "name": "python",
   "nbconvert_exporter": "python",
   "pygments_lexer": "ipython3",
   "version": "3.6.4"
  }
 },
 "nbformat": 4,
 "nbformat_minor": 2
}
