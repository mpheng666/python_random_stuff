{
 "cells": [
  {
   "cell_type": "markdown",
   "metadata": {},
   "source": [
    "# Project.1-Logistic Regression(B)"
   ]
  },
  {
   "cell_type": "code",
   "execution_count": 4,
   "metadata": {
    "collapsed": true
   },
   "outputs": [],
   "source": [
    "import pandas as pd\n",
    "import numpy as np\n"
   ]
  },
  {
   "cell_type": "code",
   "execution_count": 5,
   "metadata": {
    "collapsed": true
   },
   "outputs": [],
   "source": [
    "from sklearn.linear_model import LogisticRegression\n",
    "from sklearn.model_selection import train_test_split,cross_val_score\n",
    "from sklearn import metrics\n",
    "from sklearn.metrics import confusion_matrix"
   ]
  },
  {
   "cell_type": "code",
   "execution_count": 6,
   "metadata": {
    "collapsed": true
   },
   "outputs": [],
   "source": [
    "df=pd.read_csv('resale_discrete.csv')\n"
   ]
  },
  {
   "cell_type": "code",
   "execution_count": null,
   "metadata": {
    "collapsed": true
   },
   "outputs": [],
   "source": []
  },
  {
   "cell_type": "code",
   "execution_count": 7,
   "metadata": {},
   "outputs": [
    {
     "data": {
      "text/plain": [
       "Index(['Unnamed: 0', 'month', 'town', 'flat_type', 'block', 'street_name',\n",
       "       'storey_range', 'floor_area_sqm', 'flat_model', 'lease_commence_date',\n",
       "       'resale_price'],\n",
       "      dtype='object')"
      ]
     },
     "execution_count": 7,
     "metadata": {},
     "output_type": "execute_result"
    }
   ],
   "source": [
    "df.columns"
   ]
  },
  {
   "cell_type": "markdown",
   "metadata": {},
   "source": [
    "### Replacing Medium to High"
   ]
  },
  {
   "cell_type": "code",
   "execution_count": 8,
   "metadata": {
    "collapsed": true
   },
   "outputs": [],
   "source": [
    "df['resale_price']=df['resale_price'].replace(\"Medium\", \"High\")"
   ]
  },
  {
   "cell_type": "code",
   "execution_count": null,
   "metadata": {
    "collapsed": true
   },
   "outputs": [],
   "source": []
  },
  {
   "cell_type": "markdown",
   "metadata": {},
   "source": [
    "Only want to get 3 features"
   ]
  },
  {
   "cell_type": "code",
   "execution_count": 9,
   "metadata": {
    "collapsed": true
   },
   "outputs": [],
   "source": [
    "df=df[['floor_area_sqm', 'resale_price',  'street_name', 'resale_price']]\n"
   ]
  },
  {
   "cell_type": "markdown",
   "metadata": {},
   "source": [
    "Rename the *resale_price* feature to *class_name* for visualisation purposes"
   ]
  },
  {
   "cell_type": "code",
   "execution_count": 10,
   "metadata": {
    "collapsed": true
   },
   "outputs": [],
   "source": [
    "df.columns=['floor_area_sqm', 'resale_price', 'street_name', 'class_name']"
   ]
  },
  {
   "cell_type": "code",
   "execution_count": null,
   "metadata": {
    "collapsed": true
   },
   "outputs": [],
   "source": []
  },
  {
   "cell_type": "code",
   "execution_count": 11,
   "metadata": {
    "collapsed": true
   },
   "outputs": [],
   "source": [
    "y=df['resale_price']\n",
    "X=df[['floor_area_sqm']]\n"
   ]
  },
  {
   "cell_type": "code",
   "execution_count": 12,
   "metadata": {
    "collapsed": true
   },
   "outputs": [],
   "source": [
    "y=y.map({'Low':0, 'High':1}) "
   ]
  },
  {
   "cell_type": "code",
   "execution_count": 13,
   "metadata": {
    "collapsed": true
   },
   "outputs": [],
   "source": [
    "class_names=['Low', 'High']"
   ]
  },
  {
   "cell_type": "code",
   "execution_count": 14,
   "metadata": {
    "collapsed": true
   },
   "outputs": [],
   "source": [
    "X_train, X_test, y_train, y_test = train_test_split(X, y, random_state=0)"
   ]
  },
  {
   "cell_type": "code",
   "execution_count": 15,
   "metadata": {
    "collapsed": true
   },
   "outputs": [],
   "source": [
    "logreg = LogisticRegression()\n",
    "logreg.fit(X_train, y_train)\n",
    "y_pred=logreg.fit(X_train, y_train).predict(X_test)"
   ]
  },
  {
   "cell_type": "code",
   "execution_count": 16,
   "metadata": {},
   "outputs": [
    {
     "data": {
      "text/plain": [
       "array([ 0.85286783,  0.82294264,  0.8475    ,  0.8320802 ,  0.85213033])"
      ]
     },
     "execution_count": 16,
     "metadata": {},
     "output_type": "execute_result"
    }
   ],
   "source": [
    "scores = cross_val_score(logreg, X, y, cv=5)\n",
    "scores    "
   ]
  },
  {
   "cell_type": "code",
   "execution_count": 17,
   "metadata": {},
   "outputs": [
    {
     "name": "stdout",
     "output_type": "stream",
     "text": [
      "Accuracy: 0.84 (+/- 0.02)\n"
     ]
    }
   ],
   "source": [
    "print(\"Accuracy: %0.2f (+/- %0.2f)\" % (scores.mean(), scores.std() * 2))"
   ]
  },
  {
   "cell_type": "code",
   "execution_count": 18,
   "metadata": {},
   "outputs": [
    {
     "data": {
      "text/plain": [
       "0.82599999999999996"
      ]
     },
     "execution_count": 18,
     "metadata": {},
     "output_type": "execute_result"
    }
   ],
   "source": [
    "metrics.accuracy_score(y_test, y_pred) "
   ]
  },
  {
   "cell_type": "code",
   "execution_count": 19,
   "metadata": {
    "scrolled": true
   },
   "outputs": [
    {
     "data": {
      "text/plain": [
       "array([[ 90,  59],\n",
       "       [ 28, 323]], dtype=int64)"
      ]
     },
     "execution_count": 19,
     "metadata": {},
     "output_type": "execute_result"
    }
   ],
   "source": [
    "confusion_matrix(y_test, y_pred)"
   ]
  },
  {
   "cell_type": "code",
   "execution_count": null,
   "metadata": {
    "collapsed": true
   },
   "outputs": [],
   "source": []
  },
  {
   "cell_type": "code",
   "execution_count": 20,
   "metadata": {},
   "outputs": [
    {
     "name": "stdout",
     "output_type": "stream",
     "text": [
      "             precision    recall  f1-score   support\n",
      "\n",
      "        Low       0.76      0.60      0.67       149\n",
      "       High       0.85      0.92      0.88       351\n",
      "\n",
      "avg / total       0.82      0.83      0.82       500\n",
      "\n"
     ]
    }
   ],
   "source": [
    "from sklearn.metrics import classification_report\n",
    "print(classification_report(y_test, y_pred, target_names=class_names))"
   ]
  },
  {
   "cell_type": "code",
   "execution_count": 21,
   "metadata": {},
   "outputs": [
    {
     "data": {
      "text/html": [
       "<div>\n",
       "<style scoped>\n",
       "    .dataframe tbody tr th:only-of-type {\n",
       "        vertical-align: middle;\n",
       "    }\n",
       "\n",
       "    .dataframe tbody tr th {\n",
       "        vertical-align: top;\n",
       "    }\n",
       "\n",
       "    .dataframe thead th {\n",
       "        text-align: right;\n",
       "    }\n",
       "</style>\n",
       "<table border=\"1\" class=\"dataframe\">\n",
       "  <thead>\n",
       "    <tr style=\"text-align: right;\">\n",
       "      <th>Predicted</th>\n",
       "      <th>0</th>\n",
       "      <th>1</th>\n",
       "      <th>All</th>\n",
       "    </tr>\n",
       "    <tr>\n",
       "      <th>True</th>\n",
       "      <th></th>\n",
       "      <th></th>\n",
       "      <th></th>\n",
       "    </tr>\n",
       "  </thead>\n",
       "  <tbody>\n",
       "    <tr>\n",
       "      <th>0</th>\n",
       "      <td>90</td>\n",
       "      <td>59</td>\n",
       "      <td>149</td>\n",
       "    </tr>\n",
       "    <tr>\n",
       "      <th>1</th>\n",
       "      <td>28</td>\n",
       "      <td>323</td>\n",
       "      <td>351</td>\n",
       "    </tr>\n",
       "    <tr>\n",
       "      <th>All</th>\n",
       "      <td>118</td>\n",
       "      <td>382</td>\n",
       "      <td>500</td>\n",
       "    </tr>\n",
       "  </tbody>\n",
       "</table>\n",
       "</div>"
      ],
      "text/plain": [
       "Predicted    0    1  All\n",
       "True                    \n",
       "0           90   59  149\n",
       "1           28  323  351\n",
       "All        118  382  500"
      ]
     },
     "execution_count": 21,
     "metadata": {},
     "output_type": "execute_result"
    }
   ],
   "source": [
    "pd.crosstab(y_test, y_pred, rownames=['True'], colnames=['Predicted'], margins=True)"
   ]
  },
  {
   "cell_type": "code",
   "execution_count": null,
   "metadata": {
    "collapsed": true
   },
   "outputs": [],
   "source": []
  },
  {
   "cell_type": "code",
   "execution_count": null,
   "metadata": {
    "collapsed": true
   },
   "outputs": [],
   "source": []
  },
  {
   "cell_type": "code",
   "execution_count": null,
   "metadata": {
    "collapsed": true
   },
   "outputs": [],
   "source": []
  },
  {
   "cell_type": "code",
   "execution_count": 22,
   "metadata": {},
   "outputs": [
    {
     "name": "stdout",
     "output_type": "stream",
     "text": [
      "Confusion matrix, without normalization\n",
      "[[ 90  59]\n",
      " [ 28 323]]\n"
     ]
    },
    {
     "data": {
      "image/png": "[encoded data removed]",
      "text/plain": [
       "<matplotlib.figure.Figure at 0x1c658911da0>"
      ]
     },
     "metadata": {},
     "output_type": "display_data"
    }
   ],
   "source": [
    "\n",
    "import itertools\n",
    "import numpy as np\n",
    "import matplotlib.pyplot as plt\n",
    "%matplotlib inline\n",
    "\n",
    "def plot_confusion_matrix(cm, classes,\n",
    "                          normalize=False,\n",
    "                          title='Confusion matrix',\n",
    "                          cmap=plt.cm.Blues):\n",
    "    \"\"\"\n",
    "    This function prints and plots the confusion matrix.\n",
    "    Normalization can be applied by setting `normalize=True`.\n",
    "    \"\"\"\n",
    "    if normalize:\n",
    "        cm = cm.astype('float') / cm.sum(axis=1)[:, np.newaxis]\n",
    "        print(\"Normalized confusion matrix\")\n",
    "    else:\n",
    "        print('Confusion matrix, without normalization')\n",
    "\n",
    "    print(cm)\n",
    "\n",
    "    plt.imshow(cm, interpolation='nearest', cmap=cmap)\n",
    "    plt.title(title)\n",
    "    plt.colorbar()\n",
    "    tick_marks = np.arange(len(classes))\n",
    "    plt.xticks(tick_marks, classes, rotation=45)\n",
    "    plt.yticks(tick_marks, classes)\n",
    "\n",
    "    fmt = '.2f' if normalize else 'd'\n",
    "    thresh = cm.max() / 2.\n",
    "    for i, j in itertools.product(range(cm.shape[0]), range(cm.shape[1])):\n",
    "        plt.text(j, i, format(cm[i, j], fmt),\n",
    "                 horizontalalignment=\"center\",\n",
    "                 color=\"white\" if cm[i, j] > thresh else \"black\")\n",
    "\n",
    "    plt.tight_layout()\n",
    "    plt.ylabel('True label')\n",
    "    plt.xlabel('Predicted label')\n",
    "\n",
    "# Compute confusion matrix\n",
    "cnf_matrix = confusion_matrix(y_test, y_pred)\n",
    "np.set_printoptions(precision=2)\n",
    "\n",
    "# Plot non-normalized confusion matrix\n",
    "plt.figure()\n",
    "plot_confusion_matrix(cnf_matrix, classes=class_names,\n",
    "                      title='Confusion matrix, without normalization')\n",
    "plt.show()"
   ]
  },
  {
   "cell_type": "code",
   "execution_count": 24,
   "metadata": {},
   "outputs": [
    {
     "data": {
      "text/plain": [
       "<matplotlib.axes._subplots.AxesSubplot at 0x1c65a7123c8>"
      ]
     },
     "execution_count": 24,
     "metadata": {},
     "output_type": "execute_result"
    },
    {
     "data": {
      "image/png": "[encoded data removed]",
      "text/plain": [
       "<matplotlib.figure.Figure at 0x1c65a6a14a8>"
      ]
     },
     "metadata": {},
     "output_type": "display_data"
    }
   ],
   "source": [
    "cnf_matrix = confusion_matrix(y_test, y_pred)\n",
    "#g=pd.DataFrame(cnf_matrix, index=('a','b','c'), columns=('a','b','c'))\n",
    "g=pd.DataFrame(cnf_matrix, index=class_names, columns=class_names)\n",
    "\n",
    "\n",
    "import seaborn as sns\n",
    "sns.heatmap(g, annot=True, fmt=\"d\",cmap=\"YlGnBu\")"
   ]
  },
  {
   "cell_type": "code",
   "execution_count": 51,
   "metadata": {},
   "outputs": [
    {
     "name": "stdout",
     "output_type": "stream",
     "text": [
      "             precision    recall  f1-score   support\n",
      "\n",
      "        Low       0.76      0.60      0.67       149\n",
      "       High       0.85      0.92      0.88       351\n",
      "\n",
      "avg / total       0.82      0.83      0.82       500\n",
      "\n"
     ]
    }
   ],
   "source": [
    "from sklearn.metrics import classification_report, roc_curve, auc\n",
    "print(classification_report(y_test, y_pred, target_names=class_names))"
   ]
  },
  {
   "cell_type": "code",
   "execution_count": 52,
   "metadata": {},
   "outputs": [
    {
     "data": {
      "text/plain": [
       "0.82599999999999996"
      ]
     },
     "execution_count": 52,
     "metadata": {},
     "output_type": "execute_result"
    }
   ],
   "source": [
    "metrics.accuracy_score(y_test, y_pred)"
   ]
  },
  {
   "cell_type": "code",
   "execution_count": 53,
   "metadata": {
    "collapsed": true
   },
   "outputs": [],
   "source": [
    "predict_probabilities = logreg.predict_proba(X_test)[:,1]\n"
   ]
  },
  {
   "cell_type": "code",
   "execution_count": 54,
   "metadata": {},
   "outputs": [
    {
     "data": {
      "text/plain": [
       "array([ 0.97,  0.18,  0.49,  0.19,  0.31,  0.91,  0.21,  0.13,  0.81,\n",
       "        0.69,  0.98,  0.98,  0.23,  0.86,  0.74,  0.18,  0.53,  0.12,\n",
       "        0.91,  0.75,  0.33,  0.99,  0.63,  0.21,  0.53,  0.53,  0.98,\n",
       "        0.96,  0.11,  0.78,  0.89,  0.53,  0.82,  0.31,  0.98,  0.85,\n",
       "        0.96,  0.19,  0.65,  0.89,  0.97,  0.96,  0.91,  0.65,  0.65,\n",
       "        0.65,  1.  ,  0.69,  0.83,  0.23,  0.19,  0.49,  0.69,  0.19,\n",
       "        0.31,  0.8 ,  0.7 ,  0.96,  0.96,  0.94,  0.92,  0.69,  0.21,\n",
       "        0.37,  0.98,  0.12,  0.96,  0.61,  0.96,  0.96,  0.9 ,  0.7 ,\n",
       "        0.69,  0.31,  0.99,  0.13,  0.91,  0.47,  0.05,  0.95,  0.82,\n",
       "        0.63,  0.23,  0.96,  0.91,  0.97,  0.94,  0.67,  0.31,  0.23,\n",
       "        0.81,  0.63,  0.29,  0.85,  0.41,  0.69,  1.  ,  0.12,  0.12,\n",
       "        0.21,  0.21,  0.99,  0.85,  0.85,  0.96,  0.95,  0.94,  0.91,\n",
       "        0.19,  0.93,  0.97,  0.81,  0.99,  0.83,  0.93,  0.53,  0.63,\n",
       "        0.85,  0.91,  0.69,  0.95,  0.69,  0.98,  0.67,  0.82,  0.91,\n",
       "        0.85,  0.53,  0.86,  0.99,  0.65,  0.91,  0.67,  0.92,  0.91,\n",
       "        0.99,  0.84,  0.84,  0.84,  0.65,  1.  ,  0.67,  0.94,  0.91,\n",
       "        0.14,  1.  ,  0.19,  0.72,  0.81,  0.65,  0.96,  0.92,  0.26,\n",
       "        0.53,  0.96,  0.14,  0.65,  0.99,  0.14,  0.53,  0.21,  0.53,\n",
       "        0.83,  0.67,  0.23,  0.98,  0.23,  0.53,  0.33,  0.99,  0.96,\n",
       "        0.89,  0.69,  0.96,  0.69,  0.91,  0.23,  0.86,  0.69,  0.97,\n",
       "        0.96,  0.91,  0.96,  0.95,  0.65,  0.8 ,  0.74,  0.7 ,  0.95,\n",
       "        0.13,  0.9 ,  0.97,  0.85,  0.93,  0.99,  0.59,  0.77,  0.96,\n",
       "        0.57,  0.65,  0.51,  0.95,  0.85,  0.99,  0.99,  0.12,  0.53,\n",
       "        1.  ,  0.26,  0.74,  0.96,  0.98,  0.84,  0.31,  1.  ,  0.87,\n",
       "        0.97,  0.96,  0.67,  0.89,  0.96,  0.84,  0.18,  0.99,  0.85,\n",
       "        0.97,  0.87,  0.91,  0.96,  0.95,  0.86,  0.53,  0.23,  0.84,\n",
       "        0.69,  0.53,  0.55,  0.97,  0.21,  0.67,  1.  ,  0.61,  0.97,\n",
       "        0.33,  0.53,  0.67,  0.96,  0.84,  0.21,  0.96,  0.96,  0.21,\n",
       "        0.53,  0.96,  0.85,  0.21,  1.  ,  0.31,  0.69,  0.67,  0.97,\n",
       "        0.7 ,  0.85,  0.91,  0.53,  0.84,  0.23,  0.84,  0.33,  0.1 ,\n",
       "        0.18,  0.91,  0.91,  0.16,  0.65,  0.23,  0.81,  0.97,  0.91,\n",
       "        0.95,  0.85,  0.96,  0.91,  0.74,  0.67,  0.12,  0.19,  0.85,\n",
       "        1.  ,  0.99,  1.  ,  0.19,  0.98,  0.95,  0.88,  0.98,  0.21,\n",
       "        0.75,  0.86,  0.85,  0.49,  0.69,  0.96,  0.67,  0.31,  0.84,\n",
       "        0.23,  0.53,  0.84,  0.97,  0.81,  0.94,  0.91,  0.86,  0.81,\n",
       "        0.82,  0.55,  0.91,  0.19,  0.98,  0.87,  0.85,  0.96,  0.99,\n",
       "        0.03,  0.86,  0.2 ,  0.91,  0.69,  0.7 ,  0.19,  0.85,  0.21,\n",
       "        0.84,  0.33,  0.85,  0.91,  0.82,  0.67,  0.33,  0.65,  1.  ,\n",
       "        0.26,  0.23,  0.74,  0.19,  0.19,  0.65,  0.19,  0.65,  0.89,\n",
       "        0.85,  0.96,  0.95,  0.23,  0.96,  0.91,  0.65,  0.18,  0.19,\n",
       "        0.69,  0.88,  0.88,  0.31,  0.11,  0.93,  0.91,  0.65,  0.91,\n",
       "        0.88,  0.9 ,  0.28,  0.21,  0.57,  0.49,  0.84,  0.74,  0.96,\n",
       "        0.97,  0.65,  0.96,  0.13,  0.85,  0.96,  0.91,  0.82,  0.65,\n",
       "        0.93,  0.91,  0.84,  0.21,  0.91,  0.65,  0.69,  0.53,  0.85,\n",
       "        0.96,  0.91,  0.96,  0.65,  0.74,  0.53,  0.97,  0.33,  0.55,\n",
       "        0.74,  0.75,  0.37,  0.1 ,  0.82,  0.72,  0.35,  0.51,  0.55,\n",
       "        0.59,  0.85,  0.97,  0.24,  0.96,  0.49,  0.96,  0.91,  0.7 ,\n",
       "        0.67,  0.21,  0.69,  0.91,  0.69,  0.91,  0.85,  0.85,  0.53,\n",
       "        0.91,  0.97,  0.31,  0.95,  0.86,  0.19,  0.77,  0.91,  0.87,\n",
       "        0.83,  0.83,  0.21,  0.74,  0.86,  0.7 ,  0.82,  0.31,  0.91,\n",
       "        0.21,  0.69,  0.35,  0.85,  0.65,  0.97,  0.49,  0.95,  0.91,\n",
       "        0.98,  0.33,  0.91,  0.92,  0.9 ,  0.98,  0.85,  0.81,  0.49,\n",
       "        0.8 ,  0.18,  0.24,  0.26,  0.55,  0.18,  0.65,  0.69,  0.91,\n",
       "        0.83,  0.21,  0.85,  0.85,  0.97,  0.21,  0.93,  0.99,  0.96,\n",
       "        0.85,  0.98,  0.74,  0.96,  0.19,  0.91,  0.65,  0.18,  0.91,\n",
       "        0.83,  0.85,  0.31,  0.95,  0.96])"
      ]
     },
     "execution_count": 54,
     "metadata": {},
     "output_type": "execute_result"
    }
   ],
   "source": [
    "predict_probabilities"
   ]
  },
  {
   "cell_type": "code",
   "execution_count": 55,
   "metadata": {
    "collapsed": true,
    "scrolled": false
   },
   "outputs": [],
   "source": [
    "fpr, tpr, _ = roc_curve(y_test, predict_probabilities)"
   ]
  },
  {
   "cell_type": "code",
   "execution_count": 56,
   "metadata": {},
   "outputs": [
    {
     "data": {
      "text/plain": [
       "array([ 1.  ,  1.  ,  1.  ,  1.  ,  1.  ,  1.  ,  0.99,  0.99,  0.99,\n",
       "        0.99,  0.99,  0.98,  0.98,  0.98,  0.98,  0.98,  0.98,  0.97,\n",
       "        0.97,  0.97,  0.96,  0.96,  0.96,  0.95,  0.95,  0.95,  0.94,\n",
       "        0.93,  0.92,  0.91,  0.91,  0.9 ,  0.89,  0.88,  0.87,  0.86,\n",
       "        0.85,  0.84,  0.83,  0.81,  0.8 ,  0.78,  0.77,  0.75,  0.74,\n",
       "        0.72,  0.7 ,  0.69,  0.67,  0.65,  0.63,  0.61,  0.59,  0.57,\n",
       "        0.55,  0.53,  0.51,  0.49,  0.41,  0.37,  0.35,  0.33,  0.31,\n",
       "        0.28,  0.26,  0.24,  0.23,  0.21,  0.2 ,  0.19,  0.18,  0.16,\n",
       "        0.14,  0.14,  0.13,  0.12,  0.11,  0.1 ,  0.03])"
      ]
     },
     "execution_count": 56,
     "metadata": {},
     "output_type": "execute_result"
    }
   ],
   "source": [
    "_"
   ]
  },
  {
   "cell_type": "code",
   "execution_count": 57,
   "metadata": {},
   "outputs": [
    {
     "data": {
      "text/plain": [
       "0.75"
      ]
     },
     "execution_count": 57,
     "metadata": {},
     "output_type": "execute_result"
    }
   ],
   "source": [
    ">>> import numpy as np\n",
    ">>> from sklearn.metrics import roc_auc_score\n",
    ">>> y_true = np.array([0, 0, 1, 1])\n",
    ">>> y_scores = np.array([0.1, 0.4, 0.35, 0.8])\n",
    ">>> roc_auc_score(y_true, y_scores)\n",
    "0.75"
   ]
  },
  {
   "cell_type": "code",
   "execution_count": 58,
   "metadata": {},
   "outputs": [
    {
     "data": {
      "text/plain": [
       "(500,)"
      ]
     },
     "execution_count": 58,
     "metadata": {},
     "output_type": "execute_result"
    }
   ],
   "source": [
    "predict_probabilities.shape"
   ]
  },
  {
   "cell_type": "code",
   "execution_count": 59,
   "metadata": {},
   "outputs": [
    {
     "data": {
      "text/plain": [
       "(500,)"
      ]
     },
     "execution_count": 59,
     "metadata": {},
     "output_type": "execute_result"
    }
   ],
   "source": [
    "y_test.shape"
   ]
  },
  {
   "cell_type": "code",
   "execution_count": 60,
   "metadata": {
    "collapsed": true
   },
   "outputs": [],
   "source": [
    "\n",
    "false_positive_rate, true_positive_rate, thresholds = roc_curve(y_test, predict_probabilities)\n",
    "roc_auc = auc(false_positive_rate, true_positive_rate)"
   ]
  },
  {
   "cell_type": "code",
   "execution_count": 61,
   "metadata": {},
   "outputs": [
    {
     "data": {
      "image/png": "[encoded data removed]",
      "text/plain": [
       "<matplotlib.figure.Figure at 0x1c65a94b2b0>"
      ]
     },
     "metadata": {},
     "output_type": "display_data"
    }
   ],
   "source": [
    "plt.title('Receiver Operating Characteristic')\n",
    "plt.plot(false_positive_rate, true_positive_rate, 'b',\n",
    "label='AUC = %0.2f'% roc_auc)\n",
    "plt.legend(loc='lower right')\n",
    "plt.plot([0,1],[0,1],'r--')\n",
    "plt.xlim([-0.1,1.2])\n",
    "plt.ylim([-0.1,1.2])\n",
    "plt.ylabel('True Positive Rate')\n",
    "plt.xlabel('False Positive Rate')\n",
    "plt.show()"
   ]
  },
  {
   "cell_type": "code",
   "execution_count": null,
   "metadata": {
    "collapsed": true
   },
   "outputs": [],
   "source": []
  },
  {
   "cell_type": "code",
   "execution_count": null,
   "metadata": {
    "collapsed": true
   },
   "outputs": [],
   "source": []
  }
 ],
 "metadata": {
  "kernelspec": {
   "display_name": "Python 3",
   "language": "python",
   "name": "python3"
  },
  "language_info": {
   "codemirror_mode": {
    "name": "ipython",
    "version": 3
   },
   "file_extension": ".py",
   "mimetype": "text/x-python",
   "name": "python",
   "nbconvert_exporter": "python",
   "pygments_lexer": "ipython3",
   "version": "3.6.6"
  }
 },
 "nbformat": 4,
 "nbformat_minor": 2
}
