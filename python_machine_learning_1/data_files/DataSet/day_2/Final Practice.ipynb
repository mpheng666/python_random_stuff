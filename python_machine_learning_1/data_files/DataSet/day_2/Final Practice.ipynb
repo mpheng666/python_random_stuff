{
 "cells": [
  {
   "cell_type": "markdown",
   "id": "f2262954",
   "metadata": {},
   "source": [
    "# Solve 2nd order equation ax^2+bx+c=0\n",
    "### Test Case\n",
    "1. a=1,b=-6,c=9 ---> x=3\n",
    "2. a=2,b=1,c=-6 ---> x=-2,1.5"
   ]
  },
  {
   "cell_type": "markdown",
   "id": "e7bedd78",
   "metadata": {},
   "source": [
    "Read a,b,c as 3 real numbers from the keyboard"
   ]
  },
  {
   "cell_type": "code",
   "execution_count": 10,
   "id": "b90a264d",
   "metadata": {},
   "outputs": [
    {
     "name": "stdout",
     "output_type": "stream",
     "text": [
      "Please input a number for a :2\n",
      "Please input a number for b :1.0\n",
      "Please input a number for c :python\n",
      "Invalid number (int or float only)!\n",
      "Please input a number for c :-6\n",
      "a -> 2.0\n",
      "b -> 1.0\n",
      "c -> -6.0\n"
     ]
    }
   ],
   "source": [
    "import math\n",
    "import numpy as np\n",
    "\n",
    "nums = dict.fromkeys(['a','b','c'])\n",
    "for alp in nums:\n",
    "    while(not nums[alp]):\n",
    "        print(\"Please input a number for\", alp, end=\" \")\n",
    "        user_input = input(\":\")\n",
    "        try:\n",
    "            float(user_input)\n",
    "            nums[alp] = float(user_input)\n",
    "        except ValueError:\n",
    "            print(\"Invalid number (int or float only)!\")\n",
    "\n",
    "for alp, num in nums.items():\n",
    "    print(alp, \"->\", num)"
   ]
  },
  {
   "cell_type": "markdown",
   "id": "4c3c1661",
   "metadata": {},
   "source": [
    "### Compute delta = b^2 - 4ac"
   ]
  },
  {
   "cell_type": "code",
   "execution_count": 11,
   "id": "05cf98bd",
   "metadata": {
    "scrolled": true
   },
   "outputs": [
    {
     "name": "stdout",
     "output_type": "stream",
     "text": [
      "delta = 1.0 * x^2 - 4 * 2.0 * -6.0\n",
      "Delta is 49.0\n"
     ]
    }
   ],
   "source": [
    "print(\"delta =\", nums['b'], \"* x^2 - 4 *\", nums['a'], \"*\",nums['c'])\n",
    "delta = nums['b']**2 - 4*nums['a']*nums['c']\n",
    "print(\"Delta is\", delta)"
   ]
  },
  {
   "cell_type": "markdown",
   "id": "2df5704e",
   "metadata": {},
   "source": [
    "- if delta < 0, there is no root\n",
    "- if delta = 0, there is a root\n",
    "- if delta > 0, there are 2 roots\n",
    "\n",
    "- Print the roots if there is any!"
   ]
  },
  {
   "cell_type": "code",
   "execution_count": 12,
   "id": "519a7437",
   "metadata": {},
   "outputs": [
    {
     "name": "stdout",
     "output_type": "stream",
     "text": [
      "There are two roots!\n",
      "2\n",
      "root:  6.0\n",
      "root:  -8.0\n"
     ]
    }
   ],
   "source": [
    "roots = []\n",
    "if delta<0:\n",
    "    print(\"There is no root!\")\n",
    "elif delta==0:\n",
    "    roots.append(-nums['b']/(2*nums['a']))\n",
    "    print(\"There is no root!\")\n",
    "else:\n",
    "    roots.append((-nums['b']+math.sqrt(delta))/2*nums['a'])\n",
    "    roots.append((-nums['b']-math.sqrt(delta))/2*nums['a'])\n",
    "    print(\"There are two roots!\")\n",
    "    \n",
    "\n",
    "print(len(roots))\n",
    "for root in roots:\n",
    "    print(\"root: \", root)\n"
   ]
  },
  {
   "cell_type": "markdown",
   "id": "87dea975",
   "metadata": {},
   "source": [
    "- Draw the y=ax^2+bx+c\n",
    "- Use scatter plot for x = np.arange(-20,20,0.1)"
   ]
  },
  {
   "cell_type": "code",
   "execution_count": 7,
   "id": "07279975",
   "metadata": {},
   "outputs": [
    {
     "data": {
      "image/png": "[encoded data removed]",
      "text/plain": [
       "<Figure size 720x360 with 1 Axes>"
      ]
     },
     "metadata": {
      "needs_background": "light"
     },
     "output_type": "display_data"
    }
   ],
   "source": [
    "import matplotlib.pyplot as plt\n",
    "\n",
    "plt.rcParams[\"figure.figsize\"] = (10,5)\n",
    "\n",
    "x_list = np.arange(-20,20,0.1)\n",
    "y_list = []\n",
    "for x in x_list:\n",
    "    y_list.append(nums['a']*x**2+nums['b']*x+nums['c'])\n",
    "plt.scatter(x_list, y_list,marker='.',c='red',)\n",
    "plt.show()\n"
   ]
  }
 ],
 "metadata": {
  "kernelspec": {
   "display_name": "Python 3 (ipykernel)",
   "language": "python",
   "name": "python3"
  },
  "language_info": {
   "codemirror_mode": {
    "name": "ipython",
    "version": 3
   },
   "file_extension": ".py",
   "mimetype": "text/x-python",
   "name": "python",
   "nbconvert_exporter": "python",
   "pygments_lexer": "ipython3",
   "version": "3.9.12"
  }
 },
 "nbformat": 4,
 "nbformat_minor": 5
}
