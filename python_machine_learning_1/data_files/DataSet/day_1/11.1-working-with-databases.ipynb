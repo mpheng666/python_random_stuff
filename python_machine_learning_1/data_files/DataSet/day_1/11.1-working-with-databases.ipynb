{
 "cells": [
  {
   "cell_type": "markdown",
   "metadata": {},
   "source": [
    "<center>\n",
    "  <a href=\"10.1-Working-with-text-files.ipynb\">Previous Page</a> | <a href=\"./\">Content Page</a> | <a href=\"12.1-working-with-web-data.ipynb\">Next Page</a></center>\n",
    "</center>"
   ]
  },
  {
   "cell_type": "markdown",
   "metadata": {},
   "source": [
    "# 1.11 Working with databases\n",
    "\n",
    "Now that we know how to access data from text files, let's explore how to work with databases and use loops to iterate through lists. While CSV files are easy to access, they have a lot of limitations. One such limitation is that there can be a problem with loading large CSV files into memory. Databases are designed to handle large sets of data easily.\n",
    "\n",
    "We will be working with the same data set from https://data.gov.sg, the `Number of Parcels cleared at the Parcel Post Centre` data set. \n",
    "\n",
    "This data set has already been imported as a `sqlite3` database named `parcels.db` in the same directory as this notebook."
   ]
  },
  {
   "cell_type": "markdown",
   "metadata": {},
   "source": [
    "To interact with `sqlite3` databases, we use a language called `SQL` or Structured Query Language. We use SQL to query and modify the data in a database. SQL us the most common language for working with databases and an important tool in any data professional's toolkit.\n",
    "\n",
    "Let's explore how we can use SQL with work with the data."
   ]
  },
  {
   "cell_type": "markdown",
   "metadata": {},
   "source": [
    "In order to work with a `sqlite3` database, we need to import the `sqlite3` module. Let's do that now."
   ]
  },
  {
   "cell_type": "code",
   "execution_count": 1,
   "metadata": {},
   "outputs": [],
   "source": [
    "import sqlite3"
   ]
  },
  {
   "cell_type": "markdown",
   "metadata": {
    "collapsed": true
   },
   "source": [
    "To read the database, we need to create a `Connection` object that represents the database. Let's do that now."
   ]
  },
  {
   "cell_type": "code",
   "execution_count": 2,
   "metadata": {},
   "outputs": [
    {
     "data": {
      "text/plain": [
       "<sqlite3.Connection at 0x7f770509c990>"
      ]
     },
     "execution_count": 2,
     "metadata": {},
     "output_type": "execute_result"
    }
   ],
   "source": [
    "conn = sqlite3.connect(\"parcels.db\")\n",
    "\n",
    "# let's see what the conn object is\n",
    "conn"
   ]
  },
  {
   "cell_type": "markdown",
   "metadata": {},
   "source": [
    "Once we have a `Connection` object, we can create a `Cursor` object that points to the data in the database and call the `.execute()` method to perform SQL commands:"
   ]
  },
  {
   "cell_type": "code",
   "execution_count": 3,
   "metadata": {},
   "outputs": [
    {
     "data": {
      "text/plain": [
       "<sqlite3.Cursor at 0x7f7705096880>"
      ]
     },
     "execution_count": 3,
     "metadata": {},
     "output_type": "execute_result"
    }
   ],
   "source": [
    "c = conn.cursor()\n",
    "\n",
    "# use the cursor object to do a SELECT command from the parcels table\n",
    "c.execute('SELECT * from parcels')"
   ]
  },
  {
   "cell_type": "markdown",
   "metadata": {},
   "source": [
    "Let's print out a row from the data set with the `.fetchone()` method."
   ]
  },
  {
   "cell_type": "code",
   "execution_count": 4,
   "metadata": {},
   "outputs": [
    {
     "name": "stdout",
     "output_type": "stream",
     "text": [
      "('2004', 1175900)\n"
     ]
    }
   ],
   "source": [
    "print(c.fetchone())"
   ]
  },
  {
   "cell_type": "markdown",
   "metadata": {},
   "source": [
    "We can see that a row data is comprised of a `Tuple` object. In this case, there are two elements in the tuple object above, the year (a String object) and the parcels count for that year (in an integer)\n",
    "\n",
    "We can also print all the rows in the parcels table."
   ]
  },
  {
   "cell_type": "code",
   "execution_count": 5,
   "metadata": {},
   "outputs": [
    {
     "name": "stdout",
     "output_type": "stream",
     "text": [
      "('2004', 1175900)\n",
      "('2005', 1148900)\n",
      "('2006', 1190384)\n",
      "('2007', 1346800)\n",
      "('2008', 1432700)\n",
      "('2009', 1527400)\n",
      "('2010', 1564000)\n",
      "('2011', 2176900)\n",
      "('2012', 2602700)\n",
      "('2013', 2987800)\n",
      "('2014', 3646600)\n",
      "('2015', 4829700)\n",
      "('2016', 5162576)\n"
     ]
    }
   ],
   "source": [
    "# Let's iterate via a for loop and print all the row data\n",
    "for row in c.execute('SELECT * from parcels'):\n",
    "    print(row)"
   ]
  },
  {
   "cell_type": "markdown",
   "metadata": {},
   "source": [
    "Not much different from when reading in the CSV file previously. What other things can we do with the row data?"
   ]
  },
  {
   "cell_type": "markdown",
   "metadata": {},
   "source": [
    "Let's say we want to count the total number number of parcels in the data set. How would you do this?"
   ]
  },
  {
   "cell_type": "code",
   "execution_count": 6,
   "metadata": {},
   "outputs": [
    {
     "name": "stdout",
     "output_type": "stream",
     "text": [
      "The total number of parcels is 30792360\n"
     ]
    }
   ],
   "source": [
    "total_parcels = 0\n",
    "for row in c.execute('SELECT * from parcels'):\n",
    "    year, parcels_count = row\n",
    "    total_parcels = total_parcels + parcels_count\n",
    "    \n",
    "print(\"The total number of parcels is \" + str(total_parcels))"
   ]
  },
  {
   "cell_type": "markdown",
   "metadata": {
    "collapsed": true
   },
   "source": [
    "We can also modify and add new data. For more information, please refer to the `sqlite3` documentation (https://docs.python.org/3/library/sqlite3.html)"
   ]
  },
  {
   "cell_type": "markdown",
   "metadata": {
    "collapsed": true
   },
   "source": [
    "<center>\n",
    "  <a href=\"10.1-Working-with-text-files.ipynb\">Previous Page</a> | <a href=\"./\">Content Page</a> | <a href=\"12.1-working-with-web-data.ipynb\">Next Page</a></center>\n",
    "</center>"
   ]
  },
  {
   "cell_type": "code",
   "execution_count": null,
   "metadata": {
    "collapsed": true
   },
   "outputs": [],
   "source": []
  }
 ],
 "metadata": {
  "kernelspec": {
   "display_name": "Python 3 (ipykernel)",
   "language": "python",
   "name": "python3"
  },
  "language_info": {
   "codemirror_mode": {
    "name": "ipython",
    "version": 3
   },
   "file_extension": ".py",
   "mimetype": "text/x-python",
   "name": "python",
   "nbconvert_exporter": "python",
   "pygments_lexer": "ipython3",
   "version": "3.9.12"
  }
 },
 "nbformat": 4,
 "nbformat_minor": 2
}
