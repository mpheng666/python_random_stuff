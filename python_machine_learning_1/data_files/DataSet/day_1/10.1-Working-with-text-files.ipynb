{
 "cells": [
  {
   "cell_type": "markdown",
   "metadata": {
    "collapsed": true
   },
   "source": [
    "<center>\n",
    "  <a href=\"1.9-Working-with-data-sources.ipynb\">Previous Page</a> | <a href=\"./\">Content Page</a> | <a href=\"11.1-working-with-databases.ipynb\">Next Page</a></center>\n",
    "</center>"
   ]
  },
  {
   "cell_type": "markdown",
   "metadata": {},
   "source": [
    "# 1.10 Working with files\n",
    "\n",
    "Let's explore how to work with files nd use loops to iterate through lists. We will be working with a data set from https://data.gov.sg and in particular `Number of Parcels cleared at the Parcel Post Centre` data set. This data set presents the yearly breakdown on the number of parcels cleared at the Parcel Post Centre from 2004 onwards.\n",
    "\n",
    "This data set has already been downloaded as a CSV file named `parcels.csv` in the same directory as this notebook.\n"
   ]
  },
  {
   "cell_type": "markdown",
   "metadata": {},
   "source": [
    "To open a file in Python, we use the `open()` function. This function access two different arguments, in the following order:\n",
    "\n",
    "* the name of the file (as a string)\n",
    "* the mode of working with the file (also a string)\n",
    "\n",
    "For now we use `\"r\"` as the mode for reading in files. `open()` returns a File object which you can access methods from.\n",
    "\n",
    "Let's open the CSV file and read File object into a variable:"
   ]
  },
  {
   "cell_type": "code",
   "execution_count": 23,
   "metadata": {},
   "outputs": [],
   "source": [
    "f = open(\"parcels.csv\", \"r\")"
   ]
  },
  {
   "cell_type": "markdown",
   "metadata": {
    "collapsed": true
   },
   "source": [
    "File objects have a `read()` method that returns a string representation of the text in a file. Let's use the `read()` method to read in the contents into another variable called `data`."
   ]
  },
  {
   "cell_type": "code",
   "execution_count": 24,
   "metadata": {},
   "outputs": [
    {
     "data": {
      "text/plain": [
       "'year,parcels_count\\n2004,1175900\\n2005,1148900\\n2006,1190384\\n2007,1346800\\n2008,1432700\\n2009,1527400\\n2010,1564000\\n2011,2176900\\n2012,2602700\\n2013,2987800\\n2014,3646600\\n2015,4829700\\n2016,5162576\\n'"
      ]
     },
     "execution_count": 24,
     "metadata": {},
     "output_type": "execute_result"
    }
   ],
   "source": [
    "data = f.read()\n",
    "\n",
    "# let's see what the data object is\n",
    "data"
   ]
  },
  {
   "cell_type": "markdown",
   "metadata": {},
   "source": [
    "Since `data` is a string, we can use the `print()` function to display the contents of the file:"
   ]
  },
  {
   "cell_type": "code",
   "execution_count": 25,
   "metadata": {
    "scrolled": true
   },
   "outputs": [
    {
     "name": "stdout",
     "output_type": "stream",
     "text": [
      "year,parcels_count\n",
      "2004,1175900\n",
      "2005,1148900\n",
      "2006,1190384\n",
      "2007,1346800\n",
      "2008,1432700\n",
      "2009,1527400\n",
      "2010,1564000\n",
      "2011,2176900\n",
      "2012,2602700\n",
      "2013,2987800\n",
      "2014,3646600\n",
      "2015,4829700\n",
      "2016,5162576\n",
      "\n"
     ]
    }
   ],
   "source": [
    "print(data)"
   ]
  },
  {
   "cell_type": "code",
   "execution_count": 26,
   "metadata": {},
   "outputs": [
    {
     "data": {
      "text/plain": [
       "str"
      ]
     },
     "execution_count": 26,
     "metadata": {},
     "output_type": "execute_result"
    }
   ],
   "source": [
    "type(data)"
   ]
  },
  {
   "cell_type": "markdown",
   "metadata": {},
   "source": [
    "From the above outputs, we know that data is string type, and each line of data has a newline character `\\n`. Let's convert `data` into a List object so we have a list of row data to manipulate.\n",
    "\n",
    "As `data` object is a string, we can use the `.split()` method to split into elements in a list. The `.split()` takes in a delimiter argument. Let's split it with the newline character `\\n` as the delimiter and print the row data."
   ]
  },
  {
   "cell_type": "code",
   "execution_count": 27,
   "metadata": {
    "scrolled": true
   },
   "outputs": [
    {
     "data": {
      "text/plain": [
       "['year,parcels_count',\n",
       " '2004,1175900',\n",
       " '2005,1148900',\n",
       " '2006,1190384',\n",
       " '2007,1346800',\n",
       " '2008,1432700',\n",
       " '2009,1527400',\n",
       " '2010,1564000',\n",
       " '2011,2176900',\n",
       " '2012,2602700',\n",
       " '2013,2987800',\n",
       " '2014,3646600',\n",
       " '2015,4829700',\n",
       " '2016,5162576',\n",
       " '']"
      ]
     },
     "execution_count": 27,
     "metadata": {},
     "output_type": "execute_result"
    }
   ],
   "source": [
    "listrows = data.split(\"\\n\")\n",
    "type(listrows)\n",
    "listrows"
   ]
  },
  {
   "cell_type": "code",
   "execution_count": 28,
   "metadata": {},
   "outputs": [
    {
     "data": {
      "text/plain": [
       "15"
      ]
     },
     "execution_count": 28,
     "metadata": {},
     "output_type": "execute_result"
    }
   ],
   "source": [
    "len(listrows)"
   ]
  },
  {
   "cell_type": "markdown",
   "metadata": {},
   "source": [
    "We can see that each element is another string and it is delimited by a comma `,` character. For now, let's practice writing a `for` loop to iterate through row data."
   ]
  },
  {
   "cell_type": "code",
   "execution_count": 29,
   "metadata": {},
   "outputs": [],
   "source": [
    "# for lrow in listrows:\n",
    "#     lrow.split(\",\")\n",
    "# listrows"
   ]
  },
  {
   "cell_type": "markdown",
   "metadata": {},
   "source": [
    "Not much different from when we were just printing out the data from reading in the file but we can do more with a List object. What other things can we do with the row data?"
   ]
  },
  {
   "cell_type": "markdown",
   "metadata": {},
   "source": [
    "Let's say we want to count the total number number of parcels in the data set. How would you do this?"
   ]
  },
  {
   "cell_type": "code",
   "execution_count": 66,
   "metadata": {
    "scrolled": true
   },
   "outputs": [
    {
     "name": "stdout",
     "output_type": "stream",
     "text": [
      "The total number of parcels is 30792360\n"
     ]
    }
   ],
   "source": [
    "total_parcels = 0\n",
    "for row in listrows[1:-1]:\n",
    "    year, parcels_string = row.split(',')\n",
    "    total_parcels = total_parcels + int(parcels_string)\n",
    "    \n",
    "print(\"The total number of parcels is \" + str(total_parcels))\n",
    "\n"
   ]
  },
  {
   "cell_type": "markdown",
   "metadata": {},
   "source": [
    "How do we solve the above error and get the total number of parcels?"
   ]
  },
  {
   "cell_type": "code",
   "execution_count": null,
   "metadata": {
    "collapsed": true
   },
   "outputs": [],
   "source": []
  },
  {
   "cell_type": "code",
   "execution_count": null,
   "metadata": {
    "collapsed": true
   },
   "outputs": [],
   "source": []
  },
  {
   "cell_type": "code",
   "execution_count": null,
   "metadata": {
    "collapsed": true
   },
   "outputs": [],
   "source": []
  },
  {
   "cell_type": "code",
   "execution_count": null,
   "metadata": {
    "collapsed": true
   },
   "outputs": [],
   "source": []
  },
  {
   "cell_type": "code",
   "execution_count": null,
   "metadata": {
    "collapsed": true
   },
   "outputs": [],
   "source": []
  },
  {
   "cell_type": "code",
   "execution_count": null,
   "metadata": {
    "collapsed": true
   },
   "outputs": [],
   "source": []
  },
  {
   "cell_type": "code",
   "execution_count": null,
   "metadata": {
    "collapsed": true
   },
   "outputs": [],
   "source": []
  },
  {
   "cell_type": "code",
   "execution_count": 31,
   "metadata": {},
   "outputs": [
    {
     "name": "stdout",
     "output_type": "stream",
     "text": [
      "2004,1175900\n",
      "2005,1148900\n",
      "2006,1190384\n",
      "2007,1346800\n",
      "2008,1432700\n",
      "2009,1527400\n",
      "2010,1564000\n",
      "2011,2176900\n",
      "2012,2602700\n",
      "2013,2987800\n",
      "2014,3646600\n",
      "2015,4829700\n",
      "2016,5162576\n",
      "The total number of parcels is 30792360\n"
     ]
    }
   ],
   "source": [
    "for i in range(1, len(listrows)-1):\n",
    "    print (listrows[i])\n",
    "    year, parcels_string = listrows[i].split(',')\n",
    "    total_parcels = total_parcels + int(parcels_string)\n",
    "print(\"The total number of parcels is \" + str(total_parcels))"
   ]
  },
  {
   "cell_type": "markdown",
   "metadata": {
    "collapsed": true
   },
   "source": [
    "<center>\n",
    "  <a href=\"1.9-Working-with-data-sources.ipynb\">Previous Page</a> | <a href=\"./\">Content Page</a> | <a href=\"11.1-working-with-databases.ipynb\">Next Page</a></center>\n",
    "</center>"
   ]
  },
  {
   "cell_type": "code",
   "execution_count": 35,
   "metadata": {},
   "outputs": [
    {
     "name": "stdout",
     "output_type": "stream",
     "text": [
      "2004,1175900\n",
      "2005,1148900\n",
      "2006,1190384\n",
      "2007,1346800\n",
      "2008,1432700\n",
      "2009,1527400\n",
      "2010,1564000\n",
      "2011,2176900\n",
      "2012,2602700\n",
      "2013,2987800\n",
      "2014,3646600\n",
      "2015,4829700\n",
      "2016,5162576\n",
      "The total year is 26130\n"
     ]
    }
   ],
   "source": [
    "total_year = 0\n",
    "for i in range(1, len(listrows)-1):\n",
    "    print (listrows[i])\n",
    "    year, parcels_string = listrows[i].split(',')\n",
    "    total_year = int(year) + total_year\n",
    "print(\"The total year is \" + str(total_year))"
   ]
  },
  {
   "cell_type": "code",
   "execution_count": null,
   "metadata": {},
   "outputs": [],
   "source": []
  }
 ],
 "metadata": {
  "kernelspec": {
   "display_name": "Python 3 (ipykernel)",
   "language": "python",
   "name": "python3"
  },
  "language_info": {
   "codemirror_mode": {
    "name": "ipython",
    "version": 3
   },
   "file_extension": ".py",
   "mimetype": "text/x-python",
   "name": "python",
   "nbconvert_exporter": "python",
   "pygments_lexer": "ipython3",
   "version": "3.9.12"
  }
 },
 "nbformat": 4,
 "nbformat_minor": 2
}
