{
 "cells": [
  {
   "cell_type": "markdown",
   "metadata": {},
   "source": [
    "<center>\n",
    "  <a href=\"1.6.Control-Flow.ipynb\">Previous Page</a> | <a href=\"./\">Content Page</a> | <a href=\"1.8-Modules-and-Classes.ipynb\">Next Page</a></center>\n",
    "</center>"
   ]
  },
  {
   "cell_type": "markdown",
   "metadata": {},
   "source": [
    "# 1.7 Reading and Writing Files in Python"
   ]
  },
  {
   "cell_type": "markdown",
   "metadata": {},
   "source": [
    "##### About File\n",
    "- Files have many types such as images (bmp), text documents (txt, word), executables (com, exe, sh), and others. \n",
    "- Files exist in individual folders. Moving folders to folders requires `os` library\n",
    "- Python recognizes text or binary files, and these two types are different. \n",
    "\n",
    "<b>Binary</b>\n",
    "Binary files can only be opened and written by an application that understand the file’s structure. For instance, docx can only be opened and written by Word.  Zip file cannot be opened by Word.  Python has many libraries, and thus can read and manipulate these files easily. Below, we use one of the libraries to read and write Excel files\n",
    "\n",
    "<b>Text</b>\n",
    "- Text files are structured as a sequence of lines.\n",
    "- Every line is terminated with an EOL or End of Line character such as newline character. EOF tells the interpreter (.i.e., Python that the current line ends and a new one has begun). \n",
    "\n",
    "\n"
   ]
  },
  {
   "cell_type": "markdown",
   "metadata": {},
   "source": [
    "In Python, to read a file or to writing one, <b> the built-in open () </b> function is used. \n",
    "\n",
    "To read or to write a file object in Python, we use the command: \n",
    "* file_object  = open(“filename”, “mode”) \n",
    "  * where file_object is the variable to add the file object. \n",
    "  * The second argument – mode – tells the interpreter whether we want to read or write.\n",
    "\n",
    "<b>Mode</b>\n",
    "\n",
    "    Character Meaning\n",
    "    --------- ---------------------------------------------------------------\n",
    "    'r'       open for reading (default)\n",
    "    'w'       open for writing, truncating the file first\n",
    "    'x'       create a new file and open it for writing\n",
    "    'a'       open for writing, appending to the end of the file if it exists\n"
   ]
  },
  {
   "cell_type": "markdown",
   "metadata": {},
   "source": [
    "## 1.7.1 Writing a text file"
   ]
  },
  {
   "cell_type": "code",
   "execution_count": 2,
   "metadata": {},
   "outputs": [],
   "source": [
    "\n",
    "file = open('hello.txt','a') \n",
    " \n",
    "file.write('Hello World') \n",
    "file.write('This is a basic Python for Data Science Class') \n",
    "file.write('We first learn Basic Syntax') \n",
    "file.write('Later, we will learn visualization') \n",
    " \n",
    "file.close() "
   ]
  },
  {
   "cell_type": "markdown",
   "metadata": {},
   "source": [
    "## 1.7.2 Reading a file"
   ]
  },
  {
   "cell_type": "code",
   "execution_count": 3,
   "metadata": {},
   "outputs": [
    {
     "name": "stdout",
     "output_type": "stream",
     "text": [
      "Hello WorldThis is a basic Python for Data Science ClassWe first learn Basic SyntaxLater, we will learn visualizationHello WorldThis is a basic Python for Data Science ClassWe first learn Basic SyntaxLater, we will learn visualization\n"
     ]
    }
   ],
   "source": [
    "file = open('hello.txt', 'r') \n",
    "print (file.read())"
   ]
  },
  {
   "cell_type": "markdown",
   "metadata": {},
   "source": [
    "<b>Adding a newline (EOF) in text \\n"
   ]
  },
  {
   "cell_type": "code",
   "execution_count": 4,
   "metadata": {},
   "outputs": [],
   "source": [
    "\n",
    "file = open('hello1.txt','w') \n",
    " \n",
    "file.write('Hello World\\n') \n",
    "file.write('This is a basic Python for Data Science Cla|ss\\n') \n",
    "file.write('We first learn Basic Syntax\\n') \n",
    "file.write('Later, we will learn visualization\\n') \n",
    " \n",
    "file.close() "
   ]
  },
  {
   "cell_type": "code",
   "execution_count": 5,
   "metadata": {},
   "outputs": [
    {
     "name": "stdout",
     "output_type": "stream",
     "text": [
      "Hello World\n",
      "This is a basic Python for Data Science Cla|ss\n",
      "We first learn Basic Syntax\n",
      "Later, we will learn visualization\n",
      "\n"
     ]
    }
   ],
   "source": [
    "file = open('hello1.txt', 'r') \n",
    "print (file.read())"
   ]
  },
  {
   "cell_type": "code",
   "execution_count": null,
   "metadata": {
    "collapsed": true
   },
   "outputs": [],
   "source": []
  },
  {
   "cell_type": "markdown",
   "metadata": {},
   "source": [
    "## 1.7.3 Writing an Excel file"
   ]
  },
  {
   "cell_type": "code",
   "execution_count": 1,
   "metadata": {},
   "outputs": [],
   "source": [
    "import openpyxl"
   ]
  },
  {
   "cell_type": "code",
   "execution_count": 2,
   "metadata": {
    "collapsed": true
   },
   "outputs": [],
   "source": [
    "from openpyxl import Workbook"
   ]
  },
  {
   "cell_type": "code",
   "execution_count": 3,
   "metadata": {
    "collapsed": true
   },
   "outputs": [],
   "source": [
    "wb =openpyxl.Workbook() #opening a new workboook"
   ]
  },
  {
   "cell_type": "code",
   "execution_count": 4,
   "metadata": {
    "scrolled": false
   },
   "outputs": [
    {
     "name": "stderr",
     "output_type": "stream",
     "text": [
      "C:\\ProgramData\\Anaconda2\\envs\\ipykernel_py3\\lib\\site-packages\\ipykernel_launcher.py:1: DeprecationWarning: Call to deprecated function get_sheet_names (Use wb.sheetnames).\n",
      "  \"\"\"Entry point for launching an IPython kernel.\n"
     ]
    },
    {
     "data": {
      "text/plain": [
       "['Sheet']"
      ]
     },
     "execution_count": 4,
     "metadata": {},
     "output_type": "execute_result"
    }
   ],
   "source": [
    "wb.get_sheet_names() #getting the name of the sheet"
   ]
  },
  {
   "cell_type": "code",
   "execution_count": 5,
   "metadata": {},
   "outputs": [
    {
     "data": {
      "text/plain": [
       "['Sheet']"
      ]
     },
     "execution_count": 5,
     "metadata": {},
     "output_type": "execute_result"
    }
   ],
   "source": [
    "wb.sheetnames"
   ]
  },
  {
   "cell_type": "code",
   "execution_count": 6,
   "metadata": {},
   "outputs": [
    {
     "name": "stderr",
     "output_type": "stream",
     "text": [
      "C:\\ProgramData\\Anaconda2\\envs\\ipykernel_py3\\lib\\site-packages\\ipykernel_launcher.py:1: DeprecationWarning: Call to deprecated function get_active_sheet (Use the .active property).\n",
      "  \"\"\"Entry point for launching an IPython kernel.\n"
     ]
    }
   ],
   "source": [
    "sheet = wb.get_active_sheet() #make the current sheet active"
   ]
  },
  {
   "cell_type": "code",
   "execution_count": 7,
   "metadata": {
    "collapsed": true
   },
   "outputs": [],
   "source": [
    "sheet =wb.active #new version :make the current sheet active"
   ]
  },
  {
   "cell_type": "code",
   "execution_count": 8,
   "metadata": {},
   "outputs": [
    {
     "data": {
      "text/plain": [
       "'Sheet'"
      ]
     },
     "execution_count": 8,
     "metadata": {},
     "output_type": "execute_result"
    }
   ],
   "source": [
    "sheet.title"
   ]
  },
  {
   "cell_type": "code",
   "execution_count": 9,
   "metadata": {
    "collapsed": true
   },
   "outputs": [],
   "source": [
    "sheet.title = \"Python for Data Science\""
   ]
  },
  {
   "cell_type": "code",
   "execution_count": 10,
   "metadata": {
    "scrolled": true
   },
   "outputs": [
    {
     "data": {
      "text/plain": [
       "<Worksheet \"Sheet\">"
      ]
     },
     "execution_count": 10,
     "metadata": {},
     "output_type": "execute_result"
    }
   ],
   "source": [
    "wb.create_sheet()"
   ]
  },
  {
   "cell_type": "code",
   "execution_count": 11,
   "metadata": {},
   "outputs": [
    {
     "data": {
      "text/plain": [
       "<Worksheet \"Another Sheet\">"
      ]
     },
     "execution_count": 11,
     "metadata": {},
     "output_type": "execute_result"
    }
   ],
   "source": [
    "wb.create_sheet(index=4, title='Another Sheet')"
   ]
  },
  {
   "cell_type": "code",
   "execution_count": 12,
   "metadata": {},
   "outputs": [
    {
     "data": {
      "text/plain": [
       "['Python for Data Science', 'Sheet', 'Another Sheet']"
      ]
     },
     "execution_count": 12,
     "metadata": {},
     "output_type": "execute_result"
    }
   ],
   "source": [
    "wb.sheetnames"
   ]
  },
  {
   "cell_type": "code",
   "execution_count": null,
   "metadata": {
    "collapsed": true
   },
   "outputs": [],
   "source": []
  },
  {
   "cell_type": "code",
   "execution_count": 13,
   "metadata": {
    "scrolled": true
   },
   "outputs": [
    {
     "name": "stderr",
     "output_type": "stream",
     "text": [
      "C:\\ProgramData\\Anaconda2\\envs\\ipykernel_py3\\lib\\site-packages\\ipykernel_launcher.py:1: DeprecationWarning: Call to deprecated function get_sheet_by_name (Use wb[sheetname]).\n",
      "  \"\"\"Entry point for launching an IPython kernel.\n"
     ]
    }
   ],
   "source": [
    "sheet= wb.get_sheet_by_name('Python for Data Science') #making Python for Data Science active"
   ]
  },
  {
   "cell_type": "code",
   "execution_count": 14,
   "metadata": {
    "collapsed": true
   },
   "outputs": [],
   "source": [
    "sheet=wb['Python for Data Science']"
   ]
  },
  {
   "cell_type": "code",
   "execution_count": 15,
   "metadata": {
    "collapsed": true
   },
   "outputs": [],
   "source": [
    "sheet['A1']='Hello World'"
   ]
  },
  {
   "cell_type": "code",
   "execution_count": 16,
   "metadata": {
    "collapsed": true
   },
   "outputs": [],
   "source": [
    "sheet['B1']='Countries'"
   ]
  },
  {
   "cell_type": "code",
   "execution_count": 17,
   "metadata": {
    "collapsed": true
   },
   "outputs": [],
   "source": [
    "sheet['B2']='Malaysia'"
   ]
  },
  {
   "cell_type": "code",
   "execution_count": 18,
   "metadata": {
    "collapsed": true
   },
   "outputs": [],
   "source": [
    "sheet['B3']='Australia'"
   ]
  },
  {
   "cell_type": "code",
   "execution_count": 19,
   "metadata": {
    "collapsed": true
   },
   "outputs": [],
   "source": [
    "sheet['B4']='Vietnam'"
   ]
  },
  {
   "cell_type": "code",
   "execution_count": 20,
   "metadata": {
    "collapsed": true
   },
   "outputs": [],
   "source": [
    "sheet['B5']='Singapore'"
   ]
  },
  {
   "cell_type": "code",
   "execution_count": 21,
   "metadata": {
    "collapsed": true
   },
   "outputs": [],
   "source": [
    "wb.save('myExcel.xlsx')"
   ]
  },
  {
   "cell_type": "markdown",
   "metadata": {},
   "source": [
    "## 1.7.4. Reading an Excel file"
   ]
  },
  {
   "cell_type": "code",
   "execution_count": 22,
   "metadata": {
    "collapsed": true
   },
   "outputs": [],
   "source": [
    "import openpyxl\n",
    "wb = openpyxl.load_workbook('myExcel.xlsx')"
   ]
  },
  {
   "cell_type": "code",
   "execution_count": 23,
   "metadata": {
    "collapsed": true
   },
   "outputs": [],
   "source": [
    "sheet = wb['Python for Data Science']"
   ]
  },
  {
   "cell_type": "code",
   "execution_count": 24,
   "metadata": {},
   "outputs": [
    {
     "data": {
      "text/plain": [
       "'A1'"
      ]
     },
     "execution_count": 24,
     "metadata": {},
     "output_type": "execute_result"
    }
   ],
   "source": [
    "sheet['A1'].coordinate"
   ]
  },
  {
   "cell_type": "code",
   "execution_count": 25,
   "metadata": {},
   "outputs": [
    {
     "data": {
      "text/plain": [
       "'Hello World'"
      ]
     },
     "execution_count": 25,
     "metadata": {},
     "output_type": "execute_result"
    }
   ],
   "source": [
    "sheet['A1'].value"
   ]
  },
  {
   "cell_type": "markdown",
   "metadata": {},
   "source": [
    "#### Another way to read Excel using Pandas (Preview of Pandas)\n",
    "we need lrd > pip install lrd"
   ]
  },
  {
   "cell_type": "code",
   "execution_count": 6,
   "metadata": {},
   "outputs": [],
   "source": [
    "import pandas as pd\n",
    "from pandas import ExcelWriter\n",
    "from pandas import ExcelFile\n"
   ]
  },
  {
   "cell_type": "code",
   "execution_count": 7,
   "metadata": {},
   "outputs": [],
   "source": [
    "df=pd.read_excel('myExcel.xlsx', sheet_name='Python for Data Science')"
   ]
  },
  {
   "cell_type": "code",
   "execution_count": 8,
   "metadata": {},
   "outputs": [
    {
     "name": "stdout",
     "output_type": "stream",
     "text": [
      "Column headings:\n",
      "Index(['Hello World', 'Countries'], dtype='object')\n"
     ]
    }
   ],
   "source": [
    "print(\"Column headings:\")\n",
    "print(df.columns)"
   ]
  },
  {
   "cell_type": "code",
   "execution_count": 9,
   "metadata": {},
   "outputs": [
    {
     "data": {
      "text/html": [
       "<div>\n",
       "<style scoped>\n",
       "    .dataframe tbody tr th:only-of-type {\n",
       "        vertical-align: middle;\n",
       "    }\n",
       "\n",
       "    .dataframe tbody tr th {\n",
       "        vertical-align: top;\n",
       "    }\n",
       "\n",
       "    .dataframe thead th {\n",
       "        text-align: right;\n",
       "    }\n",
       "</style>\n",
       "<table border=\"1\" class=\"dataframe\">\n",
       "  <thead>\n",
       "    <tr style=\"text-align: right;\">\n",
       "      <th></th>\n",
       "      <th>Hello World</th>\n",
       "      <th>Countries</th>\n",
       "    </tr>\n",
       "  </thead>\n",
       "  <tbody>\n",
       "    <tr>\n",
       "      <th>0</th>\n",
       "      <td>NaN</td>\n",
       "      <td>Malaysia</td>\n",
       "    </tr>\n",
       "    <tr>\n",
       "      <th>1</th>\n",
       "      <td>NaN</td>\n",
       "      <td>Australia</td>\n",
       "    </tr>\n",
       "    <tr>\n",
       "      <th>2</th>\n",
       "      <td>NaN</td>\n",
       "      <td>Vietnam</td>\n",
       "    </tr>\n",
       "    <tr>\n",
       "      <th>3</th>\n",
       "      <td>NaN</td>\n",
       "      <td>Singapore</td>\n",
       "    </tr>\n",
       "  </tbody>\n",
       "</table>\n",
       "</div>"
      ],
      "text/plain": [
       "   Hello World  Countries\n",
       "0          NaN   Malaysia\n",
       "1          NaN  Australia\n",
       "2          NaN    Vietnam\n",
       "3          NaN  Singapore"
      ]
     },
     "execution_count": 9,
     "metadata": {},
     "output_type": "execute_result"
    }
   ],
   "source": [
    "df"
   ]
  },
  {
   "cell_type": "code",
   "execution_count": 10,
   "metadata": {
    "scrolled": true
   },
   "outputs": [
    {
     "data": {
      "text/plain": [
       "RangeIndex(start=0, stop=4, step=1)"
      ]
     },
     "execution_count": 10,
     "metadata": {},
     "output_type": "execute_result"
    }
   ],
   "source": [
    "df.index"
   ]
  },
  {
   "cell_type": "code",
   "execution_count": 11,
   "metadata": {},
   "outputs": [
    {
     "name": "stdout",
     "output_type": "stream",
     "text": [
      "0\n",
      "1\n",
      "2\n",
      "3\n"
     ]
    }
   ],
   "source": [
    "for i in range(0, 4, 1):\n",
    "    print (i)"
   ]
  },
  {
   "cell_type": "code",
   "execution_count": 12,
   "metadata": {},
   "outputs": [
    {
     "name": "stdout",
     "output_type": "stream",
     "text": [
      "Malaysia\n",
      "Australia\n",
      "Vietnam\n",
      "Singapore\n"
     ]
    }
   ],
   "source": [
    "for i in df.index:\n",
    "    print(df['Countries'][i])"
   ]
  },
  {
   "cell_type": "markdown",
   "metadata": {},
   "source": [
    "### Exercise\n",
    "* Read resale.xlsx\n",
    "* Print the columns\n",
    "* Find a flat which is lower than $200,000"
   ]
  },
  {
   "cell_type": "markdown",
   "metadata": {},
   "source": [
    "* Read resale.xlsx\n"
   ]
  },
  {
   "cell_type": "code",
   "execution_count": 18,
   "metadata": {
    "scrolled": true
   },
   "outputs": [],
   "source": [
    "import pandas as pd\n",
    "df=pd.read_excel('resale.xlsx')"
   ]
  },
  {
   "cell_type": "markdown",
   "metadata": {},
   "source": [
    "* Print the columns"
   ]
  },
  {
   "cell_type": "code",
   "execution_count": 19,
   "metadata": {},
   "outputs": [
    {
     "name": "stdout",
     "output_type": "stream",
     "text": [
      "Column headings:\n",
      "Index(['quarter', 'town', 'flat_type', 'price'], dtype='object')\n"
     ]
    }
   ],
   "source": [
    "print(\"Column headings:\")\n",
    "print(df.columns)"
   ]
  },
  {
   "cell_type": "markdown",
   "metadata": {},
   "source": [
    "* Find a flat which is lower than $200,000"
   ]
  },
  {
   "cell_type": "code",
   "execution_count": 22,
   "metadata": {
    "scrolled": true
   },
   "outputs": [
    {
     "data": {
      "text/plain": [
       "0         False\n",
       "1         False\n",
       "2         False\n",
       "3         False\n",
       "4         False\n",
       "          ...  \n",
       "102095    False\n",
       "102096    False\n",
       "102097    False\n",
       "102098    False\n",
       "102099    False\n",
       "Name: price, Length: 102100, dtype: bool"
      ]
     },
     "execution_count": 22,
     "metadata": {},
     "output_type": "execute_result"
    }
   ],
   "source": [
    "(df['price']< 200000)"
   ]
  },
  {
   "cell_type": "code",
   "execution_count": 26,
   "metadata": {
    "scrolled": false
   },
   "outputs": [
    {
     "data": {
      "text/html": [
       "<div>\n",
       "<style scoped>\n",
       "    .dataframe tbody tr th:only-of-type {\n",
       "        vertical-align: middle;\n",
       "    }\n",
       "\n",
       "    .dataframe tbody tr th {\n",
       "        vertical-align: top;\n",
       "    }\n",
       "\n",
       "    .dataframe thead th {\n",
       "        text-align: right;\n",
       "    }\n",
       "</style>\n",
       "<table border=\"1\" class=\"dataframe\">\n",
       "  <thead>\n",
       "    <tr style=\"text-align: right;\">\n",
       "      <th></th>\n",
       "      <th>quarter</th>\n",
       "      <th>town</th>\n",
       "      <th>flat_type</th>\n",
       "      <th>price</th>\n",
       "    </tr>\n",
       "  </thead>\n",
       "  <tbody>\n",
       "    <tr>\n",
       "      <th>15088</th>\n",
       "      <td>2012-10</td>\n",
       "      <td>BISHAN</td>\n",
       "      <td>EXECUTIVE</td>\n",
       "      <td>1010000.0</td>\n",
       "    </tr>\n",
       "    <tr>\n",
       "      <th>24736</th>\n",
       "      <td>2013-04</td>\n",
       "      <td>KALLANG/WHAMPOA</td>\n",
       "      <td>3 ROOM</td>\n",
       "      <td>1020000.0</td>\n",
       "    </tr>\n",
       "    <tr>\n",
       "      <th>34050</th>\n",
       "      <td>2013-11</td>\n",
       "      <td>BISHAN</td>\n",
       "      <td>EXECUTIVE</td>\n",
       "      <td>1050000.0</td>\n",
       "    </tr>\n",
       "    <tr>\n",
       "      <th>48187</th>\n",
       "      <td>2014-10</td>\n",
       "      <td>BISHAN</td>\n",
       "      <td>EXECUTIVE</td>\n",
       "      <td>1088888.0</td>\n",
       "    </tr>\n",
       "    <tr>\n",
       "      <th>55008</th>\n",
       "      <td>2015-02</td>\n",
       "      <td>CENTRAL AREA</td>\n",
       "      <td>5 ROOM</td>\n",
       "      <td>1030000.0</td>\n",
       "    </tr>\n",
       "    <tr>\n",
       "      <th>55009</th>\n",
       "      <td>2015-02</td>\n",
       "      <td>CENTRAL AREA</td>\n",
       "      <td>5 ROOM</td>\n",
       "      <td>1040000.0</td>\n",
       "    </tr>\n",
       "    <tr>\n",
       "      <th>56227</th>\n",
       "      <td>2015-03</td>\n",
       "      <td>CENTRAL AREA</td>\n",
       "      <td>5 ROOM</td>\n",
       "      <td>1018000.0</td>\n",
       "    </tr>\n",
       "    <tr>\n",
       "      <th>56586</th>\n",
       "      <td>2015-03</td>\n",
       "      <td>KALLANG/WHAMPOA</td>\n",
       "      <td>3 ROOM</td>\n",
       "      <td>1060000.0</td>\n",
       "    </tr>\n",
       "    <tr>\n",
       "      <th>57419</th>\n",
       "      <td>2015-04</td>\n",
       "      <td>BISHAN</td>\n",
       "      <td>EXECUTIVE</td>\n",
       "      <td>1050000.0</td>\n",
       "    </tr>\n",
       "    <tr>\n",
       "      <th>57624</th>\n",
       "      <td>2015-04</td>\n",
       "      <td>CENTRAL AREA</td>\n",
       "      <td>5 ROOM</td>\n",
       "      <td>1050000.0</td>\n",
       "    </tr>\n",
       "    <tr>\n",
       "      <th>57625</th>\n",
       "      <td>2015-04</td>\n",
       "      <td>CENTRAL AREA</td>\n",
       "      <td>5 ROOM</td>\n",
       "      <td>1060000.0</td>\n",
       "    </tr>\n",
       "    <tr>\n",
       "      <th>64040</th>\n",
       "      <td>2015-08</td>\n",
       "      <td>CENTRAL AREA</td>\n",
       "      <td>5 ROOM</td>\n",
       "      <td>1050000.0</td>\n",
       "    </tr>\n",
       "    <tr>\n",
       "      <th>68753</th>\n",
       "      <td>2015-11</td>\n",
       "      <td>CENTRAL AREA</td>\n",
       "      <td>5 ROOM</td>\n",
       "      <td>1088000.0</td>\n",
       "    </tr>\n",
       "    <tr>\n",
       "      <th>70190</th>\n",
       "      <td>2015-12</td>\n",
       "      <td>CENTRAL AREA</td>\n",
       "      <td>5 ROOM</td>\n",
       "      <td>1018000.0</td>\n",
       "    </tr>\n",
       "    <tr>\n",
       "      <th>71554</th>\n",
       "      <td>2016-01</td>\n",
       "      <td>CENTRAL AREA</td>\n",
       "      <td>5 ROOM</td>\n",
       "      <td>1068888.0</td>\n",
       "    </tr>\n",
       "    <tr>\n",
       "      <th>71555</th>\n",
       "      <td>2016-01</td>\n",
       "      <td>CENTRAL AREA</td>\n",
       "      <td>5 ROOM</td>\n",
       "      <td>1020000.0</td>\n",
       "    </tr>\n",
       "    <tr>\n",
       "      <th>74149</th>\n",
       "      <td>2016-03</td>\n",
       "      <td>CENTRAL AREA</td>\n",
       "      <td>5 ROOM</td>\n",
       "      <td>1050000.0</td>\n",
       "    </tr>\n",
       "    <tr>\n",
       "      <th>74605</th>\n",
       "      <td>2016-03</td>\n",
       "      <td>KALLANG/WHAMPOA</td>\n",
       "      <td>5 ROOM</td>\n",
       "      <td>1004888.0</td>\n",
       "    </tr>\n",
       "    <tr>\n",
       "      <th>77658</th>\n",
       "      <td>2016-05</td>\n",
       "      <td>CENTRAL AREA</td>\n",
       "      <td>5 ROOM</td>\n",
       "      <td>1063888.0</td>\n",
       "    </tr>\n",
       "    <tr>\n",
       "      <th>78179</th>\n",
       "      <td>2016-05</td>\n",
       "      <td>KALLANG/WHAMPOA</td>\n",
       "      <td>5 ROOM</td>\n",
       "      <td>1028000.0</td>\n",
       "    </tr>\n",
       "    <tr>\n",
       "      <th>79455</th>\n",
       "      <td>2016-06</td>\n",
       "      <td>CENTRAL AREA</td>\n",
       "      <td>5 ROOM</td>\n",
       "      <td>1070000.0</td>\n",
       "    </tr>\n",
       "    <tr>\n",
       "      <th>81260</th>\n",
       "      <td>2016-07</td>\n",
       "      <td>CENTRAL AREA</td>\n",
       "      <td>5 ROOM</td>\n",
       "      <td>1040000.0</td>\n",
       "    </tr>\n",
       "    <tr>\n",
       "      <th>81677</th>\n",
       "      <td>2016-07</td>\n",
       "      <td>KALLANG/WHAMPOA</td>\n",
       "      <td>5 ROOM</td>\n",
       "      <td>1025000.0</td>\n",
       "    </tr>\n",
       "    <tr>\n",
       "      <th>82663</th>\n",
       "      <td>2016-08</td>\n",
       "      <td>BISHAN</td>\n",
       "      <td>EXECUTIVE</td>\n",
       "      <td>1050000.0</td>\n",
       "    </tr>\n",
       "    <tr>\n",
       "      <th>82883</th>\n",
       "      <td>2016-08</td>\n",
       "      <td>CENTRAL AREA</td>\n",
       "      <td>5 ROOM</td>\n",
       "      <td>1070000.0</td>\n",
       "    </tr>\n",
       "    <tr>\n",
       "      <th>83034</th>\n",
       "      <td>2016-08</td>\n",
       "      <td>CLEMENTI</td>\n",
       "      <td>5 ROOM</td>\n",
       "      <td>1005000.0</td>\n",
       "    </tr>\n",
       "    <tr>\n",
       "      <th>83460</th>\n",
       "      <td>2016-08</td>\n",
       "      <td>KALLANG/WHAMPOA</td>\n",
       "      <td>5 ROOM</td>\n",
       "      <td>1100000.0</td>\n",
       "    </tr>\n",
       "    <tr>\n",
       "      <th>84762</th>\n",
       "      <td>2016-09</td>\n",
       "      <td>CENTRAL AREA</td>\n",
       "      <td>5 ROOM</td>\n",
       "      <td>1120000.0</td>\n",
       "    </tr>\n",
       "    <tr>\n",
       "      <th>84764</th>\n",
       "      <td>2016-09</td>\n",
       "      <td>CENTRAL AREA</td>\n",
       "      <td>5 ROOM</td>\n",
       "      <td>1055000.0</td>\n",
       "    </tr>\n",
       "    <tr>\n",
       "      <th>86217</th>\n",
       "      <td>2016-10</td>\n",
       "      <td>BISHAN</td>\n",
       "      <td>5 ROOM</td>\n",
       "      <td>1038000.0</td>\n",
       "    </tr>\n",
       "    <tr>\n",
       "      <th>88052</th>\n",
       "      <td>2016-11</td>\n",
       "      <td>CENTRAL AREA</td>\n",
       "      <td>5 ROOM</td>\n",
       "      <td>1100000.0</td>\n",
       "    </tr>\n",
       "    <tr>\n",
       "      <th>88053</th>\n",
       "      <td>2016-11</td>\n",
       "      <td>CENTRAL AREA</td>\n",
       "      <td>5 ROOM</td>\n",
       "      <td>1100000.0</td>\n",
       "    </tr>\n",
       "    <tr>\n",
       "      <th>89947</th>\n",
       "      <td>2016-12</td>\n",
       "      <td>KALLANG/WHAMPOA</td>\n",
       "      <td>3 ROOM</td>\n",
       "      <td>1150000.0</td>\n",
       "    </tr>\n",
       "    <tr>\n",
       "      <th>90919</th>\n",
       "      <td>2017-01</td>\n",
       "      <td>CENTRAL AREA</td>\n",
       "      <td>5 ROOM</td>\n",
       "      <td>1108000.0</td>\n",
       "    </tr>\n",
       "    <tr>\n",
       "      <th>91267</th>\n",
       "      <td>2017-01</td>\n",
       "      <td>KALLANG/WHAMPOA</td>\n",
       "      <td>5 ROOM</td>\n",
       "      <td>1005000.0</td>\n",
       "    </tr>\n",
       "    <tr>\n",
       "      <th>91925</th>\n",
       "      <td>2017-02</td>\n",
       "      <td>BISHAN</td>\n",
       "      <td>5 ROOM</td>\n",
       "      <td>1180000.0</td>\n",
       "    </tr>\n",
       "    <tr>\n",
       "      <th>93095</th>\n",
       "      <td>2017-03</td>\n",
       "      <td>BISHAN</td>\n",
       "      <td>EXECUTIVE</td>\n",
       "      <td>1088000.0</td>\n",
       "    </tr>\n",
       "    <tr>\n",
       "      <th>93314</th>\n",
       "      <td>2017-03</td>\n",
       "      <td>CENTRAL AREA</td>\n",
       "      <td>5 ROOM</td>\n",
       "      <td>1116000.0</td>\n",
       "    </tr>\n",
       "    <tr>\n",
       "      <th>93316</th>\n",
       "      <td>2017-03</td>\n",
       "      <td>CENTRAL AREA</td>\n",
       "      <td>5 ROOM</td>\n",
       "      <td>1046000.0</td>\n",
       "    </tr>\n",
       "    <tr>\n",
       "      <th>95334</th>\n",
       "      <td>2017-04</td>\n",
       "      <td>CLEMENTI</td>\n",
       "      <td>5 ROOM</td>\n",
       "      <td>1020000.0</td>\n",
       "    </tr>\n",
       "    <tr>\n",
       "      <th>95336</th>\n",
       "      <td>2017-04</td>\n",
       "      <td>CLEMENTI</td>\n",
       "      <td>5 ROOM</td>\n",
       "      <td>1040000.0</td>\n",
       "    </tr>\n",
       "    <tr>\n",
       "      <th>96822</th>\n",
       "      <td>2017-05</td>\n",
       "      <td>BISHAN</td>\n",
       "      <td>5 ROOM</td>\n",
       "      <td>1006000.0</td>\n",
       "    </tr>\n",
       "    <tr>\n",
       "      <th>97064</th>\n",
       "      <td>2017-05</td>\n",
       "      <td>BUKIT TIMAH</td>\n",
       "      <td>EXECUTIVE</td>\n",
       "      <td>1015000.0</td>\n",
       "    </tr>\n",
       "    <tr>\n",
       "      <th>97078</th>\n",
       "      <td>2017-05</td>\n",
       "      <td>CENTRAL AREA</td>\n",
       "      <td>5 ROOM</td>\n",
       "      <td>1080000.0</td>\n",
       "    </tr>\n",
       "    <tr>\n",
       "      <th>97079</th>\n",
       "      <td>2017-05</td>\n",
       "      <td>CENTRAL AREA</td>\n",
       "      <td>5 ROOM</td>\n",
       "      <td>1028000.0</td>\n",
       "    </tr>\n",
       "    <tr>\n",
       "      <th>97080</th>\n",
       "      <td>2017-05</td>\n",
       "      <td>CENTRAL AREA</td>\n",
       "      <td>5 ROOM</td>\n",
       "      <td>1058000.0</td>\n",
       "    </tr>\n",
       "    <tr>\n",
       "      <th>98781</th>\n",
       "      <td>2017-06</td>\n",
       "      <td>BISHAN</td>\n",
       "      <td>5 ROOM</td>\n",
       "      <td>1028888.0</td>\n",
       "    </tr>\n",
       "    <tr>\n",
       "      <th>98786</th>\n",
       "      <td>2017-06</td>\n",
       "      <td>BISHAN</td>\n",
       "      <td>EXECUTIVE</td>\n",
       "      <td>1010000.0</td>\n",
       "    </tr>\n",
       "    <tr>\n",
       "      <th>98987</th>\n",
       "      <td>2017-06</td>\n",
       "      <td>CENTRAL AREA</td>\n",
       "      <td>5 ROOM</td>\n",
       "      <td>1080000.0</td>\n",
       "    </tr>\n",
       "    <tr>\n",
       "      <th>100519</th>\n",
       "      <td>2017-07</td>\n",
       "      <td>BISHAN</td>\n",
       "      <td>5 ROOM</td>\n",
       "      <td>1038000.0</td>\n",
       "    </tr>\n",
       "    <tr>\n",
       "      <th>100520</th>\n",
       "      <td>2017-07</td>\n",
       "      <td>BISHAN</td>\n",
       "      <td>5 ROOM</td>\n",
       "      <td>1050000.0</td>\n",
       "    </tr>\n",
       "    <tr>\n",
       "      <th>100522</th>\n",
       "      <td>2017-07</td>\n",
       "      <td>BISHAN</td>\n",
       "      <td>5 ROOM</td>\n",
       "      <td>1028888.0</td>\n",
       "    </tr>\n",
       "    <tr>\n",
       "      <th>100526</th>\n",
       "      <td>2017-07</td>\n",
       "      <td>BISHAN</td>\n",
       "      <td>EXECUTIVE</td>\n",
       "      <td>1080000.0</td>\n",
       "    </tr>\n",
       "    <tr>\n",
       "      <th>101423</th>\n",
       "      <td>2017-07</td>\n",
       "      <td>QUEENSTOWN</td>\n",
       "      <td>5 ROOM</td>\n",
       "      <td>1030000.0</td>\n",
       "    </tr>\n",
       "    <tr>\n",
       "      <th>101427</th>\n",
       "      <td>2017-07</td>\n",
       "      <td>QUEENSTOWN</td>\n",
       "      <td>EXECUTIVE</td>\n",
       "      <td>1160000.0</td>\n",
       "    </tr>\n",
       "    <tr>\n",
       "      <th>101837</th>\n",
       "      <td>2017-07</td>\n",
       "      <td>TOA PAYOH</td>\n",
       "      <td>5 ROOM</td>\n",
       "      <td>1010000.0</td>\n",
       "    </tr>\n",
       "    <tr>\n",
       "      <th>101841</th>\n",
       "      <td>2017-07</td>\n",
       "      <td>TOA PAYOH</td>\n",
       "      <td>5 ROOM</td>\n",
       "      <td>1120000.0</td>\n",
       "    </tr>\n",
       "  </tbody>\n",
       "</table>\n",
       "</div>"
      ],
      "text/plain": [
       "        quarter             town  flat_type      price\n",
       "15088   2012-10           BISHAN  EXECUTIVE  1010000.0\n",
       "24736   2013-04  KALLANG/WHAMPOA     3 ROOM  1020000.0\n",
       "34050   2013-11           BISHAN  EXECUTIVE  1050000.0\n",
       "48187   2014-10           BISHAN  EXECUTIVE  1088888.0\n",
       "55008   2015-02     CENTRAL AREA     5 ROOM  1030000.0\n",
       "55009   2015-02     CENTRAL AREA     5 ROOM  1040000.0\n",
       "56227   2015-03     CENTRAL AREA     5 ROOM  1018000.0\n",
       "56586   2015-03  KALLANG/WHAMPOA     3 ROOM  1060000.0\n",
       "57419   2015-04           BISHAN  EXECUTIVE  1050000.0\n",
       "57624   2015-04     CENTRAL AREA     5 ROOM  1050000.0\n",
       "57625   2015-04     CENTRAL AREA     5 ROOM  1060000.0\n",
       "64040   2015-08     CENTRAL AREA     5 ROOM  1050000.0\n",
       "68753   2015-11     CENTRAL AREA     5 ROOM  1088000.0\n",
       "70190   2015-12     CENTRAL AREA     5 ROOM  1018000.0\n",
       "71554   2016-01     CENTRAL AREA     5 ROOM  1068888.0\n",
       "71555   2016-01     CENTRAL AREA     5 ROOM  1020000.0\n",
       "74149   2016-03     CENTRAL AREA     5 ROOM  1050000.0\n",
       "74605   2016-03  KALLANG/WHAMPOA     5 ROOM  1004888.0\n",
       "77658   2016-05     CENTRAL AREA     5 ROOM  1063888.0\n",
       "78179   2016-05  KALLANG/WHAMPOA     5 ROOM  1028000.0\n",
       "79455   2016-06     CENTRAL AREA     5 ROOM  1070000.0\n",
       "81260   2016-07     CENTRAL AREA     5 ROOM  1040000.0\n",
       "81677   2016-07  KALLANG/WHAMPOA     5 ROOM  1025000.0\n",
       "82663   2016-08           BISHAN  EXECUTIVE  1050000.0\n",
       "82883   2016-08     CENTRAL AREA     5 ROOM  1070000.0\n",
       "83034   2016-08         CLEMENTI     5 ROOM  1005000.0\n",
       "83460   2016-08  KALLANG/WHAMPOA     5 ROOM  1100000.0\n",
       "84762   2016-09     CENTRAL AREA     5 ROOM  1120000.0\n",
       "84764   2016-09     CENTRAL AREA     5 ROOM  1055000.0\n",
       "86217   2016-10           BISHAN     5 ROOM  1038000.0\n",
       "88052   2016-11     CENTRAL AREA     5 ROOM  1100000.0\n",
       "88053   2016-11     CENTRAL AREA     5 ROOM  1100000.0\n",
       "89947   2016-12  KALLANG/WHAMPOA     3 ROOM  1150000.0\n",
       "90919   2017-01     CENTRAL AREA     5 ROOM  1108000.0\n",
       "91267   2017-01  KALLANG/WHAMPOA     5 ROOM  1005000.0\n",
       "91925   2017-02           BISHAN     5 ROOM  1180000.0\n",
       "93095   2017-03           BISHAN  EXECUTIVE  1088000.0\n",
       "93314   2017-03     CENTRAL AREA     5 ROOM  1116000.0\n",
       "93316   2017-03     CENTRAL AREA     5 ROOM  1046000.0\n",
       "95334   2017-04         CLEMENTI     5 ROOM  1020000.0\n",
       "95336   2017-04         CLEMENTI     5 ROOM  1040000.0\n",
       "96822   2017-05           BISHAN     5 ROOM  1006000.0\n",
       "97064   2017-05      BUKIT TIMAH  EXECUTIVE  1015000.0\n",
       "97078   2017-05     CENTRAL AREA     5 ROOM  1080000.0\n",
       "97079   2017-05     CENTRAL AREA     5 ROOM  1028000.0\n",
       "97080   2017-05     CENTRAL AREA     5 ROOM  1058000.0\n",
       "98781   2017-06           BISHAN     5 ROOM  1028888.0\n",
       "98786   2017-06           BISHAN  EXECUTIVE  1010000.0\n",
       "98987   2017-06     CENTRAL AREA     5 ROOM  1080000.0\n",
       "100519  2017-07           BISHAN     5 ROOM  1038000.0\n",
       "100520  2017-07           BISHAN     5 ROOM  1050000.0\n",
       "100522  2017-07           BISHAN     5 ROOM  1028888.0\n",
       "100526  2017-07           BISHAN  EXECUTIVE  1080000.0\n",
       "101423  2017-07       QUEENSTOWN     5 ROOM  1030000.0\n",
       "101427  2017-07       QUEENSTOWN  EXECUTIVE  1160000.0\n",
       "101837  2017-07        TOA PAYOH     5 ROOM  1010000.0\n",
       "101841  2017-07        TOA PAYOH     5 ROOM  1120000.0"
      ]
     },
     "execution_count": 26,
     "metadata": {},
     "output_type": "execute_result"
    }
   ],
   "source": [
    "df[(df['price']> 1000000)]"
   ]
  },
  {
   "cell_type": "code",
   "execution_count": 24,
   "metadata": {},
   "outputs": [
    {
     "data": {
      "text/plain": [
       "(102100, 4)"
      ]
     },
     "execution_count": 24,
     "metadata": {},
     "output_type": "execute_result"
    }
   ],
   "source": [
    "df.shape"
   ]
  },
  {
   "cell_type": "markdown",
   "metadata": {},
   "source": [
    "####  More detailed information about read files: https://pythonspot.com/en/python-database/"
   ]
  },
  {
   "cell_type": "markdown",
   "metadata": {
    "collapsed": true
   },
   "source": [
    "<center>\n",
    "  <a href=\"1.6.Control-Flow.ipynb\">Previous Page</a> | <a href=\"./\">Content Page</a> | <a href=\"1.8-Modules-and-Classes.ipynb\">Next Page</a></center>\n",
    "</center>"
   ]
  },
  {
   "cell_type": "code",
   "execution_count": null,
   "metadata": {
    "collapsed": true
   },
   "outputs": [],
   "source": [
    "."
   ]
  },
  {
   "cell_type": "markdown",
   "metadata": {
    "collapsed": true
   },
   "source": [
    "```\n",
    "\n",
    "ipykernel_py3) C:\\>pip install openpyxl\n",
    "Collecting openpyxl\n",
    "  Downloading https://files.pythonhosted.org/packages/dc/99/9c58d83d7f093c0af5f90875f8595d2e9587fc36532a8bb347608cf0876b/openpyxl-2.5.3.tar.gz (170kB)\n",
    "    100% |████████████████████████████████| 174kB 4.9MB/s\n",
    "Collecting jdcal (from openpyxl)\n",
    "  Downloading https://files.pythonhosted.org/packages/a0/38/dcf83532480f25284f3ef13f8ed63e03c58a65c9d3ba2a6a894ed9497207/jdcal-1.4-py2.py3-none-any.whl\n",
    "Collecting et_xmlfile (from openpyxl)\n",
    "  Downloading https://files.pythonhosted.org/packages/22/28/a99c42aea746e18382ad9fb36f64c1c1f04216f41797f2f0fa567da11388/et_xmlfile-1.0.1.tar.gz\n",
    "Building wheels for collected packages: openpyxl, et-xmlfile\n",
    "  Running setup.py bdist_wheel for openpyxl ... done\n",
    "  Stored in directory: C:\\Users\\slelycj\\AppData\\Local\\pip\\Cache\\wheels\\11\\7d\\47\\3dad56b5d260c790d9110623ba66783a2ad345eb76dd63003b\n",
    "  Running setup.py bdist_wheel for et-xmlfile ... done\n",
    "  Stored in directory: C:\\Users\\slelycj\\AppData\\Local\\pip\\Cache\\wheels\\2a\\77\\35\\0da0965a057698121fc7d8c5a7a9955cdbfb3cc4e2423cad39\n",
    "Successfully built openpyxl et-xmlfile\n",
    "Installing collected packages: jdcal, et-xmlfile, openpyxl\n",
    "Successfully installed et-xmlfile-1.0.1 jdcal-1.4 openpyxl-2.5.3\n",
    "Cache entry deserialization failed, entry ignored\n",
    "You are using pip version 9.0.1, however version 10.0.1 is available.\n",
    "You should consider upgrading via the 'python -m pip install --upgrade pip' command.\n",
    "```\n"
   ]
  },
  {
   "cell_type": "code",
   "execution_count": null,
   "metadata": {
    "collapsed": true
   },
   "outputs": [],
   "source": [
    "```\n",
    "---------------------------------------------------------------------------\n",
    "ModuleNotFoundError                       Traceback (most recent call last)\n",
    "C:\\ProgramData\\Anaconda2\\envs\\ipykernel_py3\\lib\\site-packages\\pandas\\io\\excel.py in __init__(self, io, **kwds)\n",
    "    260         try:\n",
    "--> 261             import xlrd\n",
    "    262         except ImportError:\n",
    "\n",
    "ModuleNotFoundError: No module named 'xlrd'\n",
    "\n",
    "During handling of the above exception, another exception occurred:\n",
    "\n",
    "ImportError                               Traceback (most recent call last)\n",
    "<ipython-input-39-2609dd3da735> in <module>()\n",
    "----> 1 df=pd.read_excel('myExcel.xlsx', sheet_name='Python for Data Science')\n",
    "\n",
    "C:\\ProgramData\\Anaconda2\\envs\\ipykernel_py3\\lib\\site-packages\\pandas\\util\\_decorators.py in wrapper(*args, **kwargs)\n",
    "    116                 else:\n",
    "    117                     kwargs[new_arg_name] = new_arg_value\n",
    "--> 118             return func(*args, **kwargs)\n",
    "    119         return wrapper\n",
    "    120     return _deprecate_kwarg\n",
    "\n",
    "C:\\ProgramData\\Anaconda2\\envs\\ipykernel_py3\\lib\\site-packages\\pandas\\io\\excel.py in read_excel(io, sheet_name, header, skiprows, skip_footer, index_col, names, usecols, parse_dates, date_parser, na_values, thousands, convert_float, converters, dtype, true_values, false_values, engine, squeeze, **kwds)\n",
    "    228 \n",
    "    229     if not isinstance(io, ExcelFile):\n",
    "--> 230         io = ExcelFile(io, engine=engine)\n",
    "    231 \n",
    "    232     return io._parse_excel(\n",
    "\n",
    "C:\\ProgramData\\Anaconda2\\envs\\ipykernel_py3\\lib\\site-packages\\pandas\\io\\excel.py in __init__(self, io, **kwds)\n",
    "    261             import xlrd\n",
    "    262         except ImportError:\n",
    "--> 263             raise ImportError(err_msg)\n",
    "    264         else:\n",
    "    265             ver = tuple(map(int, xlrd.__VERSION__.split(\".\")[:2]))\n",
    "\n",
    "ImportError: Install xlrd >= 0.9.0 for Excel support\n",
    "\n",
    "```"
   ]
  },
  {
   "cell_type": "code",
   "execution_count": null,
   "metadata": {
    "collapsed": true
   },
   "outputs": [],
   "source": []
  }
 ],
 "metadata": {
  "kernelspec": {
   "display_name": "Python 3 (ipykernel)",
   "language": "python",
   "name": "python3"
  },
  "language_info": {
   "codemirror_mode": {
    "name": "ipython",
    "version": 3
   },
   "file_extension": ".py",
   "mimetype": "text/x-python",
   "name": "python",
   "nbconvert_exporter": "python",
   "pygments_lexer": "ipython3",
   "version": "3.9.12"
  }
 },
 "nbformat": 4,
 "nbformat_minor": 2
}
