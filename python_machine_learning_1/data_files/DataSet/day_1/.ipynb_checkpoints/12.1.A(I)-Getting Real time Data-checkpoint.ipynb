{
 "cells": [
  {
   "cell_type": "markdown",
   "metadata": {},
   "source": [
    "<center>\n",
    "  <a href=\"12.1-working-with-web-data.ipynb\">Previous Page</a> | <a href=\"./\">Content Page</a> | <a href=\"13.1 ODBC.ipynb\">Open Data Base Connectivity</a></center>\n",
    "</center>"
   ]
  },
  {
   "cell_type": "markdown",
   "metadata": {},
   "source": [
    "# 1.12. Activity: Getting Real time Data (Currency Exchange)"
   ]
  },
  {
   "cell_type": "markdown",
   "metadata": {},
   "source": [
    "###### import bs4 (i.e., beautifulsoup4) , requests, and pandas"
   ]
  },
  {
   "cell_type": "code",
   "execution_count": 1,
   "metadata": {
    "collapsed": true
   },
   "outputs": [],
   "source": [
    "import _______          \n",
    "import _______     \n",
    "import _______ as pd"
   ]
  },
  {
   "cell_type": "code",
   "execution_count": 2,
   "metadata": {
    "collapsed": true
   },
   "outputs": [],
   "source": [
    "URL = 'https://sg.finance.yahoo.com/currencies'"
   ]
  },
  {
   "cell_type": "markdown",
   "metadata": {},
   "source": [
    "###### Retrieve the URL using get(URL) using requests "
   ]
  },
  {
   "cell_type": "code",
   "execution_count": 3,
   "metadata": {
    "collapsed": true
   },
   "outputs": [],
   "source": [
    "response = requests._______(URL)"
   ]
  },
  {
   "cell_type": "markdown",
   "metadata": {},
   "source": [
    "###### Check the status _code\n",
    "https://www.w3.org/Protocols/HTTP/HTRESP.html"
   ]
  },
  {
   "cell_type": "code",
   "execution_count": 4,
   "metadata": {},
   "outputs": [
    {
     "data": {
      "text/plain": [
       "200"
      ]
     },
     "execution_count": 4,
     "metadata": {},
     "output_type": "execute_result"
    }
   ],
   "source": [
    "response._______"
   ]
  },
  {
   "cell_type": "markdown",
   "metadata": {},
   "source": [
    "###### Check the size of the content using len()"
   ]
  },
  {
   "cell_type": "code",
   "execution_count": 5,
   "metadata": {},
   "outputs": [
    {
     "data": {
      "text/plain": [
       "481315"
      ]
     },
     "execution_count": 5,
     "metadata": {},
     "output_type": "execute_result"
    }
   ],
   "source": [
    "_______(response.content)"
   ]
  },
  {
   "cell_type": "code",
   "execution_count": null,
   "metadata": {
    "collapsed": true
   },
   "outputs": [],
   "source": []
  },
  {
   "cell_type": "code",
   "execution_count": 6,
   "metadata": {
    "collapsed": true
   },
   "outputs": [],
   "source": [
    "beausoup=bs4.BeautifulSoup(response.text, 'html.parser') "
   ]
  },
  {
   "cell_type": "code",
   "execution_count": 7,
   "metadata": {
    "collapsed": true
   },
   "outputs": [],
   "source": [
    "myresult=[]"
   ]
  },
  {
   "cell_type": "code",
   "execution_count": null,
   "metadata": {
    "collapsed": true
   },
   "outputs": [],
   "source": []
  },
  {
   "cell_type": "markdown",
   "metadata": {},
   "source": [
    "#### In Notepad, find `<table  ` `<tr ` `<td`"
   ]
  },
  {
   "cell_type": "code",
   "execution_count": 8,
   "metadata": {
    "collapsed": true
   },
   "outputs": [],
   "source": [
    "table = beausoup.find(\"table\") # Locate the \"table\" tag "
   ]
  },
  {
   "cell_type": "code",
   "execution_count": 9,
   "metadata": {},
   "outputs": [
    {
     "data": {
      "text/plain": [
       "<table class=\"yfinlist-table W(100%) BdB Bdc($tableBorderGray)\" data-reactid=\"15\"><thead data-reactid=\"16\"><tr class=\"C($c-fuji-grey-j)\" data-reactid=\"17\"><th class=\"Va(b) Py(4px) Fw(400) Fz(xs) Cur(p) Ta(start) Pend(10px) Pstart(6px)\" data-reactid=\"18\"><span data-reactid=\"19\">Symbol</span><!-- react-text: 20 --><!-- /react-text --></th><th class=\"Va(b) Py(4px) Fw(400) Fz(xs) Cur(p) Ta(start) Pend(10px)\" data-reactid=\"21\"><span data-reactid=\"22\">Name</span><!-- react-text: 23 --><!-- /react-text --></th><th class=\"Va(b) Py(4px) Fw(400) Fz(xs) Cur(p) Ta(end) Pstart(20px)\" data-reactid=\"24\"><span data-reactid=\"25\">Last price</span><!-- react-text: 26 --><!-- /react-text --></th><th class=\"Va(b) Py(4px) Fw(400) Fz(xs) Cur(p) Ta(end) Pstart(20px)\" data-reactid=\"27\"><span data-reactid=\"28\">Change</span><!-- react-text: 29 --><!-- /react-text --></th><th class=\"Va(b) Py(4px) Fw(400) Fz(xs) Cur(p) Ta(end) Pstart(20px)\" data-reactid=\"30\"><span data-reactid=\"31\">% change</span><!-- react-text: 32 --><!-- /react-text --></th><th class=\"Va(b) Py(4px) Fw(400) Fz(xs) Cur(p) Ta(start) Pstart(20px) Pend(10px) W(120px)\" data-reactid=\"33\"><span data-reactid=\"34\">52-week range</span><!-- react-text: 35 --><!-- /react-text --></th><th class=\"Va(b) Py(4px) Fw(400) Fz(xs) Cur(p) Ta(start) Pstart(20px) Pend(6px) W(60px)\" data-reactid=\"36\"><span data-reactid=\"37\">Day chart</span><!-- react-text: 38 --><!-- /react-text --></th></tr></thead><tbody data-reactid=\"39\"><tr class=\"data-rowSGD=X Bgc($extraLightBlue):h BdT Bdc($tableBorderGray) Bdc($tableBorderBlue):h H(33px) Whs(nw)\" data-reactid=\"40\"><td class=\"data-col0 Ta(start) Pstart(6px)\" data-reactid=\"41\"><a class=\"Fw(b)\" data-reactid=\"42\" data-symbol=\"SGD=X\" href=\"/quote/SGD%3DX?p=SGD%3DX\" title=\"USD/SGD\">SGD=X</a></td><td class=\"data-col1 Ta(start) Pend(10px)\" data-reactid=\"43\">USD/SGD</td><td class=\"data-col2 Ta(end) Pstart(20px)\" data-reactid=\"44\">1.37093</td><td class=\"data-col3 Ta(end) Pstart(20px)\" data-reactid=\"45\"><span class=\"Trsdu(0.3s) C($dataRed)\" data-reactid=\"46\">-0.00048</span></td><td class=\"data-col4 Ta(end) Pstart(20px)\" data-reactid=\"47\"><span class=\"Trsdu(0.3s) C($dataRed)\" data-reactid=\"48\">-0.03500%</span></td><td class=\"data-col5 Ta(start) Pstart(20px) Pend(10px) W(120px)\" data-reactid=\"49\"><canvas data-reactid=\"50\" style=\"width:140px;height:23px;\"></canvas></td><td class=\"data-col6 Ta(start) Pstart(20px) Pend(6px) W(120px)\" data-reactid=\"51\"><a data-reactid=\"52\" data-symbol=\"SGD=X\" href=\"/chart/SGD%3DX?p=SGD%3DX\" rel=\"noopener\" target=\"_blank\"><!-- react-empty: 53 --></a></td></tr><tr class=\"data-rowSGDMYR=X Bgc($extraLightBlue):h BdT Bdc($tableBorderGray) Bdc($tableBorderBlue):h H(33px) Bgc($altRowColor) Whs(nw)\" data-reactid=\"54\"><td class=\"data-col0 Ta(start) Pstart(6px)\" data-reactid=\"55\"><a class=\"Fw(b)\" data-reactid=\"56\" data-symbol=\"SGDMYR=X\" href=\"/quote/SGDMYR%3DX?p=SGDMYR%3DX\" title=\"SGD/MYR\">SGDMYR=X</a></td><td class=\"data-col1 Ta(start) Pend(10px)\" data-reactid=\"57\">SGD/MYR</td><td class=\"data-col2 Ta(end) Pstart(20px)\" data-reactid=\"58\">3.0542</td><td class=\"data-col3 Ta(end) Pstart(20px)\" data-reactid=\"59\"><span class=\"Trsdu(0.3s) C($dataGreen)\" data-reactid=\"60\">+0.0010</span></td><td class=\"data-col4 Ta(end) Pstart(20px)\" data-reactid=\"61\"><span class=\"Trsdu(0.3s) C($dataGreen)\" data-reactid=\"62\">+0.03%</span></td><td class=\"data-col5 Ta(start) Pstart(20px) Pend(10px) W(120px)\" data-reactid=\"63\"><canvas data-reactid=\"64\" style=\"width:140px;height:23px;\"></canvas></td><td class=\"data-col6 Ta(start) Pstart(20px) Pend(6px) W(120px)\" data-reactid=\"65\"><a data-reactid=\"66\" data-symbol=\"SGDMYR=X\" href=\"/chart/SGDMYR%3DX?p=SGDMYR%3DX\" rel=\"noopener\" target=\"_blank\"><!-- react-empty: 67 --></a></td></tr><tr class=\"data-rowGBPSGD=X Bgc($extraLightBlue):h BdT Bdc($tableBorderGray) Bdc($tableBorderBlue):h H(33px) Whs(nw)\" data-reactid=\"68\"><td class=\"data-col0 Ta(start) Pstart(6px)\" data-reactid=\"69\"><a class=\"Fw(b)\" data-reactid=\"70\" data-symbol=\"GBPSGD=X\" href=\"/quote/GBPSGD%3DX?p=GBPSGD%3DX\" title=\"GBP/SGD\">GBPSGD=X</a></td><td class=\"data-col1 Ta(start) Pend(10px)\" data-reactid=\"71\">GBP/SGD</td><td class=\"data-col2 Ta(end) Pstart(20px)\" data-reactid=\"72\">1.7631</td><td class=\"data-col3 Ta(end) Pstart(20px)\" data-reactid=\"73\"><span class=\"Trsdu(0.3s) C($dataRed)\" data-reactid=\"74\">-0.0013</span></td><td class=\"data-col4 Ta(end) Pstart(20px)\" data-reactid=\"75\"><span class=\"Trsdu(0.3s) C($dataRed)\" data-reactid=\"76\">-0.07%</span></td><td class=\"data-col5 Ta(start) Pstart(20px) Pend(10px) W(120px)\" data-reactid=\"77\"><canvas data-reactid=\"78\" style=\"width:140px;height:23px;\"></canvas></td><td class=\"data-col6 Ta(start) Pstart(20px) Pend(6px) W(120px)\" data-reactid=\"79\"><a data-reactid=\"80\" data-symbol=\"GBPSGD=X\" href=\"/chart/GBPSGD%3DX?p=GBPSGD%3DX\" rel=\"noopener\" target=\"_blank\"><!-- react-empty: 81 --></a></td></tr><tr class=\"data-rowEURSGD=X Bgc($extraLightBlue):h BdT Bdc($tableBorderGray) Bdc($tableBorderBlue):h H(33px) Bgc($altRowColor) Whs(nw)\" data-reactid=\"82\"><td class=\"data-col0 Ta(start) Pstart(6px)\" data-reactid=\"83\"><a class=\"Fw(b)\" data-reactid=\"84\" data-symbol=\"EURSGD=X\" href=\"/quote/EURSGD%3DX?p=EURSGD%3DX\" title=\"EUR/SGD\">EURSGD=X</a></td><td class=\"data-col1 Ta(start) Pend(10px)\" data-reactid=\"85\">EUR/SGD</td><td class=\"data-col2 Ta(end) Pstart(20px)\" data-reactid=\"86\">1.5707</td><td class=\"data-col3 Ta(end) Pstart(20px)\" data-reactid=\"87\"><span class=\"Trsdu(0.3s) C($dataRed)\" data-reactid=\"88\">-0.0001</span></td><td class=\"data-col4 Ta(end) Pstart(20px)\" data-reactid=\"89\"><span class=\"Trsdu(0.3s) C($dataRed)\" data-reactid=\"90\">-0.01%</span></td><td class=\"data-col5 Ta(start) Pstart(20px) Pend(10px) W(120px)\" data-reactid=\"91\"><canvas data-reactid=\"92\" style=\"width:140px;height:23px;\"></canvas></td><td class=\"data-col6 Ta(start) Pstart(20px) Pend(6px) W(120px)\" data-reactid=\"93\"><a data-reactid=\"94\" data-symbol=\"EURSGD=X\" href=\"/chart/EURSGD%3DX?p=EURSGD%3DX\" rel=\"noopener\" target=\"_blank\"><!-- react-empty: 95 --></a></td></tr><tr class=\"data-rowSGDJPY=X Bgc($extraLightBlue):h BdT Bdc($tableBorderGray) Bdc($tableBorderBlue):h H(33px) Whs(nw)\" data-reactid=\"96\"><td class=\"data-col0 Ta(start) Pstart(6px)\" data-reactid=\"97\"><a class=\"Fw(b)\" data-reactid=\"98\" data-symbol=\"SGDJPY=X\" href=\"/quote/SGDJPY%3DX?p=SGDJPY%3DX\" title=\"SGD/JPY\">SGDJPY=X</a></td><td class=\"data-col1 Ta(start) Pend(10px)\" data-reactid=\"99\">SGD/JPY</td><td class=\"data-col2 Ta(end) Pstart(20px)\" data-reactid=\"100\">82.054</td><td class=\"data-col3 Ta(end) Pstart(20px)\" data-reactid=\"101\"><span class=\"Trsdu(0.3s) C($dataGreen)\" data-reactid=\"102\">+0.084</span></td><td class=\"data-col4 Ta(end) Pstart(20px)\" data-reactid=\"103\"><span class=\"Trsdu(0.3s) C($dataGreen)\" data-reactid=\"104\">+0.10%</span></td><td class=\"data-col5 Ta(start) Pstart(20px) Pend(10px) W(120px)\" data-reactid=\"105\"><canvas data-reactid=\"106\" style=\"width:140px;height:23px;\"></canvas></td><td class=\"data-col6 Ta(start) Pstart(20px) Pend(6px) W(120px)\" data-reactid=\"107\"><a data-reactid=\"108\" data-symbol=\"SGDJPY=X\" href=\"/chart/SGDJPY%3DX?p=SGDJPY%3DX\" rel=\"noopener\" target=\"_blank\"><!-- react-empty: 109 --></a></td></tr><tr class=\"data-rowSGDHKD=X Bgc($extraLightBlue):h BdT Bdc($tableBorderGray) Bdc($tableBorderBlue):h H(33px) Bgc($altRowColor) Whs(nw)\" data-reactid=\"110\"><td class=\"data-col0 Ta(start) Pstart(6px)\" data-reactid=\"111\"><a class=\"Fw(b)\" data-reactid=\"112\" data-symbol=\"SGDHKD=X\" href=\"/quote/SGDHKD%3DX?p=SGDHKD%3DX\" title=\"SGD/HKD\">SGDHKD=X</a></td><td class=\"data-col1 Ta(start) Pend(10px)\" data-reactid=\"113\">SGD/HKD</td><td class=\"data-col2 Ta(end) Pstart(20px)\" data-reactid=\"114\">5.7108</td><td class=\"data-col3 Ta(end) Pstart(20px)\" data-reactid=\"115\"><span class=\"Trsdu(0.3s) C($dataGreen)\" data-reactid=\"116\">+0.0046</span></td><td class=\"data-col4 Ta(end) Pstart(20px)\" data-reactid=\"117\"><span class=\"Trsdu(0.3s) C($dataGreen)\" data-reactid=\"118\">+0.08%</span></td><td class=\"data-col5 Ta(start) Pstart(20px) Pend(10px) W(120px)\" data-reactid=\"119\"><canvas data-reactid=\"120\" style=\"width:140px;height:23px;\"></canvas></td><td class=\"data-col6 Ta(start) Pstart(20px) Pend(6px) W(120px)\" data-reactid=\"121\"><a data-reactid=\"122\" data-symbol=\"SGDHKD=X\" href=\"/chart/SGDHKD%3DX?p=SGDHKD%3DX\" rel=\"noopener\" target=\"_blank\"><!-- react-empty: 123 --></a></td></tr><tr class=\"data-rowSGDIDR=X Bgc($extraLightBlue):h BdT Bdc($tableBorderGray) Bdc($tableBorderBlue):h H(33px) Whs(nw)\" data-reactid=\"124\"><td class=\"data-col0 Ta(start) Pstart(6px)\" data-reactid=\"125\"><a class=\"Fw(b)\" data-reactid=\"126\" data-symbol=\"SGDIDR=X\" href=\"/quote/SGDIDR%3DX?p=SGDIDR%3DX\" title=\"SGD/IDR\">SGDIDR=X</a></td><td class=\"data-col1 Ta(start) Pend(10px)\" data-reactid=\"127\">SGD/IDR</td><td class=\"data-col2 Ta(end) Pstart(20px)\" data-reactid=\"128\">10,638.015</td><td class=\"data-col3 Ta(end) Pstart(20px)\" data-reactid=\"129\"><span class=\"Trsdu(0.3s) C($dataGreen)\" data-reactid=\"130\">+3.140</span></td><td class=\"data-col4 Ta(end) Pstart(20px)\" data-reactid=\"131\"><span class=\"Trsdu(0.3s) C($dataGreen)\" data-reactid=\"132\">+0.03%</span></td><td class=\"data-col5 Ta(start) Pstart(20px) Pend(10px) W(120px)\" data-reactid=\"133\"><canvas data-reactid=\"134\" style=\"width:140px;height:23px;\"></canvas></td><td class=\"data-col6 Ta(start) Pstart(20px) Pend(6px) W(120px)\" data-reactid=\"135\"><a data-reactid=\"136\" data-symbol=\"SGDIDR=X\" href=\"/chart/SGDIDR%3DX?p=SGDIDR%3DX\" rel=\"noopener\" target=\"_blank\"><!-- react-empty: 137 --></a></td></tr><tr class=\"data-rowSGDCNY=X Bgc($extraLightBlue):h BdT Bdc($tableBorderGray) Bdc($tableBorderBlue):h H(33px) Bgc($altRowColor) Whs(nw)\" data-reactid=\"138\"><td class=\"data-col0 Ta(start) Pstart(6px)\" data-reactid=\"139\"><a class=\"Fw(b)\" data-reactid=\"140\" data-symbol=\"SGDCNY=X\" href=\"/quote/SGDCNY%3DX?p=SGDCNY%3DX\" title=\"SGD/CNY\">SGDCNY=X</a></td><td class=\"data-col1 Ta(start) Pend(10px)\" data-reactid=\"141\">SGD/CNY</td><td class=\"data-col2 Ta(end) Pstart(20px)\" data-reactid=\"142\">5.0618</td><td class=\"data-col3 Ta(end) Pstart(20px)\" data-reactid=\"143\"><span class=\"Trsdu(0.3s) C($dataGreen)\" data-reactid=\"144\">+0.0017</span></td><td class=\"data-col4 Ta(end) Pstart(20px)\" data-reactid=\"145\"><span class=\"Trsdu(0.3s) C($dataGreen)\" data-reactid=\"146\">+0.03%</span></td><td class=\"data-col5 Ta(start) Pstart(20px) Pend(10px) W(120px)\" data-reactid=\"147\"><canvas data-reactid=\"148\" style=\"width:140px;height:23px;\"></canvas></td><td class=\"data-col6 Ta(start) Pstart(20px) Pend(6px) W(120px)\" data-reactid=\"149\"><a data-reactid=\"150\" data-symbol=\"SGDCNY=X\" href=\"/chart/SGDCNY%3DX?p=SGDCNY%3DX\" rel=\"noopener\" target=\"_blank\"><!-- react-empty: 151 --></a></td></tr><tr class=\"data-rowSGDPHP=X Bgc($extraLightBlue):h BdT Bdc($tableBorderGray) Bdc($tableBorderBlue):h H(33px) Whs(nw)\" data-reactid=\"152\"><td class=\"data-col0 Ta(start) Pstart(6px)\" data-reactid=\"153\"><a class=\"Fw(b)\" data-reactid=\"154\" data-symbol=\"SGDPHP=X\" href=\"/quote/SGDPHP%3DX?p=SGDPHP%3DX\" title=\"SGD/PHP\">SGDPHP=X</a></td><td class=\"data-col1 Ta(start) Pend(10px)\" data-reactid=\"155\">SGD/PHP</td><td class=\"data-col2 Ta(end) Pstart(20px)\" data-reactid=\"156\">38.355</td><td class=\"data-col3 Ta(end) Pstart(20px)\" data-reactid=\"157\"><span class=\"Trsdu(0.3s) C($dataGreen)\" data-reactid=\"158\">+0.108</span></td><td class=\"data-col4 Ta(end) Pstart(20px)\" data-reactid=\"159\"><span class=\"Trsdu(0.3s) C($dataGreen)\" data-reactid=\"160\">+0.28%</span></td><td class=\"data-col5 Ta(start) Pstart(20px) Pend(10px) W(120px)\" data-reactid=\"161\"><canvas data-reactid=\"162\" style=\"width:140px;height:23px;\"></canvas></td><td class=\"data-col6 Ta(start) Pstart(20px) Pend(6px) W(120px)\" data-reactid=\"163\"><a data-reactid=\"164\" data-symbol=\"SGDPHP=X\" href=\"/chart/SGDPHP%3DX?p=SGDPHP%3DX\" rel=\"noopener\" target=\"_blank\"><!-- react-empty: 165 --></a></td></tr><tr class=\"data-rowSGDTHB=X Bgc($extraLightBlue):h BdT Bdc($tableBorderGray) Bdc($tableBorderBlue):h H(33px) Bgc($altRowColor) Whs(nw)\" data-reactid=\"166\"><td class=\"data-col0 Ta(start) Pstart(6px)\" data-reactid=\"167\"><a class=\"Fw(b)\" data-reactid=\"168\" data-symbol=\"SGDTHB=X\" href=\"/quote/SGDTHB%3DX?p=SGDTHB%3DX\" title=\"SGD/THB\">SGDTHB=X</a></td><td class=\"data-col1 Ta(start) Pend(10px)\" data-reactid=\"169\">SGD/THB</td><td class=\"data-col2 Ta(end) Pstart(20px)\" data-reactid=\"170\">24.0383</td><td class=\"data-col3 Ta(end) Pstart(20px)\" data-reactid=\"171\"><span class=\"Trsdu(0.3s) C($dataGreen)\" data-reactid=\"172\">+0.0251</span></td><td class=\"data-col4 Ta(end) Pstart(20px)\" data-reactid=\"173\"><span class=\"Trsdu(0.3s) C($dataGreen)\" data-reactid=\"174\">+0.10%</span></td><td class=\"data-col5 Ta(start) Pstart(20px) Pend(10px) W(120px)\" data-reactid=\"175\"><canvas data-reactid=\"176\" style=\"width:140px;height:23px;\"></canvas></td><td class=\"data-col6 Ta(start) Pstart(20px) Pend(6px) W(120px)\" data-reactid=\"177\"><a data-reactid=\"178\" data-symbol=\"SGDTHB=X\" href=\"/chart/SGDTHB%3DX?p=SGDTHB%3DX\" rel=\"noopener\" target=\"_blank\"><!-- react-empty: 179 --></a></td></tr><tr class=\"data-rowSGDINR=X Bgc($extraLightBlue):h BdT Bdc($tableBorderGray) Bdc($tableBorderBlue):h H(33px) Whs(nw)\" data-reactid=\"180\"><td class=\"data-col0 Ta(start) Pstart(6px)\" data-reactid=\"181\"><a class=\"Fw(b)\" data-reactid=\"182\" data-symbol=\"SGDINR=X\" href=\"/quote/SGDINR%3DX?p=SGDINR%3DX\" title=\"SGD/INR\">SGDINR=X</a></td><td class=\"data-col1 Ta(start) Pend(10px)\" data-reactid=\"183\">SGD/INR</td><td class=\"data-col2 Ta(end) Pstart(20px)\" data-reactid=\"184\">52.088</td><td class=\"data-col3 Ta(end) Pstart(20px)\" data-reactid=\"185\"><span class=\"Trsdu(0.3s) C($dataRed)\" data-reactid=\"186\">-0.143</span></td><td class=\"data-col4 Ta(end) Pstart(20px)\" data-reactid=\"187\"><span class=\"Trsdu(0.3s) C($dataRed)\" data-reactid=\"188\">-0.27%</span></td><td class=\"data-col5 Ta(start) Pstart(20px) Pend(10px) W(120px)\" data-reactid=\"189\"><canvas data-reactid=\"190\" style=\"width:140px;height:23px;\"></canvas></td><td class=\"data-col6 Ta(start) Pstart(20px) Pend(6px) W(120px)\" data-reactid=\"191\"><a data-reactid=\"192\" data-symbol=\"SGDINR=X\" href=\"/chart/SGDINR%3DX?p=SGDINR%3DX\" rel=\"noopener\" target=\"_blank\"><!-- react-empty: 193 --></a></td></tr><tr class=\"data-rowSGDVND=X Bgc($extraLightBlue):h BdT Bdc($tableBorderGray) Bdc($tableBorderBlue):h H(33px) Bgc($altRowColor) Whs(nw)\" data-reactid=\"194\"><td class=\"data-col0 Ta(start) Pstart(6px)\" data-reactid=\"195\"><a class=\"Fw(b)\" data-reactid=\"196\" data-symbol=\"SGDVND=X\" href=\"/quote/SGDVND%3DX?p=SGDVND%3DX\" title=\"SGD/VND\">SGDVND=X</a></td><td class=\"data-col1 Ta(start) Pend(10px)\" data-reactid=\"197\">SGD/VND</td><td class=\"data-col2 Ta(end) Pstart(20px)\" data-reactid=\"198\">16,967.60</td><td class=\"data-col3 Ta(end) Pstart(20px)\" data-reactid=\"199\"><span class=\"Trsdu(0.3s) \" data-reactid=\"200\">0.00</span></td><td class=\"data-col4 Ta(end) Pstart(20px)\" data-reactid=\"201\"><span class=\"Trsdu(0.3s) \" data-reactid=\"202\">0.00%</span></td><td class=\"data-col5 Ta(start) Pstart(20px) Pend(10px) W(120px)\" data-reactid=\"203\"><canvas data-reactid=\"204\" style=\"width:140px;height:23px;\"></canvas></td><td class=\"data-col6 Ta(start) Pstart(20px) Pend(6px) W(120px)\" data-reactid=\"205\"><a data-reactid=\"206\" data-symbol=\"SGDVND=X\" href=\"/chart/SGDVND%3DX?p=SGDVND%3DX\" rel=\"noopener\" target=\"_blank\"><!-- react-empty: 207 --></a></td></tr><tr class=\"data-rowSGDKRW=X Bgc($extraLightBlue):h BdT Bdc($tableBorderGray) Bdc($tableBorderBlue):h H(33px) Whs(nw)\" data-reactid=\"208\"><td class=\"data-col0 Ta(start) Pstart(6px)\" data-reactid=\"209\"><a class=\"Fw(b)\" data-reactid=\"210\" data-symbol=\"SGDKRW=X\" href=\"/quote/SGDKRW%3DX?p=SGDKRW%3DX\" title=\"SGD/KRW\">SGDKRW=X</a></td><td class=\"data-col1 Ta(start) Pend(10px)\" data-reactid=\"211\">SGD/KRW</td><td class=\"data-col2 Ta(end) Pstart(20px)\" data-reactid=\"212\">821.54</td><td class=\"data-col3 Ta(end) Pstart(20px)\" data-reactid=\"213\"><span class=\"Trsdu(0.3s) C($dataGreen)\" data-reactid=\"214\">+0.94</span></td><td class=\"data-col4 Ta(end) Pstart(20px)\" data-reactid=\"215\"><span class=\"Trsdu(0.3s) C($dataGreen)\" data-reactid=\"216\">+0.11%</span></td><td class=\"data-col5 Ta(start) Pstart(20px) Pend(10px) W(120px)\" data-reactid=\"217\"><canvas data-reactid=\"218\" style=\"width:140px;height:23px;\"></canvas></td><td class=\"data-col6 Ta(start) Pstart(20px) Pend(6px) W(120px)\" data-reactid=\"219\"><a data-reactid=\"220\" data-symbol=\"SGDKRW=X\" href=\"/chart/SGDKRW%3DX?p=SGDKRW%3DX\" rel=\"noopener\" target=\"_blank\"><!-- react-empty: 221 --></a></td></tr><tr class=\"data-rowAUDSGD=X Bgc($extraLightBlue):h BdT Bdc($tableBorderGray) Bdc($tableBorderBlue):h H(33px) Bgc($altRowColor) Whs(nw)\" data-reactid=\"222\"><td class=\"data-col0 Ta(start) Pstart(6px)\" data-reactid=\"223\"><a class=\"Fw(b)\" data-reactid=\"224\" data-symbol=\"AUDSGD=X\" href=\"/quote/AUDSGD%3DX?p=AUDSGD%3DX\" title=\"AUD/SGD\">AUDSGD=X</a></td><td class=\"data-col1 Ta(start) Pend(10px)\" data-reactid=\"225\">AUD/SGD</td><td class=\"data-col2 Ta(end) Pstart(20px)\" data-reactid=\"226\">0.9994</td><td class=\"data-col3 Ta(end) Pstart(20px)\" data-reactid=\"227\"><span class=\"Trsdu(0.3s) C($dataRed)\" data-reactid=\"228\">-0.0008</span></td><td class=\"data-col4 Ta(end) Pstart(20px)\" data-reactid=\"229\"><span class=\"Trsdu(0.3s) C($dataRed)\" data-reactid=\"230\">-0.08%</span></td><td class=\"data-col5 Ta(start) Pstart(20px) Pend(10px) W(120px)\" data-reactid=\"231\"><canvas data-reactid=\"232\" style=\"width:140px;height:23px;\"></canvas></td><td class=\"data-col6 Ta(start) Pstart(20px) Pend(6px) W(120px)\" data-reactid=\"233\"><a data-reactid=\"234\" data-symbol=\"AUDSGD=X\" href=\"/chart/AUDSGD%3DX?p=AUDSGD%3DX\" rel=\"noopener\" target=\"_blank\"><!-- react-empty: 235 --></a></td></tr><tr class=\"data-rowNZDSGD=X Bgc($extraLightBlue):h BdT Bdc($tableBorderGray) Bdc($tableBorderBlue):h H(33px) Whs(nw)\" data-reactid=\"236\"><td class=\"data-col0 Ta(start) Pstart(6px)\" data-reactid=\"237\"><a class=\"Fw(b)\" data-reactid=\"238\" data-symbol=\"NZDSGD=X\" href=\"/quote/NZDSGD%3DX?p=NZDSGD%3DX\" title=\"NZD/SGD\">NZDSGD=X</a></td><td class=\"data-col1 Ta(start) Pend(10px)\" data-reactid=\"239\">NZD/SGD</td><td class=\"data-col2 Ta(end) Pstart(20px)\" data-reactid=\"240\">0.9388</td><td class=\"data-col3 Ta(end) Pstart(20px)\" data-reactid=\"241\"><span class=\"Trsdu(0.3s) C($dataGreen)\" data-reactid=\"242\">+0.0016</span></td><td class=\"data-col4 Ta(end) Pstart(20px)\" data-reactid=\"243\"><span class=\"Trsdu(0.3s) C($dataGreen)\" data-reactid=\"244\">+0.17%</span></td><td class=\"data-col5 Ta(start) Pstart(20px) Pend(10px) W(120px)\" data-reactid=\"245\"><canvas data-reactid=\"246\" style=\"width:140px;height:23px;\"></canvas></td><td class=\"data-col6 Ta(start) Pstart(20px) Pend(6px) W(120px)\" data-reactid=\"247\"><a data-reactid=\"248\" data-symbol=\"NZDSGD=X\" href=\"/chart/NZDSGD%3DX?p=NZDSGD%3DX\" rel=\"noopener\" target=\"_blank\"><!-- react-empty: 249 --></a></td></tr><tr class=\"data-rowGBPUSD=X Bgc($extraLightBlue):h BdT Bdc($tableBorderGray) Bdc($tableBorderBlue):h H(33px) Bgc($altRowColor) Whs(nw)\" data-reactid=\"250\"><td class=\"data-col0 Ta(start) Pstart(6px)\" data-reactid=\"251\"><a class=\"Fw(b)\" data-reactid=\"252\" data-symbol=\"GBPUSD=X\" href=\"/quote/GBPUSD%3DX?p=GBPUSD%3DX\" title=\"GBP/USD\">GBPUSD=X</a></td><td class=\"data-col1 Ta(start) Pend(10px)\" data-reactid=\"253\">GBP/USD</td><td class=\"data-col2 Ta(end) Pstart(20px)\" data-reactid=\"254\">1.28596</td><td class=\"data-col3 Ta(end) Pstart(20px)\" data-reactid=\"255\"><span class=\"Trsdu(0.3s) C($dataRed)\" data-reactid=\"256\">-0.00071</span></td><td class=\"data-col4 Ta(end) Pstart(20px)\" data-reactid=\"257\"><span class=\"Trsdu(0.3s) C($dataRed)\" data-reactid=\"258\">-0.05529%</span></td><td class=\"data-col5 Ta(start) Pstart(20px) Pend(10px) W(120px)\" data-reactid=\"259\"><canvas data-reactid=\"260\" style=\"width:140px;height:23px;\"></canvas></td><td class=\"data-col6 Ta(start) Pstart(20px) Pend(6px) W(120px)\" data-reactid=\"261\"><a data-reactid=\"262\" data-symbol=\"GBPUSD=X\" href=\"/chart/GBPUSD%3DX?p=GBPUSD%3DX\" rel=\"noopener\" target=\"_blank\"><!-- react-empty: 263 --></a></td></tr><tr class=\"data-rowJPY=X Bgc($extraLightBlue):h BdT Bdc($tableBorderGray) Bdc($tableBorderBlue):h H(33px) Whs(nw)\" data-reactid=\"264\"><td class=\"data-col0 Ta(start) Pstart(6px)\" data-reactid=\"265\"><a class=\"Fw(b)\" data-reactid=\"266\" data-symbol=\"JPY=X\" href=\"/quote/JPY%3DX?p=JPY%3DX\" title=\"USD/JPY\">JPY=X</a></td><td class=\"data-col1 Ta(start) Pend(10px)\" data-reactid=\"267\">USD/JPY</td><td class=\"data-col2 Ta(end) Pstart(20px)\" data-reactid=\"268\">112.539</td><td class=\"data-col3 Ta(end) Pstart(20px)\" data-reactid=\"269\"><span class=\"Trsdu(0.3s) C($dataGreen)\" data-reactid=\"270\">+0.043</span></td><td class=\"data-col4 Ta(end) Pstart(20px)\" data-reactid=\"271\"><span class=\"Trsdu(0.3s) C($dataGreen)\" data-reactid=\"272\">+0.038%</span></td><td class=\"data-col5 Ta(start) Pstart(20px) Pend(10px) W(120px)\" data-reactid=\"273\"><canvas data-reactid=\"274\" style=\"width:140px;height:23px;\"></canvas></td><td class=\"data-col6 Ta(start) Pstart(20px) Pend(6px) W(120px)\" data-reactid=\"275\"><a data-reactid=\"276\" data-symbol=\"JPY=X\" href=\"/chart/JPY%3DX?p=JPY%3DX\" rel=\"noopener\" target=\"_blank\"><!-- react-empty: 277 --></a></td></tr><tr class=\"data-rowHKD=X Bgc($extraLightBlue):h BdT Bdc($tableBorderGray) Bdc($tableBorderBlue):h H(33px) Bgc($altRowColor) Whs(nw)\" data-reactid=\"278\"><td class=\"data-col0 Ta(start) Pstart(6px)\" data-reactid=\"279\"><a class=\"Fw(b)\" data-reactid=\"280\" data-symbol=\"HKD=X\" href=\"/quote/HKD%3DX?p=HKD%3DX\" title=\"USD/HKD\">HKD=X</a></td><td class=\"data-col1 Ta(start) Pend(10px)\" data-reactid=\"281\">USD/HKD</td><td class=\"data-col2 Ta(end) Pstart(20px)\" data-reactid=\"282\">7.83214</td><td class=\"data-col3 Ta(end) Pstart(20px)\" data-reactid=\"283\"><span class=\"Trsdu(0.3s) C($dataGreen)\" data-reactid=\"284\">+0.00174</span></td><td class=\"data-col4 Ta(end) Pstart(20px)\" data-reactid=\"285\"><span class=\"Trsdu(0.3s) C($dataGreen)\" data-reactid=\"286\">+0.02222%</span></td><td class=\"data-col5 Ta(start) Pstart(20px) Pend(10px) W(120px)\" data-reactid=\"287\"><canvas data-reactid=\"288\" style=\"width:140px;height:23px;\"></canvas></td><td class=\"data-col6 Ta(start) Pstart(20px) Pend(6px) W(120px)\" data-reactid=\"289\"><a data-reactid=\"290\" data-symbol=\"HKD=X\" href=\"/chart/HKD%3DX?p=HKD%3DX\" rel=\"noopener\" target=\"_blank\"><!-- react-empty: 291 --></a></td></tr><tr class=\"data-rowMYR=X Bgc($extraLightBlue):h BdT Bdc($tableBorderGray) Bdc($tableBorderBlue):h H(33px) Whs(nw)\" data-reactid=\"292\"><td class=\"data-col0 Ta(start) Pstart(6px)\" data-reactid=\"293\"><a class=\"Fw(b)\" data-reactid=\"294\" data-symbol=\"MYR=X\" href=\"/quote/MYR%3DX?p=MYR%3DX\" title=\"USD/MYR\">MYR=X</a></td><td class=\"data-col1 Ta(start) Pend(10px)\" data-reactid=\"295\">USD/MYR</td><td class=\"data-col2 Ta(end) Pstart(20px)\" data-reactid=\"296\">4.187</td><td class=\"data-col3 Ta(end) Pstart(20px)\" data-reactid=\"297\"><span class=\"Trsdu(0.3s) C($dataGreen)\" data-reactid=\"298\">+0.001</span></td><td class=\"data-col4 Ta(end) Pstart(20px)\" data-reactid=\"299\"><span class=\"Trsdu(0.3s) C($dataGreen)\" data-reactid=\"300\">+0.024%</span></td><td class=\"data-col5 Ta(start) Pstart(20px) Pend(10px) W(120px)\" data-reactid=\"301\"><canvas data-reactid=\"302\" style=\"width:140px;height:23px;\"></canvas></td><td class=\"data-col6 Ta(start) Pstart(20px) Pend(6px) W(120px)\" data-reactid=\"303\"><a data-reactid=\"304\" data-symbol=\"MYR=X\" href=\"/chart/MYR%3DX?p=MYR%3DX\" rel=\"noopener\" target=\"_blank\"><!-- react-empty: 305 --></a></td></tr><tr class=\"data-rowINR=X Bgc($extraLightBlue):h BdT Bdc($tableBorderGray) Bdc($tableBorderBlue):h H(33px) Bgc($altRowColor) Whs(nw)\" data-reactid=\"306\"><td class=\"data-col0 Ta(start) Pstart(6px)\" data-reactid=\"307\"><a class=\"Fw(b)\" data-reactid=\"308\" data-symbol=\"INR=X\" href=\"/quote/INR%3DX?p=INR%3DX\" title=\"USD/INR\">INR=X</a></td><td class=\"data-col1 Ta(start) Pend(10px)\" data-reactid=\"309\">USD/INR</td><td class=\"data-col2 Ta(end) Pstart(20px)\" data-reactid=\"310\">71.385</td><td class=\"data-col3 Ta(end) Pstart(20px)\" data-reactid=\"311\"><span class=\"Trsdu(0.3s) C($dataRed)\" data-reactid=\"312\">-0.220</span></td><td class=\"data-col4 Ta(end) Pstart(20px)\" data-reactid=\"313\"><span class=\"Trsdu(0.3s) C($dataRed)\" data-reactid=\"314\">-0.307%</span></td><td class=\"data-col5 Ta(start) Pstart(20px) Pend(10px) W(120px)\" data-reactid=\"315\"><canvas data-reactid=\"316\" style=\"width:140px;height:23px;\"></canvas></td><td class=\"data-col6 Ta(start) Pstart(20px) Pend(6px) W(120px)\" data-reactid=\"317\"><a data-reactid=\"318\" data-symbol=\"INR=X\" href=\"/chart/INR%3DX?p=INR%3DX\" rel=\"noopener\" target=\"_blank\"><!-- react-empty: 319 --></a></td></tr><tr class=\"data-rowCNY=X Bgc($extraLightBlue):h BdT Bdc($tableBorderGray) Bdc($tableBorderBlue):h H(33px) Whs(nw)\" data-reactid=\"320\"><td class=\"data-col0 Ta(start) Pstart(6px)\" data-reactid=\"321\"><a class=\"Fw(b)\" data-reactid=\"322\" data-symbol=\"CNY=X\" href=\"/quote/CNY%3DX?p=CNY%3DX\" title=\"USD/CNY\">CNY=X</a></td><td class=\"data-col1 Ta(start) Pend(10px)\" data-reactid=\"323\">USD/CNY</td><td class=\"data-col2 Ta(end) Pstart(20px)\" data-reactid=\"324\">6.9409</td><td class=\"data-col3 Ta(end) Pstart(20px)\" data-reactid=\"325\"><span class=\"Trsdu(0.3s) C($dataRed)\" data-reactid=\"326\">-0.0010</span></td><td class=\"data-col4 Ta(end) Pstart(20px)\" data-reactid=\"327\"><span class=\"Trsdu(0.3s) C($dataRed)\" data-reactid=\"328\">-0.0144%</span></td><td class=\"data-col5 Ta(start) Pstart(20px) Pend(10px) W(120px)\" data-reactid=\"329\"><canvas data-reactid=\"330\" style=\"width:140px;height:23px;\"></canvas></td><td class=\"data-col6 Ta(start) Pstart(20px) Pend(6px) W(120px)\" data-reactid=\"331\"><a data-reactid=\"332\" data-symbol=\"CNY=X\" href=\"/chart/CNY%3DX?p=CNY%3DX\" rel=\"noopener\" target=\"_blank\"><!-- react-empty: 333 --></a></td></tr><tr class=\"data-rowPHP=X Bgc($extraLightBlue):h BdT Bdc($tableBorderGray) Bdc($tableBorderBlue):h H(33px) Bgc($altRowColor) Whs(nw)\" data-reactid=\"334\"><td class=\"data-col0 Ta(start) Pstart(6px)\" data-reactid=\"335\"><a class=\"Fw(b)\" data-reactid=\"336\" data-symbol=\"PHP=X\" href=\"/quote/PHP%3DX?p=PHP%3DX\" title=\"USD/PHP\">PHP=X</a></td><td class=\"data-col1 Ta(start) Pend(10px)\" data-reactid=\"337\">USD/PHP</td><td class=\"data-col2 Ta(end) Pstart(20px)\" data-reactid=\"338\">52.58</td><td class=\"data-col3 Ta(end) Pstart(20px)\" data-reactid=\"339\"><span class=\"Trsdu(0.3s) C($dataGreen)\" data-reactid=\"340\">+0.13</span></td><td class=\"data-col4 Ta(end) Pstart(20px)\" data-reactid=\"341\"><span class=\"Trsdu(0.3s) C($dataGreen)\" data-reactid=\"342\">+0.25%</span></td><td class=\"data-col5 Ta(start) Pstart(20px) Pend(10px) W(120px)\" data-reactid=\"343\"><canvas data-reactid=\"344\" style=\"width:140px;height:23px;\"></canvas></td><td class=\"data-col6 Ta(start) Pstart(20px) Pend(6px) W(120px)\" data-reactid=\"345\"><a data-reactid=\"346\" data-symbol=\"PHP=X\" href=\"/chart/PHP%3DX?p=PHP%3DX\" rel=\"noopener\" target=\"_blank\"><!-- react-empty: 347 --></a></td></tr><tr class=\"data-rowIDR=X Bgc($extraLightBlue):h BdT Bdc($tableBorderGray) Bdc($tableBorderBlue):h H(33px) Whs(nw)\" data-reactid=\"348\"><td class=\"data-col0 Ta(start) Pstart(6px)\" data-reactid=\"349\"><a class=\"Fw(b)\" data-reactid=\"350\" data-symbol=\"IDR=X\" href=\"/quote/IDR%3DX?p=IDR%3DX\" title=\"USD/IDR\">IDR=X</a></td><td class=\"data-col1 Ta(start) Pend(10px)\" data-reactid=\"351\">USD/IDR</td><td class=\"data-col2 Ta(end) Pstart(20px)\" data-reactid=\"352\">14,585.00</td><td class=\"data-col3 Ta(end) Pstart(20px)\" data-reactid=\"353\"><span class=\"Trsdu(0.3s) C($dataGreen)\" data-reactid=\"354\">+5.00</span></td><td class=\"data-col4 Ta(end) Pstart(20px)\" data-reactid=\"355\"><span class=\"Trsdu(0.3s) C($dataGreen)\" data-reactid=\"356\">+0.03%</span></td><td class=\"data-col5 Ta(start) Pstart(20px) Pend(10px) W(120px)\" data-reactid=\"357\"><canvas data-reactid=\"358\" style=\"width:140px;height:23px;\"></canvas></td><td class=\"data-col6 Ta(start) Pstart(20px) Pend(6px) W(120px)\" data-reactid=\"359\"><a data-reactid=\"360\" data-symbol=\"IDR=X\" href=\"/chart/IDR%3DX?p=IDR%3DX\" rel=\"noopener\" target=\"_blank\"><!-- react-empty: 361 --></a></td></tr><tr class=\"data-rowTHB=X Bgc($extraLightBlue):h BdT Bdc($tableBorderGray) Bdc($tableBorderBlue):h H(33px) Bgc($altRowColor) Whs(nw)\" data-reactid=\"362\"><td class=\"data-col0 Ta(start) Pstart(6px)\" data-reactid=\"363\"><a class=\"Fw(b)\" data-reactid=\"364\" data-symbol=\"THB=X\" href=\"/quote/THB%3DX?p=THB%3DX\" title=\"USD/THB\">THB=X</a></td><td class=\"data-col1 Ta(start) Pend(10px)\" data-reactid=\"365\">USD/THB</td><td class=\"data-col2 Ta(end) Pstart(20px)\" data-reactid=\"366\">32.942</td><td class=\"data-col3 Ta(end) Pstart(20px)\" data-reactid=\"367\"><span class=\"Trsdu(0.3s) C($dataGreen)\" data-reactid=\"368\">+0.032</span></td><td class=\"data-col4 Ta(end) Pstart(20px)\" data-reactid=\"369\"><span class=\"Trsdu(0.3s) C($dataGreen)\" data-reactid=\"370\">+0.097%</span></td><td class=\"data-col5 Ta(start) Pstart(20px) Pend(10px) W(120px)\" data-reactid=\"371\"><canvas data-reactid=\"372\" style=\"width:140px;height:23px;\"></canvas></td><td class=\"data-col6 Ta(start) Pstart(20px) Pend(6px) W(120px)\" data-reactid=\"373\"><a data-reactid=\"374\" data-symbol=\"THB=X\" href=\"/chart/THB%3DX?p=THB%3DX\" rel=\"noopener\" target=\"_blank\"><!-- react-empty: 375 --></a></td></tr><tr class=\"data-rowCHF=X Bgc($extraLightBlue):h BdT Bdc($tableBorderGray) Bdc($tableBorderBlue):h H(33px) Whs(nw)\" data-reactid=\"376\"><td class=\"data-col0 Ta(start) Pstart(6px)\" data-reactid=\"377\"><a class=\"Fw(b)\" data-reactid=\"378\" data-symbol=\"CHF=X\" href=\"/quote/CHF%3DX?p=CHF%3DX\" title=\"USD/CHF\">CHF=X</a></td><td class=\"data-col1 Ta(start) Pend(10px)\" data-reactid=\"379\">USD/CHF</td><td class=\"data-col2 Ta(end) Pstart(20px)\" data-reactid=\"380\">0.99218</td><td class=\"data-col3 Ta(end) Pstart(20px)\" data-reactid=\"381\"><span class=\"Trsdu(0.3s) C($dataRed)\" data-reactid=\"382\">-0.00101</span></td><td class=\"data-col4 Ta(end) Pstart(20px)\" data-reactid=\"383\"><span class=\"Trsdu(0.3s) C($dataRed)\" data-reactid=\"384\">-0.10169%</span></td><td class=\"data-col5 Ta(start) Pstart(20px) Pend(10px) W(120px)\" data-reactid=\"385\"><canvas data-reactid=\"386\" style=\"width:140px;height:23px;\"></canvas></td><td class=\"data-col6 Ta(start) Pstart(20px) Pend(6px) W(120px)\" data-reactid=\"387\"><a data-reactid=\"388\" data-symbol=\"CHF=X\" href=\"/chart/CHF%3DX?p=CHF%3DX\" rel=\"noopener\" target=\"_blank\"><!-- react-empty: 389 --></a></td></tr><tr class=\"data-rowMXN=X Bgc($extraLightBlue):h BdT Bdc($tableBorderGray) Bdc($tableBorderBlue):h H(33px) Bgc($altRowColor) Whs(nw)\" data-reactid=\"390\"><td class=\"data-col0 Ta(start) Pstart(6px)\" data-reactid=\"391\"><a class=\"Fw(b)\" data-reactid=\"392\" data-symbol=\"MXN=X\" href=\"/quote/MXN%3DX?p=MXN%3DX\" title=\"USD/MXN\">MXN=X</a></td><td class=\"data-col1 Ta(start) Pend(10px)\" data-reactid=\"393\">USD/MXN</td><td class=\"data-col2 Ta(end) Pstart(20px)\" data-reactid=\"394\">20.3449</td><td class=\"data-col3 Ta(end) Pstart(20px)\" data-reactid=\"395\"><span class=\"Trsdu(0.3s) C($dataRed)\" data-reactid=\"396\">-0.0130</span></td><td class=\"data-col4 Ta(end) Pstart(20px)\" data-reactid=\"397\"><span class=\"Trsdu(0.3s) C($dataRed)\" data-reactid=\"398\">-0.0639%</span></td><td class=\"data-col5 Ta(start) Pstart(20px) Pend(10px) W(120px)\" data-reactid=\"399\"><canvas data-reactid=\"400\" style=\"width:140px;height:23px;\"></canvas></td><td class=\"data-col6 Ta(start) Pstart(20px) Pend(6px) W(120px)\" data-reactid=\"401\"><a data-reactid=\"402\" data-symbol=\"MXN=X\" href=\"/chart/MXN%3DX?p=MXN%3DX\" rel=\"noopener\" target=\"_blank\"><!-- react-empty: 403 --></a></td></tr><tr class=\"data-rowAUDUSD=X Bgc($extraLightBlue):h BdT Bdc($tableBorderGray) Bdc($tableBorderBlue):h H(33px) Whs(nw)\" data-reactid=\"404\"><td class=\"data-col0 Ta(start) Pstart(6px)\" data-reactid=\"405\"><a class=\"Fw(b)\" data-reactid=\"406\" data-symbol=\"AUDUSD=X\" href=\"/quote/AUDUSD%3DX?p=AUDUSD%3DX\" title=\"AUD/USD\">AUDUSD=X</a></td><td class=\"data-col1 Ta(start) Pend(10px)\" data-reactid=\"407\">AUD/USD</td><td class=\"data-col2 Ta(end) Pstart(20px)\" data-reactid=\"408\">0.7291</td><td class=\"data-col3 Ta(end) Pstart(20px)\" data-reactid=\"409\"><span class=\"Trsdu(0.3s) C($dataRed)\" data-reactid=\"410\">-0.0004</span></td><td class=\"data-col4 Ta(end) Pstart(20px)\" data-reactid=\"411\"><span class=\"Trsdu(0.3s) C($dataRed)\" data-reactid=\"412\">-0.0510%</span></td><td class=\"data-col5 Ta(start) Pstart(20px) Pend(10px) W(120px)\" data-reactid=\"413\"><canvas data-reactid=\"414\" style=\"width:140px;height:23px;\"></canvas></td><td class=\"data-col6 Ta(start) Pstart(20px) Pend(6px) W(120px)\" data-reactid=\"415\"><a data-reactid=\"416\" data-symbol=\"AUDUSD=X\" href=\"/chart/AUDUSD%3DX?p=AUDUSD%3DX\" rel=\"noopener\" target=\"_blank\"><!-- react-empty: 417 --></a></td></tr><tr class=\"data-rowNZDUSD=X Bgc($extraLightBlue):h BdT Bdc($tableBorderGray) Bdc($tableBorderBlue):h H(33px) Bgc($altRowColor) Whs(nw)\" data-reactid=\"418\"><td class=\"data-col0 Ta(start) Pstart(6px)\" data-reactid=\"419\"><a class=\"Fw(b)\" data-reactid=\"420\" data-symbol=\"NZDUSD=X\" href=\"/quote/NZDUSD%3DX?p=NZDUSD%3DX\" title=\"NZD/USD\">NZDUSD=X</a></td><td class=\"data-col1 Ta(start) Pend(10px)\" data-reactid=\"421\">NZD/USD</td><td class=\"data-col2 Ta(end) Pstart(20px)\" data-reactid=\"422\">0.6850</td><td class=\"data-col3 Ta(end) Pstart(20px)\" data-reactid=\"423\"><span class=\"Trsdu(0.3s) C($dataGreen)\" data-reactid=\"424\">+0.0011</span></td><td class=\"data-col4 Ta(end) Pstart(20px)\" data-reactid=\"425\"><span class=\"Trsdu(0.3s) C($dataGreen)\" data-reactid=\"426\">+0.1576%</span></td><td class=\"data-col5 Ta(start) Pstart(20px) Pend(10px) W(120px)\" data-reactid=\"427\"><canvas data-reactid=\"428\" style=\"width:140px;height:23px;\"></canvas></td><td class=\"data-col6 Ta(start) Pstart(20px) Pend(6px) W(120px)\" data-reactid=\"429\"><a data-reactid=\"430\" data-symbol=\"NZDUSD=X\" href=\"/chart/NZDUSD%3DX?p=NZDUSD%3DX\" rel=\"noopener\" target=\"_blank\"><!-- react-empty: 431 --></a></td></tr><tr class=\"data-rowKRW=X Bgc($extraLightBlue):h BdT Bdc($tableBorderGray) Bdc($tableBorderBlue):h H(33px) Whs(nw)\" data-reactid=\"432\"><td class=\"data-col0 Ta(start) Pstart(6px)\" data-reactid=\"433\"><a class=\"Fw(b)\" data-reactid=\"434\" data-symbol=\"KRW=X\" href=\"/quote/KRW%3DX?p=KRW%3DX\" title=\"USD/KRW\">KRW=X</a></td><td class=\"data-col1 Ta(start) Pend(10px)\" data-reactid=\"435\">USD/KRW</td><td class=\"data-col2 Ta(end) Pstart(20px)\" data-reactid=\"436\">1,126.49</td><td class=\"data-col3 Ta(end) Pstart(20px)\" data-reactid=\"437\"><span class=\"Trsdu(0.3s) C($dataGreen)\" data-reactid=\"438\">+0.59</span></td><td class=\"data-col4 Ta(end) Pstart(20px)\" data-reactid=\"439\"><span class=\"Trsdu(0.3s) C($dataGreen)\" data-reactid=\"440\">+0.05%</span></td><td class=\"data-col5 Ta(start) Pstart(20px) Pend(10px) W(120px)\" data-reactid=\"441\"><canvas data-reactid=\"442\" style=\"width:140px;height:23px;\"></canvas></td><td class=\"data-col6 Ta(start) Pstart(20px) Pend(6px) W(120px)\" data-reactid=\"443\"><a data-reactid=\"444\" data-symbol=\"KRW=X\" href=\"/chart/KRW%3DX?p=KRW%3DX\" rel=\"noopener\" target=\"_blank\"><!-- react-empty: 445 --></a></td></tr><tr class=\"data-rowVND=X Bgc($extraLightBlue):h BdT Bdc($tableBorderGray) Bdc($tableBorderBlue):h H(33px) Bgc($altRowColor) Whs(nw)\" data-reactid=\"446\"><td class=\"data-col0 Ta(start) Pstart(6px)\" data-reactid=\"447\"><a class=\"Fw(b)\" data-reactid=\"448\" data-symbol=\"VND=X\" href=\"/quote/VND%3DX?p=VND%3DX\" title=\"USD/VND\">VND=X</a></td><td class=\"data-col1 Ta(start) Pend(10px)\" data-reactid=\"449\">USD/VND</td><td class=\"data-col2 Ta(end) Pstart(20px)\" data-reactid=\"450\">23,300.00</td><td class=\"data-col3 Ta(end) Pstart(20px)\" data-reactid=\"451\"><span class=\"Trsdu(0.3s) \" data-reactid=\"452\">0.00</span></td><td class=\"data-col4 Ta(end) Pstart(20px)\" data-reactid=\"453\"><span class=\"Trsdu(0.3s) \" data-reactid=\"454\">0.00%</span></td><td class=\"data-col5 Ta(start) Pstart(20px) Pend(10px) W(120px)\" data-reactid=\"455\"><canvas data-reactid=\"456\" style=\"width:140px;height:23px;\"></canvas></td><td class=\"data-col6 Ta(start) Pstart(20px) Pend(6px) W(120px)\" data-reactid=\"457\"><a data-reactid=\"458\" data-symbol=\"VND=X\" href=\"/chart/VND%3DX?p=VND%3DX\" rel=\"noopener\" target=\"_blank\"><!-- react-empty: 459 --></a></td></tr><tr class=\"data-rowCAD=X Bgc($extraLightBlue):h BdT Bdc($tableBorderGray) Bdc($tableBorderBlue):h H(33px) Whs(nw)\" data-reactid=\"460\"><td class=\"data-col0 Ta(start) Pstart(6px)\" data-reactid=\"461\"><a class=\"Fw(b)\" data-reactid=\"462\" data-symbol=\"CAD=X\" href=\"/quote/CAD%3DX?p=CAD%3DX\" title=\"USD/CAD\">CAD=X</a></td><td class=\"data-col1 Ta(start) Pend(10px)\" data-reactid=\"463\">USD/CAD</td><td class=\"data-col2 Ta(end) Pstart(20px)\" data-reactid=\"464\">1.31668</td><td class=\"data-col3 Ta(end) Pstart(20px)\" data-reactid=\"465\"><span class=\"Trsdu(0.3s) C($dataRed)\" data-reactid=\"466\">-0.00028</span></td><td class=\"data-col4 Ta(end) Pstart(20px)\" data-reactid=\"467\"><span class=\"Trsdu(0.3s) C($dataRed)\" data-reactid=\"468\">-0.02126%</span></td><td class=\"data-col5 Ta(start) Pstart(20px) Pend(10px) W(120px)\" data-reactid=\"469\"><canvas data-reactid=\"470\" style=\"width:140px;height:23px;\"></canvas></td><td class=\"data-col6 Ta(start) Pstart(20px) Pend(6px) W(120px)\" data-reactid=\"471\"><a data-reactid=\"472\" data-symbol=\"CAD=X\" href=\"/chart/CAD%3DX?p=CAD%3DX\" rel=\"noopener\" target=\"_blank\"><!-- react-empty: 473 --></a></td></tr><tr class=\"data-rowEURJPY=X Bgc($extraLightBlue):h BdT Bdc($tableBorderGray) Bdc($tableBorderBlue):h H(33px) Bgc($altRowColor) Whs(nw)\" data-reactid=\"474\"><td class=\"data-col0 Ta(start) Pstart(6px)\" data-reactid=\"475\"><a class=\"Fw(b)\" data-reactid=\"476\" data-symbol=\"EURJPY=X\" href=\"/quote/EURJPY%3DX?p=EURJPY%3DX\" title=\"EUR/JPY\">EURJPY=X</a></td><td class=\"data-col1 Ta(start) Pend(10px)\" data-reactid=\"477\">EUR/JPY</td><td class=\"data-col2 Ta(end) Pstart(20px)\" data-reactid=\"478\">128.947</td><td class=\"data-col3 Ta(end) Pstart(20px)\" data-reactid=\"479\"><span class=\"Trsdu(0.3s) C($dataGreen)\" data-reactid=\"480\">+0.080</span></td><td class=\"data-col4 Ta(end) Pstart(20px)\" data-reactid=\"481\"><span class=\"Trsdu(0.3s) C($dataGreen)\" data-reactid=\"482\">+0.06%</span></td><td class=\"data-col5 Ta(start) Pstart(20px) Pend(10px) W(120px)\" data-reactid=\"483\"><canvas data-reactid=\"484\" style=\"width:140px;height:23px;\"></canvas></td><td class=\"data-col6 Ta(start) Pstart(20px) Pend(6px) W(120px)\" data-reactid=\"485\"><a data-reactid=\"486\" data-symbol=\"EURJPY=X\" href=\"/chart/EURJPY%3DX?p=EURJPY%3DX\" rel=\"noopener\" target=\"_blank\"><!-- react-empty: 487 --></a></td></tr><tr class=\"data-rowGBPJPY=X Bgc($extraLightBlue):h BdT Bdc($tableBorderGray) Bdc($tableBorderBlue):h H(33px) Whs(nw)\" data-reactid=\"488\"><td class=\"data-col0 Ta(start) Pstart(6px)\" data-reactid=\"489\"><a class=\"Fw(b)\" data-reactid=\"490\" data-symbol=\"GBPJPY=X\" href=\"/quote/GBPJPY%3DX?p=GBPJPY%3DX\" title=\"GBP/JPY\">GBPJPY=X</a></td><td class=\"data-col1 Ta(start) Pend(10px)\" data-reactid=\"491\">GBP/JPY</td><td class=\"data-col2 Ta(end) Pstart(20px)\" data-reactid=\"492\">144.714</td><td class=\"data-col3 Ta(end) Pstart(20px)\" data-reactid=\"493\"><span class=\"Trsdu(0.3s) C($dataRed)\" data-reactid=\"494\">-0.014</span></td><td class=\"data-col4 Ta(end) Pstart(20px)\" data-reactid=\"495\"><span class=\"Trsdu(0.3s) C($dataRed)\" data-reactid=\"496\">-0.01%</span></td><td class=\"data-col5 Ta(start) Pstart(20px) Pend(10px) W(120px)\" data-reactid=\"497\"><canvas data-reactid=\"498\" style=\"width:140px;height:23px;\"></canvas></td><td class=\"data-col6 Ta(start) Pstart(20px) Pend(6px) W(120px)\" data-reactid=\"499\"><a data-reactid=\"500\" data-symbol=\"GBPJPY=X\" href=\"/chart/GBPJPY%3DX?p=GBPJPY%3DX\" rel=\"noopener\" target=\"_blank\"><!-- react-empty: 501 --></a></td></tr><tr class=\"data-rowEURGBP=X Bgc($extraLightBlue):h BdT Bdc($tableBorderGray) Bdc($tableBorderBlue):h H(33px) Bgc($altRowColor) Whs(nw)\" data-reactid=\"502\"><td class=\"data-col0 Ta(start) Pstart(6px)\" data-reactid=\"503\"><a class=\"Fw(b)\" data-reactid=\"504\" data-symbol=\"EURGBP=X\" href=\"/quote/EURGBP%3DX?p=EURGBP%3DX\" title=\"EUR/GBP\">EURGBP=X</a></td><td class=\"data-col1 Ta(start) Pend(10px)\" data-reactid=\"505\">EUR/GBP</td><td class=\"data-col2 Ta(end) Pstart(20px)\" data-reactid=\"506\">0.89079</td><td class=\"data-col3 Ta(end) Pstart(20px)\" data-reactid=\"507\"><span class=\"Trsdu(0.3s) C($dataGreen)\" data-reactid=\"508\">+0.00069</span></td><td class=\"data-col4 Ta(end) Pstart(20px)\" data-reactid=\"509\"><span class=\"Trsdu(0.3s) C($dataGreen)\" data-reactid=\"510\">+0.08%</span></td><td class=\"data-col5 Ta(start) Pstart(20px) Pend(10px) W(120px)\" data-reactid=\"511\"><canvas data-reactid=\"512\" style=\"width:140px;height:23px;\"></canvas></td><td class=\"data-col6 Ta(start) Pstart(20px) Pend(6px) W(120px)\" data-reactid=\"513\"><a data-reactid=\"514\" data-symbol=\"EURGBP=X\" href=\"/chart/EURGBP%3DX?p=EURGBP%3DX\" rel=\"noopener\" target=\"_blank\"><!-- react-empty: 515 --></a></td></tr><tr class=\"data-rowEURSEK=X Bgc($extraLightBlue):h BdT Bdc($tableBorderGray) Bdc($tableBorderBlue):h H(33px) Whs(nw)\" data-reactid=\"516\"><td class=\"data-col0 Ta(start) Pstart(6px)\" data-reactid=\"517\"><a class=\"Fw(b)\" data-reactid=\"518\" data-symbol=\"EURSEK=X\" href=\"/quote/EURSEK%3DX?p=EURSEK%3DX\" title=\"EUR/SEK\">EURSEK=X</a></td><td class=\"data-col1 Ta(start) Pend(10px)\" data-reactid=\"519\">EUR/SEK</td><td class=\"data-col2 Ta(end) Pstart(20px)\" data-reactid=\"520\">10.31036</td><td class=\"data-col3 Ta(end) Pstart(20px)\" data-reactid=\"521\"><span class=\"Trsdu(0.3s) C($dataGreen)\" data-reactid=\"522\">+0.00718</span></td><td class=\"data-col4 Ta(end) Pstart(20px)\" data-reactid=\"523\"><span class=\"Trsdu(0.3s) C($dataGreen)\" data-reactid=\"524\">+0.07%</span></td><td class=\"data-col5 Ta(start) Pstart(20px) Pend(10px) W(120px)\" data-reactid=\"525\"><canvas data-reactid=\"526\" style=\"width:140px;height:23px;\"></canvas></td><td class=\"data-col6 Ta(start) Pstart(20px) Pend(6px) W(120px)\" data-reactid=\"527\"><a data-reactid=\"528\" data-symbol=\"EURSEK=X\" href=\"/chart/EURSEK%3DX?p=EURSEK%3DX\" rel=\"noopener\" target=\"_blank\"><!-- react-empty: 529 --></a></td></tr><tr class=\"data-rowEURCHF=X Bgc($extraLightBlue):h BdT Bdc($tableBorderGray) Bdc($tableBorderBlue):h H(33px) Bgc($altRowColor) Whs(nw)\" data-reactid=\"530\"><td class=\"data-col0 Ta(start) Pstart(6px)\" data-reactid=\"531\"><a class=\"Fw(b)\" data-reactid=\"532\" data-symbol=\"EURCHF=X\" href=\"/quote/EURCHF%3DX?p=EURCHF%3DX\" title=\"EUR/CHF\">EURCHF=X</a></td><td class=\"data-col1 Ta(start) Pend(10px)\" data-reactid=\"533\">EUR/CHF</td><td class=\"data-col2 Ta(end) Pstart(20px)\" data-reactid=\"534\">1.1366</td><td class=\"data-col3 Ta(end) Pstart(20px)\" data-reactid=\"535\"><span class=\"Trsdu(0.3s) C($dataRed)\" data-reactid=\"536\">-0.0010</span></td><td class=\"data-col4 Ta(end) Pstart(20px)\" data-reactid=\"537\"><span class=\"Trsdu(0.3s) C($dataRed)\" data-reactid=\"538\">-0.09%</span></td><td class=\"data-col5 Ta(start) Pstart(20px) Pend(10px) W(120px)\" data-reactid=\"539\"><canvas data-reactid=\"540\" style=\"width:140px;height:23px;\"></canvas></td><td class=\"data-col6 Ta(start) Pstart(20px) Pend(6px) W(120px)\" data-reactid=\"541\"><a data-reactid=\"542\" data-symbol=\"EURCHF=X\" href=\"/chart/EURCHF%3DX?p=EURCHF%3DX\" rel=\"noopener\" target=\"_blank\"><!-- react-empty: 543 --></a></td></tr><tr class=\"data-rowEURHUF=X Bgc($extraLightBlue):h BdT Bdc($tableBorderGray) Bdc($tableBorderBlue):h H(33px) Whs(nw)\" data-reactid=\"544\"><td class=\"data-col0 Ta(start) Pstart(6px)\" data-reactid=\"545\"><a class=\"Fw(b)\" data-reactid=\"546\" data-symbol=\"EURHUF=X\" href=\"/quote/EURHUF%3DX?p=EURHUF%3DX\" title=\"EUR/HUF\">EURHUF=X</a></td><td class=\"data-col1 Ta(start) Pend(10px)\" data-reactid=\"547\">EUR/HUF</td><td class=\"data-col2 Ta(end) Pstart(20px)\" data-reactid=\"548\">321.08</td><td class=\"data-col3 Ta(end) Pstart(20px)\" data-reactid=\"549\"><span class=\"Trsdu(0.3s) C($dataGreen)\" data-reactid=\"550\">+0.12</span></td><td class=\"data-col4 Ta(end) Pstart(20px)\" data-reactid=\"551\"><span class=\"Trsdu(0.3s) C($dataGreen)\" data-reactid=\"552\">+0.04%</span></td><td class=\"data-col5 Ta(start) Pstart(20px) Pend(10px) W(120px)\" data-reactid=\"553\"><canvas data-reactid=\"554\" style=\"width:140px;height:23px;\"></canvas></td><td class=\"data-col6 Ta(start) Pstart(20px) Pend(6px) W(120px)\" data-reactid=\"555\"><a data-reactid=\"556\" data-symbol=\"EURHUF=X\" href=\"/chart/EURHUF%3DX?p=EURHUF%3DX\" rel=\"noopener\" target=\"_blank\"><!-- react-empty: 557 --></a></td></tr><tr class=\"data-rowEURJPY=X Bgc($extraLightBlue):h BdT Bdc($tableBorderGray) Bdc($tableBorderBlue):h H(33px) Bgc($altRowColor) Whs(nw)\" data-reactid=\"558\"><td class=\"data-col0 Ta(start) Pstart(6px)\" data-reactid=\"559\"><a class=\"Fw(b)\" data-reactid=\"560\" data-symbol=\"EURJPY=X\" href=\"/quote/EURJPY%3DX?p=EURJPY%3DX\" title=\"EUR/JPY\">EURJPY=X</a></td><td class=\"data-col1 Ta(start) Pend(10px)\" data-reactid=\"561\">EUR/JPY</td><td class=\"data-col2 Ta(end) Pstart(20px)\" data-reactid=\"562\">128.947</td><td class=\"data-col3 Ta(end) Pstart(20px)\" data-reactid=\"563\"><span class=\"Trsdu(0.3s) C($dataGreen)\" data-reactid=\"564\">+0.080</span></td><td class=\"data-col4 Ta(end) Pstart(20px)\" data-reactid=\"565\"><span class=\"Trsdu(0.3s) C($dataGreen)\" data-reactid=\"566\">+0.06%</span></td><td class=\"data-col5 Ta(start) Pstart(20px) Pend(10px) W(120px)\" data-reactid=\"567\"><canvas data-reactid=\"568\" style=\"width:140px;height:23px;\"></canvas></td><td class=\"data-col6 Ta(start) Pstart(20px) Pend(6px) W(120px)\" data-reactid=\"569\"><a data-reactid=\"570\" data-symbol=\"EURJPY=X\" href=\"/chart/EURJPY%3DX?p=EURJPY%3DX\" rel=\"noopener\" target=\"_blank\"><!-- react-empty: 571 --></a></td></tr></tbody></table>"
      ]
     },
     "execution_count": 9,
     "metadata": {},
     "output_type": "execute_result"
    }
   ],
   "source": [
    "table"
   ]
  },
  {
   "cell_type": "code",
   "execution_count": 10,
   "metadata": {
    "collapsed": true
   },
   "outputs": [],
   "source": [
    "rows=table.find_all(\"tr\")# Find the row within table"
   ]
  },
  {
   "cell_type": "code",
   "execution_count": 11,
   "metadata": {},
   "outputs": [
    {
     "data": {
      "text/plain": [
       "[<tr class=\"C($c-fuji-grey-j)\" data-reactid=\"17\"><th class=\"Va(b) Py(4px) Fw(400) Fz(xs) Cur(p) Ta(start) Pend(10px) Pstart(6px)\" data-reactid=\"18\"><span data-reactid=\"19\">Symbol</span><!-- react-text: 20 --><!-- /react-text --></th><th class=\"Va(b) Py(4px) Fw(400) Fz(xs) Cur(p) Ta(start) Pend(10px)\" data-reactid=\"21\"><span data-reactid=\"22\">Name</span><!-- react-text: 23 --><!-- /react-text --></th><th class=\"Va(b) Py(4px) Fw(400) Fz(xs) Cur(p) Ta(end) Pstart(20px)\" data-reactid=\"24\"><span data-reactid=\"25\">Last price</span><!-- react-text: 26 --><!-- /react-text --></th><th class=\"Va(b) Py(4px) Fw(400) Fz(xs) Cur(p) Ta(end) Pstart(20px)\" data-reactid=\"27\"><span data-reactid=\"28\">Change</span><!-- react-text: 29 --><!-- /react-text --></th><th class=\"Va(b) Py(4px) Fw(400) Fz(xs) Cur(p) Ta(end) Pstart(20px)\" data-reactid=\"30\"><span data-reactid=\"31\">% change</span><!-- react-text: 32 --><!-- /react-text --></th><th class=\"Va(b) Py(4px) Fw(400) Fz(xs) Cur(p) Ta(start) Pstart(20px) Pend(10px) W(120px)\" data-reactid=\"33\"><span data-reactid=\"34\">52-week range</span><!-- react-text: 35 --><!-- /react-text --></th><th class=\"Va(b) Py(4px) Fw(400) Fz(xs) Cur(p) Ta(start) Pstart(20px) Pend(6px) W(60px)\" data-reactid=\"36\"><span data-reactid=\"37\">Day chart</span><!-- react-text: 38 --><!-- /react-text --></th></tr>,\n",
       " <tr class=\"data-rowSGD=X Bgc($extraLightBlue):h BdT Bdc($tableBorderGray) Bdc($tableBorderBlue):h H(33px) Whs(nw)\" data-reactid=\"40\"><td class=\"data-col0 Ta(start) Pstart(6px)\" data-reactid=\"41\"><a class=\"Fw(b)\" data-reactid=\"42\" data-symbol=\"SGD=X\" href=\"/quote/SGD%3DX?p=SGD%3DX\" title=\"USD/SGD\">SGD=X</a></td><td class=\"data-col1 Ta(start) Pend(10px)\" data-reactid=\"43\">USD/SGD</td><td class=\"data-col2 Ta(end) Pstart(20px)\" data-reactid=\"44\">1.37093</td><td class=\"data-col3 Ta(end) Pstart(20px)\" data-reactid=\"45\"><span class=\"Trsdu(0.3s) C($dataRed)\" data-reactid=\"46\">-0.00048</span></td><td class=\"data-col4 Ta(end) Pstart(20px)\" data-reactid=\"47\"><span class=\"Trsdu(0.3s) C($dataRed)\" data-reactid=\"48\">-0.03500%</span></td><td class=\"data-col5 Ta(start) Pstart(20px) Pend(10px) W(120px)\" data-reactid=\"49\"><canvas data-reactid=\"50\" style=\"width:140px;height:23px;\"></canvas></td><td class=\"data-col6 Ta(start) Pstart(20px) Pend(6px) W(120px)\" data-reactid=\"51\"><a data-reactid=\"52\" data-symbol=\"SGD=X\" href=\"/chart/SGD%3DX?p=SGD%3DX\" rel=\"noopener\" target=\"_blank\"><!-- react-empty: 53 --></a></td></tr>,\n",
       " <tr class=\"data-rowSGDMYR=X Bgc($extraLightBlue):h BdT Bdc($tableBorderGray) Bdc($tableBorderBlue):h H(33px) Bgc($altRowColor) Whs(nw)\" data-reactid=\"54\"><td class=\"data-col0 Ta(start) Pstart(6px)\" data-reactid=\"55\"><a class=\"Fw(b)\" data-reactid=\"56\" data-symbol=\"SGDMYR=X\" href=\"/quote/SGDMYR%3DX?p=SGDMYR%3DX\" title=\"SGD/MYR\">SGDMYR=X</a></td><td class=\"data-col1 Ta(start) Pend(10px)\" data-reactid=\"57\">SGD/MYR</td><td class=\"data-col2 Ta(end) Pstart(20px)\" data-reactid=\"58\">3.0542</td><td class=\"data-col3 Ta(end) Pstart(20px)\" data-reactid=\"59\"><span class=\"Trsdu(0.3s) C($dataGreen)\" data-reactid=\"60\">+0.0010</span></td><td class=\"data-col4 Ta(end) Pstart(20px)\" data-reactid=\"61\"><span class=\"Trsdu(0.3s) C($dataGreen)\" data-reactid=\"62\">+0.03%</span></td><td class=\"data-col5 Ta(start) Pstart(20px) Pend(10px) W(120px)\" data-reactid=\"63\"><canvas data-reactid=\"64\" style=\"width:140px;height:23px;\"></canvas></td><td class=\"data-col6 Ta(start) Pstart(20px) Pend(6px) W(120px)\" data-reactid=\"65\"><a data-reactid=\"66\" data-symbol=\"SGDMYR=X\" href=\"/chart/SGDMYR%3DX?p=SGDMYR%3DX\" rel=\"noopener\" target=\"_blank\"><!-- react-empty: 67 --></a></td></tr>,\n",
       " <tr class=\"data-rowGBPSGD=X Bgc($extraLightBlue):h BdT Bdc($tableBorderGray) Bdc($tableBorderBlue):h H(33px) Whs(nw)\" data-reactid=\"68\"><td class=\"data-col0 Ta(start) Pstart(6px)\" data-reactid=\"69\"><a class=\"Fw(b)\" data-reactid=\"70\" data-symbol=\"GBPSGD=X\" href=\"/quote/GBPSGD%3DX?p=GBPSGD%3DX\" title=\"GBP/SGD\">GBPSGD=X</a></td><td class=\"data-col1 Ta(start) Pend(10px)\" data-reactid=\"71\">GBP/SGD</td><td class=\"data-col2 Ta(end) Pstart(20px)\" data-reactid=\"72\">1.7631</td><td class=\"data-col3 Ta(end) Pstart(20px)\" data-reactid=\"73\"><span class=\"Trsdu(0.3s) C($dataRed)\" data-reactid=\"74\">-0.0013</span></td><td class=\"data-col4 Ta(end) Pstart(20px)\" data-reactid=\"75\"><span class=\"Trsdu(0.3s) C($dataRed)\" data-reactid=\"76\">-0.07%</span></td><td class=\"data-col5 Ta(start) Pstart(20px) Pend(10px) W(120px)\" data-reactid=\"77\"><canvas data-reactid=\"78\" style=\"width:140px;height:23px;\"></canvas></td><td class=\"data-col6 Ta(start) Pstart(20px) Pend(6px) W(120px)\" data-reactid=\"79\"><a data-reactid=\"80\" data-symbol=\"GBPSGD=X\" href=\"/chart/GBPSGD%3DX?p=GBPSGD%3DX\" rel=\"noopener\" target=\"_blank\"><!-- react-empty: 81 --></a></td></tr>,\n",
       " <tr class=\"data-rowEURSGD=X Bgc($extraLightBlue):h BdT Bdc($tableBorderGray) Bdc($tableBorderBlue):h H(33px) Bgc($altRowColor) Whs(nw)\" data-reactid=\"82\"><td class=\"data-col0 Ta(start) Pstart(6px)\" data-reactid=\"83\"><a class=\"Fw(b)\" data-reactid=\"84\" data-symbol=\"EURSGD=X\" href=\"/quote/EURSGD%3DX?p=EURSGD%3DX\" title=\"EUR/SGD\">EURSGD=X</a></td><td class=\"data-col1 Ta(start) Pend(10px)\" data-reactid=\"85\">EUR/SGD</td><td class=\"data-col2 Ta(end) Pstart(20px)\" data-reactid=\"86\">1.5707</td><td class=\"data-col3 Ta(end) Pstart(20px)\" data-reactid=\"87\"><span class=\"Trsdu(0.3s) C($dataRed)\" data-reactid=\"88\">-0.0001</span></td><td class=\"data-col4 Ta(end) Pstart(20px)\" data-reactid=\"89\"><span class=\"Trsdu(0.3s) C($dataRed)\" data-reactid=\"90\">-0.01%</span></td><td class=\"data-col5 Ta(start) Pstart(20px) Pend(10px) W(120px)\" data-reactid=\"91\"><canvas data-reactid=\"92\" style=\"width:140px;height:23px;\"></canvas></td><td class=\"data-col6 Ta(start) Pstart(20px) Pend(6px) W(120px)\" data-reactid=\"93\"><a data-reactid=\"94\" data-symbol=\"EURSGD=X\" href=\"/chart/EURSGD%3DX?p=EURSGD%3DX\" rel=\"noopener\" target=\"_blank\"><!-- react-empty: 95 --></a></td></tr>,\n",
       " <tr class=\"data-rowSGDJPY=X Bgc($extraLightBlue):h BdT Bdc($tableBorderGray) Bdc($tableBorderBlue):h H(33px) Whs(nw)\" data-reactid=\"96\"><td class=\"data-col0 Ta(start) Pstart(6px)\" data-reactid=\"97\"><a class=\"Fw(b)\" data-reactid=\"98\" data-symbol=\"SGDJPY=X\" href=\"/quote/SGDJPY%3DX?p=SGDJPY%3DX\" title=\"SGD/JPY\">SGDJPY=X</a></td><td class=\"data-col1 Ta(start) Pend(10px)\" data-reactid=\"99\">SGD/JPY</td><td class=\"data-col2 Ta(end) Pstart(20px)\" data-reactid=\"100\">82.054</td><td class=\"data-col3 Ta(end) Pstart(20px)\" data-reactid=\"101\"><span class=\"Trsdu(0.3s) C($dataGreen)\" data-reactid=\"102\">+0.084</span></td><td class=\"data-col4 Ta(end) Pstart(20px)\" data-reactid=\"103\"><span class=\"Trsdu(0.3s) C($dataGreen)\" data-reactid=\"104\">+0.10%</span></td><td class=\"data-col5 Ta(start) Pstart(20px) Pend(10px) W(120px)\" data-reactid=\"105\"><canvas data-reactid=\"106\" style=\"width:140px;height:23px;\"></canvas></td><td class=\"data-col6 Ta(start) Pstart(20px) Pend(6px) W(120px)\" data-reactid=\"107\"><a data-reactid=\"108\" data-symbol=\"SGDJPY=X\" href=\"/chart/SGDJPY%3DX?p=SGDJPY%3DX\" rel=\"noopener\" target=\"_blank\"><!-- react-empty: 109 --></a></td></tr>,\n",
       " <tr class=\"data-rowSGDHKD=X Bgc($extraLightBlue):h BdT Bdc($tableBorderGray) Bdc($tableBorderBlue):h H(33px) Bgc($altRowColor) Whs(nw)\" data-reactid=\"110\"><td class=\"data-col0 Ta(start) Pstart(6px)\" data-reactid=\"111\"><a class=\"Fw(b)\" data-reactid=\"112\" data-symbol=\"SGDHKD=X\" href=\"/quote/SGDHKD%3DX?p=SGDHKD%3DX\" title=\"SGD/HKD\">SGDHKD=X</a></td><td class=\"data-col1 Ta(start) Pend(10px)\" data-reactid=\"113\">SGD/HKD</td><td class=\"data-col2 Ta(end) Pstart(20px)\" data-reactid=\"114\">5.7108</td><td class=\"data-col3 Ta(end) Pstart(20px)\" data-reactid=\"115\"><span class=\"Trsdu(0.3s) C($dataGreen)\" data-reactid=\"116\">+0.0046</span></td><td class=\"data-col4 Ta(end) Pstart(20px)\" data-reactid=\"117\"><span class=\"Trsdu(0.3s) C($dataGreen)\" data-reactid=\"118\">+0.08%</span></td><td class=\"data-col5 Ta(start) Pstart(20px) Pend(10px) W(120px)\" data-reactid=\"119\"><canvas data-reactid=\"120\" style=\"width:140px;height:23px;\"></canvas></td><td class=\"data-col6 Ta(start) Pstart(20px) Pend(6px) W(120px)\" data-reactid=\"121\"><a data-reactid=\"122\" data-symbol=\"SGDHKD=X\" href=\"/chart/SGDHKD%3DX?p=SGDHKD%3DX\" rel=\"noopener\" target=\"_blank\"><!-- react-empty: 123 --></a></td></tr>,\n",
       " <tr class=\"data-rowSGDIDR=X Bgc($extraLightBlue):h BdT Bdc($tableBorderGray) Bdc($tableBorderBlue):h H(33px) Whs(nw)\" data-reactid=\"124\"><td class=\"data-col0 Ta(start) Pstart(6px)\" data-reactid=\"125\"><a class=\"Fw(b)\" data-reactid=\"126\" data-symbol=\"SGDIDR=X\" href=\"/quote/SGDIDR%3DX?p=SGDIDR%3DX\" title=\"SGD/IDR\">SGDIDR=X</a></td><td class=\"data-col1 Ta(start) Pend(10px)\" data-reactid=\"127\">SGD/IDR</td><td class=\"data-col2 Ta(end) Pstart(20px)\" data-reactid=\"128\">10,638.015</td><td class=\"data-col3 Ta(end) Pstart(20px)\" data-reactid=\"129\"><span class=\"Trsdu(0.3s) C($dataGreen)\" data-reactid=\"130\">+3.140</span></td><td class=\"data-col4 Ta(end) Pstart(20px)\" data-reactid=\"131\"><span class=\"Trsdu(0.3s) C($dataGreen)\" data-reactid=\"132\">+0.03%</span></td><td class=\"data-col5 Ta(start) Pstart(20px) Pend(10px) W(120px)\" data-reactid=\"133\"><canvas data-reactid=\"134\" style=\"width:140px;height:23px;\"></canvas></td><td class=\"data-col6 Ta(start) Pstart(20px) Pend(6px) W(120px)\" data-reactid=\"135\"><a data-reactid=\"136\" data-symbol=\"SGDIDR=X\" href=\"/chart/SGDIDR%3DX?p=SGDIDR%3DX\" rel=\"noopener\" target=\"_blank\"><!-- react-empty: 137 --></a></td></tr>,\n",
       " <tr class=\"data-rowSGDCNY=X Bgc($extraLightBlue):h BdT Bdc($tableBorderGray) Bdc($tableBorderBlue):h H(33px) Bgc($altRowColor) Whs(nw)\" data-reactid=\"138\"><td class=\"data-col0 Ta(start) Pstart(6px)\" data-reactid=\"139\"><a class=\"Fw(b)\" data-reactid=\"140\" data-symbol=\"SGDCNY=X\" href=\"/quote/SGDCNY%3DX?p=SGDCNY%3DX\" title=\"SGD/CNY\">SGDCNY=X</a></td><td class=\"data-col1 Ta(start) Pend(10px)\" data-reactid=\"141\">SGD/CNY</td><td class=\"data-col2 Ta(end) Pstart(20px)\" data-reactid=\"142\">5.0618</td><td class=\"data-col3 Ta(end) Pstart(20px)\" data-reactid=\"143\"><span class=\"Trsdu(0.3s) C($dataGreen)\" data-reactid=\"144\">+0.0017</span></td><td class=\"data-col4 Ta(end) Pstart(20px)\" data-reactid=\"145\"><span class=\"Trsdu(0.3s) C($dataGreen)\" data-reactid=\"146\">+0.03%</span></td><td class=\"data-col5 Ta(start) Pstart(20px) Pend(10px) W(120px)\" data-reactid=\"147\"><canvas data-reactid=\"148\" style=\"width:140px;height:23px;\"></canvas></td><td class=\"data-col6 Ta(start) Pstart(20px) Pend(6px) W(120px)\" data-reactid=\"149\"><a data-reactid=\"150\" data-symbol=\"SGDCNY=X\" href=\"/chart/SGDCNY%3DX?p=SGDCNY%3DX\" rel=\"noopener\" target=\"_blank\"><!-- react-empty: 151 --></a></td></tr>,\n",
       " <tr class=\"data-rowSGDPHP=X Bgc($extraLightBlue):h BdT Bdc($tableBorderGray) Bdc($tableBorderBlue):h H(33px) Whs(nw)\" data-reactid=\"152\"><td class=\"data-col0 Ta(start) Pstart(6px)\" data-reactid=\"153\"><a class=\"Fw(b)\" data-reactid=\"154\" data-symbol=\"SGDPHP=X\" href=\"/quote/SGDPHP%3DX?p=SGDPHP%3DX\" title=\"SGD/PHP\">SGDPHP=X</a></td><td class=\"data-col1 Ta(start) Pend(10px)\" data-reactid=\"155\">SGD/PHP</td><td class=\"data-col2 Ta(end) Pstart(20px)\" data-reactid=\"156\">38.355</td><td class=\"data-col3 Ta(end) Pstart(20px)\" data-reactid=\"157\"><span class=\"Trsdu(0.3s) C($dataGreen)\" data-reactid=\"158\">+0.108</span></td><td class=\"data-col4 Ta(end) Pstart(20px)\" data-reactid=\"159\"><span class=\"Trsdu(0.3s) C($dataGreen)\" data-reactid=\"160\">+0.28%</span></td><td class=\"data-col5 Ta(start) Pstart(20px) Pend(10px) W(120px)\" data-reactid=\"161\"><canvas data-reactid=\"162\" style=\"width:140px;height:23px;\"></canvas></td><td class=\"data-col6 Ta(start) Pstart(20px) Pend(6px) W(120px)\" data-reactid=\"163\"><a data-reactid=\"164\" data-symbol=\"SGDPHP=X\" href=\"/chart/SGDPHP%3DX?p=SGDPHP%3DX\" rel=\"noopener\" target=\"_blank\"><!-- react-empty: 165 --></a></td></tr>,\n",
       " <tr class=\"data-rowSGDTHB=X Bgc($extraLightBlue):h BdT Bdc($tableBorderGray) Bdc($tableBorderBlue):h H(33px) Bgc($altRowColor) Whs(nw)\" data-reactid=\"166\"><td class=\"data-col0 Ta(start) Pstart(6px)\" data-reactid=\"167\"><a class=\"Fw(b)\" data-reactid=\"168\" data-symbol=\"SGDTHB=X\" href=\"/quote/SGDTHB%3DX?p=SGDTHB%3DX\" title=\"SGD/THB\">SGDTHB=X</a></td><td class=\"data-col1 Ta(start) Pend(10px)\" data-reactid=\"169\">SGD/THB</td><td class=\"data-col2 Ta(end) Pstart(20px)\" data-reactid=\"170\">24.0383</td><td class=\"data-col3 Ta(end) Pstart(20px)\" data-reactid=\"171\"><span class=\"Trsdu(0.3s) C($dataGreen)\" data-reactid=\"172\">+0.0251</span></td><td class=\"data-col4 Ta(end) Pstart(20px)\" data-reactid=\"173\"><span class=\"Trsdu(0.3s) C($dataGreen)\" data-reactid=\"174\">+0.10%</span></td><td class=\"data-col5 Ta(start) Pstart(20px) Pend(10px) W(120px)\" data-reactid=\"175\"><canvas data-reactid=\"176\" style=\"width:140px;height:23px;\"></canvas></td><td class=\"data-col6 Ta(start) Pstart(20px) Pend(6px) W(120px)\" data-reactid=\"177\"><a data-reactid=\"178\" data-symbol=\"SGDTHB=X\" href=\"/chart/SGDTHB%3DX?p=SGDTHB%3DX\" rel=\"noopener\" target=\"_blank\"><!-- react-empty: 179 --></a></td></tr>,\n",
       " <tr class=\"data-rowSGDINR=X Bgc($extraLightBlue):h BdT Bdc($tableBorderGray) Bdc($tableBorderBlue):h H(33px) Whs(nw)\" data-reactid=\"180\"><td class=\"data-col0 Ta(start) Pstart(6px)\" data-reactid=\"181\"><a class=\"Fw(b)\" data-reactid=\"182\" data-symbol=\"SGDINR=X\" href=\"/quote/SGDINR%3DX?p=SGDINR%3DX\" title=\"SGD/INR\">SGDINR=X</a></td><td class=\"data-col1 Ta(start) Pend(10px)\" data-reactid=\"183\">SGD/INR</td><td class=\"data-col2 Ta(end) Pstart(20px)\" data-reactid=\"184\">52.088</td><td class=\"data-col3 Ta(end) Pstart(20px)\" data-reactid=\"185\"><span class=\"Trsdu(0.3s) C($dataRed)\" data-reactid=\"186\">-0.143</span></td><td class=\"data-col4 Ta(end) Pstart(20px)\" data-reactid=\"187\"><span class=\"Trsdu(0.3s) C($dataRed)\" data-reactid=\"188\">-0.27%</span></td><td class=\"data-col5 Ta(start) Pstart(20px) Pend(10px) W(120px)\" data-reactid=\"189\"><canvas data-reactid=\"190\" style=\"width:140px;height:23px;\"></canvas></td><td class=\"data-col6 Ta(start) Pstart(20px) Pend(6px) W(120px)\" data-reactid=\"191\"><a data-reactid=\"192\" data-symbol=\"SGDINR=X\" href=\"/chart/SGDINR%3DX?p=SGDINR%3DX\" rel=\"noopener\" target=\"_blank\"><!-- react-empty: 193 --></a></td></tr>,\n",
       " <tr class=\"data-rowSGDVND=X Bgc($extraLightBlue):h BdT Bdc($tableBorderGray) Bdc($tableBorderBlue):h H(33px) Bgc($altRowColor) Whs(nw)\" data-reactid=\"194\"><td class=\"data-col0 Ta(start) Pstart(6px)\" data-reactid=\"195\"><a class=\"Fw(b)\" data-reactid=\"196\" data-symbol=\"SGDVND=X\" href=\"/quote/SGDVND%3DX?p=SGDVND%3DX\" title=\"SGD/VND\">SGDVND=X</a></td><td class=\"data-col1 Ta(start) Pend(10px)\" data-reactid=\"197\">SGD/VND</td><td class=\"data-col2 Ta(end) Pstart(20px)\" data-reactid=\"198\">16,967.60</td><td class=\"data-col3 Ta(end) Pstart(20px)\" data-reactid=\"199\"><span class=\"Trsdu(0.3s) \" data-reactid=\"200\">0.00</span></td><td class=\"data-col4 Ta(end) Pstart(20px)\" data-reactid=\"201\"><span class=\"Trsdu(0.3s) \" data-reactid=\"202\">0.00%</span></td><td class=\"data-col5 Ta(start) Pstart(20px) Pend(10px) W(120px)\" data-reactid=\"203\"><canvas data-reactid=\"204\" style=\"width:140px;height:23px;\"></canvas></td><td class=\"data-col6 Ta(start) Pstart(20px) Pend(6px) W(120px)\" data-reactid=\"205\"><a data-reactid=\"206\" data-symbol=\"SGDVND=X\" href=\"/chart/SGDVND%3DX?p=SGDVND%3DX\" rel=\"noopener\" target=\"_blank\"><!-- react-empty: 207 --></a></td></tr>,\n",
       " <tr class=\"data-rowSGDKRW=X Bgc($extraLightBlue):h BdT Bdc($tableBorderGray) Bdc($tableBorderBlue):h H(33px) Whs(nw)\" data-reactid=\"208\"><td class=\"data-col0 Ta(start) Pstart(6px)\" data-reactid=\"209\"><a class=\"Fw(b)\" data-reactid=\"210\" data-symbol=\"SGDKRW=X\" href=\"/quote/SGDKRW%3DX?p=SGDKRW%3DX\" title=\"SGD/KRW\">SGDKRW=X</a></td><td class=\"data-col1 Ta(start) Pend(10px)\" data-reactid=\"211\">SGD/KRW</td><td class=\"data-col2 Ta(end) Pstart(20px)\" data-reactid=\"212\">821.54</td><td class=\"data-col3 Ta(end) Pstart(20px)\" data-reactid=\"213\"><span class=\"Trsdu(0.3s) C($dataGreen)\" data-reactid=\"214\">+0.94</span></td><td class=\"data-col4 Ta(end) Pstart(20px)\" data-reactid=\"215\"><span class=\"Trsdu(0.3s) C($dataGreen)\" data-reactid=\"216\">+0.11%</span></td><td class=\"data-col5 Ta(start) Pstart(20px) Pend(10px) W(120px)\" data-reactid=\"217\"><canvas data-reactid=\"218\" style=\"width:140px;height:23px;\"></canvas></td><td class=\"data-col6 Ta(start) Pstart(20px) Pend(6px) W(120px)\" data-reactid=\"219\"><a data-reactid=\"220\" data-symbol=\"SGDKRW=X\" href=\"/chart/SGDKRW%3DX?p=SGDKRW%3DX\" rel=\"noopener\" target=\"_blank\"><!-- react-empty: 221 --></a></td></tr>,\n",
       " <tr class=\"data-rowAUDSGD=X Bgc($extraLightBlue):h BdT Bdc($tableBorderGray) Bdc($tableBorderBlue):h H(33px) Bgc($altRowColor) Whs(nw)\" data-reactid=\"222\"><td class=\"data-col0 Ta(start) Pstart(6px)\" data-reactid=\"223\"><a class=\"Fw(b)\" data-reactid=\"224\" data-symbol=\"AUDSGD=X\" href=\"/quote/AUDSGD%3DX?p=AUDSGD%3DX\" title=\"AUD/SGD\">AUDSGD=X</a></td><td class=\"data-col1 Ta(start) Pend(10px)\" data-reactid=\"225\">AUD/SGD</td><td class=\"data-col2 Ta(end) Pstart(20px)\" data-reactid=\"226\">0.9994</td><td class=\"data-col3 Ta(end) Pstart(20px)\" data-reactid=\"227\"><span class=\"Trsdu(0.3s) C($dataRed)\" data-reactid=\"228\">-0.0008</span></td><td class=\"data-col4 Ta(end) Pstart(20px)\" data-reactid=\"229\"><span class=\"Trsdu(0.3s) C($dataRed)\" data-reactid=\"230\">-0.08%</span></td><td class=\"data-col5 Ta(start) Pstart(20px) Pend(10px) W(120px)\" data-reactid=\"231\"><canvas data-reactid=\"232\" style=\"width:140px;height:23px;\"></canvas></td><td class=\"data-col6 Ta(start) Pstart(20px) Pend(6px) W(120px)\" data-reactid=\"233\"><a data-reactid=\"234\" data-symbol=\"AUDSGD=X\" href=\"/chart/AUDSGD%3DX?p=AUDSGD%3DX\" rel=\"noopener\" target=\"_blank\"><!-- react-empty: 235 --></a></td></tr>,\n",
       " <tr class=\"data-rowNZDSGD=X Bgc($extraLightBlue):h BdT Bdc($tableBorderGray) Bdc($tableBorderBlue):h H(33px) Whs(nw)\" data-reactid=\"236\"><td class=\"data-col0 Ta(start) Pstart(6px)\" data-reactid=\"237\"><a class=\"Fw(b)\" data-reactid=\"238\" data-symbol=\"NZDSGD=X\" href=\"/quote/NZDSGD%3DX?p=NZDSGD%3DX\" title=\"NZD/SGD\">NZDSGD=X</a></td><td class=\"data-col1 Ta(start) Pend(10px)\" data-reactid=\"239\">NZD/SGD</td><td class=\"data-col2 Ta(end) Pstart(20px)\" data-reactid=\"240\">0.9388</td><td class=\"data-col3 Ta(end) Pstart(20px)\" data-reactid=\"241\"><span class=\"Trsdu(0.3s) C($dataGreen)\" data-reactid=\"242\">+0.0016</span></td><td class=\"data-col4 Ta(end) Pstart(20px)\" data-reactid=\"243\"><span class=\"Trsdu(0.3s) C($dataGreen)\" data-reactid=\"244\">+0.17%</span></td><td class=\"data-col5 Ta(start) Pstart(20px) Pend(10px) W(120px)\" data-reactid=\"245\"><canvas data-reactid=\"246\" style=\"width:140px;height:23px;\"></canvas></td><td class=\"data-col6 Ta(start) Pstart(20px) Pend(6px) W(120px)\" data-reactid=\"247\"><a data-reactid=\"248\" data-symbol=\"NZDSGD=X\" href=\"/chart/NZDSGD%3DX?p=NZDSGD%3DX\" rel=\"noopener\" target=\"_blank\"><!-- react-empty: 249 --></a></td></tr>,\n",
       " <tr class=\"data-rowGBPUSD=X Bgc($extraLightBlue):h BdT Bdc($tableBorderGray) Bdc($tableBorderBlue):h H(33px) Bgc($altRowColor) Whs(nw)\" data-reactid=\"250\"><td class=\"data-col0 Ta(start) Pstart(6px)\" data-reactid=\"251\"><a class=\"Fw(b)\" data-reactid=\"252\" data-symbol=\"GBPUSD=X\" href=\"/quote/GBPUSD%3DX?p=GBPUSD%3DX\" title=\"GBP/USD\">GBPUSD=X</a></td><td class=\"data-col1 Ta(start) Pend(10px)\" data-reactid=\"253\">GBP/USD</td><td class=\"data-col2 Ta(end) Pstart(20px)\" data-reactid=\"254\">1.28596</td><td class=\"data-col3 Ta(end) Pstart(20px)\" data-reactid=\"255\"><span class=\"Trsdu(0.3s) C($dataRed)\" data-reactid=\"256\">-0.00071</span></td><td class=\"data-col4 Ta(end) Pstart(20px)\" data-reactid=\"257\"><span class=\"Trsdu(0.3s) C($dataRed)\" data-reactid=\"258\">-0.05529%</span></td><td class=\"data-col5 Ta(start) Pstart(20px) Pend(10px) W(120px)\" data-reactid=\"259\"><canvas data-reactid=\"260\" style=\"width:140px;height:23px;\"></canvas></td><td class=\"data-col6 Ta(start) Pstart(20px) Pend(6px) W(120px)\" data-reactid=\"261\"><a data-reactid=\"262\" data-symbol=\"GBPUSD=X\" href=\"/chart/GBPUSD%3DX?p=GBPUSD%3DX\" rel=\"noopener\" target=\"_blank\"><!-- react-empty: 263 --></a></td></tr>,\n",
       " <tr class=\"data-rowJPY=X Bgc($extraLightBlue):h BdT Bdc($tableBorderGray) Bdc($tableBorderBlue):h H(33px) Whs(nw)\" data-reactid=\"264\"><td class=\"data-col0 Ta(start) Pstart(6px)\" data-reactid=\"265\"><a class=\"Fw(b)\" data-reactid=\"266\" data-symbol=\"JPY=X\" href=\"/quote/JPY%3DX?p=JPY%3DX\" title=\"USD/JPY\">JPY=X</a></td><td class=\"data-col1 Ta(start) Pend(10px)\" data-reactid=\"267\">USD/JPY</td><td class=\"data-col2 Ta(end) Pstart(20px)\" data-reactid=\"268\">112.539</td><td class=\"data-col3 Ta(end) Pstart(20px)\" data-reactid=\"269\"><span class=\"Trsdu(0.3s) C($dataGreen)\" data-reactid=\"270\">+0.043</span></td><td class=\"data-col4 Ta(end) Pstart(20px)\" data-reactid=\"271\"><span class=\"Trsdu(0.3s) C($dataGreen)\" data-reactid=\"272\">+0.038%</span></td><td class=\"data-col5 Ta(start) Pstart(20px) Pend(10px) W(120px)\" data-reactid=\"273\"><canvas data-reactid=\"274\" style=\"width:140px;height:23px;\"></canvas></td><td class=\"data-col6 Ta(start) Pstart(20px) Pend(6px) W(120px)\" data-reactid=\"275\"><a data-reactid=\"276\" data-symbol=\"JPY=X\" href=\"/chart/JPY%3DX?p=JPY%3DX\" rel=\"noopener\" target=\"_blank\"><!-- react-empty: 277 --></a></td></tr>,\n",
       " <tr class=\"data-rowHKD=X Bgc($extraLightBlue):h BdT Bdc($tableBorderGray) Bdc($tableBorderBlue):h H(33px) Bgc($altRowColor) Whs(nw)\" data-reactid=\"278\"><td class=\"data-col0 Ta(start) Pstart(6px)\" data-reactid=\"279\"><a class=\"Fw(b)\" data-reactid=\"280\" data-symbol=\"HKD=X\" href=\"/quote/HKD%3DX?p=HKD%3DX\" title=\"USD/HKD\">HKD=X</a></td><td class=\"data-col1 Ta(start) Pend(10px)\" data-reactid=\"281\">USD/HKD</td><td class=\"data-col2 Ta(end) Pstart(20px)\" data-reactid=\"282\">7.83214</td><td class=\"data-col3 Ta(end) Pstart(20px)\" data-reactid=\"283\"><span class=\"Trsdu(0.3s) C($dataGreen)\" data-reactid=\"284\">+0.00174</span></td><td class=\"data-col4 Ta(end) Pstart(20px)\" data-reactid=\"285\"><span class=\"Trsdu(0.3s) C($dataGreen)\" data-reactid=\"286\">+0.02222%</span></td><td class=\"data-col5 Ta(start) Pstart(20px) Pend(10px) W(120px)\" data-reactid=\"287\"><canvas data-reactid=\"288\" style=\"width:140px;height:23px;\"></canvas></td><td class=\"data-col6 Ta(start) Pstart(20px) Pend(6px) W(120px)\" data-reactid=\"289\"><a data-reactid=\"290\" data-symbol=\"HKD=X\" href=\"/chart/HKD%3DX?p=HKD%3DX\" rel=\"noopener\" target=\"_blank\"><!-- react-empty: 291 --></a></td></tr>,\n",
       " <tr class=\"data-rowMYR=X Bgc($extraLightBlue):h BdT Bdc($tableBorderGray) Bdc($tableBorderBlue):h H(33px) Whs(nw)\" data-reactid=\"292\"><td class=\"data-col0 Ta(start) Pstart(6px)\" data-reactid=\"293\"><a class=\"Fw(b)\" data-reactid=\"294\" data-symbol=\"MYR=X\" href=\"/quote/MYR%3DX?p=MYR%3DX\" title=\"USD/MYR\">MYR=X</a></td><td class=\"data-col1 Ta(start) Pend(10px)\" data-reactid=\"295\">USD/MYR</td><td class=\"data-col2 Ta(end) Pstart(20px)\" data-reactid=\"296\">4.187</td><td class=\"data-col3 Ta(end) Pstart(20px)\" data-reactid=\"297\"><span class=\"Trsdu(0.3s) C($dataGreen)\" data-reactid=\"298\">+0.001</span></td><td class=\"data-col4 Ta(end) Pstart(20px)\" data-reactid=\"299\"><span class=\"Trsdu(0.3s) C($dataGreen)\" data-reactid=\"300\">+0.024%</span></td><td class=\"data-col5 Ta(start) Pstart(20px) Pend(10px) W(120px)\" data-reactid=\"301\"><canvas data-reactid=\"302\" style=\"width:140px;height:23px;\"></canvas></td><td class=\"data-col6 Ta(start) Pstart(20px) Pend(6px) W(120px)\" data-reactid=\"303\"><a data-reactid=\"304\" data-symbol=\"MYR=X\" href=\"/chart/MYR%3DX?p=MYR%3DX\" rel=\"noopener\" target=\"_blank\"><!-- react-empty: 305 --></a></td></tr>,\n",
       " <tr class=\"data-rowINR=X Bgc($extraLightBlue):h BdT Bdc($tableBorderGray) Bdc($tableBorderBlue):h H(33px) Bgc($altRowColor) Whs(nw)\" data-reactid=\"306\"><td class=\"data-col0 Ta(start) Pstart(6px)\" data-reactid=\"307\"><a class=\"Fw(b)\" data-reactid=\"308\" data-symbol=\"INR=X\" href=\"/quote/INR%3DX?p=INR%3DX\" title=\"USD/INR\">INR=X</a></td><td class=\"data-col1 Ta(start) Pend(10px)\" data-reactid=\"309\">USD/INR</td><td class=\"data-col2 Ta(end) Pstart(20px)\" data-reactid=\"310\">71.385</td><td class=\"data-col3 Ta(end) Pstart(20px)\" data-reactid=\"311\"><span class=\"Trsdu(0.3s) C($dataRed)\" data-reactid=\"312\">-0.220</span></td><td class=\"data-col4 Ta(end) Pstart(20px)\" data-reactid=\"313\"><span class=\"Trsdu(0.3s) C($dataRed)\" data-reactid=\"314\">-0.307%</span></td><td class=\"data-col5 Ta(start) Pstart(20px) Pend(10px) W(120px)\" data-reactid=\"315\"><canvas data-reactid=\"316\" style=\"width:140px;height:23px;\"></canvas></td><td class=\"data-col6 Ta(start) Pstart(20px) Pend(6px) W(120px)\" data-reactid=\"317\"><a data-reactid=\"318\" data-symbol=\"INR=X\" href=\"/chart/INR%3DX?p=INR%3DX\" rel=\"noopener\" target=\"_blank\"><!-- react-empty: 319 --></a></td></tr>,\n",
       " <tr class=\"data-rowCNY=X Bgc($extraLightBlue):h BdT Bdc($tableBorderGray) Bdc($tableBorderBlue):h H(33px) Whs(nw)\" data-reactid=\"320\"><td class=\"data-col0 Ta(start) Pstart(6px)\" data-reactid=\"321\"><a class=\"Fw(b)\" data-reactid=\"322\" data-symbol=\"CNY=X\" href=\"/quote/CNY%3DX?p=CNY%3DX\" title=\"USD/CNY\">CNY=X</a></td><td class=\"data-col1 Ta(start) Pend(10px)\" data-reactid=\"323\">USD/CNY</td><td class=\"data-col2 Ta(end) Pstart(20px)\" data-reactid=\"324\">6.9409</td><td class=\"data-col3 Ta(end) Pstart(20px)\" data-reactid=\"325\"><span class=\"Trsdu(0.3s) C($dataRed)\" data-reactid=\"326\">-0.0010</span></td><td class=\"data-col4 Ta(end) Pstart(20px)\" data-reactid=\"327\"><span class=\"Trsdu(0.3s) C($dataRed)\" data-reactid=\"328\">-0.0144%</span></td><td class=\"data-col5 Ta(start) Pstart(20px) Pend(10px) W(120px)\" data-reactid=\"329\"><canvas data-reactid=\"330\" style=\"width:140px;height:23px;\"></canvas></td><td class=\"data-col6 Ta(start) Pstart(20px) Pend(6px) W(120px)\" data-reactid=\"331\"><a data-reactid=\"332\" data-symbol=\"CNY=X\" href=\"/chart/CNY%3DX?p=CNY%3DX\" rel=\"noopener\" target=\"_blank\"><!-- react-empty: 333 --></a></td></tr>,\n",
       " <tr class=\"data-rowPHP=X Bgc($extraLightBlue):h BdT Bdc($tableBorderGray) Bdc($tableBorderBlue):h H(33px) Bgc($altRowColor) Whs(nw)\" data-reactid=\"334\"><td class=\"data-col0 Ta(start) Pstart(6px)\" data-reactid=\"335\"><a class=\"Fw(b)\" data-reactid=\"336\" data-symbol=\"PHP=X\" href=\"/quote/PHP%3DX?p=PHP%3DX\" title=\"USD/PHP\">PHP=X</a></td><td class=\"data-col1 Ta(start) Pend(10px)\" data-reactid=\"337\">USD/PHP</td><td class=\"data-col2 Ta(end) Pstart(20px)\" data-reactid=\"338\">52.58</td><td class=\"data-col3 Ta(end) Pstart(20px)\" data-reactid=\"339\"><span class=\"Trsdu(0.3s) C($dataGreen)\" data-reactid=\"340\">+0.13</span></td><td class=\"data-col4 Ta(end) Pstart(20px)\" data-reactid=\"341\"><span class=\"Trsdu(0.3s) C($dataGreen)\" data-reactid=\"342\">+0.25%</span></td><td class=\"data-col5 Ta(start) Pstart(20px) Pend(10px) W(120px)\" data-reactid=\"343\"><canvas data-reactid=\"344\" style=\"width:140px;height:23px;\"></canvas></td><td class=\"data-col6 Ta(start) Pstart(20px) Pend(6px) W(120px)\" data-reactid=\"345\"><a data-reactid=\"346\" data-symbol=\"PHP=X\" href=\"/chart/PHP%3DX?p=PHP%3DX\" rel=\"noopener\" target=\"_blank\"><!-- react-empty: 347 --></a></td></tr>,\n",
       " <tr class=\"data-rowIDR=X Bgc($extraLightBlue):h BdT Bdc($tableBorderGray) Bdc($tableBorderBlue):h H(33px) Whs(nw)\" data-reactid=\"348\"><td class=\"data-col0 Ta(start) Pstart(6px)\" data-reactid=\"349\"><a class=\"Fw(b)\" data-reactid=\"350\" data-symbol=\"IDR=X\" href=\"/quote/IDR%3DX?p=IDR%3DX\" title=\"USD/IDR\">IDR=X</a></td><td class=\"data-col1 Ta(start) Pend(10px)\" data-reactid=\"351\">USD/IDR</td><td class=\"data-col2 Ta(end) Pstart(20px)\" data-reactid=\"352\">14,585.00</td><td class=\"data-col3 Ta(end) Pstart(20px)\" data-reactid=\"353\"><span class=\"Trsdu(0.3s) C($dataGreen)\" data-reactid=\"354\">+5.00</span></td><td class=\"data-col4 Ta(end) Pstart(20px)\" data-reactid=\"355\"><span class=\"Trsdu(0.3s) C($dataGreen)\" data-reactid=\"356\">+0.03%</span></td><td class=\"data-col5 Ta(start) Pstart(20px) Pend(10px) W(120px)\" data-reactid=\"357\"><canvas data-reactid=\"358\" style=\"width:140px;height:23px;\"></canvas></td><td class=\"data-col6 Ta(start) Pstart(20px) Pend(6px) W(120px)\" data-reactid=\"359\"><a data-reactid=\"360\" data-symbol=\"IDR=X\" href=\"/chart/IDR%3DX?p=IDR%3DX\" rel=\"noopener\" target=\"_blank\"><!-- react-empty: 361 --></a></td></tr>,\n",
       " <tr class=\"data-rowTHB=X Bgc($extraLightBlue):h BdT Bdc($tableBorderGray) Bdc($tableBorderBlue):h H(33px) Bgc($altRowColor) Whs(nw)\" data-reactid=\"362\"><td class=\"data-col0 Ta(start) Pstart(6px)\" data-reactid=\"363\"><a class=\"Fw(b)\" data-reactid=\"364\" data-symbol=\"THB=X\" href=\"/quote/THB%3DX?p=THB%3DX\" title=\"USD/THB\">THB=X</a></td><td class=\"data-col1 Ta(start) Pend(10px)\" data-reactid=\"365\">USD/THB</td><td class=\"data-col2 Ta(end) Pstart(20px)\" data-reactid=\"366\">32.942</td><td class=\"data-col3 Ta(end) Pstart(20px)\" data-reactid=\"367\"><span class=\"Trsdu(0.3s) C($dataGreen)\" data-reactid=\"368\">+0.032</span></td><td class=\"data-col4 Ta(end) Pstart(20px)\" data-reactid=\"369\"><span class=\"Trsdu(0.3s) C($dataGreen)\" data-reactid=\"370\">+0.097%</span></td><td class=\"data-col5 Ta(start) Pstart(20px) Pend(10px) W(120px)\" data-reactid=\"371\"><canvas data-reactid=\"372\" style=\"width:140px;height:23px;\"></canvas></td><td class=\"data-col6 Ta(start) Pstart(20px) Pend(6px) W(120px)\" data-reactid=\"373\"><a data-reactid=\"374\" data-symbol=\"THB=X\" href=\"/chart/THB%3DX?p=THB%3DX\" rel=\"noopener\" target=\"_blank\"><!-- react-empty: 375 --></a></td></tr>,\n",
       " <tr class=\"data-rowCHF=X Bgc($extraLightBlue):h BdT Bdc($tableBorderGray) Bdc($tableBorderBlue):h H(33px) Whs(nw)\" data-reactid=\"376\"><td class=\"data-col0 Ta(start) Pstart(6px)\" data-reactid=\"377\"><a class=\"Fw(b)\" data-reactid=\"378\" data-symbol=\"CHF=X\" href=\"/quote/CHF%3DX?p=CHF%3DX\" title=\"USD/CHF\">CHF=X</a></td><td class=\"data-col1 Ta(start) Pend(10px)\" data-reactid=\"379\">USD/CHF</td><td class=\"data-col2 Ta(end) Pstart(20px)\" data-reactid=\"380\">0.99218</td><td class=\"data-col3 Ta(end) Pstart(20px)\" data-reactid=\"381\"><span class=\"Trsdu(0.3s) C($dataRed)\" data-reactid=\"382\">-0.00101</span></td><td class=\"data-col4 Ta(end) Pstart(20px)\" data-reactid=\"383\"><span class=\"Trsdu(0.3s) C($dataRed)\" data-reactid=\"384\">-0.10169%</span></td><td class=\"data-col5 Ta(start) Pstart(20px) Pend(10px) W(120px)\" data-reactid=\"385\"><canvas data-reactid=\"386\" style=\"width:140px;height:23px;\"></canvas></td><td class=\"data-col6 Ta(start) Pstart(20px) Pend(6px) W(120px)\" data-reactid=\"387\"><a data-reactid=\"388\" data-symbol=\"CHF=X\" href=\"/chart/CHF%3DX?p=CHF%3DX\" rel=\"noopener\" target=\"_blank\"><!-- react-empty: 389 --></a></td></tr>,\n",
       " <tr class=\"data-rowMXN=X Bgc($extraLightBlue):h BdT Bdc($tableBorderGray) Bdc($tableBorderBlue):h H(33px) Bgc($altRowColor) Whs(nw)\" data-reactid=\"390\"><td class=\"data-col0 Ta(start) Pstart(6px)\" data-reactid=\"391\"><a class=\"Fw(b)\" data-reactid=\"392\" data-symbol=\"MXN=X\" href=\"/quote/MXN%3DX?p=MXN%3DX\" title=\"USD/MXN\">MXN=X</a></td><td class=\"data-col1 Ta(start) Pend(10px)\" data-reactid=\"393\">USD/MXN</td><td class=\"data-col2 Ta(end) Pstart(20px)\" data-reactid=\"394\">20.3449</td><td class=\"data-col3 Ta(end) Pstart(20px)\" data-reactid=\"395\"><span class=\"Trsdu(0.3s) C($dataRed)\" data-reactid=\"396\">-0.0130</span></td><td class=\"data-col4 Ta(end) Pstart(20px)\" data-reactid=\"397\"><span class=\"Trsdu(0.3s) C($dataRed)\" data-reactid=\"398\">-0.0639%</span></td><td class=\"data-col5 Ta(start) Pstart(20px) Pend(10px) W(120px)\" data-reactid=\"399\"><canvas data-reactid=\"400\" style=\"width:140px;height:23px;\"></canvas></td><td class=\"data-col6 Ta(start) Pstart(20px) Pend(6px) W(120px)\" data-reactid=\"401\"><a data-reactid=\"402\" data-symbol=\"MXN=X\" href=\"/chart/MXN%3DX?p=MXN%3DX\" rel=\"noopener\" target=\"_blank\"><!-- react-empty: 403 --></a></td></tr>,\n",
       " <tr class=\"data-rowAUDUSD=X Bgc($extraLightBlue):h BdT Bdc($tableBorderGray) Bdc($tableBorderBlue):h H(33px) Whs(nw)\" data-reactid=\"404\"><td class=\"data-col0 Ta(start) Pstart(6px)\" data-reactid=\"405\"><a class=\"Fw(b)\" data-reactid=\"406\" data-symbol=\"AUDUSD=X\" href=\"/quote/AUDUSD%3DX?p=AUDUSD%3DX\" title=\"AUD/USD\">AUDUSD=X</a></td><td class=\"data-col1 Ta(start) Pend(10px)\" data-reactid=\"407\">AUD/USD</td><td class=\"data-col2 Ta(end) Pstart(20px)\" data-reactid=\"408\">0.7291</td><td class=\"data-col3 Ta(end) Pstart(20px)\" data-reactid=\"409\"><span class=\"Trsdu(0.3s) C($dataRed)\" data-reactid=\"410\">-0.0004</span></td><td class=\"data-col4 Ta(end) Pstart(20px)\" data-reactid=\"411\"><span class=\"Trsdu(0.3s) C($dataRed)\" data-reactid=\"412\">-0.0510%</span></td><td class=\"data-col5 Ta(start) Pstart(20px) Pend(10px) W(120px)\" data-reactid=\"413\"><canvas data-reactid=\"414\" style=\"width:140px;height:23px;\"></canvas></td><td class=\"data-col6 Ta(start) Pstart(20px) Pend(6px) W(120px)\" data-reactid=\"415\"><a data-reactid=\"416\" data-symbol=\"AUDUSD=X\" href=\"/chart/AUDUSD%3DX?p=AUDUSD%3DX\" rel=\"noopener\" target=\"_blank\"><!-- react-empty: 417 --></a></td></tr>,\n",
       " <tr class=\"data-rowNZDUSD=X Bgc($extraLightBlue):h BdT Bdc($tableBorderGray) Bdc($tableBorderBlue):h H(33px) Bgc($altRowColor) Whs(nw)\" data-reactid=\"418\"><td class=\"data-col0 Ta(start) Pstart(6px)\" data-reactid=\"419\"><a class=\"Fw(b)\" data-reactid=\"420\" data-symbol=\"NZDUSD=X\" href=\"/quote/NZDUSD%3DX?p=NZDUSD%3DX\" title=\"NZD/USD\">NZDUSD=X</a></td><td class=\"data-col1 Ta(start) Pend(10px)\" data-reactid=\"421\">NZD/USD</td><td class=\"data-col2 Ta(end) Pstart(20px)\" data-reactid=\"422\">0.6850</td><td class=\"data-col3 Ta(end) Pstart(20px)\" data-reactid=\"423\"><span class=\"Trsdu(0.3s) C($dataGreen)\" data-reactid=\"424\">+0.0011</span></td><td class=\"data-col4 Ta(end) Pstart(20px)\" data-reactid=\"425\"><span class=\"Trsdu(0.3s) C($dataGreen)\" data-reactid=\"426\">+0.1576%</span></td><td class=\"data-col5 Ta(start) Pstart(20px) Pend(10px) W(120px)\" data-reactid=\"427\"><canvas data-reactid=\"428\" style=\"width:140px;height:23px;\"></canvas></td><td class=\"data-col6 Ta(start) Pstart(20px) Pend(6px) W(120px)\" data-reactid=\"429\"><a data-reactid=\"430\" data-symbol=\"NZDUSD=X\" href=\"/chart/NZDUSD%3DX?p=NZDUSD%3DX\" rel=\"noopener\" target=\"_blank\"><!-- react-empty: 431 --></a></td></tr>,\n",
       " <tr class=\"data-rowKRW=X Bgc($extraLightBlue):h BdT Bdc($tableBorderGray) Bdc($tableBorderBlue):h H(33px) Whs(nw)\" data-reactid=\"432\"><td class=\"data-col0 Ta(start) Pstart(6px)\" data-reactid=\"433\"><a class=\"Fw(b)\" data-reactid=\"434\" data-symbol=\"KRW=X\" href=\"/quote/KRW%3DX?p=KRW%3DX\" title=\"USD/KRW\">KRW=X</a></td><td class=\"data-col1 Ta(start) Pend(10px)\" data-reactid=\"435\">USD/KRW</td><td class=\"data-col2 Ta(end) Pstart(20px)\" data-reactid=\"436\">1,126.49</td><td class=\"data-col3 Ta(end) Pstart(20px)\" data-reactid=\"437\"><span class=\"Trsdu(0.3s) C($dataGreen)\" data-reactid=\"438\">+0.59</span></td><td class=\"data-col4 Ta(end) Pstart(20px)\" data-reactid=\"439\"><span class=\"Trsdu(0.3s) C($dataGreen)\" data-reactid=\"440\">+0.05%</span></td><td class=\"data-col5 Ta(start) Pstart(20px) Pend(10px) W(120px)\" data-reactid=\"441\"><canvas data-reactid=\"442\" style=\"width:140px;height:23px;\"></canvas></td><td class=\"data-col6 Ta(start) Pstart(20px) Pend(6px) W(120px)\" data-reactid=\"443\"><a data-reactid=\"444\" data-symbol=\"KRW=X\" href=\"/chart/KRW%3DX?p=KRW%3DX\" rel=\"noopener\" target=\"_blank\"><!-- react-empty: 445 --></a></td></tr>,\n",
       " <tr class=\"data-rowVND=X Bgc($extraLightBlue):h BdT Bdc($tableBorderGray) Bdc($tableBorderBlue):h H(33px) Bgc($altRowColor) Whs(nw)\" data-reactid=\"446\"><td class=\"data-col0 Ta(start) Pstart(6px)\" data-reactid=\"447\"><a class=\"Fw(b)\" data-reactid=\"448\" data-symbol=\"VND=X\" href=\"/quote/VND%3DX?p=VND%3DX\" title=\"USD/VND\">VND=X</a></td><td class=\"data-col1 Ta(start) Pend(10px)\" data-reactid=\"449\">USD/VND</td><td class=\"data-col2 Ta(end) Pstart(20px)\" data-reactid=\"450\">23,300.00</td><td class=\"data-col3 Ta(end) Pstart(20px)\" data-reactid=\"451\"><span class=\"Trsdu(0.3s) \" data-reactid=\"452\">0.00</span></td><td class=\"data-col4 Ta(end) Pstart(20px)\" data-reactid=\"453\"><span class=\"Trsdu(0.3s) \" data-reactid=\"454\">0.00%</span></td><td class=\"data-col5 Ta(start) Pstart(20px) Pend(10px) W(120px)\" data-reactid=\"455\"><canvas data-reactid=\"456\" style=\"width:140px;height:23px;\"></canvas></td><td class=\"data-col6 Ta(start) Pstart(20px) Pend(6px) W(120px)\" data-reactid=\"457\"><a data-reactid=\"458\" data-symbol=\"VND=X\" href=\"/chart/VND%3DX?p=VND%3DX\" rel=\"noopener\" target=\"_blank\"><!-- react-empty: 459 --></a></td></tr>,\n",
       " <tr class=\"data-rowCAD=X Bgc($extraLightBlue):h BdT Bdc($tableBorderGray) Bdc($tableBorderBlue):h H(33px) Whs(nw)\" data-reactid=\"460\"><td class=\"data-col0 Ta(start) Pstart(6px)\" data-reactid=\"461\"><a class=\"Fw(b)\" data-reactid=\"462\" data-symbol=\"CAD=X\" href=\"/quote/CAD%3DX?p=CAD%3DX\" title=\"USD/CAD\">CAD=X</a></td><td class=\"data-col1 Ta(start) Pend(10px)\" data-reactid=\"463\">USD/CAD</td><td class=\"data-col2 Ta(end) Pstart(20px)\" data-reactid=\"464\">1.31668</td><td class=\"data-col3 Ta(end) Pstart(20px)\" data-reactid=\"465\"><span class=\"Trsdu(0.3s) C($dataRed)\" data-reactid=\"466\">-0.00028</span></td><td class=\"data-col4 Ta(end) Pstart(20px)\" data-reactid=\"467\"><span class=\"Trsdu(0.3s) C($dataRed)\" data-reactid=\"468\">-0.02126%</span></td><td class=\"data-col5 Ta(start) Pstart(20px) Pend(10px) W(120px)\" data-reactid=\"469\"><canvas data-reactid=\"470\" style=\"width:140px;height:23px;\"></canvas></td><td class=\"data-col6 Ta(start) Pstart(20px) Pend(6px) W(120px)\" data-reactid=\"471\"><a data-reactid=\"472\" data-symbol=\"CAD=X\" href=\"/chart/CAD%3DX?p=CAD%3DX\" rel=\"noopener\" target=\"_blank\"><!-- react-empty: 473 --></a></td></tr>,\n",
       " <tr class=\"data-rowEURJPY=X Bgc($extraLightBlue):h BdT Bdc($tableBorderGray) Bdc($tableBorderBlue):h H(33px) Bgc($altRowColor) Whs(nw)\" data-reactid=\"474\"><td class=\"data-col0 Ta(start) Pstart(6px)\" data-reactid=\"475\"><a class=\"Fw(b)\" data-reactid=\"476\" data-symbol=\"EURJPY=X\" href=\"/quote/EURJPY%3DX?p=EURJPY%3DX\" title=\"EUR/JPY\">EURJPY=X</a></td><td class=\"data-col1 Ta(start) Pend(10px)\" data-reactid=\"477\">EUR/JPY</td><td class=\"data-col2 Ta(end) Pstart(20px)\" data-reactid=\"478\">128.947</td><td class=\"data-col3 Ta(end) Pstart(20px)\" data-reactid=\"479\"><span class=\"Trsdu(0.3s) C($dataGreen)\" data-reactid=\"480\">+0.080</span></td><td class=\"data-col4 Ta(end) Pstart(20px)\" data-reactid=\"481\"><span class=\"Trsdu(0.3s) C($dataGreen)\" data-reactid=\"482\">+0.06%</span></td><td class=\"data-col5 Ta(start) Pstart(20px) Pend(10px) W(120px)\" data-reactid=\"483\"><canvas data-reactid=\"484\" style=\"width:140px;height:23px;\"></canvas></td><td class=\"data-col6 Ta(start) Pstart(20px) Pend(6px) W(120px)\" data-reactid=\"485\"><a data-reactid=\"486\" data-symbol=\"EURJPY=X\" href=\"/chart/EURJPY%3DX?p=EURJPY%3DX\" rel=\"noopener\" target=\"_blank\"><!-- react-empty: 487 --></a></td></tr>,\n",
       " <tr class=\"data-rowGBPJPY=X Bgc($extraLightBlue):h BdT Bdc($tableBorderGray) Bdc($tableBorderBlue):h H(33px) Whs(nw)\" data-reactid=\"488\"><td class=\"data-col0 Ta(start) Pstart(6px)\" data-reactid=\"489\"><a class=\"Fw(b)\" data-reactid=\"490\" data-symbol=\"GBPJPY=X\" href=\"/quote/GBPJPY%3DX?p=GBPJPY%3DX\" title=\"GBP/JPY\">GBPJPY=X</a></td><td class=\"data-col1 Ta(start) Pend(10px)\" data-reactid=\"491\">GBP/JPY</td><td class=\"data-col2 Ta(end) Pstart(20px)\" data-reactid=\"492\">144.714</td><td class=\"data-col3 Ta(end) Pstart(20px)\" data-reactid=\"493\"><span class=\"Trsdu(0.3s) C($dataRed)\" data-reactid=\"494\">-0.014</span></td><td class=\"data-col4 Ta(end) Pstart(20px)\" data-reactid=\"495\"><span class=\"Trsdu(0.3s) C($dataRed)\" data-reactid=\"496\">-0.01%</span></td><td class=\"data-col5 Ta(start) Pstart(20px) Pend(10px) W(120px)\" data-reactid=\"497\"><canvas data-reactid=\"498\" style=\"width:140px;height:23px;\"></canvas></td><td class=\"data-col6 Ta(start) Pstart(20px) Pend(6px) W(120px)\" data-reactid=\"499\"><a data-reactid=\"500\" data-symbol=\"GBPJPY=X\" href=\"/chart/GBPJPY%3DX?p=GBPJPY%3DX\" rel=\"noopener\" target=\"_blank\"><!-- react-empty: 501 --></a></td></tr>,\n",
       " <tr class=\"data-rowEURGBP=X Bgc($extraLightBlue):h BdT Bdc($tableBorderGray) Bdc($tableBorderBlue):h H(33px) Bgc($altRowColor) Whs(nw)\" data-reactid=\"502\"><td class=\"data-col0 Ta(start) Pstart(6px)\" data-reactid=\"503\"><a class=\"Fw(b)\" data-reactid=\"504\" data-symbol=\"EURGBP=X\" href=\"/quote/EURGBP%3DX?p=EURGBP%3DX\" title=\"EUR/GBP\">EURGBP=X</a></td><td class=\"data-col1 Ta(start) Pend(10px)\" data-reactid=\"505\">EUR/GBP</td><td class=\"data-col2 Ta(end) Pstart(20px)\" data-reactid=\"506\">0.89079</td><td class=\"data-col3 Ta(end) Pstart(20px)\" data-reactid=\"507\"><span class=\"Trsdu(0.3s) C($dataGreen)\" data-reactid=\"508\">+0.00069</span></td><td class=\"data-col4 Ta(end) Pstart(20px)\" data-reactid=\"509\"><span class=\"Trsdu(0.3s) C($dataGreen)\" data-reactid=\"510\">+0.08%</span></td><td class=\"data-col5 Ta(start) Pstart(20px) Pend(10px) W(120px)\" data-reactid=\"511\"><canvas data-reactid=\"512\" style=\"width:140px;height:23px;\"></canvas></td><td class=\"data-col6 Ta(start) Pstart(20px) Pend(6px) W(120px)\" data-reactid=\"513\"><a data-reactid=\"514\" data-symbol=\"EURGBP=X\" href=\"/chart/EURGBP%3DX?p=EURGBP%3DX\" rel=\"noopener\" target=\"_blank\"><!-- react-empty: 515 --></a></td></tr>,\n",
       " <tr class=\"data-rowEURSEK=X Bgc($extraLightBlue):h BdT Bdc($tableBorderGray) Bdc($tableBorderBlue):h H(33px) Whs(nw)\" data-reactid=\"516\"><td class=\"data-col0 Ta(start) Pstart(6px)\" data-reactid=\"517\"><a class=\"Fw(b)\" data-reactid=\"518\" data-symbol=\"EURSEK=X\" href=\"/quote/EURSEK%3DX?p=EURSEK%3DX\" title=\"EUR/SEK\">EURSEK=X</a></td><td class=\"data-col1 Ta(start) Pend(10px)\" data-reactid=\"519\">EUR/SEK</td><td class=\"data-col2 Ta(end) Pstart(20px)\" data-reactid=\"520\">10.31036</td><td class=\"data-col3 Ta(end) Pstart(20px)\" data-reactid=\"521\"><span class=\"Trsdu(0.3s) C($dataGreen)\" data-reactid=\"522\">+0.00718</span></td><td class=\"data-col4 Ta(end) Pstart(20px)\" data-reactid=\"523\"><span class=\"Trsdu(0.3s) C($dataGreen)\" data-reactid=\"524\">+0.07%</span></td><td class=\"data-col5 Ta(start) Pstart(20px) Pend(10px) W(120px)\" data-reactid=\"525\"><canvas data-reactid=\"526\" style=\"width:140px;height:23px;\"></canvas></td><td class=\"data-col6 Ta(start) Pstart(20px) Pend(6px) W(120px)\" data-reactid=\"527\"><a data-reactid=\"528\" data-symbol=\"EURSEK=X\" href=\"/chart/EURSEK%3DX?p=EURSEK%3DX\" rel=\"noopener\" target=\"_blank\"><!-- react-empty: 529 --></a></td></tr>,\n",
       " <tr class=\"data-rowEURCHF=X Bgc($extraLightBlue):h BdT Bdc($tableBorderGray) Bdc($tableBorderBlue):h H(33px) Bgc($altRowColor) Whs(nw)\" data-reactid=\"530\"><td class=\"data-col0 Ta(start) Pstart(6px)\" data-reactid=\"531\"><a class=\"Fw(b)\" data-reactid=\"532\" data-symbol=\"EURCHF=X\" href=\"/quote/EURCHF%3DX?p=EURCHF%3DX\" title=\"EUR/CHF\">EURCHF=X</a></td><td class=\"data-col1 Ta(start) Pend(10px)\" data-reactid=\"533\">EUR/CHF</td><td class=\"data-col2 Ta(end) Pstart(20px)\" data-reactid=\"534\">1.1366</td><td class=\"data-col3 Ta(end) Pstart(20px)\" data-reactid=\"535\"><span class=\"Trsdu(0.3s) C($dataRed)\" data-reactid=\"536\">-0.0010</span></td><td class=\"data-col4 Ta(end) Pstart(20px)\" data-reactid=\"537\"><span class=\"Trsdu(0.3s) C($dataRed)\" data-reactid=\"538\">-0.09%</span></td><td class=\"data-col5 Ta(start) Pstart(20px) Pend(10px) W(120px)\" data-reactid=\"539\"><canvas data-reactid=\"540\" style=\"width:140px;height:23px;\"></canvas></td><td class=\"data-col6 Ta(start) Pstart(20px) Pend(6px) W(120px)\" data-reactid=\"541\"><a data-reactid=\"542\" data-symbol=\"EURCHF=X\" href=\"/chart/EURCHF%3DX?p=EURCHF%3DX\" rel=\"noopener\" target=\"_blank\"><!-- react-empty: 543 --></a></td></tr>,\n",
       " <tr class=\"data-rowEURHUF=X Bgc($extraLightBlue):h BdT Bdc($tableBorderGray) Bdc($tableBorderBlue):h H(33px) Whs(nw)\" data-reactid=\"544\"><td class=\"data-col0 Ta(start) Pstart(6px)\" data-reactid=\"545\"><a class=\"Fw(b)\" data-reactid=\"546\" data-symbol=\"EURHUF=X\" href=\"/quote/EURHUF%3DX?p=EURHUF%3DX\" title=\"EUR/HUF\">EURHUF=X</a></td><td class=\"data-col1 Ta(start) Pend(10px)\" data-reactid=\"547\">EUR/HUF</td><td class=\"data-col2 Ta(end) Pstart(20px)\" data-reactid=\"548\">321.08</td><td class=\"data-col3 Ta(end) Pstart(20px)\" data-reactid=\"549\"><span class=\"Trsdu(0.3s) C($dataGreen)\" data-reactid=\"550\">+0.12</span></td><td class=\"data-col4 Ta(end) Pstart(20px)\" data-reactid=\"551\"><span class=\"Trsdu(0.3s) C($dataGreen)\" data-reactid=\"552\">+0.04%</span></td><td class=\"data-col5 Ta(start) Pstart(20px) Pend(10px) W(120px)\" data-reactid=\"553\"><canvas data-reactid=\"554\" style=\"width:140px;height:23px;\"></canvas></td><td class=\"data-col6 Ta(start) Pstart(20px) Pend(6px) W(120px)\" data-reactid=\"555\"><a data-reactid=\"556\" data-symbol=\"EURHUF=X\" href=\"/chart/EURHUF%3DX?p=EURHUF%3DX\" rel=\"noopener\" target=\"_blank\"><!-- react-empty: 557 --></a></td></tr>,\n",
       " <tr class=\"data-rowEURJPY=X Bgc($extraLightBlue):h BdT Bdc($tableBorderGray) Bdc($tableBorderBlue):h H(33px) Bgc($altRowColor) Whs(nw)\" data-reactid=\"558\"><td class=\"data-col0 Ta(start) Pstart(6px)\" data-reactid=\"559\"><a class=\"Fw(b)\" data-reactid=\"560\" data-symbol=\"EURJPY=X\" href=\"/quote/EURJPY%3DX?p=EURJPY%3DX\" title=\"EUR/JPY\">EURJPY=X</a></td><td class=\"data-col1 Ta(start) Pend(10px)\" data-reactid=\"561\">EUR/JPY</td><td class=\"data-col2 Ta(end) Pstart(20px)\" data-reactid=\"562\">128.947</td><td class=\"data-col3 Ta(end) Pstart(20px)\" data-reactid=\"563\"><span class=\"Trsdu(0.3s) C($dataGreen)\" data-reactid=\"564\">+0.080</span></td><td class=\"data-col4 Ta(end) Pstart(20px)\" data-reactid=\"565\"><span class=\"Trsdu(0.3s) C($dataGreen)\" data-reactid=\"566\">+0.06%</span></td><td class=\"data-col5 Ta(start) Pstart(20px) Pend(10px) W(120px)\" data-reactid=\"567\"><canvas data-reactid=\"568\" style=\"width:140px;height:23px;\"></canvas></td><td class=\"data-col6 Ta(start) Pstart(20px) Pend(6px) W(120px)\" data-reactid=\"569\"><a data-reactid=\"570\" data-symbol=\"EURJPY=X\" href=\"/chart/EURJPY%3DX?p=EURJPY%3DX\" rel=\"noopener\" target=\"_blank\"><!-- react-empty: 571 --></a></td></tr>]"
      ]
     },
     "execution_count": 11,
     "metadata": {},
     "output_type": "execute_result"
    }
   ],
   "source": [
    "rows"
   ]
  },
  {
   "cell_type": "code",
   "execution_count": 12,
   "metadata": {
    "scrolled": true
   },
   "outputs": [
    {
     "data": {
      "text/plain": [
       "39"
      ]
     },
     "execution_count": 12,
     "metadata": {},
     "output_type": "execute_result"
    }
   ],
   "source": [
    "len(rows)"
   ]
  },
  {
   "cell_type": "code",
   "execution_count": 13,
   "metadata": {
    "scrolled": true
   },
   "outputs": [
    {
     "data": {
      "text/plain": [
       "bs4.element.ResultSet"
      ]
     },
     "execution_count": 13,
     "metadata": {},
     "output_type": "execute_result"
    }
   ],
   "source": [
    "type(rows)"
   ]
  },
  {
   "cell_type": "code",
   "execution_count": 14,
   "metadata": {},
   "outputs": [
    {
     "name": "stdout",
     "output_type": "stream",
     "text": [
      "USD/SGD\n",
      "1.37093\n",
      "SGD/MYR\n",
      "3.0542\n",
      "GBP/SGD\n",
      "1.7631\n",
      "EUR/SGD\n",
      "1.5707\n",
      "SGD/JPY\n",
      "82.054\n",
      "SGD/HKD\n",
      "5.7108\n",
      "SGD/IDR\n",
      "10,638.015\n",
      "SGD/CNY\n",
      "5.0618\n",
      "SGD/PHP\n",
      "38.355\n",
      "SGD/THB\n",
      "24.0383\n",
      "SGD/INR\n",
      "52.088\n",
      "SGD/VND\n",
      "16,967.60\n",
      "SGD/KRW\n",
      "821.54\n",
      "AUD/SGD\n",
      "0.9994\n",
      "NZD/SGD\n",
      "0.9388\n",
      "GBP/USD\n",
      "1.28596\n",
      "USD/JPY\n",
      "112.539\n",
      "USD/HKD\n",
      "7.83214\n",
      "USD/MYR\n",
      "4.187\n",
      "USD/INR\n",
      "71.385\n",
      "USD/CNY\n",
      "6.9409\n",
      "USD/PHP\n",
      "52.58\n",
      "USD/IDR\n",
      "14,585.00\n",
      "USD/THB\n",
      "32.942\n",
      "USD/CHF\n",
      "0.99218\n",
      "USD/MXN\n",
      "20.3449\n",
      "AUD/USD\n",
      "0.7291\n",
      "NZD/USD\n",
      "0.6850\n",
      "USD/KRW\n",
      "1,126.49\n",
      "USD/VND\n",
      "23,300.00\n",
      "USD/CAD\n",
      "1.31668\n",
      "EUR/JPY\n",
      "128.947\n",
      "GBP/JPY\n",
      "144.714\n",
      "EUR/GBP\n",
      "0.89079\n",
      "EUR/SEK\n",
      "10.31036\n",
      "EUR/CHF\n",
      "1.1366\n",
      "EUR/HUF\n",
      "321.08\n",
      "EUR/JPY\n",
      "128.947\n"
     ]
    }
   ],
   "source": [
    "for row in rows:\n",
    "        cells = row.find_all(\"td\") #  Find all the \"td\" tags in each row \n",
    "        cells = cells[1:3] # Select the correct columns (1 & 2 as python is 0-indexed)\n",
    "        #print (cells)\n",
    "        for cell in cells:\n",
    "              print(cell.text)\n"
   ]
  },
  {
   "cell_type": "markdown",
   "metadata": {},
   "source": [
    "#### Format it in the same row"
   ]
  },
  {
   "cell_type": "code",
   "execution_count": 15,
   "metadata": {
    "scrolled": true
   },
   "outputs": [
    {
     "name": "stdout",
     "output_type": "stream",
     "text": [
      "\n",
      "\tUSD/SGD\t1.37093\n",
      "\tSGD/MYR\t3.0542\n",
      "\tGBP/SGD\t1.7631\n",
      "\tEUR/SGD\t1.5707\n",
      "\tSGD/JPY\t82.054\n",
      "\tSGD/HKD\t5.7108\n",
      "\tSGD/IDR\t10,638.015\n",
      "\tSGD/CNY\t5.0618\n",
      "\tSGD/PHP\t38.355\n",
      "\tSGD/THB\t24.0383\n",
      "\tSGD/INR\t52.088\n",
      "\tSGD/VND\t16,967.60\n",
      "\tSGD/KRW\t821.54\n",
      "\tAUD/SGD\t0.9994\n",
      "\tNZD/SGD\t0.9388\n",
      "\tGBP/USD\t1.28596\n",
      "\tUSD/JPY\t112.539\n",
      "\tUSD/HKD\t7.83214\n",
      "\tUSD/MYR\t4.187\n",
      "\tUSD/INR\t71.385\n",
      "\tUSD/CNY\t6.9409\n",
      "\tUSD/PHP\t52.58\n",
      "\tUSD/IDR\t14,585.00\n",
      "\tUSD/THB\t32.942\n",
      "\tUSD/CHF\t0.99218\n",
      "\tUSD/MXN\t20.3449\n",
      "\tAUD/USD\t0.7291\n",
      "\tNZD/USD\t0.6850\n",
      "\tUSD/KRW\t1,126.49\n",
      "\tUSD/VND\t23,300.00\n",
      "\tUSD/CAD\t1.31668\n",
      "\tEUR/JPY\t128.947\n",
      "\tGBP/JPY\t144.714\n",
      "\tEUR/GBP\t0.89079\n",
      "\tEUR/SEK\t10.31036\n",
      "\tEUR/CHF\t1.1366\n",
      "\tEUR/HUF\t321.08\n",
      "\tEUR/JPY\t128.947\n"
     ]
    }
   ],
   "source": [
    "for row in rows:\n",
    "        cells = row.find_all(\"td\") #  Find all the \"td\" tags in each row \n",
    "        cells = cells[1:3] # Select the correct columns (1 & 2 as python is 0-indexed)\n",
    "        #print (cells)\n",
    "        \n",
    "        for i in range(2):\n",
    "            cellss=\"\"\n",
    "            for cell in cells:\n",
    "              cellss=cellss + \"\\t\" + cell.text\n",
    "        print(cellss)\n"
   ]
  },
  {
   "cell_type": "markdown",
   "metadata": {},
   "source": [
    "https://www.crummy.com/software/BeautifulSoup/bs4/doc/"
   ]
  },
  {
   "cell_type": "markdown",
   "metadata": {},
   "source": [
    "<center>\n",
    "  <a href=\"12.1-working-with-web-data.ipynb\">Previous Page</a> | <a href=\"./\">Content Page</a> | <a href=\"13.1 ODBC.ipynb\">Open Data Base Connectivity</a></center>\n",
    "</center>"
   ]
  },
  {
   "cell_type": "code",
   "execution_count": null,
   "metadata": {
    "collapsed": true
   },
   "outputs": [],
   "source": []
  }
 ],
 "metadata": {
  "kernelspec": {
   "display_name": "Python 3 (ipykernel)",
   "language": "python",
   "name": "python3"
  },
  "language_info": {
   "codemirror_mode": {
    "name": "ipython",
    "version": 3
   },
   "file_extension": ".py",
   "mimetype": "text/x-python",
   "name": "python",
   "nbconvert_exporter": "python",
   "pygments_lexer": "ipython3",
   "version": "3.9.12"
  }
 },
 "nbformat": 4,
 "nbformat_minor": 2
}
