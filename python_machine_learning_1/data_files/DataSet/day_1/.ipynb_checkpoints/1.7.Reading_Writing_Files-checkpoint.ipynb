{
 "cells": [
  {
   "cell_type": "markdown",
   "metadata": {},
   "source": [
    "<center>\n",
    "  <a href=\"1.6.Control-Flow.ipynb\">Previous Page</a> | <a href=\"./\">Content Page</a> | <a href=\"1.8-Modules-and-Classes.ipynb\">Next Page</a></center>\n",
    "</center>"
   ]
  },
  {
   "cell_type": "markdown",
   "metadata": {},
   "source": [
    "# 1.7 Reading and Writing Files in Python"
   ]
  },
  {
   "cell_type": "markdown",
   "metadata": {},
   "source": [
    "##### About File\n",
    "- Files have many types such as images (bmp), text documents (txt, word), executables (com, exe, sh), and others. \n",
    "- Files exist in individual folders. Moving folders to folders requires `os` library\n",
    "- Python recognizes text or binary files, and these two types are different. \n",
    "\n",
    "<b>Binary</b>\n",
    "Binary files can only be opened and written by an application that understand the file’s structure. For instance, docx can only be opened and written by Word.  Zip file cannot be opened by Word.  Python has many libraries, and thus can read and manipulate these files easily. Below, we use one of the libraries to read and write Excel files\n",
    "\n",
    "<b>Text</b>\n",
    "- Text files are structured as a sequence of lines.\n",
    "- Every line is terminated with an EOL or End of Line character such as newline character. EOF tells the interpreter (.i.e., Python that the current line ends and a new one has begun). \n",
    "\n",
    "\n"
   ]
  },
  {
   "cell_type": "markdown",
   "metadata": {},
   "source": [
    "In Python, to read a file or to writing one, <b> the built-in open () </b> function is used. \n",
    "\n",
    "To read or to write a file object in Python, we use the command: \n",
    "* file_object  = open(“filename”, “mode”) \n",
    "  * where file_object is the variable to add the file object. \n",
    "  * The second argument – mode – tells the interpreter whether we want to read or write.\n",
    "\n",
    "<b>Mode</b>\n",
    "\n",
    "    Character Meaning\n",
    "    --------- ---------------------------------------------------------------\n",
    "    'r'       open for reading (default)\n",
    "    'w'       open for writing, truncating the file first\n",
    "    'x'       create a new file and open it for writing\n",
    "    'a'       open for writing, appending to the end of the file if it exists\n"
   ]
  },
  {
   "cell_type": "markdown",
   "metadata": {},
   "source": [
    "## 1.7.1 Writing a text file"
   ]
  },
  {
   "cell_type": "code",
   "execution_count": 2,
   "metadata": {},
   "outputs": [],
   "source": [
    "\n",
    "file = open('hello.txt','a') \n",
    " \n",
    "file.write('Hello World') \n",
    "file.write('This is a basic Python for Data Science Class') \n",
    "file.write('We first learn Basic Syntax') \n",
    "file.write('Later, we will learn visualization') \n",
    " \n",
    "file.close() "
   ]
  },
  {
   "cell_type": "markdown",
   "metadata": {},
   "source": [
    "## 1.7.2 Reading a file"
   ]
  },
  {
   "cell_type": "code",
   "execution_count": 3,
   "metadata": {},
   "outputs": [
    {
     "name": "stdout",
     "output_type": "stream",
     "text": [
      "Hello WorldThis is a basic Python for Data Science ClassWe first learn Basic SyntaxLater, we will learn visualizationHello WorldThis is a basic Python for Data Science ClassWe first learn Basic SyntaxLater, we will learn visualization\n"
     ]
    }
   ],
   "source": [
    "file = open('hello.txt', 'r') \n",
    "print (file.read())"
   ]
  },
  {
   "cell_type": "markdown",
   "metadata": {},
   "source": [
    "<b>Adding a newline (EOF) in text \\n"
   ]
  },
  {
   "cell_type": "code",
   "execution_count": 4,
   "metadata": {},
   "outputs": [],
   "source": [
    "\n",
    "file = open('hello1.txt','w') \n",
    " \n",
    "file.write('Hello World\\n') \n",
    "file.write('This is a basic Python for Data Science Cla|ss\\n') \n",
    "file.write('We first learn Basic Syntax\\n') \n",
    "file.write('Later, we will learn visualization\\n') \n",
    " \n",
    "file.close() "
   ]
  },
  {
   "cell_type": "code",
   "execution_count": 5,
   "metadata": {},
   "outputs": [
    {
     "name": "stdout",
     "output_type": "stream",
     "text": [
      "Hello World\n",
      "This is a basic Python for Data Science Cla|ss\n",
      "We first learn Basic Syntax\n",
      "Later, we will learn visualization\n",
      "\n"
     ]
    }
   ],
   "source": [
    "file = open('hello1.txt', 'r') \n",
    "print (file.read())"
   ]
  },
  {
   "cell_type": "code",
   "execution_count": null,
   "metadata": {
    "collapsed": true
   },
   "outputs": [],
   "source": []
  },
  {
   "cell_type": "markdown",
   "metadata": {},
   "source": [
    "## 1.7.3 Writing an Excel file"
   ]
  },
  {
   "cell_type": "code",
   "execution_count": 1,
   "metadata": {},
   "outputs": [],
   "source": [
    "import openpyxl"
   ]
  },
  {
   "cell_type": "code",
   "execution_count": 2,
   "metadata": {
    "collapsed": true
   },
   "outputs": [],
   "source": [
    "from openpyxl import Workbook"
   ]
  },
  {
   "cell_type": "code",
   "execution_count": 3,
   "metadata": {
    "collapsed": true
   },
   "outputs": [],
   "source": [
    "wb =openpyxl.Workbook() #opening a new workboook"
   ]
  },
  {
   "cell_type": "code",
   "execution_count": 4,
   "metadata": {
    "scrolled": false
   },
   "outputs": [
    {
     "name": "stderr",
     "output_type": "stream",
     "text": [
      "C:\\ProgramData\\Anaconda2\\envs\\ipykernel_py3\\lib\\site-packages\\ipykernel_launcher.py:1: DeprecationWarning: Call to deprecated function get_sheet_names (Use wb.sheetnames).\n",
      "  \"\"\"Entry point for launching an IPython kernel.\n"
     ]
    },
    {
     "data": {
      "text/plain": [
       "['Sheet']"
      ]
     },
     "execution_count": 4,
     "metadata": {},
     "output_type": "execute_result"
    }
   ],
   "source": [
    "wb.get_sheet_names() #getting the name of the sheet"
   ]
  },
  {
   "cell_type": "code",
   "execution_count": 5,
   "metadata": {},
   "outputs": [
    {
     "data": {
      "text/plain": [
       "['Sheet']"
      ]
     },
     "execution_count": 5,
     "metadata": {},
     "output_type": "execute_result"
    }
   ],
   "source": [
    "wb.sheetnames"
   ]
  },
  {
   "cell_type": "code",
   "execution_count": 6,
   "metadata": {},
   "outputs": [
    {
     "name": "stderr",
     "output_type": "stream",
     "text": [
      "C:\\ProgramData\\Anaconda2\\envs\\ipykernel_py3\\lib\\site-packages\\ipykernel_launcher.py:1: DeprecationWarning: Call to deprecated function get_active_sheet (Use the .active property).\n",
      "  \"\"\"Entry point for launching an IPython kernel.\n"
     ]
    }
   ],
   "source": [
    "sheet = wb.get_active_sheet() #make the current sheet active"
   ]
  },
  {
   "cell_type": "code",
   "execution_count": 7,
   "metadata": {
    "collapsed": true
   },
   "outputs": [],
   "source": [
    "sheet =wb.active #new version :make the current sheet active"
   ]
  },
  {
   "cell_type": "code",
   "execution_count": 8,
   "metadata": {},
   "outputs": [
    {
     "data": {
      "text/plain": [
       "'Sheet'"
      ]
     },
     "execution_count": 8,
     "metadata": {},
     "output_type": "execute_result"
    }
   ],
   "source": [
    "sheet.title"
   ]
  },
  {
   "cell_type": "code",
   "execution_count": 9,
   "metadata": {
    "collapsed": true
   },
   "outputs": [],
   "source": [
    "sheet.title = \"Python for Data Science\""
   ]
  },
  {
   "cell_type": "code",
   "execution_count": 10,
   "metadata": {
    "scrolled": true
   },
   "outputs": [
    {
     "data": {
      "text/plain": [
       "<Worksheet \"Sheet\">"
      ]
     },
     "execution_count": 10,
     "metadata": {},
     "output_type": "execute_result"
    }
   ],
   "source": [
    "wb.create_sheet()"
   ]
  },
  {
   "cell_type": "code",
   "execution_count": 11,
   "metadata": {},
   "outputs": [
    {
     "data": {
      "text/plain": [
       "<Worksheet \"Another Sheet\">"
      ]
     },
     "execution_count": 11,
     "metadata": {},
     "output_type": "execute_result"
    }
   ],
   "source": [
    "wb.create_sheet(index=4, title='Another Sheet')"
   ]
  },
  {
   "cell_type": "code",
   "execution_count": 12,
   "metadata": {},
   "outputs": [
    {
     "data": {
      "text/plain": [
       "['Python for Data Science', 'Sheet', 'Another Sheet']"
      ]
     },
     "execution_count": 12,
     "metadata": {},
     "output_type": "execute_result"
    }
   ],
   "source": [
    "wb.sheetnames"
   ]
  },
  {
   "cell_type": "code",
   "execution_count": null,
   "metadata": {
    "collapsed": true
   },
   "outputs": [],
   "source": []
  },
  {
   "cell_type": "code",
   "execution_count": 13,
   "metadata": {
    "scrolled": true
   },
   "outputs": [
    {
     "name": "stderr",
     "output_type": "stream",
     "text": [
      "C:\\ProgramData\\Anaconda2\\envs\\ipykernel_py3\\lib\\site-packages\\ipykernel_launcher.py:1: DeprecationWarning: Call to deprecated function get_sheet_by_name (Use wb[sheetname]).\n",
      "  \"\"\"Entry point for launching an IPython kernel.\n"
     ]
    }
   ],
   "source": [
    "sheet= wb.get_sheet_by_name('Python for Data Science') #making Python for Data Science active"
   ]
  },
  {
   "cell_type": "code",
   "execution_count": 14,
   "metadata": {
    "collapsed": true
   },
   "outputs": [],
   "source": [
    "sheet=wb['Python for Data Science']"
   ]
  },
  {
   "cell_type": "code",
   "execution_count": 15,
   "metadata": {
    "collapsed": true
   },
   "outputs": [],
   "source": [
    "sheet['A1']='Hello World'"
   ]
  },
  {
   "cell_type": "code",
   "execution_count": 16,
   "metadata": {
    "collapsed": true
   },
   "outputs": [],
   "source": [
    "sheet['B1']='Countries'"
   ]
  },
  {
   "cell_type": "code",
   "execution_count": 17,
   "metadata": {
    "collapsed": true
   },
   "outputs": [],
   "source": [
    "sheet['B2']='Malaysia'"
   ]
  },
  {
   "cell_type": "code",
   "execution_count": 18,
   "metadata": {
    "collapsed": true
   },
   "outputs": [],
   "source": [
    "sheet['B3']='Australia'"
   ]
  },
  {
   "cell_type": "code",
   "execution_count": 19,
   "metadata": {
    "collapsed": true
   },
   "outputs": [],
   "source": [
    "sheet['B4']='Vietnam'"
   ]
  },
  {
   "cell_type": "code",
   "execution_count": 20,
   "metadata": {
    "collapsed": true
   },
   "outputs": [],
   "source": [
    "sheet['B5']='Singapore'"
   ]
  },
  {
   "cell_type": "code",
   "execution_count": 21,
   "metadata": {
    "collapsed": true
   },
   "outputs": [],
   "source": [
    "wb.save('myExcel.xlsx')"
   ]
  },
  {
   "cell_type": "markdown",
   "metadata": {},
   "source": [
    "## 1.7.4. Reading an Excel file"
   ]
  },
  {
   "cell_type": "code",
   "execution_count": 22,
   "metadata": {
    "collapsed": true
   },
   "outputs": [],
   "source": [
    "import openpyxl\n",
    "wb = openpyxl.load_workbook('myExcel.xlsx')"
   ]
  },
  {
   "cell_type": "code",
   "execution_count": 23,
   "metadata": {
    "collapsed": true
   },
   "outputs": [],
   "source": [
    "sheet = wb['Python for Data Science']"
   ]
  },
  {
   "cell_type": "code",
   "execution_count": 24,
   "metadata": {},
   "outputs": [
    {
     "data": {
      "text/plain": [
       "'A1'"
      ]
     },
     "execution_count": 24,
     "metadata": {},
     "output_type": "execute_result"
    }
   ],
   "source": [
    "sheet['A1'].coordinate"
   ]
  },
  {
   "cell_type": "code",
   "execution_count": 25,
   "metadata": {},
   "outputs": [
    {
     "data": {
      "text/plain": [
       "'Hello World'"
      ]
     },
     "execution_count": 25,
     "metadata": {},
     "output_type": "execute_result"
    }
   ],
   "source": [
    "sheet['A1'].value"
   ]
  },
  {
   "cell_type": "markdown",
   "metadata": {},
   "source": [
    "#### Another way to read Excel using Pandas (Preview of Pandas)\n",
    "we need lrd > pip install lrd"
   ]
  },
  {
   "cell_type": "code",
   "execution_count": 6,
   "metadata": {},
   "outputs": [],
   "source": [
    "import pandas as pd\n",
    "from pandas import ExcelWriter\n",
    "from pandas import ExcelFile\n"
   ]
  },
  {
   "cell_type": "code",
   "execution_count": 7,
   "metadata": {},
   "outputs": [],
   "source": [
    "df=pd.read_excel('myExcel.xlsx', sheet_name='Python for Data Science')"
   ]
  },
  {
   "cell_type": "code",
   "execution_count": 8,
   "metadata": {},
   "outputs": [
    {
     "name": "stdout",
     "output_type": "stream",
     "text": [
      "Column headings:\n",
      "Index(['Hello World', 'Countries'], dtype='object')\n"
     ]
    }
   ],
   "source": [
    "print(\"Column headings:\")\n",
    "print(df.columns)"
   ]
  },
  {
   "cell_type": "code",
   "execution_count": 9,
   "metadata": {},
   "outputs": [
    {
     "data": {
      "text/html": [
       "<div>\n",
       "<style scoped>\n",
       "    .dataframe tbody tr th:only-of-type {\n",
       "        vertical-align: middle;\n",
       "    }\n",
       "\n",
       "    .dataframe tbody tr th {\n",
       "        vertical-align: top;\n",
       "    }\n",
       "\n",
       "    .dataframe thead th {\n",
       "        text-align: right;\n",
       "    }\n",
       "</style>\n",
       "<table border=\"1\" class=\"dataframe\">\n",
       "  <thead>\n",
       "    <tr style=\"text-align: right;\">\n",
       "      <th></th>\n",
       "      <th>Hello World</th>\n",
       "      <th>Countries</th>\n",
       "    </tr>\n",
       "  </thead>\n",
       "  <tbody>\n",
       "    <tr>\n",
       "      <th>0</th>\n",
       "      <td>NaN</td>\n",
       "      <td>Malaysia</td>\n",
       "    </tr>\n",
       "    <tr>\n",
       "      <th>1</th>\n",
       "      <td>NaN</td>\n",
       "      <td>Australia</td>\n",
       "    </tr>\n",
       "    <tr>\n",
       "      <th>2</th>\n",
       "      <td>NaN</td>\n",
       "      <td>Vietnam</td>\n",
       "    </tr>\n",
       "    <tr>\n",
       "      <th>3</th>\n",
       "      <td>NaN</td>\n",
       "      <td>Singapore</td>\n",
       "    </tr>\n",
       "  </tbody>\n",
       "</table>\n",
       "</div>"
      ],
      "text/plain": [
       "   Hello World  Countries\n",
       "0          NaN   Malaysia\n",
       "1          NaN  Australia\n",
       "2          NaN    Vietnam\n",
       "3          NaN  Singapore"
      ]
     },
     "execution_count": 9,
     "metadata": {},
     "output_type": "execute_result"
    }
   ],
   "source": [
    "df"
   ]
  },
  {
   "cell_type": "code",
   "execution_count": 10,
   "metadata": {
    "scrolled": true
   },
   "outputs": [
    {
     "data": {
      "text/plain": [
       "RangeIndex(start=0, stop=4, step=1)"
      ]
     },
     "execution_count": 10,
     "metadata": {},
     "output_type": "execute_result"
    }
   ],
   "source": [
    "df.index"
   ]
  },
  {
   "cell_type": "code",
   "execution_count": 11,
   "metadata": {},
   "outputs": [
    {
     "name": "stdout",
     "output_type": "stream",
     "text": [
      "0\n",
      "1\n",
      "2\n",
      "3\n"
     ]
    }
   ],
   "source": [
    "for i in range(0, 4, 1):\n",
    "    print (i)"
   ]
  },
  {
   "cell_type": "code",
   "execution_count": 12,
   "metadata": {},
   "outputs": [
    {
     "name": "stdout",
     "output_type": "stream",
     "text": [
      "Malaysia\n",
      "Australia\n",
      "Vietnam\n",
      "Singapore\n"
     ]
    }
   ],
   "source": [
    "for i in df.index:\n",
    "    print(df['Countries'][i])"
   ]
  },
  {
   "cell_type": "markdown",
   "metadata": {},
   "source": [
    "### Exercise\n",
    "* Read resale.xlsx\n",
    "* Print the columns\n",
    "* Find a flat which is lower than $200,000"
   ]
  },
  {
   "cell_type": "markdown",
   "metadata": {},
   "source": [
    "* Read resale.xlsx\n"
   ]
  },
  {
   "cell_type": "code",
   "execution_count": 88,
   "metadata": {
    "collapsed": true,
    "scrolled": true
   },
   "outputs": [],
   "source": [
    "import pandas as pd\n",
    "df=pd.read_excel('resale.xlsx', sheet_name=\"resales\")"
   ]
  },
  {
   "cell_type": "markdown",
   "metadata": {},
   "source": [
    "* Print the columns"
   ]
  },
  {
   "cell_type": "code",
   "execution_count": 89,
   "metadata": {},
   "outputs": [
    {
     "name": "stdout",
     "output_type": "stream",
     "text": [
      "Column headings:\n",
      "Index(['quarter', 'town', 'flat_type', 'price'], dtype='object')\n"
     ]
    }
   ],
   "source": [
    "print(\"Column headings:\")\n",
    "print(df.columns)"
   ]
  },
  {
   "cell_type": "markdown",
   "metadata": {},
   "source": [
    "* Find a flat which is lower than $200,000"
   ]
  },
  {
   "cell_type": "code",
   "execution_count": 90,
   "metadata": {
    "scrolled": true
   },
   "outputs": [
    {
     "data": {
      "text/plain": [
       "0         False\n",
       "1         False\n",
       "2         False\n",
       "3         False\n",
       "4         False\n",
       "5         False\n",
       "6         False\n",
       "7         False\n",
       "8         False\n",
       "9         False\n",
       "10        False\n",
       "11        False\n",
       "12        False\n",
       "13        False\n",
       "14        False\n",
       "15        False\n",
       "16        False\n",
       "17        False\n",
       "18        False\n",
       "19        False\n",
       "20        False\n",
       "21        False\n",
       "22        False\n",
       "23        False\n",
       "24        False\n",
       "25        False\n",
       "26        False\n",
       "27        False\n",
       "28        False\n",
       "29        False\n",
       "          ...  \n",
       "102070    False\n",
       "102071    False\n",
       "102072    False\n",
       "102073    False\n",
       "102074    False\n",
       "102075    False\n",
       "102076    False\n",
       "102077    False\n",
       "102078    False\n",
       "102079    False\n",
       "102080    False\n",
       "102081    False\n",
       "102082    False\n",
       "102083    False\n",
       "102084    False\n",
       "102085    False\n",
       "102086    False\n",
       "102087    False\n",
       "102088    False\n",
       "102089    False\n",
       "102090    False\n",
       "102091    False\n",
       "102092    False\n",
       "102093    False\n",
       "102094    False\n",
       "102095    False\n",
       "102096    False\n",
       "102097    False\n",
       "102098    False\n",
       "102099    False\n",
       "Name: price, Length: 102100, dtype: bool"
      ]
     },
     "execution_count": 90,
     "metadata": {},
     "output_type": "execute_result"
    }
   ],
   "source": [
    "(df['price']< 200000)"
   ]
  },
  {
   "cell_type": "code",
   "execution_count": 91,
   "metadata": {
    "scrolled": false
   },
   "outputs": [
    {
     "data": {
      "text/html": [
       "<div>\n",
       "<style scoped>\n",
       "    .dataframe tbody tr th:only-of-type {\n",
       "        vertical-align: middle;\n",
       "    }\n",
       "\n",
       "    .dataframe tbody tr th {\n",
       "        vertical-align: top;\n",
       "    }\n",
       "\n",
       "    .dataframe thead th {\n",
       "        text-align: right;\n",
       "    }\n",
       "</style>\n",
       "<table border=\"1\" class=\"dataframe\">\n",
       "  <thead>\n",
       "    <tr style=\"text-align: right;\">\n",
       "      <th></th>\n",
       "      <th>quarter</th>\n",
       "      <th>town</th>\n",
       "      <th>flat_type</th>\n",
       "      <th>price</th>\n",
       "    </tr>\n",
       "  </thead>\n",
       "  <tbody>\n",
       "    <tr>\n",
       "      <th>48246</th>\n",
       "      <td>2014-10</td>\n",
       "      <td>BUKIT MERAH</td>\n",
       "      <td>1 ROOM</td>\n",
       "      <td>195000.0</td>\n",
       "    </tr>\n",
       "    <tr>\n",
       "      <th>68606</th>\n",
       "      <td>2015-11</td>\n",
       "      <td>BUKIT MERAH</td>\n",
       "      <td>1 ROOM</td>\n",
       "      <td>195000.0</td>\n",
       "    </tr>\n",
       "    <tr>\n",
       "      <th>87916</th>\n",
       "      <td>2016-11</td>\n",
       "      <td>BUKIT MERAH</td>\n",
       "      <td>2 ROOM</td>\n",
       "      <td>198000.0</td>\n",
       "    </tr>\n",
       "    <tr>\n",
       "      <th>89493</th>\n",
       "      <td>2016-12</td>\n",
       "      <td>BUKIT MERAH</td>\n",
       "      <td>2 ROOM</td>\n",
       "      <td>192000.0</td>\n",
       "    </tr>\n",
       "    <tr>\n",
       "      <th>90391</th>\n",
       "      <td>2016-12</td>\n",
       "      <td>TOA PAYOH</td>\n",
       "      <td>2 ROOM</td>\n",
       "      <td>190000.0</td>\n",
       "    </tr>\n",
       "    <tr>\n",
       "      <th>100597</th>\n",
       "      <td>2017-07</td>\n",
       "      <td>BUKIT MERAH</td>\n",
       "      <td>1 ROOM</td>\n",
       "      <td>175000.0</td>\n",
       "    </tr>\n",
       "    <tr>\n",
       "      <th>101852</th>\n",
       "      <td>2017-07</td>\n",
       "      <td>WOODLANDS</td>\n",
       "      <td>2 ROOM</td>\n",
       "      <td>188000.0</td>\n",
       "    </tr>\n",
       "  </tbody>\n",
       "</table>\n",
       "</div>"
      ],
      "text/plain": [
       "        quarter         town flat_type     price\n",
       "48246   2014-10  BUKIT MERAH    1 ROOM  195000.0\n",
       "68606   2015-11  BUKIT MERAH    1 ROOM  195000.0\n",
       "87916   2016-11  BUKIT MERAH    2 ROOM  198000.0\n",
       "89493   2016-12  BUKIT MERAH    2 ROOM  192000.0\n",
       "90391   2016-12    TOA PAYOH    2 ROOM  190000.0\n",
       "100597  2017-07  BUKIT MERAH    1 ROOM  175000.0\n",
       "101852  2017-07    WOODLANDS    2 ROOM  188000.0"
      ]
     },
     "execution_count": 91,
     "metadata": {},
     "output_type": "execute_result"
    }
   ],
   "source": [
    "df[(df['price']< 200000)]"
   ]
  },
  {
   "cell_type": "code",
   "execution_count": 92,
   "metadata": {},
   "outputs": [
    {
     "data": {
      "text/plain": [
       "(102100, 4)"
      ]
     },
     "execution_count": 92,
     "metadata": {},
     "output_type": "execute_result"
    }
   ],
   "source": [
    "df.shape"
   ]
  },
  {
   "cell_type": "markdown",
   "metadata": {},
   "source": [
    "####  More detailed information about read files: https://pythonspot.com/en/python-database/"
   ]
  },
  {
   "cell_type": "markdown",
   "metadata": {
    "collapsed": true
   },
   "source": [
    "<center>\n",
    "  <a href=\"1.6.Control-Flow.ipynb\">Previous Page</a> | <a href=\"./\">Content Page</a> | <a href=\"1.8-Modules-and-Classes.ipynb\">Next Page</a></center>\n",
    "</center>"
   ]
  },
  {
   "cell_type": "code",
   "execution_count": null,
   "metadata": {
    "collapsed": true
   },
   "outputs": [],
   "source": [
    "."
   ]
  },
  {
   "cell_type": "markdown",
   "metadata": {
    "collapsed": true
   },
   "source": [
    "```\n",
    "\n",
    "ipykernel_py3) C:\\>pip install openpyxl\n",
    "Collecting openpyxl\n",
    "  Downloading https://files.pythonhosted.org/packages/dc/99/9c58d83d7f093c0af5f90875f8595d2e9587fc36532a8bb347608cf0876b/openpyxl-2.5.3.tar.gz (170kB)\n",
    "    100% |████████████████████████████████| 174kB 4.9MB/s\n",
    "Collecting jdcal (from openpyxl)\n",
    "  Downloading https://files.pythonhosted.org/packages/a0/38/dcf83532480f25284f3ef13f8ed63e03c58a65c9d3ba2a6a894ed9497207/jdcal-1.4-py2.py3-none-any.whl\n",
    "Collecting et_xmlfile (from openpyxl)\n",
    "  Downloading https://files.pythonhosted.org/packages/22/28/a99c42aea746e18382ad9fb36f64c1c1f04216f41797f2f0fa567da11388/et_xmlfile-1.0.1.tar.gz\n",
    "Building wheels for collected packages: openpyxl, et-xmlfile\n",
    "  Running setup.py bdist_wheel for openpyxl ... done\n",
    "  Stored in directory: C:\\Users\\slelycj\\AppData\\Local\\pip\\Cache\\wheels\\11\\7d\\47\\3dad56b5d260c790d9110623ba66783a2ad345eb76dd63003b\n",
    "  Running setup.py bdist_wheel for et-xmlfile ... done\n",
    "  Stored in directory: C:\\Users\\slelycj\\AppData\\Local\\pip\\Cache\\wheels\\2a\\77\\35\\0da0965a057698121fc7d8c5a7a9955cdbfb3cc4e2423cad39\n",
    "Successfully built openpyxl et-xmlfile\n",
    "Installing collected packages: jdcal, et-xmlfile, openpyxl\n",
    "Successfully installed et-xmlfile-1.0.1 jdcal-1.4 openpyxl-2.5.3\n",
    "Cache entry deserialization failed, entry ignored\n",
    "You are using pip version 9.0.1, however version 10.0.1 is available.\n",
    "You should consider upgrading via the 'python -m pip install --upgrade pip' command.\n",
    "```\n"
   ]
  },
  {
   "cell_type": "code",
   "execution_count": null,
   "metadata": {
    "collapsed": true
   },
   "outputs": [],
   "source": [
    "```\n",
    "---------------------------------------------------------------------------\n",
    "ModuleNotFoundError                       Traceback (most recent call last)\n",
    "C:\\ProgramData\\Anaconda2\\envs\\ipykernel_py3\\lib\\site-packages\\pandas\\io\\excel.py in __init__(self, io, **kwds)\n",
    "    260         try:\n",
    "--> 261             import xlrd\n",
    "    262         except ImportError:\n",
    "\n",
    "ModuleNotFoundError: No module named 'xlrd'\n",
    "\n",
    "During handling of the above exception, another exception occurred:\n",
    "\n",
    "ImportError                               Traceback (most recent call last)\n",
    "<ipython-input-39-2609dd3da735> in <module>()\n",
    "----> 1 df=pd.read_excel('myExcel.xlsx', sheet_name='Python for Data Science')\n",
    "\n",
    "C:\\ProgramData\\Anaconda2\\envs\\ipykernel_py3\\lib\\site-packages\\pandas\\util\\_decorators.py in wrapper(*args, **kwargs)\n",
    "    116                 else:\n",
    "    117                     kwargs[new_arg_name] = new_arg_value\n",
    "--> 118             return func(*args, **kwargs)\n",
    "    119         return wrapper\n",
    "    120     return _deprecate_kwarg\n",
    "\n",
    "C:\\ProgramData\\Anaconda2\\envs\\ipykernel_py3\\lib\\site-packages\\pandas\\io\\excel.py in read_excel(io, sheet_name, header, skiprows, skip_footer, index_col, names, usecols, parse_dates, date_parser, na_values, thousands, convert_float, converters, dtype, true_values, false_values, engine, squeeze, **kwds)\n",
    "    228 \n",
    "    229     if not isinstance(io, ExcelFile):\n",
    "--> 230         io = ExcelFile(io, engine=engine)\n",
    "    231 \n",
    "    232     return io._parse_excel(\n",
    "\n",
    "C:\\ProgramData\\Anaconda2\\envs\\ipykernel_py3\\lib\\site-packages\\pandas\\io\\excel.py in __init__(self, io, **kwds)\n",
    "    261             import xlrd\n",
    "    262         except ImportError:\n",
    "--> 263             raise ImportError(err_msg)\n",
    "    264         else:\n",
    "    265             ver = tuple(map(int, xlrd.__VERSION__.split(\".\")[:2]))\n",
    "\n",
    "ImportError: Install xlrd >= 0.9.0 for Excel support\n",
    "\n",
    "```"
   ]
  },
  {
   "cell_type": "code",
   "execution_count": null,
   "metadata": {
    "collapsed": true
   },
   "outputs": [],
   "source": []
  }
 ],
 "metadata": {
  "kernelspec": {
   "display_name": "Python 3 (ipykernel)",
   "language": "python",
   "name": "python3"
  },
  "language_info": {
   "codemirror_mode": {
    "name": "ipython",
    "version": 3
   },
   "file_extension": ".py",
   "mimetype": "text/x-python",
   "name": "python",
   "nbconvert_exporter": "python",
   "pygments_lexer": "ipython3",
   "version": "3.9.12"
  }
 },
 "nbformat": 4,
 "nbformat_minor": 2
}
