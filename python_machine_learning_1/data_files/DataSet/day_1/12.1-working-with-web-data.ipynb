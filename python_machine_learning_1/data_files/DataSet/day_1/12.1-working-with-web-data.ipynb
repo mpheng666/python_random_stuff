{
 "cells": [
  {
   "cell_type": "markdown",
   "metadata": {},
   "source": [
    "<center>\n",
    "  <a href=\"11.1-working-with-databases.ipynb\">Previous Page</a> | <a href=\"./\">Content Page</a> | <a href=\"12.1.A(I)-Getting%20Real%20time%20Data.ipynb\">Activity: Get Real-Time Currency</a></center>\n",
    "</center>"
   ]
  },
  {
   "cell_type": "markdown",
   "metadata": {},
   "source": [
    "# 1.12 Working with Web Data (Webscraping): Getting Real Time Data\n",
    "\n",
    "Now that we know how to access data from text files and databases, let's explore how to work with web data such as web pages."
   ]
  },
  {
   "cell_type": "markdown",
   "metadata": {},
   "source": [
    "<video controls src=\"fig/Intel_IoT.mp4\" />"
   ]
  },
  {
   "cell_type": "markdown",
   "metadata": {},
   "source": [
    "Sometimes the data that we want are not easily accessible as a CSV file or in a SQL database. Often, it can be found on the Web. Python provides a way to easily grab (also known as `web scraping`) content found in Web pages for us as data that we can work with.\n",
    "\n",
    "One popular Python package that deals with web scraping is `BeautifulSoup` at https://www.crummy.com/software/BeautifulSoup/. As usual, we already have the package installed as part of the Anaconda distribution.\n",
    "\n",
    "Let us explore how we can scrape data from web pages. First, let's import the BeautifulSoup module:"
   ]
  },
  {
   "cell_type": "code",
   "execution_count": 1,
   "metadata": {},
   "outputs": [
    {
     "name": "stdout",
     "output_type": "stream",
     "text": [
      "Collecting bs4\n",
      "  Downloading bs4-0.0.1.tar.gz (1.1 kB)\n",
      "Requirement already satisfied: beautifulsoup4 in /home/mpheng/anaconda3/lib/python3.9/site-packages (from bs4) (4.11.1)\n",
      "Requirement already satisfied: soupsieve>1.2 in /home/mpheng/anaconda3/lib/python3.9/site-packages (from beautifulsoup4->bs4) (2.3.1)\n",
      "Building wheels for collected packages: bs4\n",
      "  Building wheel for bs4 (setup.py) ... \u001b[?25ldone\n",
      "\u001b[?25h  Created wheel for bs4: filename=bs4-0.0.1-py3-none-any.whl size=1272 sha256=a7d2232aa649a05903c30c9893b86ff22c4540d843c4b59d3d61780c66ea652c\n",
      "  Stored in directory: /home/mpheng/.cache/pip/wheels/73/2b/cb/099980278a0c9a3e57ff1a89875ec07bfa0b6fcbebb9a8cad3\n",
      "Successfully built bs4\n",
      "Installing collected packages: bs4\n",
      "Successfully installed bs4-0.0.1\n"
     ]
    }
   ],
   "source": [
    "!pip install bs4"
   ]
  },
  {
   "cell_type": "code",
   "execution_count": 2,
   "metadata": {
    "scrolled": false
   },
   "outputs": [],
   "source": [
    "from bs4 import BeautifulSoup"
   ]
  },
  {
   "cell_type": "markdown",
   "metadata": {},
   "source": [
    "The web page that we want to scrape data from is O'Reilly's Free Programming Ebooks page at http://www.oreilly.com/programming/free/. Let's see what the structure of the web site is like by using our web browser and view the page source. Basically for today's exercise, we want to simply list the names and URLs for all the books that are made free by O'Reilly.\n",
    "\n",
    "![](http://localhost:8888/tree/03-working-with-data-sources/web-data.png)\n",
    "\n"
   ]
  },
  {
   "cell_type": "markdown",
   "metadata": {},
   "source": [
    "We can see that the data we are interested in deep in the HTML content, particular the `<a></a>` link anchor tags.\n",
    "\n",
    "In order to start scraping the data, we need to import another third-party module `requests` that enables us to download content from the web."
   ]
  },
  {
   "cell_type": "code",
   "execution_count": 3,
   "metadata": {},
   "outputs": [],
   "source": [
    "import requests\n",
    "\n",
    "webpage_url = \"http://www.oreilly.com/programming/free/\"\n",
    "\n",
    "# download the content into a variable\n",
    "r = requests.get(webpage_url)"
   ]
  },
  {
   "cell_type": "markdown",
   "metadata": {},
   "source": [
    "Now that we have a `Requests` object, we can check the status_code as well as the content."
   ]
  },
  {
   "cell_type": "code",
   "execution_count": 4,
   "metadata": {},
   "outputs": [
    {
     "data": {
      "text/plain": [
       "200"
      ]
     },
     "execution_count": 4,
     "metadata": {},
     "output_type": "execute_result"
    }
   ],
   "source": [
    "r.status_code"
   ]
  },
  {
   "cell_type": "code",
   "execution_count": 5,
   "metadata": {},
   "outputs": [
    {
     "data": {
      "text/plain": [
       "72456"
      ]
     },
     "execution_count": 5,
     "metadata": {},
     "output_type": "execute_result"
    }
   ],
   "source": [
    "# check the size of the content\n",
    "len(r.content)\n"
   ]
  },
  {
   "cell_type": "code",
   "execution_count": 6,
   "metadata": {},
   "outputs": [
    {
     "data": {
      "text/plain": [
       "b'<!DOCTYPE html>\\r\\n<html lang=\"en\">\\r\\n<head>\\r\\n\\r\\n  <meta charset=\"utf-8\">\\r\\n\\r\\n  \\t<title>O\\'Reilly Media - Technology and Business Training</title>\\n\\t<meta name=\"description\" content=\"Gain technology and busi'"
      ]
     },
     "execution_count": 6,
     "metadata": {},
     "output_type": "execute_result"
    }
   ],
   "source": [
    "\n",
    "# let's just show the first 200 characters\n",
    "r.content[0:200]"
   ]
  },
  {
   "cell_type": "markdown",
   "metadata": {},
   "source": [
    "Now that we have the content, we can use BeautifulSoup to parse the page to get the data we want."
   ]
  },
  {
   "cell_type": "code",
   "execution_count": 7,
   "metadata": {},
   "outputs": [],
   "source": [
    "soup = BeautifulSoup(r.content, \"html.parser\")"
   ]
  },
  {
   "cell_type": "markdown",
   "metadata": {},
   "source": [
    "However, in order to avoid any network issues, the web page content has also already been downloaded in the current directory as `free-oreilly-books.html`. We can also pass the content from local web page content that were previously downloaded.\n",
    "\n",
    "Here is how we can do that."
   ]
  },
  {
   "cell_type": "code",
   "execution_count": 8,
   "metadata": {},
   "outputs": [],
   "source": [
    "f = open(\"free-oreilly-books.html\", \"r\", encoding=\"utf8\")\n",
    "\n",
    "soup = BeautifulSoup(f.read(), \"html.parser\" )"
   ]
  },
  {
   "cell_type": "markdown",
   "metadata": {},
   "source": [
    "We can work with the web page data via the `soup` object. If we print the `soup` object, it will show the same web page content as previously. Since we are only interested in a subset of the content (the list of free programming books), we are only interested in *anchor links* that has `data-container` attribute. We can just extract the exact data we need with `soup.find_all()` method."
   ]
  },
  {
   "cell_type": "code",
   "execution_count": 9,
   "metadata": {},
   "outputs": [],
   "source": [
    "# this returns a list of free programming books\n",
    "free_programming_books_data= soup.find_all('a', attrs={'data-container':\"body\"})\n",
    "\n"
   ]
  },
  {
   "cell_type": "code",
   "execution_count": 10,
   "metadata": {},
   "outputs": [
    {
     "data": {
      "text/plain": [
       "bs4.element.ResultSet"
      ]
     },
     "execution_count": 10,
     "metadata": {},
     "output_type": "execute_result"
    }
   ],
   "source": [
    "type(free_programming_books_data)"
   ]
  },
  {
   "cell_type": "code",
   "execution_count": 11,
   "metadata": {},
   "outputs": [
    {
     "data": {
      "text/plain": [
       "<a data-container=\"body\" data-content=\"Adopting microservices requires much more than changes to your technology. Author Christian Posta—a Principal Middleware Specialist/Architect at Red Hat—also examines the organizational agility necessary to deliver these services. This concise book shows you how rapid feedback cycles, autonomous teams, and shared purpose are key to making microservices work.\" data-original-title=\"Microservices for Java Developers: A Hands-On Introduction to Frameworks and Containers\" data-placement=\"auto left\" data-toggle=\"popover\" data-trigger=\"hover\" href=\"http://www.oreilly.com/programming/free/microservices-for-java-developers.csp\" title=\"\">\n",
       "<img alt=\"Microservices for Java Developers\" src=\"./free-oreilly-books_files/cat.gif\"/>\n",
       "</a>"
      ]
     },
     "execution_count": 11,
     "metadata": {},
     "output_type": "execute_result"
    }
   ],
   "source": [
    "# let's see the first element\n",
    "free_programming_books_data[0]"
   ]
  },
  {
   "cell_type": "code",
   "execution_count": 12,
   "metadata": {},
   "outputs": [
    {
     "name": "stdout",
     "output_type": "stream",
     "text": [
      "Number of free programming books available: 37\n"
     ]
    },
    {
     "data": {
      "text/plain": [
       "<a data-container=\"body\" data-content=\"In this concise book, Lightbend CTO Jonas Bonér explains why microservice-based architecture that consists of small, independent services is far more flexible than the traditional all-in-one systems that continue to dominate today’s enterprise landscape.\" data-original-title=\"Reactive Microservices Architecture: Design Principles for Distributed Systems\" data-placement=\"auto left\" data-toggle=\"popover\" data-trigger=\"hover\" href=\"http://www.oreilly.com/programming/free/reactive-microservices-architecture-orm.csp\" title=\"\">\n",
       "<img alt=\"Reactive Microservices Architecture\" src=\"./free-oreilly-books_files/cat(34).gif\"/>\n",
       "</a>"
      ]
     },
     "execution_count": 12,
     "metadata": {},
     "output_type": "execute_result"
    }
   ],
   "source": [
    "# let's get the number of free books available\n",
    "print(\"Number of free programming books available: \" + str(len(free_programming_books_data)))\n",
    "\n",
    "# let's see the last element\n",
    "free_programming_books_data[-1]"
   ]
  },
  {
   "cell_type": "markdown",
   "metadata": {},
   "source": [
    "It looks like the content that will be useful to us are:\n",
    "\n",
    "* `data-content`\n",
    "* `data-original-title`\n",
    "* `href`\n",
    "\n",
    "`soup.find_all()` returns a list of Tags and they can be manipulated in a number of ways, including access them as Dictionary objects. Let's print the first Tag information with just the above three attributes."
   ]
  },
  {
   "cell_type": "code",
   "execution_count": 13,
   "metadata": {},
   "outputs": [
    {
     "data": {
      "text/plain": [
       "bs4.element.Tag"
      ]
     },
     "execution_count": 13,
     "metadata": {},
     "output_type": "execute_result"
    }
   ],
   "source": [
    "type(free_programming_books_data[0])"
   ]
  },
  {
   "cell_type": "code",
   "execution_count": 14,
   "metadata": {},
   "outputs": [
    {
     "name": "stdout",
     "output_type": "stream",
     "text": [
      "Title:  Microservices for Java Developers: A Hands-On Introduction to Frameworks and Containers\n",
      "URL:  http://www.oreilly.com/programming/free/microservices-for-java-developers.csp\n",
      "Description:  Adopting microservices requires much more than changes to your technology. Author Christian Posta—a Principal Middleware Specialist/Architect at Red Hat—also examines the organizational agility necessary to deliver these services. This concise book shows you how rapid feedback cycles, autonomous teams, and shared purpose are key to making microservices work.\n"
     ]
    }
   ],
   "source": [
    "tag = free_programming_books_data[0]\n",
    "\n",
    "print('Title: ', tag['data-original-title'])\n",
    "print('URL: ', tag['href'])\n",
    "print('Description: ', tag['data-content'])"
   ]
  },
  {
   "cell_type": "markdown",
   "metadata": {},
   "source": [
    "Now that we can easily get the content we want, how would you print out a list of the books out? How would you save this information into a file or database?"
   ]
  },
  {
   "cell_type": "code",
   "execution_count": null,
   "metadata": {},
   "outputs": [],
   "source": []
  },
  {
   "cell_type": "code",
   "execution_count": 15,
   "metadata": {},
   "outputs": [
    {
     "name": "stdout",
     "output_type": "stream",
     "text": [
      "Title:  Microservices for Java Developers: A Hands-On Introduction to Frameworks and Containers\n",
      "URL:  http://www.oreilly.com/programming/free/microservices-for-java-developers.csp\n",
      "Description:  Adopting microservices requires much more than changes to your technology. Author Christian Posta—a Principal Middleware Specialist/Architect at Red Hat—also examines the organizational agility necessary to deliver these services. This concise book shows you how rapid feedback cycles, autonomous teams, and shared purpose are key to making microservices work.\n",
      "\n",
      "\n",
      "Title:  Modern Java EE Design Patterns\n",
      "URL:  http://www.oreilly.com/programming/free/modern-java-ee-design-patterns.csp\n",
      "Description:  With the ascent of DevOps, microservices, containers, and cloud-based development platforms, the gap between state-of-the-art solutions and the technology that enterprises typically support has greatly increased. But as Markus Eisele explains in this O’Reilly ebook, some enterprises are now looking to bridge that gap by building microservice-based architectures on top of Java EE.\n",
      "\n",
      "\n",
      "Title:  Object-Oriented vs. Functional Programming\n",
      "URL:  http://www.oreilly.com/programming/free/object-oriented-vs-functional-programming.csp?intcmp=il-prog-free-product-lgen_oo_v_fp\n",
      "Description:  The schism between the functional and object-oriented programmers is really a false binary. Yes, the first group argues that FP is superior for a multicore world, while the second insists that OOP is better at matching technical solutions to business problems. However, as this O’Reilly ebook explains, this is not an either-or proposition.\n",
      "\n",
      "\n",
      "Title:  Java: The Legend\n",
      "URL:  http://www.oreilly.com/programming/free/java-the-legend.csp?intcmp=il-prog-free-product-lgen_java_legend\n",
      "Description:  The road from Java’s first public alpha of 1.0 to today has been long—and full of technical advances, innovative solutions, and interesting complications. Along the way, Java has flourished and is now one of the world’s most important and widely-used programming environments. Benjamin Evans, the Java editor for InfoQ and author of Java in a Nutshell, 6th edition, takes us on a journey through time.\n",
      "\n",
      "\n",
      "Title:  A Whirlwind Tour of Python\n",
      "URL:  http://www.oreilly.com/programming/free/a-whirlwind-tour-of-python.csp\n",
      "Description:  To tap into the power of Python’s open data science stack—including NumPy, Pandas, Matplotlib, Scikit-learn, and other tools—you first need to understand the syntax, semantics, and patterns of the Python language. This report provides a brief yet comprehensive introduction to Python for engineers, researchers, and data scientists who are already familiar with another programming language.\n",
      "\n",
      "\n",
      "Title:  20 Python Libraries You Aren't Using (But Should)\n",
      "URL:  http://www.oreilly.com/programming/free/20-python-libraries-you-arent-using-but-should.csp\n",
      "Description:  This report helps you explore some of the lesser known Python libraries and tools, including third-party modules and several extremely useful tools in the standard library that deserve more attention.\n",
      "\n",
      "\n",
      "Title:  Hadoop with Python\n",
      "URL:  http://www.oreilly.com/programming/free/hadoop-with-python.csp\n",
      "Description:  Hadoop is mostly written in Java, but that doesn't exclude the use of other programming languages with this distributed storage and processing framework, particularly Python. With this concise book, you'll learn how to use Python with the Hadoop Distributed File System (HDFS), MapReduce, the Apache Pig platform and Pig Latin script, and the Apache Spark cluster-computing framework.\n",
      "\n",
      "\n",
      "Title:  How to Make Mistakes in Python\n",
      "URL:  http://www.oreilly.com/programming/free/how-to-make-mistakes-in-python.csp?intcmp=il-prog-free-product-lgen_python_mistakes\n",
      "Description:  Even the best programmers make mistakes, and experienced programmer Mike Pirnat has made his share during 15+ years with Python. Some have been simple and silly; others were embarrassing and downright costly. In this O'Reilly ebook, he dissects some of his most memorable blunders, peeling them back layer-by-layer to reveal just what went wrong.\n",
      "\n",
      "\n",
      "Title:  Functional Programming in Python\n",
      "URL:  http://www.oreilly.com/programming/free/functional-programming-python.csp?intcmp=il-prog-free-product-lgen_functional_python\n",
      "Description:  Python is not a functional programming language, but it is a multi-paradigm language that makes functional programming easy to perform, and easy to mix with other programming styles. In this paper, David Mertz, a director of Python Software Foundation, examines the functional aspects of the language and points out which options work well and which ones you should generally decline.\n",
      "\n",
      "\n",
      "Title:  Python in Education\n",
      "URL:  http://www.oreilly.com/programming/free/python-in-education.csp?intcmp=il-prog-free-product-lgen_python_in_ed\n",
      "Description:  You’ve probably heard about the computing revolution in schools, and perhaps you’ve even heard of Raspberry Pi. The Python programming language is at the center of these fundamental changes in computing education. Whether you’re a programmer, teacher, student, or parent, this ebook arms you with the facts and information you need to understand where Python sits within this context.\n",
      "\n",
      "\n",
      "Title:  Picking a Python Version: A Manifesto\n",
      "URL:  http://www.oreilly.com/programming/free/from-future-import-python.csp?intcmp=il-prog-free-product-lgen_picking_python\n",
      "Description:  This ebook guides you through the implicit decision tree of choosing what Python version, implementation, and distribution is best suited for you. It weighs and discusses the merits of each of these choices, and briefly discusses the reasons each option exists.\n",
      "\n",
      "\n",
      "Title:  What's New in Swift 3\n",
      "URL:  http://www.oreilly.com/programming/free/whats-new-in-swift-3.csp\n",
      "Description:  Swift 3 is the first significant release since Apple’s heralded programming language became an open source project in late 2015. In this report, Jon Manning, Paris Buttfield-Addison, and Tim Nugent—authors of Learning Swift—provide a tour of Swift 3 and its growing ecosystem. You’ll learn about the language’s most impactful and interesting new features, and explore Swift’s use on non-Apple platforms.\n",
      "\n",
      "\n",
      "Title:  Why Reactive? Foundational Principles for Enterprise Adoption\n",
      "URL:  http://www.oreilly.com/programming/free/why-reactive.csp\n",
      "Description:  It’s often difficult to separate hype from reality when it comes to evaluating new technologies, and that’s certainly true of reactive programming. In this report, author Konrad Malawski analyzes reactive principles, and explains how and when it makes sense to adopt this relatively new programming paradigm for systems design.\n",
      "\n",
      "\n",
      "Title:  Using Blocks in Ruby: A Brain-Friendly Report\n",
      "URL:  http://www.oreilly.com/programming/free/using-blocks-in-ruby.csp\n",
      "Description:  Unannounced and unmarked, blocks turn up all over Ruby programs. Their use ranges from some of Ruby’s most basic structures, such as loops, to some of its most sophisticated tricks. Similar to closures or lambdas in other languages, blocks enable some of Ruby’s vaunted efficiency. Blocks even allow other people to write some of the code you use.\n",
      "\n",
      "\n",
      "Title:  Fintech, Open Source, and Emerging Markets: Digital Banking for Everyone\n",
      "URL:  http://www.oreilly.com/programming/free/fintech-open-source-and-emerging-tech.csp\n",
      "Description:  This report examines the multifaceted role of FinTech in emerging economies, where billions of people live at the lower tier of the economic pyramid—especially in Africa. You’ll discover why countries such as Kenya and Tanzania offer incredible market opportunities for FinTech investors, startups, and developers right now.\n",
      "\n",
      "\n",
      "Title:  Practical C++ Metaprogramming: Modern Techniques for Accelerated Development\n",
      "URL:  http://www.oreilly.com/programming/free/practical-c-plus-plus-metaprogramming.csp\n",
      "Description:  Authors Edouard Alligand and Joel Falcou show you how the process works and what it takes to build and apply a basic metaprogramming toolbox.\n",
      "\n",
      "\n",
      "Title:  Real-World Maintainable Software: Ten Coding Guidelines in Practice\n",
      "URL:  http://www.oreilly.com/programming/free/real-world-maintainable-software.csp\n",
      "Description:  The software development industry is increasingly realizing that success depends on a project’s long-term viability. To help with that effort, the Software Improvement Group (SIG) has identified ten guidelines for delivering code that’s easy to maintain and adapt over time.\n",
      "\n",
      "\n",
      "Title:  Trends Shaping the London Tech Scene\n",
      "URL:  http://www.oreilly.com/programming/free/trends-shaping-the-london-tech-scene.csp?intcmp=il-prog-free-product-trends_shaping_the_london_tech_scene\n",
      "Description:  London has been a world leader in finance, journalism, trade, the arts, and government for ages, but you don’t hear much about computer technology. With this report, you’ll learn that the city’s tech scene over the past decade has not only pervaded all of its world-leading activities, it’s also created a vibrant, independent business environment of its own. Author Andy Oram, Senior Editor at O’Reilly, provides a comprehensive view of the London tech scene—where it stands, what feeds its strengths, and who is participating.\n",
      "\n",
      "\n",
      "Title:  2016 European Software Development Salary Survey\n",
      "URL:  http://www.oreilly.com/programming/free/2016-european-software-development-salary-survey.csp?intcmp=il-prog-free-product-european_software_development_salary_survey\n",
      "Description:  Of the more than 5,000 participants in O’Reilly Media’s 2016 Software Development Salary Survey, 1,353 software engineers, developers, and other programming professionals live and work in Europe. This report includes complete survey results from those respondents, including participants in organizations both large and small, and from a wide variety of industries. You’ll learn about the current state of software development—and the careers that propel it—across Europe today.\n",
      "\n",
      "\n",
      "Title:  2016 Software Development Salary Survey\n",
      "URL:  http://www.oreilly.com/programming/free/2016-software-development-salary-survey-report.csp?intcmp=il-prog-free-product-software_development_salary_survey\n",
      "Description:  Early this year, more than 5000 software engineers, developers, and other programming professionals participated in O’Reilly Media’s first Software Development Salary Survey. Participants included professionals from large and small companies in a variety of industries across 51 countries and all 50 US states. With the complete survey results in this in-depth ebook, you’ll be able to explore the world of software development—and the careers that propel it—in great detail.\n",
      "\n",
      "\n",
      "Title:  Why Rust?\n",
      "URL:  http://www.oreilly.com/programming/free/why-rust.csp?intcmp=il-prog-free-product-lgen_why_rust\n",
      "Description:  This O’Reilly ebook examines Rust, a new systems programming language that combines safety and security with performance on a par with C and C++. Author Jim Blandy from Mozilla explains how Rust achieves this combination via a sophisticated and flexible type system, working together with a novel “borrow checker.”\n",
      "\n",
      "\n",
      "Title:  C++ Today\n",
      "URL:  http://www.oreilly.com/programming/free/c++-today.csp?intcmp=il-prog-free-product-lgen_cpp_today\n",
      "Description:  Now that software development is shifting primarily toward mobile and cloud computing, the venerable C++ programming language is returning to the dominant position it held during the object-oriented boom of the 1990s. In this O’Reilly ebook, you’ll learn why C++ is once again the preferred choice across several diverse industries, after taking a backseat to Java during the 2000s.\n",
      "\n",
      "\n",
      "Title:  RxJava for Android App Development\n",
      "URL:  http://www.oreilly.com/programming/free/rxjava-for-android-app-development.csp?intcmp=il-prog-free-product-lgen_rxjava\n",
      "Description:  RxJava is hot property among experienced Android developers these days, but this powerful library for handling asynchronous data in Android apps can be difficult to learn. In this O'Reilly ebook, mobile software engineer Matt Dupree introduces you to RxJava basics and then uses a real-world scenario to demonstrate how this library makes quick work of tasks that can often become messy and inflexible.\n",
      "\n",
      "\n",
      "Title:  Swift Pocket Reference: Programming for iOS and OS X\n",
      "URL:  http://www.oreilly.com/programming/free/swift-pocket-reference.csp\n",
      "Description:  Get quick answers for developing and debugging applications with Swift, Apple’s multi-paradigm programming language. Updated to cover the latest features in Swift 2.0, this pocket reference is the perfect on-the-job tool for learning Swift’s modern language features, including type safety, generics, type inference, closures, tuples, automatic memory management, and support for Unicode.\n",
      "\n",
      "\n",
      "Title:  Open Source in Brazil: Growing Despite Barriers\n",
      "URL:  http://www.oreilly.com/programming/free/open-source-in-brazil.csp\n",
      "Description:  In this report, author Andy Oram explores the many trends in business, education, and government that have contributed to the current state of open source activity in Brazil. You’ll explore the country’s open source community, its free software movements, business and workforce involvement, and problems in education.\n",
      "\n",
      "\n",
      "Title:  Ten Steps to Linux Survival\n",
      "URL:  http://www.oreilly.com/programming/free/ten-steps-to-linux-survival.csp\n",
      "Description:  Linux systems are everywhere today, even in companies once considered “pure Windows.” If you’re a sysadmin, network administrator, or developer in a small Windows shop, you may have to jump in and fix a system problem when your site goes down. What if you have no Linux knowledge? This short guide provides tips to help you survive.\n",
      "\n",
      "\n",
      "Title:  Open by Design\n",
      "URL:  http://www.oreilly.com/programming/free/open-by-design.csp\n",
      "Description:  Today’s open source, managed by open governance and collaborative foundations, is fueling a developer revolution across worldwide communities working to conquer the next computing challenge—the cloud. Proprietary clouds and cloud ecosystems are being superseded by open source collaborations across the industry, such as Docker, OpenStack, and Cloud Foundry.\n",
      "\n",
      "\n",
      "Title:  Getting Started with InnerSource\n",
      "URL:  http://www.oreilly.com/programming/free/getting-started-with-innersource.csp?intcmp=il-prog-free-product-lgen_innersource\n",
      "Description:  Welcome to InnerSource, the powerful movement for developing open source software within the walls of a single organization, where the 'openness' of a project extends across teams inside the company. In this ebook, O’Reilly editor and author Andy Oram takes you inside InnerSource, first by reviewing the principles that make open source development successful, and then by describing how InnerSource has worked at PayPal, the leading Internet commerce facilitator.\n",
      "\n",
      "\n",
      "Title:  What Is Serverless?\n",
      "URL:  http://www.oreilly.com/programming/free/what-is-serverless.csp\n",
      "Description:  Authors Mike Roberts and John Chapin, co-founders of the Symphonia Serverless and cloud technology consultancy, take you through the Serverless landscape—particularly the design considerations, tooling, and approaches to operational management you need to make it work. Is Serverless the right choice for you and your team? Dive into this report and find out.\n",
      "\n",
      "\n",
      "Title:  Microservices in Production: Standard Principles and Requirements\n",
      "URL:  http://www.oreilly.com/programming/free/microservices-in-production.csp\n",
      "Description:  In this report, author Susan Fowler looks at lessons learned from driving a production-readiness initiative across Uber’s more than one thousand microservices. You’ll explore eight production-readiness requirements that she and her fellow SREs at Uber adopted after countless hours of research inside and outside the company.\n",
      "\n",
      "\n",
      "Title:  Developing Reactive Microservices\n",
      "URL:  https://info.lightbend.com/COLL-20XX-Developing-Reactive-Microservices_Landing-Page.html?lst=OR\n",
      "Description:  In this O’Reilly report, author Markus Eisele walks Java developers through the creation of a complete reactive microservices-based system. You’ll learn that while microservices are not new, the way in which these independent services can be distributed and connected back together certainly is.\n",
      "\n",
      "\n",
      "Title:  Microservices AntiPatterns and Pitfalls\n",
      "URL:  http://www.oreilly.com/programming/free/microservices-antipatterns-and-pitfalls.csp\n",
      "Description:  Remember when service-oriented architecture (SOA) was all the rage? Companies jumped in before fully understanding SOA's advantages and disadvantages, and struggled to make this complex architecture work. Today, we're poised to repeat this same experience with microservices—only this time we're prepared. With this concise ebook, author Mark Richards walks you through the ten most common microservice anti-patterns and pitfalls, and provides solutions for avoiding them.\n",
      "\n",
      "\n",
      "Title:  Microservices vs. Service-Oriented Architecture\n",
      "URL:  http://www.oreilly.com/programming/free/microservices-vs-service-oriented-architecture.csp\n",
      "Description:  In this ebook, Mark Richards, an expert in enterprise architectures and distributed systems, walks you through a detailed comparison of microservices and SOA. By learning the core differences between the two with regard to architecture style and characteristics, service characteristics, and capability, you’ll be able to make an informed choice when determining which is best for your particular situation.\n",
      "\n",
      "\n",
      "Title:  Evolving Architectures of FinTech: Structuring a New Generation of Financial Services with Modular Software and Agile Development Strategies\n",
      "URL:  http://www.oreilly.com/programming/free/evolving-architectures-of-fintech.csp?intcmp=il-prog-free-product-lgen_evolving_architectures_fintech\n",
      "Description:  Through interviews with financial, technology, and legal experts, author Mike Barlow explores efforts to make financial services platforms more developer-friendly.\n",
      "\n",
      "\n",
      "Title:  Software Architecture Patterns\n",
      "URL:  http://www.oreilly.com/programming/free/software-architecture-patterns.csp?intcmp=il-prog-free-product-lgen_sa_patterns\n",
      "Description:  The success of any application or system depends on the architecture pattern you use. By describing the overall characteristics of the architecture, these patterns not only guide designers and developers on how to design components, but also determine the ways in which those components should interact.\n",
      "\n",
      "\n",
      "Title:  Migrating to Cloud-Native Application Architectures\n",
      "URL:  http://www.oreilly.com/programming/free/migrating-cloud-native-application-architectures.csp?intcmp=il-prog-free-product-lgen_cloud_native_aa\n",
      "Description:  Adoption of cloud-native application architectures is helping many organizations transform their IT into a force for true agility in the marketplace. This O’Reilly ebook defines the unique characteristics of cloud-native application architectures such as microservices and twelve-factor applications.\n",
      "\n",
      "\n",
      "Title:  Reactive Microservices Architecture: Design Principles for Distributed Systems\n",
      "URL:  http://www.oreilly.com/programming/free/reactive-microservices-architecture-orm.csp\n",
      "Description:  In this concise book, Lightbend CTO Jonas Bonér explains why microservice-based architecture that consists of small, independent services is far more flexible than the traditional all-in-one systems that continue to dominate today’s enterprise landscape.\n",
      "\n",
      "\n"
     ]
    }
   ],
   "source": [
    "for i in range(len(free_programming_books_data)):\n",
    "    tag = free_programming_books_data[i]\n",
    "    print('Title: ', tag['data-original-title'])\n",
    "    print('URL: ', tag['href'])\n",
    "    print('Description: ', tag['data-content'])\n",
    "    print(\"\\n\")"
   ]
  },
  {
   "cell_type": "code",
   "execution_count": 16,
   "metadata": {},
   "outputs": [
    {
     "name": "stderr",
     "output_type": "stream",
     "text": [
      "/tmp/ipykernel_11985/904173150.py:14: FutureWarning: As the xlwt package is no longer maintained, the xlwt engine will be removed in a future version of pandas. This is the only engine in pandas that supports writing in the xls format. Install openpyxl and write to an xlsx file instead. You can set the option io.excel.xls.writer to 'xlwt' to silence this warning. While this option is deprecated and will also raise a warning, it can be globally set and the warning suppressed.\n",
      "  dfsave.to_excel(\"books.xls\")\n"
     ]
    },
    {
     "ename": "ModuleNotFoundError",
     "evalue": "No module named 'xlwt'",
     "output_type": "error",
     "traceback": [
      "\u001b[0;31m---------------------------------------------------------------------------\u001b[0m",
      "\u001b[0;31mModuleNotFoundError\u001b[0m                       Traceback (most recent call last)",
      "Input \u001b[0;32mIn [16]\u001b[0m, in \u001b[0;36m<cell line: 14>\u001b[0;34m()\u001b[0m\n\u001b[1;32m     10\u001b[0m     dfsave\u001b[38;5;241m.\u001b[39mloc[i, \u001b[38;5;124m\"\u001b[39m\u001b[38;5;124mDescription\u001b[39m\u001b[38;5;124m\"\u001b[39m]\u001b[38;5;241m=\u001b[39mtag[\u001b[38;5;124m'\u001b[39m\u001b[38;5;124mdata-content\u001b[39m\u001b[38;5;124m'\u001b[39m]\n\u001b[1;32m     11\u001b[0m     \u001b[38;5;66;03m#    print('URL: ', tag['href'])\u001b[39;00m\n\u001b[1;32m     12\u001b[0m \u001b[38;5;66;03m#    print('Description: ', tag['data-content'])\u001b[39;00m\n\u001b[0;32m---> 14\u001b[0m \u001b[43mdfsave\u001b[49m\u001b[38;5;241;43m.\u001b[39;49m\u001b[43mto_excel\u001b[49m\u001b[43m(\u001b[49m\u001b[38;5;124;43m\"\u001b[39;49m\u001b[38;5;124;43mbooks.xls\u001b[39;49m\u001b[38;5;124;43m\"\u001b[39;49m\u001b[43m)\u001b[49m\n",
      "File \u001b[0;32m~/anaconda3/lib/python3.9/site-packages/pandas/core/generic.py:2345\u001b[0m, in \u001b[0;36mNDFrame.to_excel\u001b[0;34m(self, excel_writer, sheet_name, na_rep, float_format, columns, header, index, index_label, startrow, startcol, engine, merge_cells, encoding, inf_rep, verbose, freeze_panes, storage_options)\u001b[0m\n\u001b[1;32m   2332\u001b[0m \u001b[38;5;28;01mfrom\u001b[39;00m \u001b[38;5;21;01mpandas\u001b[39;00m\u001b[38;5;21;01m.\u001b[39;00m\u001b[38;5;21;01mio\u001b[39;00m\u001b[38;5;21;01m.\u001b[39;00m\u001b[38;5;21;01mformats\u001b[39;00m\u001b[38;5;21;01m.\u001b[39;00m\u001b[38;5;21;01mexcel\u001b[39;00m \u001b[38;5;28;01mimport\u001b[39;00m ExcelFormatter\n\u001b[1;32m   2334\u001b[0m formatter \u001b[38;5;241m=\u001b[39m ExcelFormatter(\n\u001b[1;32m   2335\u001b[0m     df,\n\u001b[1;32m   2336\u001b[0m     na_rep\u001b[38;5;241m=\u001b[39mna_rep,\n\u001b[0;32m   (...)\u001b[0m\n\u001b[1;32m   2343\u001b[0m     inf_rep\u001b[38;5;241m=\u001b[39minf_rep,\n\u001b[1;32m   2344\u001b[0m )\n\u001b[0;32m-> 2345\u001b[0m \u001b[43mformatter\u001b[49m\u001b[38;5;241;43m.\u001b[39;49m\u001b[43mwrite\u001b[49m\u001b[43m(\u001b[49m\n\u001b[1;32m   2346\u001b[0m \u001b[43m    \u001b[49m\u001b[43mexcel_writer\u001b[49m\u001b[43m,\u001b[49m\n\u001b[1;32m   2347\u001b[0m \u001b[43m    \u001b[49m\u001b[43msheet_name\u001b[49m\u001b[38;5;241;43m=\u001b[39;49m\u001b[43msheet_name\u001b[49m\u001b[43m,\u001b[49m\n\u001b[1;32m   2348\u001b[0m \u001b[43m    \u001b[49m\u001b[43mstartrow\u001b[49m\u001b[38;5;241;43m=\u001b[39;49m\u001b[43mstartrow\u001b[49m\u001b[43m,\u001b[49m\n\u001b[1;32m   2349\u001b[0m \u001b[43m    \u001b[49m\u001b[43mstartcol\u001b[49m\u001b[38;5;241;43m=\u001b[39;49m\u001b[43mstartcol\u001b[49m\u001b[43m,\u001b[49m\n\u001b[1;32m   2350\u001b[0m \u001b[43m    \u001b[49m\u001b[43mfreeze_panes\u001b[49m\u001b[38;5;241;43m=\u001b[39;49m\u001b[43mfreeze_panes\u001b[49m\u001b[43m,\u001b[49m\n\u001b[1;32m   2351\u001b[0m \u001b[43m    \u001b[49m\u001b[43mengine\u001b[49m\u001b[38;5;241;43m=\u001b[39;49m\u001b[43mengine\u001b[49m\u001b[43m,\u001b[49m\n\u001b[1;32m   2352\u001b[0m \u001b[43m    \u001b[49m\u001b[43mstorage_options\u001b[49m\u001b[38;5;241;43m=\u001b[39;49m\u001b[43mstorage_options\u001b[49m\u001b[43m,\u001b[49m\n\u001b[1;32m   2353\u001b[0m \u001b[43m\u001b[49m\u001b[43m)\u001b[49m\n",
      "File \u001b[0;32m~/anaconda3/lib/python3.9/site-packages/pandas/io/formats/excel.py:888\u001b[0m, in \u001b[0;36mExcelFormatter.write\u001b[0;34m(self, writer, sheet_name, startrow, startcol, freeze_panes, engine, storage_options)\u001b[0m\n\u001b[1;32m    884\u001b[0m     need_save \u001b[38;5;241m=\u001b[39m \u001b[38;5;28;01mFalse\u001b[39;00m\n\u001b[1;32m    885\u001b[0m \u001b[38;5;28;01melse\u001b[39;00m:\n\u001b[1;32m    886\u001b[0m     \u001b[38;5;66;03m# error: Cannot instantiate abstract class 'ExcelWriter' with abstract\u001b[39;00m\n\u001b[1;32m    887\u001b[0m     \u001b[38;5;66;03m# attributes 'engine', 'save', 'supported_extensions' and 'write_cells'\u001b[39;00m\n\u001b[0;32m--> 888\u001b[0m     writer \u001b[38;5;241m=\u001b[39m \u001b[43mExcelWriter\u001b[49m\u001b[43m(\u001b[49m\u001b[43m  \u001b[49m\u001b[38;5;66;43;03m# type: ignore[abstract]\u001b[39;49;00m\n\u001b[1;32m    889\u001b[0m \u001b[43m        \u001b[49m\u001b[43mwriter\u001b[49m\u001b[43m,\u001b[49m\u001b[43m \u001b[49m\u001b[43mengine\u001b[49m\u001b[38;5;241;43m=\u001b[39;49m\u001b[43mengine\u001b[49m\u001b[43m,\u001b[49m\u001b[43m \u001b[49m\u001b[43mstorage_options\u001b[49m\u001b[38;5;241;43m=\u001b[39;49m\u001b[43mstorage_options\u001b[49m\n\u001b[1;32m    890\u001b[0m \u001b[43m    \u001b[49m\u001b[43m)\u001b[49m\n\u001b[1;32m    891\u001b[0m     need_save \u001b[38;5;241m=\u001b[39m \u001b[38;5;28;01mTrue\u001b[39;00m\n\u001b[1;32m    893\u001b[0m \u001b[38;5;28;01mtry\u001b[39;00m:\n",
      "File \u001b[0;32m~/anaconda3/lib/python3.9/site-packages/pandas/io/excel/_xlwt.py:39\u001b[0m, in \u001b[0;36mXlwtWriter.__init__\u001b[0;34m(self, path, engine, date_format, datetime_format, encoding, mode, storage_options, if_sheet_exists, engine_kwargs, **kwargs)\u001b[0m\n\u001b[1;32m     25\u001b[0m \u001b[38;5;28;01mdef\u001b[39;00m \u001b[38;5;21m__init__\u001b[39m(\n\u001b[1;32m     26\u001b[0m     \u001b[38;5;28mself\u001b[39m,\n\u001b[1;32m     27\u001b[0m     path,\n\u001b[0;32m   (...)\u001b[0m\n\u001b[1;32m     37\u001b[0m ):\n\u001b[1;32m     38\u001b[0m     \u001b[38;5;66;03m# Use the xlwt module as the Excel writer.\u001b[39;00m\n\u001b[0;32m---> 39\u001b[0m     \u001b[38;5;28;01mimport\u001b[39;00m \u001b[38;5;21;01mxlwt\u001b[39;00m\n\u001b[1;32m     41\u001b[0m     engine_kwargs \u001b[38;5;241m=\u001b[39m combine_kwargs(engine_kwargs, kwargs)\n\u001b[1;32m     43\u001b[0m     \u001b[38;5;28;01mif\u001b[39;00m mode \u001b[38;5;241m==\u001b[39m \u001b[38;5;124m\"\u001b[39m\u001b[38;5;124ma\u001b[39m\u001b[38;5;124m\"\u001b[39m:\n",
      "\u001b[0;31mModuleNotFoundError\u001b[0m: No module named 'xlwt'"
     ]
    }
   ],
   "source": [
    "import pandas as pd\n",
    "\n",
    "dfsave=pd.DataFrame(columns=['Title', 'URL', 'Description'])\n",
    "\n",
    "\n",
    "for i in range(len(free_programming_books_data)):\n",
    "    tag = free_programming_books_data[i]\n",
    "    dfsave.loc[i,\"Title\"]=tag['data-original-title']\n",
    "    dfsave.loc[i,\"URL\"]=tag['href']\n",
    "    dfsave.loc[i, \"Description\"]=tag['data-content']\n",
    "    #    print('URL: ', tag['href'])\n",
    "#    print('Description: ', tag['data-content'])\n",
    "\n",
    "dfsave.to_excel(\"books.xls\")"
   ]
  },
  {
   "cell_type": "markdown",
   "metadata": {
    "collapsed": true
   },
   "source": [
    "### Open the Excel and see the file created"
   ]
  },
  {
   "cell_type": "markdown",
   "metadata": {
    "collapsed": true
   },
   "source": [
    "<center>\n",
    "  <a href=\"11.1-working-with-databases.ipynb\">Previous Page</a> | <a href=\"./\">Content Page</a> | <a href=\"12.1.A(I)-Getting%20Real%20time%20Data.ipynb\">Activity: Get Real-Time Currency</a></center>\n",
    "</center>"
   ]
  },
  {
   "cell_type": "code",
   "execution_count": null,
   "metadata": {},
   "outputs": [],
   "source": []
  },
  {
   "cell_type": "code",
   "execution_count": null,
   "metadata": {},
   "outputs": [],
   "source": []
  },
  {
   "cell_type": "code",
   "execution_count": null,
   "metadata": {},
   "outputs": [],
   "source": []
  }
 ],
 "metadata": {
  "kernelspec": {
   "display_name": "Python 3 (ipykernel)",
   "language": "python",
   "name": "python3"
  },
  "language_info": {
   "codemirror_mode": {
    "name": "ipython",
    "version": 3
   },
   "file_extension": ".py",
   "mimetype": "text/x-python",
   "name": "python",
   "nbconvert_exporter": "python",
   "pygments_lexer": "ipython3",
   "version": "3.9.12"
  }
 },
 "nbformat": 4,
 "nbformat_minor": 2
}
