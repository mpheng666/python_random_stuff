{
 "cells": [
  {
   "cell_type": "markdown",
   "metadata": {},
   "source": [
    "# Guess: Exercise"
   ]
  },
  {
   "cell_type": "code",
   "execution_count": null,
   "metadata": {
    "collapsed": true
   },
   "outputs": [],
   "source": [
    "import random\n",
    "guessNumber = random.randint(1, 100)\n",
    "\n",
    "\n",
    "print(\"Guess a number between 1 and 100.  You are given 8 chances\")\n",
    "for chances in range(1, 9):\n",
    "    print(\"Attempt \" + str(chances) + \"! Please take a guess.\")\n",
    "    guess = int(input())\n",
    "    if guess ___ guessNumber: #Replace less than\n",
    "        print(\"Unfortunately, your guess is wrong.  Your number is too low.\")\n",
    "    elif guess ___ guessNumber: #greater than\n",
    "        print(\"Unfortunately, your guess is wrong.  Your number is too high.\")\n",
    "    else:\n",
    "        _____ #what should we do if correct ?  break or continue?\n"
   ]
  },
  {
   "cell_type": "code",
   "execution_count": null,
   "metadata": {
    "collapsed": true
   },
   "outputs": [],
   "source": [
    "\t\t\n",
    "if guess _____ guessNumber: # if you guess correctly (the same, equal)?\n",
    "    print(\"Great! You managed to to guess the number in \" + str(chances) + \" guesses!\")\n",
    "else:\n",
    "    print(\"The number was \" + str(guessNumber) + \".  Sorry, you did not manage to guess the number after 8 attempt.  Please try again\")"
   ]
  }
 ],
 "metadata": {
  "kernelspec": {
   "display_name": "Python 3",
   "language": "python",
   "name": "python3"
  },
  "language_info": {
   "codemirror_mode": {
    "name": "ipython",
    "version": 3
   },
   "file_extension": ".py",
   "mimetype": "text/x-python",
   "name": "python",
   "nbconvert_exporter": "python",
   "pygments_lexer": "ipython3",
   "version": "3.6.4"
  }
 },
 "nbformat": 4,
 "nbformat_minor": 2
}
