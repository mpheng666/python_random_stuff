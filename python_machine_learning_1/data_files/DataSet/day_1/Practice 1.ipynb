{
 "cells": [
  {
   "cell_type": "markdown",
   "id": "e965bedb",
   "metadata": {},
   "source": [
    "## Question 1\n",
    "### Develop a Python program to print the multiplications table from 1x1 to 10x10. Consider a nice tabular format, possibly with separators."
   ]
  },
  {
   "cell_type": "code",
   "execution_count": 15,
   "id": "335978f5",
   "metadata": {
    "scrolled": true
   },
   "outputs": [
    {
     "name": "stdout",
     "output_type": "stream",
     "text": [
      "    1     2     3     4     5     6     7     8     9    10 \n",
      "    2     4     6     8    10    12    14    16    18    20 \n",
      "    3     6     9    12    15    18    21    24    27    30 \n",
      "    4     8    12    16    20    24    28    32    36    40 \n",
      "    5    10    15    20    25    30    35    40    45    50 \n",
      "    6    12    18    24    30    36    42    48    54    60 \n",
      "    7    14    21    28    35    42    49    56    63    70 \n",
      "    8    16    24    32    40    48    56    64    72    80 \n",
      "    9    18    27    36    45    54    63    72    81    90 \n",
      "   10    20    30    40    50    60    70    80    90   100 \n"
     ]
    }
   ],
   "source": [
    "for col in range(1, 11):\n",
    "    for row in range(1, 11):\n",
    "        print(f\"{row*col:5}\", end=\" \")\n",
    "    print()"
   ]
  },
  {
   "cell_type": "markdown",
   "id": "2f79dd5a",
   "metadata": {},
   "source": [
    "## Question 2\n",
    "### Write a Python program that reads 3 numbers from the keyboard and checks if they can be sides of a rectangular triangle or not. (a** == b**+c**) ?? "
   ]
  },
  {
   "cell_type": "code",
   "execution_count": 17,
   "id": "9db4b79c",
   "metadata": {},
   "outputs": [
    {
     "name": "stdout",
     "output_type": "stream",
     "text": [
      "Please input number 1\n",
      "5\n",
      "Please input number 2\n",
      "4\n",
      "Please input number 3\n",
      "3\n",
      "True\n"
     ]
    }
   ],
   "source": [
    "inputs = []\n",
    "for i in range(1,4):\n",
    "    print(\"Please input number\", i)\n",
    "    inp = input(\"\")\n",
    "    inputs.append(int(inp))\n",
    "inputs.sort()\n",
    "if((inputs[2]**2) == (inputs[1]**2 + inputs[0]**2)):\n",
    "    print(\"True\")\n",
    "else:\n",
    "    print(\"False\")\n"
   ]
  },
  {
   "cell_type": "code",
   "execution_count": null,
   "id": "1043dbeb",
   "metadata": {},
   "outputs": [],
   "source": []
  }
 ],
 "metadata": {
  "kernelspec": {
   "display_name": "Python 3 (ipykernel)",
   "language": "python",
   "name": "python3"
  },
  "language_info": {
   "codemirror_mode": {
    "name": "ipython",
    "version": 3
   },
   "file_extension": ".py",
   "mimetype": "text/x-python",
   "name": "python",
   "nbconvert_exporter": "python",
   "pygments_lexer": "ipython3",
   "version": "3.9.12"
  }
 },
 "nbformat": 4,
 "nbformat_minor": 5
}
