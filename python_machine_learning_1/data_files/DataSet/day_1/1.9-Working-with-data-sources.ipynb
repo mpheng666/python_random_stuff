{
 "cells": [
  {
   "cell_type": "markdown",
   "metadata": {
    "collapsed": true
   },
   "source": [
    "# Working with Data Sources\n",
    "\n",
    "In this section, we will explore how to access and work with data from various sources. Although there are numerous tools and packages (including from the Python Standard Library), we are going to focus on just using the `pandas` library for reading and writing data.\n",
    "\n",
    "Reading and writing data usually falls into a few categories as follows:\n",
    "\n",
    "1. Reading text and other on-disk formats including Excel and CSVs.\n",
    "2. Loading data from databases.\n",
    "3. Interacting with data sources from the network like web pages and APIs.\n"
   ]
  },
  {
   "cell_type": "markdown",
   "metadata": {},
   "source": [
    "<center>\n",
    "  <a href=\"1.8-Modules-and-Classes.ipynb\">Previous Page</a> | <a href=\"./\">Content Page</a> | <a href=\"10.1-Working-with-text-files.ipynb\">Next Page</a></center>\n",
    "</center>"
   ]
  },
  {
   "cell_type": "code",
   "execution_count": null,
   "metadata": {
    "collapsed": true
   },
   "outputs": [],
   "source": []
  }
 ],
 "metadata": {
  "kernelspec": {
   "display_name": "Python 3",
   "language": "python",
   "name": "python3"
  },
  "language_info": {
   "codemirror_mode": {
    "name": "ipython",
    "version": 3
   },
   "file_extension": ".py",
   "mimetype": "text/x-python",
   "name": "python",
   "nbconvert_exporter": "python",
   "pygments_lexer": "ipython3",
   "version": "3.6.6"
  }
 },
 "nbformat": 4,
 "nbformat_minor": 2
}
